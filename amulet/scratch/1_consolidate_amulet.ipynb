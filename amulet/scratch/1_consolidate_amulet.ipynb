{
 "cells": [
  {
   "attachments": {},
   "cell_type": "markdown",
   "metadata": {},
   "source": [
    "# Consolidate AMULET outputs into a single doublet list\n",
    "**Author**: Adam Klie (last modified: 11/06/2023)<br>\n",
    "***\n",
    "**Description**: This script concatenates all the amulet outputs to a single file"
   ]
  },
  {
   "cell_type": "code",
   "execution_count": 1,
   "metadata": {},
   "outputs": [],
   "source": [
    "import os\n",
    "import glob\n",
    "import pandas as pd"
   ]
  },
  {
   "cell_type": "code",
   "execution_count": 2,
   "metadata": {},
   "outputs": [],
   "source": [
    "base_dir = \"/cellar/users/aklie/data/datasets/igvf_sc-islet_10X-Multiome/annotation/04Oct23\""
   ]
  },
  {
   "cell_type": "code",
   "execution_count": 5,
   "metadata": {},
   "outputs": [
    {
     "data": {
      "text/plain": [
       "(['/cellar/users/aklie/data/datasets/igvf_sc-islet_10X-Multiome/annotation/04Oct23/igvf_mo14_deep/MultipletBarcodes_01.txt',\n",
       "  '/cellar/users/aklie/data/datasets/igvf_sc-islet_10X-Multiome/annotation/04Oct23/igvf_mo38_deep/MultipletBarcodes_01.txt',\n",
       "  '/cellar/users/aklie/data/datasets/igvf_sc-islet_10X-Multiome/annotation/04Oct23/igvf_dm24a_deep/MultipletBarcodes_01.txt',\n",
       "  '/cellar/users/aklie/data/datasets/igvf_sc-islet_10X-Multiome/annotation/04Oct23/igvf_dm21a_deep/MultipletBarcodes_01.txt',\n",
       "  '/cellar/users/aklie/data/datasets/igvf_sc-islet_10X-Multiome/annotation/04Oct23/igvf_mo26_deep/MultipletBarcodes_01.txt'],\n",
       " 27)"
      ]
     },
     "execution_count": 5,
     "metadata": {},
     "output_type": "execute_result"
    }
   ],
   "source": [
    "amulet_bc_paths = glob.glob(os.path.join(base_dir, \"*\", \"MultipletBarcodes_01.txt\"))\n",
    "amulet_bc_paths[:5], len(amulet_bc_paths)"
   ]
  },
  {
   "cell_type": "code",
   "execution_count": 8,
   "metadata": {},
   "outputs": [
    {
     "data": {
      "text/plain": [
       "(['mo14#CTAGTGAGTGTAACCA-1',\n",
       "  'mo14#TATGGCCCATTGTGCA-1',\n",
       "  'mo14#TTAATCGAGAGGGACT-1',\n",
       "  'mo14#AACATAGCATAGCGAG-1',\n",
       "  'mo14#TGGTGCATCCGCACAA-1'],\n",
       " 14122)"
      ]
     },
     "execution_count": 8,
     "metadata": {},
     "output_type": "execute_result"
    }
   ],
   "source": [
    "amulet_bcs = []\n",
    "for path in amulet_bc_paths:\n",
    "    sample = path.split(\"/\")[-2].split(\"_\")[1]\n",
    "    curr_bcs = pd.read_csv(path, sep=\"\\t\", header=None)[0].tolist()\n",
    "    curr_bcs = [sample + \"#\" + bc for bc in curr_bcs]\n",
    "    amulet_bcs.extend(curr_bcs)\n",
    "amulet_bcs[:5], len(amulet_bcs)"
   ]
  },
  {
   "cell_type": "code",
   "execution_count": 13,
   "metadata": {},
   "outputs": [],
   "source": [
    "with open(\"/cellar/users/aklie/data/datasets/igvf_sc-islet_10X-Multiome/annotation/06Nov23/amulet/amulet_bcs_archr.txt\", \"w\") as f:\n",
    "    f.write(\"\\n\".join(amulet_bcs))"
   ]
  },
  {
   "attachments": {},
   "cell_type": "markdown",
   "metadata": {},
   "source": [
    "# Test out on ArchR"
   ]
  },
  {
   "attachments": {},
   "cell_type": "markdown",
   "metadata": {},
   "source": [
    "b\n"
   ]
  },
  {
   "cell_type": "code",
   "execution_count": 16,
   "metadata": {},
   "outputs": [
    {
     "data": {
      "text/html": [
       "<div>\n",
       "<style scoped>\n",
       "    .dataframe tbody tr th:only-of-type {\n",
       "        vertical-align: middle;\n",
       "    }\n",
       "\n",
       "    .dataframe tbody tr th {\n",
       "        vertical-align: top;\n",
       "    }\n",
       "\n",
       "    .dataframe thead th {\n",
       "        text-align: right;\n",
       "    }\n",
       "</style>\n",
       "<table border=\"1\" class=\"dataframe\">\n",
       "  <thead>\n",
       "    <tr style=\"text-align: right;\">\n",
       "      <th></th>\n",
       "      <th>Sample</th>\n",
       "      <th>TSSEnrichment</th>\n",
       "      <th>ReadsInTSS</th>\n",
       "      <th>ReadsInPromoter</th>\n",
       "      <th>ReadsInBlacklist</th>\n",
       "      <th>PromoterRatio</th>\n",
       "      <th>PassQC</th>\n",
       "      <th>NucleosomeRatio</th>\n",
       "      <th>nMultiFrags</th>\n",
       "      <th>nMonoFrags</th>\n",
       "      <th>nFrags</th>\n",
       "      <th>nDiFrags</th>\n",
       "      <th>BlacklistRatio</th>\n",
       "      <th>DoubletScore</th>\n",
       "      <th>DoubletEnrichment</th>\n",
       "    </tr>\n",
       "  </thead>\n",
       "  <tbody>\n",
       "    <tr>\n",
       "      <th>mo1#AAGGATGTCATTAGGC-1</th>\n",
       "      <td>mo1</td>\n",
       "      <td>11.916</td>\n",
       "      <td>32025</td>\n",
       "      <td>32884</td>\n",
       "      <td>1277</td>\n",
       "      <td>0.164565</td>\n",
       "      <td>1</td>\n",
       "      <td>1.422461</td>\n",
       "      <td>10232</td>\n",
       "      <td>41244</td>\n",
       "      <td>99912</td>\n",
       "      <td>48436</td>\n",
       "      <td>0.006391</td>\n",
       "      <td>NaN</td>\n",
       "      <td>NaN</td>\n",
       "    </tr>\n",
       "    <tr>\n",
       "      <th>mo1#ATTTGCAAGCCTGATG-1</th>\n",
       "      <td>mo1</td>\n",
       "      <td>15.373</td>\n",
       "      <td>45494</td>\n",
       "      <td>43271</td>\n",
       "      <td>1225</td>\n",
       "      <td>0.217532</td>\n",
       "      <td>1</td>\n",
       "      <td>1.162669</td>\n",
       "      <td>9660</td>\n",
       "      <td>45989</td>\n",
       "      <td>99459</td>\n",
       "      <td>43810</td>\n",
       "      <td>0.006158</td>\n",
       "      <td>NaN</td>\n",
       "      <td>NaN</td>\n",
       "    </tr>\n",
       "    <tr>\n",
       "      <th>mo1#GGCTAGACAATTTAGC-1</th>\n",
       "      <td>mo1</td>\n",
       "      <td>11.683</td>\n",
       "      <td>32071</td>\n",
       "      <td>32335</td>\n",
       "      <td>1170</td>\n",
       "      <td>0.162766</td>\n",
       "      <td>1</td>\n",
       "      <td>1.252483</td>\n",
       "      <td>10084</td>\n",
       "      <td>44098</td>\n",
       "      <td>99330</td>\n",
       "      <td>45148</td>\n",
       "      <td>0.005889</td>\n",
       "      <td>NaN</td>\n",
       "      <td>NaN</td>\n",
       "    </tr>\n",
       "    <tr>\n",
       "      <th>mo1#CTCCAACTCGTTAAGC-1</th>\n",
       "      <td>mo1</td>\n",
       "      <td>13.237</td>\n",
       "      <td>37321</td>\n",
       "      <td>37213</td>\n",
       "      <td>1240</td>\n",
       "      <td>0.187569</td>\n",
       "      <td>1</td>\n",
       "      <td>1.215477</td>\n",
       "      <td>9581</td>\n",
       "      <td>44775</td>\n",
       "      <td>99198</td>\n",
       "      <td>44842</td>\n",
       "      <td>0.006250</td>\n",
       "      <td>NaN</td>\n",
       "      <td>NaN</td>\n",
       "    </tr>\n",
       "    <tr>\n",
       "      <th>mo1#TATTAGGTCGCACACA-1</th>\n",
       "      <td>mo1</td>\n",
       "      <td>14.331</td>\n",
       "      <td>39761</td>\n",
       "      <td>38230</td>\n",
       "      <td>1221</td>\n",
       "      <td>0.193483</td>\n",
       "      <td>1</td>\n",
       "      <td>1.035772</td>\n",
       "      <td>9214</td>\n",
       "      <td>48529</td>\n",
       "      <td>98794</td>\n",
       "      <td>41051</td>\n",
       "      <td>0.006180</td>\n",
       "      <td>NaN</td>\n",
       "      <td>NaN</td>\n",
       "    </tr>\n",
       "  </tbody>\n",
       "</table>\n",
       "</div>"
      ],
      "text/plain": [
       "                       Sample  TSSEnrichment  ReadsInTSS  ReadsInPromoter  \\\n",
       "mo1#AAGGATGTCATTAGGC-1    mo1         11.916       32025            32884   \n",
       "mo1#ATTTGCAAGCCTGATG-1    mo1         15.373       45494            43271   \n",
       "mo1#GGCTAGACAATTTAGC-1    mo1         11.683       32071            32335   \n",
       "mo1#CTCCAACTCGTTAAGC-1    mo1         13.237       37321            37213   \n",
       "mo1#TATTAGGTCGCACACA-1    mo1         14.331       39761            38230   \n",
       "\n",
       "                        ReadsInBlacklist  PromoterRatio  PassQC  \\\n",
       "mo1#AAGGATGTCATTAGGC-1              1277       0.164565       1   \n",
       "mo1#ATTTGCAAGCCTGATG-1              1225       0.217532       1   \n",
       "mo1#GGCTAGACAATTTAGC-1              1170       0.162766       1   \n",
       "mo1#CTCCAACTCGTTAAGC-1              1240       0.187569       1   \n",
       "mo1#TATTAGGTCGCACACA-1              1221       0.193483       1   \n",
       "\n",
       "                        NucleosomeRatio  nMultiFrags  nMonoFrags  nFrags  \\\n",
       "mo1#AAGGATGTCATTAGGC-1         1.422461        10232       41244   99912   \n",
       "mo1#ATTTGCAAGCCTGATG-1         1.162669         9660       45989   99459   \n",
       "mo1#GGCTAGACAATTTAGC-1         1.252483        10084       44098   99330   \n",
       "mo1#CTCCAACTCGTTAAGC-1         1.215477         9581       44775   99198   \n",
       "mo1#TATTAGGTCGCACACA-1         1.035772         9214       48529   98794   \n",
       "\n",
       "                        nDiFrags  BlacklistRatio  DoubletScore  \\\n",
       "mo1#AAGGATGTCATTAGGC-1     48436        0.006391           NaN   \n",
       "mo1#ATTTGCAAGCCTGATG-1     43810        0.006158           NaN   \n",
       "mo1#GGCTAGACAATTTAGC-1     45148        0.005889           NaN   \n",
       "mo1#CTCCAACTCGTTAAGC-1     44842        0.006250           NaN   \n",
       "mo1#TATTAGGTCGCACACA-1     41051        0.006180           NaN   \n",
       "\n",
       "                        DoubletEnrichment  \n",
       "mo1#AAGGATGTCATTAGGC-1                NaN  \n",
       "mo1#ATTTGCAAGCCTGATG-1                NaN  \n",
       "mo1#GGCTAGACAATTTAGC-1                NaN  \n",
       "mo1#CTCCAACTCGTTAAGC-1                NaN  \n",
       "mo1#TATTAGGTCGCACACA-1                NaN  "
      ]
     },
     "execution_count": 16,
     "metadata": {},
     "output_type": "execute_result"
    }
   ],
   "source": [
    "cell_metadata = pd.read_csv(\"/cellar/users/aklie/data/datasets/igvf_sc-islet_10X-Multiome/annotation/06Nov23/archr/snatac_metadata.csv\", index_col=0)\n",
    "cell_metadata.head()"
   ]
  },
  {
   "cell_type": "code",
   "execution_count": 18,
   "metadata": {},
   "outputs": [
    {
     "data": {
      "text/plain": [
       "32"
      ]
     },
     "execution_count": 18,
     "metadata": {},
     "output_type": "execute_result"
    }
   ],
   "source": [
    "cell_metadata.index.isin(amulet_bcs).sum()"
   ]
  },
  {
   "cell_type": "code",
   "execution_count": null,
   "metadata": {},
   "outputs": [],
   "source": []
  }
 ],
 "metadata": {
  "kernelspec": {
   "display_name": "Python 3.7 get_data",
   "language": "python",
   "name": "get_data"
  },
  "orig_nbformat": 4
 },
 "nbformat": 4,
 "nbformat_minor": 2
}
