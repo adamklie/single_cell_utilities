{
 "cells": [
  {
   "cell_type": "markdown",
   "metadata": {},
   "source": [
    "# Set-up"
   ]
  },
  {
   "cell_type": "code",
   "execution_count": 1,
   "metadata": {},
   "outputs": [
    {
     "name": "stdout",
     "output_type": "stream",
     "text": [
      "The history saving thread hit an unexpected error (DatabaseError('database disk image is malformed')).History will not be written to the database.\n"
     ]
    }
   ],
   "source": [
    "# Imports\n",
    "import os\n",
    "import pandas as pd\n",
    "import synapseclient\n",
    "import synapseutils"
   ]
  },
  {
   "cell_type": "code",
   "execution_count": 2,
   "metadata": {},
   "outputs": [],
   "source": [
    "# Use \"os\" library to read your api keys, or you can hardcode it if that's easier\n",
    "AUTHID = os.environ.get('SYNAPSE_USERNAME')\n",
    "AUTHPW = os.environ.get('SYNAPSE_PASSWORD')"
   ]
  },
  {
   "cell_type": "code",
   "execution_count": 3,
   "metadata": {},
   "outputs": [
    {
     "name": "stderr",
     "output_type": "stream",
     "text": [
      "\n",
      "UPGRADE AVAILABLE\n",
      "\n",
      "A more recent version of the Synapse Client (4.5.1) is available. Your version (2.6.0) can be upgraded by typing:\n",
      "    pip install --upgrade synapseclient\n",
      "\n",
      "Python Synapse Client version 4.5.1 release notes\n",
      "\n",
      "https://python-docs.synapse.org/news/\n",
      "\n"
     ]
    },
    {
     "name": "stdout",
     "output_type": "stream",
     "text": [
      "Welcome, Adam Klie!\n",
      "\n"
     ]
    }
   ],
   "source": [
    "# Log-in\n",
    "syn = synapseclient.Synapse() \n",
    "syn.login(AUTHID, AUTHPW)"
   ]
  },
  {
   "cell_type": "code",
   "execution_count": 4,
   "metadata": {},
   "outputs": [],
   "source": [
    "# Create some constants to store the paths to the data\n",
    "DIRECTORY_FOR_MY_PROJECT = \"/cellar/users/aklie/opt/gene_program_evaluation/examples\"\n",
    "PATH_TO_MANIFEST_FILE = \"/cellar/users/aklie/opt/gene_program_evaluation/examples/upload_data/2024_09_25_manifest-for-upload.tsv\""
   ]
  },
  {
   "cell_type": "code",
   "execution_count": 5,
   "metadata": {},
   "outputs": [],
   "source": [
    "# Step 1: Let's find the synapse ID of our project:\n",
    "my_project_id = \"syn63392535\""
   ]
  },
  {
   "cell_type": "code",
   "execution_count": 6,
   "metadata": {},
   "outputs": [],
   "source": [
    "# Step 2: Create a manifest TSV file to upload data in bulk\n",
    "# Note: When this command is run it will re-create your directory structure within\n",
    "# Synapse. Be aware of this before running this command.\n",
    "# If folders with the exact names already exists in Synapse, those folders will be used.\n",
    "synapseutils.generate_sync_manifest(\n",
    "    syn=syn,\n",
    "    directory_path=DIRECTORY_FOR_MY_PROJECT,\n",
    "    parent_id=my_project_id,\n",
    "    manifest_path=PATH_TO_MANIFEST_FILE,\n",
    ")"
   ]
  },
  {
   "cell_type": "code",
   "execution_count": 7,
   "metadata": {},
   "outputs": [
    {
     "data": {
      "text/html": [
       "<div>\n",
       "<style scoped>\n",
       "    .dataframe tbody tr th:only-of-type {\n",
       "        vertical-align: middle;\n",
       "    }\n",
       "\n",
       "    .dataframe tbody tr th {\n",
       "        vertical-align: top;\n",
       "    }\n",
       "\n",
       "    .dataframe thead th {\n",
       "        text-align: right;\n",
       "    }\n",
       "</style>\n",
       "<table border=\"1\" class=\"dataframe\">\n",
       "  <thead>\n",
       "    <tr style=\"text-align: right;\">\n",
       "      <th></th>\n",
       "      <th>path</th>\n",
       "      <th>parent</th>\n",
       "    </tr>\n",
       "  </thead>\n",
       "  <tbody>\n",
       "    <tr>\n",
       "      <th>0</th>\n",
       "      <td>/cellar/users/aklie/opt/gene_program_evaluatio...</td>\n",
       "      <td>syn63392537</td>\n",
       "    </tr>\n",
       "    <tr>\n",
       "      <th>1</th>\n",
       "      <td>/cellar/users/aklie/opt/gene_program_evaluatio...</td>\n",
       "      <td>syn63434262</td>\n",
       "    </tr>\n",
       "    <tr>\n",
       "      <th>2</th>\n",
       "      <td>/cellar/users/aklie/opt/gene_program_evaluatio...</td>\n",
       "      <td>syn63434262</td>\n",
       "    </tr>\n",
       "    <tr>\n",
       "      <th>3</th>\n",
       "      <td>/cellar/users/aklie/opt/gene_program_evaluatio...</td>\n",
       "      <td>syn63434262</td>\n",
       "    </tr>\n",
       "    <tr>\n",
       "      <th>4</th>\n",
       "      <td>/cellar/users/aklie/opt/gene_program_evaluatio...</td>\n",
       "      <td>syn63434262</td>\n",
       "    </tr>\n",
       "  </tbody>\n",
       "</table>\n",
       "</div>"
      ],
      "text/plain": [
       "                                                path       parent\n",
       "0  /cellar/users/aklie/opt/gene_program_evaluatio...  syn63392537\n",
       "1  /cellar/users/aklie/opt/gene_program_evaluatio...  syn63434262\n",
       "2  /cellar/users/aklie/opt/gene_program_evaluatio...  syn63434262\n",
       "3  /cellar/users/aklie/opt/gene_program_evaluatio...  syn63434262\n",
       "4  /cellar/users/aklie/opt/gene_program_evaluatio...  syn63434262"
      ]
     },
     "execution_count": 7,
     "metadata": {},
     "output_type": "execute_result"
    }
   ],
   "source": [
    "# Load manifest file\n",
    "manifest = pd.read_csv(PATH_TO_MANIFEST_FILE, sep=\"\\t\")\n",
    "manifest.head()"
   ]
  },
  {
   "cell_type": "code",
   "execution_count": 9,
   "metadata": {},
   "outputs": [
    {
     "data": {
      "text/html": [
       "<div>\n",
       "<style scoped>\n",
       "    .dataframe tbody tr th:only-of-type {\n",
       "        vertical-align: middle;\n",
       "    }\n",
       "\n",
       "    .dataframe tbody tr th {\n",
       "        vertical-align: top;\n",
       "    }\n",
       "\n",
       "    .dataframe thead th {\n",
       "        text-align: right;\n",
       "    }\n",
       "</style>\n",
       "<table border=\"1\" class=\"dataframe\">\n",
       "  <thead>\n",
       "    <tr style=\"text-align: right;\">\n",
       "      <th></th>\n",
       "      <th>path</th>\n",
       "      <th>parent</th>\n",
       "    </tr>\n",
       "  </thead>\n",
       "  <tbody>\n",
       "    <tr>\n",
       "      <th>1</th>\n",
       "      <td>/cellar/users/aklie/opt/gene_program_evaluatio...</td>\n",
       "      <td>syn63434262</td>\n",
       "    </tr>\n",
       "    <tr>\n",
       "      <th>2</th>\n",
       "      <td>/cellar/users/aklie/opt/gene_program_evaluatio...</td>\n",
       "      <td>syn63434262</td>\n",
       "    </tr>\n",
       "    <tr>\n",
       "      <th>3</th>\n",
       "      <td>/cellar/users/aklie/opt/gene_program_evaluatio...</td>\n",
       "      <td>syn63434262</td>\n",
       "    </tr>\n",
       "    <tr>\n",
       "      <th>4</th>\n",
       "      <td>/cellar/users/aklie/opt/gene_program_evaluatio...</td>\n",
       "      <td>syn63434262</td>\n",
       "    </tr>\n",
       "    <tr>\n",
       "      <th>5</th>\n",
       "      <td>/cellar/users/aklie/opt/gene_program_evaluatio...</td>\n",
       "      <td>syn63434264</td>\n",
       "    </tr>\n",
       "    <tr>\n",
       "      <th>...</th>\n",
       "      <td>...</td>\n",
       "      <td>...</td>\n",
       "    </tr>\n",
       "    <tr>\n",
       "      <th>834</th>\n",
       "      <td>/cellar/users/aklie/opt/gene_program_evaluatio...</td>\n",
       "      <td>syn63549745</td>\n",
       "    </tr>\n",
       "    <tr>\n",
       "      <th>835</th>\n",
       "      <td>/cellar/users/aklie/opt/gene_program_evaluatio...</td>\n",
       "      <td>syn63549745</td>\n",
       "    </tr>\n",
       "    <tr>\n",
       "      <th>836</th>\n",
       "      <td>/cellar/users/aklie/opt/gene_program_evaluatio...</td>\n",
       "      <td>syn63549745</td>\n",
       "    </tr>\n",
       "    <tr>\n",
       "      <th>837</th>\n",
       "      <td>/cellar/users/aklie/opt/gene_program_evaluatio...</td>\n",
       "      <td>syn63549745</td>\n",
       "    </tr>\n",
       "    <tr>\n",
       "      <th>838</th>\n",
       "      <td>/cellar/users/aklie/opt/gene_program_evaluatio...</td>\n",
       "      <td>syn63549745</td>\n",
       "    </tr>\n",
       "  </tbody>\n",
       "</table>\n",
       "<p>76 rows × 2 columns</p>\n",
       "</div>"
      ],
      "text/plain": [
       "                                                  path       parent\n",
       "1    /cellar/users/aklie/opt/gene_program_evaluatio...  syn63434262\n",
       "2    /cellar/users/aklie/opt/gene_program_evaluatio...  syn63434262\n",
       "3    /cellar/users/aklie/opt/gene_program_evaluatio...  syn63434262\n",
       "4    /cellar/users/aklie/opt/gene_program_evaluatio...  syn63434262\n",
       "5    /cellar/users/aklie/opt/gene_program_evaluatio...  syn63434264\n",
       "..                                                 ...          ...\n",
       "834  /cellar/users/aklie/opt/gene_program_evaluatio...  syn63549745\n",
       "835  /cellar/users/aklie/opt/gene_program_evaluatio...  syn63549745\n",
       "836  /cellar/users/aklie/opt/gene_program_evaluatio...  syn63549745\n",
       "837  /cellar/users/aklie/opt/gene_program_evaluatio...  syn63549745\n",
       "838  /cellar/users/aklie/opt/gene_program_evaluatio...  syn63549745\n",
       "\n",
       "[76 rows x 2 columns]"
      ]
     },
     "execution_count": 9,
     "metadata": {},
     "output_type": "execute_result"
    }
   ],
   "source": [
    "# Keep only 'path' that contain \"CharacterizationMcGinnis_Dataset6\"\n",
    "manifest = manifest[manifest['path'].str.contains(\"factor_analysis\")]\n",
    "manifest"
   ]
  },
  {
   "cell_type": "code",
   "execution_count": 13,
   "metadata": {},
   "outputs": [],
   "source": [
    "# Save the filtered manifest\n",
    "PATH_TO_FILTERED_MANIFEST_FILE = \"/cellar/users/aklie/opt/gene_program_evaluation/examples/upload_data/2024_09_25_manifest-for-upload-filtered.tsv\"\n",
    "manifest.to_csv(PATH_TO_FILTERED_MANIFEST_FILE, sep=\"\\t\", index=False)"
   ]
  },
  {
   "cell_type": "code",
   "execution_count": null,
   "metadata": {},
   "outputs": [
    {
     "name": "stdout",
     "output_type": "stream",
     "text": [
      "Validation and upload of: /cellar/users/aklie/opt/gene_program_evaluation/examples/upload_data/2024_09_25_manifest-for-upload-filtered.tsv\n",
      "Validating columns of manifest.....OK\n",
      "Validating that all paths exist...............................................................................OK\n",
      "Validating that all files are unique...OK\n",
      "Validating that all the files are not empty...OK\n",
      "Validating file names... \n",
      "OK\n",
      "Validating provenance...OK\n",
      "Validating that parents exist and are containers...OK\n",
      "==================================================\n",
      "We are about to upload 76 files with a total size of 36.0GB.\n",
      " ==================================================\n",
      "Starting upload...\n"
     ]
    }
   ],
   "source": [
    "# Step 3: After generating the manifest file, we can upload the data in bulk\n",
    "synapseutils.syncToSynapse(\n",
    "    syn=syn, manifestFile=PATH_TO_FILTERED_MANIFEST_FILE, sendMessages=False\n",
    ")"
   ]
  },
  {
   "cell_type": "markdown",
   "metadata": {},
   "source": [
    "# DONE!"
   ]
  },
  {
   "cell_type": "markdown",
   "metadata": {},
   "source": [
    "---"
   ]
  }
 ],
 "metadata": {
  "kernelspec": {
   "display_name": "Python 3.7 get_data",
   "language": "python",
   "name": "get_data"
  }
 },
 "nbformat": 4,
 "nbformat_minor": 2
}
