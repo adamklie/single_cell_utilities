{
 "cells": [
  {
   "cell_type": "code",
   "execution_count": 4,
   "metadata": {},
   "outputs": [
    {
     "data": {
      "text/plain": [
       "'2.5.3'"
      ]
     },
     "execution_count": 4,
     "metadata": {},
     "output_type": "execute_result"
    }
   ],
   "source": [
    "import snapatac2 as snap\n",
    "snap.__version__"
   ]
  },
  {
   "cell_type": "code",
   "execution_count": 5,
   "metadata": {},
   "outputs": [],
   "source": [
    "adata = snap.read(\"/cellar/users/aklie/data/datasets/igvf_sc-islet_10X-Multiome/annotation/2024_01_15/sample/dm23a/snapatac2/clustered.h5ad\")"
   ]
  },
  {
   "cell_type": "code",
   "execution_count": 7,
   "metadata": {},
   "outputs": [
    {
     "name": "stderr",
     "output_type": "stream",
     "text": [
      "Error in atexit._run_exitfuncs:\n",
      "Traceback (most recent call last):\n",
      "  File \"/cellar/users/aklie/opt/miniconda3/envs/scverse-lite-py39/lib/python3.9/site-packages/IPython/core/history.py\", line 844, in writeout_cache\n",
      "    self._writeout_input_cache(conn)\n",
      "  File \"/cellar/users/aklie/opt/miniconda3/envs/scverse-lite-py39/lib/python3.9/site-packages/IPython/core/history.py\", line 827, in _writeout_input_cache\n",
      "    conn.execute(\"INSERT INTO history VALUES (?, ?, ?, ?)\",\n",
      "sqlite3.DatabaseError: database disk image is malformed\n"
     ]
    }
   ],
   "source": [
    "adata.close()"
   ]
  },
  {
   "cell_type": "code",
   "execution_count": 1,
   "metadata": {},
   "outputs": [
    {
     "name": "stdout",
     "output_type": "stream",
     "text": [
      "The history saving thread hit an unexpected error (DatabaseError('database disk image is malformed')).History will not be written to the database.\n"
     ]
    }
   ],
   "source": [
    "import pygenometracks.tracks as pygtk\n",
    "import matplotlib.pyplot as plt\n",
    "import os\n",
    "import numpy as np\n",
    "import pandas as pd\n",
    "\n",
    "import os as _os\n",
    "import sys as _sys\n",
    "try:\n",
    "    _bin_dir = _os.path.dirname(_sys.executable)\n",
    "    _os.environ[\"PATH\"] += _os.pathsep + _bin_dir\n",
    "    from pybedtools import paths as _paths\n",
    "    _paths._set_bedtools_path(_bin_dir)\n",
    "except ImportError:\n",
    "    raise ImportError(\n",
    "        \"Please install pybedtools (pip install pybedtools)\"\n",
    "    )"
   ]
  },
  {
   "cell_type": "code",
   "execution_count": 5,
   "metadata": {},
   "outputs": [],
   "source": [
    "# Region to plot\n",
    "extension = 1000\n",
    "chrom, start, end = 'chr1', 1000000, 1000000 + extension\n"
   ]
  },
  {
   "cell_type": "code",
   "execution_count": 6,
   "metadata": {},
   "outputs": [
    {
     "data": {
      "image/png": "[encoded data removed]",
      "text/plain": [
       "<Figure size 1152x648 with 4 Axes>"
      ]
     },
     "metadata": {
      "needs_background": "light"
     },
     "output_type": "display_data"
    }
   ],
   "source": [
    "fig, ax = plt.subplots(4, 1, figsize=(16, 9), sharex=True, sharey=False)\n",
    "dev_config = dict(file=\"/cellar/users/aklie/data/package_data/snapatac2/pbmc5k/bigWigs/cDC.bw\", region=[(chrom, start, end)], color=\"orange\")\n",
    "dev_track = pygtk.BigWigTrack(dev_config)\n",
    "dev_track.plot(ax[0], chrom, start, end)\n",
    "ax[0].set_ylabel(\"Dev\", color=\"orange\")\n",
    "ax[0].set_xlabel(\"\")\n",
    "ax[0].spines['right'].set_visible(False)\n",
    "ax[0].spines['top'].set_visible(False)\n",
    "ax[0].spines['bottom'].set_visible(False)\n",
    "ax[0].tick_params(axis='x', which='both', bottom=False, top=False, labelbottom=False)\n",
    "ax[0].xticklabels = []\n"
   ]
  },
  {
   "cell_type": "code",
   "execution_count": 2,
   "metadata": {},
   "outputs": [],
   "source": [
    "bw = pyBigWig.open()"
   ]
  },
  {
   "cell_type": "code",
   "execution_count": 3,
   "metadata": {},
   "outputs": [
    {
     "data": {
      "text/plain": [
       "[378.6685791015625,\n",
       " 378.6685791015625,\n",
       " 378.6685791015625,\n",
       " 378.6685791015625,\n",
       " 378.6685791015625,\n",
       " 378.6685791015625,\n",
       " 378.6685791015625,\n",
       " 378.6685791015625,\n",
       " 378.6685791015625,\n",
       " 378.6685791015625,\n",
       " 409.7070007324219,\n",
       " 409.7070007324219,\n",
       " 409.7070007324219,\n",
       " 409.7070007324219,\n",
       " 409.7070007324219,\n",
       " 409.7070007324219,\n",
       " 409.7070007324219,\n",
       " 409.7070007324219,\n",
       " 409.7070007324219,\n",
       " 409.7070007324219,\n",
       " 415.9146728515625,\n",
       " 415.9146728515625,\n",
       " 415.9146728515625,\n",
       " 415.9146728515625,\n",
       " 415.9146728515625,\n",
       " 415.9146728515625,\n",
       " 415.9146728515625,\n",
       " 415.9146728515625,\n",
       " 415.9146728515625,\n",
       " 415.9146728515625,\n",
       " 453.1607666015625,\n",
       " 453.1607666015625,\n",
       " 453.1607666015625,\n",
       " 453.1607666015625,\n",
       " 453.1607666015625,\n",
       " 453.1607666015625,\n",
       " 453.1607666015625,\n",
       " 453.1607666015625,\n",
       " 453.1607666015625,\n",
       " 453.1607666015625,\n",
       " 459.3684387207031,\n",
       " 459.3684387207031,\n",
       " 459.3684387207031,\n",
       " 459.3684387207031,\n",
       " 459.3684387207031,\n",
       " 459.3684387207031,\n",
       " 459.3684387207031,\n",
       " 459.3684387207031,\n",
       " 459.3684387207031,\n",
       " 459.3684387207031,\n",
       " 459.3684387207031,\n",
       " 459.3684387207031,\n",
       " 459.3684387207031,\n",
       " 459.3684387207031,\n",
       " 459.3684387207031,\n",
       " 459.3684387207031,\n",
       " 459.3684387207031,\n",
       " 459.3684387207031,\n",
       " 459.3684387207031,\n",
       " 459.3684387207031,\n",
       " 471.7838134765625,\n",
       " 471.7838134765625,\n",
       " 471.7838134765625,\n",
       " 471.7838134765625,\n",
       " 471.7838134765625,\n",
       " 471.7838134765625,\n",
       " 471.7838134765625,\n",
       " 471.7838134765625,\n",
       " 471.7838134765625,\n",
       " 471.7838134765625,\n",
       " 589.7297973632812,\n",
       " 589.7297973632812,\n",
       " 589.7297973632812,\n",
       " 589.7297973632812,\n",
       " 589.7297973632812,\n",
       " 589.7297973632812,\n",
       " 589.7297973632812,\n",
       " 589.7297973632812,\n",
       " 589.7297973632812,\n",
       " 589.7297973632812,\n",
       " 639.3912353515625,\n",
       " 639.3912353515625,\n",
       " 639.3912353515625,\n",
       " 639.3912353515625,\n",
       " 639.3912353515625,\n",
       " 639.3912353515625,\n",
       " 639.3912353515625,\n",
       " 639.3912353515625,\n",
       " 639.3912353515625,\n",
       " 639.3912353515625,\n",
       " 633.1835327148438,\n",
       " 633.1835327148438,\n",
       " 633.1835327148438,\n",
       " 633.1835327148438,\n",
       " 633.1835327148438,\n",
       " 633.1835327148438,\n",
       " 633.1835327148438,\n",
       " 633.1835327148438,\n",
       " 633.1835327148438,\n",
       " 633.1835327148438]"
      ]
     },
     "execution_count": 3,
     "metadata": {},
     "output_type": "execute_result"
    }
   ],
   "source": [
    "bw.values(\"chr1\", 1000000, 1000100)"
   ]
  },
  {
   "attachments": {},
   "cell_type": "markdown",
   "metadata": {},
   "source": [
    "# Test data"
   ]
  },
  {
   "cell_type": "code",
   "execution_count": 2,
   "metadata": {},
   "outputs": [
    {
     "name": "stderr",
     "output_type": "stream",
     "text": [
      "Updating file 'atac_pbmc_5k_annotated.h5ad' from 'https://osf.io/download/e9vc3/' to '/cellar/users/aklie/.cache/snapatac2'.\n",
      "100%|████████████████████████████████████████| 837M/837M [00:00<00:00, 794GB/s]\n"
     ]
    }
   ],
   "source": [
    "file_path = snap.datasets.pbmc5k(\"annotated_h5ad\")\n",
    "adata = snap.read(file_path)"
   ]
  },
  {
   "cell_type": "code",
   "execution_count": 3,
   "metadata": {},
   "outputs": [
    {
     "name": "stderr",
     "output_type": "stream",
     "text": [
      "2024-01-16 17:12:07 - INFO - Exporting fragments...\n",
      "2024-01-16 17:14:46 - INFO - Creating coverage files...\n"
     ]
    },
    {
     "data": {
      "text/plain": [
       "{'cDC': '/cellar/users/aklie/data/package_data/snapatac2/pbmc5k/bedGraphs/cDC.bedgraph',\n",
       " 'Naive B': '/cellar/users/aklie/data/package_data/snapatac2/pbmc5k/bedGraphs/Naive B.bedgraph',\n",
       " 'CD8 Naive': '/cellar/users/aklie/data/package_data/snapatac2/pbmc5k/bedGraphs/CD8 Naive.bedgraph',\n",
       " 'CD16 Mono': '/cellar/users/aklie/data/package_data/snapatac2/pbmc5k/bedGraphs/CD16 Mono.bedgraph',\n",
       " 'CD8 Memory': '/cellar/users/aklie/data/package_data/snapatac2/pbmc5k/bedGraphs/CD8 Memory.bedgraph',\n",
       " 'CD4 Memory': '/cellar/users/aklie/data/package_data/snapatac2/pbmc5k/bedGraphs/CD4 Memory.bedgraph',\n",
       " 'pDC': '/cellar/users/aklie/data/package_data/snapatac2/pbmc5k/bedGraphs/pDC.bedgraph',\n",
       " 'CD4 Naive': '/cellar/users/aklie/data/package_data/snapatac2/pbmc5k/bedGraphs/CD4 Naive.bedgraph',\n",
       " 'Memory B': '/cellar/users/aklie/data/package_data/snapatac2/pbmc5k/bedGraphs/Memory B.bedgraph',\n",
       " 'NK': '/cellar/users/aklie/data/package_data/snapatac2/pbmc5k/bedGraphs/NK.bedgraph',\n",
       " 'MAIT': '/cellar/users/aklie/data/package_data/snapatac2/pbmc5k/bedGraphs/MAIT.bedgraph',\n",
       " 'CD14 Mono': '/cellar/users/aklie/data/package_data/snapatac2/pbmc5k/bedGraphs/CD14 Mono.bedgraph'}"
      ]
     },
     "execution_count": 3,
     "metadata": {},
     "output_type": "execute_result"
    }
   ],
   "source": [
    "snap.ex.export_coverage(\n",
    "    adata=adata,\n",
    "    groupby=\"cell_type\",\n",
    "    suffix=\".bedgraph\",\n",
    "    output_format=\"bedgraph\",\n",
    "    out_dir=\"/cellar/users/aklie/data/package_data/snapatac2/pbmc5k/bedGraphs\",\n",
    ")"
   ]
  },
  {
   "cell_type": "code",
   "execution_count": 4,
   "metadata": {},
   "outputs": [
    {
     "name": "stderr",
     "output_type": "stream",
     "text": [
      "2024-01-16 14:19:58 - INFO - Exporting fragments...\n",
      "2024-01-16 14:22:34 - INFO - Creating coverage files...\n"
     ]
    },
    {
     "data": {
      "text/plain": [
       "{'cDC': '/cellar/users/aklie/data/package_data/snapatac2/pbmc5k/bigWigs/cDC.bw',\n",
       " 'Memory B': '/cellar/users/aklie/data/package_data/snapatac2/pbmc5k/bigWigs/Memory B.bw',\n",
       " 'pDC': '/cellar/users/aklie/data/package_data/snapatac2/pbmc5k/bigWigs/pDC.bw',\n",
       " 'NK': '/cellar/users/aklie/data/package_data/snapatac2/pbmc5k/bigWigs/NK.bw',\n",
       " 'CD8 Memory': '/cellar/users/aklie/data/package_data/snapatac2/pbmc5k/bigWigs/CD8 Memory.bw',\n",
       " 'CD14 Mono': '/cellar/users/aklie/data/package_data/snapatac2/pbmc5k/bigWigs/CD14 Mono.bw',\n",
       " 'CD8 Naive': '/cellar/users/aklie/data/package_data/snapatac2/pbmc5k/bigWigs/CD8 Naive.bw',\n",
       " 'Naive B': '/cellar/users/aklie/data/package_data/snapatac2/pbmc5k/bigWigs/Naive B.bw',\n",
       " 'MAIT': '/cellar/users/aklie/data/package_data/snapatac2/pbmc5k/bigWigs/MAIT.bw',\n",
       " 'CD16 Mono': '/cellar/users/aklie/data/package_data/snapatac2/pbmc5k/bigWigs/CD16 Mono.bw',\n",
       " 'CD4 Naive': '/cellar/users/aklie/data/package_data/snapatac2/pbmc5k/bigWigs/CD4 Naive.bw',\n",
       " 'CD4 Memory': '/cellar/users/aklie/data/package_data/snapatac2/pbmc5k/bigWigs/CD4 Memory.bw'}"
      ]
     },
     "execution_count": 4,
     "metadata": {},
     "output_type": "execute_result"
    }
   ],
   "source": [
    "snap.ex.export_coverage(\n",
    "    adata=adata,\n",
    "    groupby=\"cell_type\",\n",
    "    suffix=\".bw\",\n",
    "    output_format=\"bigwig\",\n",
    "    out_dir=\"/cellar/users/aklie/data/package_data/snapatac2/pbmc5k/bigWigs\",\n",
    ")"
   ]
  },
  {
   "attachments": {},
   "cell_type": "markdown",
   "metadata": {},
   "source": [
    "# My data"
   ]
  },
  {
   "cell_type": "code",
   "execution_count": 26,
   "metadata": {},
   "outputs": [
    {
     "data": {
      "text/plain": [
       "AnnData object with n_obs x n_vars = 4180 x 606219 backed at '/cellar/users/aklie/data/datasets/igvf_sc-islet_10X-Multiome/annotation/2024_01_15/sample/dm42b/snapatac2/clustered.h5ad'\n",
       "    obs: 'n_fragment', 'frac_dup', 'frac_mito', 'tsse', 'doublet_probability', 'doublet_score', 'gex_barcode_cellranger', 'atac_barcode_cellranger', 'is_cell_cellranger', 'excluded_reason_cellranger', 'gex_raw_reads_cellranger', 'gex_mapped_reads_cellranger', 'gex_conf_intergenic_reads_cellranger', 'gex_conf_exonic_reads_cellranger', 'gex_conf_intronic_reads_cellranger', 'gex_conf_exonic_unique_reads_cellranger', 'gex_conf_exonic_antisense_reads_cellranger', 'gex_conf_exonic_dup_reads_cellranger', 'gex_exonic_umis_cellranger', 'gex_conf_intronic_unique_reads_cellranger', 'gex_conf_intronic_antisense_reads_cellranger', 'gex_conf_intronic_dup_reads_cellranger', 'gex_intronic_umis_cellranger', 'gex_conf_txomic_unique_reads_cellranger', 'gex_umis_count_cellranger', 'gex_genes_count_cellranger', 'atac_raw_reads_cellranger', 'atac_unmapped_reads_cellranger', 'atac_lowmapq_cellranger', 'atac_dup_reads_cellranger', 'atac_chimeric_reads_cellranger', 'atac_mitochondrial_reads_cellranger', 'atac_fragments_cellranger', 'atac_TSS_fragments_cellranger', 'atac_peak_region_fragments_cellranger', 'atac_peak_region_cutsites_cellranger', 'n_genes', 'n_genes_by_counts', 'log1p_n_genes_by_counts', 'total_counts', 'log1p_total_counts', 'pct_counts_in_top_20_genes', 'total_counts_mt', 'log1p_total_counts_mt', 'pct_counts_mt', 'total_counts_ribo', 'log1p_total_counts_ribo', 'pct_counts_ribo', 'outlier', 'mt_outlier', 'pre_soupx_leiden_1', 'post_soupx_leiden_1', 'scrublet_doublet_score', 'scrublet_predicted_doublet', 'scDblFinder_doublet_score', 'scDblFinder_doublet_class', 'scDblFinder_predicted_doublet', 'cellranger_predicted_doublet', 'doublet_filter', 'pre_doublet_filter_leiden_1', 'leiden_1', 'sample', 'integrated_manual_cellid_annotation'\n",
       "    var: 'count', 'selected'\n",
       "    uns: 'doublet_rate', 'reference_sequences', 'scrublet_sim_doublet_score', 'spectral_eigenvalue', 'macs3', 'frag_size_distr'\n",
       "    obsm: 'fragment_paired', 'X_spectral', 'X_umap'\n",
       "    obsp: 'distances'"
      ]
     },
     "execution_count": 26,
     "metadata": {},
     "output_type": "execute_result"
    }
   ],
   "source": [
    "adata = snap.read(\n",
    "    \"/cellar/users/aklie/data/datasets/igvf_sc-islet_10X-Multiome/annotation/2024_01_15/sample/dm24a/snapatac2/clustered.h5ad\", \n",
    "    backed=\"r+\"\n",
    ")\n",
    "adata"
   ]
  },
  {
   "cell_type": "code",
   "execution_count": 25,
   "metadata": {},
   "outputs": [],
   "source": [
    "adata.close()"
   ]
  },
  {
   "cell_type": "code",
   "execution_count": 29,
   "metadata": {},
   "outputs": [
    {
     "name": "stderr",
     "output_type": "stream",
     "text": [
      "2024-01-15 13:31:21 - INFO - Exporting fragments...\n",
      "2024-01-15 13:32:45 - INFO - Creating coverage files...\n"
     ]
    },
    {
     "data": {
      "text/plain": [
       "{'SC.alpha': '/cellar/users/aklie/data/datasets/igvf_sc-islet_10X-Multiome/annotation/2024_01_15/sample/dm42b/snapatac2/bedGraphs/SC.alpha.bedgraph',\n",
       " 'pancreatic_progenitor': '/cellar/users/aklie/data/datasets/igvf_sc-islet_10X-Multiome/annotation/2024_01_15/sample/dm42b/snapatac2/bedGraphs/pancreatic_progenitor.bedgraph',\n",
       " 'SC.beta': '/cellar/users/aklie/data/datasets/igvf_sc-islet_10X-Multiome/annotation/2024_01_15/sample/dm42b/snapatac2/bedGraphs/SC.beta.bedgraph',\n",
       " 'other': '/cellar/users/aklie/data/datasets/igvf_sc-islet_10X-Multiome/annotation/2024_01_15/sample/dm42b/snapatac2/bedGraphs/other.bedgraph',\n",
       " 'SC.delta': '/cellar/users/aklie/data/datasets/igvf_sc-islet_10X-Multiome/annotation/2024_01_15/sample/dm42b/snapatac2/bedGraphs/SC.delta.bedgraph',\n",
       " 'SC.EC': '/cellar/users/aklie/data/datasets/igvf_sc-islet_10X-Multiome/annotation/2024_01_15/sample/dm42b/snapatac2/bedGraphs/SC.EC.bedgraph'}"
      ]
     },
     "execution_count": 29,
     "metadata": {},
     "output_type": "execute_result"
    }
   ],
   "source": [
    "snap.ex.export_coverage(\n",
    "    adata=adata,\n",
    "    groupby=\"integrated_manual_cellid_annotation\",\n",
    "    suffix=\".bedgraph\",\n",
    "    output_format=\"bedgraph\",\n",
    "    out_dir=\"/cellar/users/aklie/data/datasets/igvf_sc-islet_10X-Multiome/annotation/2024_01_15/sample/dm42b/snapatac2/bedGraphs\",\n",
    ")"
   ]
  },
  {
   "cell_type": "code",
   "execution_count": null,
   "metadata": {},
   "outputs": [],
   "source": [
    "snap.ex.export_coverage(\n",
    "    adata=adata,\n",
    "    groupby=\"integrated_manual_cellid_annotation\",\n",
    "    suffix=\".bw\",\n",
    "    output_format=\"bigwig\",\n",
    "    out_dir=\"/cellar/users/aklie/data/datasets/igvf_sc-islet_10X-Multiome/annotation/2024_01_15/sample/dm24a/snapatac2/bigWigs\",\n",
    ")"
   ]
  },
  {
   "cell_type": "code",
   "execution_count": 10,
   "metadata": {},
   "outputs": [],
   "source": [
    "!export LD_LIBRARY_PATH=$LD_LIBRARY_PATH:/cellar/users/aklie/opt/miniconda3/envs/scverse-lite-py39"
   ]
  },
  {
   "cell_type": "code",
   "execution_count": 30,
   "metadata": {},
   "outputs": [
    {
     "data": {
      "text/plain": [
       "{'SC.delta': '/cellar/users/aklie/data/datasets/igvf_sc-islet_10X-Multiome/annotation/2024_01_15/sample/dm42b/snapatac2/fragments/SC.delta.bed.gz',\n",
       " 'SC.beta': '/cellar/users/aklie/data/datasets/igvf_sc-islet_10X-Multiome/annotation/2024_01_15/sample/dm42b/snapatac2/fragments/SC.beta.bed.gz',\n",
       " 'SC.alpha': '/cellar/users/aklie/data/datasets/igvf_sc-islet_10X-Multiome/annotation/2024_01_15/sample/dm42b/snapatac2/fragments/SC.alpha.bed.gz',\n",
       " 'pancreatic_progenitor': '/cellar/users/aklie/data/datasets/igvf_sc-islet_10X-Multiome/annotation/2024_01_15/sample/dm42b/snapatac2/fragments/pancreatic_progenitor.bed.gz',\n",
       " 'other': '/cellar/users/aklie/data/datasets/igvf_sc-islet_10X-Multiome/annotation/2024_01_15/sample/dm42b/snapatac2/fragments/other.bed.gz',\n",
       " 'SC.EC': '/cellar/users/aklie/data/datasets/igvf_sc-islet_10X-Multiome/annotation/2024_01_15/sample/dm42b/snapatac2/fragments/SC.EC.bed.gz'}"
      ]
     },
     "execution_count": 30,
     "metadata": {},
     "output_type": "execute_result"
    }
   ],
   "source": [
    "snap.ex.export_fragments(\n",
    "    adata=adata,\n",
    "    groupby=\"integrated_manual_cellid_annotation\",\n",
    "    out_dir=\"/cellar/users/aklie/data/datasets/igvf_sc-islet_10X-Multiome/annotation/2024_01_15/sample/dm24a/snapatac2/fragments\",\n",
    "    suffix=\".bed.gz\",\n",
    "    \n",
    ")"
   ]
  },
  {
   "cell_type": "code",
   "execution_count": 17,
   "metadata": {},
   "outputs": [
    {
     "name": "stderr",
     "output_type": "stream",
     "text": [
      "2024-01-15 13:13:30 - INFO - Exporting fragments...\n",
      "2024-01-15 13:13:47 - INFO - Calling peaks...\n",
      "0it [00:00, ?it/s]\n"
     ]
    }
   ],
   "source": [
    "snap.tl.macs3(\n",
    "    adata=adata, \n",
    "    groupby=\"integrated_manual_cellid_annotation\",\n",
    "    n_jobs=6,\n",
    ")"
   ]
  },
  {
   "cell_type": "code",
   "execution_count": null,
   "metadata": {},
   "outputs": [],
   "source": [
    "peaks = snap.tl.merge_peaks(adata.uns['macs3'], snap.genome.hg38)\n",
    "peaks.head()"
   ]
  },
  {
   "cell_type": "code",
   "execution_count": null,
   "metadata": {},
   "outputs": [],
   "source": [
    "import polars as pl"
   ]
  },
  {
   "cell_type": "code",
   "execution_count": null,
   "metadata": {},
   "outputs": [],
   "source": [
    "# Peaks is a polars dataframe\n",
    "# Peaks is a Peaks with chrom:start-end format\n",
    "# Want to save as .bed file\n",
    "# Need to split into chrom, start, end Peakss\n",
    "# Then save as .bed file\n",
    "\n",
    "peak_ids = peaks.with_columns(\n",
    "    chrom=peaks['Peaks'].str.split(\":\").apply(lambda x: x[0]),\n",
    "    start=peaks['Peaks'].str.split(\":\").apply(lambda x: int(x[1].split(\"-\")[0])),\n",
    "    end=peaks['Peaks'].str.split(\":\").apply(lambda x: int(x[1].split(\"-\")[1])),\n",
    ")[['chrom', 'start', 'end']].to_pandas()\n",
    "\n",
    "peak_ids.to_csv(\n",
    "    \"/cellar/users/aklie/data/datasets/igvf_sc-islet_10X-Multiome/annotation/2024_01_15/sample/dm24a/snapatac2/peak_calls/consensus_peaks.bed\",\n",
    "    sep=\"\\t\",\n",
    "    header=False,\n",
    "    index=False,\n",
    ")"
   ]
  },
  {
   "cell_type": "code",
   "execution_count": null,
   "metadata": {},
   "outputs": [],
   "source": [
    "peak_mat = snap.pp.make_peak_matrix(adata, use_rep=peaks['Peaks'])\n",
    "peak_mat"
   ]
  },
  {
   "attachments": {},
   "cell_type": "markdown",
   "metadata": {},
   "source": [
    "# DONE"
   ]
  },
  {
   "attachments": {},
   "cell_type": "markdown",
   "metadata": {},
   "source": [
    "---"
   ]
  },
  {
   "cell_type": "code",
   "execution_count": null,
   "metadata": {},
   "outputs": [],
   "source": []
  },
  {
   "cell_type": "code",
   "execution_count": null,
   "metadata": {},
   "outputs": [],
   "source": []
  }
 ],
 "metadata": {
  "kernelspec": {
   "display_name": "Python 3.9 scverse-lite",
   "language": "python",
   "name": "scverse-lite-py39"
  },
  "orig_nbformat": 4
 },
 "nbformat": 4,
 "nbformat_minor": 2
}
