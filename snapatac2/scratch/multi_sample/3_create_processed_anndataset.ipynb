{
 "cells": [
  {
   "attachments": {},
   "cell_type": "markdown",
   "metadata": {},
   "source": [
    "# Create AnnDataset from *processed* h5ad files using SnapATAC2\n",
    "**Authorship:** Adam Klie (last updated: 08/22/2023)<br>\n",
    "***\n",
    "**Description:** Notebook to convert a set of processed AnnData files into an AnnDataset object. This is basically the exact same as `2_create_anndataset_from_frag_files.ipynb` but expects processed h5ad files from `4_preprocess_anndatas.sh`. Future iterations may do both the wrangling from fragment into AnnData and the processing in one step. I haven't determined whether keeping the \"raw\" AnnData files is useful or not."
   ]
  },
  {
   "attachments": {},
   "cell_type": "markdown",
   "metadata": {},
   "source": [
    "# Set-up"
   ]
  },
  {
   "cell_type": "code",
   "execution_count": 1,
   "metadata": {},
   "outputs": [
    {
     "name": "stderr",
     "output_type": "stream",
     "text": [
      "/cellar/users/aklie/opt/miniconda3/envs/scverse-lite-py38/lib/python3.8/site-packages/loompy/bus_file.py:68: NumbaDeprecationWarning: \u001b[1mThe 'nopython' keyword argument was not supplied to the 'numba.jit' decorator. The implicit default value for this argument is currently False, but it will be changed to True in Numba 0.59.0. See https://numba.readthedocs.io/en/stable/reference/deprecation.html#deprecation-of-object-mode-fall-back-behaviour-when-using-jit for details.\u001b[0m\n",
      "  def twobit_to_dna(twobit: int, size: int) -> str:\n",
      "/cellar/users/aklie/opt/miniconda3/envs/scverse-lite-py38/lib/python3.8/site-packages/loompy/bus_file.py:85: NumbaDeprecationWarning: \u001b[1mThe 'nopython' keyword argument was not supplied to the 'numba.jit' decorator. The implicit default value for this argument is currently False, but it will be changed to True in Numba 0.59.0. See https://numba.readthedocs.io/en/stable/reference/deprecation.html#deprecation-of-object-mode-fall-back-behaviour-when-using-jit for details.\u001b[0m\n",
      "  def dna_to_twobit(dna: str) -> int:\n",
      "/cellar/users/aklie/opt/miniconda3/envs/scverse-lite-py38/lib/python3.8/site-packages/loompy/bus_file.py:102: NumbaDeprecationWarning: \u001b[1mThe 'nopython' keyword argument was not supplied to the 'numba.jit' decorator. The implicit default value for this argument is currently False, but it will be changed to True in Numba 0.59.0. See https://numba.readthedocs.io/en/stable/reference/deprecation.html#deprecation-of-object-mode-fall-back-behaviour-when-using-jit for details.\u001b[0m\n",
      "  def twobit_1hamming(twobit: int, size: int) -> List[int]:\n"
     ]
    }
   ],
   "source": [
    "# Imports\n",
    "import os\n",
    "import sys\n",
    "import time\n",
    "import glob\n",
    "import logging\n",
    "import numpy as np\n",
    "import pandas as pd\n",
    "from tqdm.auto import tqdm\n",
    "sys.path.append(\"/cellar/users/aklie/data/igvf/bin\")\n",
    "from utils import make_dirs\n",
    "\n",
    "# We will use snapatac2 to load the data\n",
    "import snapatac2 as snap"
   ]
  },
  {
   "cell_type": "code",
   "execution_count": 2,
   "metadata": {},
   "outputs": [
    {
     "data": {
      "text/plain": [
       "'/cellar/users/aklie/data/igvf/beta_cell_networks/h5ad/igvf_sc-islet_10X-Multiome/16Aug23/snapatac2/processed'"
      ]
     },
     "execution_count": 2,
     "metadata": {},
     "output_type": "execute_result"
    }
   ],
   "source": [
    "# File paths\n",
    "h5ad_dir = \"/cellar/users/aklie/data/igvf/beta_cell_networks/h5ad/igvf_sc-islet_10X-Multiome/16Aug23/snapatac2/processed\"\n",
    "out_dir = h5ad_dir\n",
    "\n",
    "# Make the directory to output\n",
    "make_dirs(out_dir)"
   ]
  },
  {
   "cell_type": "code",
   "execution_count": 3,
   "metadata": {},
   "outputs": [
    {
     "name": "stderr",
     "output_type": "stream",
     "text": [
      "2023-08-23 08:06:33 - INFO - AnnData dictionary: {'DM0B': '/cellar/users/aklie/data/igvf/beta_cell_networks/h5ad/igvf_sc-islet_10X-Multiome/16Aug23/snapatac2/processed/adata_atac_DM0B_processed.h5ad', 'DM11A': '/cellar/users/aklie/data/igvf/beta_cell_networks/h5ad/igvf_sc-islet_10X-Multiome/16Aug23/snapatac2/processed/adata_atac_DM11A_processed.h5ad', 'DM12B': '/cellar/users/aklie/data/igvf/beta_cell_networks/h5ad/igvf_sc-islet_10X-Multiome/16Aug23/snapatac2/processed/adata_atac_DM12B_processed.h5ad', 'DM14B': '/cellar/users/aklie/data/igvf/beta_cell_networks/h5ad/igvf_sc-islet_10X-Multiome/16Aug23/snapatac2/processed/adata_atac_DM14B_processed.h5ad', 'DM21A': '/cellar/users/aklie/data/igvf/beta_cell_networks/h5ad/igvf_sc-islet_10X-Multiome/16Aug23/snapatac2/processed/adata_atac_DM21A_processed.h5ad', 'DM23A': '/cellar/users/aklie/data/igvf/beta_cell_networks/h5ad/igvf_sc-islet_10X-Multiome/16Aug23/snapatac2/processed/adata_atac_DM23A_processed.h5ad', 'DM24A': '/cellar/users/aklie/data/igvf/beta_cell_networks/h5ad/igvf_sc-islet_10X-Multiome/16Aug23/snapatac2/processed/adata_atac_DM24A_processed.h5ad', 'DM25A': '/cellar/users/aklie/data/igvf/beta_cell_networks/h5ad/igvf_sc-islet_10X-Multiome/16Aug23/snapatac2/processed/adata_atac_DM25A_processed.h5ad', 'DM31A': '/cellar/users/aklie/data/igvf/beta_cell_networks/h5ad/igvf_sc-islet_10X-Multiome/16Aug23/snapatac2/processed/adata_atac_DM31A_processed.h5ad', 'DM32A': '/cellar/users/aklie/data/igvf/beta_cell_networks/h5ad/igvf_sc-islet_10X-Multiome/16Aug23/snapatac2/processed/adata_atac_DM32A_processed.h5ad', 'DM33A': '/cellar/users/aklie/data/igvf/beta_cell_networks/h5ad/igvf_sc-islet_10X-Multiome/16Aug23/snapatac2/processed/adata_atac_DM33A_processed.h5ad', 'DM34A': '/cellar/users/aklie/data/igvf/beta_cell_networks/h5ad/igvf_sc-islet_10X-Multiome/16Aug23/snapatac2/processed/adata_atac_DM34A_processed.h5ad', 'DM35A': '/cellar/users/aklie/data/igvf/beta_cell_networks/h5ad/igvf_sc-islet_10X-Multiome/16Aug23/snapatac2/processed/adata_atac_DM35A_processed.h5ad', 'DM42B': '/cellar/users/aklie/data/igvf/beta_cell_networks/h5ad/igvf_sc-islet_10X-Multiome/16Aug23/snapatac2/processed/adata_atac_DM42B_processed.h5ad', 'DM43B': '/cellar/users/aklie/data/igvf/beta_cell_networks/h5ad/igvf_sc-islet_10X-Multiome/16Aug23/snapatac2/processed/adata_atac_DM43B_processed.h5ad', 'DM44A': '/cellar/users/aklie/data/igvf/beta_cell_networks/h5ad/igvf_sc-islet_10X-Multiome/16Aug23/snapatac2/processed/adata_atac_DM44A_processed.h5ad', 'DM45A': '/cellar/users/aklie/data/igvf/beta_cell_networks/h5ad/igvf_sc-islet_10X-Multiome/16Aug23/snapatac2/processed/adata_atac_DM45A_processed.h5ad', 'MO14': '/cellar/users/aklie/data/igvf/beta_cell_networks/h5ad/igvf_sc-islet_10X-Multiome/16Aug23/snapatac2/processed/adata_atac_MO14_processed.h5ad', 'MO18': '/cellar/users/aklie/data/igvf/beta_cell_networks/h5ad/igvf_sc-islet_10X-Multiome/16Aug23/snapatac2/processed/adata_atac_MO18_processed.h5ad', 'MO1': '/cellar/users/aklie/data/igvf/beta_cell_networks/h5ad/igvf_sc-islet_10X-Multiome/16Aug23/snapatac2/processed/adata_atac_MO1_processed.h5ad', 'MO22': '/cellar/users/aklie/data/igvf/beta_cell_networks/h5ad/igvf_sc-islet_10X-Multiome/16Aug23/snapatac2/processed/adata_atac_MO22_processed.h5ad', 'MO26': '/cellar/users/aklie/data/igvf/beta_cell_networks/h5ad/igvf_sc-islet_10X-Multiome/16Aug23/snapatac2/processed/adata_atac_MO26_processed.h5ad', 'MO29': '/cellar/users/aklie/data/igvf/beta_cell_networks/h5ad/igvf_sc-islet_10X-Multiome/16Aug23/snapatac2/processed/adata_atac_MO29_processed.h5ad', 'MO33': '/cellar/users/aklie/data/igvf/beta_cell_networks/h5ad/igvf_sc-islet_10X-Multiome/16Aug23/snapatac2/processed/adata_atac_MO33_processed.h5ad', 'MO38': '/cellar/users/aklie/data/igvf/beta_cell_networks/h5ad/igvf_sc-islet_10X-Multiome/16Aug23/snapatac2/processed/adata_atac_MO38_processed.h5ad', 'MO3': '/cellar/users/aklie/data/igvf/beta_cell_networks/h5ad/igvf_sc-islet_10X-Multiome/16Aug23/snapatac2/processed/adata_atac_MO3_processed.h5ad', 'MO9': '/cellar/users/aklie/data/igvf/beta_cell_networks/h5ad/igvf_sc-islet_10X-Multiome/16Aug23/snapatac2/processed/adata_atac_MO9_processed.h5ad'}\n"
     ]
    }
   ],
   "source": [
    "# Get all the h5ad files\n",
    "h5ad_glob = os.path.join(out_dir, \"adata_atac*processed.h5ad\")\n",
    "h5ad_files = sorted(glob.glob(h5ad_glob, recursive=True))\n",
    "\n",
    "# Get all the sample ids\n",
    "sample_ids = [os.path.basename(file).split(\"_\")[-2].split(\".\")[0] for file in h5ad_files]\n",
    "\n",
    "# Create a dict and log it\n",
    "h5ad_dict = dict(zip(sample_ids, h5ad_files))\n",
    "logging.info(f\"AnnData dictionary: {h5ad_dict}\")"
   ]
  },
  {
   "cell_type": "code",
   "execution_count": 4,
   "metadata": {},
   "outputs": [
    {
     "data": {
      "application/vnd.jupyter.widget-view+json": {
       "model_id": "7e8555a2b62c4bb2aaa9880fd499fba7",
       "version_major": 2,
       "version_minor": 0
      },
      "text/plain": [
       "  0%|          | 0/27 [00:00<?, ?it/s]"
      ]
     },
     "metadata": {},
     "output_type": "display_data"
    },
    {
     "name": "stderr",
     "output_type": "stream",
     "text": [
      "2023-08-23 08:06:42 - INFO - Loading /cellar/users/aklie/data/igvf/beta_cell_networks/h5ad/igvf_sc-islet_10X-Multiome/16Aug23/snapatac2/processed/adata_atac_DM0B_processed.h5ad\n",
      "2023-08-23 08:06:42 - INFO - Loading /cellar/users/aklie/data/igvf/beta_cell_networks/h5ad/igvf_sc-islet_10X-Multiome/16Aug23/snapatac2/processed/adata_atac_DM11A_processed.h5ad\n",
      "2023-08-23 08:06:42 - INFO - Loading /cellar/users/aklie/data/igvf/beta_cell_networks/h5ad/igvf_sc-islet_10X-Multiome/16Aug23/snapatac2/processed/adata_atac_DM12B_processed.h5ad\n",
      "2023-08-23 08:06:42 - INFO - Loading /cellar/users/aklie/data/igvf/beta_cell_networks/h5ad/igvf_sc-islet_10X-Multiome/16Aug23/snapatac2/processed/adata_atac_DM14B_processed.h5ad\n",
      "2023-08-23 08:06:42 - INFO - Loading /cellar/users/aklie/data/igvf/beta_cell_networks/h5ad/igvf_sc-islet_10X-Multiome/16Aug23/snapatac2/processed/adata_atac_DM21A_processed.h5ad\n",
      "2023-08-23 08:06:42 - INFO - Loading /cellar/users/aklie/data/igvf/beta_cell_networks/h5ad/igvf_sc-islet_10X-Multiome/16Aug23/snapatac2/processed/adata_atac_DM23A_processed.h5ad\n",
      "2023-08-23 08:06:43 - INFO - Loading /cellar/users/aklie/data/igvf/beta_cell_networks/h5ad/igvf_sc-islet_10X-Multiome/16Aug23/snapatac2/processed/adata_atac_DM24A_processed.h5ad\n",
      "2023-08-23 08:06:43 - INFO - Loading /cellar/users/aklie/data/igvf/beta_cell_networks/h5ad/igvf_sc-islet_10X-Multiome/16Aug23/snapatac2/processed/adata_atac_DM25A_processed.h5ad\n",
      "2023-08-23 08:06:43 - INFO - Loading /cellar/users/aklie/data/igvf/beta_cell_networks/h5ad/igvf_sc-islet_10X-Multiome/16Aug23/snapatac2/processed/adata_atac_DM31A_processed.h5ad\n",
      "2023-08-23 08:06:43 - INFO - Loading /cellar/users/aklie/data/igvf/beta_cell_networks/h5ad/igvf_sc-islet_10X-Multiome/16Aug23/snapatac2/processed/adata_atac_DM32A_processed.h5ad\n",
      "2023-08-23 08:06:43 - INFO - Loading /cellar/users/aklie/data/igvf/beta_cell_networks/h5ad/igvf_sc-islet_10X-Multiome/16Aug23/snapatac2/processed/adata_atac_DM33A_processed.h5ad\n",
      "2023-08-23 08:06:43 - INFO - Loading /cellar/users/aklie/data/igvf/beta_cell_networks/h5ad/igvf_sc-islet_10X-Multiome/16Aug23/snapatac2/processed/adata_atac_DM34A_processed.h5ad\n",
      "2023-08-23 08:06:43 - INFO - Loading /cellar/users/aklie/data/igvf/beta_cell_networks/h5ad/igvf_sc-islet_10X-Multiome/16Aug23/snapatac2/processed/adata_atac_DM35A_processed.h5ad\n",
      "2023-08-23 08:06:43 - INFO - Loading /cellar/users/aklie/data/igvf/beta_cell_networks/h5ad/igvf_sc-islet_10X-Multiome/16Aug23/snapatac2/processed/adata_atac_DM42B_processed.h5ad\n",
      "2023-08-23 08:06:43 - INFO - Loading /cellar/users/aklie/data/igvf/beta_cell_networks/h5ad/igvf_sc-islet_10X-Multiome/16Aug23/snapatac2/processed/adata_atac_DM43B_processed.h5ad\n",
      "2023-08-23 08:06:43 - INFO - Loading /cellar/users/aklie/data/igvf/beta_cell_networks/h5ad/igvf_sc-islet_10X-Multiome/16Aug23/snapatac2/processed/adata_atac_DM44A_processed.h5ad\n",
      "2023-08-23 08:06:43 - INFO - Loading /cellar/users/aklie/data/igvf/beta_cell_networks/h5ad/igvf_sc-islet_10X-Multiome/16Aug23/snapatac2/processed/adata_atac_DM45A_processed.h5ad\n",
      "2023-08-23 08:06:43 - INFO - Loading /cellar/users/aklie/data/igvf/beta_cell_networks/h5ad/igvf_sc-islet_10X-Multiome/16Aug23/snapatac2/processed/adata_atac_MO14_processed.h5ad\n",
      "2023-08-23 08:06:43 - INFO - Loading /cellar/users/aklie/data/igvf/beta_cell_networks/h5ad/igvf_sc-islet_10X-Multiome/16Aug23/snapatac2/processed/adata_atac_MO18_processed.h5ad\n",
      "2023-08-23 08:06:43 - INFO - Loading /cellar/users/aklie/data/igvf/beta_cell_networks/h5ad/igvf_sc-islet_10X-Multiome/16Aug23/snapatac2/processed/adata_atac_MO1_processed.h5ad\n",
      "2023-08-23 08:06:43 - INFO - Loading /cellar/users/aklie/data/igvf/beta_cell_networks/h5ad/igvf_sc-islet_10X-Multiome/16Aug23/snapatac2/processed/adata_atac_MO22_processed.h5ad\n",
      "2023-08-23 08:06:43 - INFO - Loading /cellar/users/aklie/data/igvf/beta_cell_networks/h5ad/igvf_sc-islet_10X-Multiome/16Aug23/snapatac2/processed/adata_atac_MO26_processed.h5ad\n",
      "2023-08-23 08:06:43 - INFO - Loading /cellar/users/aklie/data/igvf/beta_cell_networks/h5ad/igvf_sc-islet_10X-Multiome/16Aug23/snapatac2/processed/adata_atac_MO29_processed.h5ad\n",
      "2023-08-23 08:06:43 - INFO - Loading /cellar/users/aklie/data/igvf/beta_cell_networks/h5ad/igvf_sc-islet_10X-Multiome/16Aug23/snapatac2/processed/adata_atac_MO33_processed.h5ad\n",
      "2023-08-23 08:06:43 - INFO - Loading /cellar/users/aklie/data/igvf/beta_cell_networks/h5ad/igvf_sc-islet_10X-Multiome/16Aug23/snapatac2/processed/adata_atac_MO38_processed.h5ad\n",
      "2023-08-23 08:06:43 - INFO - Loading /cellar/users/aklie/data/igvf/beta_cell_networks/h5ad/igvf_sc-islet_10X-Multiome/16Aug23/snapatac2/processed/adata_atac_MO3_processed.h5ad\n",
      "2023-08-23 08:06:43 - INFO - Loading /cellar/users/aklie/data/igvf/beta_cell_networks/h5ad/igvf_sc-islet_10X-Multiome/16Aug23/snapatac2/processed/adata_atac_MO9_processed.h5ad\n"
     ]
    }
   ],
   "source": [
    "# Create the AnnDataset\n",
    "adata_atac_processed_list = []\n",
    "for i, h5ad_file in enumerate(tqdm(h5ad_files)):\n",
    "    logging.info(f\"Loading {h5ad_file}\")\n",
    "    adata_atac = snap.read(h5ad_file)\n",
    "    adata_atac_processed_list.append(adata_atac)"
   ]
  },
  {
   "cell_type": "code",
   "execution_count": 5,
   "metadata": {},
   "outputs": [],
   "source": [
    "# Merge into one object\n",
    "adata_atac_merged = snap.AnnDataSet(\n",
    "    adatas=[(name, adata) for name, adata in zip(sample_ids, adata_atac_processed_list)],\n",
    "    filename=os.path.join(out_dir, \"adata_atac_merged_processed.h5ads\")\n",
    ")"
   ]
  },
  {
   "cell_type": "code",
   "execution_count": 6,
   "metadata": {},
   "outputs": [],
   "source": [
    "# Close all the backed anndatas\n",
    "for adata_atac in adata_atac_processed_list:\n",
    "    adata_atac.close()\n",
    "adata_atac_merged.close()"
   ]
  },
  {
   "cell_type": "code",
   "execution_count": 7,
   "metadata": {},
   "outputs": [
    {
     "data": {
      "text/plain": [
       "AnnDataSet object with n_obs x n_vars = 170329 x 606219 backed at '/cellar/users/aklie/data/igvf/beta_cell_networks/h5ad/igvf_sc-islet_10X-Multiome/16Aug23/snapatac2/processed/adata_atac_merged_processed.h5ads'\n",
       "contains 27 AnnData objects with keys: 'DM0B', 'DM11A', 'DM12B', 'DM14B', 'DM21A', 'DM23A', 'DM24A', 'DM25A', 'DM31A', 'DM32A', 'DM33A', 'DM34A', 'DM35A', 'DM42B', 'DM43B', 'DM44A', 'DM45A', 'MO14', 'MO18', 'MO1', 'MO22', 'MO26', 'MO29', 'MO33', 'MO38', 'MO3', 'MO9'\n",
       "    obs: 'sample'\n",
       "    uns: 'AnnDataSet', 'reference_sequences'"
      ]
     },
     "execution_count": 7,
     "metadata": {},
     "output_type": "execute_result"
    }
   ],
   "source": [
    "adata_atac_merged = snap.read_dataset(os.path.join(out_dir, \"adata_atac_merged_processed.h5ads\"))\n",
    "adata_atac_merged"
   ]
  },
  {
   "cell_type": "code",
   "execution_count": 8,
   "metadata": {},
   "outputs": [
    {
     "data": {
      "text/plain": [
       "((array(['DM0B', 'DM11A', 'DM12B', 'DM14B', 'DM21A', 'DM23A', 'DM24A',\n",
       "         'DM25A', 'DM31A', 'DM32A', 'DM33A', 'DM35A', 'DM42B', 'DM43B',\n",
       "         'DM44A', 'DM45A', 'MO1', 'MO14', 'MO18', 'MO22', 'MO26', 'MO29',\n",
       "         'MO3', 'MO33', 'MO38', 'MO9'], dtype='<U5'),\n",
       "  array([ 9391,  7763,  9415,  7233,  1831,  7177,  7186,  7787, 10325,\n",
       "           289, 10275, 12694,  6171, 10677,  9883,  8351,  2780,  2492,\n",
       "          8521,  5205,  2527,  1553,  2852,  2972,  7099,  7880])),\n",
       " 26)"
      ]
     },
     "execution_count": 8,
     "metadata": {},
     "output_type": "execute_result"
    }
   ],
   "source": [
    "cell_sample = np.array(adata_atac_merged.obs[\"sample\"])\n",
    "np.unique(cell_sample, return_counts=True), len(np.unique(cell_sample, return_counts=True)[1])"
   ]
  },
  {
   "cell_type": "code",
   "execution_count": 9,
   "metadata": {},
   "outputs": [
    {
     "data": {
      "text/plain": [
       "array(['AATACCGGTTGTGACA-1', 'GGCATTGTCACAGCCA-1', 'TGGTCATAGTGATTCA-1',\n",
       "       'GCTGATCCAGAACCGA-1', 'TGGCTAAGTCATAACG-1'], dtype='<U18')"
      ]
     },
     "execution_count": 9,
     "metadata": {},
     "output_type": "execute_result"
    }
   ],
   "source": [
    "cell_barcodes = np.array(adata_atac_merged.obs_names)\n",
    "cell_barcodes[:5]"
   ]
  },
  {
   "cell_type": "code",
   "execution_count": 10,
   "metadata": {},
   "outputs": [
    {
     "data": {
      "text/plain": [
       "['DM0B_AATACCGGTTGTGACA-1',\n",
       " 'DM0B_GGCATTGTCACAGCCA-1',\n",
       " 'DM0B_TGGTCATAGTGATTCA-1',\n",
       " 'DM0B_GCTGATCCAGAACCGA-1',\n",
       " 'DM0B_TGGCTAAGTCATAACG-1']"
      ]
     },
     "execution_count": 10,
     "metadata": {},
     "output_type": "execute_result"
    }
   ],
   "source": [
    "# Add the sample id to the cell barcodes with \"_\" in between\n",
    "sample_barcode_names = [sample + \"_\" + barcode for sample, barcode in zip(cell_sample, cell_barcodes)]\n",
    "sample_barcode_names[:5]"
   ]
  },
  {
   "cell_type": "code",
   "execution_count": 11,
   "metadata": {},
   "outputs": [],
   "source": [
    "adata_atac_merged.obs_names = sample_barcode_names"
   ]
  },
  {
   "cell_type": "code",
   "execution_count": 12,
   "metadata": {},
   "outputs": [],
   "source": [
    "adata_atac_merged.close()"
   ]
  },
  {
   "attachments": {},
   "cell_type": "markdown",
   "metadata": {},
   "source": [
    "# DONE!"
   ]
  },
  {
   "attachments": {},
   "cell_type": "markdown",
   "metadata": {},
   "source": [
    "---"
   ]
  },
  {
   "attachments": {},
   "cell_type": "markdown",
   "metadata": {},
   "source": [
    "# Scratch"
   ]
  },
  {
   "cell_type": "code",
   "execution_count": 13,
   "metadata": {},
   "outputs": [
    {
     "data": {
      "text/plain": [
       "AnnDataSet object with n_obs x n_vars = 170329 x 606219 backed at '/cellar/users/aklie/data/igvf/beta_cell_networks/h5ad/igvf_sc-islet_10X-Multiome/16Aug23/snapatac2/processed/adata_atac_merged_processed.h5ads'\n",
       "contains 27 AnnData objects with keys: 'DM0B', 'DM11A', 'DM12B', 'DM14B', 'DM21A', 'DM23A', 'DM24A', 'DM25A', 'DM31A', 'DM32A', 'DM33A', 'DM34A', 'DM35A', 'DM42B', 'DM43B', 'DM44A', 'DM45A', 'MO14', 'MO18', 'MO1', 'MO22', 'MO26', 'MO29', 'MO33', 'MO38', 'MO3', 'MO9'\n",
       "    obs: 'sample'\n",
       "    uns: 'reference_sequences', 'AnnDataSet'"
      ]
     },
     "execution_count": 13,
     "metadata": {},
     "output_type": "execute_result"
    }
   ],
   "source": [
    "adata_atac_merged = snap.read_dataset(os.path.join(out_dir, \"adata_atac_merged_processed.h5ads\"))\n",
    "adata_atac_merged"
   ]
  },
  {
   "cell_type": "code",
   "execution_count": 15,
   "metadata": {},
   "outputs": [
    {
     "name": "stderr",
     "output_type": "stream",
     "text": [
      "2023-08-23 08:15:22 - INFO - Selected 50000 features.\n"
     ]
    }
   ],
   "source": [
    "snap.pp.select_features(adata_atac_merged, n_features=50000)"
   ]
  },
  {
   "cell_type": "code",
   "execution_count": 16,
   "metadata": {},
   "outputs": [],
   "source": [
    "adata_atac_merged.close()"
   ]
  },
  {
   "cell_type": "code",
   "execution_count": 50,
   "metadata": {},
   "outputs": [
    {
     "data": {
      "text/plain": [
       "AnnData object with n_obs x n_vars = 0 x 606219 backed at '/cellar/users/aklie/data/igvf/beta_cell_networks/h5ad/igvf_sc-islet_10X-Multiome/16Aug23/snapatac2/processed/adata_atac_DM34A_processed.h5ad'\n",
       "    obs: 'tsse', 'n_fragment', 'frac_dup', 'frac_mito', 'doublet_probability', 'doublet_score'\n",
       "    var: 'count', 'selected'\n",
       "    uns: 'scrublet_sim_doublet_score', 'reference_sequences'\n",
       "    obsm: 'insertion'"
      ]
     },
     "execution_count": 50,
     "metadata": {},
     "output_type": "execute_result"
    }
   ],
   "source": [
    "adata_atac = snap.read(\"/cellar/users/aklie/data/igvf/beta_cell_networks/h5ad/igvf_sc-islet_10X-Multiome/16Aug23/snapatac2/processed/adata_atac_DM34A_processed.h5ad\")\n",
    "adata_atac"
   ]
  },
  {
   "cell_type": "code",
   "execution_count": 52,
   "metadata": {},
   "outputs": [],
   "source": [
    "adata_atac.close()"
   ]
  },
  {
   "cell_type": "code",
   "execution_count": 53,
   "metadata": {},
   "outputs": [
    {
     "data": {
      "text/plain": [
       "AnnData object with n_obs x n_vars = 12403 x 0 backed at '/cellar/users/aklie/data/igvf/beta_cell_networks/h5ad/igvf_sc-islet_10X-Multiome/16Aug23/snapatac2/adata_atac_DM34A.h5ad'\n",
       "    obs: 'tsse', 'n_fragment', 'frac_dup', 'frac_mito'\n",
       "    uns: 'reference_sequences'\n",
       "    obsm: 'insertion'"
      ]
     },
     "execution_count": 53,
     "metadata": {},
     "output_type": "execute_result"
    }
   ],
   "source": [
    "adata_atac = snap.read(\"/cellar/users/aklie/data/igvf/beta_cell_networks/h5ad/igvf_sc-islet_10X-Multiome/16Aug23/snapatac2/adata_atac_DM34A.h5ad\")\n",
    "adata_atac"
   ]
  },
  {
   "cell_type": "code",
   "execution_count": null,
   "metadata": {},
   "outputs": [],
   "source": [
    "snap."
   ]
  }
 ],
 "metadata": {
  "kernelspec": {
   "display_name": "Python 3.8 scverse-lite",
   "language": "python",
   "name": "scverse-lite-py38"
  },
  "language_info": {
   "codemirror_mode": {
    "name": "ipython",
    "version": 3
   },
   "file_extension": ".py",
   "mimetype": "text/x-python",
   "name": "python",
   "nbconvert_exporter": "python",
   "pygments_lexer": "ipython3",
   "version": "3.8.13"
  },
  "orig_nbformat": 4
 },
 "nbformat": 4,
 "nbformat_minor": 2
}
