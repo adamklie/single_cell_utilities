{
 "cells": [
  {
   "attachments": {},
   "cell_type": "markdown",
   "metadata": {},
   "source": [
    "# Perform some initial analysis on the results of the SnapATAC2 pipeline\n",
    "**Authorship:** Adam Klie (last updated: 08/22/2023)<br>\n",
    "***\n",
    "**Description:** Notebook to plot and plan next steps from a baseline SnapATAC2 run. Expects that you have run all steps up to and including `7_analyze_anndataset.sh`. This is somewhat of a playground and thus will need to be interactive."
   ]
  },
  {
   "attachments": {},
   "cell_type": "markdown",
   "metadata": {},
   "source": [
    "# Load processed and analyzed AnnDataset"
   ]
  },
  {
   "attachments": {},
   "cell_type": "markdown",
   "metadata": {},
   "source": [
    "# Add metadata from other places"
   ]
  },
  {
   "attachments": {},
   "cell_type": "markdown",
   "metadata": {},
   "source": [
    "# Batch correction"
   ]
  },
  {
   "attachments": {},
   "cell_type": "markdown",
   "metadata": {},
   "source": [
    "```python\n",
    "snap.pp.mnc_correct(data, batch=\"sample\")\n",
    "snap.pp.harmony(data, batch=\"sample\", max_iter_harmony=20)\n",
    "```"
   ]
  },
  {
   "attachments": {},
   "cell_type": "markdown",
   "metadata": {},
   "source": [
    "```python\n",
    "snap.tl.umap(data, use_rep=\"X_spectral_mnn\")\n",
    "snap.pl.umap(data, color=\"sample\", interactive=False)\n",
    "```"
   ]
  },
  {
   "attachments": {},
   "cell_type": "markdown",
   "metadata": {},
   "source": [
    "```python\n",
    "snap.tl.umap(data, use_rep=\"X_spectral_harmony\")\n",
    "snap.pl.umap(data, color=\"sample\", interactive=False)\n",
    "```"
   ]
  },
  {
   "attachments": {},
   "cell_type": "markdown",
   "metadata": {},
   "source": [
    "# snapatac2.pl.spectral_eigenvalues for each dim reduction"
   ]
  },
  {
   "attachments": {},
   "cell_type": "markdown",
   "metadata": {},
   "source": [
    "# Recluster"
   ]
  },
  {
   "attachments": {},
   "cell_type": "markdown",
   "metadata": {},
   "source": [
    "```python\n",
    "snap.pp.knn(data, use_rep=\"X_spectral_harmony\")\n",
    "snap.tl.leiden(data)\n",
    "snap.pl.umap(data, color=\"leiden\", interactive=False)\n",
    "```"
   ]
  },
  {
   "attachments": {},
   "cell_type": "markdown",
   "metadata": {},
   "source": [
    "# Joint embedding with RNA?"
   ]
  },
  {
   "attachments": {},
   "cell_type": "markdown",
   "metadata": {},
   "source": [
    "# Differential accessibility?"
   ]
  },
  {
   "attachments": {},
   "cell_type": "markdown",
   "metadata": {},
   "source": [
    "# Export to BED and BigWig?"
   ]
  },
  {
   "attachments": {},
   "cell_type": "markdown",
   "metadata": {},
   "source": []
  }
 ],
 "metadata": {
  "language_info": {
   "name": "python"
  },
  "orig_nbformat": 4
 },
 "nbformat": 4,
 "nbformat_minor": 2
}
