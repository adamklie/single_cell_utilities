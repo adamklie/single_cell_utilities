{
 "cells": [
  {
   "attachments": {},
   "cell_type": "markdown",
   "metadata": {},
   "source": [
    "# Create AnnDataset from h5ad files using SnapATAC2\n",
    "**Authorship:** Adam Klie (last updated: 08/22/2023)<br>\n",
    "***\n",
    "**Description:** Notebook to convert a set of AnndDatas written to disk as h5ad files into an AnnDataset object which is written to disk as an h5ads file. This is often an optional step in the pipeline, as working with AnnDatasets is not fully functional in SnapATAC2. Needs to be run after `1_create_anndatas_from_frag_files.sh`."
   ]
  },
  {
   "attachments": {},
   "cell_type": "markdown",
   "metadata": {},
   "source": [
    "# Set-up"
   ]
  },
  {
   "cell_type": "code",
   "execution_count": 13,
   "metadata": {},
   "outputs": [],
   "source": [
    "# Imports\n",
    "import os\n",
    "import sys\n",
    "import time\n",
    "import glob\n",
    "import logging\n",
    "import numpy as np\n",
    "import pandas as pd\n",
    "from tqdm.auto import tqdm\n",
    "\n",
    "# We will use snapatac2 to load the data\n",
    "import snapatac2 as snap"
   ]
  },
  {
   "cell_type": "code",
   "execution_count": 3,
   "metadata": {},
   "outputs": [],
   "source": [
    "# Directories\n",
    "h5ad_dir = \"/cellar/users/aklie/data/datasets/igvf_sc-islet_10X-Multiome/annotation/16Aug23/snapatac2\"\n",
    "out_dir =  \"/cellar/users/aklie/data/datasets/igvf_sc-islet_10X-Multiome/annotation/2023_11_14/snapatac2\""
   ]
  },
  {
   "cell_type": "code",
   "execution_count": 6,
   "metadata": {},
   "outputs": [
    {
     "name": "stderr",
     "output_type": "stream",
     "text": [
      "2023-11-15 10:53:10 - INFO - AnnData dictionary: {'dm0b': '/cellar/users/aklie/data/datasets/igvf_sc-islet_10X-Multiome/annotation/16Aug23/snapatac2/adata_atac_DM0B.h5ad', 'dm11a': '/cellar/users/aklie/data/datasets/igvf_sc-islet_10X-Multiome/annotation/16Aug23/snapatac2/adata_atac_DM11A.h5ad', 'dm12b': '/cellar/users/aklie/data/datasets/igvf_sc-islet_10X-Multiome/annotation/16Aug23/snapatac2/adata_atac_DM12B.h5ad', 'dm14b': '/cellar/users/aklie/data/datasets/igvf_sc-islet_10X-Multiome/annotation/16Aug23/snapatac2/adata_atac_DM14B.h5ad', 'dm21a': '/cellar/users/aklie/data/datasets/igvf_sc-islet_10X-Multiome/annotation/16Aug23/snapatac2/adata_atac_DM21A.h5ad', 'dm23a': '/cellar/users/aklie/data/datasets/igvf_sc-islet_10X-Multiome/annotation/16Aug23/snapatac2/adata_atac_DM23A.h5ad', 'dm24a': '/cellar/users/aklie/data/datasets/igvf_sc-islet_10X-Multiome/annotation/16Aug23/snapatac2/adata_atac_DM24A.h5ad', 'dm25a': '/cellar/users/aklie/data/datasets/igvf_sc-islet_10X-Multiome/annotation/16Aug23/snapatac2/adata_atac_DM25A.h5ad', 'dm31a': '/cellar/users/aklie/data/datasets/igvf_sc-islet_10X-Multiome/annotation/16Aug23/snapatac2/adata_atac_DM31A.h5ad', 'dm32a': '/cellar/users/aklie/data/datasets/igvf_sc-islet_10X-Multiome/annotation/16Aug23/snapatac2/adata_atac_DM32A.h5ad', 'dm33a': '/cellar/users/aklie/data/datasets/igvf_sc-islet_10X-Multiome/annotation/16Aug23/snapatac2/adata_atac_DM33A.h5ad', 'dm34a': '/cellar/users/aklie/data/datasets/igvf_sc-islet_10X-Multiome/annotation/16Aug23/snapatac2/adata_atac_DM34A.h5ad', 'dm35a': '/cellar/users/aklie/data/datasets/igvf_sc-islet_10X-Multiome/annotation/16Aug23/snapatac2/adata_atac_DM35A.h5ad', 'dm42b': '/cellar/users/aklie/data/datasets/igvf_sc-islet_10X-Multiome/annotation/16Aug23/snapatac2/adata_atac_DM42B.h5ad', 'dm43b': '/cellar/users/aklie/data/datasets/igvf_sc-islet_10X-Multiome/annotation/16Aug23/snapatac2/adata_atac_DM43B.h5ad', 'dm44a': '/cellar/users/aklie/data/datasets/igvf_sc-islet_10X-Multiome/annotation/16Aug23/snapatac2/adata_atac_DM44A.h5ad', 'dm45a': '/cellar/users/aklie/data/datasets/igvf_sc-islet_10X-Multiome/annotation/16Aug23/snapatac2/adata_atac_DM45A.h5ad', 'mo1': '/cellar/users/aklie/data/datasets/igvf_sc-islet_10X-Multiome/annotation/16Aug23/snapatac2/adata_atac_MO1.h5ad', 'mo14': '/cellar/users/aklie/data/datasets/igvf_sc-islet_10X-Multiome/annotation/16Aug23/snapatac2/adata_atac_MO14.h5ad', 'mo18': '/cellar/users/aklie/data/datasets/igvf_sc-islet_10X-Multiome/annotation/16Aug23/snapatac2/adata_atac_MO18.h5ad', 'mo22': '/cellar/users/aklie/data/datasets/igvf_sc-islet_10X-Multiome/annotation/16Aug23/snapatac2/adata_atac_MO22.h5ad', 'mo26': '/cellar/users/aklie/data/datasets/igvf_sc-islet_10X-Multiome/annotation/16Aug23/snapatac2/adata_atac_MO26.h5ad', 'mo29': '/cellar/users/aklie/data/datasets/igvf_sc-islet_10X-Multiome/annotation/16Aug23/snapatac2/adata_atac_MO29.h5ad', 'mo3': '/cellar/users/aklie/data/datasets/igvf_sc-islet_10X-Multiome/annotation/16Aug23/snapatac2/adata_atac_MO3.h5ad', 'mo33': '/cellar/users/aklie/data/datasets/igvf_sc-islet_10X-Multiome/annotation/16Aug23/snapatac2/adata_atac_MO33.h5ad', 'mo38': '/cellar/users/aklie/data/datasets/igvf_sc-islet_10X-Multiome/annotation/16Aug23/snapatac2/adata_atac_MO38.h5ad', 'mo9': '/cellar/users/aklie/data/datasets/igvf_sc-islet_10X-Multiome/annotation/16Aug23/snapatac2/adata_atac_MO9.h5ad'}\n"
     ]
    }
   ],
   "source": [
    "# Get all the h5ad files\n",
    "h5ad_glob = os.path.join(h5ad_dir, \"adata_atac*.h5ad\")\n",
    "h5ad_files = sorted(glob.glob(h5ad_glob, recursive=True))\n",
    "\n",
    "# Get all the sample ids\n",
    "sample_ids = [os.path.basename(file).split(\"_\")[-1].split(\".\")[0].lower() for file in h5ad_files]\n",
    "\n",
    "# Create a dict and log it\n",
    "h5ad_dict = dict(zip(sample_ids, h5ad_files))\n",
    "logging.info(f\"AnnData dictionary: {h5ad_dict}\")"
   ]
  },
  {
   "cell_type": "code",
   "execution_count": 7,
   "metadata": {},
   "outputs": [
    {
     "data": {
      "application/vnd.jupyter.widget-view+json": {
       "model_id": "cc41cdd59407441a96b32240bba7d00b",
       "version_major": 2,
       "version_minor": 0
      },
      "text/plain": [
       "  0%|          | 0/27 [00:00<?, ?it/s]"
      ]
     },
     "metadata": {},
     "output_type": "display_data"
    },
    {
     "name": "stderr",
     "output_type": "stream",
     "text": [
      "2023-11-15 10:53:12 - INFO - Loading /cellar/users/aklie/data/datasets/igvf_sc-islet_10X-Multiome/annotation/16Aug23/snapatac2/adata_atac_DM0B.h5ad\n",
      "2023-11-15 10:53:13 - INFO - Loading /cellar/users/aklie/data/datasets/igvf_sc-islet_10X-Multiome/annotation/16Aug23/snapatac2/adata_atac_DM11A.h5ad\n",
      "2023-11-15 10:53:14 - INFO - Loading /cellar/users/aklie/data/datasets/igvf_sc-islet_10X-Multiome/annotation/16Aug23/snapatac2/adata_atac_DM12B.h5ad\n",
      "2023-11-15 10:53:14 - INFO - Loading /cellar/users/aklie/data/datasets/igvf_sc-islet_10X-Multiome/annotation/16Aug23/snapatac2/adata_atac_DM14B.h5ad\n",
      "2023-11-15 10:53:14 - INFO - Loading /cellar/users/aklie/data/datasets/igvf_sc-islet_10X-Multiome/annotation/16Aug23/snapatac2/adata_atac_DM21A.h5ad\n",
      "2023-11-15 10:53:15 - INFO - Loading /cellar/users/aklie/data/datasets/igvf_sc-islet_10X-Multiome/annotation/16Aug23/snapatac2/adata_atac_DM23A.h5ad\n",
      "2023-11-15 10:53:15 - INFO - Loading /cellar/users/aklie/data/datasets/igvf_sc-islet_10X-Multiome/annotation/16Aug23/snapatac2/adata_atac_DM24A.h5ad\n",
      "2023-11-15 10:53:15 - INFO - Loading /cellar/users/aklie/data/datasets/igvf_sc-islet_10X-Multiome/annotation/16Aug23/snapatac2/adata_atac_DM25A.h5ad\n",
      "2023-11-15 10:53:15 - INFO - Loading /cellar/users/aklie/data/datasets/igvf_sc-islet_10X-Multiome/annotation/16Aug23/snapatac2/adata_atac_DM31A.h5ad\n",
      "2023-11-15 10:53:16 - INFO - Loading /cellar/users/aklie/data/datasets/igvf_sc-islet_10X-Multiome/annotation/16Aug23/snapatac2/adata_atac_DM32A.h5ad\n",
      "2023-11-15 10:53:16 - INFO - Loading /cellar/users/aklie/data/datasets/igvf_sc-islet_10X-Multiome/annotation/16Aug23/snapatac2/adata_atac_DM33A.h5ad\n",
      "2023-11-15 10:53:17 - INFO - Loading /cellar/users/aklie/data/datasets/igvf_sc-islet_10X-Multiome/annotation/16Aug23/snapatac2/adata_atac_DM34A.h5ad\n",
      "2023-11-15 10:53:17 - INFO - Loading /cellar/users/aklie/data/datasets/igvf_sc-islet_10X-Multiome/annotation/16Aug23/snapatac2/adata_atac_DM35A.h5ad\n",
      "2023-11-15 10:53:17 - INFO - Loading /cellar/users/aklie/data/datasets/igvf_sc-islet_10X-Multiome/annotation/16Aug23/snapatac2/adata_atac_DM42B.h5ad\n",
      "2023-11-15 10:53:17 - INFO - Loading /cellar/users/aklie/data/datasets/igvf_sc-islet_10X-Multiome/annotation/16Aug23/snapatac2/adata_atac_DM43B.h5ad\n",
      "2023-11-15 10:53:17 - INFO - Loading /cellar/users/aklie/data/datasets/igvf_sc-islet_10X-Multiome/annotation/16Aug23/snapatac2/adata_atac_DM44A.h5ad\n",
      "2023-11-15 10:53:18 - INFO - Loading /cellar/users/aklie/data/datasets/igvf_sc-islet_10X-Multiome/annotation/16Aug23/snapatac2/adata_atac_DM45A.h5ad\n",
      "2023-11-15 10:53:18 - INFO - Loading /cellar/users/aklie/data/datasets/igvf_sc-islet_10X-Multiome/annotation/16Aug23/snapatac2/adata_atac_MO1.h5ad\n",
      "2023-11-15 10:53:18 - INFO - Loading /cellar/users/aklie/data/datasets/igvf_sc-islet_10X-Multiome/annotation/16Aug23/snapatac2/adata_atac_MO14.h5ad\n",
      "2023-11-15 10:53:18 - INFO - Loading /cellar/users/aklie/data/datasets/igvf_sc-islet_10X-Multiome/annotation/16Aug23/snapatac2/adata_atac_MO18.h5ad\n",
      "2023-11-15 10:53:18 - INFO - Loading /cellar/users/aklie/data/datasets/igvf_sc-islet_10X-Multiome/annotation/16Aug23/snapatac2/adata_atac_MO22.h5ad\n",
      "2023-11-15 10:53:18 - INFO - Loading /cellar/users/aklie/data/datasets/igvf_sc-islet_10X-Multiome/annotation/16Aug23/snapatac2/adata_atac_MO26.h5ad\n",
      "2023-11-15 10:53:18 - INFO - Loading /cellar/users/aklie/data/datasets/igvf_sc-islet_10X-Multiome/annotation/16Aug23/snapatac2/adata_atac_MO29.h5ad\n",
      "2023-11-15 10:53:19 - INFO - Loading /cellar/users/aklie/data/datasets/igvf_sc-islet_10X-Multiome/annotation/16Aug23/snapatac2/adata_atac_MO3.h5ad\n",
      "2023-11-15 10:53:19 - INFO - Loading /cellar/users/aklie/data/datasets/igvf_sc-islet_10X-Multiome/annotation/16Aug23/snapatac2/adata_atac_MO33.h5ad\n",
      "2023-11-15 10:53:19 - INFO - Loading /cellar/users/aklie/data/datasets/igvf_sc-islet_10X-Multiome/annotation/16Aug23/snapatac2/adata_atac_MO38.h5ad\n",
      "2023-11-15 10:53:19 - INFO - Loading /cellar/users/aklie/data/datasets/igvf_sc-islet_10X-Multiome/annotation/16Aug23/snapatac2/adata_atac_MO9.h5ad\n"
     ]
    }
   ],
   "source": [
    "# Create the AnnDataset\n",
    "adata_atac_list = []\n",
    "for i, h5ad_file in enumerate(tqdm(h5ad_files)):\n",
    "    logging.info(f\"Loading {h5ad_file}\")\n",
    "    adata_atac = snap.read(h5ad_file)\n",
    "    adata_atac_list.append(adata_atac)"
   ]
  },
  {
   "cell_type": "code",
   "execution_count": 9,
   "metadata": {},
   "outputs": [
    {
     "data": {
      "text/plain": [
       "[AnnData object with n_obs x n_vars = 11608 x 0 backed at '/cellar/users/aklie/data/datasets/igvf_sc-islet_10X-Multiome/annotation/16Aug23/snapatac2/adata_atac_DM0B.h5ad'\n",
       "     obs: 'tsse', 'n_fragment', 'frac_dup', 'frac_mito'\n",
       "     uns: 'reference_sequences'\n",
       "     obsm: 'insertion',\n",
       " AnnData object with n_obs x n_vars = 11864 x 0 backed at '/cellar/users/aklie/data/datasets/igvf_sc-islet_10X-Multiome/annotation/16Aug23/snapatac2/adata_atac_DM11A.h5ad'\n",
       "     obs: 'tsse', 'n_fragment', 'frac_dup', 'frac_mito'\n",
       "     uns: 'reference_sequences'\n",
       "     obsm: 'insertion',\n",
       " AnnData object with n_obs x n_vars = 12272 x 0 backed at '/cellar/users/aklie/data/datasets/igvf_sc-islet_10X-Multiome/annotation/16Aug23/snapatac2/adata_atac_DM12B.h5ad'\n",
       "     obs: 'tsse', 'n_fragment', 'frac_dup', 'frac_mito'\n",
       "     uns: 'reference_sequences'\n",
       "     obsm: 'insertion',\n",
       " AnnData object with n_obs x n_vars = 8580 x 0 backed at '/cellar/users/aklie/data/datasets/igvf_sc-islet_10X-Multiome/annotation/16Aug23/snapatac2/adata_atac_DM14B.h5ad'\n",
       "     obs: 'tsse', 'n_fragment', 'frac_dup', 'frac_mito'\n",
       "     uns: 'reference_sequences'\n",
       "     obsm: 'insertion',\n",
       " AnnData object with n_obs x n_vars = 13063 x 0 backed at '/cellar/users/aklie/data/datasets/igvf_sc-islet_10X-Multiome/annotation/16Aug23/snapatac2/adata_atac_DM21A.h5ad'\n",
       "     obs: 'tsse', 'n_fragment', 'frac_dup', 'frac_mito'\n",
       "     uns: 'reference_sequences'\n",
       "     obsm: 'insertion',\n",
       " AnnData object with n_obs x n_vars = 8741 x 0 backed at '/cellar/users/aklie/data/datasets/igvf_sc-islet_10X-Multiome/annotation/16Aug23/snapatac2/adata_atac_DM23A.h5ad'\n",
       "     obs: 'tsse', 'n_fragment', 'frac_dup', 'frac_mito'\n",
       "     uns: 'reference_sequences'\n",
       "     obsm: 'insertion',\n",
       " AnnData object with n_obs x n_vars = 8377 x 0 backed at '/cellar/users/aklie/data/datasets/igvf_sc-islet_10X-Multiome/annotation/16Aug23/snapatac2/adata_atac_DM24A.h5ad'\n",
       "     obs: 'tsse', 'n_fragment', 'frac_dup', 'frac_mito'\n",
       "     uns: 'reference_sequences'\n",
       "     obsm: 'insertion',\n",
       " AnnData object with n_obs x n_vars = 10323 x 0 backed at '/cellar/users/aklie/data/datasets/igvf_sc-islet_10X-Multiome/annotation/16Aug23/snapatac2/adata_atac_DM25A.h5ad'\n",
       "     obs: 'tsse', 'n_fragment', 'frac_dup', 'frac_mito'\n",
       "     uns: 'reference_sequences'\n",
       "     obsm: 'insertion',\n",
       " AnnData object with n_obs x n_vars = 12605 x 0 backed at '/cellar/users/aklie/data/datasets/igvf_sc-islet_10X-Multiome/annotation/16Aug23/snapatac2/adata_atac_DM31A.h5ad'\n",
       "     obs: 'tsse', 'n_fragment', 'frac_dup', 'frac_mito'\n",
       "     uns: 'reference_sequences'\n",
       "     obsm: 'insertion',\n",
       " AnnData object with n_obs x n_vars = 10927 x 0 backed at '/cellar/users/aklie/data/datasets/igvf_sc-islet_10X-Multiome/annotation/16Aug23/snapatac2/adata_atac_DM32A.h5ad'\n",
       "     obs: 'tsse', 'n_fragment', 'frac_dup', 'frac_mito'\n",
       "     uns: 'reference_sequences'\n",
       "     obsm: 'insertion',\n",
       " AnnData object with n_obs x n_vars = 11845 x 0 backed at '/cellar/users/aklie/data/datasets/igvf_sc-islet_10X-Multiome/annotation/16Aug23/snapatac2/adata_atac_DM33A.h5ad'\n",
       "     obs: 'tsse', 'n_fragment', 'frac_dup', 'frac_mito'\n",
       "     uns: 'reference_sequences'\n",
       "     obsm: 'insertion',\n",
       " AnnData object with n_obs x n_vars = 12403 x 0 backed at '/cellar/users/aklie/data/datasets/igvf_sc-islet_10X-Multiome/annotation/16Aug23/snapatac2/adata_atac_DM34A.h5ad'\n",
       "     obs: 'tsse', 'n_fragment', 'frac_dup', 'frac_mito'\n",
       "     uns: 'reference_sequences'\n",
       "     obsm: 'insertion',\n",
       " AnnData object with n_obs x n_vars = 15780 x 0 backed at '/cellar/users/aklie/data/datasets/igvf_sc-islet_10X-Multiome/annotation/16Aug23/snapatac2/adata_atac_DM35A.h5ad'\n",
       "     obs: 'tsse', 'n_fragment', 'frac_dup', 'frac_mito'\n",
       "     uns: 'reference_sequences'\n",
       "     obsm: 'insertion',\n",
       " AnnData object with n_obs x n_vars = 7596 x 0 backed at '/cellar/users/aklie/data/datasets/igvf_sc-islet_10X-Multiome/annotation/16Aug23/snapatac2/adata_atac_DM42B.h5ad'\n",
       "     obs: 'tsse', 'n_fragment', 'frac_dup', 'frac_mito'\n",
       "     uns: 'reference_sequences'\n",
       "     obsm: 'insertion',\n",
       " AnnData object with n_obs x n_vars = 13291 x 0 backed at '/cellar/users/aklie/data/datasets/igvf_sc-islet_10X-Multiome/annotation/16Aug23/snapatac2/adata_atac_DM43B.h5ad'\n",
       "     obs: 'tsse', 'n_fragment', 'frac_dup', 'frac_mito'\n",
       "     uns: 'reference_sequences'\n",
       "     obsm: 'insertion',\n",
       " AnnData object with n_obs x n_vars = 11101 x 0 backed at '/cellar/users/aklie/data/datasets/igvf_sc-islet_10X-Multiome/annotation/16Aug23/snapatac2/adata_atac_DM44A.h5ad'\n",
       "     obs: 'tsse', 'n_fragment', 'frac_dup', 'frac_mito'\n",
       "     uns: 'reference_sequences'\n",
       "     obsm: 'insertion',\n",
       " AnnData object with n_obs x n_vars = 14623 x 0 backed at '/cellar/users/aklie/data/datasets/igvf_sc-islet_10X-Multiome/annotation/16Aug23/snapatac2/adata_atac_DM45A.h5ad'\n",
       "     obs: 'tsse', 'n_fragment', 'frac_dup', 'frac_mito'\n",
       "     uns: 'reference_sequences'\n",
       "     obsm: 'insertion',\n",
       " AnnData object with n_obs x n_vars = 3490 x 0 backed at '/cellar/users/aklie/data/datasets/igvf_sc-islet_10X-Multiome/annotation/16Aug23/snapatac2/adata_atac_MO1.h5ad'\n",
       "     obs: 'tsse', 'n_fragment', 'frac_dup', 'frac_mito'\n",
       "     uns: 'reference_sequences'\n",
       "     obsm: 'insertion',\n",
       " AnnData object with n_obs x n_vars = 3022 x 0 backed at '/cellar/users/aklie/data/datasets/igvf_sc-islet_10X-Multiome/annotation/16Aug23/snapatac2/adata_atac_MO14.h5ad'\n",
       "     obs: 'tsse', 'n_fragment', 'frac_dup', 'frac_mito'\n",
       "     uns: 'reference_sequences'\n",
       "     obsm: 'insertion',\n",
       " AnnData object with n_obs x n_vars = 10228 x 0 backed at '/cellar/users/aklie/data/datasets/igvf_sc-islet_10X-Multiome/annotation/16Aug23/snapatac2/adata_atac_MO18.h5ad'\n",
       "     obs: 'tsse', 'n_fragment', 'frac_dup', 'frac_mito'\n",
       "     uns: 'reference_sequences'\n",
       "     obsm: 'insertion',\n",
       " AnnData object with n_obs x n_vars = 6302 x 0 backed at '/cellar/users/aklie/data/datasets/igvf_sc-islet_10X-Multiome/annotation/16Aug23/snapatac2/adata_atac_MO22.h5ad'\n",
       "     obs: 'tsse', 'n_fragment', 'frac_dup', 'frac_mito'\n",
       "     uns: 'reference_sequences'\n",
       "     obsm: 'insertion',\n",
       " AnnData object with n_obs x n_vars = 3163 x 0 backed at '/cellar/users/aklie/data/datasets/igvf_sc-islet_10X-Multiome/annotation/16Aug23/snapatac2/adata_atac_MO26.h5ad'\n",
       "     obs: 'tsse', 'n_fragment', 'frac_dup', 'frac_mito'\n",
       "     uns: 'reference_sequences'\n",
       "     obsm: 'insertion',\n",
       " AnnData object with n_obs x n_vars = 2016 x 0 backed at '/cellar/users/aklie/data/datasets/igvf_sc-islet_10X-Multiome/annotation/16Aug23/snapatac2/adata_atac_MO29.h5ad'\n",
       "     obs: 'tsse', 'n_fragment', 'frac_dup', 'frac_mito'\n",
       "     uns: 'reference_sequences'\n",
       "     obsm: 'insertion',\n",
       " AnnData object with n_obs x n_vars = 3491 x 0 backed at '/cellar/users/aklie/data/datasets/igvf_sc-islet_10X-Multiome/annotation/16Aug23/snapatac2/adata_atac_MO3.h5ad'\n",
       "     obs: 'tsse', 'n_fragment', 'frac_dup', 'frac_mito'\n",
       "     uns: 'reference_sequences'\n",
       "     obsm: 'insertion',\n",
       " AnnData object with n_obs x n_vars = 3743 x 0 backed at '/cellar/users/aklie/data/datasets/igvf_sc-islet_10X-Multiome/annotation/16Aug23/snapatac2/adata_atac_MO33.h5ad'\n",
       "     obs: 'tsse', 'n_fragment', 'frac_dup', 'frac_mito'\n",
       "     uns: 'reference_sequences'\n",
       "     obsm: 'insertion',\n",
       " AnnData object with n_obs x n_vars = 8626 x 0 backed at '/cellar/users/aklie/data/datasets/igvf_sc-islet_10X-Multiome/annotation/16Aug23/snapatac2/adata_atac_MO38.h5ad'\n",
       "     obs: 'tsse', 'n_fragment', 'frac_dup', 'frac_mito'\n",
       "     uns: 'reference_sequences'\n",
       "     obsm: 'insertion',\n",
       " AnnData object with n_obs x n_vars = 9607 x 0 backed at '/cellar/users/aklie/data/datasets/igvf_sc-islet_10X-Multiome/annotation/16Aug23/snapatac2/adata_atac_MO9.h5ad'\n",
       "     obs: 'tsse', 'n_fragment', 'frac_dup', 'frac_mito'\n",
       "     uns: 'reference_sequences'\n",
       "     obsm: 'insertion']"
      ]
     },
     "execution_count": 9,
     "metadata": {},
     "output_type": "execute_result"
    }
   ],
   "source": [
    "adata_atac_list"
   ]
  },
  {
   "cell_type": "code",
   "execution_count": 10,
   "metadata": {},
   "outputs": [],
   "source": [
    "# Merge into one object\n",
    "adata_atac_merged = snap.AnnDataSet(\n",
    "    adatas=[(name, adata) for name, adata in zip(sample_ids, adata_atac_list)],\n",
    "    filename=os.path.join(out_dir, \"adata_atac_all.h5ads\")\n",
    ")"
   ]
  },
  {
   "cell_type": "code",
   "execution_count": 11,
   "metadata": {},
   "outputs": [],
   "source": [
    "# Close all the backed anndatas\n",
    "for adata_atac in adata_atac_list:\n",
    "    adata_atac.close()\n",
    "adata_atac_merged.close()"
   ]
  },
  {
   "cell_type": "code",
   "execution_count": 12,
   "metadata": {},
   "outputs": [
    {
     "data": {
      "text/plain": [
       "AnnDataSet object with n_obs x n_vars = 248687 x 0 backed at '/cellar/users/aklie/data/datasets/igvf_sc-islet_10X-Multiome/annotation/2023_11_14/snapatac2/adata_atac_all.h5ads'\n",
       "contains 27 AnnData objects with keys: 'dm0b', 'dm11a', 'dm12b', 'dm14b', 'dm21a', 'dm23a', 'dm24a', 'dm25a', 'dm31a', 'dm32a', 'dm33a', 'dm34a', 'dm35a', 'dm42b', 'dm43b', 'dm44a', 'dm45a', 'mo1', 'mo14', 'mo18', 'mo22', 'mo26', 'mo29', 'mo3', 'mo33', 'mo38', 'mo9'\n",
       "    obs: 'sample'\n",
       "    uns: 'reference_sequences', 'AnnDataSet'"
      ]
     },
     "execution_count": 12,
     "metadata": {},
     "output_type": "execute_result"
    }
   ],
   "source": [
    "adata_atac_merged = snap.read_dataset(os.path.join(out_dir, \"adata_atac_all.h5ads\"))\n",
    "adata_atac_merged"
   ]
  },
  {
   "cell_type": "code",
   "execution_count": 21,
   "metadata": {},
   "outputs": [
    {
     "data": {
      "text/plain": [
       "((array(['dm0b', 'dm11a', 'dm12b', 'dm14b', 'dm21a', 'dm23a', 'dm24a',\n",
       "         'dm25a', 'dm31a', 'dm32a', 'dm33a', 'dm34a', 'dm35a', 'dm42b',\n",
       "         'dm43b', 'dm44a', 'dm45a', 'mo1', 'mo14', 'mo18', 'mo22', 'mo26',\n",
       "         'mo29', 'mo3', 'mo33', 'mo38', 'mo9'], dtype='<U5'),\n",
       "  array([11608, 11864, 12272,  8580, 13063,  8741,  8377, 10323, 12605,\n",
       "         10927, 11845, 12403, 15780,  7596, 13291, 11101, 14623,  3490,\n",
       "          3022, 10228,  6302,  3163,  2016,  3491,  3743,  8626,  9607])),\n",
       " 27)"
      ]
     },
     "execution_count": 21,
     "metadata": {},
     "output_type": "execute_result"
    }
   ],
   "source": [
    "cell_sample = np.array(adata_atac_merged.obs[\"sample\"])\n",
    "np.unique(cell_sample, return_counts=True), len(np.unique(cell_sample, return_counts=True)[1])"
   ]
  },
  {
   "cell_type": "code",
   "execution_count": 22,
   "metadata": {},
   "outputs": [
    {
     "data": {
      "text/plain": [
       "array(['AATACCGGTTGTGACA-1', 'GTTAACGGTAGTTACG-1', 'GGCATTGTCACAGCCA-1',\n",
       "       'TGGTCATAGTGATTCA-1', 'GCTGATCCAGAACCGA-1'], dtype='<U18')"
      ]
     },
     "execution_count": 22,
     "metadata": {},
     "output_type": "execute_result"
    }
   ],
   "source": [
    "cell_barcodes = np.array(adata_atac_merged.obs_names)\n",
    "cell_barcodes[:5]"
   ]
  },
  {
   "cell_type": "code",
   "execution_count": 23,
   "metadata": {},
   "outputs": [
    {
     "data": {
      "text/plain": [
       "['dm0b#AATACCGGTTGTGACA-1',\n",
       " 'dm0b#GTTAACGGTAGTTACG-1',\n",
       " 'dm0b#GGCATTGTCACAGCCA-1',\n",
       " 'dm0b#TGGTCATAGTGATTCA-1',\n",
       " 'dm0b#GCTGATCCAGAACCGA-1']"
      ]
     },
     "execution_count": 23,
     "metadata": {},
     "output_type": "execute_result"
    }
   ],
   "source": [
    "# Add the sample id to the cell barcodes with \"_\" in between\n",
    "sample_barcode_names = [sample + \"#\" + barcode for sample, barcode in zip(cell_sample, cell_barcodes)]\n",
    "sample_barcode_names[:5]"
   ]
  },
  {
   "cell_type": "code",
   "execution_count": 24,
   "metadata": {},
   "outputs": [],
   "source": [
    "\n",
    "adata_atac_merged.obs_names = sample_barcode_names"
   ]
  },
  {
   "cell_type": "code",
   "execution_count": 27,
   "metadata": {},
   "outputs": [
    {
     "data": {
      "text/plain": [
       "AnnDataSet object with n_obs x n_vars = 248687 x 0 backed at '/cellar/users/aklie/data/datasets/igvf_sc-islet_10X-Multiome/annotation/2023_11_14/snapatac2/adata_atac_all.h5ads'\n",
       "contains 27 AnnData objects with keys: 'dm0b', 'dm11a', 'dm12b', 'dm14b', 'dm21a', 'dm23a', 'dm24a', 'dm25a', 'dm31a', 'dm32a', 'dm33a', 'dm34a', 'dm35a', 'dm42b', 'dm43b', 'dm44a', 'dm45a', 'mo1', 'mo14', 'mo18', 'mo22', 'mo26', 'mo29', 'mo3', 'mo33', 'mo38', 'mo9'\n",
       "    obs: 'sample'\n",
       "    uns: 'reference_sequences', 'AnnDataSet'"
      ]
     },
     "execution_count": 27,
     "metadata": {},
     "output_type": "execute_result"
    }
   ],
   "source": [
    "adata_atac_merged"
   ]
  },
  {
   "cell_type": "code",
   "execution_count": 28,
   "metadata": {},
   "outputs": [],
   "source": [
    "adata_atac_merged.close()"
   ]
  },
  {
   "attachments": {},
   "cell_type": "markdown",
   "metadata": {},
   "source": [
    "# DONE!"
   ]
  },
  {
   "attachments": {},
   "cell_type": "markdown",
   "metadata": {},
   "source": [
    "---"
   ]
  },
  {
   "attachments": {},
   "cell_type": "markdown",
   "metadata": {},
   "source": [
    "# Scratch"
   ]
  }
 ],
 "metadata": {
  "kernelspec": {
   "display_name": "Python 3.8 scverse-lite",
   "language": "python",
   "name": "scverse-lite-py38"
  },
  "language_info": {
   "codemirror_mode": {
    "name": "ipython",
    "version": 3
   },
   "file_extension": ".py",
   "mimetype": "text/x-python",
   "name": "python",
   "nbconvert_exporter": "python",
   "pygments_lexer": "ipython3",
   "version": "3.8.13"
  },
  "orig_nbformat": 4
 },
 "nbformat": 4,
 "nbformat_minor": 2
}
