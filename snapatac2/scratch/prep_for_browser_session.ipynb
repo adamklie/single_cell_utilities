{
 "cells": [
  {
   "attachments": {},
   "cell_type": "markdown",
   "metadata": {},
   "source": [
    "# Set-up\n",
    "Look at SC.beta and SC.alpha for different tools for H1_control and A2_control"
   ]
  },
  {
   "cell_type": "code",
   "execution_count": 1,
   "metadata": {},
   "outputs": [
    {
     "name": "stdout",
     "output_type": "stream",
     "text": [
      "The history saving thread hit an unexpected error (DatabaseError('database disk image is malformed')).History will not be written to the database.\n"
     ]
    }
   ],
   "source": [
    "import os\n",
    "import sys\n",
    "import glob\n",
    "import pandas as pd\n",
    "import tqdm.auto as tqdm\n",
    "import pyranges as pr\n",
    "\n",
    "# visualization\n",
    "import matplotlib.pyplot as plt\n",
    "import seaborn as sns\n",
    "\n",
    "# Viz params\n",
    "sns.set_theme(style=\"white\")\n",
    "sns.set_palette(\"Set2\")\n",
    "\n",
    "# ignore pandas warning\n",
    "import warnings\n",
    "warnings.filterwarnings(\"ignore\")\n",
    "pd.options.mode.chained_assignment = None  # default='warn'"
   ]
  },
  {
   "cell_type": "code",
   "execution_count": 3,
   "metadata": {},
   "outputs": [],
   "source": [
    "os.chdir(\"/cellar/users/aklie/data/datasets/igvf_sc-islet_10X-Multiome/bin/data_analysis/peak_analysis\")"
   ]
  },
  {
   "cell_type": "code",
   "execution_count": 4,
   "metadata": {},
   "outputs": [
    {
     "data": {
      "text/html": [
       "<div>\n",
       "<style scoped>\n",
       "    .dataframe tbody tr th:only-of-type {\n",
       "        vertical-align: middle;\n",
       "    }\n",
       "\n",
       "    .dataframe tbody tr th {\n",
       "        vertical-align: top;\n",
       "    }\n",
       "\n",
       "    .dataframe thead th {\n",
       "        text-align: right;\n",
       "    }\n",
       "</style>\n",
       "<table border=\"1\" class=\"dataframe\">\n",
       "  <thead>\n",
       "    <tr style=\"text-align: right;\">\n",
       "      <th></th>\n",
       "      <th>Chromosome</th>\n",
       "      <th>Start</th>\n",
       "      <th>End</th>\n",
       "    </tr>\n",
       "  </thead>\n",
       "  <tbody>\n",
       "    <tr>\n",
       "      <th>0</th>\n",
       "      <td>chr1</td>\n",
       "      <td>627846</td>\n",
       "      <td>636161</td>\n",
       "    </tr>\n",
       "    <tr>\n",
       "      <th>1</th>\n",
       "      <td>chr1</td>\n",
       "      <td>5849030</td>\n",
       "      <td>5851628</td>\n",
       "    </tr>\n",
       "    <tr>\n",
       "      <th>2</th>\n",
       "      <td>chr1</td>\n",
       "      <td>8908553</td>\n",
       "      <td>8911071</td>\n",
       "    </tr>\n",
       "    <tr>\n",
       "      <th>3</th>\n",
       "      <td>chr1</td>\n",
       "      <td>9573523</td>\n",
       "      <td>9576054</td>\n",
       "    </tr>\n",
       "    <tr>\n",
       "      <th>4</th>\n",
       "      <td>chr1</td>\n",
       "      <td>32042766</td>\n",
       "      <td>32045260</td>\n",
       "    </tr>\n",
       "    <tr>\n",
       "      <th>...</th>\n",
       "      <td>...</td>\n",
       "      <td>...</td>\n",
       "      <td>...</td>\n",
       "    </tr>\n",
       "    <tr>\n",
       "      <th>905</th>\n",
       "      <td>chrY</td>\n",
       "      <td>11289740</td>\n",
       "      <td>11335335</td>\n",
       "    </tr>\n",
       "    <tr>\n",
       "      <th>906</th>\n",
       "      <td>chrY</td>\n",
       "      <td>11491996</td>\n",
       "      <td>11593907</td>\n",
       "    </tr>\n",
       "    <tr>\n",
       "      <th>907</th>\n",
       "      <td>chrY</td>\n",
       "      <td>11669957</td>\n",
       "      <td>11672103</td>\n",
       "    </tr>\n",
       "    <tr>\n",
       "      <th>908</th>\n",
       "      <td>chrY</td>\n",
       "      <td>11720471</td>\n",
       "      <td>11750529</td>\n",
       "    </tr>\n",
       "    <tr>\n",
       "      <th>909</th>\n",
       "      <td>chrY</td>\n",
       "      <td>56693575</td>\n",
       "      <td>56890800</td>\n",
       "    </tr>\n",
       "  </tbody>\n",
       "</table>\n",
       "<p>910 rows × 3 columns</p>\n",
       "</div>"
      ],
      "text/plain": [
       "+--------------+-----------+-----------+\n",
       "| Chromosome   | Start     | End       |\n",
       "| (category)   | (int64)   | (int64)   |\n",
       "|--------------+-----------+-----------|\n",
       "| chr1         | 627846    | 636161    |\n",
       "| chr1         | 5849030   | 5851628   |\n",
       "| chr1         | 8908553   | 8911071   |\n",
       "| chr1         | 9573523   | 9576054   |\n",
       "| ...          | ...       | ...       |\n",
       "| chrY         | 11491996  | 11593907  |\n",
       "| chrY         | 11669957  | 11672103  |\n",
       "| chrY         | 11720471  | 11750529  |\n",
       "| chrY         | 56693575  | 56890800  |\n",
       "+--------------+-----------+-----------+\n",
       "Unstranded PyRanges object has 910 rows and 3 columns from 24 chromosomes.\n",
       "For printing, the PyRanges was sorted on Chromosome."
      ]
     },
     "execution_count": 4,
     "metadata": {},
     "output_type": "execute_result"
    }
   ],
   "source": [
    "from pyranges_utils import filter_peaks\n",
    "\n",
    "# Path to blacklist\n",
    "blacklist_path = \"/cellar/users/aklie/data/ref/blacklists/hg38/temp.bed\"\n",
    "blacklist = pr.read_bed(blacklist_path)\n",
    "blacklist"
   ]
  },
  {
   "cell_type": "code",
   "execution_count": 43,
   "metadata": {},
   "outputs": [
    {
     "data": {
      "text/plain": [
       "'A2_control'"
      ]
     },
     "execution_count": 43,
     "metadata": {},
     "output_type": "execute_result"
    }
   ],
   "source": [
    "base_indir=\"/cellar/users/aklie/data/datasets/igvf_sc-islet_10X-Multiome/annotation/timecourse\"\n",
    "base_outdir = \"/cellar/users/aklie/data/datasets/igvf_sc-islet_10X-Multiome/analysis/2024_01_12/timecourse\"\n",
    "timecourses = [\"H1_control\", \"A2_control\"]\n",
    "timecourse = timecourses[1]\n",
    "timecourse"
   ]
  },
  {
   "cell_type": "code",
   "execution_count": 44,
   "metadata": {},
   "outputs": [],
   "source": [
    "bw_outdir = os.path.join(base_outdir, \"browser_session\", \"bigWigs\")\n",
    "peaks_outdir = os.path.join(base_outdir, \"browser_session\", \"peaks\")\n",
    "# Make if it doesn't exist\n",
    "os.makedirs(bw_outdir, exist_ok=True)\n",
    "os.makedirs(peaks_outdir, exist_ok=True)"
   ]
  },
  {
   "attachments": {},
   "cell_type": "markdown",
   "metadata": {},
   "source": [
    "## Get ArchR bigWigs and peak calls"
   ]
  },
  {
   "cell_type": "code",
   "execution_count": 45,
   "metadata": {},
   "outputs": [],
   "source": [
    "# make sure it exists\n",
    "archr_dir = os.path.join(base_indir, timecourse, \"archr\")\n",
    "\n",
    "if not os.path.isdir(archr_dir):\n",
    "    print(f\"ArchR directory {archr_dir} does not exist!\")"
   ]
  },
  {
   "cell_type": "code",
   "execution_count": 46,
   "metadata": {},
   "outputs": [
    {
     "name": "stdout",
     "output_type": "stream",
     "text": [
      "['SC.delta-TileSize-100-normMethod-ReadsInTSS-ArchR.bw', 'SC.alpha-TileSize-100-normMethod-ReadsInTSS-ArchR.bw', 'other-TileSize-100-normMethod-ReadsInTSS-ArchR.bw', 'SC.EC-TileSize-100-normMethod-ReadsInTSS-ArchR.bw', 'SC.beta-TileSize-100-normMethod-ReadsInTSS-ArchR.bw']\n",
      "/cellar/users/aklie/data/datasets/igvf_sc-islet_10X-Multiome/annotation/timecourse/A2_control/archr/GroupBigWigs/rna_annotation/SC.beta-TileSize-100-normMethod-ReadsInTSS-ArchR.bw\n",
      "cp /cellar/users/aklie/data/datasets/igvf_sc-islet_10X-Multiome/annotation/timecourse/A2_control/archr/GroupBigWigs/rna_annotation/SC.beta-TileSize-100-normMethod-ReadsInTSS-ArchR.bw /cellar/users/aklie/data/datasets/igvf_sc-islet_10X-Multiome/analysis/2024_01_12/timecourse/browser_session/bigWigs/A2_control_ArchR_SC.beta.bw\n"
     ]
    },
    {
     "data": {
      "text/plain": [
       "0"
      ]
     },
     "execution_count": 46,
     "metadata": {},
     "output_type": "execute_result"
    }
   ],
   "source": [
    "# BigWig file\n",
    "print(os.listdir(os.path.join(archr_dir, \"GroupBigWigs\", \"rna_annotation\")))\n",
    "file_to_mv = os.path.join(archr_dir, \"GroupBigWigs\", \"rna_annotation\", \"SC.beta-TileSize-100-normMethod-ReadsInTSS-ArchR.bw\")\n",
    "print(file_to_mv)\n",
    "# Copy file to outdir\n",
    "cmd = f\"cp {file_to_mv} {bw_outdir}/{timecourse}_ArchR_SC.beta.bw\"\n",
    "print(cmd)\n",
    "os.system(cmd)"
   ]
  },
  {
   "cell_type": "code",
   "execution_count": 47,
   "metadata": {},
   "outputs": [
    {
     "name": "stdout",
     "output_type": "stream",
     "text": [
      "['SC.alpha.bed', 'other.bed', 'SC.delta.bed', 'consensus_peaks.bed', 'SC.beta.bed', 'SC.EC.filt.bed', 'consensus_peaks.filt.bed', 'SC.delta.filt.bed', 'SC.EC.bed', 'SC.beta.filt.bed', 'other.filt.bed', 'SC.alpha.filt.bed']\n"
     ]
    }
   ],
   "source": [
    "# Peak file\n",
    "print(os.listdir(os.path.join(archr_dir, \"PeakCalls\", \"SplitPeaks\")))\n",
    "file_to_mv = os.path.join(archr_dir, \"PeakCalls\", \"SplitPeaks\", \"SC.beta.bed\")\n",
    "\n",
    "# load in peak file with pyranges\n",
    "peaks = pr.read_bed(file_to_mv)\n",
    "peaks = filter_peaks(peaks, blacklist=blacklist)\n",
    "\n",
    "# Save to outdir\n",
    "peaks.to_bed(os.path.join(peaks_outdir, f\"{timecourse}_ArchR_SC.beta.bed\"))"
   ]
  },
  {
   "attachments": {},
   "cell_type": "markdown",
   "metadata": {},
   "source": [
    "# Get SnapATAC2 v2.3 peak calls and bigWigs"
   ]
  },
  {
   "cell_type": "code",
   "execution_count": 48,
   "metadata": {},
   "outputs": [],
   "source": [
    "# make sure it exists\n",
    "snapatac2_dir = os.path.join(base_indir, timecourse, \"snapatac2\")\n",
    "\n",
    "if not os.path.isdir(snapatac2_dir):\n",
    "    print(f\"SnapATAC2 directory {snapatac2_dir} does not exist!\")"
   ]
  },
  {
   "cell_type": "code",
   "execution_count": 49,
   "metadata": {},
   "outputs": [
    {
     "name": "stdout",
     "output_type": "stream",
     "text": [
      "['SC.EC.bed.gz', 'SC.alpha.bed.gz', 'SC.delta.bw', 'other.bw', 'SC.beta.bed.gz', 'SC.EC.bw', 'SC.delta.bed.gz', 'other.bed.gz', 'SC.beta.bw', 'SC.alpha.bw']\n",
      "/cellar/users/aklie/data/datasets/igvf_sc-islet_10X-Multiome/annotation/timecourse/A2_control/snapatac2/bigWigs/SC.beta.bw\n",
      "cp /cellar/users/aklie/data/datasets/igvf_sc-islet_10X-Multiome/annotation/timecourse/A2_control/snapatac2/bigWigs/SC.beta.bw /cellar/users/aklie/data/datasets/igvf_sc-islet_10X-Multiome/analysis/2024_01_12/timecourse/browser_session/bigWigs/A2_control_SnapATAC2_v2.3_SC.beta.bw\n"
     ]
    },
    {
     "data": {
      "text/plain": [
       "0"
      ]
     },
     "execution_count": 49,
     "metadata": {},
     "output_type": "execute_result"
    }
   ],
   "source": [
    "# BigWig file\n",
    "print(os.listdir(os.path.join(snapatac2_dir, \"bigWigs\")))\n",
    "file_to_mv = os.path.join(snapatac2_dir, \"bigWigs\", \"SC.beta.bw\")\n",
    "print(file_to_mv)\n",
    "cmd = f\"cp {file_to_mv} {bw_outdir}/{timecourse}_SnapATAC2_v2.3_SC.beta.bw\"\n",
    "print(cmd)\n",
    "os.system(cmd)"
   ]
  },
  {
   "cell_type": "code",
   "execution_count": 50,
   "metadata": {},
   "outputs": [
    {
     "name": "stdout",
     "output_type": "stream",
     "text": [
      "['SC.delta.NarrowPeak.gz', 'other_insertion.bed.gz', 'pseudobulk_and_peakcalling.log', 'SC.beta.NarrowPeak.gz', 'SC.beta_insertion.bed.gz', 'SC.EC.NarrowPeak.gz', 'SC.EC_insertion.bed.gz', 'SC.alpha.NarrowPeak.gz', 'other.NarrowPeak.gz', 'SC.delta_insertion.bed.gz', 'SC.alpha_insertion.bed.gz']\n"
     ]
    }
   ],
   "source": [
    "# Peak file\n",
    "print(os.listdir(os.path.join(snapatac2_dir, \"peak_calls\")))\n",
    "file_to_mv = os.path.join(snapatac2_dir, \"peak_calls\", \"SC.beta.NarrowPeak.gz\")\n",
    "\n",
    "# load in peak file with pyranges\n",
    "peaks = pr.read_bed(file_to_mv)\n",
    "peaks = filter_peaks(peaks, blacklist=blacklist)\n",
    "\n",
    "# Save to outdir\n",
    "peaks.to_bed(os.path.join(peaks_outdir, f\"{timecourse}_SnapATAC2_v2.3_SC.beta.bed\"))"
   ]
  },
  {
   "attachments": {},
   "cell_type": "markdown",
   "metadata": {},
   "source": [
    "# PycisTopic"
   ]
  },
  {
   "cell_type": "code",
   "execution_count": 51,
   "metadata": {},
   "outputs": [],
   "source": [
    "# make sure it exists\n",
    "pycistopic_dir = os.path.join(base_indir, timecourse,\"pycistopic\")\n",
    "\n",
    "if not os.path.isdir(pycistopic_dir):\n",
    "    print(f\"PyCisTopic directory {pycistopic_dir} does not exist!\")"
   ]
  },
  {
   "cell_type": "code",
   "execution_count": 52,
   "metadata": {},
   "outputs": [
    {
     "name": "stdout",
     "output_type": "stream",
     "text": [
      "['SC_delta.bw', 'SC_beta.bw', 'SC_EC.bw', 'other.bed.gz', 'SC_EC.bed.gz', 'SC_delta.bed.gz', 'SC_beta.bed.gz', 'other.bw', 'SC_alpha.bed.gz', 'SC_alpha.bw']\n",
      "/cellar/users/aklie/data/datasets/igvf_sc-islet_10X-Multiome/annotation/timecourse/A2_control/pycistopic/pseudobulk/SC_beta.bw\n",
      "cp /cellar/users/aklie/data/datasets/igvf_sc-islet_10X-Multiome/annotation/timecourse/A2_control/pycistopic/pseudobulk/SC_beta.bw /cellar/users/aklie/data/datasets/igvf_sc-islet_10X-Multiome/analysis/2024_01_12/timecourse/browser_session/bigWigs/A2_control_pycisTopic_SC.beta.bw\n"
     ]
    },
    {
     "data": {
      "text/plain": [
       "0"
      ]
     },
     "execution_count": 52,
     "metadata": {},
     "output_type": "execute_result"
    }
   ],
   "source": [
    "# BigWig file\n",
    "print(os.listdir(os.path.join(pycistopic_dir, \"pseudobulk\")))\n",
    "file_to_mv = os.path.join(pycistopic_dir, \"pseudobulk\", \"SC_beta.bw\")\n",
    "print(file_to_mv)\n",
    "cmd = f\"cp {file_to_mv} {bw_outdir}/{timecourse}_pycisTopic_SC.beta.bw\"\n",
    "print(cmd)\n",
    "os.system(cmd)"
   ]
  },
  {
   "cell_type": "code",
   "execution_count": 53,
   "metadata": {},
   "outputs": [
    {
     "name": "stdout",
     "output_type": "stream",
     "text": [
      "['SC_beta_peaks.narrowPeak', 'SC_delta_summits.bed', 'SC_EC_summits.bed', 'consensus_regions.bed', 'SC_alpha_peaks.xls', 'SC_delta_peaks.narrowPeak', 'SC_delta_peaks.filt.narrowPeak', 'SC_EC_peaks.xls', 'narrow_peaks_dict.pkl', 'other_summits.bed', 'SC_beta_peaks.filt.narrowPeak', 'SC_beta_summits.bed', 'other_peaks.narrowPeak', 'SC_EC_peaks.narrowPeak', 'SC_beta_peaks.xls', 'SC_alpha_peaks.filt.narrowPeak', 'SC_delta_peaks.xls', 'SC_EC_peaks.filt.narrowPeak', 'other_peaks.filt.narrowPeak', 'SC_alpha_summits.bed', 'SC_alpha_peaks.narrowPeak', 'other_peaks.xls']\n"
     ]
    }
   ],
   "source": [
    "# Peak file\n",
    "print(os.listdir(os.path.join(pycistopic_dir, \"peak_calls\")))\n",
    "file_to_mv = os.path.join(pycistopic_dir, \"peak_calls\", \"SC_beta_peaks.narrowPeak\")\n",
    "\n",
    "# load in peak file with pyranges\n",
    "peaks = pr.read_bed(file_to_mv)\n",
    "peaks = filter_peaks(peaks, blacklist=blacklist)\n",
    "\n",
    "# Save to outdir\n",
    "peaks.to_bed(os.path.join(peaks_outdir, f\"{timecourse}_pycisTopic_SC.beta.bed\"))"
   ]
  },
  {
   "attachments": {},
   "cell_type": "markdown",
   "metadata": {},
   "source": [
    "# CellCommander"
   ]
  },
  {
   "cell_type": "code",
   "execution_count": 54,
   "metadata": {},
   "outputs": [],
   "source": [
    "# make sure it exists\n",
    "cellcommander_dir = os.path.join(base_indir, timecourse, \"cellcommander\")\n",
    "\n",
    "if not os.path.isdir(cellcommander_dir):\n",
    "    print(f\"CellCommander directory {cellcommander_dir} does not exist!\")"
   ]
  },
  {
   "cell_type": "code",
   "execution_count": 55,
   "metadata": {},
   "outputs": [
    {
     "name": "stdout",
     "output_type": "stream",
     "text": [
      "['SC.beta_deeptools.bw', 'SC.delta_deeptools.bw', 'other_deeptools.bw', 'SC.alpha_deeptools.bw', 'SC.EC_deeptools.bw']\n",
      "/cellar/users/aklie/data/datasets/igvf_sc-islet_10X-Multiome/annotation/timecourse/A2_control/cellcommander/atac/bigWigs/SC.beta_deeptools.bw\n",
      "cp /cellar/users/aklie/data/datasets/igvf_sc-islet_10X-Multiome/annotation/timecourse/A2_control/cellcommander/atac/bigWigs/SC.beta_deeptools.bw /cellar/users/aklie/data/datasets/igvf_sc-islet_10X-Multiome/analysis/2024_01_12/timecourse/browser_session/bigWigs/A2_control_CellCommander_SC.beta_deeptools.bw\n"
     ]
    },
    {
     "data": {
      "text/plain": [
       "0"
      ]
     },
     "execution_count": 55,
     "metadata": {},
     "output_type": "execute_result"
    }
   ],
   "source": [
    "# BigWig file\n",
    "print(os.listdir(os.path.join(cellcommander_dir, \"atac\", \"bigWigs\")))\n",
    "file_to_mv = os.path.join(cellcommander_dir, \"atac\", \"bigWigs\", \"SC.beta_deeptools.bw\")\n",
    "print(file_to_mv)\n",
    "cmd = f\"cp {file_to_mv} {bw_outdir}/{timecourse}_CellCommander_SC.beta_deeptools.bw\"\n",
    "print(cmd)\n",
    "os.system(cmd)"
   ]
  },
  {
   "cell_type": "code",
   "execution_count": 56,
   "metadata": {},
   "outputs": [
    {
     "name": "stdout",
     "output_type": "stream",
     "text": [
      "['other_summits.bed', 'other_peaks.narrowPeak', 'SC.alpha_summits.bed', 'SC.delta_control_lambda.bdg', 'SC.alpha_peaks.xls', 'SC.delta_peaks.narrowPeak', 'SC.delta_peaks.xls', 'other_control_lambda.bdg', 'other_peaks.xls', 'SC.delta_summits.bed', 'SC.EC_control_lambda.bdg', 'SC.beta_treat_pileup.bdg', 'SC.alpha_peaks.narrowPeak', 'SC.EC_treat_pileup.bdg', 'SC.beta_control_lambda.bdg', 'SC.beta_peaks.xls', 'SC.EC_peaks.narrowPeak', 'SC.beta_peaks.narrowPeak', 'SC.EC_peaks.xls', 'SC.beta_summits.bed', 'SC.alpha_control_lambda.bdg', 'SC.delta_treat_pileup.bdg', 'SC.EC_summits.bed', 'other_treat_pileup.bdg', 'SC.alpha_treat_pileup.bdg']\n"
     ]
    }
   ],
   "source": [
    "# Peak file\n",
    "print(os.listdir(os.path.join(cellcommander_dir, \"atac\", \"peak_calls\")))\n",
    "file_to_mv = os.path.join(cellcommander_dir, \"atac\", \"peak_calls\", \"SC.beta_peaks.narrowPeak\")\n",
    "\n",
    "# load in peak file with pyranges\n",
    "peaks = pr.read_bed(file_to_mv)\n",
    "peaks = filter_peaks(peaks, blacklist=blacklist)\n",
    "\n",
    "# Save to outdir\n",
    "peaks.to_bed(os.path.join(peaks_outdir, f\"{timecourse}_CellCommander_SC.beta.bed\"))"
   ]
  },
  {
   "attachments": {},
   "cell_type": "markdown",
   "metadata": {},
   "source": [
    "# ENCODE ATAC pipeline"
   ]
  },
  {
   "cell_type": "code",
   "execution_count": 57,
   "metadata": {},
   "outputs": [],
   "source": [
    "# make sure it exists\n",
    "encode_atac_pipeline_dir = os.path.join(base_indir, timecourse, \"cellcommander\", \"atac\", \"ENCODE_peak_calls\")\n",
    "\n",
    "if not os.path.isdir(encode_atac_pipeline_dir):\n",
    "    print(f\"Encode ATAC pipeline directory {encode_atac_pipeline_dir} does not exist!\")\n"
   ]
  },
  {
   "cell_type": "code",
   "execution_count": 58,
   "metadata": {},
   "outputs": [
    {
     "name": "stdout",
     "output_type": "stream",
     "text": [
      "['SC.delta.pooled.pval0.05.300K.narrowPeak.gz', 'other.pooled.pval0.05.300K.bfilt.narrowPeak.hammock.gz', 'SC.EC.pooled.pval0.05.300K.narrowPeak.gz', 'SC.beta.pooled.pval0.05.300K.bfilt.narrowPeak.gz', 'SC.EC.pooled.pval0.05.300K.bfilt.narrowPeak.starch', 'SC.beta.pooled.pval0.05.300K.bfilt.narrowPeak.starch', 'SC.beta.pooled.fc.signal.bigwig', 'SC.EC.pooled.pval0.05.300K.bfilt.narrowPeak.hammock.gz.tbi', 'SC.delta.pooled.pval0.05.300K.bfilt.narrowPeak.hammock.gz', 'SC.alpha.pooled.pval0.05.300K.narrowPeak', 'SC.alpha.pooled.fc.signal.bigwig', 'other.pooled.pval0.05.300K.bfilt.narrowPeak.hammock.gz.tbi', 'other.pooled.pval0.05.300K.narrowPeak.gz', 'other.pooled.pval0.05.300K.bfilt.frip.qc', 'SC.alpha.pooled.pval0.05.300K.bfilt.narrowPeak.gz', 'SC.beta.pooled.pval0.05.300K.bfilt.narrowPeak.hammock.gz.tbi', 'other.pooled.pval0.05.300K.annotated.bed', 'SC.delta.pooled.pval0.05.300K.bfilt.narrowPeak.gz', 'SC.alpha.pooled.pval0.05.300K.annotated.bed', 'SC.delta.pooled.fc.signal.bigwig', 'SC.delta.pooled.pval0.05.300K.narrowPeak', 'SC.beta.pooled.pval0.05.300K.bfilt.narrowPeak.bb', 'other.pooled.pval.signal.bigwig', 'SC.EC.pooled.pval0.05.300K.bfilt.narrowPeak.hammock.gz', 'SC.beta.pooled.pval.signal.bigwig', 'other.pooled.pval0.05.300K.bfilt.narrowPeak.gz', 'SC.alpha.pooled.pval0.05.300K.narrowPeak.gz', 'SC.beta.pooled.pval0.05.300K.bfilt.frip.qc', 'other.pooled.fc.signal.bigwig', 'SC.delta.pooled.pval0.05.300K.annotated.bed', 'other.pooled.pval0.05.300K.bfilt.narrowPeak.bb', 'SC.alpha.pooled.pval0.05.300K.bfilt.frip.qc', 'SC.EC.pooled.pval.signal.bigwig', 'SC.delta.pooled.pval0.05.300K.bfilt.frip.qc', 'SC.beta.pooled.pval0.05.300K.narrowPeak.gz', 'SC.EC.pooled.pval0.05.300K.bfilt.narrowPeak.bb', 'SC.delta.pooled.pval0.05.300K.bfilt.narrowPeak.hammock.gz.tbi', 'SC.alpha.pooled.pval.signal.bigwig', 'SC.beta.pooled.pval0.05.300K.annotated.bed', 'SC.beta.pooled.pval0.05.300K.narrowPeak', 'SC.EC.pooled.tagAlign.tmp1', 'SC.EC.pooled.pval0.05.300K.bfilt.narrowPeak.tmp2', 'SC.alpha.pooled.pval0.05.300K.bfilt.narrowPeak.hammock.gz.tbi', 'other.pooled.pval0.05.300K.bfilt.narrowPeak.starch', 'SC.delta.pooled.pval.signal.bigwig', 'SC.delta.pooled.pval0.05.300K.bfilt.narrowPeak.starch', 'SC.alpha.pooled.pval0.05.300K.bfilt.narrowPeak.bb', 'SC.delta.pooled.pval0.05.300K.bfilt.narrowPeak.bb', 'other.pooled.pval0.05.300K.narrowPeak', 'SC.alpha.pooled.pval0.05.300K.bfilt.narrowPeak.hammock.gz', 'SC.beta.pooled.pval0.05.300K.bfilt.narrowPeak.hammock.gz', 'SC.alpha.pooled.pval0.05.300K.bfilt.narrowPeak.starch', 'SC.EC.pooled.fc.signal.bigwig', 'SC.EC.pooled.pval0.05.300K.bfilt.narrowPeak.gz']\n",
      "/cellar/users/aklie/data/datasets/igvf_sc-islet_10X-Multiome/annotation/timecourse/A2_control/cellcommander/atac/ENCODE_peak_calls/SC.beta.pooled.fc.signal.bigwig\n",
      "cp /cellar/users/aklie/data/datasets/igvf_sc-islet_10X-Multiome/annotation/timecourse/A2_control/cellcommander/atac/ENCODE_peak_calls/SC.beta.pooled.fc.signal.bigwig /cellar/users/aklie/data/datasets/igvf_sc-islet_10X-Multiome/analysis/2024_01_12/timecourse/browser_session/bigWigs/A2_control_ENCODE_atac_pipeline_SC.beta.pooled.fc.signal.bigwig\n"
     ]
    },
    {
     "data": {
      "text/plain": [
       "0"
      ]
     },
     "execution_count": 58,
     "metadata": {},
     "output_type": "execute_result"
    }
   ],
   "source": [
    "# BigWig file\n",
    "print(os.listdir(os.path.join(encode_atac_pipeline_dir)))\n",
    "file_to_mv = os.path.join(encode_atac_pipeline_dir, \"SC.beta.pooled.fc.signal.bigwig\")\n",
    "print(file_to_mv)\n",
    "cmd = f\"cp {file_to_mv} {bw_outdir}/{timecourse}_ENCODE_atac_pipeline_SC.beta.pooled.fc.signal.bigwig\"\n",
    "print(cmd)\n",
    "os.system(cmd)"
   ]
  },
  {
   "cell_type": "code",
   "execution_count": 59,
   "metadata": {},
   "outputs": [
    {
     "name": "stdout",
     "output_type": "stream",
     "text": [
      "['SC.delta.pooled.pval0.05.300K.narrowPeak.gz', 'other.pooled.pval0.05.300K.bfilt.narrowPeak.hammock.gz', 'SC.EC.pooled.pval0.05.300K.narrowPeak.gz', 'SC.beta.pooled.pval0.05.300K.bfilt.narrowPeak.gz', 'SC.EC.pooled.pval0.05.300K.bfilt.narrowPeak.starch', 'SC.beta.pooled.pval0.05.300K.bfilt.narrowPeak.starch', 'SC.beta.pooled.fc.signal.bigwig', 'SC.EC.pooled.pval0.05.300K.bfilt.narrowPeak.hammock.gz.tbi', 'SC.delta.pooled.pval0.05.300K.bfilt.narrowPeak.hammock.gz', 'SC.alpha.pooled.pval0.05.300K.narrowPeak', 'SC.alpha.pooled.fc.signal.bigwig', 'other.pooled.pval0.05.300K.bfilt.narrowPeak.hammock.gz.tbi', 'other.pooled.pval0.05.300K.narrowPeak.gz', 'other.pooled.pval0.05.300K.bfilt.frip.qc', 'SC.alpha.pooled.pval0.05.300K.bfilt.narrowPeak.gz', 'SC.beta.pooled.pval0.05.300K.bfilt.narrowPeak.hammock.gz.tbi', 'other.pooled.pval0.05.300K.annotated.bed', 'SC.delta.pooled.pval0.05.300K.bfilt.narrowPeak.gz', 'SC.alpha.pooled.pval0.05.300K.annotated.bed', 'SC.delta.pooled.fc.signal.bigwig', 'SC.delta.pooled.pval0.05.300K.narrowPeak', 'SC.beta.pooled.pval0.05.300K.bfilt.narrowPeak.bb', 'other.pooled.pval.signal.bigwig', 'SC.EC.pooled.pval0.05.300K.bfilt.narrowPeak.hammock.gz', 'SC.beta.pooled.pval.signal.bigwig', 'other.pooled.pval0.05.300K.bfilt.narrowPeak.gz', 'SC.alpha.pooled.pval0.05.300K.narrowPeak.gz', 'SC.beta.pooled.pval0.05.300K.bfilt.frip.qc', 'other.pooled.fc.signal.bigwig', 'SC.delta.pooled.pval0.05.300K.annotated.bed', 'other.pooled.pval0.05.300K.bfilt.narrowPeak.bb', 'SC.alpha.pooled.pval0.05.300K.bfilt.frip.qc', 'SC.EC.pooled.pval.signal.bigwig', 'SC.delta.pooled.pval0.05.300K.bfilt.frip.qc', 'SC.beta.pooled.pval0.05.300K.narrowPeak.gz', 'SC.EC.pooled.pval0.05.300K.bfilt.narrowPeak.bb', 'SC.delta.pooled.pval0.05.300K.bfilt.narrowPeak.hammock.gz.tbi', 'SC.alpha.pooled.pval.signal.bigwig', 'SC.beta.pooled.pval0.05.300K.annotated.bed', 'SC.beta.pooled.pval0.05.300K.narrowPeak', 'SC.EC.pooled.tagAlign.tmp1', 'SC.EC.pooled.pval0.05.300K.bfilt.narrowPeak.tmp2', 'SC.alpha.pooled.pval0.05.300K.bfilt.narrowPeak.hammock.gz.tbi', 'other.pooled.pval0.05.300K.bfilt.narrowPeak.starch', 'SC.delta.pooled.pval.signal.bigwig', 'SC.delta.pooled.pval0.05.300K.bfilt.narrowPeak.starch', 'SC.alpha.pooled.pval0.05.300K.bfilt.narrowPeak.bb', 'SC.delta.pooled.pval0.05.300K.bfilt.narrowPeak.bb', 'other.pooled.pval0.05.300K.narrowPeak', 'SC.alpha.pooled.pval0.05.300K.bfilt.narrowPeak.hammock.gz', 'SC.beta.pooled.pval0.05.300K.bfilt.narrowPeak.hammock.gz', 'SC.alpha.pooled.pval0.05.300K.bfilt.narrowPeak.starch', 'SC.EC.pooled.fc.signal.bigwig', 'SC.EC.pooled.pval0.05.300K.bfilt.narrowPeak.gz']\n"
     ]
    }
   ],
   "source": [
    "# Peak file\n",
    "print(os.listdir(os.path.join(encode_atac_pipeline_dir)))\n",
    "file_to_mv = os.path.join(encode_atac_pipeline_dir, \"SC.beta.pooled.pval0.05.300K.narrowPeak\")\n",
    "\n",
    "# load in peak file with pyranges\n",
    "peaks = pr.read_bed(file_to_mv)\n",
    "peaks = filter_peaks(peaks, blacklist=blacklist)\n",
    "\n",
    "# Save to outdir\n",
    "peaks.to_bed(os.path.join(peaks_outdir, f\"{timecourse}_ENCODE_atac_pipeline_SC.beta.bed\"))"
   ]
  },
  {
   "attachments": {},
   "cell_type": "markdown",
   "metadata": {},
   "source": [
    "# DONE!"
   ]
  },
  {
   "attachments": {},
   "cell_type": "markdown",
   "metadata": {},
   "source": [
    "---"
   ]
  }
 ],
 "metadata": {
  "kernelspec": {
   "display_name": "Python 3.8 scenicplus",
   "language": "python",
   "name": "scenicplus"
  },
  "orig_nbformat": 4
 },
 "nbformat": 4,
 "nbformat_minor": 2
}
