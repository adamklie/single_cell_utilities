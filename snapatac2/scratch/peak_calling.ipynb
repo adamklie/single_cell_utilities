{
 "cells": [
  {
   "attachments": {},
   "cell_type": "markdown",
   "metadata": {},
   "source": [
    "# Set-up"
   ]
  },
  {
   "cell_type": "code",
   "execution_count": 1,
   "metadata": {},
   "outputs": [
    {
     "name": "stdout",
     "output_type": "stream",
     "text": [
      "The history saving thread hit an unexpected error (DatabaseError('database disk image is malformed')).History will not be written to the database.\n"
     ]
    },
    {
     "ename": "ModuleNotFoundError",
     "evalue": "No module named 'scanpy'",
     "output_type": "error",
     "traceback": [
      "\u001b[0;31m---------------------------------------------------------------------------\u001b[0m",
      "\u001b[0;31mModuleNotFoundError\u001b[0m                       Traceback (most recent call last)",
      "Cell \u001b[0;32mIn[1], line 2\u001b[0m\n\u001b[1;32m      1\u001b[0m \u001b[39mimport\u001b[39;00m \u001b[39msnapatac2\u001b[39;00m \u001b[39mas\u001b[39;00m \u001b[39msnap\u001b[39;00m\n\u001b[0;32m----> 2\u001b[0m \u001b[39mimport\u001b[39;00m \u001b[39mscanpy\u001b[39;00m \u001b[39mas\u001b[39;00m \u001b[39msc\u001b[39;00m\n\u001b[1;32m      3\u001b[0m \u001b[39mimport\u001b[39;00m \u001b[39mpandas\u001b[39;00m \u001b[39mas\u001b[39;00m \u001b[39mpd\u001b[39;00m\n\u001b[1;32m      4\u001b[0m \u001b[39mimport\u001b[39;00m \u001b[39mnumpy\u001b[39;00m \u001b[39mas\u001b[39;00m \u001b[39mnp\u001b[39;00m\n",
      "\u001b[0;31mModuleNotFoundError\u001b[0m: No module named 'scanpy'"
     ]
    }
   ],
   "source": [
    "import snapatac2 as snap\n",
    "import scanpy as sc\n",
    "import pandas as pd\n",
    "import numpy as np\n",
    "\n",
    "# Make sure \"~/opt/miniconda3/envs/scverse-lite-py38/bin/macs2\" is visible in to this notebook\n",
    "import os\n",
    "os.environ[\"PATH\"] = \"~/opt/miniconda3/envs/scverse-lite-py39/bin:\" + os.environ[\"PATH\"]"
   ]
  },
  {
   "cell_type": "code",
   "execution_count": 2,
   "metadata": {},
   "outputs": [],
   "source": [
    "adataset = snap.read_dataset(\"/cellar/users/aklie/data/datasets/igvf_sc-islet_10X-Multiome/annotation/2024_01_15/timecourse/A2_3-cyt/snapatac2/merged.h5ads\")"
   ]
  },
  {
   "cell_type": "code",
   "execution_count": 4,
   "metadata": {},
   "outputs": [],
   "source": [
    "adataset.close()"
   ]
  },
  {
   "attachments": {},
   "cell_type": "markdown",
   "metadata": {},
   "source": [
    "# Single sample"
   ]
  },
  {
   "attachments": {},
   "cell_type": "markdown",
   "metadata": {},
   "source": [
    "## Load data"
   ]
  },
  {
   "cell_type": "code",
   "execution_count": 2,
   "metadata": {},
   "outputs": [
    {
     "data": {
      "text/plain": [
       "AnnData object with n_obs × n_vars = 3468 × 606219\n",
       "    obs: 'tsse', 'n_fragment', 'frac_dup', 'frac_mito', 'doublet_probability', 'doublet_score', 'gex_barcode_cellranger', 'atac_barcode_cellranger', 'is_cell_cellranger', 'excluded_reason_cellranger', 'gex_raw_reads_cellranger', 'gex_mapped_reads_cellranger', 'gex_conf_intergenic_reads_cellranger', 'gex_conf_exonic_reads_cellranger', 'gex_conf_intronic_reads_cellranger', 'gex_conf_exonic_unique_reads_cellranger', 'gex_conf_exonic_antisense_reads_cellranger', 'gex_conf_exonic_dup_reads_cellranger', 'gex_exonic_umis_cellranger', 'gex_conf_intronic_unique_reads_cellranger', 'gex_conf_intronic_antisense_reads_cellranger', 'gex_conf_intronic_dup_reads_cellranger', 'gex_intronic_umis_cellranger', 'gex_conf_txomic_unique_reads_cellranger', 'gex_umis_count_cellranger', 'gex_genes_count_cellranger', 'atac_raw_reads_cellranger', 'atac_unmapped_reads_cellranger', 'atac_lowmapq_cellranger', 'atac_dup_reads_cellranger', 'atac_chimeric_reads_cellranger', 'atac_mitochondrial_reads_cellranger', 'atac_fragments_cellranger', 'atac_TSS_fragments_cellranger', 'atac_peak_region_fragments_cellranger', 'atac_peak_region_cutsites_cellranger', 'n_genes', 'n_genes_by_counts', 'log1p_n_genes_by_counts', 'total_counts', 'log1p_total_counts', 'pct_counts_in_top_20_genes', 'total_counts_mt', 'log1p_total_counts_mt', 'pct_counts_mt', 'total_counts_ribo', 'log1p_total_counts_ribo', 'pct_counts_ribo', 'outlier', 'mt_outlier', 'pre_soupx_leiden_1', 'post_soupx_leiden_1', 'scrublet_doublet_score', 'scrublet_predicted_doublet', 'scDblFinder_doublet_score', 'scDblFinder_doublet_class', 'scDblFinder_predicted_doublet', 'cellranger_predicted_doublet', 'doublet_filter', 'pre_doublet_filter_leiden_1', 'leiden_1', 'sample', 'integrated_manual_cellid_annotation'\n",
       "    var: 'count', 'selected'\n",
       "    uns: 'reference_sequences', 'scrublet_sim_doublet_score', 'spectral_eigenvalue'\n",
       "    obsm: 'X_spectral', 'X_umap', 'insertion'\n",
       "    obsp: 'distances'"
      ]
     },
     "execution_count": 2,
     "metadata": {},
     "output_type": "execute_result"
    }
   ],
   "source": [
    "adata = sc.read_h5ad(\"/cellar/users/aklie/data/datasets/igvf_sc-islet_10X-Multiome/annotation/2023_11_15/sample/dm11a/snapatac2/clustered.h5ad\")\n",
    "adata"
   ]
  },
  {
   "attachments": {},
   "cell_type": "markdown",
   "metadata": {},
   "source": [
    "## Pseudobulk"
   ]
  },
  {
   "cell_type": "code",
   "execution_count": 4,
   "metadata": {},
   "outputs": [
    {
     "data": {
      "text/plain": [
       "{'SC.delta': '/cellar/users/aklie/data/datasets/igvf_sc-islet_10X-Multiome/annotation/2023_11_15/sample/dm11a/snapatac2/pseudobulk/SC.delta.bed.gz',\n",
       " 'SC.EC': '/cellar/users/aklie/data/datasets/igvf_sc-islet_10X-Multiome/annotation/2023_11_15/sample/dm11a/snapatac2/pseudobulk/SC.EC.bed.gz',\n",
       " 'proliferating_alpha': '/cellar/users/aklie/data/datasets/igvf_sc-islet_10X-Multiome/annotation/2023_11_15/sample/dm11a/snapatac2/pseudobulk/proliferating_alpha.bed.gz',\n",
       " 'SC.alpha': '/cellar/users/aklie/data/datasets/igvf_sc-islet_10X-Multiome/annotation/2023_11_15/sample/dm11a/snapatac2/pseudobulk/SC.alpha.bed.gz',\n",
       " 'SC.beta': '/cellar/users/aklie/data/datasets/igvf_sc-islet_10X-Multiome/annotation/2023_11_15/sample/dm11a/snapatac2/pseudobulk/SC.beta.bed.gz'}"
      ]
     },
     "execution_count": 4,
     "metadata": {},
     "output_type": "execute_result"
    }
   ],
   "source": [
    "snap.ex.export_bed(\n",
    "    adata=adata,\n",
    "    groupby=\"integrated_manual_cellid_annotation\",\n",
    "    out_dir=\"/cellar/users/aklie/data/datasets/igvf_sc-islet_10X-Multiome/annotation/2023_11_15/sample/dm11a/snapatac2/pseudobulk\",\n",
    ")"
   ]
  },
  {
   "cell_type": "code",
   "execution_count": 5,
   "metadata": {},
   "outputs": [
    {
     "name": "stderr",
     "output_type": "stream",
     "text": [
      "2023-12-02 11:00:48 - INFO - Compute coverage for 5 groups...\n",
      "2023-12-02 11:01:21 - INFO - Exporting bigwig files...\n"
     ]
    },
    {
     "data": {
      "text/plain": [
       "{'proliferating_alpha': '/cellar/users/aklie/data/datasets/igvf_sc-islet_10X-Multiome/annotation/2023_11_15/sample/dm11a/snapatac2/pseudobulk/proliferating_alpha.bw',\n",
       " 'SC.EC': '/cellar/users/aklie/data/datasets/igvf_sc-islet_10X-Multiome/annotation/2023_11_15/sample/dm11a/snapatac2/pseudobulk/SC.EC.bw',\n",
       " 'SC.alpha': '/cellar/users/aklie/data/datasets/igvf_sc-islet_10X-Multiome/annotation/2023_11_15/sample/dm11a/snapatac2/pseudobulk/SC.alpha.bw',\n",
       " 'SC.beta': '/cellar/users/aklie/data/datasets/igvf_sc-islet_10X-Multiome/annotation/2023_11_15/sample/dm11a/snapatac2/pseudobulk/SC.beta.bw',\n",
       " 'SC.delta': '/cellar/users/aklie/data/datasets/igvf_sc-islet_10X-Multiome/annotation/2023_11_15/sample/dm11a/snapatac2/pseudobulk/SC.delta.bw'}"
      ]
     },
     "execution_count": 5,
     "metadata": {},
     "output_type": "execute_result"
    }
   ],
   "source": [
    "snap.ex.export_bigwig(\n",
    "    adata=adata,\n",
    "    groupby=\"integrated_manual_cellid_annotation\",\n",
    "    out_dir=\"/cellar/users/aklie/data/datasets/igvf_sc-islet_10X-Multiome/annotation/2023_11_15/sample/dm11a/snapatac2/pseudobulk\",\n",
    ")"
   ]
  },
  {
   "attachments": {},
   "cell_type": "markdown",
   "metadata": {},
   "source": [
    "## Call peaks\n",
    "Have to do via a terminal because MACS2 does not play well with Jupyter notebooks."
   ]
  },
  {
   "cell_type": "code",
   "execution_count": 3,
   "metadata": {},
   "outputs": [
    {
     "ename": "RuntimeError",
     "evalue": "Cannot find macs2; please make sure macs2 has been installed",
     "output_type": "error",
     "traceback": [
      "\u001b[0;31m---------------------------------------------------------------------------\u001b[0m",
      "\u001b[0;31mRuntimeError\u001b[0m                              Traceback (most recent call last)",
      "\u001b[1;32m/cellar/users/aklie/data/datasets/igvf_sc-islet_10X-Multiome/bin/data_annotation/snapatac2/X_peak_calling.ipynb Cell 11\u001b[0m in \u001b[0;36m<cell line: 1>\u001b[0;34m()\u001b[0m\n\u001b[0;32m----> <a href='vscode-notebook-cell://ssh-remote%2Bnrnb-login.ucsd.edu/cellar/users/aklie/data/datasets/igvf_sc-islet_10X-Multiome/bin/data_annotation/snapatac2/X_peak_calling.ipynb#W4sdnNjb2RlLXJlbW90ZQ%3D%3D?line=0'>1</a>\u001b[0m snap\u001b[39m.\u001b[39;49mtl\u001b[39m.\u001b[39;49mcall_peaks(\n\u001b[1;32m      <a href='vscode-notebook-cell://ssh-remote%2Bnrnb-login.ucsd.edu/cellar/users/aklie/data/datasets/igvf_sc-islet_10X-Multiome/bin/data_annotation/snapatac2/X_peak_calling.ipynb#W4sdnNjb2RlLXJlbW90ZQ%3D%3D?line=1'>2</a>\u001b[0m     adata\u001b[39m=\u001b[39;49madata,\n\u001b[1;32m      <a href='vscode-notebook-cell://ssh-remote%2Bnrnb-login.ucsd.edu/cellar/users/aklie/data/datasets/igvf_sc-islet_10X-Multiome/bin/data_annotation/snapatac2/X_peak_calling.ipynb#W4sdnNjb2RlLXJlbW90ZQ%3D%3D?line=2'>3</a>\u001b[0m     groupby\u001b[39m=\u001b[39;49m\u001b[39m\"\u001b[39;49m\u001b[39mintegrated_manual_cellid_annotation\u001b[39;49m\u001b[39m\"\u001b[39;49m,\n\u001b[1;32m      <a href='vscode-notebook-cell://ssh-remote%2Bnrnb-login.ucsd.edu/cellar/users/aklie/data/datasets/igvf_sc-islet_10X-Multiome/bin/data_annotation/snapatac2/X_peak_calling.ipynb#W4sdnNjb2RlLXJlbW90ZQ%3D%3D?line=3'>4</a>\u001b[0m     out_dir\u001b[39m=\u001b[39;49m\u001b[39m\"\u001b[39;49m\u001b[39m/cellar/users/aklie/data/datasets/igvf_sc-islet_10X-Multiome/annotation/2023_11_15/sample/dm11a/snapatac2/peak_calls\u001b[39;49m\u001b[39m\"\u001b[39;49m,\n\u001b[1;32m      <a href='vscode-notebook-cell://ssh-remote%2Bnrnb-login.ucsd.edu/cellar/users/aklie/data/datasets/igvf_sc-islet_10X-Multiome/bin/data_annotation/snapatac2/X_peak_calling.ipynb#W4sdnNjb2RlLXJlbW90ZQ%3D%3D?line=4'>5</a>\u001b[0m )\n",
      "File \u001b[0;32m~/opt/miniconda3/envs/scverse-lite-py38/lib/python3.8/site-packages/snapatac2/tools/_call_peaks.py:53\u001b[0m, in \u001b[0;36mcall_peaks\u001b[0;34m(adata, groupby, selections, q_value, out_dir, key_added, inplace)\u001b[0m\n\u001b[1;32m     51\u001b[0m     groupby \u001b[39m=\u001b[39m \u001b[39mlist\u001b[39m(adata\u001b[39m.\u001b[39mobs[groupby])\n\u001b[1;32m     52\u001b[0m out_dir \u001b[39m=\u001b[39m out_dir \u001b[39mif\u001b[39;00m out_dir \u001b[39mis\u001b[39;00m \u001b[39mNone\u001b[39;00m \u001b[39melse\u001b[39;00m \u001b[39mstr\u001b[39m(out_dir)\n\u001b[0;32m---> 53\u001b[0m res \u001b[39m=\u001b[39m _snapatac2\u001b[39m.\u001b[39;49mcall_peaks(adata, groupby, selections, q_value, out_dir)\n\u001b[1;32m     54\u001b[0m \u001b[39mif\u001b[39;00m inplace:\n\u001b[1;32m     55\u001b[0m     \u001b[39mif\u001b[39;00m adata\u001b[39m.\u001b[39misbacked:\n",
      "\u001b[0;31mRuntimeError\u001b[0m: Cannot find macs2; please make sure macs2 has been installed"
     ]
    }
   ],
   "source": [
    "snap.tl.call_peaks(\n",
    "    adata=adata,\n",
    "    groupby=\"integrated_manual_cellid_annotation\",\n",
    "    out_dir=\"/cellar/users/aklie/data/datasets/igvf_sc-islet_10X-Multiome/annotation/2023_11_15/sample/dm11a/snapatac2/peak_calls\",\n",
    ")"
   ]
  },
  {
   "attachments": {},
   "cell_type": "markdown",
   "metadata": {},
   "source": [
    "# Multi-sample"
   ]
  },
  {
   "attachments": {},
   "cell_type": "markdown",
   "metadata": {},
   "source": [
    "“DM11A”, “DM21A”, “DM31A”"
   ]
  },
  {
   "cell_type": "code",
   "execution_count": 31,
   "metadata": {},
   "outputs": [],
   "source": [
    "input_h5ad_paths = [\n",
    "    \"/cellar/users/aklie/data/datasets/igvf_sc-islet_10X-Multiome/annotation/2023_11_15/sample/dm11a/snapatac2/clustered.h5ad\",\n",
    "    \"/cellar/users/aklie/data/datasets/igvf_sc-islet_10X-Multiome/annotation/2023_11_15/sample/dm21a/snapatac2/clustered.h5ad\",\n",
    "    \"/cellar/users/aklie/data/datasets/igvf_sc-islet_10X-Multiome/annotation/2023_11_15/sample/dm31a/snapatac2/clustered.h5ad\",\n",
    "]"
   ]
  },
  {
   "cell_type": "code",
   "execution_count": 32,
   "metadata": {},
   "outputs": [],
   "source": [
    "# Read in each h5ad with scanpy delete the X_spectral and X_umap from the obsm of the AnnData and resave with new name\n",
    "for path in input_h5ad_paths:\n",
    "    adata = sc.read_h5ad(path)\n",
    "    del adata.obsm[\"X_spectral\"]\n",
    "    del adata.obsm[\"X_umap\"]\n",
    "    adata.write_h5ad(path.replace(\".h5ad\", \"_obsm_delete.h5ad\"))"
   ]
  },
  {
   "cell_type": "code",
   "execution_count": 33,
   "metadata": {},
   "outputs": [
    {
     "data": {
      "text/plain": [
       "['/cellar/users/aklie/data/datasets/igvf_sc-islet_10X-Multiome/annotation/2023_11_15/sample/dm11a/snapatac2/clustered_obsm_delete.h5ad',\n",
       " '/cellar/users/aklie/data/datasets/igvf_sc-islet_10X-Multiome/annotation/2023_11_15/sample/dm21a/snapatac2/clustered_obsm_delete.h5ad',\n",
       " '/cellar/users/aklie/data/datasets/igvf_sc-islet_10X-Multiome/annotation/2023_11_15/sample/dm31a/snapatac2/clustered_obsm_delete.h5ad']"
      ]
     },
     "execution_count": 33,
     "metadata": {},
     "output_type": "execute_result"
    }
   ],
   "source": [
    "# Update the input h5ad paths to the new ones\n",
    "input_h5ad_paths = [file.replace(\".h5ad\", \"_obsm_delete.h5ad\") for file in input_h5ad_paths]\n",
    "input_h5ad_paths"
   ]
  },
  {
   "cell_type": "code",
   "execution_count": 34,
   "metadata": {},
   "outputs": [
    {
     "data": {
      "text/plain": [
       "['dm11a', 'dm21a', 'dm31a']"
      ]
     },
     "execution_count": 34,
     "metadata": {},
     "output_type": "execute_result"
    }
   ],
   "source": [
    "# Sample ids\n",
    "sample_ids = [file.split(\"/\")[-3] for file in input_h5ad_paths]\n",
    "sample_ids"
   ]
  },
  {
   "cell_type": "code",
   "execution_count": 35,
   "metadata": {},
   "outputs": [
    {
     "data": {
      "text/plain": [
       "[AnnData object with n_obs x n_vars = 3468 x 606219 backed at '/cellar/users/aklie/data/datasets/igvf_sc-islet_10X-Multiome/annotation/2023_11_15/sample/dm11a/snapatac2/clustered_obsm_delete.h5ad'\n",
       "     obs: 'tsse', 'n_fragment', 'frac_dup', 'frac_mito', 'doublet_probability', 'doublet_score', 'gex_barcode_cellranger', 'atac_barcode_cellranger', 'is_cell_cellranger', 'excluded_reason_cellranger', 'gex_raw_reads_cellranger', 'gex_mapped_reads_cellranger', 'gex_conf_intergenic_reads_cellranger', 'gex_conf_exonic_reads_cellranger', 'gex_conf_intronic_reads_cellranger', 'gex_conf_exonic_unique_reads_cellranger', 'gex_conf_exonic_antisense_reads_cellranger', 'gex_conf_exonic_dup_reads_cellranger', 'gex_exonic_umis_cellranger', 'gex_conf_intronic_unique_reads_cellranger', 'gex_conf_intronic_antisense_reads_cellranger', 'gex_conf_intronic_dup_reads_cellranger', 'gex_intronic_umis_cellranger', 'gex_conf_txomic_unique_reads_cellranger', 'gex_umis_count_cellranger', 'gex_genes_count_cellranger', 'atac_raw_reads_cellranger', 'atac_unmapped_reads_cellranger', 'atac_lowmapq_cellranger', 'atac_dup_reads_cellranger', 'atac_chimeric_reads_cellranger', 'atac_mitochondrial_reads_cellranger', 'atac_fragments_cellranger', 'atac_TSS_fragments_cellranger', 'atac_peak_region_fragments_cellranger', 'atac_peak_region_cutsites_cellranger', 'n_genes', 'n_genes_by_counts', 'log1p_n_genes_by_counts', 'total_counts', 'log1p_total_counts', 'pct_counts_in_top_20_genes', 'total_counts_mt', 'log1p_total_counts_mt', 'pct_counts_mt', 'total_counts_ribo', 'log1p_total_counts_ribo', 'pct_counts_ribo', 'outlier', 'mt_outlier', 'pre_soupx_leiden_1', 'post_soupx_leiden_1', 'scrublet_doublet_score', 'scrublet_predicted_doublet', 'scDblFinder_doublet_score', 'scDblFinder_doublet_class', 'scDblFinder_predicted_doublet', 'cellranger_predicted_doublet', 'doublet_filter', 'pre_doublet_filter_leiden_1', 'leiden_1', 'sample', 'integrated_manual_cellid_annotation'\n",
       "     var: 'count', 'selected'\n",
       "     uns: 'reference_sequences', 'scrublet_sim_doublet_score', 'spectral_eigenvalue'\n",
       "     obsm: 'insertion'\n",
       "     obsp: 'distances',\n",
       " AnnData object with n_obs x n_vars = 2703 x 606219 backed at '/cellar/users/aklie/data/datasets/igvf_sc-islet_10X-Multiome/annotation/2023_11_15/sample/dm21a/snapatac2/clustered_obsm_delete.h5ad'\n",
       "     obs: 'tsse', 'n_fragment', 'frac_dup', 'frac_mito', 'doublet_probability', 'doublet_score', 'gex_barcode_cellranger', 'atac_barcode_cellranger', 'is_cell_cellranger', 'excluded_reason_cellranger', 'gex_raw_reads_cellranger', 'gex_mapped_reads_cellranger', 'gex_conf_intergenic_reads_cellranger', 'gex_conf_exonic_reads_cellranger', 'gex_conf_intronic_reads_cellranger', 'gex_conf_exonic_unique_reads_cellranger', 'gex_conf_exonic_antisense_reads_cellranger', 'gex_conf_exonic_dup_reads_cellranger', 'gex_exonic_umis_cellranger', 'gex_conf_intronic_unique_reads_cellranger', 'gex_conf_intronic_antisense_reads_cellranger', 'gex_conf_intronic_dup_reads_cellranger', 'gex_intronic_umis_cellranger', 'gex_conf_txomic_unique_reads_cellranger', 'gex_umis_count_cellranger', 'gex_genes_count_cellranger', 'atac_raw_reads_cellranger', 'atac_unmapped_reads_cellranger', 'atac_lowmapq_cellranger', 'atac_dup_reads_cellranger', 'atac_chimeric_reads_cellranger', 'atac_mitochondrial_reads_cellranger', 'atac_fragments_cellranger', 'atac_TSS_fragments_cellranger', 'atac_peak_region_fragments_cellranger', 'atac_peak_region_cutsites_cellranger', 'n_genes', 'n_genes_by_counts', 'log1p_n_genes_by_counts', 'total_counts', 'log1p_total_counts', 'pct_counts_in_top_20_genes', 'total_counts_mt', 'log1p_total_counts_mt', 'pct_counts_mt', 'total_counts_ribo', 'log1p_total_counts_ribo', 'pct_counts_ribo', 'outlier', 'mt_outlier', 'pre_soupx_leiden_1', 'post_soupx_leiden_1', 'scrublet_doublet_score', 'scrublet_predicted_doublet', 'scDblFinder_doublet_score', 'scDblFinder_doublet_class', 'scDblFinder_predicted_doublet', 'cellranger_predicted_doublet', 'doublet_filter', 'pre_doublet_filter_leiden_1', 'leiden_1', 'sample', 'integrated_manual_cellid_annotation'\n",
       "     var: 'count', 'selected'\n",
       "     uns: 'scrublet_sim_doublet_score', 'reference_sequences', 'spectral_eigenvalue'\n",
       "     obsm: 'insertion'\n",
       "     obsp: 'distances',\n",
       " AnnData object with n_obs x n_vars = 3123 x 606219 backed at '/cellar/users/aklie/data/datasets/igvf_sc-islet_10X-Multiome/annotation/2023_11_15/sample/dm31a/snapatac2/clustered_obsm_delete.h5ad'\n",
       "     obs: 'tsse', 'n_fragment', 'frac_dup', 'frac_mito', 'doublet_probability', 'doublet_score', 'gex_barcode_cellranger', 'atac_barcode_cellranger', 'is_cell_cellranger', 'excluded_reason_cellranger', 'gex_raw_reads_cellranger', 'gex_mapped_reads_cellranger', 'gex_conf_intergenic_reads_cellranger', 'gex_conf_exonic_reads_cellranger', 'gex_conf_intronic_reads_cellranger', 'gex_conf_exonic_unique_reads_cellranger', 'gex_conf_exonic_antisense_reads_cellranger', 'gex_conf_exonic_dup_reads_cellranger', 'gex_exonic_umis_cellranger', 'gex_conf_intronic_unique_reads_cellranger', 'gex_conf_intronic_antisense_reads_cellranger', 'gex_conf_intronic_dup_reads_cellranger', 'gex_intronic_umis_cellranger', 'gex_conf_txomic_unique_reads_cellranger', 'gex_umis_count_cellranger', 'gex_genes_count_cellranger', 'atac_raw_reads_cellranger', 'atac_unmapped_reads_cellranger', 'atac_lowmapq_cellranger', 'atac_dup_reads_cellranger', 'atac_chimeric_reads_cellranger', 'atac_mitochondrial_reads_cellranger', 'atac_fragments_cellranger', 'atac_TSS_fragments_cellranger', 'atac_peak_region_fragments_cellranger', 'atac_peak_region_cutsites_cellranger', 'n_genes', 'n_genes_by_counts', 'log1p_n_genes_by_counts', 'total_counts', 'log1p_total_counts', 'pct_counts_in_top_20_genes', 'total_counts_mt', 'log1p_total_counts_mt', 'pct_counts_mt', 'total_counts_ribo', 'log1p_total_counts_ribo', 'pct_counts_ribo', 'outlier', 'mt_outlier', 'pre_soupx_leiden_1', 'post_soupx_leiden_1', 'scrublet_doublet_score', 'scrublet_predicted_doublet', 'scDblFinder_doublet_score', 'scDblFinder_doublet_class', 'scDblFinder_predicted_doublet', 'cellranger_predicted_doublet', 'doublet_filter', 'pre_doublet_filter_leiden_1', 'leiden_1', 'sample', 'integrated_manual_cellid_annotation'\n",
       "     var: 'count', 'selected'\n",
       "     uns: 'reference_sequences', 'scrublet_sim_doublet_score', 'spectral_eigenvalue'\n",
       "     obsm: 'insertion'\n",
       "     obsp: 'distances']"
      ]
     },
     "execution_count": 35,
     "metadata": {},
     "output_type": "execute_result"
    }
   ],
   "source": [
    "# Create the AnnDataset\n",
    "adata_atac_processed_list = []\n",
    "for i, h5ad_file in enumerate(input_h5ad_paths):\n",
    "    adata_atac = snap.read(h5ad_file)\n",
    "    adata_atac_processed_list.append(adata_atac)\n",
    "adata_atac_processed_list"
   ]
  },
  {
   "cell_type": "code",
   "execution_count": 36,
   "metadata": {},
   "outputs": [
    {
     "data": {
      "text/plain": [
       "[('dm11a',\n",
       "  AnnData object with n_obs x n_vars = 3468 x 606219 backed at '/cellar/users/aklie/data/datasets/igvf_sc-islet_10X-Multiome/annotation/2023_11_15/sample/dm11a/snapatac2/clustered_obsm_delete.h5ad'\n",
       "      obs: 'tsse', 'n_fragment', 'frac_dup', 'frac_mito', 'doublet_probability', 'doublet_score', 'gex_barcode_cellranger', 'atac_barcode_cellranger', 'is_cell_cellranger', 'excluded_reason_cellranger', 'gex_raw_reads_cellranger', 'gex_mapped_reads_cellranger', 'gex_conf_intergenic_reads_cellranger', 'gex_conf_exonic_reads_cellranger', 'gex_conf_intronic_reads_cellranger', 'gex_conf_exonic_unique_reads_cellranger', 'gex_conf_exonic_antisense_reads_cellranger', 'gex_conf_exonic_dup_reads_cellranger', 'gex_exonic_umis_cellranger', 'gex_conf_intronic_unique_reads_cellranger', 'gex_conf_intronic_antisense_reads_cellranger', 'gex_conf_intronic_dup_reads_cellranger', 'gex_intronic_umis_cellranger', 'gex_conf_txomic_unique_reads_cellranger', 'gex_umis_count_cellranger', 'gex_genes_count_cellranger', 'atac_raw_reads_cellranger', 'atac_unmapped_reads_cellranger', 'atac_lowmapq_cellranger', 'atac_dup_reads_cellranger', 'atac_chimeric_reads_cellranger', 'atac_mitochondrial_reads_cellranger', 'atac_fragments_cellranger', 'atac_TSS_fragments_cellranger', 'atac_peak_region_fragments_cellranger', 'atac_peak_region_cutsites_cellranger', 'n_genes', 'n_genes_by_counts', 'log1p_n_genes_by_counts', 'total_counts', 'log1p_total_counts', 'pct_counts_in_top_20_genes', 'total_counts_mt', 'log1p_total_counts_mt', 'pct_counts_mt', 'total_counts_ribo', 'log1p_total_counts_ribo', 'pct_counts_ribo', 'outlier', 'mt_outlier', 'pre_soupx_leiden_1', 'post_soupx_leiden_1', 'scrublet_doublet_score', 'scrublet_predicted_doublet', 'scDblFinder_doublet_score', 'scDblFinder_doublet_class', 'scDblFinder_predicted_doublet', 'cellranger_predicted_doublet', 'doublet_filter', 'pre_doublet_filter_leiden_1', 'leiden_1', 'sample', 'integrated_manual_cellid_annotation'\n",
       "      var: 'count', 'selected'\n",
       "      uns: 'reference_sequences', 'scrublet_sim_doublet_score', 'spectral_eigenvalue'\n",
       "      obsm: 'insertion'\n",
       "      obsp: 'distances'),\n",
       " ('dm21a',\n",
       "  AnnData object with n_obs x n_vars = 2703 x 606219 backed at '/cellar/users/aklie/data/datasets/igvf_sc-islet_10X-Multiome/annotation/2023_11_15/sample/dm21a/snapatac2/clustered_obsm_delete.h5ad'\n",
       "      obs: 'tsse', 'n_fragment', 'frac_dup', 'frac_mito', 'doublet_probability', 'doublet_score', 'gex_barcode_cellranger', 'atac_barcode_cellranger', 'is_cell_cellranger', 'excluded_reason_cellranger', 'gex_raw_reads_cellranger', 'gex_mapped_reads_cellranger', 'gex_conf_intergenic_reads_cellranger', 'gex_conf_exonic_reads_cellranger', 'gex_conf_intronic_reads_cellranger', 'gex_conf_exonic_unique_reads_cellranger', 'gex_conf_exonic_antisense_reads_cellranger', 'gex_conf_exonic_dup_reads_cellranger', 'gex_exonic_umis_cellranger', 'gex_conf_intronic_unique_reads_cellranger', 'gex_conf_intronic_antisense_reads_cellranger', 'gex_conf_intronic_dup_reads_cellranger', 'gex_intronic_umis_cellranger', 'gex_conf_txomic_unique_reads_cellranger', 'gex_umis_count_cellranger', 'gex_genes_count_cellranger', 'atac_raw_reads_cellranger', 'atac_unmapped_reads_cellranger', 'atac_lowmapq_cellranger', 'atac_dup_reads_cellranger', 'atac_chimeric_reads_cellranger', 'atac_mitochondrial_reads_cellranger', 'atac_fragments_cellranger', 'atac_TSS_fragments_cellranger', 'atac_peak_region_fragments_cellranger', 'atac_peak_region_cutsites_cellranger', 'n_genes', 'n_genes_by_counts', 'log1p_n_genes_by_counts', 'total_counts', 'log1p_total_counts', 'pct_counts_in_top_20_genes', 'total_counts_mt', 'log1p_total_counts_mt', 'pct_counts_mt', 'total_counts_ribo', 'log1p_total_counts_ribo', 'pct_counts_ribo', 'outlier', 'mt_outlier', 'pre_soupx_leiden_1', 'post_soupx_leiden_1', 'scrublet_doublet_score', 'scrublet_predicted_doublet', 'scDblFinder_doublet_score', 'scDblFinder_doublet_class', 'scDblFinder_predicted_doublet', 'cellranger_predicted_doublet', 'doublet_filter', 'pre_doublet_filter_leiden_1', 'leiden_1', 'sample', 'integrated_manual_cellid_annotation'\n",
       "      var: 'count', 'selected'\n",
       "      uns: 'scrublet_sim_doublet_score', 'reference_sequences', 'spectral_eigenvalue'\n",
       "      obsm: 'insertion'\n",
       "      obsp: 'distances'),\n",
       " ('dm31a',\n",
       "  AnnData object with n_obs x n_vars = 3123 x 606219 backed at '/cellar/users/aklie/data/datasets/igvf_sc-islet_10X-Multiome/annotation/2023_11_15/sample/dm31a/snapatac2/clustered_obsm_delete.h5ad'\n",
       "      obs: 'tsse', 'n_fragment', 'frac_dup', 'frac_mito', 'doublet_probability', 'doublet_score', 'gex_barcode_cellranger', 'atac_barcode_cellranger', 'is_cell_cellranger', 'excluded_reason_cellranger', 'gex_raw_reads_cellranger', 'gex_mapped_reads_cellranger', 'gex_conf_intergenic_reads_cellranger', 'gex_conf_exonic_reads_cellranger', 'gex_conf_intronic_reads_cellranger', 'gex_conf_exonic_unique_reads_cellranger', 'gex_conf_exonic_antisense_reads_cellranger', 'gex_conf_exonic_dup_reads_cellranger', 'gex_exonic_umis_cellranger', 'gex_conf_intronic_unique_reads_cellranger', 'gex_conf_intronic_antisense_reads_cellranger', 'gex_conf_intronic_dup_reads_cellranger', 'gex_intronic_umis_cellranger', 'gex_conf_txomic_unique_reads_cellranger', 'gex_umis_count_cellranger', 'gex_genes_count_cellranger', 'atac_raw_reads_cellranger', 'atac_unmapped_reads_cellranger', 'atac_lowmapq_cellranger', 'atac_dup_reads_cellranger', 'atac_chimeric_reads_cellranger', 'atac_mitochondrial_reads_cellranger', 'atac_fragments_cellranger', 'atac_TSS_fragments_cellranger', 'atac_peak_region_fragments_cellranger', 'atac_peak_region_cutsites_cellranger', 'n_genes', 'n_genes_by_counts', 'log1p_n_genes_by_counts', 'total_counts', 'log1p_total_counts', 'pct_counts_in_top_20_genes', 'total_counts_mt', 'log1p_total_counts_mt', 'pct_counts_mt', 'total_counts_ribo', 'log1p_total_counts_ribo', 'pct_counts_ribo', 'outlier', 'mt_outlier', 'pre_soupx_leiden_1', 'post_soupx_leiden_1', 'scrublet_doublet_score', 'scrublet_predicted_doublet', 'scDblFinder_doublet_score', 'scDblFinder_doublet_class', 'scDblFinder_predicted_doublet', 'cellranger_predicted_doublet', 'doublet_filter', 'pre_doublet_filter_leiden_1', 'leiden_1', 'sample', 'integrated_manual_cellid_annotation'\n",
       "      var: 'count', 'selected'\n",
       "      uns: 'reference_sequences', 'scrublet_sim_doublet_score', 'spectral_eigenvalue'\n",
       "      obsm: 'insertion'\n",
       "      obsp: 'distances')]"
      ]
     },
     "execution_count": 36,
     "metadata": {},
     "output_type": "execute_result"
    }
   ],
   "source": [
    "adatas = [(name, adata) for name, adata in zip(sample_ids, adata_atac_processed_list)]\n",
    "adatas"
   ]
  },
  {
   "cell_type": "code",
   "execution_count": 37,
   "metadata": {},
   "outputs": [],
   "source": [
    "# Merge into one object\n",
    "adata_atac_merged = snap.AnnDataSet(\n",
    "    adatas=adatas,\n",
    "    filename=\"/cellar/users/aklie/data/datasets/igvf_sc-islet_10X-Multiome/annotation/2023_11_15/timecourse/A2_3-cyt/snapatac2/merged.h5ads\",\n",
    ")"
   ]
  },
  {
   "cell_type": "code",
   "execution_count": 38,
   "metadata": {},
   "outputs": [],
   "source": [
    "# Close all the backed anndatas\n",
    "for adata_atac in adata_atac_processed_list:\n",
    "    adata_atac.close()\n",
    "adata_atac_merged.close()"
   ]
  },
  {
   "cell_type": "code",
   "execution_count": 48,
   "metadata": {},
   "outputs": [],
   "source": [
    "# Add \"integrated_manual_cellid_annotation\" to obs\n",
    "cell_bcs = []\n",
    "cell_ids = []\n",
    "for file in input_h5ad_paths:\n",
    "    adata = sc.read_h5ad(file)\n",
    "    cell_ids.extend(adata.obs[\"integrated_manual_cellid_annotation\"].tolist())\n",
    "    cell_bcs.extend(adata.obs_names.tolist())\n",
    "cell_id_map = pd.Series(cell_ids, index=cell_bcs)"
   ]
  },
  {
   "cell_type": "code",
   "execution_count": 49,
   "metadata": {},
   "outputs": [
    {
     "data": {
      "text/plain": [
       "dm11a#TATGGATGTGCATTAG-1    SC.alpha\n",
       "dm11a#CACTTAAAGGTTACAC-1    SC.alpha\n",
       "dm11a#GTCATGCCACACAATT-1     SC.beta\n",
       "dm11a#GGGCATTGTGCAACTA-1       SC.EC\n",
       "dm11a#TCCAGGATCATGACCG-1     SC.beta\n",
       "                              ...   \n",
       "dm31a#TCTCCTCGTTTAGCGA-1       SC.EC\n",
       "dm31a#CGAGGTGAGTTAGAGG-1     SC.beta\n",
       "dm31a#CTCCATCAGACCATAC-1     SC.beta\n",
       "dm31a#TGAGCACGTGACCTGG-1     SC.beta\n",
       "dm31a#CGCAATGTCGGGACCT-1       SC.EC\n",
       "Length: 9294, dtype: object"
      ]
     },
     "execution_count": 49,
     "metadata": {},
     "output_type": "execute_result"
    }
   ],
   "source": [
    "cell_id_map"
   ]
  },
  {
   "cell_type": "code",
   "execution_count": 60,
   "metadata": {},
   "outputs": [
    {
     "data": {
      "text/plain": [
       "AnnDataSet object with n_obs x n_vars = 9294 x 606219 backed at '/cellar/users/aklie/data/datasets/igvf_sc-islet_10X-Multiome/annotation/2023_11_15/timecourse/A2_3-cyt/snapatac2/merged.h5ads'\n",
       "contains 3 AnnData objects with keys: 'dm11a', 'dm21a', 'dm31a'\n",
       "    obs: 'sample'\n",
       "    uns: 'AnnDataSet', 'reference_sequences'"
      ]
     },
     "execution_count": 60,
     "metadata": {},
     "output_type": "execute_result"
    }
   ],
   "source": [
    "adata_atac_merged"
   ]
  },
  {
   "cell_type": "code",
   "execution_count": 63,
   "metadata": {},
   "outputs": [
    {
     "data": {
      "text/plain": [
       "AnnDataSet object with n_obs x n_vars = 9294 x 606219 backed at '/cellar/users/aklie/data/datasets/igvf_sc-islet_10X-Multiome/annotation/2023_11_15/timecourse/A2_3-cyt/snapatac2/merged.h5ads'\n",
       "contains 3 AnnData objects with keys: 'dm11a', 'dm21a', 'dm31a'\n",
       "    obs: 'sample', 'integrated_manual_cellid_annotation'\n",
       "    uns: 'reference_sequences', 'AnnDataSet'"
      ]
     },
     "execution_count": 63,
     "metadata": {},
     "output_type": "execute_result"
    }
   ],
   "source": [
    "# Read in the merged AnnDataset\n",
    "adata_atac_merged = snap.read_dataset(\"/cellar/users/aklie/data/datasets/igvf_sc-islet_10X-Multiome/annotation/2023_11_15/timecourse/A2_3-cyt/snapatac2/merged.h5ads\")\n",
    "mapped_cell_ids = cell_id_map[adata_atac_merged.obs_names].values.tolist()\n",
    "adata_atac_merged.obs[\"integrated_manual_cellid_annotation\"] = mapped_cell_ids\n",
    "adata_atac_merged"
   ]
  },
  {
   "cell_type": "code",
   "execution_count": 26,
   "metadata": {},
   "outputs": [
    {
     "data": {
      "text/plain": [
       "{'SC.delta': '/cellar/users/aklie/data/datasets/igvf_sc-islet_10X-Multiome/annotation/2023_11_15/timecourse/A2_3-cyt/snapatac2/pseudobulk/SC.delta.bed.gz',\n",
       " 'SC.beta': '/cellar/users/aklie/data/datasets/igvf_sc-islet_10X-Multiome/annotation/2023_11_15/timecourse/A2_3-cyt/snapatac2/pseudobulk/SC.beta.bed.gz',\n",
       " 'SC.EC': '/cellar/users/aklie/data/datasets/igvf_sc-islet_10X-Multiome/annotation/2023_11_15/timecourse/A2_3-cyt/snapatac2/pseudobulk/SC.EC.bed.gz',\n",
       " 'SC.alpha': '/cellar/users/aklie/data/datasets/igvf_sc-islet_10X-Multiome/annotation/2023_11_15/timecourse/A2_3-cyt/snapatac2/pseudobulk/SC.alpha.bed.gz',\n",
       " 'proliferating_alpha': '/cellar/users/aklie/data/datasets/igvf_sc-islet_10X-Multiome/annotation/2023_11_15/timecourse/A2_3-cyt/snapatac2/pseudobulk/proliferating_alpha.bed.gz',\n",
       " 'other': '/cellar/users/aklie/data/datasets/igvf_sc-islet_10X-Multiome/annotation/2023_11_15/timecourse/A2_3-cyt/snapatac2/pseudobulk/other.bed.gz'}"
      ]
     },
     "execution_count": 26,
     "metadata": {},
     "output_type": "execute_result"
    }
   ],
   "source": [
    "snap.ex.export_bed(\n",
    "    adata=adata_atac_merged,\n",
    "    groupby=\"integrated_manual_cellid_annotation\",\n",
    "    out_dir=\"/cellar/users/aklie/data/datasets/igvf_sc-islet_10X-Multiome/annotation/2023_11_15/timecourse/A2_3-cyt/snapatac2/pseudobulk\",\n",
    ")"
   ]
  },
  {
   "cell_type": "code",
   "execution_count": null,
   "metadata": {},
   "outputs": [],
   "source": [
    "snap.tl.call_peaks(\n",
    "    adata=adata_atac_merged,\n",
    "    groupby=\"integrated_manual_cellid_annotation\",\n",
    "    out_dir=\"/cellar/users/aklie/data/datasets/igvf_sc-islet_10X-Multiome/annotation/2023_11_15/timecourse/A2_3-cyt/snapatac2/peak_calls\",\n",
    ")"
   ]
  }
 ],
 "metadata": {
  "kernelspec": {
   "display_name": "Python 3.9 scverse-lite",
   "language": "python",
   "name": "scverse-lite-py39"
  },
  "orig_nbformat": 4
 },
 "nbformat": 4,
 "nbformat_minor": 2
}
