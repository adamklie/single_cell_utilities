{
 "cells": [
  {
   "attachments": {},
   "cell_type": "markdown",
   "metadata": {},
   "source": [
    "# Create AnnDataset from *processed* h5ad files using SnapATAC2\n",
    "**Authorship:** Adam Klie (last updated: 08/22/2023)<br>\n",
    "***\n",
    "**Description:** Notebook to convert a set of processed AnnData files into an AnnDataset object. This is basically the exact same as `2_create_anndataset_from_frag_files.ipynb` but expects processed h5ad files from `4_preprocess_anndatas.sh`. Future iterations may do both the wrangling from fragment into AnnData and the processing in one step. I haven't determined whether keeping the \"raw\" AnnData files is useful or not."
   ]
  },
  {
   "attachments": {},
   "cell_type": "markdown",
   "metadata": {},
   "source": [
    "# Set-up"
   ]
  },
  {
   "cell_type": "code",
   "execution_count": 1,
   "metadata": {},
   "outputs": [],
   "source": [
    "# Imports\n",
    "import os\n",
    "import sys\n",
    "import time\n",
    "import glob\n",
    "import logging\n",
    "import numpy as np\n",
    "import pandas as pd\n",
    "from tqdm.auto import tqdm\n",
    "\n",
    "# We will use snapatac2 to load the data\n",
    "import snapatac2 as snap"
   ]
  },
  {
   "cell_type": "code",
   "execution_count": 4,
   "metadata": {},
   "outputs": [],
   "source": [
    "# File paths\n",
    "h5ad_dir = \"/cellar/users/aklie/data/datasets/igvf_sc-islet_10X-Multiome/annotation/16Aug23/snapatac2/processed\"\n",
    "out_dir = \"/cellar/users/aklie/data/datasets/igvf_sc-islet_10X-Multiome/annotation/2023_11_14/snapatac2\"\n",
    "\n",
    "# Make the directory to output, if it doesn't exist\n",
    "if not os.path.exists(out_dir):\n",
    "    os.makedirs(out_dir)"
   ]
  },
  {
   "cell_type": "code",
   "execution_count": 5,
   "metadata": {},
   "outputs": [
    {
     "name": "stderr",
     "output_type": "stream",
     "text": [
      "2023-12-02 11:50:00 - INFO - AnnData dictionary: {'dm0b': '/cellar/users/aklie/data/datasets/igvf_sc-islet_10X-Multiome/annotation/16Aug23/snapatac2/processed/adata_atac_DM0B_processed.h5ad', 'dm11a': '/cellar/users/aklie/data/datasets/igvf_sc-islet_10X-Multiome/annotation/16Aug23/snapatac2/processed/adata_atac_DM11A_processed.h5ad', 'dm12b': '/cellar/users/aklie/data/datasets/igvf_sc-islet_10X-Multiome/annotation/16Aug23/snapatac2/processed/adata_atac_DM12B_processed.h5ad', 'dm14b': '/cellar/users/aklie/data/datasets/igvf_sc-islet_10X-Multiome/annotation/16Aug23/snapatac2/processed/adata_atac_DM14B_processed.h5ad', 'dm21a': '/cellar/users/aklie/data/datasets/igvf_sc-islet_10X-Multiome/annotation/16Aug23/snapatac2/processed/adata_atac_DM21A_processed.h5ad', 'dm23a': '/cellar/users/aklie/data/datasets/igvf_sc-islet_10X-Multiome/annotation/16Aug23/snapatac2/processed/adata_atac_DM23A_processed.h5ad', 'dm24a': '/cellar/users/aklie/data/datasets/igvf_sc-islet_10X-Multiome/annotation/16Aug23/snapatac2/processed/adata_atac_DM24A_processed.h5ad', 'dm25a': '/cellar/users/aklie/data/datasets/igvf_sc-islet_10X-Multiome/annotation/16Aug23/snapatac2/processed/adata_atac_DM25A_processed.h5ad', 'dm31a': '/cellar/users/aklie/data/datasets/igvf_sc-islet_10X-Multiome/annotation/16Aug23/snapatac2/processed/adata_atac_DM31A_processed.h5ad', 'dm32a': '/cellar/users/aklie/data/datasets/igvf_sc-islet_10X-Multiome/annotation/16Aug23/snapatac2/processed/adata_atac_DM32A_processed.h5ad', 'dm33a': '/cellar/users/aklie/data/datasets/igvf_sc-islet_10X-Multiome/annotation/16Aug23/snapatac2/processed/adata_atac_DM33A_processed.h5ad', 'dm34a': '/cellar/users/aklie/data/datasets/igvf_sc-islet_10X-Multiome/annotation/16Aug23/snapatac2/processed/adata_atac_DM34A_processed.h5ad', 'dm35a': '/cellar/users/aklie/data/datasets/igvf_sc-islet_10X-Multiome/annotation/16Aug23/snapatac2/processed/adata_atac_DM35A_processed.h5ad', 'dm42b': '/cellar/users/aklie/data/datasets/igvf_sc-islet_10X-Multiome/annotation/16Aug23/snapatac2/processed/adata_atac_DM42B_processed.h5ad', 'dm43b': '/cellar/users/aklie/data/datasets/igvf_sc-islet_10X-Multiome/annotation/16Aug23/snapatac2/processed/adata_atac_DM43B_processed.h5ad', 'dm44a': '/cellar/users/aklie/data/datasets/igvf_sc-islet_10X-Multiome/annotation/16Aug23/snapatac2/processed/adata_atac_DM44A_processed.h5ad', 'dm45a': '/cellar/users/aklie/data/datasets/igvf_sc-islet_10X-Multiome/annotation/16Aug23/snapatac2/processed/adata_atac_DM45A_processed.h5ad', 'mo14': '/cellar/users/aklie/data/datasets/igvf_sc-islet_10X-Multiome/annotation/16Aug23/snapatac2/processed/adata_atac_MO14_processed.h5ad', 'mo18': '/cellar/users/aklie/data/datasets/igvf_sc-islet_10X-Multiome/annotation/16Aug23/snapatac2/processed/adata_atac_MO18_processed.h5ad', 'mo1': '/cellar/users/aklie/data/datasets/igvf_sc-islet_10X-Multiome/annotation/16Aug23/snapatac2/processed/adata_atac_MO1_processed.h5ad', 'mo22': '/cellar/users/aklie/data/datasets/igvf_sc-islet_10X-Multiome/annotation/16Aug23/snapatac2/processed/adata_atac_MO22_processed.h5ad', 'mo26': '/cellar/users/aklie/data/datasets/igvf_sc-islet_10X-Multiome/annotation/16Aug23/snapatac2/processed/adata_atac_MO26_processed.h5ad', 'mo29': '/cellar/users/aklie/data/datasets/igvf_sc-islet_10X-Multiome/annotation/16Aug23/snapatac2/processed/adata_atac_MO29_processed.h5ad', 'mo33': '/cellar/users/aklie/data/datasets/igvf_sc-islet_10X-Multiome/annotation/16Aug23/snapatac2/processed/adata_atac_MO33_processed.h5ad', 'mo38': '/cellar/users/aklie/data/datasets/igvf_sc-islet_10X-Multiome/annotation/16Aug23/snapatac2/processed/adata_atac_MO38_processed.h5ad', 'mo3': '/cellar/users/aklie/data/datasets/igvf_sc-islet_10X-Multiome/annotation/16Aug23/snapatac2/processed/adata_atac_MO3_processed.h5ad', 'mo9': '/cellar/users/aklie/data/datasets/igvf_sc-islet_10X-Multiome/annotation/16Aug23/snapatac2/processed/adata_atac_MO9_processed.h5ad'}\n"
     ]
    }
   ],
   "source": [
    "# Get all the h5ad files\n",
    "h5ad_glob = os.path.join(h5ad_dir, \"adata_atac*processed.h5ad\")\n",
    "h5ad_files = sorted(glob.glob(h5ad_glob, recursive=True))\n",
    "\n",
    "# Get all the sample ids\n",
    "sample_ids = [os.path.basename(file).split(\"_\")[-2].split(\".\")[0].lower() for file in h5ad_files]\n",
    "\n",
    "# Create a dict and log it\n",
    "h5ad_dict = dict(zip(sample_ids, h5ad_files))\n",
    "logging.info(f\"AnnData dictionary: {h5ad_dict}\")"
   ]
  },
  {
   "cell_type": "code",
   "execution_count": 6,
   "metadata": {},
   "outputs": [
    {
     "data": {
      "application/vnd.jupyter.widget-view+json": {
       "model_id": "75b56213aef447d0bc7a10e30b3b9c99",
       "version_major": 2,
       "version_minor": 0
      },
      "text/plain": [
       "  0%|          | 0/27 [00:00<?, ?it/s]"
      ]
     },
     "metadata": {},
     "output_type": "display_data"
    },
    {
     "name": "stderr",
     "output_type": "stream",
     "text": [
      "2023-12-02 11:50:00 - INFO - Loading /cellar/users/aklie/data/datasets/igvf_sc-islet_10X-Multiome/annotation/16Aug23/snapatac2/processed/adata_atac_DM0B_processed.h5ad\n"
     ]
    },
    {
     "name": "stderr",
     "output_type": "stream",
     "text": [
      "2023-12-02 11:50:01 - INFO - Loading /cellar/users/aklie/data/datasets/igvf_sc-islet_10X-Multiome/annotation/16Aug23/snapatac2/processed/adata_atac_DM11A_processed.h5ad\n",
      "2023-12-02 11:50:02 - INFO - Loading /cellar/users/aklie/data/datasets/igvf_sc-islet_10X-Multiome/annotation/16Aug23/snapatac2/processed/adata_atac_DM12B_processed.h5ad\n",
      "2023-12-02 11:50:03 - INFO - Loading /cellar/users/aklie/data/datasets/igvf_sc-islet_10X-Multiome/annotation/16Aug23/snapatac2/processed/adata_atac_DM14B_processed.h5ad\n",
      "2023-12-02 11:50:04 - INFO - Loading /cellar/users/aklie/data/datasets/igvf_sc-islet_10X-Multiome/annotation/16Aug23/snapatac2/processed/adata_atac_DM21A_processed.h5ad\n",
      "2023-12-02 11:50:04 - INFO - Loading /cellar/users/aklie/data/datasets/igvf_sc-islet_10X-Multiome/annotation/16Aug23/snapatac2/processed/adata_atac_DM23A_processed.h5ad\n",
      "2023-12-02 11:50:05 - INFO - Loading /cellar/users/aklie/data/datasets/igvf_sc-islet_10X-Multiome/annotation/16Aug23/snapatac2/processed/adata_atac_DM24A_processed.h5ad\n",
      "2023-12-02 11:50:06 - INFO - Loading /cellar/users/aklie/data/datasets/igvf_sc-islet_10X-Multiome/annotation/16Aug23/snapatac2/processed/adata_atac_DM25A_processed.h5ad\n",
      "2023-12-02 11:50:06 - INFO - Loading /cellar/users/aklie/data/datasets/igvf_sc-islet_10X-Multiome/annotation/16Aug23/snapatac2/processed/adata_atac_DM31A_processed.h5ad\n",
      "2023-12-02 11:50:07 - INFO - Loading /cellar/users/aklie/data/datasets/igvf_sc-islet_10X-Multiome/annotation/16Aug23/snapatac2/processed/adata_atac_DM32A_processed.h5ad\n",
      "2023-12-02 11:50:07 - INFO - Loading /cellar/users/aklie/data/datasets/igvf_sc-islet_10X-Multiome/annotation/16Aug23/snapatac2/processed/adata_atac_DM33A_processed.h5ad\n",
      "2023-12-02 11:50:08 - INFO - Loading /cellar/users/aklie/data/datasets/igvf_sc-islet_10X-Multiome/annotation/16Aug23/snapatac2/processed/adata_atac_DM34A_processed.h5ad\n",
      "2023-12-02 11:50:08 - INFO - Loading /cellar/users/aklie/data/datasets/igvf_sc-islet_10X-Multiome/annotation/16Aug23/snapatac2/processed/adata_atac_DM35A_processed.h5ad\n",
      "2023-12-02 11:50:09 - INFO - Loading /cellar/users/aklie/data/datasets/igvf_sc-islet_10X-Multiome/annotation/16Aug23/snapatac2/processed/adata_atac_DM42B_processed.h5ad\n",
      "2023-12-02 11:50:09 - INFO - Loading /cellar/users/aklie/data/datasets/igvf_sc-islet_10X-Multiome/annotation/16Aug23/snapatac2/processed/adata_atac_DM43B_processed.h5ad\n",
      "2023-12-02 11:50:11 - INFO - Loading /cellar/users/aklie/data/datasets/igvf_sc-islet_10X-Multiome/annotation/16Aug23/snapatac2/processed/adata_atac_DM44A_processed.h5ad\n",
      "2023-12-02 11:50:12 - INFO - Loading /cellar/users/aklie/data/datasets/igvf_sc-islet_10X-Multiome/annotation/16Aug23/snapatac2/processed/adata_atac_DM45A_processed.h5ad\n",
      "2023-12-02 11:50:13 - INFO - Loading /cellar/users/aklie/data/datasets/igvf_sc-islet_10X-Multiome/annotation/16Aug23/snapatac2/processed/adata_atac_MO14_processed.h5ad\n",
      "2023-12-02 11:50:13 - INFO - Loading /cellar/users/aklie/data/datasets/igvf_sc-islet_10X-Multiome/annotation/16Aug23/snapatac2/processed/adata_atac_MO18_processed.h5ad\n",
      "2023-12-02 11:50:14 - INFO - Loading /cellar/users/aklie/data/datasets/igvf_sc-islet_10X-Multiome/annotation/16Aug23/snapatac2/processed/adata_atac_MO1_processed.h5ad\n",
      "2023-12-02 11:50:15 - INFO - Loading /cellar/users/aklie/data/datasets/igvf_sc-islet_10X-Multiome/annotation/16Aug23/snapatac2/processed/adata_atac_MO22_processed.h5ad\n",
      "2023-12-02 11:50:16 - INFO - Loading /cellar/users/aklie/data/datasets/igvf_sc-islet_10X-Multiome/annotation/16Aug23/snapatac2/processed/adata_atac_MO26_processed.h5ad\n",
      "2023-12-02 11:50:16 - INFO - Loading /cellar/users/aklie/data/datasets/igvf_sc-islet_10X-Multiome/annotation/16Aug23/snapatac2/processed/adata_atac_MO29_processed.h5ad\n",
      "2023-12-02 11:50:16 - INFO - Loading /cellar/users/aklie/data/datasets/igvf_sc-islet_10X-Multiome/annotation/16Aug23/snapatac2/processed/adata_atac_MO33_processed.h5ad\n",
      "2023-12-02 11:50:17 - INFO - Loading /cellar/users/aklie/data/datasets/igvf_sc-islet_10X-Multiome/annotation/16Aug23/snapatac2/processed/adata_atac_MO38_processed.h5ad\n",
      "2023-12-02 11:50:18 - INFO - Loading /cellar/users/aklie/data/datasets/igvf_sc-islet_10X-Multiome/annotation/16Aug23/snapatac2/processed/adata_atac_MO3_processed.h5ad\n",
      "2023-12-02 11:50:18 - INFO - Loading /cellar/users/aklie/data/datasets/igvf_sc-islet_10X-Multiome/annotation/16Aug23/snapatac2/processed/adata_atac_MO9_processed.h5ad\n"
     ]
    }
   ],
   "source": [
    "# Create the AnnDataset\n",
    "adata_atac_processed_list = []\n",
    "for i, h5ad_file in enumerate(tqdm(h5ad_files)):\n",
    "    logging.info(f\"Loading {h5ad_file}\")\n",
    "    adata_atac = snap.read(h5ad_file)\n",
    "    adata_atac_processed_list.append(adata_atac)"
   ]
  },
  {
   "cell_type": "code",
   "execution_count": 7,
   "metadata": {},
   "outputs": [
    {
     "data": {
      "text/plain": [
       "[('dm0b',\n",
       "  AnnData object with n_obs x n_vars = 9391 x 606219 backed at '/cellar/users/aklie/data/datasets/igvf_sc-islet_10X-Multiome/annotation/16Aug23/snapatac2/processed/adata_atac_DM0B_processed.h5ad'\n",
       "      obs: 'tsse', 'n_fragment', 'frac_dup', 'frac_mito', 'doublet_probability', 'doublet_score'\n",
       "      var: 'count', 'selected'\n",
       "      uns: 'reference_sequences', 'scrublet_sim_doublet_score'\n",
       "      obsm: 'insertion'),\n",
       " ('dm11a',\n",
       "  AnnData object with n_obs x n_vars = 7763 x 606219 backed at '/cellar/users/aklie/data/datasets/igvf_sc-islet_10X-Multiome/annotation/16Aug23/snapatac2/processed/adata_atac_DM11A_processed.h5ad'\n",
       "      obs: 'tsse', 'n_fragment', 'frac_dup', 'frac_mito', 'doublet_probability', 'doublet_score'\n",
       "      var: 'count', 'selected'\n",
       "      uns: 'reference_sequences', 'scrublet_sim_doublet_score'\n",
       "      obsm: 'insertion'),\n",
       " ('dm12b',\n",
       "  AnnData object with n_obs x n_vars = 9415 x 606219 backed at '/cellar/users/aklie/data/datasets/igvf_sc-islet_10X-Multiome/annotation/16Aug23/snapatac2/processed/adata_atac_DM12B_processed.h5ad'\n",
       "      obs: 'tsse', 'n_fragment', 'frac_dup', 'frac_mito', 'doublet_probability', 'doublet_score'\n",
       "      var: 'count', 'selected'\n",
       "      uns: 'scrublet_sim_doublet_score', 'reference_sequences'\n",
       "      obsm: 'insertion'),\n",
       " ('dm14b',\n",
       "  AnnData object with n_obs x n_vars = 7233 x 606219 backed at '/cellar/users/aklie/data/datasets/igvf_sc-islet_10X-Multiome/annotation/16Aug23/snapatac2/processed/adata_atac_DM14B_processed.h5ad'\n",
       "      obs: 'tsse', 'n_fragment', 'frac_dup', 'frac_mito', 'doublet_probability', 'doublet_score'\n",
       "      var: 'count', 'selected'\n",
       "      uns: 'reference_sequences', 'scrublet_sim_doublet_score'\n",
       "      obsm: 'insertion'),\n",
       " ('dm21a',\n",
       "  AnnData object with n_obs x n_vars = 1831 x 606219 backed at '/cellar/users/aklie/data/datasets/igvf_sc-islet_10X-Multiome/annotation/16Aug23/snapatac2/processed/adata_atac_DM21A_processed.h5ad'\n",
       "      obs: 'tsse', 'n_fragment', 'frac_dup', 'frac_mito', 'doublet_probability', 'doublet_score'\n",
       "      var: 'count', 'selected'\n",
       "      uns: 'scrublet_sim_doublet_score', 'reference_sequences'\n",
       "      obsm: 'insertion'),\n",
       " ('dm23a',\n",
       "  AnnData object with n_obs x n_vars = 7177 x 606219 backed at '/cellar/users/aklie/data/datasets/igvf_sc-islet_10X-Multiome/annotation/16Aug23/snapatac2/processed/adata_atac_DM23A_processed.h5ad'\n",
       "      obs: 'tsse', 'n_fragment', 'frac_dup', 'frac_mito', 'doublet_probability', 'doublet_score'\n",
       "      var: 'count', 'selected'\n",
       "      uns: 'scrublet_sim_doublet_score', 'reference_sequences'\n",
       "      obsm: 'insertion'),\n",
       " ('dm24a',\n",
       "  AnnData object with n_obs x n_vars = 7186 x 606219 backed at '/cellar/users/aklie/data/datasets/igvf_sc-islet_10X-Multiome/annotation/16Aug23/snapatac2/processed/adata_atac_DM24A_processed.h5ad'\n",
       "      obs: 'tsse', 'n_fragment', 'frac_dup', 'frac_mito', 'doublet_probability', 'doublet_score'\n",
       "      var: 'count', 'selected'\n",
       "      uns: 'reference_sequences', 'scrublet_sim_doublet_score'\n",
       "      obsm: 'insertion'),\n",
       " ('dm25a',\n",
       "  AnnData object with n_obs x n_vars = 7787 x 606219 backed at '/cellar/users/aklie/data/datasets/igvf_sc-islet_10X-Multiome/annotation/16Aug23/snapatac2/processed/adata_atac_DM25A_processed.h5ad'\n",
       "      obs: 'tsse', 'n_fragment', 'frac_dup', 'frac_mito', 'doublet_probability', 'doublet_score'\n",
       "      var: 'count', 'selected'\n",
       "      uns: 'scrublet_sim_doublet_score', 'reference_sequences'\n",
       "      obsm: 'insertion'),\n",
       " ('dm31a',\n",
       "  AnnData object with n_obs x n_vars = 10325 x 606219 backed at '/cellar/users/aklie/data/datasets/igvf_sc-islet_10X-Multiome/annotation/16Aug23/snapatac2/processed/adata_atac_DM31A_processed.h5ad'\n",
       "      obs: 'tsse', 'n_fragment', 'frac_dup', 'frac_mito', 'doublet_probability', 'doublet_score'\n",
       "      var: 'count', 'selected'\n",
       "      uns: 'scrublet_sim_doublet_score', 'reference_sequences'\n",
       "      obsm: 'insertion'),\n",
       " ('dm32a',\n",
       "  AnnData object with n_obs x n_vars = 289 x 606219 backed at '/cellar/users/aklie/data/datasets/igvf_sc-islet_10X-Multiome/annotation/16Aug23/snapatac2/processed/adata_atac_DM32A_processed.h5ad'\n",
       "      obs: 'tsse', 'n_fragment', 'frac_dup', 'frac_mito', 'doublet_probability', 'doublet_score'\n",
       "      var: 'count', 'selected'\n",
       "      uns: 'reference_sequences', 'scrublet_sim_doublet_score'\n",
       "      obsm: 'insertion'),\n",
       " ('dm33a',\n",
       "  AnnData object with n_obs x n_vars = 10275 x 606219 backed at '/cellar/users/aklie/data/datasets/igvf_sc-islet_10X-Multiome/annotation/16Aug23/snapatac2/processed/adata_atac_DM33A_processed.h5ad'\n",
       "      obs: 'tsse', 'n_fragment', 'frac_dup', 'frac_mito', 'doublet_probability', 'doublet_score'\n",
       "      var: 'count', 'selected'\n",
       "      uns: 'reference_sequences', 'scrublet_sim_doublet_score'\n",
       "      obsm: 'insertion'),\n",
       " ('dm34a',\n",
       "  AnnData object with n_obs x n_vars = 0 x 606219 backed at '/cellar/users/aklie/data/datasets/igvf_sc-islet_10X-Multiome/annotation/16Aug23/snapatac2/processed/adata_atac_DM34A_processed.h5ad'\n",
       "      obs: 'tsse', 'n_fragment', 'frac_dup', 'frac_mito', 'doublet_probability', 'doublet_score'\n",
       "      var: 'count', 'selected'\n",
       "      uns: 'scrublet_sim_doublet_score', 'reference_sequences'\n",
       "      obsm: 'insertion'),\n",
       " ('dm35a',\n",
       "  AnnData object with n_obs x n_vars = 12694 x 606219 backed at '/cellar/users/aklie/data/datasets/igvf_sc-islet_10X-Multiome/annotation/16Aug23/snapatac2/processed/adata_atac_DM35A_processed.h5ad'\n",
       "      obs: 'tsse', 'n_fragment', 'frac_dup', 'frac_mito', 'doublet_probability', 'doublet_score'\n",
       "      var: 'count', 'selected'\n",
       "      uns: 'reference_sequences', 'scrublet_sim_doublet_score'\n",
       "      obsm: 'insertion'),\n",
       " ('dm42b',\n",
       "  AnnData object with n_obs x n_vars = 6171 x 606219 backed at '/cellar/users/aklie/data/datasets/igvf_sc-islet_10X-Multiome/annotation/16Aug23/snapatac2/processed/adata_atac_DM42B_processed.h5ad'\n",
       "      obs: 'tsse', 'n_fragment', 'frac_dup', 'frac_mito', 'doublet_probability', 'doublet_score'\n",
       "      var: 'count', 'selected'\n",
       "      uns: 'reference_sequences', 'scrublet_sim_doublet_score'\n",
       "      obsm: 'insertion'),\n",
       " ('dm43b',\n",
       "  AnnData object with n_obs x n_vars = 10677 x 606219 backed at '/cellar/users/aklie/data/datasets/igvf_sc-islet_10X-Multiome/annotation/16Aug23/snapatac2/processed/adata_atac_DM43B_processed.h5ad'\n",
       "      obs: 'tsse', 'n_fragment', 'frac_dup', 'frac_mito', 'doublet_probability', 'doublet_score'\n",
       "      var: 'count', 'selected'\n",
       "      uns: 'scrublet_sim_doublet_score', 'reference_sequences'\n",
       "      obsm: 'insertion'),\n",
       " ('dm44a',\n",
       "  AnnData object with n_obs x n_vars = 9883 x 606219 backed at '/cellar/users/aklie/data/datasets/igvf_sc-islet_10X-Multiome/annotation/16Aug23/snapatac2/processed/adata_atac_DM44A_processed.h5ad'\n",
       "      obs: 'tsse', 'n_fragment', 'frac_dup', 'frac_mito', 'doublet_probability', 'doublet_score'\n",
       "      var: 'count', 'selected'\n",
       "      uns: 'reference_sequences', 'scrublet_sim_doublet_score'\n",
       "      obsm: 'insertion'),\n",
       " ('dm45a',\n",
       "  AnnData object with n_obs x n_vars = 8351 x 606219 backed at '/cellar/users/aklie/data/datasets/igvf_sc-islet_10X-Multiome/annotation/16Aug23/snapatac2/processed/adata_atac_DM45A_processed.h5ad'\n",
       "      obs: 'tsse', 'n_fragment', 'frac_dup', 'frac_mito', 'doublet_probability', 'doublet_score'\n",
       "      var: 'count', 'selected'\n",
       "      uns: 'reference_sequences', 'scrublet_sim_doublet_score'\n",
       "      obsm: 'insertion'),\n",
       " ('mo14',\n",
       "  AnnData object with n_obs x n_vars = 2492 x 606219 backed at '/cellar/users/aklie/data/datasets/igvf_sc-islet_10X-Multiome/annotation/16Aug23/snapatac2/processed/adata_atac_MO14_processed.h5ad'\n",
       "      obs: 'tsse', 'n_fragment', 'frac_dup', 'frac_mito', 'doublet_probability', 'doublet_score'\n",
       "      var: 'count', 'selected'\n",
       "      uns: 'reference_sequences', 'scrublet_sim_doublet_score'\n",
       "      obsm: 'insertion'),\n",
       " ('mo18',\n",
       "  AnnData object with n_obs x n_vars = 8521 x 606219 backed at '/cellar/users/aklie/data/datasets/igvf_sc-islet_10X-Multiome/annotation/16Aug23/snapatac2/processed/adata_atac_MO18_processed.h5ad'\n",
       "      obs: 'tsse', 'n_fragment', 'frac_dup', 'frac_mito', 'doublet_probability', 'doublet_score'\n",
       "      var: 'count', 'selected'\n",
       "      uns: 'scrublet_sim_doublet_score', 'reference_sequences'\n",
       "      obsm: 'insertion'),\n",
       " ('mo1',\n",
       "  AnnData object with n_obs x n_vars = 2780 x 606219 backed at '/cellar/users/aklie/data/datasets/igvf_sc-islet_10X-Multiome/annotation/16Aug23/snapatac2/processed/adata_atac_MO1_processed.h5ad'\n",
       "      obs: 'tsse', 'n_fragment', 'frac_dup', 'frac_mito', 'doublet_probability', 'doublet_score'\n",
       "      var: 'count', 'selected'\n",
       "      uns: 'scrublet_sim_doublet_score', 'reference_sequences'\n",
       "      obsm: 'insertion'),\n",
       " ('mo22',\n",
       "  AnnData object with n_obs x n_vars = 5205 x 606219 backed at '/cellar/users/aklie/data/datasets/igvf_sc-islet_10X-Multiome/annotation/16Aug23/snapatac2/processed/adata_atac_MO22_processed.h5ad'\n",
       "      obs: 'tsse', 'n_fragment', 'frac_dup', 'frac_mito', 'doublet_probability', 'doublet_score'\n",
       "      var: 'count', 'selected'\n",
       "      uns: 'scrublet_sim_doublet_score', 'reference_sequences'\n",
       "      obsm: 'insertion'),\n",
       " ('mo26',\n",
       "  AnnData object with n_obs x n_vars = 2527 x 606219 backed at '/cellar/users/aklie/data/datasets/igvf_sc-islet_10X-Multiome/annotation/16Aug23/snapatac2/processed/adata_atac_MO26_processed.h5ad'\n",
       "      obs: 'tsse', 'n_fragment', 'frac_dup', 'frac_mito', 'doublet_probability', 'doublet_score'\n",
       "      var: 'count', 'selected'\n",
       "      uns: 'scrublet_sim_doublet_score', 'reference_sequences'\n",
       "      obsm: 'insertion'),\n",
       " ('mo29',\n",
       "  AnnData object with n_obs x n_vars = 1553 x 606219 backed at '/cellar/users/aklie/data/datasets/igvf_sc-islet_10X-Multiome/annotation/16Aug23/snapatac2/processed/adata_atac_MO29_processed.h5ad'\n",
       "      obs: 'tsse', 'n_fragment', 'frac_dup', 'frac_mito', 'doublet_probability', 'doublet_score'\n",
       "      var: 'count', 'selected'\n",
       "      uns: 'reference_sequences', 'scrublet_sim_doublet_score'\n",
       "      obsm: 'insertion'),\n",
       " ('mo33',\n",
       "  AnnData object with n_obs x n_vars = 2972 x 606219 backed at '/cellar/users/aklie/data/datasets/igvf_sc-islet_10X-Multiome/annotation/16Aug23/snapatac2/processed/adata_atac_MO33_processed.h5ad'\n",
       "      obs: 'tsse', 'n_fragment', 'frac_dup', 'frac_mito', 'doublet_probability', 'doublet_score'\n",
       "      var: 'count', 'selected'\n",
       "      uns: 'reference_sequences', 'scrublet_sim_doublet_score'\n",
       "      obsm: 'insertion'),\n",
       " ('mo38',\n",
       "  AnnData object with n_obs x n_vars = 7099 x 606219 backed at '/cellar/users/aklie/data/datasets/igvf_sc-islet_10X-Multiome/annotation/16Aug23/snapatac2/processed/adata_atac_MO38_processed.h5ad'\n",
       "      obs: 'tsse', 'n_fragment', 'frac_dup', 'frac_mito', 'doublet_probability', 'doublet_score'\n",
       "      var: 'count', 'selected'\n",
       "      uns: 'reference_sequences', 'scrublet_sim_doublet_score'\n",
       "      obsm: 'insertion'),\n",
       " ('mo3',\n",
       "  AnnData object with n_obs x n_vars = 2852 x 606219 backed at '/cellar/users/aklie/data/datasets/igvf_sc-islet_10X-Multiome/annotation/16Aug23/snapatac2/processed/adata_atac_MO3_processed.h5ad'\n",
       "      obs: 'tsse', 'n_fragment', 'frac_dup', 'frac_mito', 'doublet_probability', 'doublet_score'\n",
       "      var: 'count', 'selected'\n",
       "      uns: 'scrublet_sim_doublet_score', 'reference_sequences'\n",
       "      obsm: 'insertion'),\n",
       " ('mo9',\n",
       "  AnnData object with n_obs x n_vars = 7880 x 606219 backed at '/cellar/users/aklie/data/datasets/igvf_sc-islet_10X-Multiome/annotation/16Aug23/snapatac2/processed/adata_atac_MO9_processed.h5ad'\n",
       "      obs: 'tsse', 'n_fragment', 'frac_dup', 'frac_mito', 'doublet_probability', 'doublet_score'\n",
       "      var: 'count', 'selected'\n",
       "      uns: 'scrublet_sim_doublet_score', 'reference_sequences'\n",
       "      obsm: 'insertion')]"
      ]
     },
     "execution_count": 7,
     "metadata": {},
     "output_type": "execute_result"
    }
   ],
   "source": [
    "[(name, adata) for name, adata in zip(sample_ids, adata_atac_processed_list)]"
   ]
  },
  {
   "cell_type": "code",
   "execution_count": 7,
   "metadata": {},
   "outputs": [],
   "source": [
    "# Merge into one object\n",
    "adata_atac_merged = snap.AnnDataSet(\n",
    "    adatas=[(name, adata) for name, adata in zip(sample_ids, adata_atac_processed_list)],\n",
    "    filename=os.path.join(out_dir, \"adata_atac_all_processed.h5ads\")\n",
    ")"
   ]
  },
  {
   "cell_type": "code",
   "execution_count": 8,
   "metadata": {},
   "outputs": [],
   "source": [
    "# Close all the backed anndatas\n",
    "for adata_atac in adata_atac_processed_list:\n",
    "    adata_atac.close()\n",
    "adata_atac_merged.close()"
   ]
  },
  {
   "cell_type": "code",
   "execution_count": 9,
   "metadata": {},
   "outputs": [
    {
     "data": {
      "text/plain": [
       "AnnDataSet object with n_obs x n_vars = 170329 x 606219 backed at '/cellar/users/aklie/data/datasets/igvf_sc-islet_10X-Multiome/annotation/2023_11_14/snapatac2/adata_atac_all_processed.h5ads'\n",
       "contains 27 AnnData objects with keys: 'dm0b', 'dm11a', 'dm12b', 'dm14b', 'dm21a', 'dm23a', 'dm24a', 'dm25a', 'dm31a', 'dm32a', 'dm33a', 'dm34a', 'dm35a', 'dm42b', 'dm43b', 'dm44a', 'dm45a', 'mo14', 'mo18', 'mo1', 'mo22', 'mo26', 'mo29', 'mo33', 'mo38', 'mo3', 'mo9'\n",
       "    obs: 'sample'\n",
       "    uns: 'AnnDataSet', 'reference_sequences'"
      ]
     },
     "execution_count": 9,
     "metadata": {},
     "output_type": "execute_result"
    }
   ],
   "source": [
    "# Read in the merged AnnDataset\n",
    "adata_atac_merged = snap.read_dataset(os.path.join(out_dir, \"adata_atac_all_processed.h5ads\"))\n",
    "adata_atac_merged"
   ]
  },
  {
   "cell_type": "code",
   "execution_count": 42,
   "metadata": {},
   "outputs": [
    {
     "data": {
      "text/plain": [
       "((array(['dm0b', 'dm11a', 'dm12b', 'dm14b', 'dm21a', 'dm23a', 'dm24a',\n",
       "         'dm25a', 'dm31a', 'dm32a', 'dm33a', 'dm35a', 'dm42b', 'dm43b',\n",
       "         'dm44a', 'dm45a', 'mo1', 'mo14', 'mo18', 'mo22', 'mo26', 'mo29',\n",
       "         'mo3', 'mo33', 'mo38', 'mo9'], dtype='<U5'),\n",
       "  array([ 9391,  7763,  9415,  7233,  1831,  7177,  7186,  7787, 10325,\n",
       "           289, 10275, 12694,  6171, 10677,  9883,  8351,  2780,  2492,\n",
       "          8521,  5205,  2527,  1553,  2852,  2972,  7099,  7880])),\n",
       " 26)"
      ]
     },
     "execution_count": 42,
     "metadata": {},
     "output_type": "execute_result"
    }
   ],
   "source": [
    "# Check the number of cells per sample\n",
    "cell_sample = np.array(adata_atac_merged.obs[\"sample\"])\n",
    "np.unique(cell_sample, return_counts=True), len(np.unique(cell_sample, return_counts=True)[1])"
   ]
  },
  {
   "cell_type": "code",
   "execution_count": 11,
   "metadata": {},
   "outputs": [
    {
     "data": {
      "text/plain": [
       "array(['AATACCGGTTGTGACA-1', 'GGCATTGTCACAGCCA-1', 'TGGTCATAGTGATTCA-1',\n",
       "       'GCTGATCCAGAACCGA-1', 'TGGCTAAGTCATAACG-1'], dtype='<U18')"
      ]
     },
     "execution_count": 11,
     "metadata": {},
     "output_type": "execute_result"
    }
   ],
   "source": [
    "# Make the barcodes into a numpy array\n",
    "cell_barcodes = np.array(adata_atac_merged.obs_names)\n",
    "cell_barcodes[:5]"
   ]
  },
  {
   "cell_type": "code",
   "execution_count": 12,
   "metadata": {},
   "outputs": [
    {
     "data": {
      "text/plain": [
       "['dm0b#AATACCGGTTGTGACA-1',\n",
       " 'dm0b#GGCATTGTCACAGCCA-1',\n",
       " 'dm0b#TGGTCATAGTGATTCA-1',\n",
       " 'dm0b#GCTGATCCAGAACCGA-1',\n",
       " 'dm0b#TGGCTAAGTCATAACG-1']"
      ]
     },
     "execution_count": 12,
     "metadata": {},
     "output_type": "execute_result"
    }
   ],
   "source": [
    "# Add the sample id to the cell barcodes with \"#\" in between\n",
    "sample_barcode_names = [sample + \"#\" + barcode for sample, barcode in zip(cell_sample, cell_barcodes)]\n",
    "sample_barcode_names[:5]"
   ]
  },
  {
   "cell_type": "code",
   "execution_count": 13,
   "metadata": {},
   "outputs": [],
   "source": [
    "# Make that the obs_names\n",
    "adata_atac_merged.obs_names = sample_barcode_names"
   ]
  },
  {
   "cell_type": "code",
   "execution_count": 15,
   "metadata": {},
   "outputs": [
    {
     "data": {
      "text/html": [
       "<div>\n",
       "<style scoped>\n",
       "    .dataframe tbody tr th:only-of-type {\n",
       "        vertical-align: middle;\n",
       "    }\n",
       "\n",
       "    .dataframe tbody tr th {\n",
       "        vertical-align: top;\n",
       "    }\n",
       "\n",
       "    .dataframe thead th {\n",
       "        text-align: right;\n",
       "    }\n",
       "</style>\n",
       "<table border=\"1\" class=\"dataframe\">\n",
       "  <thead>\n",
       "    <tr style=\"text-align: right;\">\n",
       "      <th></th>\n",
       "      <th>sample_id</th>\n",
       "      <th>sample_description</th>\n",
       "      <th>atac_library_id</th>\n",
       "      <th>rna_library_id</th>\n",
       "      <th>batch</th>\n",
       "      <th>timepoint</th>\n",
       "      <th>condition</th>\n",
       "    </tr>\n",
       "  </thead>\n",
       "  <tbody>\n",
       "    <tr>\n",
       "      <th>0</th>\n",
       "      <td>dm0b</td>\n",
       "      <td>0hr_control</td>\n",
       "      <td>WB_73</td>\n",
       "      <td>WB_74</td>\n",
       "      <td>A2</td>\n",
       "      <td>0</td>\n",
       "      <td>control</td>\n",
       "    </tr>\n",
       "    <tr>\n",
       "      <th>1</th>\n",
       "      <td>dm11a</td>\n",
       "      <td>6hr_3-cyt</td>\n",
       "      <td>WB_7</td>\n",
       "      <td>WB_8</td>\n",
       "      <td>A2</td>\n",
       "      <td>6</td>\n",
       "      <td>3-cyt</td>\n",
       "    </tr>\n",
       "    <tr>\n",
       "      <th>2</th>\n",
       "      <td>dm12b</td>\n",
       "      <td>6hr_IFNg</td>\n",
       "      <td>WB_75</td>\n",
       "      <td>WB_76</td>\n",
       "      <td>A2</td>\n",
       "      <td>6</td>\n",
       "      <td>IFNg</td>\n",
       "    </tr>\n",
       "    <tr>\n",
       "      <th>3</th>\n",
       "      <td>dm14b</td>\n",
       "      <td>6hr_Ex-4_HG</td>\n",
       "      <td>WB_47</td>\n",
       "      <td>WB_48</td>\n",
       "      <td>A2</td>\n",
       "      <td>6</td>\n",
       "      <td>Ex-4_HG</td>\n",
       "    </tr>\n",
       "    <tr>\n",
       "      <th>4</th>\n",
       "      <td>dm21a</td>\n",
       "      <td>24hr_3-cyt</td>\n",
       "      <td>WB_11</td>\n",
       "      <td>WB_12</td>\n",
       "      <td>A2</td>\n",
       "      <td>24</td>\n",
       "      <td>3-cyt</td>\n",
       "    </tr>\n",
       "    <tr>\n",
       "      <th>5</th>\n",
       "      <td>dm23a</td>\n",
       "      <td>24hr_dex</td>\n",
       "      <td>WB_15</td>\n",
       "      <td>WB_16</td>\n",
       "      <td>A2</td>\n",
       "      <td>24</td>\n",
       "      <td>dex</td>\n",
       "    </tr>\n",
       "    <tr>\n",
       "      <th>6</th>\n",
       "      <td>dm24a</td>\n",
       "      <td>24hr_Ex-4_HG</td>\n",
       "      <td>WB_17</td>\n",
       "      <td>WB_18</td>\n",
       "      <td>A2</td>\n",
       "      <td>24</td>\n",
       "      <td>Ex-4_HG</td>\n",
       "    </tr>\n",
       "    <tr>\n",
       "      <th>7</th>\n",
       "      <td>dm25a</td>\n",
       "      <td>24hr_control</td>\n",
       "      <td>WB_19</td>\n",
       "      <td>WB_20</td>\n",
       "      <td>A2</td>\n",
       "      <td>24</td>\n",
       "      <td>control</td>\n",
       "    </tr>\n",
       "    <tr>\n",
       "      <th>8</th>\n",
       "      <td>dm31a</td>\n",
       "      <td>48hr_3-cyt</td>\n",
       "      <td>WB_29</td>\n",
       "      <td>WB_30</td>\n",
       "      <td>A2</td>\n",
       "      <td>48</td>\n",
       "      <td>3-cyt</td>\n",
       "    </tr>\n",
       "    <tr>\n",
       "      <th>9</th>\n",
       "      <td>dm32a</td>\n",
       "      <td>48hr_IFNg</td>\n",
       "      <td>WB_31</td>\n",
       "      <td>WB_32</td>\n",
       "      <td>A2</td>\n",
       "      <td>48</td>\n",
       "      <td>IFNg</td>\n",
       "    </tr>\n",
       "    <tr>\n",
       "      <th>10</th>\n",
       "      <td>dm33a</td>\n",
       "      <td>48hr_dex</td>\n",
       "      <td>WB_33</td>\n",
       "      <td>WB_34</td>\n",
       "      <td>A2</td>\n",
       "      <td>48</td>\n",
       "      <td>dex</td>\n",
       "    </tr>\n",
       "    <tr>\n",
       "      <th>11</th>\n",
       "      <td>dm34a</td>\n",
       "      <td>48hr_Ex-4_HG</td>\n",
       "      <td>WB_35</td>\n",
       "      <td>WB_36</td>\n",
       "      <td>A2</td>\n",
       "      <td>48</td>\n",
       "      <td>Ex-4_HG</td>\n",
       "    </tr>\n",
       "    <tr>\n",
       "      <th>12</th>\n",
       "      <td>dm35a</td>\n",
       "      <td>48hr_control</td>\n",
       "      <td>WB_37</td>\n",
       "      <td>WB_38</td>\n",
       "      <td>A2</td>\n",
       "      <td>48</td>\n",
       "      <td>control</td>\n",
       "    </tr>\n",
       "    <tr>\n",
       "      <th>13</th>\n",
       "      <td>dm42b</td>\n",
       "      <td>72hr_IFNg</td>\n",
       "      <td>WB_49</td>\n",
       "      <td>WB_50</td>\n",
       "      <td>A2</td>\n",
       "      <td>72</td>\n",
       "      <td>IFNg</td>\n",
       "    </tr>\n",
       "    <tr>\n",
       "      <th>14</th>\n",
       "      <td>dm43b</td>\n",
       "      <td>72hr_dex</td>\n",
       "      <td>WB_77</td>\n",
       "      <td>WB_78</td>\n",
       "      <td>A2</td>\n",
       "      <td>72</td>\n",
       "      <td>dex</td>\n",
       "    </tr>\n",
       "    <tr>\n",
       "      <th>15</th>\n",
       "      <td>dm44a</td>\n",
       "      <td>72hr_Ex-4_HG</td>\n",
       "      <td>WB_51</td>\n",
       "      <td>WB_52</td>\n",
       "      <td>A2</td>\n",
       "      <td>72</td>\n",
       "      <td>Ex-4_HG</td>\n",
       "    </tr>\n",
       "    <tr>\n",
       "      <th>16</th>\n",
       "      <td>dm45a</td>\n",
       "      <td>72hr_control</td>\n",
       "      <td>WB_53</td>\n",
       "      <td>WB_54</td>\n",
       "      <td>A2</td>\n",
       "      <td>72</td>\n",
       "      <td>control</td>\n",
       "    </tr>\n",
       "    <tr>\n",
       "      <th>17</th>\n",
       "      <td>mo1</td>\n",
       "      <td>0hr_control</td>\n",
       "      <td>NZ_101</td>\n",
       "      <td>NZ_102</td>\n",
       "      <td>H1</td>\n",
       "      <td>0</td>\n",
       "      <td>control</td>\n",
       "    </tr>\n",
       "    <tr>\n",
       "      <th>18</th>\n",
       "      <td>mo3</td>\n",
       "      <td>0hr_control</td>\n",
       "      <td>NZ_117</td>\n",
       "      <td>NZ_118</td>\n",
       "      <td>H1</td>\n",
       "      <td>0</td>\n",
       "      <td>control</td>\n",
       "    </tr>\n",
       "    <tr>\n",
       "      <th>19</th>\n",
       "      <td>mo9</td>\n",
       "      <td>6hr_palmitate</td>\n",
       "      <td>NZ_127</td>\n",
       "      <td>NZ_128</td>\n",
       "      <td>H1</td>\n",
       "      <td>6</td>\n",
       "      <td>palmitate</td>\n",
       "    </tr>\n",
       "    <tr>\n",
       "      <th>20</th>\n",
       "      <td>mo14</td>\n",
       "      <td>6hr_control</td>\n",
       "      <td>NZ_129</td>\n",
       "      <td>NZ_130</td>\n",
       "      <td>H1</td>\n",
       "      <td>6</td>\n",
       "      <td>control</td>\n",
       "    </tr>\n",
       "    <tr>\n",
       "      <th>21</th>\n",
       "      <td>mo18</td>\n",
       "      <td>24hr_palmitate</td>\n",
       "      <td>NZ_131</td>\n",
       "      <td>NZ_132</td>\n",
       "      <td>H1</td>\n",
       "      <td>24</td>\n",
       "      <td>palmitate</td>\n",
       "    </tr>\n",
       "    <tr>\n",
       "      <th>22</th>\n",
       "      <td>mo22</td>\n",
       "      <td>24hr_control</td>\n",
       "      <td>NZ_133</td>\n",
       "      <td>NZ_134</td>\n",
       "      <td>H1</td>\n",
       "      <td>24</td>\n",
       "      <td>control</td>\n",
       "    </tr>\n",
       "    <tr>\n",
       "      <th>23</th>\n",
       "      <td>mo26</td>\n",
       "      <td>48hr_palmitate</td>\n",
       "      <td>NZ_119</td>\n",
       "      <td>NZ_120</td>\n",
       "      <td>H1</td>\n",
       "      <td>48</td>\n",
       "      <td>palmitate</td>\n",
       "    </tr>\n",
       "    <tr>\n",
       "      <th>24</th>\n",
       "      <td>mo29</td>\n",
       "      <td>48hr_control</td>\n",
       "      <td>NZ_121</td>\n",
       "      <td>NZ_122</td>\n",
       "      <td>H1</td>\n",
       "      <td>48</td>\n",
       "      <td>control</td>\n",
       "    </tr>\n",
       "    <tr>\n",
       "      <th>25</th>\n",
       "      <td>mo33</td>\n",
       "      <td>72hr_palmitate</td>\n",
       "      <td>NZ_123</td>\n",
       "      <td>NZ_124</td>\n",
       "      <td>H1</td>\n",
       "      <td>72</td>\n",
       "      <td>palmitate</td>\n",
       "    </tr>\n",
       "    <tr>\n",
       "      <th>26</th>\n",
       "      <td>mo38</td>\n",
       "      <td>72hr_control</td>\n",
       "      <td>NZ_125</td>\n",
       "      <td>NZ_126</td>\n",
       "      <td>H1</td>\n",
       "      <td>72</td>\n",
       "      <td>control</td>\n",
       "    </tr>\n",
       "  </tbody>\n",
       "</table>\n",
       "</div>"
      ],
      "text/plain": [
       "   sample_id sample_description atac_library_id rna_library_id batch  \\\n",
       "0       dm0b        0hr_control           WB_73          WB_74    A2   \n",
       "1      dm11a          6hr_3-cyt            WB_7           WB_8    A2   \n",
       "2      dm12b           6hr_IFNg           WB_75          WB_76    A2   \n",
       "3      dm14b        6hr_Ex-4_HG           WB_47          WB_48    A2   \n",
       "4      dm21a         24hr_3-cyt           WB_11          WB_12    A2   \n",
       "5      dm23a           24hr_dex           WB_15          WB_16    A2   \n",
       "6      dm24a       24hr_Ex-4_HG           WB_17          WB_18    A2   \n",
       "7      dm25a       24hr_control           WB_19          WB_20    A2   \n",
       "8      dm31a         48hr_3-cyt           WB_29          WB_30    A2   \n",
       "9      dm32a          48hr_IFNg           WB_31          WB_32    A2   \n",
       "10     dm33a           48hr_dex           WB_33          WB_34    A2   \n",
       "11     dm34a       48hr_Ex-4_HG           WB_35          WB_36    A2   \n",
       "12     dm35a       48hr_control           WB_37          WB_38    A2   \n",
       "13     dm42b          72hr_IFNg           WB_49          WB_50    A2   \n",
       "14     dm43b           72hr_dex           WB_77          WB_78    A2   \n",
       "15     dm44a       72hr_Ex-4_HG           WB_51          WB_52    A2   \n",
       "16     dm45a       72hr_control           WB_53          WB_54    A2   \n",
       "17       mo1        0hr_control          NZ_101         NZ_102    H1   \n",
       "18       mo3        0hr_control          NZ_117         NZ_118    H1   \n",
       "19       mo9      6hr_palmitate          NZ_127         NZ_128    H1   \n",
       "20      mo14        6hr_control          NZ_129         NZ_130    H1   \n",
       "21      mo18     24hr_palmitate          NZ_131         NZ_132    H1   \n",
       "22      mo22       24hr_control          NZ_133         NZ_134    H1   \n",
       "23      mo26     48hr_palmitate          NZ_119         NZ_120    H1   \n",
       "24      mo29       48hr_control          NZ_121         NZ_122    H1   \n",
       "25      mo33     72hr_palmitate          NZ_123         NZ_124    H1   \n",
       "26      mo38       72hr_control          NZ_125         NZ_126    H1   \n",
       "\n",
       "   timepoint  condition  \n",
       "0          0    control  \n",
       "1          6      3-cyt  \n",
       "2          6       IFNg  \n",
       "3          6    Ex-4_HG  \n",
       "4         24      3-cyt  \n",
       "5         24        dex  \n",
       "6         24    Ex-4_HG  \n",
       "7         24    control  \n",
       "8         48      3-cyt  \n",
       "9         48       IFNg  \n",
       "10        48        dex  \n",
       "11        48    Ex-4_HG  \n",
       "12        48    control  \n",
       "13        72       IFNg  \n",
       "14        72        dex  \n",
       "15        72    Ex-4_HG  \n",
       "16        72    control  \n",
       "17         0    control  \n",
       "18         0    control  \n",
       "19         6  palmitate  \n",
       "20         6    control  \n",
       "21        24  palmitate  \n",
       "22        24    control  \n",
       "23        48  palmitate  \n",
       "24        48    control  \n",
       "25        72  palmitate  \n",
       "26        72    control  "
      ]
     },
     "execution_count": 15,
     "metadata": {},
     "output_type": "execute_result"
    }
   ],
   "source": [
    "# Add in some project metadata\n",
    "project_metadata = pd.read_csv(\"/cellar/users/aklie/data/datasets/igvf_sc-islet_10X-Multiome/metadata/11Sep23/cleaned_samples_tracking_11Sep23.tsv\", sep=\"\\t\")\n",
    "project_metadata[\"sample_id\"] = project_metadata[\"sample_id\"].str.lower()\n",
    "project_metadata[\"timepoint\"] = project_metadata[\"sample_description\"].str.split(\"hr_\").str[0]\n",
    "project_metadata[\"condition\"] = project_metadata[\"sample_description\"].str.split(\"hr_\").str[1]\n",
    "project_metadata[\"batch\"] = project_metadata[\"batch\"].replace({\"DM\": \"A2\", \"MO\": \"H1\"})\n",
    "project_metadata"
   ]
  },
  {
   "cell_type": "code",
   "execution_count": 45,
   "metadata": {},
   "outputs": [
    {
     "data": {
      "text/plain": [
       "array([137461, 137462, 137463, ..., 140238, 140239, 140240])"
      ]
     },
     "execution_count": 45,
     "metadata": {},
     "output_type": "execute_result"
    }
   ],
   "source": [
    "# Get the indeces of the obs for certain samples\n",
    "samples = ['mo1', \"mo2\"]\n",
    "sample_indeces = [np.where(cell_sample == sample)[0] for sample in samples][0]\n",
    "sample_indeces"
   ]
  },
  {
   "cell_type": "code",
   "execution_count": null,
   "metadata": {},
   "outputs": [
    {
     "ename": "TypeError",
     "evalue": "AnnDataSet.subset() got an unexpected keyword argument 'obs_indeces'",
     "output_type": "error",
     "traceback": [
      "\u001b[0;31m---------------------------------------------------------------------------\u001b[0m",
      "\u001b[0;31mTypeError\u001b[0m                                 Traceback (most recent call last)",
      "\u001b[1;32m/cellar/users/aklie/data/datasets/igvf_sc-islet_10X-Multiome/bin/data_annotation/snapatac2/5_create_processed_anndataset.ipynb Cell 16\u001b[0m in \u001b[0;36m<cell line: 1>\u001b[0;34m()\u001b[0m\n\u001b[0;32m----> <a href='vscode-notebook-cell://ssh-remote%2Bnrnb-login.ucsd.edu/cellar/users/aklie/data/datasets/igvf_sc-islet_10X-Multiome/bin/data_annotation/snapatac2/5_create_processed_anndataset.ipynb#X53sdnNjb2RlLXJlbW90ZQ%3D%3D?line=0'>1</a>\u001b[0m adata_atac_merged\u001b[39m.\u001b[39;49msubset(\n\u001b[1;32m      <a href='vscode-notebook-cell://ssh-remote%2Bnrnb-login.ucsd.edu/cellar/users/aklie/data/datasets/igvf_sc-islet_10X-Multiome/bin/data_annotation/snapatac2/5_create_processed_anndataset.ipynb#X53sdnNjb2RlLXJlbW90ZQ%3D%3D?line=1'>2</a>\u001b[0m     obs_indeces\u001b[39m=\u001b[39;49msample_indeces,\n\u001b[1;32m      <a href='vscode-notebook-cell://ssh-remote%2Bnrnb-login.ucsd.edu/cellar/users/aklie/data/datasets/igvf_sc-islet_10X-Multiome/bin/data_annotation/snapatac2/5_create_processed_anndataset.ipynb#X53sdnNjb2RlLXJlbW90ZQ%3D%3D?line=2'>3</a>\u001b[0m     out\u001b[39m=\u001b[39;49m\u001b[39m\"\u001b[39;49m\u001b[39m/cellar/users/aklie/data/datasets/igvf_sc-islet_10X-Multiome/annotation/2023_11_14/snapatac2/H1_control\u001b[39;49m\u001b[39m\"\u001b[39;49m\n\u001b[1;32m      <a href='vscode-notebook-cell://ssh-remote%2Bnrnb-login.ucsd.edu/cellar/users/aklie/data/datasets/igvf_sc-islet_10X-Multiome/bin/data_annotation/snapatac2/5_create_processed_anndataset.ipynb#X53sdnNjb2RlLXJlbW90ZQ%3D%3D?line=3'>4</a>\u001b[0m )\n",
      "\u001b[0;31mTypeError\u001b[0m: AnnDataSet.subset() got an unexpected keyword argument 'obs_indeces'"
     ]
    }
   ],
   "source": [
    "adata_atac_merged.subset(\n",
    "    obs_indices=sample_indeces,\n",
    "    out=\"/cellar/users/aklie/data/datasets/igvf_sc-islet_10X-Multiome/annotation/2023_11_14/snapatac2/H1_control\"\n",
    ")"
   ]
  },
  {
   "cell_type": "code",
   "execution_count": null,
   "metadata": {},
   "outputs": [],
   "source": [
    "snap.read(\"/cellar/users/aklie/data/datasets/igvf_sc-islet_10X-Multiome/annotation/2023_11_14/snapatac2/H1_control/anndatas/dm0b.h5ad\")"
   ]
  },
  {
   "cell_type": "code",
   "execution_count": 47,
   "metadata": {},
   "outputs": [
    {
     "name": "stdout",
     "output_type": "stream",
     "text": [
      "\u001b[0;31mSignature:\u001b[0m\n",
      "\u001b[0madata_atac_merged\u001b[0m\u001b[0;34m.\u001b[0m\u001b[0msubset\u001b[0m\u001b[0;34m(\u001b[0m\u001b[0;34m\u001b[0m\n",
      "\u001b[0;34m\u001b[0m    \u001b[0mobs_indices\u001b[0m\u001b[0;34m=\u001b[0m\u001b[0;32mNone\u001b[0m\u001b[0;34m,\u001b[0m\u001b[0;34m\u001b[0m\n",
      "\u001b[0;34m\u001b[0m    \u001b[0mvar_indices\u001b[0m\u001b[0;34m=\u001b[0m\u001b[0;32mNone\u001b[0m\u001b[0;34m,\u001b[0m\u001b[0;34m\u001b[0m\n",
      "\u001b[0;34m\u001b[0m    \u001b[0mout\u001b[0m\u001b[0;34m=\u001b[0m\u001b[0;32mNone\u001b[0m\u001b[0;34m,\u001b[0m\u001b[0;34m\u001b[0m\n",
      "\u001b[0;34m\u001b[0m    \u001b[0mbackend\u001b[0m\u001b[0;34m=\u001b[0m\u001b[0;32mNone\u001b[0m\u001b[0;34m,\u001b[0m\u001b[0;34m\u001b[0m\n",
      "\u001b[0;34m\u001b[0m\u001b[0;34m)\u001b[0m\u001b[0;34m\u001b[0m\u001b[0;34m\u001b[0m\u001b[0m\n",
      "\u001b[0;31mDocstring:\u001b[0m\n",
      "Subsetting the AnnDataSet object.\n",
      "\n",
      "Note\n",
      "----\n",
      "AnnDataSet will not move data across underlying AnnData objects. So the\n",
      "orders of rows in the resultant AnnDataSet object may not be consistent\n",
      "with the input `obs_indices`. This function will return a vector that can\n",
      "be used to reorder the `obs_indices` to match the final order of rows in\n",
      "the AnnDataSet.\n",
      "\n",
      "Parameters\n",
      "----------\n",
      "obs_indices\n",
      "    obs indices\n",
      "var_indices\n",
      "    var indices\n",
      "out\n",
      "    Name of the directory used to store the new files. If provided,\n",
      "    the result will be saved to the directory and the original files\n",
      "    remains unchanged.\n",
      "backend: str | None\n",
      "\n",
      "Returns\n",
      "-------\n",
      "Tuple[AnnDataSet, list[int] | None]\n",
      "    A new AnnDataSet object will be returned.\n",
      "    If the order of input `obs_indices` has been changed, it will\n",
      "    return the indices that would sort the `obs_indices` array.\n",
      "\u001b[0;31mType:\u001b[0m      builtin_function_or_method\n"
     ]
    }
   ],
   "source": [
    "adata_atac_merged.subset?"
   ]
  },
  {
   "cell_type": "code",
   "execution_count": 18,
   "metadata": {},
   "outputs": [
    {
     "ename": "AttributeError",
     "evalue": "'builtins.PyDataFrameElem' object has no attribute 'merge'",
     "output_type": "error",
     "traceback": [
      "\u001b[0;31m---------------------------------------------------------------------------\u001b[0m",
      "\u001b[0;31mAttributeError\u001b[0m                            Traceback (most recent call last)",
      "\u001b[1;32m/cellar/users/aklie/data/datasets/igvf_sc-islet_10X-Multiome/bin/data_annotation/snapatac2/5_create_processed_anndataset.ipynb Cell 15\u001b[0m in \u001b[0;36m<cell line: 2>\u001b[0;34m()\u001b[0m\n\u001b[1;32m      <a href='vscode-notebook-cell://ssh-remote%2Bnrnb-login.ucsd.edu/cellar/users/aklie/data/datasets/igvf_sc-islet_10X-Multiome/bin/data_annotation/snapatac2/5_create_processed_anndataset.ipynb#X35sdnNjb2RlLXJlbW90ZQ%3D%3D?line=0'>1</a>\u001b[0m \u001b[39m# merge the project metadata with the AnnDataset.obs (which is a builtins.PyDataFrameElem)\u001b[39;00m\n\u001b[0;32m----> <a href='vscode-notebook-cell://ssh-remote%2Bnrnb-login.ucsd.edu/cellar/users/aklie/data/datasets/igvf_sc-islet_10X-Multiome/bin/data_annotation/snapatac2/5_create_processed_anndataset.ipynb#X35sdnNjb2RlLXJlbW90ZQ%3D%3D?line=1'>2</a>\u001b[0m adata_atac_merged\u001b[39m.\u001b[39mobs \u001b[39m=\u001b[39m adata_atac_merged\u001b[39m.\u001b[39;49mobs\u001b[39m.\u001b[39;49mmerge(project_metadata, left_on\u001b[39m=\u001b[39m\u001b[39m\"\u001b[39m\u001b[39msample\u001b[39m\u001b[39m\"\u001b[39m, right_on\u001b[39m=\u001b[39m\u001b[39m\"\u001b[39m\u001b[39msample_id\u001b[39m\u001b[39m\"\u001b[39m, how\u001b[39m=\u001b[39m\u001b[39m\"\u001b[39m\u001b[39mleft\u001b[39m\u001b[39m\"\u001b[39m)\n",
      "\u001b[0;31mAttributeError\u001b[0m: 'builtins.PyDataFrameElem' object has no attribute 'merge'"
     ]
    }
   ],
   "source": [
    "# merge the project metadata with the AnnDataset.obs (which is a polars dataframe)\n",
    "adata_atac_merged.obs = adata_atac_merged.obs.merge(project_metadata, left_on=\"sample\", right_on=\"sample_id\", how=\"left\")"
   ]
  },
  {
   "cell_type": "code",
   "execution_count": 13,
   "metadata": {},
   "outputs": [],
   "source": [
    "adata_atac_merged.close()"
   ]
  },
  {
   "attachments": {},
   "cell_type": "markdown",
   "metadata": {},
   "source": [
    "# DONE!"
   ]
  },
  {
   "attachments": {},
   "cell_type": "markdown",
   "metadata": {},
   "source": [
    "---"
   ]
  },
  {
   "attachments": {},
   "cell_type": "markdown",
   "metadata": {},
   "source": [
    "# Scratch"
   ]
  },
  {
   "cell_type": "code",
   "execution_count": 13,
   "metadata": {},
   "outputs": [
    {
     "data": {
      "text/plain": [
       "AnnDataSet object with n_obs x n_vars = 170329 x 606219 backed at '/cellar/users/aklie/data/igvf/beta_cell_networks/h5ad/igvf_sc-islet_10X-Multiome/16Aug23/snapatac2/processed/adata_atac_merged_processed.h5ads'\n",
       "contains 27 AnnData objects with keys: 'DM0B', 'DM11A', 'DM12B', 'DM14B', 'DM21A', 'DM23A', 'DM24A', 'DM25A', 'DM31A', 'DM32A', 'DM33A', 'DM34A', 'DM35A', 'DM42B', 'DM43B', 'DM44A', 'DM45A', 'MO14', 'MO18', 'MO1', 'MO22', 'MO26', 'MO29', 'MO33', 'MO38', 'MO3', 'MO9'\n",
       "    obs: 'sample'\n",
       "    uns: 'reference_sequences', 'AnnDataSet'"
      ]
     },
     "execution_count": 13,
     "metadata": {},
     "output_type": "execute_result"
    }
   ],
   "source": [
    "adata_atac_merged = snap.read_dataset(os.path.join(out_dir, \"adata_atac_merged_processed.h5ads\"))\n",
    "adata_atac_merged"
   ]
  },
  {
   "cell_type": "code",
   "execution_count": 15,
   "metadata": {},
   "outputs": [
    {
     "name": "stderr",
     "output_type": "stream",
     "text": [
      "2023-08-23 08:15:22 - INFO - Selected 50000 features.\n"
     ]
    }
   ],
   "source": [
    "snap.pp.select_features(adata_atac_merged, n_features=50000)"
   ]
  },
  {
   "cell_type": "code",
   "execution_count": 16,
   "metadata": {},
   "outputs": [],
   "source": [
    "adata_atac_merged.close()"
   ]
  },
  {
   "cell_type": "code",
   "execution_count": 50,
   "metadata": {},
   "outputs": [
    {
     "data": {
      "text/plain": [
       "AnnData object with n_obs x n_vars = 0 x 606219 backed at '/cellar/users/aklie/data/igvf/beta_cell_networks/h5ad/igvf_sc-islet_10X-Multiome/16Aug23/snapatac2/processed/adata_atac_DM34A_processed.h5ad'\n",
       "    obs: 'tsse', 'n_fragment', 'frac_dup', 'frac_mito', 'doublet_probability', 'doublet_score'\n",
       "    var: 'count', 'selected'\n",
       "    uns: 'scrublet_sim_doublet_score', 'reference_sequences'\n",
       "    obsm: 'insertion'"
      ]
     },
     "execution_count": 50,
     "metadata": {},
     "output_type": "execute_result"
    }
   ],
   "source": [
    "adata_atac = snap.read(\"/cellar/users/aklie/data/igvf/beta_cell_networks/h5ad/igvf_sc-islet_10X-Multiome/16Aug23/snapatac2/processed/adata_atac_DM34A_processed.h5ad\")\n",
    "adata_atac"
   ]
  },
  {
   "cell_type": "code",
   "execution_count": 52,
   "metadata": {},
   "outputs": [],
   "source": [
    "adata_atac.close()"
   ]
  },
  {
   "cell_type": "code",
   "execution_count": 53,
   "metadata": {},
   "outputs": [
    {
     "data": {
      "text/plain": [
       "AnnData object with n_obs x n_vars = 12403 x 0 backed at '/cellar/users/aklie/data/igvf/beta_cell_networks/h5ad/igvf_sc-islet_10X-Multiome/16Aug23/snapatac2/adata_atac_DM34A.h5ad'\n",
       "    obs: 'tsse', 'n_fragment', 'frac_dup', 'frac_mito'\n",
       "    uns: 'reference_sequences'\n",
       "    obsm: 'insertion'"
      ]
     },
     "execution_count": 53,
     "metadata": {},
     "output_type": "execute_result"
    }
   ],
   "source": [
    "adata_atac = snap.read(\"/cellar/users/aklie/data/igvf/beta_cell_networks/h5ad/igvf_sc-islet_10X-Multiome/16Aug23/snapatac2/adata_atac_DM34A.h5ad\")\n",
    "adata_atac"
   ]
  },
  {
   "cell_type": "code",
   "execution_count": null,
   "metadata": {},
   "outputs": [],
   "source": [
    "snap."
   ]
  }
 ],
 "metadata": {
  "kernelspec": {
   "display_name": "Python 3.8 scverse-lite",
   "language": "python",
   "name": "scverse-lite-py38"
  },
  "orig_nbformat": 4
 },
 "nbformat": 4,
 "nbformat_minor": 2
}
