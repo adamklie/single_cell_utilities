{
 "cells": [
  {
   "attachments": {},
   "cell_type": "markdown",
   "metadata": {},
   "source": [
    "# Set-up"
   ]
  },
  {
   "cell_type": "code",
   "execution_count": 156,
   "metadata": {},
   "outputs": [],
   "source": [
    "import os\n",
    "import sys\n",
    "import numpy as np\n",
    "import pandas as pd\n",
    "\n",
    "import pyranges as pr\n",
    "import pybedtools\n",
    "\n",
    "import seaborn as sns\n",
    "import matplotlib.pyplot as plt\n",
    "%matplotlib inline\n",
    "\n",
    "import os as _os\n",
    "import sys as _sys\n",
    "try:\n",
    "    _bin_dir = _os.path.dirname(_sys.executable)\n",
    "    _os.environ[\"PATH\"] += _os.pathsep + _bin_dir\n",
    "    from pybedtools import paths as _paths\n",
    "    _paths._set_bedtools_path(_bin_dir)\n",
    "except ImportError:\n",
    "    raise ImportError(\n",
    "        \"Please install pybedtools (pip install pybedtools\"\n",
    "    )"
   ]
  },
  {
   "cell_type": "code",
   "execution_count": 223,
   "metadata": {},
   "outputs": [],
   "source": [
    "def venn_mpl(a, b, c, colors=None, outfn=\"out.png\", labels=None, by_length=False, dpi=300):\n",
    "    \"\"\"\n",
    "    *a*, *b*, and *c* are filenames to BED-like files.\n",
    "\n",
    "    *colors* is a list of matplotlib colors for the Venn diagram circles.\n",
    "\n",
    "    *outfn* is the resulting output file.  This is passed directly to\n",
    "    fig.savefig(), so you can supply extensions of .png, .pdf, or whatever your\n",
    "    matplotlib installation supports.\n",
    "\n",
    "    *labels* is a list of labels to use for each of the files; by default the\n",
    "    labels are ['a','b','c']\n",
    "\n",
    "    *by_length* if True, then instead of plotting number of intervals, plot combined\n",
    "    lengths of intervals\n",
    "\n",
    "    *dpi* is the dpi setting passed to matplotlib savefig\n",
    "    \"\"\"\n",
    "    try:\n",
    "        import matplotlib.pyplot as plt\n",
    "        from matplotlib.patches import Circle\n",
    "    except ImportError:\n",
    "        sys.stderr.write(\n",
    "            \"matplotlib is required to make a Venn diagram with %s\\n\"\n",
    "            % os.path.basename(sys.argv[0])\n",
    "        )\n",
    "        sys.exit(1)\n",
    "\n",
    "    a = pybedtools.BedTool(a)\n",
    "    b = pybedtools.BedTool(b)\n",
    "    c = pybedtools.BedTool(c)\n",
    "    count_features = lambda x:x.count()\n",
    "    if by_length:\n",
    "        count_features = lambda x:x.total_coverage()\n",
    "\n",
    "    if colors is None:\n",
    "        colors = [\"r\", \"b\", \"g\"]\n",
    "\n",
    "    radius = 6.0\n",
    "    center = 0.0\n",
    "    offset = radius / 2\n",
    "\n",
    "    if labels is None:\n",
    "        labels = [\"a\", \"b\", \"c\"]\n",
    "\n",
    "    circle_a = Circle(\n",
    "        xy=(center - offset, center + offset),\n",
    "        radius=radius,\n",
    "        edgecolor=colors[0],\n",
    "        label=labels[0],\n",
    "    )\n",
    "    circle_b = Circle(\n",
    "        xy=(center + offset, center + offset),\n",
    "        radius=radius,\n",
    "        edgecolor=colors[1],\n",
    "        label=labels[1],\n",
    "    )\n",
    "    circle_c = Circle(\n",
    "        xy=(center, center - offset),\n",
    "        radius=radius,\n",
    "        edgecolor=colors[2],\n",
    "        label=labels[2],\n",
    "    )\n",
    "\n",
    "    fig = plt.figure(facecolor=\"w\")\n",
    "    ax = fig.add_subplot(111)\n",
    "\n",
    "    for circle in (circle_a, circle_b, circle_c):\n",
    "        circle.set_facecolor(\"none\")\n",
    "        circle.set_linewidth(3)\n",
    "        ax.add_patch(circle)\n",
    "\n",
    "    ax.axis(\"tight\")\n",
    "    ax.axis(\"equal\")\n",
    "    ax.set_axis_off()\n",
    "\n",
    "    kwargs = dict(horizontalalignment=\"center\")\n",
    "\n",
    "    # Unique to A\n",
    "    ax.text(center - 2 * offset, center + offset, str(count_features(a - b - c)), **kwargs)\n",
    "\n",
    "    # Unique to B\n",
    "    ax.text(center + 2 * offset, center + offset, str(count_features(b - a - c)), **kwargs)\n",
    "\n",
    "    # Unique to C\n",
    "    ax.text(center, center - 2 * offset, str(count_features(c - a - b)), **kwargs)\n",
    "\n",
    "    # A and B not C\n",
    "    ax.text(\n",
    "        center, center + 2 * offset - 0.5 * offset, str(count_features(a + b - c)), **kwargs\n",
    "    )\n",
    "\n",
    "    # A and C not B\n",
    "    ax.text(\n",
    "        center - 1.2 * offset, center - 0.5 * offset, str(count_features(a + c - b)), **kwargs\n",
    "    )\n",
    "\n",
    "    # B and C not A\n",
    "    ax.text(\n",
    "        center + 1.2 * offset, center - 0.5 * offset, str(count_features(b + c - a)), **kwargs\n",
    "    )\n",
    "\n",
    "    # all\n",
    "    ax.text(center, center, str(count_features(a + b + c)), **kwargs)\n",
    "\n",
    "    ax.legend(loc=\"best\")\n",
    "\n",
    "    fig.savefig(outfn, dpi=dpi)\n",
    "\n",
    "    plt.close(fig)\n",
    "\n",
    "\n",
    "# Same thing but just a simple 2-way venn\n",
    "def venn2_mpl(a, b, colors=None, outfn=\"out.png\", labels=None, by_length=False, dpi=300):\n",
    "    \"\"\"\n",
    "    *a* and *b* are filenames to BED-like files.\n",
    "\n",
    "    *colors* is a list of matplotlib colors for the Venn diagram circles.\n",
    "\n",
    "    *outfn* is the resulting output file.  This is passed directly to\n",
    "    fig.savefig(), so you can supply extensions of .png, .pdf, or whatever your\n",
    "    matplotlib installation supports.\n",
    "\n",
    "    *labels* is a list of labels to use for each of the files; by default the\n",
    "    labels are ['a','b']\n",
    "\n",
    "    *by_length* if True, then instead of plotting number of intervals, plot combined\n",
    "    lengths of intervals\n",
    "\n",
    "    *dpi* is the dpi setting passed to matplotlib savefig\n",
    "    \"\"\"\n",
    "    try:\n",
    "        import matplotlib.pyplot as plt\n",
    "        from matplotlib.patches import Circle\n",
    "    except ImportError:\n",
    "        sys.stderr.write(\n",
    "            \"matplotlib is required to make a Venn diagram with %s\\n\"\n",
    "            % os.path.basename(sys.argv[0])\n",
    "        )\n",
    "        sys.exit(1)\n",
    "\n",
    "    a = pybedtools.BedTool(a)\n",
    "    b = pybedtools.BedTool(b)\n",
    "    count_features = lambda x:x.count()\n",
    "    if by_length:\n",
    "        count_features = lambda x:x.total_coverage()\n",
    "\n",
    "    if colors is None:\n",
    "        colors = [\"r\", \"b\"]\n",
    "\n",
    "    radius = 6.0\n",
    "    center = 0.0\n",
    "    offset = radius / 2\n",
    "\n",
    "    if labels is None:\n",
    "        labels = [\"a\", \"b\"]\n",
    "\n",
    "    circle_a = Circle(\n",
    "        xy=(center - offset, center),\n",
    "        radius=radius,\n",
    "        edgecolor=colors[0],\n",
    "        label=labels[0],\n",
    "    )\n",
    "    circle_b = Circle(\n",
    "        xy=(center + offset, center),\n",
    "        radius=radius,\n",
    "        edgecolor=colors[1],\n",
    "        label=labels[1],\n",
    "    )\n",
    "\n",
    "    fig = plt.figure(facecolor=\"w\")\n",
    "    ax = fig.add_subplot(111)\n",
    "\n",
    "    for circle in (circle_a, circle_b):\n",
    "        circle.set_facecolor(\"none\")\n",
    "        circle.set_linewidth(3)\n",
    "        ax.add_patch(circle)\n",
    "\n",
    "    ax.axis(\"tight\")\n",
    "    ax.axis(\"equal\")\n",
    "    ax.set_axis_off()\n",
    "\n",
    "    kwargs = dict(horizontalalignment=\"center\")\n",
    "\n",
    "    # Unique to A\n",
    "    ax.text(center - 2 * offset, center, str(count_features(a - b)), **kwargs)\n",
    "\n",
    "    # Unique to B\n",
    "    ax.text(center + 2 * offset, center, str(count_features(b - a)), **kwargs)\n",
    "\n",
    "    # all\n",
    "    ax.text(center, center, str(count_features(a + b)), **kwargs)\n",
    "\n",
    "    ax.legend(loc=\"best\")\n",
    "\n",
    "    fig.savefig(outfn, dpi=dpi)\n",
    "\n",
    "    plt.close(fig)"
   ]
  },
  {
   "cell_type": "code",
   "execution_count": 158,
   "metadata": {},
   "outputs": [],
   "source": [
    "# Function to create fixed-width peaks centered on the summit\n",
    "def to_fixed_width_from_summit(feature, width, feature_index=9):\n",
    "    if feature_index is None:\n",
    "        summit_position = (feature.start + feature.end) // 2\n",
    "    else:\n",
    "        summit_position = feature.start + int(feature[feature_index])  # Summit position in the chromosome\n",
    "        if summit_position > 1e10:\n",
    "            print(f\"Summit position is {summit_position}, setting summit to middle of the peak.\")\n",
    "            summit_position = (feature.start + feature.end) // 2\n",
    "    \n",
    "    start = max(0, summit_position - width // 2)\n",
    "    end = start + width\n",
    "    feature.start = start\n",
    "    feature.end = end\n",
    "    return feature\n",
    "\n",
    "def create_fixed_width_peaks(narrow_peak_file, fixed_width, feature_index=9):\n",
    "    peaks = pybedtools.BedTool(narrow_peak_file)\n",
    "    fixed_width_peaks = peaks.each(to_fixed_width_from_summit, fixed_width, feature_index=feature_index)\n",
    "    return fixed_width_peaks"
   ]
  },
  {
   "cell_type": "code",
   "execution_count": 159,
   "metadata": {},
   "outputs": [],
   "source": [
    "outdir = \"/cellar/users/aklie/data/datasets/igvf_sc-islet_10X-Multiome/annotation/timecourse/A2_control/fixed_width_peaks\"\n",
    "os.makedirs(outdir, exist_ok=True)\n",
    "os.chdir(outdir)"
   ]
  },
  {
   "cell_type": "code",
   "execution_count": 160,
   "metadata": {},
   "outputs": [
    {
     "data": {
      "text/html": [
       "<div>\n",
       "<style scoped>\n",
       "    .dataframe tbody tr th:only-of-type {\n",
       "        vertical-align: middle;\n",
       "    }\n",
       "\n",
       "    .dataframe tbody tr th {\n",
       "        vertical-align: top;\n",
       "    }\n",
       "\n",
       "    .dataframe thead th {\n",
       "        text-align: right;\n",
       "    }\n",
       "</style>\n",
       "<table border=\"1\" class=\"dataframe\">\n",
       "  <thead>\n",
       "    <tr style=\"text-align: right;\">\n",
       "      <th></th>\n",
       "      <th>Chromosome</th>\n",
       "      <th>Start</th>\n",
       "      <th>End</th>\n",
       "    </tr>\n",
       "  </thead>\n",
       "  <tbody>\n",
       "    <tr>\n",
       "      <th>0</th>\n",
       "      <td>chr1</td>\n",
       "      <td>628903</td>\n",
       "      <td>635104</td>\n",
       "    </tr>\n",
       "    <tr>\n",
       "      <th>1</th>\n",
       "      <td>chr1</td>\n",
       "      <td>5850087</td>\n",
       "      <td>5850571</td>\n",
       "    </tr>\n",
       "    <tr>\n",
       "      <th>2</th>\n",
       "      <td>chr1</td>\n",
       "      <td>8909610</td>\n",
       "      <td>8910014</td>\n",
       "    </tr>\n",
       "    <tr>\n",
       "      <th>3</th>\n",
       "      <td>chr1</td>\n",
       "      <td>9574580</td>\n",
       "      <td>9574997</td>\n",
       "    </tr>\n",
       "    <tr>\n",
       "      <th>4</th>\n",
       "      <td>chr1</td>\n",
       "      <td>32043823</td>\n",
       "      <td>32044203</td>\n",
       "    </tr>\n",
       "    <tr>\n",
       "      <th>...</th>\n",
       "      <td>...</td>\n",
       "      <td>...</td>\n",
       "      <td>...</td>\n",
       "    </tr>\n",
       "    <tr>\n",
       "      <th>905</th>\n",
       "      <td>chrY</td>\n",
       "      <td>11290797</td>\n",
       "      <td>11334278</td>\n",
       "    </tr>\n",
       "    <tr>\n",
       "      <th>906</th>\n",
       "      <td>chrY</td>\n",
       "      <td>11493053</td>\n",
       "      <td>11592850</td>\n",
       "    </tr>\n",
       "    <tr>\n",
       "      <th>907</th>\n",
       "      <td>chrY</td>\n",
       "      <td>11671014</td>\n",
       "      <td>11671046</td>\n",
       "    </tr>\n",
       "    <tr>\n",
       "      <th>908</th>\n",
       "      <td>chrY</td>\n",
       "      <td>11721528</td>\n",
       "      <td>11749472</td>\n",
       "    </tr>\n",
       "    <tr>\n",
       "      <th>909</th>\n",
       "      <td>chrY</td>\n",
       "      <td>56694632</td>\n",
       "      <td>56889743</td>\n",
       "    </tr>\n",
       "  </tbody>\n",
       "</table>\n",
       "<p>910 rows × 3 columns</p>\n",
       "</div>"
      ],
      "text/plain": [
       "+--------------+-----------+-----------+\n",
       "| Chromosome   | Start     | End       |\n",
       "| (category)   | (int64)   | (int64)   |\n",
       "|--------------+-----------+-----------|\n",
       "| chr1         | 628903    | 635104    |\n",
       "| chr1         | 5850087   | 5850571   |\n",
       "| chr1         | 8909610   | 8910014   |\n",
       "| chr1         | 9574580   | 9574997   |\n",
       "| ...          | ...       | ...       |\n",
       "| chrY         | 11493053  | 11592850  |\n",
       "| chrY         | 11671014  | 11671046  |\n",
       "| chrY         | 11721528  | 11749472  |\n",
       "| chrY         | 56694632  | 56889743  |\n",
       "+--------------+-----------+-----------+\n",
       "Unstranded PyRanges object has 910 rows and 3 columns from 24 chromosomes.\n",
       "For printing, the PyRanges was sorted on Chromosome."
      ]
     },
     "execution_count": 160,
     "metadata": {},
     "output_type": "execute_result"
    }
   ],
   "source": [
    "# Path to blacklist\n",
    "blacklist_path = \"/cellar/users/aklie/data/ref/genomes/hg38/blacklist/blacklist.bed.gz\"\n",
    "blacklist = pr.read_bed(blacklist_path)\n",
    "blacklist"
   ]
  },
  {
   "attachments": {},
   "cell_type": "markdown",
   "metadata": {},
   "source": [
    "# 1kb fixed width consensus peaks"
   ]
  },
  {
   "cell_type": "code",
   "execution_count": 242,
   "metadata": {},
   "outputs": [],
   "source": [
    "# Peaks sets to compare\n",
    "peakset1 = \"/cellar/users/aklie/data/datasets/igvf_sc-islet_10X-Multiome/annotation/timecourse/A2_control/snapatac2/filtered_no_replicate/peak_calls/consensus_peaks.bed\"\n",
    "peakset2 = \"/cellar/users/aklie/data/datasets/igvf_sc-islet_10X-Multiome/annotation/timecourse/A2_control/snapatac2/filtered/peak_calls/consensus_peaks.bed\"\n",
    "peakset3 = \"/cellar/users/aklie/data/datasets/igvf_sc-islet_10X-Multiome/annotation/timecourse/A2_control/filtered_archr/PeakCalls/SplitPeaks/consensus_peaks.bed\"\n",
    "peakset4 = \"/cellar/users/aklie/data/datasets/igvf_sc-islet_10X-Multiome/annotation/timecourse/A2_control/filtered_signac/peaks/consensus_peaks.bed\""
   ]
  },
  {
   "cell_type": "code",
   "execution_count": 243,
   "metadata": {},
   "outputs": [
    {
     "data": {
      "text/plain": [
       "(327816, 99020, 188090, 98010)"
      ]
     },
     "execution_count": 243,
     "metadata": {},
     "output_type": "execute_result"
    }
   ],
   "source": [
    "# Load bedtool objects\n",
    "peaks1_tool = pybedtools.BedTool(peakset1)\n",
    "peaks2_tool = pybedtools.BedTool(peakset2)\n",
    "peaks3_tool = pybedtools.BedTool(peakset3)\n",
    "peaks4_tool = pybedtools.BedTool(peakset4)\n",
    "len(peaks1_tool), len(peaks2_tool), len(peaks3_tool), len(peaks4_tool)"
   ]
  },
  {
   "cell_type": "code",
   "execution_count": 244,
   "metadata": {},
   "outputs": [
    {
     "data": {
      "text/plain": [
       "<BedTool(signac.filtered.consensus.fixed_width_peaks.bed)>"
      ]
     },
     "execution_count": 244,
     "metadata": {},
     "output_type": "execute_result"
    }
   ],
   "source": [
    "fixed_width_peaks1_tool = peaks1_tool.slop(b=250, genome=\"hg38\").saveas('snapatac2.filtered_no_replicate.consensus.fixed_width_peaks.bed')\n",
    "fixed_width_peaks2_tool = peaks2_tool.slop(b=250, genome=\"hg38\").saveas('snapatac2.filtered.consensus.fixed_width_peaks.bed')\n",
    "fixed_width_peaks3_tool = peaks3_tool.slop(b=250, genome=\"hg38\").saveas('archr.filtered.consensus.fixed_width_peaks.bed')\n",
    "fixed_width_peaks4_tool = create_fixed_width_peaks(peakset4, 1000, None)\n",
    "fixed_width_peaks4_tool.saveas('signac.filtered.consensus.fixed_width_peaks.bed')"
   ]
  },
  {
   "cell_type": "code",
   "execution_count": 245,
   "metadata": {},
   "outputs": [],
   "source": [
    "# update file paths\n",
    "fixed_width_peaks1 = \"snapatac2.filtered_no_replicate.consensus.fixed_width_peaks.bed\"\n",
    "fixed_width_peaks2 = \"snapatac2.filtered.consensus.fixed_width_peaks.bed\"\n",
    "fixed_width_peaks3 = \"archr.filtered.consensus.fixed_width_peaks.bed\"\n",
    "fixed_width_peaks4 = \"signac.filtered.consensus.fixed_width_peaks.bed\""
   ]
  },
  {
   "cell_type": "code",
   "execution_count": 246,
   "metadata": {},
   "outputs": [],
   "source": [
    "venn_mpl(fixed_width_peaks1, fixed_width_peaks3, fixed_width_peaks4, outfn=\"fixed_width_consensus-filt.png\", labels=[\"SnapATAC2 (non-reproducible)\", \"ArchR (filtered)\", \"Signac (filtered)\"])"
   ]
  },
  {
   "cell_type": "code",
   "execution_count": 247,
   "metadata": {},
   "outputs": [],
   "source": [
    "venn_mpl(fixed_width_peaks2, fixed_width_peaks3, fixed_width_peaks4, outfn=\"fixed_width_consensus-filt_reprodocuble.png\", labels=[\"SnapATAC2 (reproducible)\", \"ArchR (filtered)\", \"Signac (filtered)\"])"
   ]
  },
  {
   "cell_type": "code",
   "execution_count": 248,
   "metadata": {},
   "outputs": [],
   "source": [
    "venn_mpl(fixed_width_peaks1, fixed_width_peaks2, fixed_width_peaks3, outfn=\"fixed_width_consensus_archr-filt.png\", labels=[\"SnapATAC2\", \"SnapATAC2 (reproducible)\", \"ArchR (filtered)\"])"
   ]
  },
  {
   "cell_type": "code",
   "execution_count": 249,
   "metadata": {},
   "outputs": [
    {
     "data": {
      "text/plain": [
       "(327816, 99020, 188090, 98010)"
      ]
     },
     "execution_count": 249,
     "metadata": {},
     "output_type": "execute_result"
    }
   ],
   "source": [
    "fixed_width_peaks1_tool = pybedtools.BedTool(fixed_width_peaks1)\n",
    "fixed_width_peaks2_tool = pybedtools.BedTool(fixed_width_peaks2)\n",
    "fixed_width_peaks3_tool = pybedtools.BedTool(fixed_width_peaks3)\n",
    "fixed_width_peaks4_tool = pybedtools.BedTool(fixed_width_peaks4)\n",
    "len(fixed_width_peaks1_tool), len(fixed_width_peaks2_tool), len(fixed_width_peaks3_tool), len(fixed_width_peaks4_tool)"
   ]
  },
  {
   "cell_type": "code",
   "execution_count": 250,
   "metadata": {},
   "outputs": [
    {
     "data": {
      "text/plain": [
       "(118365, 99020)"
      ]
     },
     "execution_count": 250,
     "metadata": {},
     "output_type": "execute_result"
    }
   ],
   "source": [
    "(fixed_width_peaks1_tool + fixed_width_peaks2_tool).count(), (fixed_width_peaks2_tool + fixed_width_peaks1_tool).count()"
   ]
  },
  {
   "cell_type": "code",
   "execution_count": 251,
   "metadata": {},
   "outputs": [
    {
     "data": {
      "text/plain": [
       "(118365, 157869)"
      ]
     },
     "execution_count": 251,
     "metadata": {},
     "output_type": "execute_result"
    }
   ],
   "source": [
    "fixed_width_peaks1_tool.intersect(fixed_width_peaks2_tool, u=True).count(), fixed_width_peaks1_tool.intersect(fixed_width_peaks2_tool, u=False).count()"
   ]
  },
  {
   "cell_type": "code",
   "execution_count": 252,
   "metadata": {},
   "outputs": [
    {
     "data": {
      "text/plain": [
       "(99020, 157869)"
      ]
     },
     "execution_count": 252,
     "metadata": {},
     "output_type": "execute_result"
    }
   ],
   "source": [
    "fixed_width_peaks2_tool.intersect(fixed_width_peaks1_tool, u=True).count(), fixed_width_peaks2_tool.intersect(fixed_width_peaks1_tool, u=False).count()"
   ]
  },
  {
   "cell_type": "code",
   "execution_count": 253,
   "metadata": {},
   "outputs": [
    {
     "data": {
      "text/plain": [
       "(150805, 159618)"
      ]
     },
     "execution_count": 253,
     "metadata": {},
     "output_type": "execute_result"
    }
   ],
   "source": [
    "(fixed_width_peaks1_tool + fixed_width_peaks3_tool).count(), (fixed_width_peaks3_tool + fixed_width_peaks1_tool).count()"
   ]
  },
  {
   "cell_type": "code",
   "execution_count": 254,
   "metadata": {},
   "outputs": [
    {
     "data": {
      "text/plain": [
       "(150805, 236718)"
      ]
     },
     "execution_count": 254,
     "metadata": {},
     "output_type": "execute_result"
    }
   ],
   "source": [
    "fixed_width_peaks1_tool.intersect(fixed_width_peaks3_tool, u=True).count(), fixed_width_peaks1_tool.intersect(fixed_width_peaks3_tool, u=False).count()"
   ]
  },
  {
   "cell_type": "code",
   "execution_count": 255,
   "metadata": {},
   "outputs": [
    {
     "data": {
      "text/plain": [
       "(159618, 236718)"
      ]
     },
     "execution_count": 255,
     "metadata": {},
     "output_type": "execute_result"
    }
   ],
   "source": [
    "fixed_width_peaks3_tool.intersect(fixed_width_peaks1_tool, u=True).count(), fixed_width_peaks3_tool.intersect(fixed_width_peaks1_tool, u=False).count()"
   ]
  },
  {
   "cell_type": "code",
   "execution_count": 256,
   "metadata": {},
   "outputs": [
    {
     "data": {
      "text/plain": [
       "(137046, 97951)"
      ]
     },
     "execution_count": 256,
     "metadata": {},
     "output_type": "execute_result"
    }
   ],
   "source": [
    "(fixed_width_peaks1_tool + fixed_width_peaks4_tool).count(), (fixed_width_peaks4_tool + fixed_width_peaks1_tool).count()"
   ]
  },
  {
   "cell_type": "code",
   "execution_count": 257,
   "metadata": {},
   "outputs": [
    {
     "data": {
      "text/plain": [
       "(137046, 144300)"
      ]
     },
     "execution_count": 257,
     "metadata": {},
     "output_type": "execute_result"
    }
   ],
   "source": [
    "fixed_width_peaks1_tool.intersect(fixed_width_peaks4_tool, u=True).count(), fixed_width_peaks1_tool.intersect(fixed_width_peaks4_tool, u=False).count()"
   ]
  },
  {
   "cell_type": "code",
   "execution_count": 258,
   "metadata": {},
   "outputs": [
    {
     "data": {
      "text/plain": [
       "(97951, 144300)"
      ]
     },
     "execution_count": 258,
     "metadata": {},
     "output_type": "execute_result"
    }
   ],
   "source": [
    "fixed_width_peaks4_tool.intersect(fixed_width_peaks1_tool, u=True).count(), fixed_width_peaks4_tool.intersect(fixed_width_peaks1_tool, u=False).count()"
   ]
  },
  {
   "cell_type": "code",
   "execution_count": 259,
   "metadata": {},
   "outputs": [
    {
     "data": {
      "text/plain": [
       "116835"
      ]
     },
     "execution_count": 259,
     "metadata": {},
     "output_type": "execute_result"
    }
   ],
   "source": [
    "(fixed_width_peaks1_tool + fixed_width_peaks3_tool + fixed_width_peaks4_tool).count()"
   ]
  },
  {
   "cell_type": "code",
   "execution_count": 260,
   "metadata": {},
   "outputs": [
    {
     "data": {
      "text/plain": [
       "116835"
      ]
     },
     "execution_count": 260,
     "metadata": {},
     "output_type": "execute_result"
    }
   ],
   "source": [
    "(fixed_width_peaks1_tool + fixed_width_peaks4_tool + fixed_width_peaks3_tool).count()"
   ]
  },
  {
   "cell_type": "code",
   "execution_count": 261,
   "metadata": {},
   "outputs": [
    {
     "data": {
      "text/plain": [
       "82195"
      ]
     },
     "execution_count": 261,
     "metadata": {},
     "output_type": "execute_result"
    }
   ],
   "source": [
    "(fixed_width_peaks4_tool + fixed_width_peaks3_tool + fixed_width_peaks1_tool).count()"
   ]
  },
  {
   "cell_type": "code",
   "execution_count": 262,
   "metadata": {},
   "outputs": [
    {
     "data": {
      "text/plain": [
       "82195"
      ]
     },
     "execution_count": 262,
     "metadata": {},
     "output_type": "execute_result"
    }
   ],
   "source": [
    "(fixed_width_peaks4_tool + fixed_width_peaks1_tool + fixed_width_peaks3_tool).count()"
   ]
  },
  {
   "cell_type": "code",
   "execution_count": 263,
   "metadata": {},
   "outputs": [
    {
     "data": {
      "text/plain": [
       "119096"
      ]
     },
     "execution_count": 263,
     "metadata": {},
     "output_type": "execute_result"
    }
   ],
   "source": [
    "(fixed_width_peaks3_tool + fixed_width_peaks4_tool + fixed_width_peaks1_tool).count()"
   ]
  },
  {
   "cell_type": "code",
   "execution_count": 264,
   "metadata": {},
   "outputs": [
    {
     "data": {
      "text/plain": [
       "119096"
      ]
     },
     "execution_count": 264,
     "metadata": {},
     "output_type": "execute_result"
    }
   ],
   "source": [
    "(fixed_width_peaks3_tool + fixed_width_peaks1_tool + fixed_width_peaks4_tool).count()"
   ]
  },
  {
   "cell_type": "code",
   "execution_count": 265,
   "metadata": {},
   "outputs": [],
   "source": [
    "venn2_mpl(fixed_width_peaks2, fixed_width_peaks3, outfn=\"fixed_width_consensus_snapatac2repro_archr.png\", labels=[\"SnapATAC2 (reproducible)\", \"ArchR\"], colors=[\"#1f77b4\", \"#2ca02c\"])\n",
    "venn2_mpl(fixed_width_peaks3, fixed_width_peaks2, outfn=\"fixed_width_consensus_archr_snapatac2repro.png\", labels=[\"ArchR\", \"SnapATAC2 (reproducible)\"], colors=[\"#2ca02c\", \"#1f77b4\"])\n",
    "venn2_mpl(fixed_width_peaks2, fixed_width_peaks4, outfn=\"fixed_width_consensus_snapatac2repro_signac.png\", labels=[\"SnapATAC2 (reproducible)\", \"Signac\"], colors=[\"#1f77b4\", \"#d62728\"])\n",
    "venn2_mpl(fixed_width_peaks4, fixed_width_peaks2, outfn=\"fixed_width_consensus_signac_snapatac2repro.png\", labels=[\"Signac\", \"SnapATAC2 (reproducible)\"], colors=[\"#d62728\", \"#1f77b4\"])\n",
    "venn2_mpl(fixed_width_peaks3, fixed_width_peaks4, outfn=\"fixed_width_consensus_archr_signac.png\", labels=[\"ArchR\", \"Signac\"], colors=[\"#2ca02c\", \"#d62728\"])\n",
    "venn2_mpl(fixed_width_peaks4, fixed_width_peaks3, outfn=\"fixed_width_consensus_signac_archr.png\", labels=[\"Signac\", \"ArchR\"], colors=[\"#d62728\", \"#2ca02c\"])"
   ]
  },
  {
   "cell_type": "code",
   "execution_count": 228,
   "metadata": {},
   "outputs": [],
   "source": [
    "venn2_mpl(fixed_width_peaks1, fixed_width_peaks2, outfn=\"fixed_width_consensus_snapatac2non_snapatac2_repro.png\", labels=[\"SnapATAC2 (non-reproducible)\", \"SnapATAC2 (reproducible)\"], colors=[\"#1f77b4\", \"#ff7f0e\"])\n",
    "venn2_mpl(fixed_width_peaks2, fixed_width_peaks1, outfn=\"fixed_width_consensus_snapatac2repro_snapatac2non.png\", labels=[\"SnapATAC2 (reproducible)\", \"SnapATAC2 (non-reproducible)\"], colors=[\"#ff7f0e\", \"#1f77b4\"])\n",
    "venn2_mpl(fixed_width_peaks1, fixed_width_peaks3, outfn=\"fixed_width_consensus_snapatac2non_archr.png\", labels=[\"SnapATAC2 (non-reproducible)\", \"ArchR\"], colors=[\"#1f77b4\", \"#2ca02c\"])\n",
    "venn2_mpl(fixed_width_peaks3, fixed_width_peaks1, outfn=\"fixed_width_consensus_archr_snapatac2non.png\", labels=[\"ArchR\", \"SnapATAC2 (non-reproducible)\"], colors=[\"#2ca02c\", \"#1f77b4\"])\n",
    "venn2_mpl(fixed_width_peaks1, fixed_width_peaks4, outfn=\"fixed_width_consensus_snapatac2non_signac.png\", labels=[\"SnapATAC2 (non-reproducible)\", \"Signac\"], colors=[\"#1f77b4\", \"#d62728\"])\n",
    "venn2_mpl(fixed_width_peaks4, fixed_width_peaks1, outfn=\"fixed_width_consensus_signac_snapatac2non.png\", labels=[\"Signac\", \"SnapATAC2 (non-reproducible)\"], colors=[\"#d62728\", \"#1f77b4\"])\n",
    "venn2_mpl(fixed_width_peaks3, fixed_width_peaks4, outfn=\"fixed_width_consensus_archr_signac.png\", labels=[\"ArchR\", \"Signac\"], colors=[\"#2ca02c\", \"#d62728\"])\n",
    "venn2_mpl(fixed_width_peaks4, fixed_width_peaks3, outfn=\"fixed_width_consensus_signac_archr.png\", labels=[\"Signac\", \"ArchR\"], colors=[\"#d62728\", \"#2ca02c\"])"
   ]
  },
  {
   "cell_type": "code",
   "execution_count": 167,
   "metadata": {},
   "outputs": [
    {
     "data": {
      "text/plain": [
       "(58512, 10082, 11639, 107857)"
      ]
     },
     "execution_count": 167,
     "metadata": {},
     "output_type": "execute_result"
    }
   ],
   "source": [
    "archr = (fixed_width_peaks3_tool - fixed_width_peaks2_tool - fixed_width_peaks4_tool)\n",
    "archr_snapatac2 = (fixed_width_peaks3_tool + fixed_width_peaks2_tool - fixed_width_peaks4_tool)\n",
    "archr_signac = (fixed_width_peaks3_tool + fixed_width_peaks4_tool - fixed_width_peaks2_tool )\n",
    "common = (fixed_width_peaks3_tool + fixed_width_peaks2_tool + fixed_width_peaks4_tool)\n",
    "len(archr), len(archr_snapatac2), len(archr_signac), len(common)"
   ]
  },
  {
   "cell_type": "code",
   "execution_count": 129,
   "metadata": {},
   "outputs": [
    {
     "data": {
      "text/plain": [
       "common             107857\n",
       "archr               58512\n",
       "archr_signac        11639\n",
       "archr_snapatac2     10082\n",
       "Name: method, dtype: int64"
      ]
     },
     "execution_count": 129,
     "metadata": {},
     "output_type": "execute_result"
    }
   ],
   "source": [
    "# Only have peak scores from ArchR for consensus, would need to rerun and extract\n",
    "archr_df = archr.to_dataframe()\n",
    "archr_df[\"method\"] = \"archr\"\n",
    "archr_snapatac2_df = archr_snapatac2.to_dataframe()\n",
    "archr_snapatac2_df[\"method\"] = \"archr_snapatac2\"\n",
    "archr_signac_df = archr_signac.to_dataframe()\n",
    "archr_signac_df[\"method\"] = \"archr_signac\"\n",
    "common_df = common.to_dataframe()\n",
    "common_df[\"method\"] = \"common\"\n",
    "merged = pd.concat([archr_df, archr_snapatac2_df, archr_signac_df, common_df])\n",
    "merged[\"method\"].value_counts()"
   ]
  },
  {
   "cell_type": "code",
   "execution_count": 130,
   "metadata": {},
   "outputs": [
    {
     "data": {
      "text/plain": [
       "Text(0.5, 1.0, 'Consensus peaks (SnapATAC2 non-reproducible)')"
      ]
     },
     "execution_count": 130,
     "metadata": {},
     "output_type": "execute_result"
    },
    {
     "data": {
      "image/png": "[encoded data removed]",
      "text/plain": [
       "<Figure size 640x480 with 1 Axes>"
      ]
     },
     "metadata": {},
     "output_type": "display_data"
    }
   ],
   "source": [
    "fig, ax = plt.subplots()\n",
    "sns.ecdfplot(data=merged, x=\"score\", hue=\"method\", log_scale=True, ax=ax, hue_order=[\"archr\", \"archr_snapatac2\", \"archr_signac\", \"common\"])\n",
    "ax.set_xlabel(\"ArchR peak score\")\n",
    "ax.set_ylabel(\"CDF\")\n",
    "#legend_labels = [\"ArchR unique peaks\", \"SnapATAC2 and ArchR union peaks\"]\n",
    "#ax.legend(legend_labels)\n",
    "ax.set_title(\"Consensus peaks (SnapATAC2 non-reproducible)\")"
   ]
  },
  {
   "attachments": {},
   "cell_type": "markdown",
   "metadata": {},
   "source": [
    "# 1kb fixed width SC.beta peaks (replicate first for SnapATAC2)"
   ]
  },
  {
   "cell_type": "code",
   "execution_count": 234,
   "metadata": {},
   "outputs": [],
   "source": [
    "# Peaks sets to compare\n",
    "peakset1 = \"/cellar/users/aklie/data/datasets/igvf_sc-islet_10X-Multiome/annotation/timecourse/A2_control/snapatac2/filtered/filtered_peaks/SC.beta.filt.narrowPeak\"\n",
    "peakset2 = \"/cellar/users/aklie/data/datasets/igvf_sc-islet_10X-Multiome/annotation/timecourse/A2_control/filtered_archr/PeakCalls/SplitPeaks/SC.beta.bed\"\n",
    "peakset3 = \"/cellar/users/aklie/data/datasets/igvf_sc-islet_10X-Multiome/annotation/timecourse/A2_control/filtered_signac/peaks/SC.beta_peaks.narrowPeak\""
   ]
  },
  {
   "cell_type": "code",
   "execution_count": 235,
   "metadata": {},
   "outputs": [
    {
     "data": {
      "text/plain": [
       "(70249, 125307, 81321)"
      ]
     },
     "execution_count": 235,
     "metadata": {},
     "output_type": "execute_result"
    }
   ],
   "source": [
    "# Load bedtool objects\n",
    "peaks1_tool = pybedtools.BedTool(peakset1)\n",
    "peaks2_tool = pybedtools.BedTool(peakset2)\n",
    "peaks3_tool = pybedtools.BedTool(peakset3)\n",
    "len(peaks1_tool), len(peaks2_tool), len(peaks3_tool)"
   ]
  },
  {
   "cell_type": "code",
   "execution_count": 236,
   "metadata": {},
   "outputs": [
    {
     "data": {
      "text/plain": [
       "<BedTool(signac.filtered.SC.beta.fixed_width_peaks.bed)>"
      ]
     },
     "execution_count": 236,
     "metadata": {},
     "output_type": "execute_result"
    }
   ],
   "source": [
    "fixed_width_peaks1_tool = create_fixed_width_peaks(peakset1, 1000, 12)\n",
    "fixed_width_peaks1_tool.saveas('snapatac2.filtered.SC.beta.fixed_width_peaks.bed')\n",
    "\n",
    "fixed_width_peaks2_tool = peaks2_tool.slop(b=250, genome=\"hg38\")\n",
    "fixed_width_peaks2_tool.saveas('archr.filtered.SC.beta.fixed_width_peaks.bed')\n",
    "\n",
    "fixed_width_peaks3_tool = create_fixed_width_peaks(peakset3, 1000, 9)\n",
    "fixed_width_peaks3_tool.saveas('signac.filtered.SC.beta.fixed_width_peaks.bed')"
   ]
  },
  {
   "cell_type": "code",
   "execution_count": 237,
   "metadata": {},
   "outputs": [],
   "source": [
    "fixed_width_peaks1 = \"snapatac2.filtered.SC.beta.fixed_width_peaks.bed\"\n",
    "fixed_width_peaks2 = \"archr.filtered.SC.beta.fixed_width_peaks.bed\"\n",
    "fixed_width_peaks3 = \"signac.filtered.SC.beta.fixed_width_peaks.bed\""
   ]
  },
  {
   "cell_type": "code",
   "execution_count": 238,
   "metadata": {},
   "outputs": [
    {
     "name": "stderr",
     "output_type": "stream",
     "text": [
      "***** WARNING: File signac.filtered.SC.beta.fixed_width_peaks.bed has inconsistent naming convention for record:\n",
      "chr1\t9602\t10602\tSC.beta_peak_39\t420\t.\t13.5265\t45.5113\t42.0924\t179\n",
      "\n",
      "***** WARNING: File signac.filtered.SC.beta.fixed_width_peaks.bed has inconsistent naming convention for record:\n",
      "chr1\t9602\t10602\tSC.beta_peak_39\t420\t.\t13.5265\t45.5113\t42.0924\t179\n",
      "\n",
      "***** WARNING: File signac.filtered.SC.beta.fixed_width_peaks.bed has inconsistent naming convention for record:\n",
      "chr1\t9602\t10602\tSC.beta_peak_39\t420\t.\t13.5265\t45.5113\t42.0924\t179\n",
      "\n",
      "***** WARNING: File signac.filtered.SC.beta.fixed_width_peaks.bed has inconsistent naming convention for record:\n",
      "chr1\t9602\t10602\tSC.beta_peak_39\t420\t.\t13.5265\t45.5113\t42.0924\t179\n",
      "\n",
      "***** WARNING: File signac.filtered.SC.beta.fixed_width_peaks.bed has inconsistent naming convention for record:\n",
      "GL000195.1\t30267\t31267\tSC.beta_peak_1\t672\t.\t9.18367\t72.5008\t67.2781\t494\n",
      "\n",
      "***** WARNING: File signac.filtered.SC.beta.fixed_width_peaks.bed has inconsistent naming convention for record:\n",
      "GL000195.1\t30267\t31267\tSC.beta_peak_1\t672\t.\t9.18367\t72.5008\t67.2781\t494\n",
      "\n",
      "***** WARNING: File /tmp/pybedtools.by9y0p_1.tmp has inconsistent naming convention for record:\n",
      "GL000195.1\t30267\t31267\tSC.beta_peak_1\t672\t.\t9.18367\t72.5008\t67.2781\t494\n",
      "\n",
      "***** WARNING: File /tmp/pybedtools.by9y0p_1.tmp has inconsistent naming convention for record:\n",
      "GL000195.1\t30267\t31267\tSC.beta_peak_1\t672\t.\t9.18367\t72.5008\t67.2781\t494\n",
      "\n",
      "***** WARNING: File signac.filtered.SC.beta.fixed_width_peaks.bed has inconsistent naming convention for record:\n",
      "chr1\t9602\t10602\tSC.beta_peak_39\t420\t.\t13.5265\t45.5113\t42.0924\t179\n",
      "\n",
      "***** WARNING: File signac.filtered.SC.beta.fixed_width_peaks.bed has inconsistent naming convention for record:\n",
      "chr1\t9602\t10602\tSC.beta_peak_39\t420\t.\t13.5265\t45.5113\t42.0924\t179\n",
      "\n",
      "***** WARNING: File signac.filtered.SC.beta.fixed_width_peaks.bed has inconsistent naming convention for record:\n",
      "chr1\t9602\t10602\tSC.beta_peak_39\t420\t.\t13.5265\t45.5113\t42.0924\t179\n",
      "\n",
      "***** WARNING: File signac.filtered.SC.beta.fixed_width_peaks.bed has inconsistent naming convention for record:\n",
      "chr1\t9602\t10602\tSC.beta_peak_39\t420\t.\t13.5265\t45.5113\t42.0924\t179\n",
      "\n",
      "***** WARNING: File signac.filtered.SC.beta.fixed_width_peaks.bed has inconsistent naming convention for record:\n",
      "chr1\t9602\t10602\tSC.beta_peak_39\t420\t.\t13.5265\t45.5113\t42.0924\t179\n",
      "\n",
      "***** WARNING: File signac.filtered.SC.beta.fixed_width_peaks.bed has inconsistent naming convention for record:\n",
      "chr1\t9602\t10602\tSC.beta_peak_39\t420\t.\t13.5265\t45.5113\t42.0924\t179\n",
      "\n",
      "***** WARNING: File signac.filtered.SC.beta.fixed_width_peaks.bed has inconsistent naming convention for record:\n",
      "chr1\t9602\t10602\tSC.beta_peak_39\t420\t.\t13.5265\t45.5113\t42.0924\t179\n",
      "\n",
      "***** WARNING: File signac.filtered.SC.beta.fixed_width_peaks.bed has inconsistent naming convention for record:\n",
      "chr1\t9602\t10602\tSC.beta_peak_39\t420\t.\t13.5265\t45.5113\t42.0924\t179\n",
      "\n"
     ]
    }
   ],
   "source": [
    "venn_mpl(fixed_width_peaks1, fixed_width_peaks2, fixed_width_peaks3, outfn=\"fixed_width_SC.beta_filt.png\", labels=[\"SnapATAC2 (reproducible)\", \"ArchR (filtered)\", \"Signac (filtered)\"])"
   ]
  },
  {
   "cell_type": "code",
   "execution_count": 240,
   "metadata": {},
   "outputs": [
    {
     "name": "stderr",
     "output_type": "stream",
     "text": [
      "***** WARNING: File signac.filtered.SC.beta.fixed_width_peaks.bed has inconsistent naming convention for record:\n",
      "chr1\t9602\t10602\tSC.beta_peak_39\t420\t.\t13.5265\t45.5113\t42.0924\t179\n",
      "\n",
      "***** WARNING: File signac.filtered.SC.beta.fixed_width_peaks.bed has inconsistent naming convention for record:\n",
      "chr1\t9602\t10602\tSC.beta_peak_39\t420\t.\t13.5265\t45.5113\t42.0924\t179\n",
      "\n",
      "***** WARNING: File signac.filtered.SC.beta.fixed_width_peaks.bed has inconsistent naming convention for record:\n",
      "GL000195.1\t30267\t31267\tSC.beta_peak_1\t672\t.\t9.18367\t72.5008\t67.2781\t494\n",
      "\n",
      "***** WARNING: File signac.filtered.SC.beta.fixed_width_peaks.bed has inconsistent naming convention for record:\n",
      "GL000195.1\t30267\t31267\tSC.beta_peak_1\t672\t.\t9.18367\t72.5008\t67.2781\t494\n",
      "\n",
      "***** WARNING: File signac.filtered.SC.beta.fixed_width_peaks.bed has inconsistent naming convention for record:\n",
      "chr1\t9602\t10602\tSC.beta_peak_39\t420\t.\t13.5265\t45.5113\t42.0924\t179\n",
      "\n",
      "***** WARNING: File signac.filtered.SC.beta.fixed_width_peaks.bed has inconsistent naming convention for record:\n",
      "chr1\t9602\t10602\tSC.beta_peak_39\t420\t.\t13.5265\t45.5113\t42.0924\t179\n",
      "\n",
      "***** WARNING: File signac.filtered.SC.beta.fixed_width_peaks.bed has inconsistent naming convention for record:\n",
      "GL000195.1\t30267\t31267\tSC.beta_peak_1\t672\t.\t9.18367\t72.5008\t67.2781\t494\n",
      "\n",
      "***** WARNING: File signac.filtered.SC.beta.fixed_width_peaks.bed has inconsistent naming convention for record:\n",
      "GL000195.1\t30267\t31267\tSC.beta_peak_1\t672\t.\t9.18367\t72.5008\t67.2781\t494\n",
      "\n",
      "***** WARNING: File signac.filtered.SC.beta.fixed_width_peaks.bed has inconsistent naming convention for record:\n",
      "chr1\t9602\t10602\tSC.beta_peak_39\t420\t.\t13.5265\t45.5113\t42.0924\t179\n",
      "\n",
      "***** WARNING: File signac.filtered.SC.beta.fixed_width_peaks.bed has inconsistent naming convention for record:\n",
      "chr1\t9602\t10602\tSC.beta_peak_39\t420\t.\t13.5265\t45.5113\t42.0924\t179\n",
      "\n",
      "***** WARNING: File signac.filtered.SC.beta.fixed_width_peaks.bed has inconsistent naming convention for record:\n",
      "GL000195.1\t30267\t31267\tSC.beta_peak_1\t672\t.\t9.18367\t72.5008\t67.2781\t494\n",
      "\n",
      "***** WARNING: File signac.filtered.SC.beta.fixed_width_peaks.bed has inconsistent naming convention for record:\n",
      "GL000195.1\t30267\t31267\tSC.beta_peak_1\t672\t.\t9.18367\t72.5008\t67.2781\t494\n",
      "\n",
      "***** WARNING: File signac.filtered.SC.beta.fixed_width_peaks.bed has inconsistent naming convention for record:\n",
      "chr1\t9602\t10602\tSC.beta_peak_39\t420\t.\t13.5265\t45.5113\t42.0924\t179\n",
      "\n",
      "***** WARNING: File signac.filtered.SC.beta.fixed_width_peaks.bed has inconsistent naming convention for record:\n",
      "chr1\t9602\t10602\tSC.beta_peak_39\t420\t.\t13.5265\t45.5113\t42.0924\t179\n",
      "\n",
      "***** WARNING: File signac.filtered.SC.beta.fixed_width_peaks.bed has inconsistent naming convention for record:\n",
      "GL000195.1\t30267\t31267\tSC.beta_peak_1\t672\t.\t9.18367\t72.5008\t67.2781\t494\n",
      "\n",
      "***** WARNING: File signac.filtered.SC.beta.fixed_width_peaks.bed has inconsistent naming convention for record:\n",
      "GL000195.1\t30267\t31267\tSC.beta_peak_1\t672\t.\t9.18367\t72.5008\t67.2781\t494\n",
      "\n",
      "***** WARNING: File signac.filtered.SC.beta.fixed_width_peaks.bed has inconsistent naming convention for record:\n",
      "chr1\t9602\t10602\tSC.beta_peak_39\t420\t.\t13.5265\t45.5113\t42.0924\t179\n",
      "\n",
      "***** WARNING: File signac.filtered.SC.beta.fixed_width_peaks.bed has inconsistent naming convention for record:\n",
      "chr1\t9602\t10602\tSC.beta_peak_39\t420\t.\t13.5265\t45.5113\t42.0924\t179\n",
      "\n",
      "***** WARNING: File signac.filtered.SC.beta.fixed_width_peaks.bed has inconsistent naming convention for record:\n",
      "GL000195.1\t30267\t31267\tSC.beta_peak_1\t672\t.\t9.18367\t72.5008\t67.2781\t494\n",
      "\n",
      "***** WARNING: File signac.filtered.SC.beta.fixed_width_peaks.bed has inconsistent naming convention for record:\n",
      "GL000195.1\t30267\t31267\tSC.beta_peak_1\t672\t.\t9.18367\t72.5008\t67.2781\t494\n",
      "\n",
      "***** WARNING: File signac.filtered.SC.beta.fixed_width_peaks.bed has inconsistent naming convention for record:\n",
      "chr1\t9602\t10602\tSC.beta_peak_39\t420\t.\t13.5265\t45.5113\t42.0924\t179\n",
      "\n",
      "***** WARNING: File signac.filtered.SC.beta.fixed_width_peaks.bed has inconsistent naming convention for record:\n",
      "chr1\t9602\t10602\tSC.beta_peak_39\t420\t.\t13.5265\t45.5113\t42.0924\t179\n",
      "\n",
      "***** WARNING: File signac.filtered.SC.beta.fixed_width_peaks.bed has inconsistent naming convention for record:\n",
      "GL000195.1\t30267\t31267\tSC.beta_peak_1\t672\t.\t9.18367\t72.5008\t67.2781\t494\n",
      "\n",
      "***** WARNING: File signac.filtered.SC.beta.fixed_width_peaks.bed has inconsistent naming convention for record:\n",
      "GL000195.1\t30267\t31267\tSC.beta_peak_1\t672\t.\t9.18367\t72.5008\t67.2781\t494\n",
      "\n"
     ]
    }
   ],
   "source": [
    "venn2_mpl(fixed_width_peaks1, fixed_width_peaks2, outfn=\"fixed_width_SC.beta_filt_snapatac2_archr.png\", labels=[\"SnapATAC2 (reproducible)\", \"ArchR (filtered)\"], colors=[\"#1f77b4\", \"#2ca02c\"])\n",
    "venn2_mpl(fixed_width_peaks2, fixed_width_peaks1, outfn=\"fixed_width_SC.beta_filt_archr_snapatac2.png\", labels=[\"ArchR (filtered)\", \"SnapATAC2 (reproducible)\"], colors=[\"#2ca02c\", \"#1f77b4\"])\n",
    "venn2_mpl(fixed_width_peaks2, fixed_width_peaks3, outfn=\"fixed_width_SC.beta_filt_archr_signac.png\", labels=[\"ArchR (filtered)\", \"Signac (filtered)\"], colors=[\"#2ca02c\", \"#d62728\"])\n",
    "venn2_mpl(fixed_width_peaks3, fixed_width_peaks2, outfn=\"fixed_width_SC.beta_filt_signac_archr.png\", labels=[\"Signac (filtered)\", \"ArchR (filtered)\"], colors=[\"#d62728\", \"#2ca02c\"])\n",
    "venn2_mpl(fixed_width_peaks1, fixed_width_peaks3, outfn=\"fixed_width_SC.beta_filt_snapatac2_signac.png\", labels=[\"SnapATAC2 (reproducible)\", \"Signac (filtered)\"], colors=[\"#1f77b4\", \"#d62728\"])\n",
    "venn2_mpl(fixed_width_peaks3, fixed_width_peaks1, outfn=\"fixed_width_SC.beta_filt_signac_snapatac2.png\", labels=[\"Signac (filtered)\", \"SnapATAC2 (reproducible)\"], colors=[\"#d62728\", \"#1f77b4\"])"
   ]
  },
  {
   "cell_type": "code",
   "execution_count": 239,
   "metadata": {},
   "outputs": [
    {
     "data": {
      "text/plain": [
       "(70249, 125307, 81321)"
      ]
     },
     "execution_count": 239,
     "metadata": {},
     "output_type": "execute_result"
    }
   ],
   "source": [
    "fixed_width_peaks1_tool = pybedtools.BedTool(fixed_width_peaks1)\n",
    "fixed_width_peaks2_tool = pybedtools.BedTool(fixed_width_peaks2)\n",
    "fixed_width_peaks3_tool = pybedtools.BedTool(fixed_width_peaks3)\n",
    "len(fixed_width_peaks1_tool), len(fixed_width_peaks2_tool), len(fixed_width_peaks3_tool)"
   ]
  },
  {
   "cell_type": "code",
   "execution_count": 140,
   "metadata": {},
   "outputs": [
    {
     "name": "stderr",
     "output_type": "stream",
     "text": [
      "***** WARNING: File signac.filtered.SC.beta.fixed_width_peaks.bed has inconsistent naming convention for record:\n",
      "chr1\t9602\t10602\tSC.beta_peak_39\t420\t.\t13.5265\t45.5113\t42.0924\t179\n",
      "\n",
      "***** WARNING: File signac.filtered.SC.beta.fixed_width_peaks.bed has inconsistent naming convention for record:\n",
      "chr1\t9602\t10602\tSC.beta_peak_39\t420\t.\t13.5265\t45.5113\t42.0924\t179\n",
      "\n",
      "***** WARNING: File signac.filtered.SC.beta.fixed_width_peaks.bed has inconsistent naming convention for record:\n",
      "chr1\t9602\t10602\tSC.beta_peak_39\t420\t.\t13.5265\t45.5113\t42.0924\t179\n",
      "\n",
      "***** WARNING: File signac.filtered.SC.beta.fixed_width_peaks.bed has inconsistent naming convention for record:\n",
      "chr1\t9602\t10602\tSC.beta_peak_39\t420\t.\t13.5265\t45.5113\t42.0924\t179\n",
      "\n",
      "***** WARNING: File signac.filtered.SC.beta.fixed_width_peaks.bed has inconsistent naming convention for record:\n",
      "chr1\t9602\t10602\tSC.beta_peak_39\t420\t.\t13.5265\t45.5113\t42.0924\t179\n",
      "\n",
      "***** WARNING: File signac.filtered.SC.beta.fixed_width_peaks.bed has inconsistent naming convention for record:\n",
      "chr1\t9602\t10602\tSC.beta_peak_39\t420\t.\t13.5265\t45.5113\t42.0924\t179\n",
      "\n",
      "***** WARNING: File signac.filtered.SC.beta.fixed_width_peaks.bed has inconsistent naming convention for record:\n",
      "chr1\t9602\t10602\tSC.beta_peak_39\t420\t.\t13.5265\t45.5113\t42.0924\t179\n",
      "\n",
      "***** WARNING: File signac.filtered.SC.beta.fixed_width_peaks.bed has inconsistent naming convention for record:\n",
      "chr1\t9602\t10602\tSC.beta_peak_39\t420\t.\t13.5265\t45.5113\t42.0924\t179\n",
      "\n"
     ]
    },
    {
     "data": {
      "text/plain": [
       "(2031, 58512, 3085, 9758, 55375)"
      ]
     },
     "execution_count": 140,
     "metadata": {},
     "output_type": "execute_result"
    }
   ],
   "source": [
    "snapatac2 = (fixed_width_peaks1_tool - fixed_width_peaks2_tool - fixed_width_peaks3_tool)\n",
    "snapatac2_archr = (fixed_width_peaks1_tool + fixed_width_peaks2_tool - fixed_width_peaks3_tool)\n",
    "snapatac2_signac = (fixed_width_peaks1_tool - fixed_width_peaks2_tool + fixed_width_peaks3_tool)\n",
    "common = (fixed_width_peaks1_tool + fixed_width_peaks2_tool + fixed_width_peaks3_tool)\n",
    "len(snapatac2), len(archr), len(snapatac2_archr), len(snapatac2_signac), len(common)"
   ]
  },
  {
   "cell_type": "code",
   "execution_count": 141,
   "metadata": {},
   "outputs": [
    {
     "data": {
      "text/plain": [
       "method\n",
       "common              55375\n",
       "snapatac2_signac     9758\n",
       "snapatac2_archr      3085\n",
       "snapatac2            2031\n",
       "dtype: int64"
      ]
     },
     "execution_count": 141,
     "metadata": {},
     "output_type": "execute_result"
    }
   ],
   "source": [
    "snapatac2_df = snapatac2.to_dataframe(names=[\"chrom\", \"start\", \"end\", \"name\", \"X\", \"XX\", \"XXX\", \"score\", \"strand\", \"signalValue\", \"pValue\", \"qValue\", \"summit\"])\n",
    "snapatac2_df[\"method\"] = \"snapatac2\"\n",
    "snapatac2_archr_df = snapatac2_archr.to_dataframe(names=[\"chrom\", \"start\", \"end\", \"name\", \"X\", \"XX\", \"XXX\", \"score\", \"strand\", \"signalValue\", \"pValue\", \"qValue\", \"summit\"])\n",
    "snapatac2_archr_df[\"method\"] = \"snapatac2_archr\"\n",
    "snapatac2_signac_df = snapatac2_signac.to_dataframe(names=[\"chrom\", \"start\", \"end\", \"name\", \"X\", \"XX\", \"XXX\", \"score\", \"strand\", \"signalValue\", \"pValue\", \"qValue\", \"summit\"])\n",
    "snapatac2_signac_df[\"method\"] = \"snapatac2_signac\"\n",
    "common_df = common.to_dataframe(names=[\"chrom\", \"start\", \"end\", \"name\", \"X\", \"XX\", \"XXX\", \"score\", \"strand\", \"signalValue\", \"pValue\", \"qValue\", \"summit\"])\n",
    "common_df[\"method\"] = \"common\"\n",
    "merged = pd.concat([snapatac2_df, snapatac2_archr_df, snapatac2_signac_df, common_df])\n",
    "merged.value_counts(\"method\")"
   ]
  },
  {
   "cell_type": "code",
   "execution_count": 142,
   "metadata": {},
   "outputs": [
    {
     "data": {
      "text/plain": [
       "Text(0.5, 1.0, 'SC.beta SnapATAC reproducible peaks')"
      ]
     },
     "execution_count": 142,
     "metadata": {},
     "output_type": "execute_result"
    },
    {
     "data": {
      "image/png": "[encoded data removed]",
      "text/plain": [
       "<Figure size 640x480 with 1 Axes>"
      ]
     },
     "metadata": {},
     "output_type": "display_data"
    }
   ],
   "source": [
    "fig, ax = plt.subplots()\n",
    "sns.ecdfplot(data=merged, x=\"qValue\", hue=\"method\", log_scale=True, ax=ax, hue_order=[\"snapatac2\", \"snapatac2_archr\", \"snapatac2_signac\", \"common\"])\n",
    "ax.set_xlabel(\"SnapATAC2 -log10(q-value)\")\n",
    "ax.set_ylabel(\"CDF\")\n",
    "#legend_labels = [\"SnapATAC2 unique peaks\", \"SnapATAC2 and ArchR union peaks\", \"SnapATAC2 and Signac union peaks\", \"Common peaks\"]\n",
    "#ax.legend(legend_labels)\n",
    "ax.set_title(\"SC.beta SnapATAC reproducible peaks\")"
   ]
  },
  {
   "attachments": {},
   "cell_type": "markdown",
   "metadata": {},
   "source": [
    "# 1kb fixed width SC.beta peaks (no replicate for SnapATAC2)"
   ]
  },
  {
   "cell_type": "code",
   "execution_count": 229,
   "metadata": {},
   "outputs": [],
   "source": [
    "# Peaks sets to compare\n",
    "peakset1 = \"/cellar/users/aklie/data/datasets/igvf_sc-islet_10X-Multiome/annotation/timecourse/A2_control/snapatac2/filtered_no_replicate/filtered_peaks/SC.beta.filt.narrowPeak\"\n",
    "peakset2 = \"/cellar/users/aklie/data/datasets/igvf_sc-islet_10X-Multiome/annotation/timecourse/A2_control/filtered_archr/PeakCalls/SplitPeaks/SC.beta.bed\"\n",
    "peakset3 = \"/cellar/users/aklie/data/datasets/igvf_sc-islet_10X-Multiome/annotation/timecourse/A2_control/filtered_signac/peaks/SC.beta_peaks.narrowPeak\""
   ]
  },
  {
   "cell_type": "code",
   "execution_count": 230,
   "metadata": {},
   "outputs": [
    {
     "data": {
      "text/plain": [
       "(228782, 125307, 81321)"
      ]
     },
     "execution_count": 230,
     "metadata": {},
     "output_type": "execute_result"
    }
   ],
   "source": [
    "# Load bedtool objects\n",
    "peaks1_tool = pybedtools.BedTool(peakset1)\n",
    "peaks2_tool = pybedtools.BedTool(peakset2)\n",
    "peaks3_tool = pybedtools.BedTool(peakset3)\n",
    "len(peaks1_tool), len(peaks2_tool), len(peaks3_tool)"
   ]
  },
  {
   "cell_type": "code",
   "execution_count": 231,
   "metadata": {},
   "outputs": [
    {
     "name": "stdout",
     "output_type": "stream",
     "text": [
      "Summit position is 18446744073714945169, setting summit to middle of the peak.\n",
      "Summit position is 18446744073717307178, setting summit to middle of the peak.\n",
      "Summit position is 18446744073895737214, setting summit to middle of the peak.\n",
      "Summit position is 18446744073837305990, setting summit to middle of the peak.\n",
      "Summit position is 18446744073807549533, setting summit to middle of the peak.\n",
      "Summit position is 18446744073819447223, setting summit to middle of the peak.\n",
      "Summit position is 18446744073844888371, setting summit to middle of the peak.\n",
      "Summit position is 18446744073788965228, setting summit to middle of the peak.\n",
      "Summit position is 18446744073710518835, setting summit to middle of the peak.\n",
      "Summit position is 18446744073762409104, setting summit to middle of the peak.\n",
      "Summit position is 18446744073730955535, setting summit to middle of the peak.\n",
      "Summit position is 18446744073805612379, setting summit to middle of the peak.\n",
      "Summit position is 18446744073767524223, setting summit to middle of the peak.\n",
      "Summit position is 18446744073758180737, setting summit to middle of the peak.\n",
      "Summit position is 18446744073751373450, setting summit to middle of the peak.\n"
     ]
    },
    {
     "data": {
      "text/plain": [
       "<BedTool(signac.SC.beta.fixed_width_peaks.bed)>"
      ]
     },
     "execution_count": 231,
     "metadata": {},
     "output_type": "execute_result"
    }
   ],
   "source": [
    "fixed_width_peaks1_tool = create_fixed_width_peaks(peakset1, 1000, 12)\n",
    "fixed_width_peaks1_tool.saveas('snapatac2.filtered_no_replicate.SC.beta.fixed_width_peaks.bed')\n",
    "\n",
    "fixed_width_peaks2_tool = peaks2_tool.slop(b=250, genome=\"hg38\")\n",
    "fixed_width_peaks2_tool.saveas('archr.SC.beta.fixed_width_peaks.bed')\n",
    "\n",
    "fixed_width_peaks3_tool = create_fixed_width_peaks(peakset3, 1000, 9)\n",
    "fixed_width_peaks3_tool.saveas('signac.SC.beta.fixed_width_peaks.bed')"
   ]
  },
  {
   "cell_type": "code",
   "execution_count": 232,
   "metadata": {},
   "outputs": [],
   "source": [
    "fixed_width_peaks1 = \"snapatac2.filtered_no_replicate.SC.beta.fixed_width_peaks.bed\"\n",
    "fixed_width_peaks2 = \"archr.SC.beta.fixed_width_peaks.bed\"\n",
    "fixed_width_peaks3 = \"signac.SC.beta.fixed_width_peaks.bed\""
   ]
  },
  {
   "cell_type": "code",
   "execution_count": 186,
   "metadata": {},
   "outputs": [
    {
     "name": "stderr",
     "output_type": "stream",
     "text": [
      "***** WARNING: File signac.SC.beta.fixed_width_peaks.bed has inconsistent naming convention for record:\n",
      "chr1\t9602\t10602\tSC.beta_peak_39\t420\t.\t13.5265\t45.5113\t42.0924\t179\n",
      "\n",
      "***** WARNING: File signac.SC.beta.fixed_width_peaks.bed has inconsistent naming convention for record:\n",
      "chr1\t9602\t10602\tSC.beta_peak_39\t420\t.\t13.5265\t45.5113\t42.0924\t179\n",
      "\n",
      "***** WARNING: File signac.SC.beta.fixed_width_peaks.bed has inconsistent naming convention for record:\n",
      "chr1\t9602\t10602\tSC.beta_peak_39\t420\t.\t13.5265\t45.5113\t42.0924\t179\n",
      "\n",
      "***** WARNING: File signac.SC.beta.fixed_width_peaks.bed has inconsistent naming convention for record:\n",
      "chr1\t9602\t10602\tSC.beta_peak_39\t420\t.\t13.5265\t45.5113\t42.0924\t179\n",
      "\n",
      "***** WARNING: File signac.SC.beta.fixed_width_peaks.bed has inconsistent naming convention for record:\n",
      "GL000195.1\t30267\t31267\tSC.beta_peak_1\t672\t.\t9.18367\t72.5008\t67.2781\t494\n",
      "\n",
      "***** WARNING: File signac.SC.beta.fixed_width_peaks.bed has inconsistent naming convention for record:\n",
      "GL000195.1\t30267\t31267\tSC.beta_peak_1\t672\t.\t9.18367\t72.5008\t67.2781\t494\n",
      "\n",
      "***** WARNING: File /tmp/pybedtools.7qexs691.tmp has inconsistent naming convention for record:\n",
      "GL000195.1\t30267\t31267\tSC.beta_peak_1\t672\t.\t9.18367\t72.5008\t67.2781\t494\n",
      "\n",
      "***** WARNING: File /tmp/pybedtools.7qexs691.tmp has inconsistent naming convention for record:\n",
      "GL000195.1\t30267\t31267\tSC.beta_peak_1\t672\t.\t9.18367\t72.5008\t67.2781\t494\n",
      "\n",
      "***** WARNING: File signac.SC.beta.fixed_width_peaks.bed has inconsistent naming convention for record:\n",
      "chr1\t9602\t10602\tSC.beta_peak_39\t420\t.\t13.5265\t45.5113\t42.0924\t179\n",
      "\n",
      "***** WARNING: File signac.SC.beta.fixed_width_peaks.bed has inconsistent naming convention for record:\n",
      "chr1\t9602\t10602\tSC.beta_peak_39\t420\t.\t13.5265\t45.5113\t42.0924\t179\n",
      "\n",
      "***** WARNING: File signac.SC.beta.fixed_width_peaks.bed has inconsistent naming convention for record:\n",
      "chr1\t9602\t10602\tSC.beta_peak_39\t420\t.\t13.5265\t45.5113\t42.0924\t179\n",
      "\n",
      "***** WARNING: File signac.SC.beta.fixed_width_peaks.bed has inconsistent naming convention for record:\n",
      "chr1\t9602\t10602\tSC.beta_peak_39\t420\t.\t13.5265\t45.5113\t42.0924\t179\n",
      "\n",
      "***** WARNING: File signac.SC.beta.fixed_width_peaks.bed has inconsistent naming convention for record:\n",
      "chr1\t9602\t10602\tSC.beta_peak_39\t420\t.\t13.5265\t45.5113\t42.0924\t179\n",
      "\n",
      "***** WARNING: File signac.SC.beta.fixed_width_peaks.bed has inconsistent naming convention for record:\n",
      "chr1\t9602\t10602\tSC.beta_peak_39\t420\t.\t13.5265\t45.5113\t42.0924\t179\n",
      "\n",
      "***** WARNING: File signac.SC.beta.fixed_width_peaks.bed has inconsistent naming convention for record:\n",
      "chr1\t9602\t10602\tSC.beta_peak_39\t420\t.\t13.5265\t45.5113\t42.0924\t179\n",
      "\n",
      "***** WARNING: File signac.SC.beta.fixed_width_peaks.bed has inconsistent naming convention for record:\n",
      "chr1\t9602\t10602\tSC.beta_peak_39\t420\t.\t13.5265\t45.5113\t42.0924\t179\n",
      "\n"
     ]
    }
   ],
   "source": [
    "venn_mpl(fixed_width_peaks1, fixed_width_peaks2, fixed_width_peaks3, outfn=\"fixed_width_SC.beta.filt_no_replicate.png\", labels=[\"SnapATAC2 (non-reproducible)\", \"ArchR (filtered)\", \"Signac (filtered)\"])"
   ]
  },
  {
   "cell_type": "code",
   "execution_count": 233,
   "metadata": {},
   "outputs": [
    {
     "name": "stderr",
     "output_type": "stream",
     "text": [
      "***** WARNING: File signac.SC.beta.fixed_width_peaks.bed has inconsistent naming convention for record:\n",
      "chr1\t9602\t10602\tSC.beta_peak_39\t420\t.\t13.5265\t45.5113\t42.0924\t179\n",
      "\n",
      "***** WARNING: File signac.SC.beta.fixed_width_peaks.bed has inconsistent naming convention for record:\n",
      "chr1\t9602\t10602\tSC.beta_peak_39\t420\t.\t13.5265\t45.5113\t42.0924\t179\n",
      "\n",
      "***** WARNING: File signac.SC.beta.fixed_width_peaks.bed has inconsistent naming convention for record:\n",
      "GL000195.1\t30267\t31267\tSC.beta_peak_1\t672\t.\t9.18367\t72.5008\t67.2781\t494\n",
      "\n",
      "***** WARNING: File signac.SC.beta.fixed_width_peaks.bed has inconsistent naming convention for record:\n",
      "GL000195.1\t30267\t31267\tSC.beta_peak_1\t672\t.\t9.18367\t72.5008\t67.2781\t494\n",
      "\n",
      "***** WARNING: File signac.SC.beta.fixed_width_peaks.bed has inconsistent naming convention for record:\n",
      "chr1\t9602\t10602\tSC.beta_peak_39\t420\t.\t13.5265\t45.5113\t42.0924\t179\n",
      "\n",
      "***** WARNING: File signac.SC.beta.fixed_width_peaks.bed has inconsistent naming convention for record:\n",
      "chr1\t9602\t10602\tSC.beta_peak_39\t420\t.\t13.5265\t45.5113\t42.0924\t179\n",
      "\n",
      "***** WARNING: File signac.SC.beta.fixed_width_peaks.bed has inconsistent naming convention for record:\n",
      "GL000195.1\t30267\t31267\tSC.beta_peak_1\t672\t.\t9.18367\t72.5008\t67.2781\t494\n",
      "\n",
      "***** WARNING: File signac.SC.beta.fixed_width_peaks.bed has inconsistent naming convention for record:\n",
      "GL000195.1\t30267\t31267\tSC.beta_peak_1\t672\t.\t9.18367\t72.5008\t67.2781\t494\n",
      "\n",
      "***** WARNING: File signac.SC.beta.fixed_width_peaks.bed has inconsistent naming convention for record:\n",
      "chr1\t9602\t10602\tSC.beta_peak_39\t420\t.\t13.5265\t45.5113\t42.0924\t179\n",
      "\n",
      "***** WARNING: File signac.SC.beta.fixed_width_peaks.bed has inconsistent naming convention for record:\n",
      "chr1\t9602\t10602\tSC.beta_peak_39\t420\t.\t13.5265\t45.5113\t42.0924\t179\n",
      "\n",
      "***** WARNING: File signac.SC.beta.fixed_width_peaks.bed has inconsistent naming convention for record:\n",
      "GL000195.1\t30267\t31267\tSC.beta_peak_1\t672\t.\t9.18367\t72.5008\t67.2781\t494\n",
      "\n",
      "***** WARNING: File signac.SC.beta.fixed_width_peaks.bed has inconsistent naming convention for record:\n",
      "GL000195.1\t30267\t31267\tSC.beta_peak_1\t672\t.\t9.18367\t72.5008\t67.2781\t494\n",
      "\n",
      "***** WARNING: File signac.SC.beta.fixed_width_peaks.bed has inconsistent naming convention for record:\n",
      "chr1\t9602\t10602\tSC.beta_peak_39\t420\t.\t13.5265\t45.5113\t42.0924\t179\n",
      "\n",
      "***** WARNING: File signac.SC.beta.fixed_width_peaks.bed has inconsistent naming convention for record:\n",
      "chr1\t9602\t10602\tSC.beta_peak_39\t420\t.\t13.5265\t45.5113\t42.0924\t179\n",
      "\n",
      "***** WARNING: File signac.SC.beta.fixed_width_peaks.bed has inconsistent naming convention for record:\n",
      "GL000195.1\t30267\t31267\tSC.beta_peak_1\t672\t.\t9.18367\t72.5008\t67.2781\t494\n",
      "\n",
      "***** WARNING: File signac.SC.beta.fixed_width_peaks.bed has inconsistent naming convention for record:\n",
      "GL000195.1\t30267\t31267\tSC.beta_peak_1\t672\t.\t9.18367\t72.5008\t67.2781\t494\n",
      "\n",
      "***** WARNING: File signac.SC.beta.fixed_width_peaks.bed has inconsistent naming convention for record:\n",
      "chr1\t9602\t10602\tSC.beta_peak_39\t420\t.\t13.5265\t45.5113\t42.0924\t179\n",
      "\n",
      "***** WARNING: File signac.SC.beta.fixed_width_peaks.bed has inconsistent naming convention for record:\n",
      "chr1\t9602\t10602\tSC.beta_peak_39\t420\t.\t13.5265\t45.5113\t42.0924\t179\n",
      "\n",
      "***** WARNING: File signac.SC.beta.fixed_width_peaks.bed has inconsistent naming convention for record:\n",
      "GL000195.1\t30267\t31267\tSC.beta_peak_1\t672\t.\t9.18367\t72.5008\t67.2781\t494\n",
      "\n",
      "***** WARNING: File signac.SC.beta.fixed_width_peaks.bed has inconsistent naming convention for record:\n",
      "GL000195.1\t30267\t31267\tSC.beta_peak_1\t672\t.\t9.18367\t72.5008\t67.2781\t494\n",
      "\n",
      "***** WARNING: File signac.SC.beta.fixed_width_peaks.bed has inconsistent naming convention for record:\n",
      "chr1\t9602\t10602\tSC.beta_peak_39\t420\t.\t13.5265\t45.5113\t42.0924\t179\n",
      "\n",
      "***** WARNING: File signac.SC.beta.fixed_width_peaks.bed has inconsistent naming convention for record:\n",
      "chr1\t9602\t10602\tSC.beta_peak_39\t420\t.\t13.5265\t45.5113\t42.0924\t179\n",
      "\n",
      "***** WARNING: File signac.SC.beta.fixed_width_peaks.bed has inconsistent naming convention for record:\n",
      "GL000195.1\t30267\t31267\tSC.beta_peak_1\t672\t.\t9.18367\t72.5008\t67.2781\t494\n",
      "\n",
      "***** WARNING: File signac.SC.beta.fixed_width_peaks.bed has inconsistent naming convention for record:\n",
      "GL000195.1\t30267\t31267\tSC.beta_peak_1\t672\t.\t9.18367\t72.5008\t67.2781\t494\n",
      "\n"
     ]
    }
   ],
   "source": [
    "venn2_mpl(fixed_width_peaks1, fixed_width_peaks2, outfn=\"fixed_width_SC.beta_filt_no_replicate_snapatac2_archr.png\", labels=[\"SnapATAC2 (non-reproducible)\", \"ArchR (filtered)\"], colors=[\"#1f77b4\", \"#2ca02c\"])\n",
    "venn2_mpl(fixed_width_peaks2, fixed_width_peaks1, outfn=\"fixed_width_SC.beta_filt_no_replicate_archr_snapatac2.png\", labels=[\"ArchR (filtered)\", \"SnapATAC2 (non-reproducible)\"], colors=[\"#2ca02c\", \"#1f77b4\"])\n",
    "venn2_mpl(fixed_width_peaks2, fixed_width_peaks3, outfn=\"fixed_width_SC.beta_filt_no_replicate_archr_signac.png\", labels=[\"ArchR (filtered)\", \"Signac (filtered)\"], colors=[\"#2ca02c\", \"#d62728\"])\n",
    "venn2_mpl(fixed_width_peaks3, fixed_width_peaks2, outfn=\"fixed_width_SC.beta_filt_no_replicate_signac_archr.png\", labels=[\"Signac (filtered)\", \"ArchR (filtered)\"], colors=[\"#d62728\", \"#2ca02c\"])\n",
    "venn2_mpl(fixed_width_peaks1, fixed_width_peaks3, outfn=\"fixed_width_SC.beta_filt_no_replicate_snapatac2_signac.png\", labels=[\"SnapATAC2 (non-reproducible)\", \"Signac (filtered)\"], colors=[\"#1f77b4\", \"#d62728\"])\n",
    "venn2_mpl(fixed_width_peaks3, fixed_width_peaks1, outfn=\"fixed_width_SC.beta_filt_no_replicate_signac_snapatac2.png\", labels=[\"Signac (filtered)\", \"SnapATAC2 (non-reproducible)\"], colors=[\"#d62728\", \"#1f77b4\"])"
   ]
  },
  {
   "cell_type": "code",
   "execution_count": 152,
   "metadata": {},
   "outputs": [],
   "source": [
    "fixed_width_peaks1_tool = pybedtools.BedTool(fixed_width_peaks1)\n",
    "fixed_width_peaks2_tool = pybedtools.BedTool(fixed_width_peaks2)\n",
    "fixed_width_peaks3_tool = pybedtools.BedTool(fixed_width_peaks3)"
   ]
  },
  {
   "cell_type": "code",
   "execution_count": 153,
   "metadata": {},
   "outputs": [
    {
     "name": "stderr",
     "output_type": "stream",
     "text": [
      "***** WARNING: File signac.SC.beta.fixed_width_peaks.bed has inconsistent naming convention for record:\n",
      "chr1\t9602\t10602\tSC.beta_peak_39\t420\t.\t13.5265\t45.5113\t42.0924\t179\n",
      "\n",
      "***** WARNING: File signac.SC.beta.fixed_width_peaks.bed has inconsistent naming convention for record:\n",
      "chr1\t9602\t10602\tSC.beta_peak_39\t420\t.\t13.5265\t45.5113\t42.0924\t179\n",
      "\n",
      "***** WARNING: File signac.SC.beta.fixed_width_peaks.bed has inconsistent naming convention for record:\n",
      "chr1\t9602\t10602\tSC.beta_peak_39\t420\t.\t13.5265\t45.5113\t42.0924\t179\n",
      "\n",
      "***** WARNING: File signac.SC.beta.fixed_width_peaks.bed has inconsistent naming convention for record:\n",
      "chr1\t9602\t10602\tSC.beta_peak_39\t420\t.\t13.5265\t45.5113\t42.0924\t179\n",
      "\n",
      "***** WARNING: File signac.SC.beta.fixed_width_peaks.bed has inconsistent naming convention for record:\n",
      "chr1\t9602\t10602\tSC.beta_peak_39\t420\t.\t13.5265\t45.5113\t42.0924\t179\n",
      "\n",
      "***** WARNING: File signac.SC.beta.fixed_width_peaks.bed has inconsistent naming convention for record:\n",
      "chr1\t9602\t10602\tSC.beta_peak_39\t420\t.\t13.5265\t45.5113\t42.0924\t179\n",
      "\n",
      "***** WARNING: File signac.SC.beta.fixed_width_peaks.bed has inconsistent naming convention for record:\n",
      "chr1\t9602\t10602\tSC.beta_peak_39\t420\t.\t13.5265\t45.5113\t42.0924\t179\n",
      "\n",
      "***** WARNING: File signac.SC.beta.fixed_width_peaks.bed has inconsistent naming convention for record:\n",
      "chr1\t9602\t10602\tSC.beta_peak_39\t420\t.\t13.5265\t45.5113\t42.0924\t179\n",
      "\n"
     ]
    },
    {
     "data": {
      "text/plain": [
       "(97363, 58512, 25678, 25660, 80081)"
      ]
     },
     "execution_count": 153,
     "metadata": {},
     "output_type": "execute_result"
    }
   ],
   "source": [
    "snapatac2 = (fixed_width_peaks1_tool - fixed_width_peaks2_tool - fixed_width_peaks3_tool)\n",
    "snapatac2_archr = (fixed_width_peaks1_tool + fixed_width_peaks2_tool - fixed_width_peaks3_tool)\n",
    "snapatac2_signac = (fixed_width_peaks1_tool - fixed_width_peaks2_tool + fixed_width_peaks3_tool)\n",
    "common = (fixed_width_peaks1_tool + fixed_width_peaks2_tool + fixed_width_peaks3_tool)\n",
    "len(snapatac2), len(archr), len(snapatac2_archr), len(snapatac2_signac), len(common)"
   ]
  },
  {
   "cell_type": "code",
   "execution_count": 154,
   "metadata": {},
   "outputs": [
    {
     "data": {
      "text/plain": [
       "method\n",
       "snapatac2           97363\n",
       "common              80081\n",
       "snapatac2_archr     25678\n",
       "snapatac2_signac    25660\n",
       "dtype: int64"
      ]
     },
     "execution_count": 154,
     "metadata": {},
     "output_type": "execute_result"
    }
   ],
   "source": [
    "snapatac2_df = snapatac2.to_dataframe(names=[\"chrom\", \"start\", \"end\", \"name\", \"X\", \"XX\", \"XXX\", \"score\", \"strand\", \"signalValue\", \"pValue\", \"qValue\", \"summit\"])\n",
    "snapatac2_df[\"method\"] = \"snapatac2\"\n",
    "snapatac2_archr_df = snapatac2_archr.to_dataframe(names=[\"chrom\", \"start\", \"end\", \"name\", \"X\", \"XX\", \"XXX\", \"score\", \"strand\", \"signalValue\", \"pValue\", \"qValue\", \"summit\"])\n",
    "snapatac2_archr_df[\"method\"] = \"snapatac2_archr\"\n",
    "snapatac2_signac_df = snapatac2_signac.to_dataframe(names=[\"chrom\", \"start\", \"end\", \"name\", \"X\", \"XX\", \"XXX\", \"score\", \"strand\", \"signalValue\", \"pValue\", \"qValue\", \"summit\"])\n",
    "snapatac2_signac_df[\"method\"] = \"snapatac2_signac\"\n",
    "common_df = common.to_dataframe(names=[\"chrom\", \"start\", \"end\", \"name\", \"X\", \"XX\", \"XXX\", \"score\", \"strand\", \"signalValue\", \"pValue\", \"qValue\", \"summit\"])\n",
    "common_df[\"method\"] = \"common\"\n",
    "merged = pd.concat([snapatac2_df, snapatac2_archr_df, snapatac2_signac_df, common_df])\n",
    "merged.value_counts(\"method\")"
   ]
  },
  {
   "cell_type": "code",
   "execution_count": 155,
   "metadata": {},
   "outputs": [
    {
     "data": {
      "text/plain": [
       "Text(0.5, 1.0, 'SC.beta SnapATAC ALL peaks')"
      ]
     },
     "execution_count": 155,
     "metadata": {},
     "output_type": "execute_result"
    },
    {
     "data": {
      "image/png": "[encoded data removed]",
      "text/plain": [
       "<Figure size 640x480 with 1 Axes>"
      ]
     },
     "metadata": {},
     "output_type": "display_data"
    }
   ],
   "source": [
    "fig, ax = plt.subplots()\n",
    "sns.ecdfplot(data=merged, x=\"qValue\", hue=\"method\", log_scale=True, ax=ax, hue_order=[\"snapatac2\", \"snapatac2_archr\", \"snapatac2_signac\", \"common\"])\n",
    "ax.set_xlabel(\"SnapATAC2 -log10(q-value)\")\n",
    "ax.set_ylabel(\"CDF\")\n",
    "#legend_labels = [\"SnapATAC2 unique peaks\", \"SnapATAC2 and ArchR union peaks\", \"SnapATAC2 and Signac union peaks\", \"Common peaks\"]\n",
    "#ax.legend(legend_labels)\n",
    "ax.set_title(\"SC.beta SnapATAC ALL peaks\")"
   ]
  },
  {
   "cell_type": "code",
   "execution_count": 487,
   "metadata": {},
   "outputs": [
    {
     "name": "stderr",
     "output_type": "stream",
     "text": [
      "***** WARNING: File signac.SC.beta.fixed_width_peaks.bed has inconsistent naming convention for record:\n",
      "chr1\t9605\t10605\tSC.beta_peak_51\t442\t.\t10.8368\t47.6305\t44.2687\t174\n",
      "\n",
      "***** WARNING: File signac.SC.beta.fixed_width_peaks.bed has inconsistent naming convention for record:\n",
      "chr1\t9605\t10605\tSC.beta_peak_51\t442\t.\t10.8368\t47.6305\t44.2687\t174\n",
      "\n",
      "***** WARNING: File signac.SC.beta.fixed_width_peaks.bed has inconsistent naming convention for record:\n",
      "chr1\t9605\t10605\tSC.beta_peak_51\t442\t.\t10.8368\t47.6305\t44.2687\t174\n",
      "\n",
      "***** WARNING: File signac.SC.beta.fixed_width_peaks.bed has inconsistent naming convention for record:\n",
      "chr1\t9605\t10605\tSC.beta_peak_51\t442\t.\t10.8368\t47.6305\t44.2687\t174\n",
      "\n",
      "***** WARNING: File signac.SC.beta.fixed_width_peaks.bed has inconsistent naming convention for record:\n",
      "chr1\t9605\t10605\tSC.beta_peak_51\t442\t.\t10.8368\t47.6305\t44.2687\t174\n",
      "\n",
      "***** WARNING: File signac.SC.beta.fixed_width_peaks.bed has inconsistent naming convention for record:\n",
      "chr1\t9605\t10605\tSC.beta_peak_51\t442\t.\t10.8368\t47.6305\t44.2687\t174\n",
      "\n",
      "***** WARNING: File signac.SC.beta.fixed_width_peaks.bed has inconsistent naming convention for record:\n",
      "chr1\t9605\t10605\tSC.beta_peak_51\t442\t.\t10.8368\t47.6305\t44.2687\t174\n",
      "\n",
      "***** WARNING: File signac.SC.beta.fixed_width_peaks.bed has inconsistent naming convention for record:\n",
      "chr1\t9605\t10605\tSC.beta_peak_51\t442\t.\t10.8368\t47.6305\t44.2687\t174\n",
      "\n"
     ]
    },
    {
     "data": {
      "text/plain": [
       "(13783, 9883, 647, 52783)"
      ]
     },
     "execution_count": 487,
     "metadata": {},
     "output_type": "execute_result"
    }
   ],
   "source": [
    "archr = (fixed_width_peaks2_tool - fixed_width_peaks1_tool - fixed_width_peaks3_tool)\n",
    "archr_snapatac = (fixed_width_peaks2_tool + fixed_width_peaks1_tool - fixed_width_peaks3_tool)\n",
    "archr_signac = (fixed_width_peaks2_tool + fixed_width_peaks3_tool - fixed_width_peaks1_tool)\n",
    "common = (fixed_width_peaks2_tool + fixed_width_peaks1_tool + fixed_width_peaks3_tool)\n",
    "len(archr), len(archr_snapatac), len(archr_signac), len(common)"
   ]
  },
  {
   "cell_type": "code",
   "execution_count": 488,
   "metadata": {},
   "outputs": [
    {
     "data": {
      "text/plain": [
       "method\n",
       "common            52783\n",
       "archr             13783\n",
       "archr_snapatac     9883\n",
       "archr_signac        647\n",
       "dtype: int64"
      ]
     },
     "execution_count": 488,
     "metadata": {},
     "output_type": "execute_result"
    }
   ],
   "source": [
    "archr_df = archr.to_dataframe()\n",
    "archr_df[\"method\"] = \"archr\"\n",
    "archr_snapatac_df = archr_snapatac.to_dataframe()\n",
    "archr_snapatac_df[\"method\"] = \"archr_snapatac\"\n",
    "archr_signac_df = archr_signac.to_dataframe()\n",
    "archr_signac_df[\"method\"] = \"archr_signac\"\n",
    "common_df = common.to_dataframe()\n",
    "common_df[\"method\"] = \"common\"\n",
    "merged = pd.concat([archr_df, archr_snapatac_df, archr_signac_df, common_df])\n",
    "merged.value_counts(\"method\")"
   ]
  },
  {
   "cell_type": "code",
   "execution_count": 489,
   "metadata": {},
   "outputs": [
    {
     "data": {
      "text/plain": [
       "Text(0, 0.5, 'CDF')"
      ]
     },
     "execution_count": 489,
     "metadata": {},
     "output_type": "execute_result"
    },
    {
     "data": {
      "image/png": "[encoded data removed]",
      "text/plain": [
       "<Figure size 640x480 with 1 Axes>"
      ]
     },
     "metadata": {},
     "output_type": "display_data"
    }
   ],
   "source": [
    "fig, ax = plt.subplots()\n",
    "sns.ecdfplot(data=merged, x=\"score\", hue=\"method\", log_scale=True, ax=ax, hue_order=[\"archr\", \"archr_snapatac\", \"archr_signac\", \"common\"])\n",
    "ax.set_xlabel(\"ArchR Peak score\")\n",
    "ax.set_ylabel(\"CDF\")\n",
    "#legend_labels = [\"ArchR unique peaks\", \"ArchR and SnapATAC2 union peaks\", \"ArchR and Signac union peaks\", \"Common peaks\"]\n",
    "#ax.legend(legend_labels)"
   ]
  },
  {
   "cell_type": "code",
   "execution_count": 490,
   "metadata": {},
   "outputs": [
    {
     "name": "stderr",
     "output_type": "stream",
     "text": [
      "***** WARNING: File signac.SC.beta.fixed_width_peaks.bed has inconsistent naming convention for record:\n",
      "GL000195.1\t23671\t24671\tSC.beta_peak_1\t28\t.\t2.69122\t4.69674\t2.81977\t32\n",
      "\n",
      "***** WARNING: File signac.SC.beta.fixed_width_peaks.bed has inconsistent naming convention for record:\n",
      "GL000195.1\t23671\t24671\tSC.beta_peak_1\t28\t.\t2.69122\t4.69674\t2.81977\t32\n",
      "\n",
      "***** WARNING: File /tmp/pybedtools.40kettpw.tmp has inconsistent naming convention for record:\n",
      "GL000195.1\t23671\t24671\tSC.beta_peak_1\t28\t.\t2.69122\t4.69674\t2.81977\t32\n",
      "\n",
      "***** WARNING: File /tmp/pybedtools.40kettpw.tmp has inconsistent naming convention for record:\n",
      "GL000195.1\t23671\t24671\tSC.beta_peak_1\t28\t.\t2.69122\t4.69674\t2.81977\t32\n",
      "\n",
      "***** WARNING: File signac.SC.beta.fixed_width_peaks.bed has inconsistent naming convention for record:\n",
      "GL000195.1\t23671\t24671\tSC.beta_peak_1\t28\t.\t2.69122\t4.69674\t2.81977\t32\n",
      "\n",
      "***** WARNING: File signac.SC.beta.fixed_width_peaks.bed has inconsistent naming convention for record:\n",
      "GL000195.1\t23671\t24671\tSC.beta_peak_1\t28\t.\t2.69122\t4.69674\t2.81977\t32\n",
      "\n",
      "***** WARNING: File signac.SC.beta.fixed_width_peaks.bed has inconsistent naming convention for record:\n",
      "GL000195.1\t23671\t24671\tSC.beta_peak_1\t28\t.\t2.69122\t4.69674\t2.81977\t32\n",
      "\n",
      "***** WARNING: File signac.SC.beta.fixed_width_peaks.bed has inconsistent naming convention for record:\n",
      "GL000195.1\t23671\t24671\tSC.beta_peak_1\t28\t.\t2.69122\t4.69674\t2.81977\t32\n",
      "\n",
      "***** WARNING: File signac.SC.beta.fixed_width_peaks.bed has inconsistent naming convention for record:\n",
      "GL000195.1\t23671\t24671\tSC.beta_peak_1\t28\t.\t2.69122\t4.69674\t2.81977\t32\n",
      "\n",
      "***** WARNING: File signac.SC.beta.fixed_width_peaks.bed has inconsistent naming convention for record:\n",
      "GL000195.1\t23671\t24671\tSC.beta_peak_1\t28\t.\t2.69122\t4.69674\t2.81977\t32\n",
      "\n"
     ]
    },
    {
     "data": {
      "text/plain": [
       "(2278, 53641, 231, 46252)"
      ]
     },
     "execution_count": 490,
     "metadata": {},
     "output_type": "execute_result"
    }
   ],
   "source": [
    "signac = (fixed_width_peaks3_tool - fixed_width_peaks1_tool - fixed_width_peaks2_tool)\n",
    "signac_snapatac = (fixed_width_peaks3_tool + fixed_width_peaks1_tool - fixed_width_peaks2_tool)\n",
    "signac_archr = (fixed_width_peaks3_tool + fixed_width_peaks2_tool - fixed_width_peaks1_tool)\n",
    "common = (fixed_width_peaks3_tool + fixed_width_peaks1_tool + fixed_width_peaks2_tool)\n",
    "len(signac), len(signac_snapatac), len(signac_archr), len(common)"
   ]
  },
  {
   "cell_type": "code",
   "execution_count": 491,
   "metadata": {},
   "outputs": [
    {
     "data": {
      "text/plain": [
       "method\n",
       "signac_snapatac    53641\n",
       "common             46252\n",
       "signac              2278\n",
       "signac_archr         231\n",
       "dtype: int64"
      ]
     },
     "execution_count": 491,
     "metadata": {},
     "output_type": "execute_result"
    }
   ],
   "source": [
    "signac_df = signac.to_dataframe(names=[\"chrom\", \"start\", \"end\", \"name\", \"score\", \"strand\", \"signalValue\", \"pValue\", \"qValue\", \"summit\"])\n",
    "signac_df[\"method\"] = \"signac\"\n",
    "signac_snapatac_df = signac_snapatac.to_dataframe(names=[\"chrom\", \"start\", \"end\", \"name\", \"score\", \"strand\", \"signalValue\", \"pValue\", \"qValue\", \"summit\"])\n",
    "signac_snapatac_df[\"method\"] = \"signac_snapatac\"\n",
    "signac_archr_df = signac_archr.to_dataframe(names=[\"chrom\", \"start\", \"end\", \"name\", \"score\", \"strand\", \"signalValue\", \"pValue\", \"qValue\", \"summit\"])\n",
    "signac_archr_df[\"method\"] = \"signac_archr\"\n",
    "common_df = common.to_dataframe(names=[\"chrom\", \"start\", \"end\", \"name\", \"score\", \"strand\", \"signalValue\", \"pValue\", \"qValue\", \"summit\"])\n",
    "common_df[\"method\"] = \"common\"\n",
    "merged = pd.concat([signac_df, signac_snapatac_df, signac_archr_df, common_df])\n",
    "merged.value_counts(\"method\")"
   ]
  },
  {
   "cell_type": "code",
   "execution_count": 492,
   "metadata": {},
   "outputs": [
    {
     "data": {
      "text/plain": [
       "Text(0, 0.5, 'CDF')"
      ]
     },
     "execution_count": 492,
     "metadata": {},
     "output_type": "execute_result"
    },
    {
     "data": {
      "image/png": "[encoded data removed]",
      "text/plain": [
       "<Figure size 640x480 with 1 Axes>"
      ]
     },
     "metadata": {},
     "output_type": "display_data"
    }
   ],
   "source": [
    "fig, ax = plt.subplots()\n",
    "sns.ecdfplot(data=merged, x=\"qValue\", hue=\"method\", log_scale=True, ax=ax, hue_order=[\"signac\", \"signac_snapatac\", \"signac_archr\", \"common\"])\n",
    "ax.set_xlabel(\"Signac -log10(q-value)\")\n",
    "ax.set_ylabel(\"CDF\")\n",
    "#legend_labels = [\"Signac unique peaks\", \"Signac and SnapATAC2 union peaks\", \"Signac and ArchR union peaks\", \"Common peaks\"]\n",
    "#ax.legend(legend_labels)"
   ]
  },
  {
   "attachments": {},
   "cell_type": "markdown",
   "metadata": {},
   "source": [
    "# 1kb fixed width SC.alpha peaks (replicate first for SnapATAC2)"
   ]
  },
  {
   "cell_type": "code",
   "execution_count": 287,
   "metadata": {},
   "outputs": [],
   "source": [
    "# Peaks sets to compare\n",
    "peakset1 = \"/cellar/users/aklie/data/datasets/igvf_sc-islet_10X-Multiome/annotation/timecourse/A2_control/snapatac2/filtered/filtered_peaks/SC.alpha.filt.narrowPeak\"\n",
    "peakset2 = \"/cellar/users/aklie/data/datasets/igvf_sc-islet_10X-Multiome/annotation/timecourse/A2_control/archr/PeakCalls/SplitPeaks/SC.alpha.bed\"\n",
    "peakset3 = \"/cellar/users/aklie/data/datasets/igvf_sc-islet_10X-Multiome/annotation/timecourse/A2_control/signac/peaks/SC.alpha_peaks.narrowPeak\""
   ]
  },
  {
   "cell_type": "code",
   "execution_count": 290,
   "metadata": {},
   "outputs": [
    {
     "data": {
      "text/plain": [
       "(58431, 55697, 83694)"
      ]
     },
     "execution_count": 290,
     "metadata": {},
     "output_type": "execute_result"
    }
   ],
   "source": [
    "# Load bedtool objects\n",
    "peaks1_tool = pybedtools.BedTool(peakset1)\n",
    "peaks2_tool = pybedtools.BedTool(peakset2)\n",
    "peaks3_tool = pybedtools.BedTool(peakset3)\n",
    "len(peaks1_tool), len(peaks2_tool), len(peaks3_tool)"
   ]
  },
  {
   "cell_type": "code",
   "execution_count": 291,
   "metadata": {},
   "outputs": [
    {
     "data": {
      "text/plain": [
       "<BedTool(signac.SC.alpha.fixed_width_peaks.bed)>"
      ]
     },
     "execution_count": 291,
     "metadata": {},
     "output_type": "execute_result"
    }
   ],
   "source": [
    "fixed_width_peaks1_tool = create_fixed_width_peaks(peakset1, 1000, 12)\n",
    "fixed_width_peaks1_tool.saveas('snapatac2.filtered.SC.alpha.fixed_width_peaks.bed')\n",
    "\n",
    "fixed_width_peaks2_tool = peaks2_tool.slop(b=250, genome=\"hg38\")\n",
    "fixed_width_peaks2_tool.saveas('archr.SC.alpha.fixed_width_peaks.bed')\n",
    "\n",
    "fixed_width_peaks3_tool = create_fixed_width_peaks(peakset3, 1000, 9)\n",
    "fixed_width_peaks3_tool.saveas('signac.SC.alpha.fixed_width_peaks.bed')"
   ]
  },
  {
   "cell_type": "code",
   "execution_count": 292,
   "metadata": {},
   "outputs": [],
   "source": [
    "fixed_width_peaks1 = \"snapatac2.filtered.SC.alpha.fixed_width_peaks.bed\"\n",
    "fixed_width_peaks2 = \"archr.SC.alpha.fixed_width_peaks.bed\"\n",
    "fixed_width_peaks3 = \"signac.SC.alpha.fixed_width_peaks.bed\""
   ]
  },
  {
   "cell_type": "code",
   "execution_count": 293,
   "metadata": {},
   "outputs": [
    {
     "name": "stderr",
     "output_type": "stream",
     "text": [
      "***** WARNING: File signac.SC.alpha.fixed_width_peaks.bed has inconsistent naming convention for record:\n",
      "chr1\t9604\t10604\tSC.alpha_peak_41\t423\t.\t12.0725\t45.6643\t42.3692\t175\n",
      "\n",
      "***** WARNING: File signac.SC.alpha.fixed_width_peaks.bed has inconsistent naming convention for record:\n",
      "chr1\t9604\t10604\tSC.alpha_peak_41\t423\t.\t12.0725\t45.6643\t42.3692\t175\n",
      "\n",
      "***** WARNING: File signac.SC.alpha.fixed_width_peaks.bed has inconsistent naming convention for record:\n",
      "chr1\t9604\t10604\tSC.alpha_peak_41\t423\t.\t12.0725\t45.6643\t42.3692\t175\n",
      "\n",
      "***** WARNING: File signac.SC.alpha.fixed_width_peaks.bed has inconsistent naming convention for record:\n",
      "chr1\t9604\t10604\tSC.alpha_peak_41\t423\t.\t12.0725\t45.6643\t42.3692\t175\n",
      "\n",
      "***** WARNING: File signac.SC.alpha.fixed_width_peaks.bed has inconsistent naming convention for record:\n",
      "GL000195.1\t15857\t16857\tSC.alpha_peak_1\t62\t.\t4.1841\t8.39265\t6.25887\t132\n",
      "\n",
      "***** WARNING: File signac.SC.alpha.fixed_width_peaks.bed has inconsistent naming convention for record:\n",
      "GL000195.1\t15857\t16857\tSC.alpha_peak_1\t62\t.\t4.1841\t8.39265\t6.25887\t132\n",
      "\n",
      "***** WARNING: File /tmp/pybedtools.ahib61b1.tmp has inconsistent naming convention for record:\n",
      "GL000195.1\t15857\t16857\tSC.alpha_peak_1\t62\t.\t4.1841\t8.39265\t6.25887\t132\n",
      "\n",
      "***** WARNING: File /tmp/pybedtools.ahib61b1.tmp has inconsistent naming convention for record:\n",
      "GL000195.1\t15857\t16857\tSC.alpha_peak_1\t62\t.\t4.1841\t8.39265\t6.25887\t132\n",
      "\n",
      "***** WARNING: File signac.SC.alpha.fixed_width_peaks.bed has inconsistent naming convention for record:\n",
      "chr1\t9604\t10604\tSC.alpha_peak_41\t423\t.\t12.0725\t45.6643\t42.3692\t175\n",
      "\n",
      "***** WARNING: File signac.SC.alpha.fixed_width_peaks.bed has inconsistent naming convention for record:\n",
      "chr1\t9604\t10604\tSC.alpha_peak_41\t423\t.\t12.0725\t45.6643\t42.3692\t175\n",
      "\n",
      "***** WARNING: File signac.SC.alpha.fixed_width_peaks.bed has inconsistent naming convention for record:\n",
      "chr1\t9604\t10604\tSC.alpha_peak_41\t423\t.\t12.0725\t45.6643\t42.3692\t175\n",
      "\n",
      "***** WARNING: File signac.SC.alpha.fixed_width_peaks.bed has inconsistent naming convention for record:\n",
      "chr1\t9604\t10604\tSC.alpha_peak_41\t423\t.\t12.0725\t45.6643\t42.3692\t175\n",
      "\n",
      "***** WARNING: File signac.SC.alpha.fixed_width_peaks.bed has inconsistent naming convention for record:\n",
      "chr1\t9604\t10604\tSC.alpha_peak_41\t423\t.\t12.0725\t45.6643\t42.3692\t175\n",
      "\n",
      "***** WARNING: File signac.SC.alpha.fixed_width_peaks.bed has inconsistent naming convention for record:\n",
      "chr1\t9604\t10604\tSC.alpha_peak_41\t423\t.\t12.0725\t45.6643\t42.3692\t175\n",
      "\n",
      "***** WARNING: File signac.SC.alpha.fixed_width_peaks.bed has inconsistent naming convention for record:\n",
      "chr1\t9604\t10604\tSC.alpha_peak_41\t423\t.\t12.0725\t45.6643\t42.3692\t175\n",
      "\n",
      "***** WARNING: File signac.SC.alpha.fixed_width_peaks.bed has inconsistent naming convention for record:\n",
      "chr1\t9604\t10604\tSC.alpha_peak_41\t423\t.\t12.0725\t45.6643\t42.3692\t175\n",
      "\n"
     ]
    }
   ],
   "source": [
    "venn_mpl(fixed_width_peaks1, fixed_width_peaks2, fixed_width_peaks3, outfn=\"fixed_width_SC.alpha.png\", labels=[\"SnapATAC2 (reproducible)\", \"ArchR\", \"Signac\"])"
   ]
  },
  {
   "attachments": {},
   "cell_type": "markdown",
   "metadata": {},
   "source": [
    "# 1kb fixed width SC.alpha peaks (no first for SnapATAC2)"
   ]
  },
  {
   "cell_type": "code",
   "execution_count": 294,
   "metadata": {},
   "outputs": [],
   "source": [
    "# Peaks sets to compare\n",
    "peakset1 = \"/cellar/users/aklie/data/datasets/igvf_sc-islet_10X-Multiome/annotation/timecourse/A2_control/snapatac2/filtered_no_replicate/filtered_peaks/SC.alpha.filt.narrowPeak\"\n",
    "peakset2 = \"/cellar/users/aklie/data/datasets/igvf_sc-islet_10X-Multiome/annotation/timecourse/A2_control/archr/PeakCalls/SplitPeaks/SC.alpha.bed\"\n",
    "peakset3 = \"/cellar/users/aklie/data/datasets/igvf_sc-islet_10X-Multiome/annotation/timecourse/A2_control/signac/peaks/SC.alpha_peaks.narrowPeak\""
   ]
  },
  {
   "cell_type": "code",
   "execution_count": 295,
   "metadata": {},
   "outputs": [
    {
     "data": {
      "text/plain": [
       "(194609, 55697, 83694)"
      ]
     },
     "execution_count": 295,
     "metadata": {},
     "output_type": "execute_result"
    }
   ],
   "source": [
    "# Load bedtool objects\n",
    "peaks1_tool = pybedtools.BedTool(peakset1)\n",
    "peaks2_tool = pybedtools.BedTool(peakset2)\n",
    "peaks3_tool = pybedtools.BedTool(peakset3)\n",
    "len(peaks1_tool), len(peaks2_tool), len(peaks3_tool)"
   ]
  },
  {
   "cell_type": "code",
   "execution_count": 296,
   "metadata": {},
   "outputs": [
    {
     "name": "stdout",
     "output_type": "stream",
     "text": [
      "Summit position is 18446744073907337450, setting summit to middle of the peak.\n",
      "Summit position is 18446744073735627656, setting summit to middle of the peak.\n",
      "Summit position is 18446744073826957415, setting summit to middle of the peak.\n",
      "Summit position is 18446744073838838617, setting summit to middle of the peak.\n",
      "Summit position is 18446744073840404379, setting summit to middle of the peak.\n",
      "Summit position is 18446744073750544779, setting summit to middle of the peak.\n",
      "Summit position is 18446744073828971421, setting summit to middle of the peak.\n"
     ]
    },
    {
     "data": {
      "text/plain": [
       "<BedTool(signac.SC.alpha.fixed_width_peaks.bed)>"
      ]
     },
     "execution_count": 296,
     "metadata": {},
     "output_type": "execute_result"
    }
   ],
   "source": [
    "fixed_width_peaks1_tool = create_fixed_width_peaks(peakset1, 1000, 12)\n",
    "fixed_width_peaks1_tool.saveas('snapatac2.filtered_no_replicate.SC.alpha.fixed_width_peaks.bed')\n",
    "\n",
    "fixed_width_peaks2_tool = peaks2_tool.slop(b=250, genome=\"hg38\")\n",
    "fixed_width_peaks2_tool.saveas('archr.SC.alpha.fixed_width_peaks.bed')\n",
    "\n",
    "fixed_width_peaks3_tool = create_fixed_width_peaks(peakset3, 1000, 9)\n",
    "fixed_width_peaks3_tool.saveas('signac.SC.alpha.fixed_width_peaks.bed')"
   ]
  },
  {
   "cell_type": "code",
   "execution_count": 297,
   "metadata": {},
   "outputs": [],
   "source": [
    "fixed_width_peaks1 = \"snapatac2.filtered_no_replicate.SC.alpha.fixed_width_peaks.bed\"\n",
    "fixed_width_peaks2 = \"archr.SC.alpha.fixed_width_peaks.bed\"\n",
    "fixed_width_peaks3 = \"signac.SC.alpha.fixed_width_peaks.bed\""
   ]
  },
  {
   "cell_type": "code",
   "execution_count": 298,
   "metadata": {},
   "outputs": [
    {
     "name": "stderr",
     "output_type": "stream",
     "text": [
      "***** WARNING: File signac.SC.alpha.fixed_width_peaks.bed has inconsistent naming convention for record:\n",
      "chr1\t9604\t10604\tSC.alpha_peak_41\t423\t.\t12.0725\t45.6643\t42.3692\t175\n",
      "\n",
      "***** WARNING: File signac.SC.alpha.fixed_width_peaks.bed has inconsistent naming convention for record:\n",
      "chr1\t9604\t10604\tSC.alpha_peak_41\t423\t.\t12.0725\t45.6643\t42.3692\t175\n",
      "\n",
      "***** WARNING: File signac.SC.alpha.fixed_width_peaks.bed has inconsistent naming convention for record:\n",
      "chr1\t9604\t10604\tSC.alpha_peak_41\t423\t.\t12.0725\t45.6643\t42.3692\t175\n",
      "\n",
      "***** WARNING: File signac.SC.alpha.fixed_width_peaks.bed has inconsistent naming convention for record:\n",
      "chr1\t9604\t10604\tSC.alpha_peak_41\t423\t.\t12.0725\t45.6643\t42.3692\t175\n",
      "\n",
      "***** WARNING: File signac.SC.alpha.fixed_width_peaks.bed has inconsistent naming convention for record:\n",
      "GL000195.1\t15857\t16857\tSC.alpha_peak_1\t62\t.\t4.1841\t8.39265\t6.25887\t132\n",
      "\n",
      "***** WARNING: File signac.SC.alpha.fixed_width_peaks.bed has inconsistent naming convention for record:\n",
      "GL000195.1\t15857\t16857\tSC.alpha_peak_1\t62\t.\t4.1841\t8.39265\t6.25887\t132\n",
      "\n",
      "***** WARNING: File /tmp/pybedtools.ayf7ecmu.tmp has inconsistent naming convention for record:\n",
      "GL000195.1\t15857\t16857\tSC.alpha_peak_1\t62\t.\t4.1841\t8.39265\t6.25887\t132\n",
      "\n",
      "***** WARNING: File /tmp/pybedtools.ayf7ecmu.tmp has inconsistent naming convention for record:\n",
      "GL000195.1\t15857\t16857\tSC.alpha_peak_1\t62\t.\t4.1841\t8.39265\t6.25887\t132\n",
      "\n",
      "***** WARNING: File signac.SC.alpha.fixed_width_peaks.bed has inconsistent naming convention for record:\n",
      "chr1\t9604\t10604\tSC.alpha_peak_41\t423\t.\t12.0725\t45.6643\t42.3692\t175\n",
      "\n",
      "***** WARNING: File signac.SC.alpha.fixed_width_peaks.bed has inconsistent naming convention for record:\n",
      "chr1\t9604\t10604\tSC.alpha_peak_41\t423\t.\t12.0725\t45.6643\t42.3692\t175\n",
      "\n",
      "***** WARNING: File signac.SC.alpha.fixed_width_peaks.bed has inconsistent naming convention for record:\n",
      "chr1\t9604\t10604\tSC.alpha_peak_41\t423\t.\t12.0725\t45.6643\t42.3692\t175\n",
      "\n",
      "***** WARNING: File signac.SC.alpha.fixed_width_peaks.bed has inconsistent naming convention for record:\n",
      "chr1\t9604\t10604\tSC.alpha_peak_41\t423\t.\t12.0725\t45.6643\t42.3692\t175\n",
      "\n",
      "***** WARNING: File signac.SC.alpha.fixed_width_peaks.bed has inconsistent naming convention for record:\n",
      "chr1\t9604\t10604\tSC.alpha_peak_41\t423\t.\t12.0725\t45.6643\t42.3692\t175\n",
      "\n",
      "***** WARNING: File signac.SC.alpha.fixed_width_peaks.bed has inconsistent naming convention for record:\n",
      "chr1\t9604\t10604\tSC.alpha_peak_41\t423\t.\t12.0725\t45.6643\t42.3692\t175\n",
      "\n",
      "***** WARNING: File signac.SC.alpha.fixed_width_peaks.bed has inconsistent naming convention for record:\n",
      "chr1\t9604\t10604\tSC.alpha_peak_41\t423\t.\t12.0725\t45.6643\t42.3692\t175\n",
      "\n",
      "***** WARNING: File signac.SC.alpha.fixed_width_peaks.bed has inconsistent naming convention for record:\n",
      "chr1\t9604\t10604\tSC.alpha_peak_41\t423\t.\t12.0725\t45.6643\t42.3692\t175\n",
      "\n"
     ]
    }
   ],
   "source": [
    "venn_mpl(fixed_width_peaks1, fixed_width_peaks2, fixed_width_peaks3, outfn=\"fixed_width_SC.alpha_no_replicate.png\", labels=[\"SnapATAC2\", \"ArchR\", \"Signac\"])"
   ]
  },
  {
   "attachments": {},
   "cell_type": "markdown",
   "metadata": {},
   "source": [
    "# Scratch"
   ]
  },
  {
   "cell_type": "code",
   "execution_count": 35,
   "metadata": {},
   "outputs": [],
   "source": [
    "from six.moves import urllib\n",
    "import base64\n",
    "def venn_gchart(a, b, c=None, colors=None, labels=None, size=\"300x300\"):\n",
    "    \"\"\"\n",
    "    a, b, and c are filenames to BED-like files.\n",
    "\n",
    "    *colors* is a list of 3 hex colors\n",
    "\n",
    "    *labels* is a list of 3 labels\n",
    "\n",
    "    *outfn* is the output PNG you want to create.\n",
    "\n",
    "    *size* is the size in pixels for the PNG\n",
    "    \"\"\"\n",
    "    a = pybedtools.BedTool(a)\n",
    "    b = pybedtools.BedTool(b)\n",
    "    if c:\n",
    "        c = pybedtools.BedTool(c)\n",
    "\n",
    "    # The order of values is meaningful to the API, see\n",
    "    # http://code.google.com/apis/chart/docs/gallery/venn_charts.html\n",
    "    if c:\n",
    "        vals = [\n",
    "            len(a),\n",
    "            len(b),\n",
    "            len(c),\n",
    "            len(a + b),\n",
    "            len(a + c),\n",
    "            len(b + c),\n",
    "            len(a + b + c),\n",
    "        ]\n",
    "    else:\n",
    "        # insert 0 for size of 3rd circle.\n",
    "        vals = [len(a), len(b), 0, len(a + b)]\n",
    "        labels = labels[:2]\n",
    "    # API doesn't seem to like large numbers, so get fractions instead, then\n",
    "    # join make a comma-separated list of values.\n",
    "    mx = float(max(vals))\n",
    "    vals = [round(i / mx, 4) for i in vals]\n",
    "    valstr = \",\".join(map(str, vals))\n",
    "\n",
    "    data = {\"cht\": \"v\", \"chs\": size, \"chd\": \"t:\" + valstr}\n",
    "\n",
    "    # Add the optional data, if specified\n",
    "    if labels:\n",
    "        data[\"chdl\"] = \"|\".join(labels)\n",
    "    if colors:\n",
    "        data[\"chco\"] = \",\".join(colors)\n",
    "    return data\n",
    "\n",
    "\n",
    "def gchart(data, outfn=\"out.png\"):\n",
    "    \"\"\"\n",
    "    Sends data to Google Chart API\n",
    "    \"\"\"\n",
    "    data = urllib.parse.urlencode(data)\n",
    "    binary_data = data.encode(\"UTF-8\")\n",
    "\n",
    "    url = \"https://chart.googleapis.com/chart?\"\n",
    "\n",
    "    # Request and get the PNG\n",
    "    req = urllib.request.Request(url, binary_data)\n",
    "    print(url + data)\n",
    "    response = urllib.request.urlopen(req)\n",
    "    f = open(outfn, \"w\")\n",
    "    response = base64.b64decode(response.read())\n",
    "\n",
    "    f.write(response)\n",
    "    f.close()"
   ]
  },
  {
   "cell_type": "code",
   "execution_count": 36,
   "metadata": {},
   "outputs": [
    {
     "name": "stdout",
     "output_type": "stream",
     "text": [
      "https://chart.googleapis.com/chart?cht=v&chs=300x300&chd=t%3A1.0%2C0.3021%2C0.555%2C0.3031%2C0.3868%2C0.2667%2C0.2673&chdl=SnapATAC2%7CSnapATAC2+%28reproducible%29%7CArchR\n",
      "b\"<\\xd1\\x88\\x1c4[(`\\xc8\\x0c\\x04\\xf1\\xc5?\\xd9\\x90F\\xfe\\x125{\\xb9\\xc81\\xbdr]\\x9c\\x12\\xb9\\xcb7)\\x17t\\x01\\x1e\\x00A\\xf2\\x91w@\\x11\\xe0\\x04\\x1f)\\x17t\\x01\\x1e\\x00A\\xf2\\x91w@\\x11\\xe0\\x04\\x1f)\\x17t\\x01\\x1e\\x00A\\xf2\\x91w@\\x11\\xe0\\x04\\x1f)\\x17t\\x01\\x1e\\x00A\\xf2\\x91w@\\x11\\xe0\\x04\\x1f)\\x17t\\x01\\x1e\\x00A\\xf2\\x91w@\\x11\\xe0\\x04\\x1f)\\x17t\\x01\\x1e\\x00A\\xf2\\x91w\\x7f\\xcc\\xee\\xb6\\xde\\xc00[k\\x05\\xa8\\xb2\\x1e\\x1dy\\xd0\\xe2Gb\\xdbC\\xf4\\xf2\\x0b\\xd8<N`\\xed\\xb2\\x04\\xa2\\xf638\\r&\\xc1%E\\xde\\xbbj`\\xe7\\xb0]\\xbc(F\\x90X\\xbd\\x82\\xf0\\xa1\\x17,\\x18f\\x83\\x97\\xb0\\xcb\\xeaa\\x8c\\x1a\\xad\\xc2\\xe5\\x12\\x18\\xd7\\xb2\\xcdY\\xd0\\xfe\\x03\\x9b\\xae\\xed\\xa4*h'\\xff\\xc9\\xaf\\xcf\\xb0\\rK\\x8ej\\xb2\\x98\\xf6)^W\\x9a\\xff\\xe7\\xe8\\xeed\\x04&\\xe6B\\xe6\\xc7\\xd8\\xbem\\xbc\\xda\\xf1\\x9a\\xd2R\\x9f\\x10\\x13\\xe2:eo\\xa08\\xa0\\xe2\\xd8i\\x95\\x0b\\xe6\\xe5)\\xb0p?\\t\\xa4ns\\xfc\\xac\\x92\\xf1*\\xa4\\x8eA\\x1aHG\\xc7\\xba\"\n"
     ]
    },
    {
     "ename": "TypeError",
     "evalue": "write() argument must be str, not bytes",
     "output_type": "error",
     "traceback": [
      "\u001b[0;31m---------------------------------------------------------------------------\u001b[0m",
      "\u001b[0;31mTypeError\u001b[0m                                 Traceback (most recent call last)",
      "Cell \u001b[0;32mIn[36], line 7\u001b[0m\n\u001b[1;32m      1\u001b[0m data \u001b[39m=\u001b[39m venn_gchart(\n\u001b[1;32m      2\u001b[0m     a\u001b[39m=\u001b[39mpeakset1,\n\u001b[1;32m      3\u001b[0m     b\u001b[39m=\u001b[39mpeakset2,\n\u001b[1;32m      4\u001b[0m     c\u001b[39m=\u001b[39mpeakset3,\n\u001b[1;32m      5\u001b[0m     labels\u001b[39m=\u001b[39m[\u001b[39m\"\u001b[39m\u001b[39mSnapATAC2\u001b[39m\u001b[39m\"\u001b[39m, \u001b[39m\"\u001b[39m\u001b[39mSnapATAC2 (reproducible)\u001b[39m\u001b[39m\"\u001b[39m, \u001b[39m\"\u001b[39m\u001b[39mArchR\u001b[39m\u001b[39m\"\u001b[39m],\n\u001b[1;32m      6\u001b[0m )\n\u001b[0;32m----> 7\u001b[0m gchart(data, outfn\u001b[39m=\u001b[39;49m\u001b[39m\"\u001b[39;49m\u001b[39m/cellar/users/aklie/data/datasets/igvf_sc-islet_10X-Multiome/annotation/timecourse/A2_control/fig/test_venn_gchart.png\u001b[39;49m\u001b[39m\"\u001b[39;49m)\n",
      "Cell \u001b[0;32mIn[35], line 68\u001b[0m, in \u001b[0;36mgchart\u001b[0;34m(data, outfn)\u001b[0m\n\u001b[1;32m     66\u001b[0m response \u001b[39m=\u001b[39m base64\u001b[39m.\u001b[39mb64decode(response\u001b[39m.\u001b[39mread())\n\u001b[1;32m     67\u001b[0m \u001b[39mprint\u001b[39m(response)\n\u001b[0;32m---> 68\u001b[0m f\u001b[39m.\u001b[39;49mwrite(response)\n\u001b[1;32m     69\u001b[0m f\u001b[39m.\u001b[39mclose()\n",
      "\u001b[0;31mTypeError\u001b[0m: write() argument must be str, not bytes"
     ]
    }
   ],
   "source": [
    "data = venn_gchart(\n",
    "    a=peakset1,\n",
    "    b=peakset2,\n",
    "    c=peakset3,\n",
    "    labels=[\"SnapATAC2\", \"SnapATAC2 (reproducible)\", \"ArchR\"],\n",
    ")\n",
    "gchart(data, outfn=\"/cellar/users/aklie/data/datasets/igvf_sc-islet_10X-Multiome/annotation/timecourse/A2_control/fig/test_venn_gchart.png\")"
   ]
  },
  {
   "cell_type": "code",
   "execution_count": 58,
   "metadata": {},
   "outputs": [
    {
     "name": "stdout",
     "output_type": "stream",
     "text": [
      "chr1\t9863\t10364\n",
      " chr1\t17263\t17764\n",
      " chr1\t29129\t29630\n",
      " chr1\t91247\t91748\n",
      " chr1\t134960\t135461\n",
      " chr1\t181197\t181698\n",
      " chr1\t180595\t181096\n",
      " chr1\t186773\t187274\n",
      " chr1\t191220\t191721\n",
      " chr1\t267754\t268255\n",
      " "
     ]
    }
   ],
   "source": [
    "peaks1_tool.head()"
   ]
  },
  {
   "cell_type": "code",
   "execution_count": 60,
   "metadata": {},
   "outputs": [
    {
     "name": "stdout",
     "output_type": "stream",
     "text": [
      "chr1\t804701\t805202\tSC.alpha\t16.5771\t.\n",
      " chr1\t818502\t819003\tSC.beta\t3.69781\t.\n",
      " chr1\t819660\t820161\tSC.beta\t3.23627\t.\n",
      " chr1\t821030\t821531\tSC.beta\t3.23627\t.\n",
      " chr1\t822053\t822554\tSC.EC\t2.67103\t.\n",
      " chr1\t826489\t826990\tSC.beta\t7.01473\t.\n",
      " chr1\t827295\t827796\tSC.beta\t247.37\t.\n",
      " chr1\t830671\t831172\tSC.alpha\t11.9789\t.\n",
      " chr1\t832048\t832549\tSC.beta\t13.4173\t.\n",
      " chr1\t850297\t850798\tSC.alpha\t4.78467\t.\n",
      " "
     ]
    }
   ],
   "source": [
    "peaks3_tool.head()"
   ]
  },
  {
   "cell_type": "code",
   "execution_count": 79,
   "metadata": {},
   "outputs": [
    {
     "name": "stderr",
     "output_type": "stream",
     "text": [
      "***** WARNING: File /cellar/users/aklie/data/datasets/igvf_sc-islet_10X-Multiome/annotation/timecourse/A2_control/signac/peaks/SC.beta_peaks.narrowPeak has inconsistent naming convention for record:\n",
      "GL000195.1\t24139\t24362\tSC.beta_peak_1\t28\t.\t2.69122\t4.69674\t2.81977\t32\n",
      "\n",
      "***** WARNING: File /cellar/users/aklie/data/datasets/igvf_sc-islet_10X-Multiome/annotation/timecourse/A2_control/signac/peaks/SC.beta_peaks.narrowPeak has inconsistent naming convention for record:\n",
      "GL000195.1\t24139\t24362\tSC.beta_peak_1\t28\t.\t2.69122\t4.69674\t2.81977\t32\n",
      "\n"
     ]
    },
    {
     "data": {
      "text/plain": [
       "98804"
      ]
     },
     "execution_count": 79,
     "metadata": {},
     "output_type": "execute_result"
    }
   ],
   "source": [
    "a_with_b = peaks4_tool.intersect(peaks1_tool, u=True)\n",
    "len(a_with_b)"
   ]
  },
  {
   "cell_type": "code",
   "execution_count": 50,
   "metadata": {},
   "outputs": [
    {
     "data": {
      "text/plain": [
       "<BedTool(/tmp/pybedtools.wuak00w0.tmp)>"
      ]
     },
     "execution_count": 50,
     "metadata": {},
     "output_type": "execute_result"
    }
   ],
   "source": [
    "a_with_b."
   ]
  },
  {
   "cell_type": "code",
   "execution_count": 56,
   "metadata": {},
   "outputs": [
    {
     "data": {
      "text/plain": [
       "99020"
      ]
     },
     "execution_count": 56,
     "metadata": {},
     "output_type": "execute_result"
    }
   ],
   "source": [
    "len(peaks2_tool)"
   ]
  },
  {
   "cell_type": "code",
   "execution_count": 89,
   "metadata": {},
   "outputs": [],
   "source": [
    "import pickle"
   ]
  },
  {
   "cell_type": "code",
   "execution_count": 118,
   "metadata": {},
   "outputs": [],
   "source": [
    "cistopic_path = \"/cellar/users/aklie/data/datasets/igvf_sc-islet_10X-Multiome/annotation/timecourse/A2_control/pycistopic/archr/A2_control_archr_peakset.pkl\""
   ]
  },
  {
   "cell_type": "code",
   "execution_count": 119,
   "metadata": {},
   "outputs": [],
   "source": [
    "with open(cistopic_path, \"rb\") as f:\n",
    "    cistopic = pickle.load(f)"
   ]
  },
  {
   "cell_type": "code",
   "execution_count": 122,
   "metadata": {},
   "outputs": [
    {
     "data": {
      "text/plain": [
       "(181926, 11054)"
      ]
     },
     "execution_count": 122,
     "metadata": {},
     "output_type": "execute_result"
    }
   ],
   "source": [
    "cistopic.binary_matrix.shape"
   ]
  },
  {
   "cell_type": "code",
   "execution_count": 121,
   "metadata": {},
   "outputs": [
    {
     "data": {
      "text/html": [
       "<div>\n",
       "<style scoped>\n",
       "    .dataframe tbody tr th:only-of-type {\n",
       "        vertical-align: middle;\n",
       "    }\n",
       "\n",
       "    .dataframe tbody tr th {\n",
       "        vertical-align: top;\n",
       "    }\n",
       "\n",
       "    .dataframe thead th {\n",
       "        text-align: right;\n",
       "    }\n",
       "</style>\n",
       "<table border=\"1\" class=\"dataframe\">\n",
       "  <thead>\n",
       "    <tr style=\"text-align: right;\">\n",
       "      <th></th>\n",
       "      <th>Chromosome</th>\n",
       "      <th>Start</th>\n",
       "      <th>End</th>\n",
       "      <th>Width</th>\n",
       "      <th>cisTopic_nr_frag</th>\n",
       "      <th>cisTopic_log_nr_frag</th>\n",
       "      <th>cisTopic_nr_acc</th>\n",
       "      <th>cisTopic_log_nr_acc</th>\n",
       "    </tr>\n",
       "  </thead>\n",
       "  <tbody>\n",
       "    <tr>\n",
       "      <th>chr1:804702-805202</th>\n",
       "      <td>chr1</td>\n",
       "      <td>804702</td>\n",
       "      <td>805202</td>\n",
       "      <td>500</td>\n",
       "      <td>361</td>\n",
       "      <td>2.557507</td>\n",
       "      <td>219</td>\n",
       "      <td>2.340444</td>\n",
       "    </tr>\n",
       "    <tr>\n",
       "      <th>chr1:818503-819003</th>\n",
       "      <td>chr1</td>\n",
       "      <td>818503</td>\n",
       "      <td>819003</td>\n",
       "      <td>500</td>\n",
       "      <td>142</td>\n",
       "      <td>2.152288</td>\n",
       "      <td>98</td>\n",
       "      <td>1.991226</td>\n",
       "    </tr>\n",
       "    <tr>\n",
       "      <th>chr1:819661-820161</th>\n",
       "      <td>chr1</td>\n",
       "      <td>819661</td>\n",
       "      <td>820161</td>\n",
       "      <td>500</td>\n",
       "      <td>198</td>\n",
       "      <td>2.296665</td>\n",
       "      <td>135</td>\n",
       "      <td>2.130334</td>\n",
       "    </tr>\n",
       "    <tr>\n",
       "      <th>chr1:821031-821531</th>\n",
       "      <td>chr1</td>\n",
       "      <td>821031</td>\n",
       "      <td>821531</td>\n",
       "      <td>500</td>\n",
       "      <td>242</td>\n",
       "      <td>2.383815</td>\n",
       "      <td>171</td>\n",
       "      <td>2.232996</td>\n",
       "    </tr>\n",
       "    <tr>\n",
       "      <th>chr1:822054-822554</th>\n",
       "      <td>chr1</td>\n",
       "      <td>822054</td>\n",
       "      <td>822554</td>\n",
       "      <td>500</td>\n",
       "      <td>221</td>\n",
       "      <td>2.344392</td>\n",
       "      <td>162</td>\n",
       "      <td>2.209515</td>\n",
       "    </tr>\n",
       "    <tr>\n",
       "      <th>...</th>\n",
       "      <td>...</td>\n",
       "      <td>...</td>\n",
       "      <td>...</td>\n",
       "      <td>...</td>\n",
       "      <td>...</td>\n",
       "      <td>...</td>\n",
       "      <td>...</td>\n",
       "      <td>...</td>\n",
       "    </tr>\n",
       "    <tr>\n",
       "      <th>chrX:155767249-155767749</th>\n",
       "      <td>chrX</td>\n",
       "      <td>155767249</td>\n",
       "      <td>155767749</td>\n",
       "      <td>500</td>\n",
       "      <td>310</td>\n",
       "      <td>2.491362</td>\n",
       "      <td>184</td>\n",
       "      <td>2.264818</td>\n",
       "    </tr>\n",
       "    <tr>\n",
       "      <th>chrX:155820080-155820580</th>\n",
       "      <td>chrX</td>\n",
       "      <td>155820080</td>\n",
       "      <td>155820580</td>\n",
       "      <td>500</td>\n",
       "      <td>462</td>\n",
       "      <td>2.664642</td>\n",
       "      <td>264</td>\n",
       "      <td>2.421604</td>\n",
       "    </tr>\n",
       "    <tr>\n",
       "      <th>chrX:155880505-155881005</th>\n",
       "      <td>chrX</td>\n",
       "      <td>155880505</td>\n",
       "      <td>155881005</td>\n",
       "      <td>500</td>\n",
       "      <td>367</td>\n",
       "      <td>2.564666</td>\n",
       "      <td>273</td>\n",
       "      <td>2.436163</td>\n",
       "    </tr>\n",
       "    <tr>\n",
       "      <th>chrX:155881015-155881515</th>\n",
       "      <td>chrX</td>\n",
       "      <td>155881015</td>\n",
       "      <td>155881515</td>\n",
       "      <td>500</td>\n",
       "      <td>2627</td>\n",
       "      <td>3.419460</td>\n",
       "      <td>1373</td>\n",
       "      <td>3.137671</td>\n",
       "    </tr>\n",
       "    <tr>\n",
       "      <th>chrX:155966831-155967331</th>\n",
       "      <td>chrX</td>\n",
       "      <td>155966831</td>\n",
       "      <td>155967331</td>\n",
       "      <td>500</td>\n",
       "      <td>267</td>\n",
       "      <td>2.426511</td>\n",
       "      <td>149</td>\n",
       "      <td>2.173186</td>\n",
       "    </tr>\n",
       "  </tbody>\n",
       "</table>\n",
       "<p>181926 rows × 8 columns</p>\n",
       "</div>"
      ],
      "text/plain": [
       "                         Chromosome      Start        End  Width  \\\n",
       "chr1:804702-805202             chr1     804702     805202    500   \n",
       "chr1:818503-819003             chr1     818503     819003    500   \n",
       "chr1:819661-820161             chr1     819661     820161    500   \n",
       "chr1:821031-821531             chr1     821031     821531    500   \n",
       "chr1:822054-822554             chr1     822054     822554    500   \n",
       "...                             ...        ...        ...    ...   \n",
       "chrX:155767249-155767749       chrX  155767249  155767749    500   \n",
       "chrX:155820080-155820580       chrX  155820080  155820580    500   \n",
       "chrX:155880505-155881005       chrX  155880505  155881005    500   \n",
       "chrX:155881015-155881515       chrX  155881015  155881515    500   \n",
       "chrX:155966831-155967331       chrX  155966831  155967331    500   \n",
       "\n",
       "                          cisTopic_nr_frag  cisTopic_log_nr_frag  \\\n",
       "chr1:804702-805202                     361              2.557507   \n",
       "chr1:818503-819003                     142              2.152288   \n",
       "chr1:819661-820161                     198              2.296665   \n",
       "chr1:821031-821531                     242              2.383815   \n",
       "chr1:822054-822554                     221              2.344392   \n",
       "...                                    ...                   ...   \n",
       "chrX:155767249-155767749               310              2.491362   \n",
       "chrX:155820080-155820580               462              2.664642   \n",
       "chrX:155880505-155881005               367              2.564666   \n",
       "chrX:155881015-155881515              2627              3.419460   \n",
       "chrX:155966831-155967331               267              2.426511   \n",
       "\n",
       "                          cisTopic_nr_acc  cisTopic_log_nr_acc  \n",
       "chr1:804702-805202                    219             2.340444  \n",
       "chr1:818503-819003                     98             1.991226  \n",
       "chr1:819661-820161                    135             2.130334  \n",
       "chr1:821031-821531                    171             2.232996  \n",
       "chr1:822054-822554                    162             2.209515  \n",
       "...                                   ...                  ...  \n",
       "chrX:155767249-155767749              184             2.264818  \n",
       "chrX:155820080-155820580              264             2.421604  \n",
       "chrX:155880505-155881005              273             2.436163  \n",
       "chrX:155881015-155881515             1373             3.137671  \n",
       "chrX:155966831-155967331              149             2.173186  \n",
       "\n",
       "[181926 rows x 8 columns]"
      ]
     },
     "execution_count": 121,
     "metadata": {},
     "output_type": "execute_result"
    }
   ],
   "source": [
    "cistopic.region_data"
   ]
  },
  {
   "cell_type": "code",
   "execution_count": 4,
   "metadata": {},
   "outputs": [],
   "source": [
    "todo = pd.read_csv(\"/cellar/users/aklie/data/datasets/igvf_sc-islet_10X-Multiome/annotation/timecourse/A2_control/filtered_signac/matrix/features copy.tsv\", header=None)"
   ]
  },
  {
   "cell_type": "code",
   "execution_count": 6,
   "metadata": {},
   "outputs": [],
   "source": [
    "# split by \"-\" into chr, start, end\n",
    "todo = todo[0].str.split(\"-\", expand=True)"
   ]
  },
  {
   "cell_type": "code",
   "execution_count": 7,
   "metadata": {},
   "outputs": [],
   "source": [
    "# Save as consensus_peaks.bed\n",
    "todo.to_csv(\"/cellar/users/aklie/data/datasets/igvf_sc-islet_10X-Multiome/annotation/timecourse/A2_control/filtered_signac/peaks/consensus_peaks.bed\", sep=\"\\t\", index=False, header=False)"
   ]
  },
  {
   "cell_type": "code",
   "execution_count": null,
   "metadata": {},
   "outputs": [],
   "source": []
  }
 ],
 "metadata": {
  "kernelspec": {
   "display_name": "Python 3.10 test_scenicplus",
   "language": "python",
   "name": "test_scenicplus"
  },
  "orig_nbformat": 4
 },
 "nbformat": 4,
 "nbformat_minor": 2
}
