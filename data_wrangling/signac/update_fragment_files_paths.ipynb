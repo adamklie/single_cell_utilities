{
 "cells": [
  {
   "cell_type": "markdown",
   "id": "52a1b62c-3141-4507-90df-d88956882c28",
   "metadata": {},
   "source": [
    "# Updating fragment file paths in a Seurat object\n",
    "Whenever you transfer, download or move fragment to a location that was different than the original analysis, you need to update the fragment file paths in the Seurat object.\n",
    "\n",
    "In this demonstration,we have a Seurat object that contains an ATAC assay, with a fragment object that contains paths to 27 fragment files. The object was created and analyzed on TSCC, but I need to to work with it on NRNB, so we need transfer the fragment files over and update the paths. I already transferred the files, so let's update the paths!"
   ]
  },
  {
   "cell_type": "markdown",
   "id": "572fbc95-3fea-4d06-92b6-51c3d0046cd5",
   "metadata": {},
   "source": [
    "# Load in the Seurat object"
   ]
  },
  {
   "cell_type": "code",
   "execution_count": null,
   "id": "26f8c10f-934a-4f91-a229-4cd8b559a31f",
   "metadata": {},
   "outputs": [],
   "source": [
    "# Read in Seurat object\n",
    "adata <- readRDS(rds_path)\n",
    "adata"
   ]
  },
  {
   "cell_type": "markdown",
   "id": "e714c74c-48a6-4eb2-beb8-61d62fab2d14",
   "metadata": {},
   "source": [
    "# Choose the assay in the Seurat object where"
   ]
  },
  {
   "cell_type": "code",
   "execution_count": null,
   "id": "25fe3b9a-718d-4caf-bb67-549b33a89f56",
   "metadata": {},
   "outputs": [],
   "source": [
    "# Make sure the assay is set to the ATAC assay you want to update\n",
    "DefaultAssay(adata) <- \"mpeak\""
   ]
  },
  {
   "cell_type": "markdown",
   "id": "5235bd4c-82f8-4c1e-81de-8cce3c7f80ed",
   "metadata": {},
   "source": [
    "# Get the fragment objects out of the Seurat object"
   ]
  },
  {
   "cell_type": "code",
   "execution_count": null,
   "id": "d372b321-b0e5-421a-9e7c-0bffafaf38e1",
   "metadata": {},
   "outputs": [],
   "source": [
    "frags <- Fragments(adata)  # get list of fragment objects"
   ]
  },
  {
   "cell_type": "markdown",
   "id": "7b64e242-97d6-44d3-8407-ecbb2049bcde",
   "metadata": {},
   "source": [
    "# Find an identifier for each current fragment file\n",
    "Next you need to get some kind of ordering of identifiers out of the object. This will vary in degree of difficulty depending on how your files are set-up. If there already a natural ordering of fragment files in the Seruat object, you can effectively skip this step. You will need to match the ordering of the new locations.\n",
    "\n",
    "Often times, an identifier is contained within the fragment file path. This is the case for this demonstration with file paths looking like this:\n",
    "\n",
    "\"/nfs/lab/projects/igvf/data/multiome/DM041_multi/DM45A_72h_control/atac_fragments.tsv.gz\"\n",
    "\n",
    "We will extract \"DM45A\" from this path. Doing this for each path gives us an ordering of fragment files to line the new locations up to"
   ]
  },
  {
   "cell_type": "code",
   "execution_count": null,
   "id": "9bbf139e-754a-4a13-925c-53090267b88e",
   "metadata": {},
   "outputs": [],
   "source": [
    "# Need to get the proper ordering of fragments from the actual object\n",
    "for (i in seq_along(frags)) {\n",
    "    sample <- toupper(strsplit(frags[[i]]@path, \"/\")[[1]][9])\n",
    "    if (substr(sample, 1, 1) == \"I\") {\n",
    "        sample <- toupper(strsplit(sample, \"_\")[[1]][2])\n",
    "    }\n",
    "    else {\n",
    "        sample <- toupper(strsplit(sample, \"_\")[[1]][1])\n",
    "    }\n",
    "    obj_sample_names = c(obj_sample_names, sample)\n",
    "}\n",
    "obj_sample_names"
   ]
  },
  {
   "cell_type": "markdown",
   "id": "678d9ad1-cad5-4982-93a8-46f803e637ad",
   "metadata": {},
   "source": [
    "# Order the new fragment file paths to match\n",
    "Now you need to get the paths to all your fragment files in there updated locations and set their ordering to match what was extracted above. \n",
    "\n",
    "For this example, we are working with fragment files in CellRanger output directories structures like this:\n",
    "\n",
    "\"cellar/users/aklie/data/igvf/beta_cell_networks/cellranger/igvf_sc-islet_10X-Multiome/igvf_dm45a_deep/outs/atac_fragments.tsv.gz\"\n",
    "\n",
    "Here, we will get a list of fragment files and extract the sample identifier again. We then set the name of each path to be the sample ID so that the list can be easily sorted based on ordering we got above. Again, if you have a natural ordering already (e.g. lexicographically), this is more straightforward."
   ]
  },
  {
   "cell_type": "code",
   "execution_count": null,
   "id": "0ed2432f-f39b-4380-8060-ad6099905298",
   "metadata": {},
   "outputs": [],
   "source": [
    "# TODO: Get the sample specific directories for the fragment files\n",
    "frag_dir <- file.path(\"/cellar/users/aklie/data/igvf/beta_cell_networks/cellranger\", dataset_name)\n",
    "sample_dirs <- list.files(path = frag_dir)\n",
    "sample_dirs"
   ]
  },
  {
   "cell_type": "code",
   "execution_count": null,
   "id": "4eb316db-9dcf-4560-b979-1f6220e5723c",
   "metadata": {},
   "outputs": [],
   "source": [
    "# Grab a mapping of sample IDs to fragment files locally\n",
    "frag_files <- list()\n",
    "for (sample_dir in sample_dirs) {\n",
    "    sample <- toupper(strsplit(sample_dir, \"_\")[[1]][2])\n",
    "    frag_file <- list.files(path = file.path(frag_dir, sample_dir, \"outs\"), pattern = \"*fragments.tsv.gz$\", full.names = TRUE)\n",
    "    frag_files[[sample]] <- frag_file\n",
    "}\n",
    "head(frag_files)"
   ]
  },
  {
   "cell_type": "code",
   "execution_count": null,
   "id": "eb67d698-3653-4393-ae89-95bd139e36d0",
   "metadata": {},
   "outputs": [],
   "source": [
    "# Order the local frag_files list by the order of the object\n",
    "new_frag_files <- frag_files[obj_sample_names]\n",
    "head(new_frag_files)"
   ]
  },
  {
   "cell_type": "markdown",
   "id": "cae884c2-505c-4d2f-a729-47f545f06268",
   "metadata": {},
   "source": [
    "# Update the Fragment object paths\n",
    "Now that we have the new fragment paths ordered properly, we need to update to them in the Fragment object.\n",
    "\n",
    "Signac actually does a really good thing here and computes an MD5 hash using the new path to compare to the hash stored in the Fragment object to verify that the files are the same."
   ]
  },
  {
   "cell_type": "code",
   "execution_count": null,
   "id": "728af642-8065-44df-90a8-e5b3aa18591f",
   "metadata": {},
   "outputs": [],
   "source": [
    "# Update each fragment path in the object with the new local information\n",
    "Fragments(adata) <- NULL  # remove fragment information from assay\n",
    "for (i in seq_along(frags)) {\n",
    "  frags[[i]] <- UpdatePath(frags[[i]], new.path = new_frag_files[[i]]) # update path\n",
    "}"
   ]
  },
  {
   "cell_type": "code",
   "execution_count": null,
   "id": "faa202c1-218d-47fd-a64e-661ce034526a",
   "metadata": {},
   "outputs": [],
   "source": [
    "# Double check that the paths are updated\n",
    "for (i in seq_along(frags)) {\n",
    "  print(frags[[i]]@path)\n",
    "}"
   ]
  },
  {
   "cell_type": "markdown",
   "id": "692ede9d-f057-4cd3-940b-cd9f733abcf0",
   "metadata": {},
   "source": [
    "# Perform some sanity checks\n",
    "It's always a good idea to make sure the update went as expected. \n",
    "\n",
    "Verifying this will likely be dataset dependent. Here we are going to compare how many cells in the object per sample to the number of cells that the Fragment object has tracked for each file"
   ]
  },
  {
   "cell_type": "code",
   "execution_count": null,
   "id": "a9b54136-3ce7-46e7-86ca-39911e12a9bb",
   "metadata": {},
   "outputs": [],
   "source": [
    "# Take a look at how many cells are from each fragment file in the Fragment object\n",
    "samples <- c()\n",
    "for (i in seq_along(frags)) {\n",
    "    sample <- strsplit(Cells(frags[[i]])[1], \"_\")[[1]][1]\n",
    "    # Add an \"A\" to the end if sample starts with \"D\"\n",
    "    if (substr(sample, 1, 1) == \"D\") {\n",
    "        sample <- paste(sample, \"A\", sep = \"\")\n",
    "    }\n",
    "    print(paste(sample, length(Cells(frags[[i]])), sep = \": \"))\n",
    "    samples <- c(samples, sample)\n",
    "}"
   ]
  },
  {
   "cell_type": "code",
   "execution_count": null,
   "id": "d3e35ff2-cd93-45d6-94db-e00287a26bdb",
   "metadata": {},
   "outputs": [],
   "source": [
    "# Compare this to the metadata counts, they should match up\n",
    "table(adata$sample)[samples]"
   ]
  },
  {
   "cell_type": "markdown",
   "id": "f2f0a2be-16bc-49f5-a9bf-86bd992647b2",
   "metadata": {},
   "source": [
    "# Update and save the Seurat object"
   ]
  },
  {
   "cell_type": "code",
   "execution_count": null,
   "id": "b69ed737-5383-41fe-b50e-d75c7cfb0775",
   "metadata": {},
   "outputs": [],
   "source": [
    "# assign updated list back to the object\n",
    "Fragments(adata) <- frags \n",
    "Fragments(adata)"
   ]
  },
  {
   "cell_type": "code",
   "execution_count": null,
   "id": "69327a86-060a-45aa-a3a3-cb71218ab0b4",
   "metadata": {},
   "outputs": [],
   "source": [
    "# Save a copy of this bad boy\n",
    "saveRDS(adata, file.path(seurat_dir, dataset_name, \"25Aug23\", \"25Aug23_all.cells.rds\"))"
   ]
  },
  {
   "cell_type": "markdown",
   "id": "649b2b94-8b21-4bc1-be88-f3037b33c24a",
   "metadata": {},
   "source": [
    "# Do some other analyses!"
   ]
  },
  {
   "cell_type": "code",
   "execution_count": null,
   "id": "755ba414-2116-4b70-bebc-6eba9b091862",
   "metadata": {},
   "outputs": [],
   "source": []
  }
 ],
 "metadata": {
  "kernelspec": {
   "display_name": "",
   "name": ""
  },
  "language_info": {
   "name": ""
  }
 },
 "nbformat": 4,
 "nbformat_minor": 5
}
