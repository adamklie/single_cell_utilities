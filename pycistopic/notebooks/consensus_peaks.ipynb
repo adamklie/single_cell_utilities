{
 "cells": [
  {
   "attachments": {},
   "cell_type": "markdown",
   "metadata": {},
   "source": [
    "# Get consensus peaks from cell type specific peaks\n",
    "**Authorship:** Adam Klie (last updated: 08/18/2023)<br>\n",
    "***\n",
    "**Description:** Notebook to get consensus peaks from cell type specific peaks\n",
    "***"
   ]
  },
  {
   "attachments": {},
   "cell_type": "markdown",
   "metadata": {},
   "source": [
    "# Set-up"
   ]
  },
  {
   "cell_type": "code",
   "execution_count": 7,
   "metadata": {},
   "outputs": [],
   "source": [
    "import os\n",
    "import sys\n",
    "import glob\n",
    "import yaml\n",
    "import pandas as pd\n",
    "import pyranges as pr\n",
    "import requests\n",
    "\n",
    "from pycisTopic.iterative_peak_calling import get_consensus_peaks"
   ]
  },
  {
   "cell_type": "code",
   "execution_count": 9,
   "metadata": {},
   "outputs": [],
   "source": [
    "def load_narrow_peak(filename):\n",
    "    \"\"\"\n",
    "    Load MACS2 narrow peak files as :class:`pr.PyRanges`.\n",
    "    \"\"\"\n",
    "    narrow_peak = pd.read_csv(\n",
    "        filename,\n",
    "        sep=\"\\t\",\n",
    "        header=None,\n",
    "    )\n",
    "    narrow_peak.columns = [\n",
    "        \"Chromosome\",\n",
    "        \"Start\",\n",
    "        \"End\",\n",
    "        \"Name\",\n",
    "        \"Score\",\n",
    "        \"Strand\",\n",
    "        \"FC_summit\",\n",
    "        \"-log10_pval\",\n",
    "        \"-log10_qval\",\n",
    "        \"Summit\",\n",
    "    ]\n",
    "    narrow_peak_pr = pr.PyRanges(narrow_peak)\n",
    "    return narrow_peak_pr"
   ]
  },
  {
   "cell_type": "code",
   "execution_count": 10,
   "metadata": {},
   "outputs": [],
   "source": [
    "# Other param\n",
    "peaks_dir = \"/cellar/users/aklie/data/igvf/beta_cell_networks/peaks/igvf_sc-islet_10X-Multiome/10Aug23/pycistopic\"\n",
    "peak_half_width = 250\n",
    "chromsizes_path = \"/cellar/users/aklie/data/igvf/references/genomes/hg38/GRCh38_EBV.chrom.sizes\"\n",
    "blacklist_path = \"/cellar/users/aklie/data/igvf/references/blacklists/hg38/ENCFF356LFX.bed\"\n",
    "output_dir = os.path.join(peaks_dir, \"consensus_peaks\")\n",
    "params_file = os.path.join(output_dir, \"params.yaml\")\n",
    "params = {\n",
    "    \"peaks_dir\": peaks_dir,\n",
    "    \"peak_half_width\": peak_half_width,\n",
    "    \"chromsizes_path\": chromsizes_path,\n",
    "    \"blacklist_path\": blacklist_path,\n",
    "    \"output_dir\": output_dir,\n",
    "}\n",
    "\n",
    "# Make output dir\n",
    "if not os.path.exists(output_dir):\n",
    "    os.makedirs(output_dir)\n",
    "\n",
    "# Dump yaml\n",
    "with open(params_file, \"w\") as f:\n",
    "    yaml.dump(params, f)"
   ]
  },
  {
   "cell_type": "code",
   "execution_count": 19,
   "metadata": {},
   "outputs": [
    {
     "data": {
      "text/html": [
       "<div>\n",
       "<style scoped>\n",
       "    .dataframe tbody tr th:only-of-type {\n",
       "        vertical-align: middle;\n",
       "    }\n",
       "\n",
       "    .dataframe tbody tr th {\n",
       "        vertical-align: top;\n",
       "    }\n",
       "\n",
       "    .dataframe thead th {\n",
       "        text-align: right;\n",
       "    }\n",
       "</style>\n",
       "<table border=\"1\" class=\"dataframe\">\n",
       "  <thead>\n",
       "    <tr style=\"text-align: right;\">\n",
       "      <th></th>\n",
       "      <th>Chromosome</th>\n",
       "      <th>Start</th>\n",
       "      <th>End</th>\n",
       "    </tr>\n",
       "  </thead>\n",
       "  <tbody>\n",
       "    <tr>\n",
       "      <th>451</th>\n",
       "      <td>chrUn_KI270754v1</td>\n",
       "      <td>0</td>\n",
       "      <td>40191</td>\n",
       "    </tr>\n",
       "    <tr>\n",
       "      <th>452</th>\n",
       "      <td>chrUn_KI270755v1</td>\n",
       "      <td>0</td>\n",
       "      <td>36723</td>\n",
       "    </tr>\n",
       "    <tr>\n",
       "      <th>453</th>\n",
       "      <td>chrUn_KI270756v1</td>\n",
       "      <td>0</td>\n",
       "      <td>79590</td>\n",
       "    </tr>\n",
       "    <tr>\n",
       "      <th>454</th>\n",
       "      <td>chrUn_KI270757v1</td>\n",
       "      <td>0</td>\n",
       "      <td>71251</td>\n",
       "    </tr>\n",
       "    <tr>\n",
       "      <th>455</th>\n",
       "      <td>chrEBV</td>\n",
       "      <td>0</td>\n",
       "      <td>171823</td>\n",
       "    </tr>\n",
       "  </tbody>\n",
       "</table>\n",
       "</div>"
      ],
      "text/plain": [
       "           Chromosome  Start     End\n",
       "451  chrUn_KI270754v1      0   40191\n",
       "452  chrUn_KI270755v1      0   36723\n",
       "453  chrUn_KI270756v1      0   79590\n",
       "454  chrUn_KI270757v1      0   71251\n",
       "455            chrEBV      0  171823"
      ]
     },
     "execution_count": 19,
     "metadata": {},
     "output_type": "execute_result"
    }
   ],
   "source": [
    "# Get chromosome sizes (for hg38 here). We need them to ensure that extending the summits we don't fall out of the chromosome.\n",
    "chromsizes = pd.read_csv(chromsizes_path, sep='\\t', header=None)\n",
    "chromsizes.columns = ['Chromosome', 'End']\n",
    "chromsizes['Start'] = [0]*chromsizes.shape[0]\n",
    "chromsizes = chromsizes.loc[:,['Chromosome', 'Start', 'End']]\n",
    "chromsizes['Chromosome'] = [chromsizes['Chromosome'][x].replace('v', '.') for x in range(len(chromsizes['Chromosome']))]\n",
    "chromsizes['Chromosome'] = [chromsizes['Chromosome'][x].split('_')[1] if len(chromsizes['Chromosome'][x].split('_')) > 1 else chromsizes['Chromosome'][x] for x in range(len(chromsizes['Chromosome']))]\n",
    "chromsizes.tail()"
   ]
  },
  {
   "cell_type": "code",
   "execution_count": 11,
   "metadata": {},
   "outputs": [
    {
     "data": {
      "text/plain": [
       "['/cellar/users/aklie/data/igvf/beta_cell_networks/peaks/igvf_sc-islet_10X-Multiome/10Aug23/pycistopic/progenitor_peaks.narrowPeak',\n",
       " '/cellar/users/aklie/data/igvf/beta_cell_networks/peaks/igvf_sc-islet_10X-Multiome/10Aug23/pycistopic/SC_EC_peaks.narrowPeak',\n",
       " '/cellar/users/aklie/data/igvf/beta_cell_networks/peaks/igvf_sc-islet_10X-Multiome/10Aug23/pycistopic/SC_alpha_peaks.narrowPeak',\n",
       " '/cellar/users/aklie/data/igvf/beta_cell_networks/peaks/igvf_sc-islet_10X-Multiome/10Aug23/pycistopic/SC_beta_peaks.narrowPeak',\n",
       " '/cellar/users/aklie/data/igvf/beta_cell_networks/peaks/igvf_sc-islet_10X-Multiome/10Aug23/pycistopic/pre_SC_alpha_peaks.narrowPeak',\n",
       " '/cellar/users/aklie/data/igvf/beta_cell_networks/peaks/igvf_sc-islet_10X-Multiome/10Aug23/pycistopic/SC_delta_peaks.narrowPeak']"
      ]
     },
     "execution_count": 11,
     "metadata": {},
     "output_type": "execute_result"
    }
   ],
   "source": [
    "# Get all the peak files\n",
    "peaks_glob = os.path.join(peaks_dir, \"*.narrowPeak\")\n",
    "peaks_files = glob.glob(peaks_glob)\n",
    "peaks_files"
   ]
  },
  {
   "cell_type": "code",
   "execution_count": 15,
   "metadata": {},
   "outputs": [
    {
     "data": {
      "text/plain": [
       "['progenitor', 'SC_EC', 'SC_alpha', 'SC_beta', 'pre_SC_alpha', 'SC_delta']"
      ]
     },
     "execution_count": 15,
     "metadata": {},
     "output_type": "execute_result"
    }
   ],
   "source": [
    "# Get cell type names from consensus peaks\n",
    "celltypes = [os.path.basename(i).split(\"/\")[0].split(\".\")[0].split(\"_peaks\")[0] for i in peaks_files]\n",
    "celltypes"
   ]
  },
  {
   "cell_type": "code",
   "execution_count": 16,
   "metadata": {},
   "outputs": [],
   "source": [
    "# Load the narrowPeak files as pyranges\n",
    "peaks_prs = [load_narrow_peak(file) for file in peaks_files]"
   ]
  },
  {
   "cell_type": "code",
   "execution_count": 17,
   "metadata": {},
   "outputs": [
    {
     "data": {
      "text/plain": [
       "{'progenitor': +--------------+-----------+-----------+------------------------+-------+\n",
       " | Chromosome   | Start     | End       | Name                   | +6    |\n",
       " | (category)   | (int32)   | (int32)   | (object)               | ...   |\n",
       " |--------------+-----------+-----------+------------------------+-------|\n",
       " | GL000195.1   | 16297     | 16636     | progenitor_peak_1      | ...   |\n",
       " | GL000195.1   | 17081     | 17346     | progenitor_peak_2      | ...   |\n",
       " | GL000195.1   | 24129     | 24382     | progenitor_peak_3      | ...   |\n",
       " | GL000195.1   | 30441     | 30955     | progenitor_peak_4a     | ...   |\n",
       " | ...          | ...       | ...       | ...                    | ...   |\n",
       " | chrY         | 56829308  | 56829703  | progenitor_peak_139485 | ...   |\n",
       " | chrY         | 56830714  | 56831059  | progenitor_peak_139486 | ...   |\n",
       " | chrY         | 56832541  | 56832943  | progenitor_peak_139487 | ...   |\n",
       " | chrY         | 56833555  | 56834370  | progenitor_peak_139488 | ...   |\n",
       " +--------------+-----------+-----------+------------------------+-------+\n",
       " Unstranded PyRanges object has 176,283 rows and 10 columns from 32 chromosomes.\n",
       " For printing, the PyRanges was sorted on Chromosome.\n",
       " Considered unstranded due to these Strand values: '.'\n",
       " 6 hidden columns: Score, Strand, FC_summit, -log10_pval, -log10_qval, Summit,\n",
       " 'SC_EC': +--------------+-----------+-----------+--------------------+-------+\n",
       " | Chromosome   | Start     | End       | Name               | +6    |\n",
       " | (category)   | (int32)   | (int32)   | (object)           | ...   |\n",
       " |--------------+-----------+-----------+--------------------+-------|\n",
       " | GL000195.1   | 13985     | 14235     | SC_EC_peak_1       | ...   |\n",
       " | GL000195.1   | 16028     | 16650     | SC_EC_peak_2a      | ...   |\n",
       " | GL000195.1   | 16028     | 16650     | SC_EC_peak_2b      | ...   |\n",
       " | GL000195.1   | 17074     | 17308     | SC_EC_peak_3       | ...   |\n",
       " | ...          | ...       | ...       | ...                | ...   |\n",
       " | chrY         | 56833231  | 56834608  | SC_EC_peak_251743b | ...   |\n",
       " | chrY         | 56833231  | 56834608  | SC_EC_peak_251743c | ...   |\n",
       " | chrY         | 56833231  | 56834608  | SC_EC_peak_251743d | ...   |\n",
       " | chrY         | 56836502  | 56836861  | SC_EC_peak_251744  | ...   |\n",
       " +--------------+-----------+-----------+--------------------+-------+\n",
       " Unstranded PyRanges object has 432,052 rows and 10 columns from 32 chromosomes.\n",
       " For printing, the PyRanges was sorted on Chromosome.\n",
       " Considered unstranded due to these Strand values: '.'\n",
       " 6 hidden columns: Score, Strand, FC_summit, -log10_pval, -log10_qval, Summit,\n",
       " 'SC_alpha': +--------------+-----------+-----------+----------------------+-------+\n",
       " | Chromosome   | Start     | End       | Name                 | +6    |\n",
       " | (category)   | (int32)   | (int32)   | (object)             | ...   |\n",
       " |--------------+-----------+-----------+----------------------+-------|\n",
       " | GL000195.1   | 13910     | 14208     | SC_alpha_peak_1      | ...   |\n",
       " | GL000195.1   | 16323     | 16615     | SC_alpha_peak_2      | ...   |\n",
       " | GL000195.1   | 17046     | 18297     | SC_alpha_peak_3a     | ...   |\n",
       " | GL000195.1   | 17046     | 18297     | SC_alpha_peak_3b     | ...   |\n",
       " | ...          | ...       | ...       | ...                  | ...   |\n",
       " | chrY         | 19550104  | 19550393  | SC_alpha_peak_149893 | ...   |\n",
       " | chrY         | 19566817  | 19567928  | SC_alpha_peak_149894 | ...   |\n",
       " | chrY         | 19744256  | 19745392  | SC_alpha_peak_149895 | ...   |\n",
       " | chrY         | 20575149  | 20576183  | SC_alpha_peak_149896 | ...   |\n",
       " +--------------+-----------+-----------+----------------------+-------+\n",
       " Unstranded PyRanges object has 197,645 rows and 10 columns from 32 chromosomes.\n",
       " For printing, the PyRanges was sorted on Chromosome.\n",
       " Considered unstranded due to these Strand values: '.'\n",
       " 6 hidden columns: Score, Strand, FC_summit, -log10_pval, -log10_qval, Summit,\n",
       " 'SC_beta': +--------------+-----------+-----------+----------------------+-------+\n",
       " | Chromosome   | Start     | End       | Name                 | +6    |\n",
       " | (category)   | (int32)   | (int32)   | (object)             | ...   |\n",
       " |--------------+-----------+-----------+----------------------+-------|\n",
       " | GL000195.1   | 13959     | 14261     | SC_beta_peak_1       | ...   |\n",
       " | GL000195.1   | 15996     | 16636     | SC_beta_peak_2a      | ...   |\n",
       " | GL000195.1   | 15996     | 16636     | SC_beta_peak_2b      | ...   |\n",
       " | GL000195.1   | 15996     | 16636     | SC_beta_peak_2c      | ...   |\n",
       " | ...          | ...       | ...       | ...                  | ...   |\n",
       " | chrY         | 56831610  | 56834625  | SC_beta_peak_244351g | ...   |\n",
       " | chrY         | 56831610  | 56834625  | SC_beta_peak_244351h | ...   |\n",
       " | chrY         | 56836224  | 56837008  | SC_beta_peak_244352a | ...   |\n",
       " | chrY         | 56836224  | 56837008  | SC_beta_peak_244352b | ...   |\n",
       " +--------------+-----------+-----------+----------------------+-------+\n",
       " Unstranded PyRanges object has 411,698 rows and 10 columns from 32 chromosomes.\n",
       " For printing, the PyRanges was sorted on Chromosome.\n",
       " Considered unstranded due to these Strand values: '.'\n",
       " 6 hidden columns: Score, Strand, FC_summit, -log10_pval, -log10_qval, Summit,\n",
       " 'pre_SC_alpha': +--------------+-----------+-----------+--------------------------+-------+\n",
       " | Chromosome   | Start     | End       | Name                     | +6    |\n",
       " | (category)   | (int32)   | (int32)   | (object)                 | ...   |\n",
       " |--------------+-----------+-----------+--------------------------+-------|\n",
       " | GL000195.1   | 15399     | 15675     | pre_SC_alpha_peak_1      | ...   |\n",
       " | GL000195.1   | 16048     | 16662     | pre_SC_alpha_peak_2      | ...   |\n",
       " | GL000195.1   | 17044     | 18412     | pre_SC_alpha_peak_3a     | ...   |\n",
       " | GL000195.1   | 17044     | 18412     | pre_SC_alpha_peak_3b     | ...   |\n",
       " | ...          | ...       | ...       | ...                      | ...   |\n",
       " | chrY         | 56677892  | 56678111  | pre_SC_alpha_peak_210893 | ...   |\n",
       " | chrY         | 56831605  | 56831953  | pre_SC_alpha_peak_210894 | ...   |\n",
       " | chrY         | 56832287  | 56832858  | pre_SC_alpha_peak_210895 | ...   |\n",
       " | chrY         | 56834278  | 56834595  | pre_SC_alpha_peak_210896 | ...   |\n",
       " +--------------+-----------+-----------+--------------------------+-------+\n",
       " Unstranded PyRanges object has 345,934 rows and 10 columns from 32 chromosomes.\n",
       " For printing, the PyRanges was sorted on Chromosome.\n",
       " Considered unstranded due to these Strand values: '.'\n",
       " 6 hidden columns: Score, Strand, FC_summit, -log10_pval, -log10_qval, Summit,\n",
       " 'SC_delta': +--------------+-----------+-----------+-----------------------+-------+\n",
       " | Chromosome   | Start     | End       | Name                  | +6    |\n",
       " | (category)   | (int32)   | (int32)   | (object)              | ...   |\n",
       " |--------------+-----------+-----------+-----------------------+-------|\n",
       " | GL000195.1   | 18649     | 19059     | SC_delta_peak_1       | ...   |\n",
       " | GL000195.1   | 30508     | 30947     | SC_delta_peak_2a      | ...   |\n",
       " | GL000195.1   | 30508     | 30947     | SC_delta_peak_2b      | ...   |\n",
       " | GL000195.1   | 32423     | 32909     | SC_delta_peak_3a      | ...   |\n",
       " | ...          | ...       | ...       | ...                   | ...   |\n",
       " | chrY         | 19566781  | 19568034  | SC_delta_peak_100180b | ...   |\n",
       " | chrY         | 19566781  | 19568034  | SC_delta_peak_100180c | ...   |\n",
       " | chrY         | 19744468  | 19745421  | SC_delta_peak_100181  | ...   |\n",
       " | chrY         | 20575076  | 20576295  | SC_delta_peak_100182  | ...   |\n",
       " +--------------+-----------+-----------+-----------------------+-------+\n",
       " Unstranded PyRanges object has 114,057 rows and 10 columns from 28 chromosomes.\n",
       " For printing, the PyRanges was sorted on Chromosome.\n",
       " Considered unstranded due to these Strand values: '.'\n",
       " 6 hidden columns: Score, Strand, FC_summit, -log10_pval, -log10_qval, Summit}"
      ]
     },
     "execution_count": 17,
     "metadata": {},
     "output_type": "execute_result"
    }
   ],
   "source": [
    "# Create a dictionary \n",
    "peaks_dict = dict(zip(celltypes, peaks_prs))\n",
    "peaks_dict"
   ]
  },
  {
   "cell_type": "code",
   "execution_count": 21,
   "metadata": {},
   "outputs": [
    {
     "name": "stdout",
     "output_type": "stream",
     "text": [
      "2023-08-22 12:07:56,523 cisTopic     INFO     Extending and merging peaks per class\n",
      "2023-08-22 12:12:29,660 cisTopic     INFO     Normalizing peak scores\n",
      "2023-08-22 12:12:30,585 cisTopic     INFO     Merging peaks\n",
      "Warning! Start and End columns now have different dtypes: int64 and int32\n",
      "2023-08-22 12:16:29,098 cisTopic     INFO     Done!\n"
     ]
    }
   ],
   "source": [
    "# Get consensus peaks\n",
    "consensus_peaks = get_consensus_peaks(\n",
    "    peaks_dict,\n",
    "    peak_half_width, \n",
    "    chromsizes=chromsizes, \n",
    "    path_to_blacklist=blacklist_path\n",
    ")"
   ]
  },
  {
   "cell_type": "code",
   "execution_count": 22,
   "metadata": {},
   "outputs": [],
   "source": [
    "consensus_peaks.to_bed(os.path.join(output_dir, \"consensus_peaks.bed.gz\"), keep=True, compression='infer', chain=False)"
   ]
  },
  {
   "cell_type": "code",
   "execution_count": 23,
   "metadata": {},
   "outputs": [
    {
     "data": {
      "text/plain": [
       "442874"
      ]
     },
     "execution_count": 23,
     "metadata": {},
     "output_type": "execute_result"
    }
   ],
   "source": [
    "len(consensus_peaks)"
   ]
  },
  {
   "attachments": {},
   "cell_type": "markdown",
   "metadata": {},
   "source": [
    "# DONE!"
   ]
  },
  {
   "attachments": {},
   "cell_type": "markdown",
   "metadata": {},
   "source": [
    "---"
   ]
  }
 ],
 "metadata": {
  "kernelspec": {
   "display_name": "Python 3.8 scenicplus",
   "language": "python",
   "name": "scenicplus"
  },
  "orig_nbformat": 4
 },
 "nbformat": 4,
 "nbformat_minor": 2
}
