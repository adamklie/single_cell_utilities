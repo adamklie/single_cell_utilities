{
 "cells": [
  {
   "cell_type": "code",
   "execution_count": 17,
   "metadata": {},
   "outputs": [],
   "source": [
    "import pandas as pd\n",
    "from scipy.io import mmread\n",
    "from pycisTopic.cistopic_class import create_cistopic_object"
   ]
  },
  {
   "cell_type": "code",
   "execution_count": 40,
   "metadata": {},
   "outputs": [],
   "source": [
    "barcodes_path = \"/cellar/users/aklie/data/datasets/igvf_sc-islet_10X-Multiome/annotation/timecourse/A2_control/filtered_archr/Matrices/PeakMatrix/barcodes.tsv\"\n",
    "regions_path = \"/cellar/users/aklie/data/datasets/igvf_sc-islet_10X-Multiome/annotation/timecourse/A2_control/filtered_archr/Matrices/PeakMatrix/features.tsv\"\n",
    "counts_matrix_path = \"/cellar/users/aklie/data/datasets/igvf_sc-islet_10X-Multiome/annotation/timecourse/A2_control/filtered_archr/Matrices/PeakMatrix/mtx.mtx\"\n",
    "cell_metadata_path = \"/cellar/users/aklie/data/datasets/igvf_sc-islet_10X-Multiome/annotation/timecourse/A2_control/A2_control_RNA_cell_metadata.tsv\""
   ]
  },
  {
   "cell_type": "code",
   "execution_count": 41,
   "metadata": {},
   "outputs": [
    {
     "name": "stdout",
     "output_type": "stream",
     "text": [
      "5843 barcodes loaded: ['dm45a#GGTATTTCAGGCTGTT-1' 'dm45a#ACGACAAAGCCTCTGT-1'\n",
      " 'dm45a#GCGGGTTTCTCACTCA-1' 'dm45a#ACCATTAAGAGCCGCT-1'\n",
      " 'dm45a#GTGTTCCTCCCGCAAA-1']...\n"
     ]
    }
   ],
   "source": [
    "bcs = pd.read_csv(barcodes_path, sep=\"\\t\", header=None)[0].values\n",
    "print(\"{} barcodes loaded: {}...\".format(len(bcs), bcs[:5]))"
   ]
  },
  {
   "cell_type": "code",
   "execution_count": 42,
   "metadata": {},
   "outputs": [
    {
     "name": "stdout",
     "output_type": "stream",
     "text": [
      "188090 regions loaded: ['chr1:804687-805187' 'chr1:817831-818331' 'chr1:819660-820160'\n",
      " 'chr1:821415-821915' 'chr1:822102-822602']...\n"
     ]
    }
   ],
   "source": [
    "regions = pd.read_csv(regions_path, sep=\"\\t\", header=None)[0].values\n",
    "print(\"{} regions loaded: {}...\".format(len(regions), regions[:5]))"
   ]
  },
  {
   "cell_type": "code",
   "execution_count": 43,
   "metadata": {},
   "outputs": [
    {
     "name": "stdout",
     "output_type": "stream",
     "text": [
      "Counts matrix loaded: %s... (188090, 5843)\n"
     ]
    }
   ],
   "source": [
    "cnt_mtx = mmread(counts_matrix_path).tocsr()\n",
    "print(\"Counts matrix loaded: %s...\", cnt_mtx.shape)"
   ]
  },
  {
   "cell_type": "code",
   "execution_count": 44,
   "metadata": {},
   "outputs": [
    {
     "name": "stdout",
     "output_type": "stream",
     "text": [
      "Cells metadata loaded with shape (8362, 83)\n"
     ]
    }
   ],
   "source": [
    "if cell_metadata_path is not None:\n",
    "    if cell_metadata_path.endswith(\".tsv\") or cell_metadata_path.endswith(\".txt\"):\n",
    "        cell_data = pd.read_csv(cell_metadata_path, sep=\"\\t\", index_col=0)\n",
    "    elif cell_metadata_path.endswith(\".csv\"):\n",
    "        cell_data = pd.read_csv(cell_metadata_path, index_col=0)\n",
    "    else:\n",
    "        raise ValueError(\"cell_metadata_path must be .tsv, .txt, or .csv\")\n",
    "    print(f\"Cells metadata loaded with shape {cell_data.shape}\")"
   ]
  },
  {
   "cell_type": "code",
   "execution_count": 45,
   "metadata": {},
   "outputs": [
    {
     "name": "stdout",
     "output_type": "stream",
     "text": [
      "Counts matrix is already in the correct shape\n"
     ]
    }
   ],
   "source": [
    "if cnt_mtx.shape[0] == len(regions) and cnt_mtx.shape[1] == len(bcs):\n",
    "    print(\"Counts matrix is already in the correct shape\")\n",
    "elif cnt_mtx.shape[1] == len(regions) and cnt_mtx.shape[0] == len(bcs):\n",
    "    print(\"Transposing counts matrix to match barcodes and regions numbers...\")\n",
    "    cnt_mtx = cnt_mtx.T\n",
    "else:\n",
    "    raise ValueError(\n",
    "        \"Counts matrix shape does not match either barcodes or regions list\"\n",
    "    )"
   ]
  },
  {
   "cell_type": "code",
   "execution_count": 46,
   "metadata": {},
   "outputs": [
    {
     "name": "stdout",
     "output_type": "stream",
     "text": [
      "Counts matrix shape after filtering: (188090, 5843)\n"
     ]
    }
   ],
   "source": [
    "df = pd.DataFrame.sparse.from_spmatrix(cnt_mtx)\n",
    "df.columns = bcs\n",
    "df.index = regions\n",
    "print(f\"Counts matrix shape after filtering: {df.shape}\")"
   ]
  },
  {
   "cell_type": "code",
   "execution_count": 47,
   "metadata": {},
   "outputs": [
    {
     "name": "stdout",
     "output_type": "stream",
     "text": [
      "5843 cells have metadata...\n",
      "Counts matrix shape after filtering: (188090, 5843)\n"
     ]
    }
   ],
   "source": [
    "if cell_metadata_path is not None:\n",
    "    bcs = df.columns.intersection(cell_data.index)\n",
    "    print(f\"{len(bcs)} cells have metadata...\")\n",
    "    df = df[bcs]\n",
    "    cell_data = cell_data.loc[bcs]\n",
    "    print(f\"Counts matrix shape after filtering: {df.shape}\")"
   ]
  },
  {
   "cell_type": "code",
   "execution_count": 49,
   "metadata": {},
   "outputs": [
    {
     "data": {
      "text/plain": [
       "(Index(['dm45a#GGTATTTCAGGCTGTT-1', 'dm45a#ACGACAAAGCCTCTGT-1',\n",
       "        'dm45a#GCGGGTTTCTCACTCA-1', 'dm45a#ACCATTAAGAGCCGCT-1',\n",
       "        'dm45a#GTGTTCCTCCCGCAAA-1'],\n",
       "       dtype='object'),\n",
       " Index(['dm45a#GGTATTTCAGGCTGTT-1', 'dm45a#ACGACAAAGCCTCTGT-1',\n",
       "        'dm45a#GCGGGTTTCTCACTCA-1', 'dm45a#ACCATTAAGAGCCGCT-1',\n",
       "        'dm45a#GTGTTCCTCCCGCAAA-1'],\n",
       "       dtype='object'),\n",
       " Index(['dm45a#GGTATTTCAGGCTGTT-1', 'dm45a#ACGACAAAGCCTCTGT-1',\n",
       "        'dm45a#GCGGGTTTCTCACTCA-1', 'dm45a#ACCATTAAGAGCCGCT-1',\n",
       "        'dm45a#GTGTTCCTCCCGCAAA-1'],\n",
       "       dtype='object'))"
      ]
     },
     "execution_count": 49,
     "metadata": {},
     "output_type": "execute_result"
    }
   ],
   "source": [
    "bcs[:5], df.columns[:5], cell_data.index[:5]"
   ]
  },
  {
   "cell_type": "code",
   "execution_count": 50,
   "metadata": {},
   "outputs": [
    {
     "name": "stdout",
     "output_type": "stream",
     "text": [
      "Creating cisTopic object...\n",
      "2024-03-19 07:58:26,499 cisTopic     INFO     Converting fragment matrix to sparse matrix\n",
      "2024-03-19 07:58:38,898 cisTopic     INFO     Creating CistopicObject\n",
      "2024-03-19 07:58:39,975 cisTopic     INFO     Done!\n"
     ]
    }
   ],
   "source": [
    "print(\"Creating cisTopic object...\")\n",
    "cistopic_obj = create_cistopic_object(\n",
    "    fragment_matrix=df,\n",
    "    cell_names=bcs,\n",
    "    region_names=regions,\n",
    "    path_to_blacklist=None,\n",
    "    project=\"test\"\n",
    ")"
   ]
  },
  {
   "cell_type": "code",
   "execution_count": 51,
   "metadata": {},
   "outputs": [
    {
     "name": "stdout",
     "output_type": "stream",
     "text": [
      "Adding cell metadata to cisTopic object...\n",
      "Columns ['sample_id'] will be overwritten\n"
     ]
    }
   ],
   "source": [
    "if cell_metadata_path is not None:\n",
    "    print(\"Adding cell metadata to cisTopic object...\")\n",
    "    cistopic_obj.add_cell_data(cell_data)"
   ]
  },
  {
   "attachments": {},
   "cell_type": "markdown",
   "metadata": {},
   "source": [
    "# DONE!"
   ]
  },
  {
   "attachments": {},
   "cell_type": "markdown",
   "metadata": {},
   "source": [
    "---"
   ]
  }
 ],
 "metadata": {
  "kernelspec": {
   "display_name": "Python 3.10 test_scenicplus",
   "language": "python",
   "name": "test_scenicplus"
  },
  "language_info": {
   "codemirror_mode": {
    "name": "ipython",
    "version": 3
   },
   "file_extension": ".py",
   "mimetype": "text/x-python",
   "name": "python",
   "nbconvert_exporter": "python",
   "pygments_lexer": "ipython3",
   "version": "3.10.0"
  },
  "orig_nbformat": 4
 },
 "nbformat": 4,
 "nbformat_minor": 2
}
