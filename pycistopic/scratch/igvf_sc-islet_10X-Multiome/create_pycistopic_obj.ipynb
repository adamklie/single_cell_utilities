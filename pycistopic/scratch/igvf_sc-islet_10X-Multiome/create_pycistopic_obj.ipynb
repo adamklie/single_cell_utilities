{
 "cells": [
  {
   "attachments": {},
   "cell_type": "markdown",
   "metadata": {},
   "source": [
    "# Create a pycistopic object from count matrix\n",
    "**Authorship:** Adam Klie (last updated: 08/21/2023)<br>\n",
    "***\n",
    "**Description:** This notebook is meant to build a pycistopic object from a count matrix.\n",
    "***"
   ]
  },
  {
   "attachments": {},
   "cell_type": "markdown",
   "metadata": {},
   "source": [
    "# Set-up"
   ]
  },
  {
   "cell_type": "code",
   "execution_count": 1,
   "metadata": {},
   "outputs": [],
   "source": [
    "# Import the necessary packages\n",
    "import os\n",
    "import sys\n",
    "import glob\n",
    "import pickle\n",
    "import pandas as pd\n",
    "from scipy import io\n",
    "from pycisTopic.cistopic_class import *"
   ]
  },
  {
   "cell_type": "code",
   "execution_count": 24,
   "metadata": {},
   "outputs": [],
   "source": [
    "# Params\n",
    "mtx_file = \"/cellar/users/aklie/data/igvf/beta_cell_networks/platinum/igvf_sc-islet_10X-Multiome/17Aug23/scATAC/matrix.mtx.gz\"\n",
    "barcode_file  = \"/cellar/users/aklie/data/igvf/beta_cell_networks/platinum/igvf_sc-islet_10X-Multiome/17Aug23/scATAC/metadata.csv\"\n",
    "peaks_file = \"/cellar/users/aklie/data/igvf/beta_cell_networks/platinum/igvf_sc-islet_10X-Multiome/17Aug23/scATAC/features.tsv.gz\"\n",
    "blacklist_file = \"/cellar/users/aklie/data/igvf/references/blacklists/hg38/ENCFF356LFX.bed\"\n",
    "output_dir = \"/cellar/users/aklie/projects/igvf/beta_cell_networks/infer_grns/scenicplus/results/igvf_sc-islet_10X-Multiome/17Aug23\""
   ]
  },
  {
   "cell_type": "code",
   "execution_count": 25,
   "metadata": {},
   "outputs": [],
   "source": [
    "# Make output dir if it doesn't exist\n",
    "if not os.path.exists(output_dir):\n",
    "    os.makedirs(output_dir)"
   ]
  },
  {
   "attachments": {},
   "cell_type": "markdown",
   "metadata": {},
   "source": [
    "# Get data"
   ]
  },
  {
   "cell_type": "code",
   "execution_count": 26,
   "metadata": {},
   "outputs": [
    {
     "data": {
      "text/plain": [
       "(262611, 83289)"
      ]
     },
     "execution_count": 26,
     "metadata": {},
     "output_type": "execute_result"
    }
   ],
   "source": [
    "# Read in the counts and send to csr\n",
    "counts = io.mmread(mtx_file)\n",
    "counts_csr = counts.tocsr()\n",
    "counts_csr.shape"
   ]
  },
  {
   "cell_type": "code",
   "execution_count": 26,
   "metadata": {},
   "outputs": [
    {
     "data": {
      "text/html": [
       "<div>\n",
       "<style scoped>\n",
       "    .dataframe tbody tr th:only-of-type {\n",
       "        vertical-align: middle;\n",
       "    }\n",
       "\n",
       "    .dataframe tbody tr th {\n",
       "        vertical-align: top;\n",
       "    }\n",
       "\n",
       "    .dataframe thead th {\n",
       "        text-align: right;\n",
       "    }\n",
       "</style>\n",
       "<table border=\"1\" class=\"dataframe\">\n",
       "  <thead>\n",
       "    <tr style=\"text-align: right;\">\n",
       "      <th></th>\n",
       "      <th>orig.ident</th>\n",
       "      <th>nCount_RNA</th>\n",
       "      <th>nFeature_RNA</th>\n",
       "      <th>percent.mt</th>\n",
       "      <th>nCount_RNA_raw</th>\n",
       "      <th>nFeature_RNA_raw</th>\n",
       "      <th>nCount_ATAC</th>\n",
       "      <th>nFeature_ATAC</th>\n",
       "      <th>nCount_SCT</th>\n",
       "      <th>nFeature_SCT</th>\n",
       "      <th>...</th>\n",
       "      <th>atac_pct.mt</th>\n",
       "      <th>TSS.enrichment</th>\n",
       "      <th>TSS.percentile</th>\n",
       "      <th>mpeak.weight</th>\n",
       "      <th>wsnn_res.0.3</th>\n",
       "      <th>cell.type.1</th>\n",
       "      <th>cell.type.2</th>\n",
       "      <th>predicted.cell.type</th>\n",
       "      <th>predicted.cell.type.score</th>\n",
       "      <th>barcode</th>\n",
       "    </tr>\n",
       "  </thead>\n",
       "  <tbody>\n",
       "    <tr>\n",
       "      <th>MO1_AAACAGCCAGCAATAA-1</th>\n",
       "      <td>SeuratProject</td>\n",
       "      <td>7140.390126</td>\n",
       "      <td>2937</td>\n",
       "      <td>0.000000</td>\n",
       "      <td>7781</td>\n",
       "      <td>2945</td>\n",
       "      <td>10302</td>\n",
       "      <td>4964</td>\n",
       "      <td>2807</td>\n",
       "      <td>1654</td>\n",
       "      <td>...</td>\n",
       "      <td>0.629753</td>\n",
       "      <td>4.811552</td>\n",
       "      <td>0.15</td>\n",
       "      <td>0.150786</td>\n",
       "      <td>4</td>\n",
       "      <td>pre.SC.endocrine</td>\n",
       "      <td>pre.SC.alpha</td>\n",
       "      <td>pre.SC.alpha</td>\n",
       "      <td>1.00000</td>\n",
       "      <td>AAACAGCCAGCAATAA-1</td>\n",
       "    </tr>\n",
       "    <tr>\n",
       "      <th>MO1_AAACCAACAACCGCCA-1</th>\n",
       "      <td>SeuratProject</td>\n",
       "      <td>5083.686880</td>\n",
       "      <td>2651</td>\n",
       "      <td>0.000000</td>\n",
       "      <td>5564</td>\n",
       "      <td>2655</td>\n",
       "      <td>28678</td>\n",
       "      <td>11595</td>\n",
       "      <td>3028</td>\n",
       "      <td>2044</td>\n",
       "      <td>...</td>\n",
       "      <td>0.597243</td>\n",
       "      <td>5.251150</td>\n",
       "      <td>0.51</td>\n",
       "      <td>0.322520</td>\n",
       "      <td>11</td>\n",
       "      <td>SC.endocrine</td>\n",
       "      <td>SC.delta</td>\n",
       "      <td>SC.delta</td>\n",
       "      <td>1.00000</td>\n",
       "      <td>AAACCAACAACCGCCA-1</td>\n",
       "    </tr>\n",
       "    <tr>\n",
       "      <th>MO1_AAACCGCGTATTGTGG-1</th>\n",
       "      <td>SeuratProject</td>\n",
       "      <td>8302.654374</td>\n",
       "      <td>3797</td>\n",
       "      <td>0.000000</td>\n",
       "      <td>9338</td>\n",
       "      <td>3810</td>\n",
       "      <td>14258</td>\n",
       "      <td>6820</td>\n",
       "      <td>2693</td>\n",
       "      <td>1793</td>\n",
       "      <td>...</td>\n",
       "      <td>0.733843</td>\n",
       "      <td>4.083190</td>\n",
       "      <td>0.01</td>\n",
       "      <td>0.320034</td>\n",
       "      <td>4</td>\n",
       "      <td>pre.SC.endocrine</td>\n",
       "      <td>pre.SC.alpha</td>\n",
       "      <td>pre.SC.alpha</td>\n",
       "      <td>0.99152</td>\n",
       "      <td>AAACCGCGTATTGTGG-1</td>\n",
       "    </tr>\n",
       "    <tr>\n",
       "      <th>MO1_AAACGCGCAAGCCACT-1</th>\n",
       "      <td>SeuratProject</td>\n",
       "      <td>5772.429015</td>\n",
       "      <td>3107</td>\n",
       "      <td>0.005388</td>\n",
       "      <td>6430</td>\n",
       "      <td>3114</td>\n",
       "      <td>27699</td>\n",
       "      <td>11662</td>\n",
       "      <td>3011</td>\n",
       "      <td>2105</td>\n",
       "      <td>...</td>\n",
       "      <td>0.445260</td>\n",
       "      <td>4.810653</td>\n",
       "      <td>0.15</td>\n",
       "      <td>0.215760</td>\n",
       "      <td>3</td>\n",
       "      <td>SC.endocrine</td>\n",
       "      <td>SC.EC</td>\n",
       "      <td>SC.EC</td>\n",
       "      <td>1.00000</td>\n",
       "      <td>AAACGCGCAAGCCACT-1</td>\n",
       "    </tr>\n",
       "    <tr>\n",
       "      <th>MO1_AAACGCGCAGTTATCG-1</th>\n",
       "      <td>SeuratProject</td>\n",
       "      <td>2732.242968</td>\n",
       "      <td>1822</td>\n",
       "      <td>0.140443</td>\n",
       "      <td>2912</td>\n",
       "      <td>1824</td>\n",
       "      <td>19568</td>\n",
       "      <td>8592</td>\n",
       "      <td>2803</td>\n",
       "      <td>1816</td>\n",
       "      <td>...</td>\n",
       "      <td>1.289934</td>\n",
       "      <td>4.997553</td>\n",
       "      <td>0.27</td>\n",
       "      <td>0.357753</td>\n",
       "      <td>0</td>\n",
       "      <td>SC.endocrine</td>\n",
       "      <td>SC.beta</td>\n",
       "      <td>SC.beta</td>\n",
       "      <td>1.00000</td>\n",
       "      <td>AAACGCGCAGTTATCG-1</td>\n",
       "    </tr>\n",
       "  </tbody>\n",
       "</table>\n",
       "<p>5 rows × 37 columns</p>\n",
       "</div>"
      ],
      "text/plain": [
       "                           orig.ident   nCount_RNA  nFeature_RNA  percent.mt  \\\n",
       "MO1_AAACAGCCAGCAATAA-1  SeuratProject  7140.390126          2937    0.000000   \n",
       "MO1_AAACCAACAACCGCCA-1  SeuratProject  5083.686880          2651    0.000000   \n",
       "MO1_AAACCGCGTATTGTGG-1  SeuratProject  8302.654374          3797    0.000000   \n",
       "MO1_AAACGCGCAAGCCACT-1  SeuratProject  5772.429015          3107    0.005388   \n",
       "MO1_AAACGCGCAGTTATCG-1  SeuratProject  2732.242968          1822    0.140443   \n",
       "\n",
       "                        nCount_RNA_raw  nFeature_RNA_raw  nCount_ATAC  \\\n",
       "MO1_AAACAGCCAGCAATAA-1            7781              2945        10302   \n",
       "MO1_AAACCAACAACCGCCA-1            5564              2655        28678   \n",
       "MO1_AAACCGCGTATTGTGG-1            9338              3810        14258   \n",
       "MO1_AAACGCGCAAGCCACT-1            6430              3114        27699   \n",
       "MO1_AAACGCGCAGTTATCG-1            2912              1824        19568   \n",
       "\n",
       "                        nFeature_ATAC  nCount_SCT  nFeature_SCT  ...  \\\n",
       "MO1_AAACAGCCAGCAATAA-1           4964        2807          1654  ...   \n",
       "MO1_AAACCAACAACCGCCA-1          11595        3028          2044  ...   \n",
       "MO1_AAACCGCGTATTGTGG-1           6820        2693          1793  ...   \n",
       "MO1_AAACGCGCAAGCCACT-1          11662        3011          2105  ...   \n",
       "MO1_AAACGCGCAGTTATCG-1           8592        2803          1816  ...   \n",
       "\n",
       "                        atac_pct.mt  TSS.enrichment  TSS.percentile  \\\n",
       "MO1_AAACAGCCAGCAATAA-1     0.629753        4.811552            0.15   \n",
       "MO1_AAACCAACAACCGCCA-1     0.597243        5.251150            0.51   \n",
       "MO1_AAACCGCGTATTGTGG-1     0.733843        4.083190            0.01   \n",
       "MO1_AAACGCGCAAGCCACT-1     0.445260        4.810653            0.15   \n",
       "MO1_AAACGCGCAGTTATCG-1     1.289934        4.997553            0.27   \n",
       "\n",
       "                        mpeak.weight  wsnn_res.0.3       cell.type.1  \\\n",
       "MO1_AAACAGCCAGCAATAA-1      0.150786             4  pre.SC.endocrine   \n",
       "MO1_AAACCAACAACCGCCA-1      0.322520            11      SC.endocrine   \n",
       "MO1_AAACCGCGTATTGTGG-1      0.320034             4  pre.SC.endocrine   \n",
       "MO1_AAACGCGCAAGCCACT-1      0.215760             3      SC.endocrine   \n",
       "MO1_AAACGCGCAGTTATCG-1      0.357753             0      SC.endocrine   \n",
       "\n",
       "                         cell.type.2  predicted.cell.type  \\\n",
       "MO1_AAACAGCCAGCAATAA-1  pre.SC.alpha         pre.SC.alpha   \n",
       "MO1_AAACCAACAACCGCCA-1      SC.delta             SC.delta   \n",
       "MO1_AAACCGCGTATTGTGG-1  pre.SC.alpha         pre.SC.alpha   \n",
       "MO1_AAACGCGCAAGCCACT-1         SC.EC                SC.EC   \n",
       "MO1_AAACGCGCAGTTATCG-1       SC.beta              SC.beta   \n",
       "\n",
       "                        predicted.cell.type.score             barcode  \n",
       "MO1_AAACAGCCAGCAATAA-1                    1.00000  AAACAGCCAGCAATAA-1  \n",
       "MO1_AAACCAACAACCGCCA-1                    1.00000  AAACCAACAACCGCCA-1  \n",
       "MO1_AAACCGCGTATTGTGG-1                    0.99152  AAACCGCGTATTGTGG-1  \n",
       "MO1_AAACGCGCAAGCCACT-1                    1.00000  AAACGCGCAAGCCACT-1  \n",
       "MO1_AAACGCGCAGTTATCG-1                    1.00000  AAACGCGCAGTTATCG-1  \n",
       "\n",
       "[5 rows x 37 columns]"
      ]
     },
     "execution_count": 26,
     "metadata": {},
     "output_type": "execute_result"
    }
   ],
   "source": [
    "# Read in the cell metadata\n",
    "cell_data = pd.read_csv(barcode_file, index_col=0, low_memory=False)\n",
    "cell_data.head()"
   ]
  },
  {
   "cell_type": "code",
   "execution_count": 27,
   "metadata": {},
   "outputs": [
    {
     "data": {
      "text/plain": [
       "262611"
      ]
     },
     "execution_count": 27,
     "metadata": {},
     "output_type": "execute_result"
    }
   ],
   "source": [
    "# Read in the regions, clean up and check how many\n",
    "region_names = pd.read_csv(peaks_file, sep=\"\\t\", header=None)[0].values\n",
    "region_names = [region.replace(\"-\", \":\", 1) for region in region_names]\n",
    "len(region_names)"
   ]
  },
  {
   "attachments": {},
   "cell_type": "markdown",
   "metadata": {},
   "source": [
    "# Make the object"
   ]
  },
  {
   "cell_type": "code",
   "execution_count": 29,
   "metadata": {},
   "outputs": [
    {
     "name": "stdout",
     "output_type": "stream",
     "text": [
      "2023-08-21 15:49:44,267 cisTopic     INFO     Removing blacklisted regions\n",
      "2023-08-21 15:49:49,435 cisTopic     INFO     Creating CistopicObject\n"
     ]
    },
    {
     "name": "stderr",
     "output_type": "stream",
     "text": [
      "/cellar/users/aklie/opt/miniconda3/envs/scenicplus/lib/python3.8/site-packages/pycisTopic/cistopic_class.py:607: RuntimeWarning: divide by zero encountered in log10\n",
      "  np.log10(cisTopic_nr_frag),\n",
      "/cellar/users/aklie/opt/miniconda3/envs/scenicplus/lib/python3.8/site-packages/pycisTopic/cistopic_class.py:609: RuntimeWarning: divide by zero encountered in log10\n",
      "  np.log10(cisTopic_nr_acc),\n"
     ]
    },
    {
     "name": "stdout",
     "output_type": "stream",
     "text": [
      "2023-08-21 15:50:12,932 cisTopic     INFO     Done!\n"
     ]
    }
   ],
   "source": [
    "# Create the object\n",
    "cistopic_obj = create_cistopic_object(\n",
    "    fragment_matrix=counts_csr,\n",
    "    cell_names=cell_data.index,\n",
    "    region_names=region_names,\n",
    "    path_to_blacklist=blacklist_file,\n",
    "    split_pattern=\"_\",\n",
    "    tag_cells=False,\n",
    "    project=\"igvf_sc-islet_10X-Multiome_10Aug23\"\n",
    ")"
   ]
  },
  {
   "cell_type": "code",
   "execution_count": null,
   "metadata": {},
   "outputs": [],
   "source": [
    "# Add cell metadata\n",
    "cistopic_obj.add_cell_data(cell_data)"
   ]
  },
  {
   "cell_type": "code",
   "execution_count": 34,
   "metadata": {},
   "outputs": [
    {
     "data": {
      "text/plain": [
       "('igvf_sc-islet_10X-Multiome_10Aug23',\n",
       " (262418, 83289),\n",
       "                        cisTopic_nr_frag cisTopic_log_nr_frag cisTopic_nr_acc  \\\n",
       " MO1_AAACAGCCAGCAATAA-1             6161             3.789651            5581   \n",
       " MO1_AAACCAACAACCGCCA-1            17040              4.23147           13284   \n",
       " MO1_AAACCGCGTATTGTGG-1             8642             3.936614            7781   \n",
       " MO1_AAACGCGCAAGCCACT-1            16741             4.223781           13457   \n",
       " MO1_AAACGCGCAGTTATCG-1            11428              4.05797            9567   \n",
       " \n",
       "                        cisTopic_log_nr_acc  \\\n",
       " MO1_AAACAGCCAGCAATAA-1            3.746712   \n",
       " MO1_AAACCAACAACCGCCA-1            4.123329   \n",
       " MO1_AAACCGCGTATTGTGG-1            3.891035   \n",
       " MO1_AAACGCGCAAGCCACT-1            4.128948   \n",
       " MO1_AAACGCGCAGTTATCG-1            3.980776   \n",
       " \n",
       "                                                  sample_id     orig.ident  \\\n",
       " MO1_AAACAGCCAGCAATAA-1  igvf_sc-islet_10X-Multiome_10Aug23  SeuratProject   \n",
       " MO1_AAACCAACAACCGCCA-1  igvf_sc-islet_10X-Multiome_10Aug23  SeuratProject   \n",
       " MO1_AAACCGCGTATTGTGG-1  igvf_sc-islet_10X-Multiome_10Aug23  SeuratProject   \n",
       " MO1_AAACGCGCAAGCCACT-1  igvf_sc-islet_10X-Multiome_10Aug23  SeuratProject   \n",
       " MO1_AAACGCGCAGTTATCG-1  igvf_sc-islet_10X-Multiome_10Aug23  SeuratProject   \n",
       " \n",
       "                          nCount_RNA  nFeature_RNA  percent.mt  nCount_RNA_raw  \\\n",
       " MO1_AAACAGCCAGCAATAA-1  7140.390126          2937    0.000000            7781   \n",
       " MO1_AAACCAACAACCGCCA-1  5083.686880          2651    0.000000            5564   \n",
       " MO1_AAACCGCGTATTGTGG-1  8302.654374          3797    0.000000            9338   \n",
       " MO1_AAACGCGCAAGCCACT-1  5772.429015          3107    0.005388            6430   \n",
       " MO1_AAACGCGCAGTTATCG-1  2732.242968          1822    0.140443            2912   \n",
       " \n",
       "                         ...  atac_pct.mt  TSS.enrichment  TSS.percentile  \\\n",
       " MO1_AAACAGCCAGCAATAA-1  ...     0.629753        4.811552            0.15   \n",
       " MO1_AAACCAACAACCGCCA-1  ...     0.597243        5.251150            0.51   \n",
       " MO1_AAACCGCGTATTGTGG-1  ...     0.733843        4.083190            0.01   \n",
       " MO1_AAACGCGCAAGCCACT-1  ...     0.445260        4.810653            0.15   \n",
       " MO1_AAACGCGCAGTTATCG-1  ...     1.289934        4.997553            0.27   \n",
       " \n",
       "                         mpeak.weight  wsnn_res.0.3       cell.type.1  \\\n",
       " MO1_AAACAGCCAGCAATAA-1      0.150786             4  pre.SC.endocrine   \n",
       " MO1_AAACCAACAACCGCCA-1      0.322520            11      SC.endocrine   \n",
       " MO1_AAACCGCGTATTGTGG-1      0.320034             4  pre.SC.endocrine   \n",
       " MO1_AAACGCGCAAGCCACT-1      0.215760             3      SC.endocrine   \n",
       " MO1_AAACGCGCAGTTATCG-1      0.357753             0      SC.endocrine   \n",
       " \n",
       "                          cell.type.2  predicted.cell.type  \\\n",
       " MO1_AAACAGCCAGCAATAA-1  pre.SC.alpha         pre.SC.alpha   \n",
       " MO1_AAACCAACAACCGCCA-1      SC.delta             SC.delta   \n",
       " MO1_AAACCGCGTATTGTGG-1  pre.SC.alpha         pre.SC.alpha   \n",
       " MO1_AAACGCGCAAGCCACT-1         SC.EC                SC.EC   \n",
       " MO1_AAACGCGCAGTTATCG-1       SC.beta              SC.beta   \n",
       " \n",
       "                         predicted.cell.type.score             barcode  \n",
       " MO1_AAACAGCCAGCAATAA-1                    1.00000  AAACAGCCAGCAATAA-1  \n",
       " MO1_AAACCAACAACCGCCA-1                    1.00000  AAACCAACAACCGCCA-1  \n",
       " MO1_AAACCGCGTATTGTGG-1                    0.99152  AAACCGCGTATTGTGG-1  \n",
       " MO1_AAACGCGCAAGCCACT-1                    1.00000  AAACGCGCAAGCCACT-1  \n",
       " MO1_AAACGCGCAGTTATCG-1                    1.00000  AAACGCGCAGTTATCG-1  \n",
       " \n",
       " [5 rows x 42 columns],\n",
       " ['chr1:9720-10674',\n",
       "  'chr1:28830-29744',\n",
       "  'chr1:180609-181647',\n",
       "  'chr1:183869-184817',\n",
       "  'chr1:186252-187321'])"
      ]
     },
     "execution_count": 34,
     "metadata": {},
     "output_type": "execute_result"
    }
   ],
   "source": [
    "# Check the object\n",
    "cistopic_obj.project, cistopic_obj.fragment_matrix.shape, cistopic_obj.cell_data.head(), cistopic_obj.region_names[:5]"
   ]
  },
  {
   "cell_type": "code",
   "execution_count": 35,
   "metadata": {},
   "outputs": [],
   "source": [
    "# Save the cistopic object\n",
    "pickle.dump(\n",
    "    cistopic_obj,\n",
    "    open(os.path.join(output_dir, \"cistopic_obj.pkl\"), 'wb')\n",
    ")"
   ]
  },
  {
   "attachments": {},
   "cell_type": "markdown",
   "metadata": {},
   "source": [
    "# Check the load"
   ]
  },
  {
   "cell_type": "code",
   "execution_count": 36,
   "metadata": {},
   "outputs": [],
   "source": [
    "cistopic_obj_load = pickle.load(open(os.path.join(output_dir, \"cistopic_obj.pkl\"), 'rb'))"
   ]
  },
  {
   "cell_type": "code",
   "execution_count": 37,
   "metadata": {},
   "outputs": [
    {
     "data": {
      "text/plain": [
       "('igvf_sc-islet_10X-Multiome_10Aug23',\n",
       " (262418, 83289),\n",
       "                        cisTopic_nr_frag cisTopic_log_nr_frag cisTopic_nr_acc  \\\n",
       " MO1_AAACAGCCAGCAATAA-1             6161             3.789651            5581   \n",
       " MO1_AAACCAACAACCGCCA-1            17040              4.23147           13284   \n",
       " MO1_AAACCGCGTATTGTGG-1             8642             3.936614            7781   \n",
       " MO1_AAACGCGCAAGCCACT-1            16741             4.223781           13457   \n",
       " MO1_AAACGCGCAGTTATCG-1            11428              4.05797            9567   \n",
       " \n",
       "                        cisTopic_log_nr_acc  \\\n",
       " MO1_AAACAGCCAGCAATAA-1            3.746712   \n",
       " MO1_AAACCAACAACCGCCA-1            4.123329   \n",
       " MO1_AAACCGCGTATTGTGG-1            3.891035   \n",
       " MO1_AAACGCGCAAGCCACT-1            4.128948   \n",
       " MO1_AAACGCGCAGTTATCG-1            3.980776   \n",
       " \n",
       "                                                  sample_id     orig.ident  \\\n",
       " MO1_AAACAGCCAGCAATAA-1  igvf_sc-islet_10X-Multiome_10Aug23  SeuratProject   \n",
       " MO1_AAACCAACAACCGCCA-1  igvf_sc-islet_10X-Multiome_10Aug23  SeuratProject   \n",
       " MO1_AAACCGCGTATTGTGG-1  igvf_sc-islet_10X-Multiome_10Aug23  SeuratProject   \n",
       " MO1_AAACGCGCAAGCCACT-1  igvf_sc-islet_10X-Multiome_10Aug23  SeuratProject   \n",
       " MO1_AAACGCGCAGTTATCG-1  igvf_sc-islet_10X-Multiome_10Aug23  SeuratProject   \n",
       " \n",
       "                          nCount_RNA  nFeature_RNA  percent.mt  nCount_RNA_raw  \\\n",
       " MO1_AAACAGCCAGCAATAA-1  7140.390126          2937    0.000000            7781   \n",
       " MO1_AAACCAACAACCGCCA-1  5083.686880          2651    0.000000            5564   \n",
       " MO1_AAACCGCGTATTGTGG-1  8302.654374          3797    0.000000            9338   \n",
       " MO1_AAACGCGCAAGCCACT-1  5772.429015          3107    0.005388            6430   \n",
       " MO1_AAACGCGCAGTTATCG-1  2732.242968          1822    0.140443            2912   \n",
       " \n",
       "                         ...  atac_pct.mt  TSS.enrichment  TSS.percentile  \\\n",
       " MO1_AAACAGCCAGCAATAA-1  ...     0.629753        4.811552            0.15   \n",
       " MO1_AAACCAACAACCGCCA-1  ...     0.597243        5.251150            0.51   \n",
       " MO1_AAACCGCGTATTGTGG-1  ...     0.733843        4.083190            0.01   \n",
       " MO1_AAACGCGCAAGCCACT-1  ...     0.445260        4.810653            0.15   \n",
       " MO1_AAACGCGCAGTTATCG-1  ...     1.289934        4.997553            0.27   \n",
       " \n",
       "                         mpeak.weight  wsnn_res.0.3       cell.type.1  \\\n",
       " MO1_AAACAGCCAGCAATAA-1      0.150786             4  pre.SC.endocrine   \n",
       " MO1_AAACCAACAACCGCCA-1      0.322520            11      SC.endocrine   \n",
       " MO1_AAACCGCGTATTGTGG-1      0.320034             4  pre.SC.endocrine   \n",
       " MO1_AAACGCGCAAGCCACT-1      0.215760             3      SC.endocrine   \n",
       " MO1_AAACGCGCAGTTATCG-1      0.357753             0      SC.endocrine   \n",
       " \n",
       "                          cell.type.2  predicted.cell.type  \\\n",
       " MO1_AAACAGCCAGCAATAA-1  pre.SC.alpha         pre.SC.alpha   \n",
       " MO1_AAACCAACAACCGCCA-1      SC.delta             SC.delta   \n",
       " MO1_AAACCGCGTATTGTGG-1  pre.SC.alpha         pre.SC.alpha   \n",
       " MO1_AAACGCGCAAGCCACT-1         SC.EC                SC.EC   \n",
       " MO1_AAACGCGCAGTTATCG-1       SC.beta              SC.beta   \n",
       " \n",
       "                         predicted.cell.type.score             barcode  \n",
       " MO1_AAACAGCCAGCAATAA-1                    1.00000  AAACAGCCAGCAATAA-1  \n",
       " MO1_AAACCAACAACCGCCA-1                    1.00000  AAACCAACAACCGCCA-1  \n",
       " MO1_AAACCGCGTATTGTGG-1                    0.99152  AAACCGCGTATTGTGG-1  \n",
       " MO1_AAACGCGCAAGCCACT-1                    1.00000  AAACGCGCAAGCCACT-1  \n",
       " MO1_AAACGCGCAGTTATCG-1                    1.00000  AAACGCGCAGTTATCG-1  \n",
       " \n",
       " [5 rows x 42 columns],\n",
       " ['chr1:9720-10674',\n",
       "  'chr1:28830-29744',\n",
       "  'chr1:180609-181647',\n",
       "  'chr1:183869-184817',\n",
       "  'chr1:186252-187321'])"
      ]
     },
     "execution_count": 37,
     "metadata": {},
     "output_type": "execute_result"
    }
   ],
   "source": [
    "# Check the object\n",
    "cistopic_obj_load.project, cistopic_obj_load.fragment_matrix.shape, cistopic_obj_load.cell_data.head(), cistopic_obj_load.region_names[:5]"
   ]
  },
  {
   "attachments": {},
   "cell_type": "markdown",
   "metadata": {},
   "source": [
    "# DONE!"
   ]
  },
  {
   "attachments": {},
   "cell_type": "markdown",
   "metadata": {},
   "source": [
    "---"
   ]
  },
  {
   "attachments": {},
   "cell_type": "markdown",
   "metadata": {},
   "source": [
    "# Scratch"
   ]
  },
  {
   "cell_type": "code",
   "execution_count": 51,
   "metadata": {},
   "outputs": [],
   "source": [
    "n_topics = ['2,', '4,', '8,', '16,', '32,', '48,', '64,', '80']"
   ]
  },
  {
   "cell_type": "code",
   "execution_count": 55,
   "metadata": {},
   "outputs": [
    {
     "data": {
      "text/plain": [
       "int"
      ]
     },
     "execution_count": 55,
     "metadata": {},
     "output_type": "execute_result"
    }
   ],
   "source": [
    "type(list(map(lambda x: int(x.split(',')[0]), n_topics))[0])"
   ]
  },
  {
   "cell_type": "code",
   "execution_count": null,
   "metadata": {},
   "outputs": [],
   "source": [
    "list(map(int, n_topics.split(',')[0]))"
   ]
  },
  {
   "cell_type": "code",
   "execution_count": 46,
   "metadata": {},
   "outputs": [],
   "source": [
    "n_topics = [\"2\", \"4\", \"8\", \"16\", \"32\", \"48\", \"64\", \"80\"]"
   ]
  },
  {
   "cell_type": "code",
   "execution_count": 47,
   "metadata": {},
   "outputs": [],
   "source": [
    "n_topics = list(map(int, n_topics))"
   ]
  },
  {
   "cell_type": "code",
   "execution_count": 48,
   "metadata": {},
   "outputs": [
    {
     "data": {
      "text/plain": [
       "[2, 4, 8, 16, 32, 48, 64, 80]"
      ]
     },
     "execution_count": 48,
     "metadata": {},
     "output_type": "execute_result"
    }
   ],
   "source": [
    "n_topics"
   ]
  },
  {
   "cell_type": "code",
   "execution_count": 40,
   "metadata": {},
   "outputs": [],
   "source": [
    "n_topics = list(map(int, n_topics[0].split(',')))"
   ]
  },
  {
   "cell_type": "code",
   "execution_count": 45,
   "metadata": {},
   "outputs": [
    {
     "data": {
      "text/plain": [
       "[2, 4, 8, 16, 32, 48, 64, 80]"
      ]
     },
     "execution_count": 45,
     "metadata": {},
     "output_type": "execute_result"
    }
   ],
   "source": []
  },
  {
   "cell_type": "code",
   "execution_count": 57,
   "metadata": {},
   "outputs": [],
   "source": [
    "from pycisTopic.lda_models import *"
   ]
  },
  {
   "cell_type": "code",
   "execution_count": 58,
   "metadata": {},
   "outputs": [
    {
     "name": "stdout",
     "output_type": "stream",
     "text": [
      "\u001b[0;31mSignature:\u001b[0m\n",
      "\u001b[0mrun_cgs_models_mallet\u001b[0m\u001b[0;34m(\u001b[0m\u001b[0;34m\u001b[0m\n",
      "\u001b[0;34m\u001b[0m    \u001b[0mpath_to_mallet_binary\u001b[0m\u001b[0;34m:\u001b[0m \u001b[0mstr\u001b[0m\u001b[0;34m,\u001b[0m\u001b[0;34m\u001b[0m\n",
      "\u001b[0;34m\u001b[0m    \u001b[0mcistopic_obj\u001b[0m\u001b[0;34m:\u001b[0m \u001b[0;34m'cisTopicObject'\u001b[0m\u001b[0;34m,\u001b[0m\u001b[0;34m\u001b[0m\n",
      "\u001b[0;34m\u001b[0m    \u001b[0mn_topics\u001b[0m\u001b[0;34m:\u001b[0m \u001b[0mList\u001b[0m\u001b[0;34m[\u001b[0m\u001b[0mint\u001b[0m\u001b[0;34m]\u001b[0m\u001b[0;34m,\u001b[0m\u001b[0;34m\u001b[0m\n",
      "\u001b[0;34m\u001b[0m    \u001b[0mn_cpu\u001b[0m\u001b[0;34m:\u001b[0m \u001b[0mUnion\u001b[0m\u001b[0;34m[\u001b[0m\u001b[0mint\u001b[0m\u001b[0;34m,\u001b[0m \u001b[0mNoneType\u001b[0m\u001b[0;34m]\u001b[0m \u001b[0;34m=\u001b[0m \u001b[0;36m1\u001b[0m\u001b[0;34m,\u001b[0m\u001b[0;34m\u001b[0m\n",
      "\u001b[0;34m\u001b[0m    \u001b[0mn_iter\u001b[0m\u001b[0;34m:\u001b[0m \u001b[0mUnion\u001b[0m\u001b[0;34m[\u001b[0m\u001b[0mint\u001b[0m\u001b[0;34m,\u001b[0m \u001b[0mNoneType\u001b[0m\u001b[0;34m]\u001b[0m \u001b[0;34m=\u001b[0m \u001b[0;36m150\u001b[0m\u001b[0;34m,\u001b[0m\u001b[0;34m\u001b[0m\n",
      "\u001b[0;34m\u001b[0m    \u001b[0mrandom_state\u001b[0m\u001b[0;34m:\u001b[0m \u001b[0mUnion\u001b[0m\u001b[0;34m[\u001b[0m\u001b[0mint\u001b[0m\u001b[0;34m,\u001b[0m \u001b[0mNoneType\u001b[0m\u001b[0;34m]\u001b[0m \u001b[0;34m=\u001b[0m \u001b[0;36m555\u001b[0m\u001b[0;34m,\u001b[0m\u001b[0;34m\u001b[0m\n",
      "\u001b[0;34m\u001b[0m    \u001b[0malpha\u001b[0m\u001b[0;34m:\u001b[0m \u001b[0mUnion\u001b[0m\u001b[0;34m[\u001b[0m\u001b[0mfloat\u001b[0m\u001b[0;34m,\u001b[0m \u001b[0mNoneType\u001b[0m\u001b[0;34m]\u001b[0m \u001b[0;34m=\u001b[0m \u001b[0;36m50\u001b[0m\u001b[0;34m,\u001b[0m\u001b[0;34m\u001b[0m\n",
      "\u001b[0;34m\u001b[0m    \u001b[0malpha_by_topic\u001b[0m\u001b[0;34m:\u001b[0m \u001b[0mUnion\u001b[0m\u001b[0;34m[\u001b[0m\u001b[0mbool\u001b[0m\u001b[0;34m,\u001b[0m \u001b[0mNoneType\u001b[0m\u001b[0;34m]\u001b[0m \u001b[0;34m=\u001b[0m \u001b[0;32mTrue\u001b[0m\u001b[0;34m,\u001b[0m\u001b[0;34m\u001b[0m\n",
      "\u001b[0;34m\u001b[0m    \u001b[0meta\u001b[0m\u001b[0;34m:\u001b[0m \u001b[0mUnion\u001b[0m\u001b[0;34m[\u001b[0m\u001b[0mfloat\u001b[0m\u001b[0;34m,\u001b[0m \u001b[0mNoneType\u001b[0m\u001b[0;34m]\u001b[0m \u001b[0;34m=\u001b[0m \u001b[0;36m0.1\u001b[0m\u001b[0;34m,\u001b[0m\u001b[0;34m\u001b[0m\n",
      "\u001b[0;34m\u001b[0m    \u001b[0meta_by_topic\u001b[0m\u001b[0;34m:\u001b[0m \u001b[0mUnion\u001b[0m\u001b[0;34m[\u001b[0m\u001b[0mbool\u001b[0m\u001b[0;34m,\u001b[0m \u001b[0mNoneType\u001b[0m\u001b[0;34m]\u001b[0m \u001b[0;34m=\u001b[0m \u001b[0;32mFalse\u001b[0m\u001b[0;34m,\u001b[0m\u001b[0;34m\u001b[0m\n",
      "\u001b[0;34m\u001b[0m    \u001b[0mtop_topics_coh\u001b[0m\u001b[0;34m:\u001b[0m \u001b[0mUnion\u001b[0m\u001b[0;34m[\u001b[0m\u001b[0mint\u001b[0m\u001b[0;34m,\u001b[0m \u001b[0mNoneType\u001b[0m\u001b[0;34m]\u001b[0m \u001b[0;34m=\u001b[0m \u001b[0;36m5\u001b[0m\u001b[0;34m,\u001b[0m\u001b[0;34m\u001b[0m\n",
      "\u001b[0;34m\u001b[0m    \u001b[0mtmp_path\u001b[0m\u001b[0;34m:\u001b[0m \u001b[0mUnion\u001b[0m\u001b[0;34m[\u001b[0m\u001b[0mstr\u001b[0m\u001b[0;34m,\u001b[0m \u001b[0mNoneType\u001b[0m\u001b[0;34m]\u001b[0m \u001b[0;34m=\u001b[0m \u001b[0;32mNone\u001b[0m\u001b[0;34m,\u001b[0m\u001b[0;34m\u001b[0m\n",
      "\u001b[0;34m\u001b[0m    \u001b[0msave_path\u001b[0m\u001b[0;34m:\u001b[0m \u001b[0mUnion\u001b[0m\u001b[0;34m[\u001b[0m\u001b[0mstr\u001b[0m\u001b[0;34m,\u001b[0m \u001b[0mNoneType\u001b[0m\u001b[0;34m]\u001b[0m \u001b[0;34m=\u001b[0m \u001b[0;32mNone\u001b[0m\u001b[0;34m,\u001b[0m\u001b[0;34m\u001b[0m\n",
      "\u001b[0;34m\u001b[0m    \u001b[0mreuse_corpus\u001b[0m\u001b[0;34m:\u001b[0m \u001b[0mUnion\u001b[0m\u001b[0;34m[\u001b[0m\u001b[0mbool\u001b[0m\u001b[0;34m,\u001b[0m \u001b[0mNoneType\u001b[0m\u001b[0;34m]\u001b[0m \u001b[0;34m=\u001b[0m \u001b[0;32mFalse\u001b[0m\u001b[0;34m,\u001b[0m\u001b[0;34m\u001b[0m\n",
      "\u001b[0;34m\u001b[0m\u001b[0;34m)\u001b[0m\u001b[0;34m\u001b[0m\u001b[0;34m\u001b[0m\u001b[0m\n",
      "\u001b[0;31mDocstring:\u001b[0m\n",
      "Run Latent Dirichlet Allocation per model as implemented in Mallet (McCallum, 2002).\n",
      "\n",
      "Parameters\n",
      "----------\n",
      "path_to_mallet_binary: str\n",
      "    Path to the mallet binary (e.g. /xxx/Mallet/bin/mallet).\n",
      "cistopic_obj: cisTopicObject\n",
      "    A :class:`cisTopicObject`. Note that cells/regions have to be filtered before running any LDA model.\n",
      "n_topics: list of int\n",
      "    A list containing the number of topics to use in each model.\n",
      "n_cpu: int, optional\n",
      "    Number of cpus to use for modelling. In this function parallelization is done per model, that is, one model will run entirely in a unique cpu. We recommend to set the number of cpus as the number of models that will be inferred, so all models start at the same time.\n",
      "n_iter: int, optional\n",
      "    Number of iterations for which the Gibbs sampler will be run. Default: 150.\n",
      "random_state: int, optional\n",
      "    Random seed to initialize the models. Default: 555.\n",
      "alpha: float, optional\n",
      "    Scalar value indicating the symmetric Dirichlet hyperparameter for topic proportions. Default: 50.\n",
      "alpha_by_topic: bool, optional\n",
      "    Boolean indicating whether the scalar given in alpha has to be divided by the number of topics. Default: True\n",
      "eta: float, optional\n",
      "    Scalar value indicating the symmetric Dirichlet hyperparameter for topic multinomials. Default: 0.1.\n",
      "eta_by_topic: bool, optional\n",
      "    Boolean indicating whether the scalar given in beta has to be divided by the number of topics. Default: False\n",
      "top_topics_coh: int, optional\n",
      "    Number of topics to use to calculate the model coherence. For each model, the coherence will be calculated as the average of the top coherence values. Default: 5.\n",
      "tmp_path: str, optional\n",
      "    Path to a temporary folder for Mallet. Default: None.\n",
      "save_path: str, optional\n",
      "    Path to save models as independent files as they are completed. This is recommended for large data sets. Default: None.\n",
      "reuse_corpus: bool, optional\n",
      "    Whether to reuse the mallet corpus in the tmp directory. Default: False\n",
      "Return\n",
      "------\n",
      "list of :class:`CistopicLDAModel`\n",
      "    A list with cisTopic LDA models.\n",
      "\n",
      "References\n",
      "----------\n",
      "McCallum, A. K. (2002). Mallet: A machine learning for language toolkit. http://mallet.cs.umass.edu.\n",
      "\u001b[0;31mFile:\u001b[0m      ~/opt/miniconda3/envs/scenicplus/lib/python3.8/site-packages/pycisTopic/lda_models.py\n",
      "\u001b[0;31mType:\u001b[0m      function\n"
     ]
    }
   ],
   "source": [
    "run_cgs_models_mallet?"
   ]
  },
  {
   "cell_type": "code",
   "execution_count": 4,
   "metadata": {},
   "outputs": [
    {
     "data": {
      "text/plain": [
       "'2.1.0'"
      ]
     },
     "execution_count": 4,
     "metadata": {},
     "output_type": "execute_result"
    }
   ],
   "source": [
    "import ray\n",
    "ray.__version__"
   ]
  },
  {
   "cell_type": "code",
   "execution_count": 5,
   "metadata": {},
   "outputs": [
    {
     "name": "stderr",
     "output_type": "stream",
     "text": [
      "2023-08-21 19:00:10,940\tINFO worker.py:1519 -- Started a local Ray instance. View the dashboard at \u001b[1m\u001b[32mhttp://127.0.0.1:8265 \u001b[39m\u001b[22m\n"
     ]
    },
    {
     "data": {
      "text/html": [
       "<div>\n",
       "    <div style=\"margin-left: 50px;display: flex;flex-direction: row;align-items: center\">\n",
       "        <h3 style=\"color: var(--jp-ui-font-color0)\">Ray</h3>\n",
       "        <svg version=\"1.1\" id=\"ray\" width=\"3em\" viewBox=\"0 0 144.5 144.6\" style=\"margin-left: 3em;margin-right: 3em\">\n",
       "            <g id=\"layer-1\">\n",
       "                <path fill=\"#00a2e9\" class=\"st0\" d=\"M97.3,77.2c-3.8-1.1-6.2,0.9-8.3,5.1c-3.5,6.8-9.9,9.9-17.4,9.6S58,88.1,54.8,81.2c-1.4-3-3-4-6.3-4.1\n",
       "                    c-5.6-0.1-9.9,0.1-13.1,6.4c-3.8,7.6-13.6,10.2-21.8,7.6C5.2,88.4-0.4,80.5,0,71.7c0.1-8.4,5.7-15.8,13.8-18.2\n",
       "                    c8.4-2.6,17.5,0.7,22.3,8c1.3,1.9,1.3,5.2,3.6,5.6c3.9,0.6,8,0.2,12,0.2c1.8,0,1.9-1.6,2.4-2.8c3.5-7.8,9.7-11.8,18-11.9\n",
       "                    c8.2-0.1,14.4,3.9,17.8,11.4c1.3,2.8,2.9,3.6,5.7,3.3c1-0.1,2,0.1,3,0c2.8-0.5,6.4,1.7,8.1-2.7s-2.3-5.5-4.1-7.5\n",
       "                    c-5.1-5.7-10.9-10.8-16.1-16.3C84,38,81.9,37.1,78,38.3C66.7,42,56.2,35.7,53,24.1C50.3,14,57.3,2.8,67.7,0.5\n",
       "                    C78.4-2,89,4.7,91.5,15.3c0.1,0.3,0.1,0.5,0.2,0.8c0.7,3.4,0.7,6.9-0.8,9.8c-1.7,3.2-0.8,5,1.5,7.2c6.7,6.5,13.3,13,19.8,19.7\n",
       "                    c1.8,1.8,3,2.1,5.5,1.2c9.1-3.4,17.9-0.6,23.4,7c4.8,6.9,4.6,16.1-0.4,22.9c-5.4,7.2-14.2,9.9-23.1,6.5c-2.3-0.9-3.5-0.6-5.1,1.1\n",
       "                    c-6.7,6.9-13.6,13.7-20.5,20.4c-1.8,1.8-2.5,3.2-1.4,5.9c3.5,8.7,0.3,18.6-7.7,23.6c-7.9,5-18.2,3.8-24.8-2.9\n",
       "                    c-6.4-6.4-7.4-16.2-2.5-24.3c4.9-7.8,14.5-11,23.1-7.8c3,1.1,4.7,0.5,6.9-1.7C91.7,98.4,98,92.3,104.2,86c1.6-1.6,4.1-2.7,2.6-6.2\n",
       "                    c-1.4-3.3-3.8-2.5-6.2-2.6C99.8,77.2,98.9,77.2,97.3,77.2z M72.1,29.7c5.5,0.1,9.9-4.3,10-9.8c0-0.1,0-0.2,0-0.3\n",
       "                    C81.8,14,77,9.8,71.5,10.2c-5,0.3-9,4.2-9.3,9.2c-0.2,5.5,4,10.1,9.5,10.3C71.8,29.7,72,29.7,72.1,29.7z M72.3,62.3\n",
       "                    c-5.4-0.1-9.9,4.2-10.1,9.7c0,0.2,0,0.3,0,0.5c0.2,5.4,4.5,9.7,9.9,10c5.1,0.1,9.9-4.7,10.1-9.8c0.2-5.5-4-10-9.5-10.3\n",
       "                    C72.6,62.3,72.4,62.3,72.3,62.3z M115,72.5c0.1,5.4,4.5,9.7,9.8,9.9c5.6-0.2,10-4.8,10-10.4c-0.2-5.4-4.6-9.7-10-9.7\n",
       "                    c-5.3-0.1-9.8,4.2-9.9,9.5C115,72.1,115,72.3,115,72.5z M19.5,62.3c-5.4,0.1-9.8,4.4-10,9.8c-0.1,5.1,5.2,10.4,10.2,10.3\n",
       "                    c5.6-0.2,10-4.9,9.8-10.5c-0.1-5.4-4.5-9.7-9.9-9.6C19.6,62.3,19.5,62.3,19.5,62.3z M71.8,134.6c5.9,0.2,10.3-3.9,10.4-9.6\n",
       "                    c0.5-5.5-3.6-10.4-9.1-10.8c-5.5-0.5-10.4,3.6-10.8,9.1c0,0.5,0,0.9,0,1.4c-0.2,5.3,4,9.8,9.3,10\n",
       "                    C71.6,134.6,71.7,134.6,71.8,134.6z\"/>\n",
       "            </g>\n",
       "        </svg>\n",
       "        <table>\n",
       "            <tr>\n",
       "                <td style=\"text-align: left\"><b>Python version:</b></td>\n",
       "                <td style=\"text-align: left\"><b>3.8.15</b></td>\n",
       "            </tr>\n",
       "            <tr>\n",
       "                <td style=\"text-align: left\"><b>Ray version:</b></td>\n",
       "                <td style=\"text-align: left\"><b> 2.1.0</b></td>\n",
       "            </tr>\n",
       "            <tr>\n",
       "    <td style=\"text-align: left\"><b>Dashboard:</b></td>\n",
       "    <td style=\"text-align: left\"><b><a href=\"http://127.0.0.1:8265\" target=\"_blank\">http://127.0.0.1:8265</a></b></td>\n",
       "</tr>\n",
       "\n",
       "        </table>\n",
       "    </div>\n",
       "</div>\n"
      ],
      "text/plain": [
       "RayContext(dashboard_url='127.0.0.1:8265', python_version='3.8.15', ray_version='2.1.0', ray_commit='be49bde7ee4f6adb3f8710aee0665c27f9f0bb62', address_info={'node_ip_address': '192.168.169.113', 'raylet_ip_address': '192.168.169.113', 'redis_address': None, 'object_store_address': '/tmp/ray/session_2023-08-21_18-59-54_709194_2500964/sockets/plasma_store', 'raylet_socket_name': '/tmp/ray/session_2023-08-21_18-59-54_709194_2500964/sockets/raylet', 'webui_url': '127.0.0.1:8265', 'session_dir': '/tmp/ray/session_2023-08-21_18-59-54_709194_2500964', 'metrics_export_port': 59779, 'gcs_address': '192.168.169.113:64857', 'address': '192.168.169.113:64857', 'dashboard_agent_listen_port': 52365, 'node_id': '3ddeeeb23e390db833d12670ec75b8da2fa56a586777ce5bcaba162c'})"
      ]
     },
     "execution_count": 5,
     "metadata": {},
     "output_type": "execute_result"
    }
   ],
   "source": [
    "ray.init(num_cpus=4)"
   ]
  },
  {
   "cell_type": "code",
   "execution_count": 6,
   "metadata": {},
   "outputs": [],
   "source": [
    "ray.shutdown()"
   ]
  }
 ],
 "metadata": {
  "kernelspec": {
   "display_name": "Python 3.8 scenicplus",
   "language": "python",
   "name": "scenicplus"
  },
  "language_info": {
   "codemirror_mode": {
    "name": "ipython",
    "version": 3
   },
   "file_extension": ".py",
   "mimetype": "text/x-python",
   "name": "python",
   "nbconvert_exporter": "python",
   "pygments_lexer": "ipython3",
   "version": "3.8.15"
  },
  "orig_nbformat": 4
 },
 "nbformat": 4,
 "nbformat_minor": 2
}
