{
 "cells": [
  {
   "cell_type": "markdown",
   "id": "6984dcb3",
   "metadata": {},
   "source": [
    "# Run cisTopic"
   ]
  },
  {
   "cell_type": "code",
   "execution_count": 45,
   "id": "49bade79-3bf5-45cc-b8af-bc3485483c57",
   "metadata": {
    "execution": {
     "iopub.execute_input": "2023-02-02T16:32:54.579159Z",
     "iopub.status.busy": "2023-02-02T16:32:54.578634Z",
     "iopub.status.idle": "2023-02-02T16:32:57.137388Z",
     "shell.execute_reply": "2023-02-02T16:32:57.136947Z",
     "shell.execute_reply.started": "2023-02-02T16:32:54.579137Z"
    },
    "tags": [],
    "vscode": {
     "languageId": "python"
    }
   },
   "outputs": [],
   "source": [
    "import os\n",
    "import pickle\n",
    "import pandas as pd\n",
    "from scipy.io import mmread\n",
    "from pycisTopic.cistopic_class import create_cistopic_object\n",
    "from pycisTopic.cistopic_class import create_cistopic_object_from_fragments"
   ]
  },
  {
   "cell_type": "code",
   "execution_count": 3,
   "id": "9e9ac42b-c25e-4e67-90a3-eae6e6c1d24b",
   "metadata": {
    "execution": {
     "iopub.execute_input": "2023-02-02T16:32:57.138403Z",
     "iopub.status.busy": "2023-02-02T16:32:57.138166Z",
     "iopub.status.idle": "2023-02-02T16:32:57.140604Z",
     "shell.execute_reply": "2023-02-02T16:32:57.140242Z",
     "shell.execute_reply.started": "2023-02-02T16:32:57.138388Z"
    },
    "tags": [],
    "vscode": {
     "languageId": "python"
    }
   },
   "outputs": [],
   "source": [
    "data_dir = '/cellar/users/aklie/projects/igvf/beta_cell_networks/data/multiome_stimulated_sc'\n",
    "tmp_dir = '/cellar/users/aklie/tmp/'\n",
    "out_dir = '/cellar/users/aklie/projects/igvf/beta_cell_networks/scratch/infer_cellular_programs/cistopic/results'\n",
    "\n",
    "if not os.path.exists(out_dir):\n",
    "    os.makedirs(out_dir)"
   ]
  },
  {
   "cell_type": "markdown",
   "id": "7488cda9",
   "metadata": {},
   "source": [
    "## Create python object"
   ]
  },
  {
   "attachments": {},
   "cell_type": "markdown",
   "id": "af48ae71",
   "metadata": {},
   "source": [
    "## From sparse count matrix"
   ]
  },
  {
   "cell_type": "code",
   "execution_count": 47,
   "id": "cddd06e0",
   "metadata": {
    "vscode": {
     "languageId": "python"
    }
   },
   "outputs": [],
   "source": [
    "# Define arguments\n",
    "counts_matrix_path = os.path.join(data_dir, 'matrix', 'dm023_palmitate', 'dm023_palmitate_endocrine_SC.delta_mpeak.count.mtx')\n",
    "barcodes_path = os.path.join(data_dir, 'barcodes', 'dm023_palmitate', 'dm023_palmitate_endocrine_SC.delta_barcodes.tsv')\n",
    "regions_path = os.path.join(data_dir, 'matrix', 'dm023_palmitate', 'dm023_palmitate_endocrine_SC.delta_mpeak.var.tsv')\n",
    "cell_metadata_path = os.path.join(data_dir, 'metadata', 'dm023_palmitate', 'dm023_palmitate_endocrine_SC.delta_metadata.csv')\n",
    "blacklist_path = '/cellar/users/aklie/opt/pycisTopic/blacklist/hg38-blacklist.v2.bed'\n",
    "out_dir = '/cellar/users/aklie/projects/igvf/beta_cell_networks/scratch/infer_cellular_programs/cistopic/results/multiome_stimulated_sc'\n",
    "project_name = 'dm023_palmitate_endocrine_SC.delta.notebook_test'"
   ]
  },
  {
   "cell_type": "code",
   "execution_count": 48,
   "id": "ab305aab-b9d9-4932-8e39-8e7783207233",
   "metadata": {
    "tags": [],
    "vscode": {
     "languageId": "python"
    }
   },
   "outputs": [
    {
     "data": {
      "text/plain": [
       "186"
      ]
     },
     "execution_count": 48,
     "metadata": {},
     "output_type": "execute_result"
    }
   ],
   "source": [
    "bcs = pd.read_csv(barcodes_path, sep=\"\\t\", header=None)[0].values\n",
    "len(bcs)"
   ]
  },
  {
   "cell_type": "code",
   "execution_count": 49,
   "id": "cdef53a1",
   "metadata": {
    "vscode": {
     "languageId": "python"
    }
   },
   "outputs": [
    {
     "name": "stdout",
     "output_type": "stream",
     "text": [
      "186\n"
     ]
    },
    {
     "data": {
      "text/html": [
       "<div>\n",
       "<style scoped>\n",
       "    .dataframe tbody tr th:only-of-type {\n",
       "        vertical-align: middle;\n",
       "    }\n",
       "\n",
       "    .dataframe tbody tr th {\n",
       "        vertical-align: top;\n",
       "    }\n",
       "\n",
       "    .dataframe thead th {\n",
       "        text-align: right;\n",
       "    }\n",
       "</style>\n",
       "<table border=\"1\" class=\"dataframe\">\n",
       "  <thead>\n",
       "    <tr style=\"text-align: right;\">\n",
       "      <th></th>\n",
       "      <th>orig.ident</th>\n",
       "      <th>nCount_RNA</th>\n",
       "      <th>nFeature_RNA</th>\n",
       "      <th>percent.mt</th>\n",
       "      <th>nCount_RNA_raw</th>\n",
       "      <th>nFeature_RNA_raw</th>\n",
       "      <th>nCount_ATAC</th>\n",
       "      <th>nFeature_ATAC</th>\n",
       "      <th>nCount_SCT</th>\n",
       "      <th>nFeature_SCT</th>\n",
       "      <th>...</th>\n",
       "      <th>mpeak.weight</th>\n",
       "      <th>wsnn_res.0.3</th>\n",
       "      <th>nCount_peaks</th>\n",
       "      <th>nFeature_peaks</th>\n",
       "      <th>peaks.weight</th>\n",
       "      <th>wsnn_res.0.5</th>\n",
       "      <th>nCount_peak</th>\n",
       "      <th>nFeature_peak</th>\n",
       "      <th>cell.type.1</th>\n",
       "      <th>cell.type.2</th>\n",
       "    </tr>\n",
       "  </thead>\n",
       "  <tbody>\n",
       "    <tr>\n",
       "      <th>MO1_AAACCAACAACCGCCA-1</th>\n",
       "      <td>SeuratProject</td>\n",
       "      <td>5083.686880</td>\n",
       "      <td>2651</td>\n",
       "      <td>0.00000</td>\n",
       "      <td>5564</td>\n",
       "      <td>2655</td>\n",
       "      <td>28678</td>\n",
       "      <td>11595</td>\n",
       "      <td>5940</td>\n",
       "      <td>2637</td>\n",
       "      <td>...</td>\n",
       "      <td>0.322520</td>\n",
       "      <td>11</td>\n",
       "      <td>16257</td>\n",
       "      <td>11865</td>\n",
       "      <td>0.424601</td>\n",
       "      <td>10</td>\n",
       "      <td>16263</td>\n",
       "      <td>11870</td>\n",
       "      <td>SC.delta</td>\n",
       "      <td>SC.delta</td>\n",
       "    </tr>\n",
       "    <tr>\n",
       "      <th>MO1_AAATCCGGTCATGCCC-1</th>\n",
       "      <td>SeuratProject</td>\n",
       "      <td>10621.862955</td>\n",
       "      <td>4360</td>\n",
       "      <td>0.00000</td>\n",
       "      <td>12114</td>\n",
       "      <td>4388</td>\n",
       "      <td>31846</td>\n",
       "      <td>13055</td>\n",
       "      <td>6877</td>\n",
       "      <td>3474</td>\n",
       "      <td>...</td>\n",
       "      <td>0.157511</td>\n",
       "      <td>11</td>\n",
       "      <td>18004</td>\n",
       "      <td>13216</td>\n",
       "      <td>0.127969</td>\n",
       "      <td>10</td>\n",
       "      <td>18010</td>\n",
       "      <td>13221</td>\n",
       "      <td>SC.delta</td>\n",
       "      <td>SC.delta</td>\n",
       "    </tr>\n",
       "    <tr>\n",
       "      <th>MO1_AGCACAGCAATAATCC-1</th>\n",
       "      <td>SeuratProject</td>\n",
       "      <td>4868.694723</td>\n",
       "      <td>2484</td>\n",
       "      <td>0.00222</td>\n",
       "      <td>5309</td>\n",
       "      <td>2492</td>\n",
       "      <td>8880</td>\n",
       "      <td>4347</td>\n",
       "      <td>5896</td>\n",
       "      <td>2475</td>\n",
       "      <td>...</td>\n",
       "      <td>0.147467</td>\n",
       "      <td>11</td>\n",
       "      <td>5140</td>\n",
       "      <td>4625</td>\n",
       "      <td>0.195448</td>\n",
       "      <td>10</td>\n",
       "      <td>5140</td>\n",
       "      <td>4625</td>\n",
       "      <td>SC.delta</td>\n",
       "      <td>SC.delta</td>\n",
       "    </tr>\n",
       "    <tr>\n",
       "      <th>MO1_AGCCGGTTCCCTGATC-1</th>\n",
       "      <td>SeuratProject</td>\n",
       "      <td>12376.029583</td>\n",
       "      <td>4459</td>\n",
       "      <td>0.00000</td>\n",
       "      <td>14194</td>\n",
       "      <td>4503</td>\n",
       "      <td>45933</td>\n",
       "      <td>17879</td>\n",
       "      <td>6674</td>\n",
       "      <td>3075</td>\n",
       "      <td>...</td>\n",
       "      <td>0.352782</td>\n",
       "      <td>11</td>\n",
       "      <td>26394</td>\n",
       "      <td>17956</td>\n",
       "      <td>0.285563</td>\n",
       "      <td>10</td>\n",
       "      <td>26412</td>\n",
       "      <td>17966</td>\n",
       "      <td>SC.delta</td>\n",
       "      <td>SC.delta</td>\n",
       "    </tr>\n",
       "    <tr>\n",
       "      <th>MO1_AGCTTTAAGCTTAGTA-1</th>\n",
       "      <td>SeuratProject</td>\n",
       "      <td>3433.566856</td>\n",
       "      <td>2042</td>\n",
       "      <td>0.00000</td>\n",
       "      <td>3712</td>\n",
       "      <td>2046</td>\n",
       "      <td>29131</td>\n",
       "      <td>12201</td>\n",
       "      <td>5528</td>\n",
       "      <td>2065</td>\n",
       "      <td>...</td>\n",
       "      <td>0.387242</td>\n",
       "      <td>11</td>\n",
       "      <td>16622</td>\n",
       "      <td>12426</td>\n",
       "      <td>0.339677</td>\n",
       "      <td>10</td>\n",
       "      <td>16627</td>\n",
       "      <td>12431</td>\n",
       "      <td>SC.delta</td>\n",
       "      <td>SC.delta</td>\n",
       "    </tr>\n",
       "  </tbody>\n",
       "</table>\n",
       "<p>5 rows × 40 columns</p>\n",
       "</div>"
      ],
      "text/plain": [
       "                           orig.ident    nCount_RNA  nFeature_RNA  percent.mt  \\\n",
       "MO1_AAACCAACAACCGCCA-1  SeuratProject   5083.686880          2651     0.00000   \n",
       "MO1_AAATCCGGTCATGCCC-1  SeuratProject  10621.862955          4360     0.00000   \n",
       "MO1_AGCACAGCAATAATCC-1  SeuratProject   4868.694723          2484     0.00222   \n",
       "MO1_AGCCGGTTCCCTGATC-1  SeuratProject  12376.029583          4459     0.00000   \n",
       "MO1_AGCTTTAAGCTTAGTA-1  SeuratProject   3433.566856          2042     0.00000   \n",
       "\n",
       "                        nCount_RNA_raw  nFeature_RNA_raw  nCount_ATAC  \\\n",
       "MO1_AAACCAACAACCGCCA-1            5564              2655        28678   \n",
       "MO1_AAATCCGGTCATGCCC-1           12114              4388        31846   \n",
       "MO1_AGCACAGCAATAATCC-1            5309              2492         8880   \n",
       "MO1_AGCCGGTTCCCTGATC-1           14194              4503        45933   \n",
       "MO1_AGCTTTAAGCTTAGTA-1            3712              2046        29131   \n",
       "\n",
       "                        nFeature_ATAC  nCount_SCT  nFeature_SCT  ...  \\\n",
       "MO1_AAACCAACAACCGCCA-1          11595        5940          2637  ...   \n",
       "MO1_AAATCCGGTCATGCCC-1          13055        6877          3474  ...   \n",
       "MO1_AGCACAGCAATAATCC-1           4347        5896          2475  ...   \n",
       "MO1_AGCCGGTTCCCTGATC-1          17879        6674          3075  ...   \n",
       "MO1_AGCTTTAAGCTTAGTA-1          12201        5528          2065  ...   \n",
       "\n",
       "                        mpeak.weight  wsnn_res.0.3  nCount_peaks  \\\n",
       "MO1_AAACCAACAACCGCCA-1      0.322520            11         16257   \n",
       "MO1_AAATCCGGTCATGCCC-1      0.157511            11         18004   \n",
       "MO1_AGCACAGCAATAATCC-1      0.147467            11          5140   \n",
       "MO1_AGCCGGTTCCCTGATC-1      0.352782            11         26394   \n",
       "MO1_AGCTTTAAGCTTAGTA-1      0.387242            11         16622   \n",
       "\n",
       "                        nFeature_peaks  peaks.weight  wsnn_res.0.5  \\\n",
       "MO1_AAACCAACAACCGCCA-1           11865      0.424601            10   \n",
       "MO1_AAATCCGGTCATGCCC-1           13216      0.127969            10   \n",
       "MO1_AGCACAGCAATAATCC-1            4625      0.195448            10   \n",
       "MO1_AGCCGGTTCCCTGATC-1           17956      0.285563            10   \n",
       "MO1_AGCTTTAAGCTTAGTA-1           12426      0.339677            10   \n",
       "\n",
       "                        nCount_peak  nFeature_peak  cell.type.1  cell.type.2  \n",
       "MO1_AAACCAACAACCGCCA-1        16263          11870     SC.delta     SC.delta  \n",
       "MO1_AAATCCGGTCATGCCC-1        18010          13221     SC.delta     SC.delta  \n",
       "MO1_AGCACAGCAATAATCC-1         5140           4625     SC.delta     SC.delta  \n",
       "MO1_AGCCGGTTCCCTGATC-1        26412          17966     SC.delta     SC.delta  \n",
       "MO1_AGCTTTAAGCTTAGTA-1        16627          12431     SC.delta     SC.delta  \n",
       "\n",
       "[5 rows x 40 columns]"
      ]
     },
     "execution_count": 49,
     "metadata": {},
     "output_type": "execute_result"
    }
   ],
   "source": [
    "cell_data = pd.read_csv(cell_metadata_path, index_col=0)\n",
    "print(len(cell_data))\n",
    "cell_data.head()"
   ]
  },
  {
   "cell_type": "code",
   "execution_count": 50,
   "id": "93cf5204",
   "metadata": {
    "vscode": {
     "languageId": "python"
    }
   },
   "outputs": [
    {
     "data": {
      "text/plain": [
       "215116"
      ]
     },
     "execution_count": 50,
     "metadata": {},
     "output_type": "execute_result"
    }
   ],
   "source": [
    "# Get rownames from counts matrix\n",
    "regions = pd.read_csv(regions_path, sep=\"\\t\", header=None)[0].values\n",
    "len(regions)"
   ]
  },
  {
   "cell_type": "code",
   "execution_count": 17,
   "id": "21a956d6",
   "metadata": {
    "vscode": {
     "languageId": "python"
    }
   },
   "outputs": [
    {
     "data": {
      "text/plain": [
       "(215116, 186)"
      ]
     },
     "execution_count": 17,
     "metadata": {},
     "output_type": "execute_result"
    }
   ],
   "source": [
    "cnt_mtx = mmread(counts_matrix_path).tocsr()\n",
    "cnt_mtx.shape"
   ]
  },
  {
   "cell_type": "code",
   "execution_count": 18,
   "id": "7b8bee9c",
   "metadata": {
    "vscode": {
     "languageId": "python"
    }
   },
   "outputs": [
    {
     "data": {
      "text/plain": [
       "((215116, 186), 186, 215116)"
      ]
     },
     "execution_count": 18,
     "metadata": {},
     "output_type": "execute_result"
    }
   ],
   "source": [
    "cnt_mtx.shape, len(bcs), len(regions)"
   ]
  },
  {
   "cell_type": "code",
   "execution_count": 19,
   "id": "2fec47f6",
   "metadata": {
    "vscode": {
     "languageId": "python"
    }
   },
   "outputs": [
    {
     "data": {
      "text/plain": [
       "array(['chr1:9739-10674', 'chr1:28863-29744', 'chr1:180651-181588',\n",
       "       'chr1:183892-184817', 'chr1:186256-187321'], dtype=object)"
      ]
     },
     "execution_count": 19,
     "metadata": {},
     "output_type": "execute_result"
    }
   ],
   "source": [
    "regions[:5]"
   ]
  },
  {
   "cell_type": "code",
   "execution_count": 20,
   "id": "ecd4835d-cc3c-43ff-86a5-19e8befc27f7",
   "metadata": {
    "tags": [],
    "vscode": {
     "languageId": "python"
    }
   },
   "outputs": [
    {
     "name": "stdout",
     "output_type": "stream",
     "text": [
      "2023-04-27 10:01:16,116 cisTopic     INFO     Removing blacklisted regions\n",
      "2023-04-27 10:01:17,219 cisTopic     INFO     Creating CistopicObject\n",
      "2023-04-27 10:01:17,689 cisTopic     INFO     Done!\n"
     ]
    }
   ],
   "source": [
    "# Create cisTopic object\n",
    "cistopic_obj = create_cistopic_object(\n",
    "    fragment_matrix=cnt_mtx,\n",
    "    cell_names=bcs,\n",
    "    region_names=regions,\n",
    "    path_to_blacklist=blacklist_path,\n",
    "    project=\"SC.delta_notebook_test\"\n",
    ")"
   ]
  },
  {
   "cell_type": "code",
   "execution_count": 21,
   "id": "2d806c92-b800-4ca2-80d5-f1511e77cb7d",
   "metadata": {
    "vscode": {
     "languageId": "python"
    }
   },
   "outputs": [],
   "source": [
    "# Adding cell information\n",
    "cistopic_obj.add_cell_data(cell_data)"
   ]
  },
  {
   "cell_type": "code",
   "execution_count": 22,
   "id": "ac5d2cc6-ce27-4a5a-8c00-74f818a3892d",
   "metadata": {
    "tags": [],
    "vscode": {
     "languageId": "python"
    }
   },
   "outputs": [],
   "source": [
    "# Save cisTopic object\n",
    "pickle.dump(cistopic_obj, open(os.path.join(out_dir, cistopic_obj.project + '.pkl'), 'wb'))"
   ]
  },
  {
   "attachments": {},
   "cell_type": "markdown",
   "id": "f37cfca8",
   "metadata": {},
   "source": [
    "## From fragment files"
   ]
  },
  {
   "cell_type": "code",
   "execution_count": 51,
   "id": "c2b892b9",
   "metadata": {
    "vscode": {
     "languageId": "python"
    }
   },
   "outputs": [],
   "source": [
    "# Define arguments\n",
    "fragments_dir = \"/cellar/users/aklie/projects/igvf/beta_cell_networks/data/multiome_stimulated_sc/fragments/dm023_palmitate\"\n",
    "fragment_files = None\n",
    "barcodes_file = os.path.join(data_dir, 'barcodes', 'dm023_palmitate', 'dm023_palmitate_endocrine_SC.delta_barcodes.tsv')\n",
    "regions_file = \"/cellar/users/aklie/projects/igvf/beta_cell_networks/data/multiome_stimulated_sc/peaks/dm023_palmitate/dm023_palmitate_endocrine_SC.beta.narrowPeak.wrangled.tmp\"\n",
    "cell_metadata_file = os.path.join(data_dir, 'metadata', 'dm023_palmitate', 'dm023_palmitate_endocrine_SC.delta_metadata.csv')\n",
    "blacklist_file = '/cellar/users/aklie/opt/pycisTopic/blacklist/hg38-blacklist.v2.bed'\n",
    "out_dir = '/cellar/users/aklie/projects/igvf/beta_cell_networks/scratch/infer_cellular_programs/cistopic/results/multiome_stimulated_sc'\n",
    "split_pattern = '_'\n",
    "n_cpu = 4\n",
    "project_name = 'dm023_palmitate_endocrine_SC.delta.notebook_test_from_fragments'"
   ]
  },
  {
   "cell_type": "code",
   "execution_count": 52,
   "id": "cb14647c",
   "metadata": {
    "vscode": {
     "languageId": "python"
    }
   },
   "outputs": [
    {
     "data": {
      "text/plain": [
       "{'mo9': '/cellar/users/aklie/projects/igvf/beta_cell_networks/data/multiome_stimulated_sc/fragments/dm023_palmitate/mo9_fragments.tsv.gz',\n",
       " 'mo38': '/cellar/users/aklie/projects/igvf/beta_cell_networks/data/multiome_stimulated_sc/fragments/dm023_palmitate/mo38_fragments.tsv.gz.tbi',\n",
       " 'mo18': '/cellar/users/aklie/projects/igvf/beta_cell_networks/data/multiome_stimulated_sc/fragments/dm023_palmitate/mo18_fragments.tsv.gz',\n",
       " 'mo3': '/cellar/users/aklie/projects/igvf/beta_cell_networks/data/multiome_stimulated_sc/fragments/dm023_palmitate/mo3_fragments.tsv.gz',\n",
       " 'mo33': '/cellar/users/aklie/projects/igvf/beta_cell_networks/data/multiome_stimulated_sc/fragments/dm023_palmitate/mo33_fragments.tsv.gz.tbi',\n",
       " 'mo14': '/cellar/users/aklie/projects/igvf/beta_cell_networks/data/multiome_stimulated_sc/fragments/dm023_palmitate/mo14_fragments.tsv.gz.tbi',\n",
       " 'mo29': '/cellar/users/aklie/projects/igvf/beta_cell_networks/data/multiome_stimulated_sc/fragments/dm023_palmitate/mo29_fragments.tsv.gz.tbi',\n",
       " 'mo26': '/cellar/users/aklie/projects/igvf/beta_cell_networks/data/multiome_stimulated_sc/fragments/dm023_palmitate/mo26_fragments.tsv.gz.tbi',\n",
       " 'mo22': '/cellar/users/aklie/projects/igvf/beta_cell_networks/data/multiome_stimulated_sc/fragments/dm023_palmitate/mo22_fragments.tsv.gz',\n",
       " 'mo1': '/cellar/users/aklie/projects/igvf/beta_cell_networks/data/multiome_stimulated_sc/fragments/dm023_palmitate/mo1_fragments.tsv.gz.tbi'}"
      ]
     },
     "execution_count": 52,
     "metadata": {},
     "output_type": "execute_result"
    }
   ],
   "source": [
    "if fragments_dir is not None:\n",
    "    fragment_files = [os.path.join(fragments_dir, f) for f in os.listdir(fragments_dir)]\n",
    "    fragment_file_dict = {os.path.basename(f).split(split_pattern)[0]: f for f in fragment_files}\n",
    "elif fragment_files is not None:\n",
    "    fragment_file_dict = {os.path.basename(f).split(split_pattern)[0]: f for f in fragment_files}\n",
    "else:\n",
    "    raise ValueError(\"Must specify either fragments_dir or fragment_files\")\n",
    "fragment_file_dict"
   ]
  },
  {
   "cell_type": "code",
   "execution_count": 53,
   "id": "ee367a6d",
   "metadata": {
    "vscode": {
     "languageId": "python"
    }
   },
   "outputs": [
    {
     "data": {
      "text/plain": [
       "{'mo9': '/cellar/users/aklie/projects/igvf/beta_cell_networks/data/multiome_stimulated_sc/fragments/dm023_palmitate/mo9_fragments.tsv.gz'}"
      ]
     },
     "execution_count": 53,
     "metadata": {},
     "output_type": "execute_result"
    }
   ],
   "source": [
    "# Keep only one entry for now\n",
    "fragment_file_dict = {k: v for k, v in fragment_file_dict.items() if k in ['mo9', 'mo3']}\n",
    "fragment_file_dict"
   ]
  },
  {
   "cell_type": "code",
   "execution_count": 54,
   "id": "0ddd364e",
   "metadata": {
    "vscode": {
     "languageId": "python"
    }
   },
   "outputs": [
    {
     "data": {
      "text/plain": [
       "{'mo9': '/cellar/users/aklie/projects/igvf/beta_cell_networks/data/multiome_stimulated_sc/peaks/dm023_palmitate/dm023_palmitate_endocrine_SC.beta.narrowPeak.wrangled.tmp'}"
      ]
     },
     "execution_count": 54,
     "metadata": {},
     "output_type": "execute_result"
    }
   ],
   "source": [
    "# Load the path to regions, if more than one fragment file, use the same regions for all\n",
    "path_to_regions = dict.fromkeys(fragment_file_dict.keys(), regions_file)\n",
    "path_to_regions"
   ]
  },
  {
   "cell_type": "code",
   "execution_count": 55,
   "id": "e84fb12f",
   "metadata": {
    "vscode": {
     "languageId": "python"
    }
   },
   "outputs": [
    {
     "data": {
      "text/plain": [
       "array(['MO1_AAACCAACAACCGCCA-1', 'MO1_AAATCCGGTCATGCCC-1',\n",
       "       'MO1_AGCACAGCAATAATCC-1', 'MO1_AGCCGGTTCCCTGATC-1',\n",
       "       'MO1_AGCTTTAAGCTTAGTA-1'], dtype=object)"
      ]
     },
     "execution_count": 55,
     "metadata": {},
     "output_type": "execute_result"
    }
   ],
   "source": [
    "bcs = pd.read_csv(barcodes_file, sep=\"\\t\", header=None)[0].values\n",
    "bcs[:5]"
   ]
  },
  {
   "cell_type": "code",
   "execution_count": 57,
   "id": "6c671bad",
   "metadata": {
    "vscode": {
     "languageId": "python"
    }
   },
   "outputs": [
    {
     "name": "stdout",
     "output_type": "stream",
     "text": [
      "2023-04-27 10:15:05,772 cisTopic     INFO     Reading data for mo9\n",
      "2023-04-27 10:20:19,879 cisTopic     INFO     Counting number of unique fragments (Unique_nr_frag)\n",
      "2023-04-27 10:22:53,859 cisTopic     INFO     Counting fragments in regions\n"
     ]
    },
    {
     "name": "stderr",
     "output_type": "stream",
     "text": [
      "2023-04-27 10:23:09,215\tINFO worker.py:1519 -- Started a local Ray instance. View the dashboard at \u001b[1m\u001b[32mhttp://127.0.0.1:8265 \u001b[39m\u001b[22m\n"
     ]
    },
    {
     "name": "stdout",
     "output_type": "stream",
     "text": [
      "2023-04-27 10:25:46,815 cisTopic     INFO     Creating fragment matrix\n"
     ]
    },
    {
     "name": "stderr",
     "output_type": "stream",
     "text": [
      "/cellar/users/aklie/opt/miniconda3/envs/scenicplus/lib/python3.8/site-packages/pycisTopic/cistopic_class.py:881: PerformanceWarning: The following operation may generate 80243613090 cells in the resulting pandas object.\n",
      "  counts_df.groupby([\"Name\", \"regionID\"], sort=False, observed=True)\n"
     ]
    },
    {
     "ename": "",
     "evalue": "",
     "output_type": "error",
     "traceback": [
      "\u001b[1;31mThe Kernel crashed while executing code in the the current cell or a previous cell. Please review the code in the cell(s) to identify a possible cause of the failure. Click <a href='https://aka.ms/vscodeJupyterKernelCrash'>here</a> for more info. View Jupyter <a href='command:jupyter.viewOutput'>log</a> for further details."
     ]
    },
    {
     "ename": "",
     "evalue": "",
     "output_type": "error",
     "traceback": [
      "\u001b[1;31mCanceled future for execute_request message before replies were done"
     ]
    }
   ],
   "source": [
    "cistopic_obj_list=[create_cistopic_object_from_fragments(\n",
    "    path_to_fragments=fragment_file_dict[key],\n",
    "    path_to_regions=path_to_regions[key],\n",
    "    path_to_blacklist=blacklist_file,\n",
    "    valid_bc=bcs,\n",
    "    n_cpu=n_cpu,\n",
    "    project=key,\n",
    "    split_pattern=split_pattern) for key in fragment_file_dict.keys()\n",
    "]"
   ]
  },
  {
   "cell_type": "code",
   "execution_count": null,
   "id": "01097aa8",
   "metadata": {
    "vscode": {
     "languageId": "python"
    }
   },
   "outputs": [],
   "source": [
    "if cell_data is not None:\n",
    "    cell_data = pd.read_csv(cell_metadata_path, index_col=0)\n",
    "    cistopic_obj.add_cell_data(cell_data)"
   ]
  },
  {
   "cell_type": "code",
   "execution_count": null,
   "id": "328b38ef",
   "metadata": {
    "vscode": {
     "languageId": "python"
    }
   },
   "outputs": [],
   "source": [
    "# Save cisTopic object\n",
    "pickle.dump(cistopic_obj, open(os.path.join(out_dir, cistopic_obj.project + '.pkl'), 'wb'))"
   ]
  },
  {
   "cell_type": "markdown",
   "id": "5ab886a8-1476-467c-9f5e-c4c54da795fa",
   "metadata": {
    "jp-MarkdownHeadingCollapsed": true,
    "tags": []
   },
   "source": [
    "## Run models"
   ]
  },
  {
   "cell_type": "code",
   "execution_count": 66,
   "id": "b9e50250-ddeb-4ad4-977c-c62b83589b9b",
   "metadata": {
    "tags": [],
    "vscode": {
     "languageId": "python"
    }
   },
   "outputs": [
    {
     "name": "stderr",
     "output_type": "stream",
     "text": [
      "2023-04-19 11:14:19,497\tINFO worker.py:1519 -- Started a local Ray instance. View the dashboard at \u001b[1m\u001b[32mhttp://127.0.0.1:8265 \u001b[39m\u001b[22m\n"
     ]
    },
    {
     "name": "stdout",
     "output_type": "stream",
     "text": [
      "\u001b[2m\u001b[36m(run_cgs_model pid=2723341)\u001b[0m 2023-04-19 11:14:38,032 cisTopic     INFO     Running model with 4 topics\n",
      "\u001b[2m\u001b[36m(run_cgs_model pid=2723340)\u001b[0m 2023-04-19 11:14:38,068 cisTopic     INFO     Running model with 3 topics\n",
      "\u001b[2m\u001b[36m(run_cgs_model pid=2723342)\u001b[0m 2023-04-19 11:14:38,039 cisTopic     INFO     Running model with 2 topics\n",
      "\u001b[2m\u001b[36m(run_cgs_model pid=2723342)\u001b[0m 2023-04-19 11:15:32,341 cisTopic     INFO     Model with 2 topics done!\n",
      "\u001b[2m\u001b[36m(run_cgs_model pid=2723341)\u001b[0m 2023-04-19 11:15:34,793 cisTopic     INFO     Model with 4 topics done!\n",
      "\u001b[2m\u001b[36m(run_cgs_model pid=2723340)\u001b[0m 2023-04-19 11:15:37,974 cisTopic     INFO     Model with 3 topics done!\n"
     ]
    }
   ],
   "source": [
    "models=run_cgs_models(\n",
    "    cistopic_obj,\n",
    "    n_topics=[2,3,4],\n",
    "    n_cpu=3,\n",
    "    n_iter=10,\n",
    "    random_state=555,\n",
    "    alpha=50,\n",
    "    alpha_by_topic=True,\n",
    "    eta=0.1,\n",
    "    eta_by_topic=False,\n",
    "    save_path=None,\n",
    "    _temp_dir = os.path.join(tmp_dir + 'ray_spill')\n",
    ")"
   ]
  },
  {
   "cell_type": "code",
   "execution_count": 69,
   "id": "5275a4b9-59fe-438d-95b9-f7e920e8159d",
   "metadata": {
    "vscode": {
     "languageId": "python"
    }
   },
   "outputs": [],
   "source": [
    "if not os.path.exists(os.path.join(out_dir, 'models')):\n",
    "    os.makedirs(os.path.join(out_dir, 'models'))\n",
    "\n",
    "pickle.dump(models, open(os.path.join(out_dir, \"models\", cistopic_obj.project + '_models.pkl'), 'wb'))"
   ]
  }
 ],
 "metadata": {
  "kernelspec": {
   "display_name": "Python 3.8 scenicplus",
   "language": "python",
   "name": "scenicplus"
  }
 },
 "nbformat": 4,
 "nbformat_minor": 5
}
