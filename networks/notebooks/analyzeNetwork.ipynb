{
 "cells": [
  {
   "cell_type": "markdown",
   "id": "90a88efe-ebb3-424c-8704-fb4ee189af2c",
   "metadata": {},
   "source": [
    "# Exploratory Analysis of Cell-type Specific Networks in Pancreatic Islets in R"
   ]
  },
  {
   "cell_type": "markdown",
   "id": "2d058003-a667-4b45-9ddc-e47efe48e0e1",
   "metadata": {
    "tags": []
   },
   "source": [
    "**Authorship:**\n",
    "Author, *11/22/2021*\n",
    "***\n",
    "**Description:**\n",
    "Notebook to do some cool stuff\n",
    "***\n",
    "**TODOs:**\n",
    " - <font color='red'> Read in each samples and quantify cell types\n",
    "***"
   ]
  },
  {
   "cell_type": "markdown",
   "id": "a2a2c4a5-1dac-4dce-8e87-cb83f07de4c3",
   "metadata": {
    "execution": {
     "iopub.execute_input": "2021-09-05T21:21:18.602440Z",
     "iopub.status.busy": "2021-09-05T21:21:18.602151Z",
     "iopub.status.idle": "2021-09-05T21:21:18.606439Z",
     "shell.execute_reply": "2021-09-05T21:21:18.605256Z",
     "shell.execute_reply.started": "2021-09-05T21:21:18.602409Z"
    },
    "tags": []
   },
   "source": [
    "## Set-up"
   ]
  },
  {
   "cell_type": "code",
   "execution_count": 30,
   "id": "3ebaff6f",
   "metadata": {
    "execution": {
     "iopub.execute_input": "2021-12-06T22:34:02.429729Z",
     "iopub.status.busy": "2021-12-06T22:34:02.426297Z",
     "iopub.status.idle": "2021-12-06T22:34:02.498221Z",
     "shell.execute_reply": "2021-12-06T22:34:02.494491Z"
    },
    "tags": []
   },
   "outputs": [
    {
     "data": {
      "text/html": [
       "TRUE"
      ],
      "text/latex": [
       "TRUE"
      ],
      "text/markdown": [
       "TRUE"
      ],
      "text/plain": [
       "[1] TRUE"
      ]
     },
     "metadata": {},
     "output_type": "display_data"
    },
    {
     "data": {
      "text/plain": [
       "Module(leidenalg)"
      ]
     },
     "metadata": {},
     "output_type": "display_data"
    }
   ],
   "source": [
    "# Set-up reticulate for running Python in R, takes about 10s\n",
    "Sys.setenv(RETICULATE_PYTHON=\"/cellar/users/aklie/opt/miniconda3/envs/Renv/bin/python\")\n",
    "library(reticulate)\n",
    "reticulate::use_python(\"/cellar/users/aklie/opt/miniconda3/envs/Renv/bin/python\")\n",
    "reticulate::use_condaenv(\"/cellar/users/aklie/opt/miniconda3/envs/Renv\")\n",
    "reticulate::py_module_available(module='leidenalg') #needs to be TRUE\n",
    "reticulate::import('leidenalg') #good to make sure this doesn't error"
   ]
  },
  {
   "cell_type": "code",
   "execution_count": 31,
   "id": "3b502606-fed7-4df5-8567-00facc0efd7a",
   "metadata": {
    "execution": {
     "iopub.execute_input": "2021-12-06T22:34:02.609768Z",
     "iopub.status.busy": "2021-12-06T22:34:02.606995Z",
     "iopub.status.idle": "2021-12-06T22:34:02.718790Z",
     "shell.execute_reply": "2021-12-06T22:34:02.715627Z"
    },
    "tags": []
   },
   "outputs": [],
   "source": [
    "# Load libraries, takes between 20s and 1 min\n",
    "suppressMessages(library(hdf5r))\n",
    "suppressMessages(library(loomR))\n",
    "suppressMessages(library(Seurat))\n",
    "suppressMessages(library(SeuratDisk))\n",
    "suppressMessages(library(SeuratData))\n",
    "suppressMessages(library(Signac))\n",
    "suppressMessages(library(EnsDb.Hsapiens.v86))\n",
    "suppressMessages(library(BSgenome.Hsapiens.UCSC.hg38))\n",
    "suppressMessages(library(dplyr))\n",
    "suppressMessages(library(ggplot2))\n",
    "suppressMessages(library(Matrix))\n",
    "suppressMessages(library(harmony))\n",
    "suppressMessages(library(data.table))\n",
    "suppressMessages(library(ggpubr))\n",
    "warnLevel <- getOption('warn')\n",
    "options(warn = -1)\n",
    "set.seed(1234)\n",
    "\n",
    "# Set-up multithreading\n",
    "library(future)\n",
    "plan(\"multicore\", workers = 2)\n",
    "options(future.globals.maxSize = 50 * 1024 ^ 3)"
   ]
  },
  {
   "cell_type": "code",
   "execution_count": 53,
   "id": "250fc0cf-eb07-4bc5-9170-23268efb1850",
   "metadata": {
    "execution": {
     "iopub.execute_input": "2021-12-06T23:09:39.404747Z",
     "iopub.status.busy": "2021-12-06T23:09:39.402019Z",
     "iopub.status.idle": "2021-12-06T23:10:58.619569Z",
     "shell.execute_reply": "2021-12-06T23:10:58.616398Z"
    },
    "tags": []
   },
   "outputs": [
    {
     "name": "stdout",
     "output_type": "stream",
     "text": [
      "[1] \"Loading from indv_sample_networks/R207.indv.linked.rds\"\n"
     ]
    }
   ],
   "source": [
    "sample <- \"R207\"\n",
    "wd <- sprintf(sample)  # Working directory\n",
    "print(sprintf(\"Loading from %s\", file.path(\"indv_sample_networks\", sprintf(\"%s.indv.linked.rds\", sample)), sample))\n",
    "adata <- readRDS(file = file.path(\"indv_sample_networks\", sprintf(\"%s.indv.linked.rds\", sample)))"
   ]
  },
  {
   "cell_type": "code",
   "execution_count": null,
   "id": "3a7e73e7-b90b-4b17-98c7-2880ca263e8d",
   "metadata": {},
   "outputs": [],
   "source": [
    "adata"
   ]
  },
  {
   "cell_type": "code",
   "execution_count": 73,
   "id": "f74f602f-c3f2-478a-8bf7-41d151a87b67",
   "metadata": {
    "execution": {
     "iopub.execute_input": "2021-12-06T23:25:01.562637Z",
     "iopub.status.busy": "2021-12-06T23:25:01.558849Z",
     "iopub.status.idle": "2021-12-06T23:25:52.730534Z",
     "shell.execute_reply": "2021-12-06T23:25:52.727181Z"
    }
   },
   "outputs": [
    {
     "name": "stdout",
     "output_type": "stream",
     "text": [
      "[1] \"Loading from indv_sample_networks/R221.indv.linked.rds\"\n"
     ]
    }
   ],
   "source": [
    "sample <- \"R221\"\n",
    "wd <- sprintf(sample)  # Working directory\n",
    "print(sprintf(\"Loading from %s\", file.path(\"indv_sample_networks\", sprintf(\"%s.indv.linked.rds\", sample)), sample))\n",
    "adata.2 <- readRDS(file = file.path(\"indv_sample_networks\", sprintf(\"%s.indv.linked.rds\", sample)))"
   ]
  },
  {
   "cell_type": "code",
   "execution_count": 74,
   "id": "9fdf7f89-5150-43bd-b4a7-1d906d9ce250",
   "metadata": {
    "execution": {
     "iopub.execute_input": "2021-12-06T23:25:55.013661Z",
     "iopub.status.busy": "2021-12-06T23:25:55.010039Z",
     "iopub.status.idle": "2021-12-07T00:06:41.101436Z",
     "shell.execute_reply": "2021-12-07T00:06:41.098865Z"
    }
   },
   "outputs": [
    {
     "name": "stderr",
     "output_type": "stream",
     "text": [
      "\n",
      "Binding matrix rows\n",
      "\n",
      "\n",
      "Binding matrix rows\n",
      "\n",
      "\n",
      "Binding matrix rows\n",
      "\n",
      "\n",
      "Binding matrix rows\n",
      "\n",
      "\n",
      "Binding matrix rows\n",
      "\n",
      "\n",
      "Binding matrix rows\n",
      "\n",
      "\n",
      "Binding matrix rows\n",
      "\n",
      "\n",
      "Binding matrix rows\n",
      "\n"
     ]
    },
    {
     "data": {
      "text/plain": [
       "ChromatinAssay data with 139541 features for 15013 cells\n",
       "Variable features: 0 \n",
       "Genome: hg38 \n",
       "Annotation present: TRUE \n",
       "Motifs present: FALSE \n",
       "Fragment files: 2 "
      ]
     },
     "metadata": {},
     "output_type": "display_data"
    }
   ],
   "source": [
    "combined <- merge(\n",
    "    x = adata,\n",
    "    y = list(adata.2),\n",
    "    add.cell.ids = c(\"R207\", \"R221\")\n",
    ")\n",
    "combined[[\"ATAC\"]]"
   ]
  },
  {
   "cell_type": "code",
   "execution_count": 75,
   "id": "e8ad2e0a-fc3c-4b3b-9da0-a405d58c92af",
   "metadata": {
    "execution": {
     "iopub.execute_input": "2021-12-07T00:06:58.419913Z",
     "iopub.status.busy": "2021-12-07T00:06:58.417420Z",
     "iopub.status.idle": "2021-12-07T00:06:58.478084Z",
     "shell.execute_reply": "2021-12-07T00:06:58.475219Z"
    }
   },
   "outputs": [
    {
     "data": {
      "text/plain": [
       "An object of class Seurat \n",
       "360105 features across 15013 samples within 4 assays \n",
       "Active assay: peaks (159072 features, 0 variable features)\n",
       " 3 other assays present: RNA, ATAC, SCT"
      ]
     },
     "metadata": {},
     "output_type": "display_data"
    }
   ],
   "source": [
    "combined"
   ]
  },
  {
   "cell_type": "code",
   "execution_count": null,
   "id": "5c9c7a14-ed3f-476e-b4bb-a540d86672a1",
   "metadata": {},
   "outputs": [],
   "source": [
    "frags.R207 <- CreateFragmentObject(\n",
    "  path = \"R207/atac_fragments.tsv.gz\",\n",
    "  cells = rownames(R207)\n",
    ")"
   ]
  },
  {
   "cell_type": "code",
   "execution_count": 79,
   "id": "fff0020b-f313-4054-9cb2-0a1326c2d01f",
   "metadata": {
    "execution": {
     "iopub.execute_input": "2021-12-07T00:08:08.422858Z",
     "iopub.status.busy": "2021-12-07T00:08:08.421289Z",
     "iopub.status.idle": "2021-12-07T00:08:08.453938Z",
     "shell.execute_reply": "2021-12-07T00:08:08.452174Z"
    },
    "tags": []
   },
   "outputs": [],
   "source": [
    "Idents(combined) <- combined@meta.data$predicted.id"
   ]
  },
  {
   "cell_type": "code",
   "execution_count": 85,
   "id": "5aca1709-0d08-4c40-a0e1-8438356341e6",
   "metadata": {
    "execution": {
     "iopub.execute_input": "2021-12-07T00:09:19.416758Z",
     "iopub.status.busy": "2021-12-07T00:09:19.415065Z",
     "iopub.status.idle": "2021-12-07T00:09:19.456066Z",
     "shell.execute_reply": "2021-12-07T00:09:19.454306Z"
    }
   },
   "outputs": [
    {
     "data": {
      "text/html": [
       "<table class=\"dataframe\">\n",
       "<caption>A data.frame: 6 × 63</caption>\n",
       "<thead>\n",
       "\t<tr><th></th><th scope=col>orig.ident</th><th scope=col>nCount_RNA</th><th scope=col>nFeature_RNA</th><th scope=col>percent.mt</th><th scope=col>barcode</th><th scope=col>gex_barcode</th><th scope=col>atac_barcode</th><th scope=col>is_cell</th><th scope=col>excluded_reason</th><th scope=col>gex_raw_reads</th><th scope=col>⋯</th><th scope=col>prediction.score.endothelial</th><th scope=col>prediction.score.activated_stellate</th><th scope=col>prediction.score.schwann</th><th scope=col>prediction.score.mast</th><th scope=col>prediction.score.macrophage</th><th scope=col>prediction.score.epsilon</th><th scope=col>prediction.score.quiescent_stellate</th><th scope=col>prediction.score.max</th><th scope=col>nCount_peaks</th><th scope=col>nFeature_peaks</th></tr>\n",
       "\t<tr><th></th><th scope=col>&lt;chr&gt;</th><th scope=col>&lt;dbl&gt;</th><th scope=col>&lt;int&gt;</th><th scope=col>&lt;dbl&gt;</th><th scope=col>&lt;chr&gt;</th><th scope=col>&lt;chr&gt;</th><th scope=col>&lt;chr&gt;</th><th scope=col>&lt;int&gt;</th><th scope=col>&lt;int&gt;</th><th scope=col>&lt;int&gt;</th><th scope=col>⋯</th><th scope=col>&lt;dbl&gt;</th><th scope=col>&lt;dbl&gt;</th><th scope=col>&lt;dbl&gt;</th><th scope=col>&lt;dbl&gt;</th><th scope=col>&lt;dbl&gt;</th><th scope=col>&lt;dbl&gt;</th><th scope=col>&lt;dbl&gt;</th><th scope=col>&lt;dbl&gt;</th><th scope=col>&lt;dbl&gt;</th><th scope=col>&lt;int&gt;</th></tr>\n",
       "</thead>\n",
       "<tbody>\n",
       "\t<tr><th scope=row>R207_AAACAGCCAAACGGGC-1</th><td>R207</td><td>7427</td><td>2715</td><td>0.7001481</td><td>AAACAGCCAAACGGGC-1</td><td>AAACAGCCAAACGGGC-1</td><td>ACAGCGGGTAGGTGAC-1</td><td>1</td><td>0</td><td>27518</td><td>⋯</td><td>0</td><td>0</td><td>0</td><td>0</td><td>0</td><td>0</td><td>0</td><td>0.8861807</td><td>12467</td><td>9704</td></tr>\n",
       "\t<tr><th scope=row>R207_AAACAGCCACAAAGAC-1</th><td>R207</td><td>5433</td><td>2464</td><td>1.2700166</td><td>AAACAGCCACAAAGAC-1</td><td>AAACAGCCACAAAGAC-1</td><td>ACAGCGGGTGACGTAA-1</td><td>1</td><td>0</td><td>20786</td><td>⋯</td><td>0</td><td>0</td><td>0</td><td>0</td><td>0</td><td>0</td><td>0</td><td>1.0000000</td><td> 8779</td><td>6986</td></tr>\n",
       "\t<tr><th scope=row>R207_AAACAGCCAGCAAGTG-1</th><td>R207</td><td>2663</td><td>1306</td><td>0.7510327</td><td>AAACAGCCAGCAAGTG-1</td><td>AAACAGCCAGCAAGTG-1</td><td>ACAGCGGGTCTAATCA-1</td><td>1</td><td>0</td><td> 9908</td><td>⋯</td><td>0</td><td>0</td><td>0</td><td>0</td><td>0</td><td>0</td><td>0</td><td>0.9817979</td><td> 2795</td><td>2416</td></tr>\n",
       "\t<tr><th scope=row>R207_AAACAGCCAGGACCTT-1</th><td>R207</td><td>4902</td><td>2334</td><td>2.7947776</td><td>AAACAGCCAGGACCTT-1</td><td>AAACAGCCAGGACCTT-1</td><td>ACAGCGGGTTGCTCTC-1</td><td>1</td><td>0</td><td>20389</td><td>⋯</td><td>0</td><td>0</td><td>0</td><td>0</td><td>0</td><td>0</td><td>0</td><td>1.0000000</td><td> 3431</td><td>3050</td></tr>\n",
       "\t<tr><th scope=row>R207_AAACAGCCAGTTATCG-1</th><td>R207</td><td>5146</td><td>2453</td><td>0.2914885</td><td>AAACAGCCAGTTATCG-1</td><td>AAACAGCCAGTTATCG-1</td><td>ACAGCGGGTTTATTCC-1</td><td>1</td><td>0</td><td>18904</td><td>⋯</td><td>0</td><td>0</td><td>0</td><td>0</td><td>0</td><td>0</td><td>0</td><td>1.0000000</td><td> 2467</td><td>2269</td></tr>\n",
       "\t<tr><th scope=row>R207_AAACAGCCATAATCCG-1</th><td>R207</td><td>6171</td><td>2608</td><td>0.6806028</td><td>AAACAGCCATAATCCG-1</td><td>AAACAGCCATAATCCG-1</td><td>ACAGCGGGTGCTTTAA-1</td><td>1</td><td>0</td><td>22989</td><td>⋯</td><td>0</td><td>0</td><td>0</td><td>0</td><td>0</td><td>0</td><td>0</td><td>0.9302332</td><td> 8998</td><td>7345</td></tr>\n",
       "</tbody>\n",
       "</table>\n"
      ],
      "text/latex": [
       "A data.frame: 6 × 63\n",
       "\\begin{tabular}{r|lllllllllllllllllllll}\n",
       "  & orig.ident & nCount\\_RNA & nFeature\\_RNA & percent.mt & barcode & gex\\_barcode & atac\\_barcode & is\\_cell & excluded\\_reason & gex\\_raw\\_reads & ⋯ & prediction.score.endothelial & prediction.score.activated\\_stellate & prediction.score.schwann & prediction.score.mast & prediction.score.macrophage & prediction.score.epsilon & prediction.score.quiescent\\_stellate & prediction.score.max & nCount\\_peaks & nFeature\\_peaks\\\\\n",
       "  & <chr> & <dbl> & <int> & <dbl> & <chr> & <chr> & <chr> & <int> & <int> & <int> & ⋯ & <dbl> & <dbl> & <dbl> & <dbl> & <dbl> & <dbl> & <dbl> & <dbl> & <dbl> & <int>\\\\\n",
       "\\hline\n",
       "\tR207\\_AAACAGCCAAACGGGC-1 & R207 & 7427 & 2715 & 0.7001481 & AAACAGCCAAACGGGC-1 & AAACAGCCAAACGGGC-1 & ACAGCGGGTAGGTGAC-1 & 1 & 0 & 27518 & ⋯ & 0 & 0 & 0 & 0 & 0 & 0 & 0 & 0.8861807 & 12467 & 9704\\\\\n",
       "\tR207\\_AAACAGCCACAAAGAC-1 & R207 & 5433 & 2464 & 1.2700166 & AAACAGCCACAAAGAC-1 & AAACAGCCACAAAGAC-1 & ACAGCGGGTGACGTAA-1 & 1 & 0 & 20786 & ⋯ & 0 & 0 & 0 & 0 & 0 & 0 & 0 & 1.0000000 &  8779 & 6986\\\\\n",
       "\tR207\\_AAACAGCCAGCAAGTG-1 & R207 & 2663 & 1306 & 0.7510327 & AAACAGCCAGCAAGTG-1 & AAACAGCCAGCAAGTG-1 & ACAGCGGGTCTAATCA-1 & 1 & 0 &  9908 & ⋯ & 0 & 0 & 0 & 0 & 0 & 0 & 0 & 0.9817979 &  2795 & 2416\\\\\n",
       "\tR207\\_AAACAGCCAGGACCTT-1 & R207 & 4902 & 2334 & 2.7947776 & AAACAGCCAGGACCTT-1 & AAACAGCCAGGACCTT-1 & ACAGCGGGTTGCTCTC-1 & 1 & 0 & 20389 & ⋯ & 0 & 0 & 0 & 0 & 0 & 0 & 0 & 1.0000000 &  3431 & 3050\\\\\n",
       "\tR207\\_AAACAGCCAGTTATCG-1 & R207 & 5146 & 2453 & 0.2914885 & AAACAGCCAGTTATCG-1 & AAACAGCCAGTTATCG-1 & ACAGCGGGTTTATTCC-1 & 1 & 0 & 18904 & ⋯ & 0 & 0 & 0 & 0 & 0 & 0 & 0 & 1.0000000 &  2467 & 2269\\\\\n",
       "\tR207\\_AAACAGCCATAATCCG-1 & R207 & 6171 & 2608 & 0.6806028 & AAACAGCCATAATCCG-1 & AAACAGCCATAATCCG-1 & ACAGCGGGTGCTTTAA-1 & 1 & 0 & 22989 & ⋯ & 0 & 0 & 0 & 0 & 0 & 0 & 0 & 0.9302332 &  8998 & 7345\\\\\n",
       "\\end{tabular}\n"
      ],
      "text/markdown": [
       "\n",
       "A data.frame: 6 × 63\n",
       "\n",
       "| <!--/--> | orig.ident &lt;chr&gt; | nCount_RNA &lt;dbl&gt; | nFeature_RNA &lt;int&gt; | percent.mt &lt;dbl&gt; | barcode &lt;chr&gt; | gex_barcode &lt;chr&gt; | atac_barcode &lt;chr&gt; | is_cell &lt;int&gt; | excluded_reason &lt;int&gt; | gex_raw_reads &lt;int&gt; | ⋯ ⋯ | prediction.score.endothelial &lt;dbl&gt; | prediction.score.activated_stellate &lt;dbl&gt; | prediction.score.schwann &lt;dbl&gt; | prediction.score.mast &lt;dbl&gt; | prediction.score.macrophage &lt;dbl&gt; | prediction.score.epsilon &lt;dbl&gt; | prediction.score.quiescent_stellate &lt;dbl&gt; | prediction.score.max &lt;dbl&gt; | nCount_peaks &lt;dbl&gt; | nFeature_peaks &lt;int&gt; |\n",
       "|---|---|---|---|---|---|---|---|---|---|---|---|---|---|---|---|---|---|---|---|---|---|\n",
       "| R207_AAACAGCCAAACGGGC-1 | R207 | 7427 | 2715 | 0.7001481 | AAACAGCCAAACGGGC-1 | AAACAGCCAAACGGGC-1 | ACAGCGGGTAGGTGAC-1 | 1 | 0 | 27518 | ⋯ | 0 | 0 | 0 | 0 | 0 | 0 | 0 | 0.8861807 | 12467 | 9704 |\n",
       "| R207_AAACAGCCACAAAGAC-1 | R207 | 5433 | 2464 | 1.2700166 | AAACAGCCACAAAGAC-1 | AAACAGCCACAAAGAC-1 | ACAGCGGGTGACGTAA-1 | 1 | 0 | 20786 | ⋯ | 0 | 0 | 0 | 0 | 0 | 0 | 0 | 1.0000000 |  8779 | 6986 |\n",
       "| R207_AAACAGCCAGCAAGTG-1 | R207 | 2663 | 1306 | 0.7510327 | AAACAGCCAGCAAGTG-1 | AAACAGCCAGCAAGTG-1 | ACAGCGGGTCTAATCA-1 | 1 | 0 |  9908 | ⋯ | 0 | 0 | 0 | 0 | 0 | 0 | 0 | 0.9817979 |  2795 | 2416 |\n",
       "| R207_AAACAGCCAGGACCTT-1 | R207 | 4902 | 2334 | 2.7947776 | AAACAGCCAGGACCTT-1 | AAACAGCCAGGACCTT-1 | ACAGCGGGTTGCTCTC-1 | 1 | 0 | 20389 | ⋯ | 0 | 0 | 0 | 0 | 0 | 0 | 0 | 1.0000000 |  3431 | 3050 |\n",
       "| R207_AAACAGCCAGTTATCG-1 | R207 | 5146 | 2453 | 0.2914885 | AAACAGCCAGTTATCG-1 | AAACAGCCAGTTATCG-1 | ACAGCGGGTTTATTCC-1 | 1 | 0 | 18904 | ⋯ | 0 | 0 | 0 | 0 | 0 | 0 | 0 | 1.0000000 |  2467 | 2269 |\n",
       "| R207_AAACAGCCATAATCCG-1 | R207 | 6171 | 2608 | 0.6806028 | AAACAGCCATAATCCG-1 | AAACAGCCATAATCCG-1 | ACAGCGGGTGCTTTAA-1 | 1 | 0 | 22989 | ⋯ | 0 | 0 | 0 | 0 | 0 | 0 | 0 | 0.9302332 |  8998 | 7345 |\n",
       "\n"
      ],
      "text/plain": [
       "                        orig.ident nCount_RNA nFeature_RNA percent.mt\n",
       "R207_AAACAGCCAAACGGGC-1 R207       7427       2715         0.7001481 \n",
       "R207_AAACAGCCACAAAGAC-1 R207       5433       2464         1.2700166 \n",
       "R207_AAACAGCCAGCAAGTG-1 R207       2663       1306         0.7510327 \n",
       "R207_AAACAGCCAGGACCTT-1 R207       4902       2334         2.7947776 \n",
       "R207_AAACAGCCAGTTATCG-1 R207       5146       2453         0.2914885 \n",
       "R207_AAACAGCCATAATCCG-1 R207       6171       2608         0.6806028 \n",
       "                        barcode            gex_barcode       \n",
       "R207_AAACAGCCAAACGGGC-1 AAACAGCCAAACGGGC-1 AAACAGCCAAACGGGC-1\n",
       "R207_AAACAGCCACAAAGAC-1 AAACAGCCACAAAGAC-1 AAACAGCCACAAAGAC-1\n",
       "R207_AAACAGCCAGCAAGTG-1 AAACAGCCAGCAAGTG-1 AAACAGCCAGCAAGTG-1\n",
       "R207_AAACAGCCAGGACCTT-1 AAACAGCCAGGACCTT-1 AAACAGCCAGGACCTT-1\n",
       "R207_AAACAGCCAGTTATCG-1 AAACAGCCAGTTATCG-1 AAACAGCCAGTTATCG-1\n",
       "R207_AAACAGCCATAATCCG-1 AAACAGCCATAATCCG-1 AAACAGCCATAATCCG-1\n",
       "                        atac_barcode       is_cell excluded_reason\n",
       "R207_AAACAGCCAAACGGGC-1 ACAGCGGGTAGGTGAC-1 1       0              \n",
       "R207_AAACAGCCACAAAGAC-1 ACAGCGGGTGACGTAA-1 1       0              \n",
       "R207_AAACAGCCAGCAAGTG-1 ACAGCGGGTCTAATCA-1 1       0              \n",
       "R207_AAACAGCCAGGACCTT-1 ACAGCGGGTTGCTCTC-1 1       0              \n",
       "R207_AAACAGCCAGTTATCG-1 ACAGCGGGTTTATTCC-1 1       0              \n",
       "R207_AAACAGCCATAATCCG-1 ACAGCGGGTGCTTTAA-1 1       0              \n",
       "                        gex_raw_reads ⋯ prediction.score.endothelial\n",
       "R207_AAACAGCCAAACGGGC-1 27518         ⋯ 0                           \n",
       "R207_AAACAGCCACAAAGAC-1 20786         ⋯ 0                           \n",
       "R207_AAACAGCCAGCAAGTG-1  9908         ⋯ 0                           \n",
       "R207_AAACAGCCAGGACCTT-1 20389         ⋯ 0                           \n",
       "R207_AAACAGCCAGTTATCG-1 18904         ⋯ 0                           \n",
       "R207_AAACAGCCATAATCCG-1 22989         ⋯ 0                           \n",
       "                        prediction.score.activated_stellate\n",
       "R207_AAACAGCCAAACGGGC-1 0                                  \n",
       "R207_AAACAGCCACAAAGAC-1 0                                  \n",
       "R207_AAACAGCCAGCAAGTG-1 0                                  \n",
       "R207_AAACAGCCAGGACCTT-1 0                                  \n",
       "R207_AAACAGCCAGTTATCG-1 0                                  \n",
       "R207_AAACAGCCATAATCCG-1 0                                  \n",
       "                        prediction.score.schwann prediction.score.mast\n",
       "R207_AAACAGCCAAACGGGC-1 0                        0                    \n",
       "R207_AAACAGCCACAAAGAC-1 0                        0                    \n",
       "R207_AAACAGCCAGCAAGTG-1 0                        0                    \n",
       "R207_AAACAGCCAGGACCTT-1 0                        0                    \n",
       "R207_AAACAGCCAGTTATCG-1 0                        0                    \n",
       "R207_AAACAGCCATAATCCG-1 0                        0                    \n",
       "                        prediction.score.macrophage prediction.score.epsilon\n",
       "R207_AAACAGCCAAACGGGC-1 0                           0                       \n",
       "R207_AAACAGCCACAAAGAC-1 0                           0                       \n",
       "R207_AAACAGCCAGCAAGTG-1 0                           0                       \n",
       "R207_AAACAGCCAGGACCTT-1 0                           0                       \n",
       "R207_AAACAGCCAGTTATCG-1 0                           0                       \n",
       "R207_AAACAGCCATAATCCG-1 0                           0                       \n",
       "                        prediction.score.quiescent_stellate\n",
       "R207_AAACAGCCAAACGGGC-1 0                                  \n",
       "R207_AAACAGCCACAAAGAC-1 0                                  \n",
       "R207_AAACAGCCAGCAAGTG-1 0                                  \n",
       "R207_AAACAGCCAGGACCTT-1 0                                  \n",
       "R207_AAACAGCCAGTTATCG-1 0                                  \n",
       "R207_AAACAGCCATAATCCG-1 0                                  \n",
       "                        prediction.score.max nCount_peaks nFeature_peaks\n",
       "R207_AAACAGCCAAACGGGC-1 0.8861807            12467        9704          \n",
       "R207_AAACAGCCACAAAGAC-1 1.0000000             8779        6986          \n",
       "R207_AAACAGCCAGCAAGTG-1 0.9817979             2795        2416          \n",
       "R207_AAACAGCCAGGACCTT-1 1.0000000             3431        3050          \n",
       "R207_AAACAGCCAGTTATCG-1 1.0000000             2467        2269          \n",
       "R207_AAACAGCCATAATCCG-1 0.9302332             8998        7345          "
      ]
     },
     "metadata": {},
     "output_type": "display_data"
    }
   ],
   "source": [
    "head(combined@meta.data)"
   ]
  },
  {
   "cell_type": "code",
   "execution_count": 84,
   "id": "197794d2-4a2e-4509-8696-7cdaf8680241",
   "metadata": {
    "execution": {
     "iopub.execute_input": "2021-12-07T00:08:54.584460Z",
     "iopub.status.busy": "2021-12-07T00:08:54.579210Z",
     "iopub.status.idle": "2021-12-07T00:08:54.688049Z",
     "shell.execute_reply": "2021-12-07T00:08:54.683226Z"
    },
    "tags": []
   },
   "outputs": [
    {
     "data": {
      "text/plain": [
       "GRanges object with 159072 ranges and 1 metadata column:\n",
       "           seqnames            ranges strand |        revmap\n",
       "              <Rle>         <IRanges>  <Rle> | <IntegerList>\n",
       "       [1]     chr1        9920-10525      * |      131762,1\n",
       "       [2]     chr1     102694-103027      * |        131763\n",
       "       [3]     chr1     136610-136877      * |        131764\n",
       "       [4]     chr1     180652-181608      * |      131765,2\n",
       "       [5]     chr1     184037-184465      * |             3\n",
       "       ...      ...               ...    ... .           ...\n",
       "  [159068]     chrY 20575020-20576108      * |        250227\n",
       "  [159069]     chrY 20990610-20991118      * |        250228\n",
       "  [159070]     chrY 22373342-22373606      * |        250229\n",
       "  [159071]     chrY 26670225-26671721      * |        250230\n",
       "  [159072]     chrY 56685424-56685631      * |        250231\n",
       "  -------\n",
       "  seqinfo: 24 sequences from an unspecified genome; no seqlengths"
      ]
     },
     "metadata": {},
     "output_type": "display_data"
    }
   ],
   "source": [
    "granges(combined)"
   ]
  },
  {
   "cell_type": "code",
   "execution_count": 86,
   "id": "179cd74b-d716-4214-9937-f9427ba69441",
   "metadata": {
    "execution": {
     "iopub.execute_input": "2021-12-07T00:09:37.692897Z",
     "iopub.status.busy": "2021-12-07T00:09:37.691264Z",
     "iopub.status.idle": "2021-12-07T00:09:41.811134Z",
     "shell.execute_reply": "2021-12-07T00:09:41.808319Z"
    },
    "tags": []
   },
   "outputs": [
    {
     "data": {
      "image/png": "[encoded data removed]",
      "text/plain": [
       "plot without title"
      ]
     },
     "metadata": {
      "image/png": {
       "height": 480,
       "width": 960
      }
     },
     "output_type": "display_data"
    }
   ],
   "source": [
    "options(repr.plot.width=16, repr.plot.height=8)\n",
    "CoveragePlot(\n",
    "    object = combined,\n",
    "    expression.assay = \"SCT\",\n",
    "    group.by = 'orig.ident',\n",
    "    region = c(\"chr11-2137067-2140081\"),\n",
    "    features = c(\"INS\"),\n",
    ")"
   ]
  },
  {
   "cell_type": "markdown",
   "id": "0aeeecc7-7634-4236-8ce7-1b6010c83aee",
   "metadata": {},
   "source": [
    "# Load in regions of interest"
   ]
  },
  {
   "cell_type": "code",
   "execution_count": 54,
   "id": "27277fd0-76f0-42d7-999d-e6f1a18811b3",
   "metadata": {
    "execution": {
     "iopub.execute_input": "2021-12-06T23:11:02.411311Z",
     "iopub.status.busy": "2021-12-06T23:11:02.408881Z",
     "iopub.status.idle": "2021-12-06T23:11:02.436283Z",
     "shell.execute_reply": "2021-12-06T23:11:02.433197Z"
    },
    "tags": []
   },
   "outputs": [],
   "source": [
    "rois = read.table(\"test.tsv\", sep = \"\\t\", header = 1)"
   ]
  },
  {
   "cell_type": "code",
   "execution_count": 55,
   "id": "22f8b62f-4277-4d59-9f77-6b80c3afc31d",
   "metadata": {
    "execution": {
     "iopub.execute_input": "2021-12-06T23:11:02.442477Z",
     "iopub.status.busy": "2021-12-06T23:11:02.440202Z",
     "iopub.status.idle": "2021-12-06T23:11:02.479076Z",
     "shell.execute_reply": "2021-12-06T23:11:02.476240Z"
    },
    "tags": []
   },
   "outputs": [],
   "source": [
    "linked.peaks <- rois$peak\n",
    "chr.start.end <- unlist(strsplit(linked.peaks, \"-\"))\n",
    "chr.start.end <- matrix(chr.start.end, length(chr.start.end)/3, 3, byrow = T)\n",
    "seqs <- chr.start.end[, 1]\n",
    "starts <- chr.start.end[, 2]\n",
    "ends <- chr.start.end[, 3]\n",
    "df <- data.frame(\n",
    "    chr=seqs,\n",
    "    start=starts,\n",
    "    end=ends)"
   ]
  },
  {
   "cell_type": "code",
   "execution_count": 56,
   "id": "6281cf2f-8cc8-4d2e-a361-e070c6711f43",
   "metadata": {
    "execution": {
     "iopub.execute_input": "2021-12-06T23:11:02.659657Z",
     "iopub.status.busy": "2021-12-06T23:11:02.656939Z",
     "iopub.status.idle": "2021-12-06T23:11:02.768600Z",
     "shell.execute_reply": "2021-12-06T23:11:02.765350Z"
    },
    "tags": []
   },
   "outputs": [],
   "source": [
    "rois <- makeGRangesFromDataFrame(df)"
   ]
  },
  {
   "cell_type": "markdown",
   "id": "2e63ca80-eda8-4f77-b5db-a0ca88cdacfe",
   "metadata": {},
   "source": [
    "# Create fragment objects"
   ]
  },
  {
   "cell_type": "code",
   "execution_count": null,
   "id": "02550046-9b43-49b8-aead-27f9968c19fc",
   "metadata": {},
   "outputs": [],
   "source": []
  },
  {
   "cell_type": "code",
   "execution_count": 45,
   "id": "15e4f998-6a26-4524-aa38-366bf6bbe415",
   "metadata": {
    "execution": {
     "iopub.execute_input": "2021-12-06T22:42:22.806161Z",
     "iopub.status.busy": "2021-12-06T22:42:22.803101Z",
     "iopub.status.idle": "2021-12-06T22:43:29.685670Z",
     "shell.execute_reply": "2021-12-06T22:43:29.681698Z"
    }
   },
   "outputs": [
    {
     "name": "stderr",
     "output_type": "stream",
     "text": [
      "Computing hash\n",
      "\n"
     ]
    },
    {
     "ename": "ERROR",
     "evalue": "Error in CreateFragmentObject(path = \"R207/atac_fragments.tsv.gz\", cells = rownames(R207)): Not all cells requested could be found in the fragment file.\n",
     "output_type": "error",
     "traceback": [
      "Error in CreateFragmentObject(path = \"R207/atac_fragments.tsv.gz\", cells = rownames(R207)): Not all cells requested could be found in the fragment file.\nTraceback:\n",
      "1. CreateFragmentObject(path = \"R207/atac_fragments.tsv.gz\", cells = rownames(R207))",
      "2. stop(\"Not all cells requested could be found in the fragment file.\")"
     ]
    }
   ],
   "source": [
    "frags.R207 <- CreateFragmentObject(\n",
    "  path = \"R207/atac_fragments.tsv.gz\",\n",
    "  cells = rownames(R207)\n",
    ")"
   ]
  },
  {
   "cell_type": "code",
   "execution_count": null,
   "id": "627af03f-08fc-4f70-b888-2680db9cf2a9",
   "metadata": {},
   "outputs": [],
   "source": [
    "counts.R207 <- FeatureMatrix(\n",
    "  fragments = frags.R207,\n",
    "  features = rois\n",
    "  cells = rownames(R207))"
   ]
  },
  {
   "cell_type": "markdown",
   "id": "7670cb1d-d595-47f4-8269-c66840bda215",
   "metadata": {},
   "source": [
    "# Visualize regions of interest across celltypes and samples"
   ]
  },
  {
   "cell_type": "code",
   "execution_count": 32,
   "id": "e510f17a-4f26-4723-b577-b714100825fc",
   "metadata": {
    "execution": {
     "iopub.execute_input": "2021-12-06T22:34:46.945216Z",
     "iopub.status.busy": "2021-12-06T22:34:46.942048Z",
     "iopub.status.idle": "2021-12-06T22:35:41.540900Z",
     "shell.execute_reply": "2021-12-06T22:35:41.536444Z"
    },
    "tags": []
   },
   "outputs": [
    {
     "name": "stdout",
     "output_type": "stream",
     "text": [
      "[1] \"Loading from indv_sample_networks/R221.indv.linked.rds\"\n"
     ]
    }
   ],
   "source": [
    "sample <- \"R221\"\n",
    "wd <- sprintf(sample)  # Working directory\n",
    "print(sprintf(\"Loading from %s\", file.path(\"indv_sample_networks\", sprintf(\"%s.indv.linked.rds\", sample)), sample))\n",
    "adata <- readRDS(file = file.path(\"indv_sample_networks\", sprintf(\"%s.indv.linked.rds\", sample)))"
   ]
  },
  {
   "cell_type": "code",
   "execution_count": null,
   "id": "26561b78-6666-4c2d-ac78-655c16959b6a",
   "metadata": {},
   "outputs": [],
   "source": []
  },
  {
   "cell_type": "markdown",
   "id": "99a8c706-ccbe-4156-9e3d-a29c1ecc9e95",
   "metadata": {
    "execution": {
     "iopub.execute_input": "2021-09-08T17:29:42.314098Z",
     "iopub.status.busy": "2021-09-08T17:29:42.313838Z",
     "iopub.status.idle": "2021-09-08T17:29:42.903968Z",
     "shell.execute_reply": "2021-09-08T17:29:42.903216Z",
     "shell.execute_reply.started": "2021-09-08T17:29:42.314069Z"
    },
    "tags": []
   },
   "source": [
    "# Scratch\n",
    "Place for old or testing code"
   ]
  },
  {
   "cell_type": "code",
   "execution_count": 100,
   "id": "675dc8a6-fff0-4b3e-a01e-960dbf04cd65",
   "metadata": {
    "execution": {
     "iopub.execute_input": "2021-12-01T00:55:39.606341Z",
     "iopub.status.busy": "2021-12-01T00:55:39.604925Z",
     "iopub.status.idle": "2021-12-01T00:56:51.567890Z",
     "shell.execute_reply": "2021-12-01T00:56:51.565922Z"
    },
    "tags": []
   },
   "outputs": [],
   "source": [
    "sample <- 'R221'  # Sample identifier\n",
    "R221.beta.sample <- readRDS(file = file.path(\"indv_sample_analysis\", sprintf(\"%s.indv.analysis.celltype-beta.rds\", sample)))\n",
    "R221.delta.sample <- readRDS(file = file.path(\"indv_sample_analysis\", sprintf(\"%s.indv.analysis.celltype-delta.rds\", sample)))\n",
    "R221.alpha.sample <- readRDS(file = file.path(\"indv_sample_analysis\", sprintf(\"%s.indv.analysis.celltype-alpha.rds\", sample)))\n",
    "#adata_interest <- readRDS(file = file.path(\"indv_sample_analysis\", sprintf(\"%s.indv.analysis.celltype-interest.rds\", sample)))"
   ]
  },
  {
   "cell_type": "code",
   "execution_count": 99,
   "id": "b67dcf6e-cf4b-47f2-8d6f-799a9e21a1b2",
   "metadata": {
    "execution": {
     "iopub.execute_input": "2021-12-01T00:54:05.314330Z",
     "iopub.status.busy": "2021-12-01T00:54:05.312710Z",
     "iopub.status.idle": "2021-12-01T00:55:39.602460Z",
     "shell.execute_reply": "2021-12-01T00:55:39.600459Z"
    },
    "tags": []
   },
   "outputs": [],
   "source": [
    "sample <- 'R207'  # Sample identifier\n",
    "R207.beta.sample <- readRDS(file = file.path(\"indv_sample_analysis\", sprintf(\"%s.indv.analysis.celltype-beta.rds\", sample)))\n",
    "R207.delta.sample <- readRDS(file = file.path(\"indv_sample_analysis\", sprintf(\"%s.indv.analysis.celltype-delta.rds\", sample)))\n",
    "R207.alpha.sample <- readRDS(file = file.path(\"indv_sample_analysis\", sprintf(\"%s.indv.analysis.celltype-alpha.rds\", sample)))\n",
    "#adata_interest <- readRDS(file = file.path(\"indv_sample_analysis\", sprintf(\"%s.indv.analysis.celltype-interest.rds\", sample)))"
   ]
  },
  {
   "cell_type": "code",
   "execution_count": 48,
   "id": "7a3b078c-34fb-427c-9494-3f56f11f5dda",
   "metadata": {
    "execution": {
     "iopub.execute_input": "2021-12-01T00:36:46.187395Z",
     "iopub.status.busy": "2021-12-01T00:36:46.185802Z",
     "iopub.status.idle": "2021-12-01T00:36:46.463064Z",
     "shell.execute_reply": "2021-12-01T00:36:46.461086Z"
    },
    "tags": []
   },
   "outputs": [],
   "source": [
    "sample <- 'R221'\n",
    "R221.alpha.net <- read.csv(file.path(\"indv_sample_analysis\", sprintf(\"%s.indv.alpha.links.csv\", sample)))\n",
    "R221.beta.net <- read.csv(file.path(\"indv_sample_analysis\", sprintf(\"%s.indv.beta.links.csv\", sample)))\n",
    "R221.delta.net <- read.csv(file.path(\"indv_sample_analysis\", sprintf(\"%s.indv.delta.links.csv\", sample)))"
   ]
  },
  {
   "cell_type": "code",
   "execution_count": 49,
   "id": "8def1093-4c42-4528-aef8-ebb06000c50b",
   "metadata": {
    "execution": {
     "iopub.execute_input": "2021-12-01T00:36:46.467228Z",
     "iopub.status.busy": "2021-12-01T00:36:46.465666Z",
     "iopub.status.idle": "2021-12-01T00:36:46.724567Z",
     "shell.execute_reply": "2021-12-01T00:36:46.722683Z"
    },
    "tags": []
   },
   "outputs": [],
   "source": [
    "sample <- 'R207'\n",
    "R207.alpha.net <- read.csv(file.path(\"indv_sample_analysis\", sprintf(\"%s.indv.alpha.links.csv\", sample)))\n",
    "R207.beta.net <- read.csv(file.path(\"indv_sample_analysis\", sprintf(\"%s.indv.beta.links.csv\", sample)))\n",
    "R207.delta.net <- read.csv(file.path(\"indv_sample_analysis\", sprintf(\"%s.indv.delta.links.csv\", sample)))"
   ]
  },
  {
   "cell_type": "code",
   "execution_count": 50,
   "id": "5a89e492-dfd4-4d62-b87e-6dd4cb2f5ee7",
   "metadata": {
    "execution": {
     "iopub.execute_input": "2021-12-01T00:36:46.728490Z",
     "iopub.status.busy": "2021-12-01T00:36:46.727033Z",
     "iopub.status.idle": "2021-12-01T00:36:46.854824Z",
     "shell.execute_reply": "2021-12-01T00:36:46.852865Z"
    },
    "tags": []
   },
   "outputs": [],
   "source": [
    "sample <- 'R223'\n",
    "R223.alpha.net <- read.csv(file.path(\"indv_sample_analysis\", sprintf(\"%s.indv.alpha.links.csv\", sample)))\n",
    "R223.beta.net <- read.csv(file.path(\"indv_sample_analysis\", sprintf(\"%s.indv.beta.links.csv\", sample)))\n",
    "R223.delta.net <- read.csv(file.path(\"indv_sample_analysis\", sprintf(\"%s.indv.delta.links.csv\", sample)))"
   ]
  },
  {
   "cell_type": "code",
   "execution_count": null,
   "id": "aaa1f14f-cb4c-4a47-86d8-aa46663e2f21",
   "metadata": {},
   "outputs": [],
   "source": []
  },
  {
   "cell_type": "code",
   "execution_count": 77,
   "id": "59a4c94d-41b3-4656-992f-79033abaa0c0",
   "metadata": {
    "execution": {
     "iopub.execute_input": "2021-11-30T18:01:12.137276Z",
     "iopub.status.busy": "2021-11-30T18:01:12.135625Z",
     "iopub.status.idle": "2021-11-30T18:01:12.164023Z",
     "shell.execute_reply": "2021-11-30T18:01:12.161436Z"
    },
    "tags": []
   },
   "outputs": [
    {
     "data": {
      "text/html": [
       "<table class=\"dataframe\">\n",
       "<caption>A data.frame: 0 × 5</caption>\n",
       "<thead>\n",
       "\t<tr><th scope=col>score</th><th scope=col>gene</th><th scope=col>peak</th><th scope=col>zscore</th><th scope=col>pvalue</th></tr>\n",
       "\t<tr><th scope=col>&lt;dbl&gt;</th><th scope=col>&lt;chr&gt;</th><th scope=col>&lt;chr&gt;</th><th scope=col>&lt;dbl&gt;</th><th scope=col>&lt;dbl&gt;</th></tr>\n",
       "</thead>\n",
       "<tbody>\n",
       "</tbody>\n",
       "</table>\n"
      ],
      "text/latex": [
       "A data.frame: 0 × 5\n",
       "\\begin{tabular}{lllll}\n",
       " score & gene & peak & zscore & pvalue\\\\\n",
       " <dbl> & <chr> & <chr> & <dbl> & <dbl>\\\\\n",
       "\\hline\n",
       "\\end{tabular}\n"
      ],
      "text/markdown": [
       "\n",
       "A data.frame: 0 × 5\n",
       "\n",
       "| score &lt;dbl&gt; | gene &lt;chr&gt; | peak &lt;chr&gt; | zscore &lt;dbl&gt; | pvalue &lt;dbl&gt; |\n",
       "|---|---|---|---|---|\n",
       "\n"
      ],
      "text/plain": [
       "     score gene peak zscore pvalue"
      ]
     },
     "metadata": {},
     "output_type": "display_data"
    }
   ],
   "source": [
    "R223.delta.net[R223.delta.net$gene == \"FRMD4A\", ]"
   ]
  },
  {
   "cell_type": "code",
   "execution_count": 76,
   "id": "d9a43b7f-8504-4964-97c1-23323a0f8973",
   "metadata": {
    "execution": {
     "iopub.execute_input": "2021-11-30T18:01:10.707436Z",
     "iopub.status.busy": "2021-11-30T18:01:10.705766Z",
     "iopub.status.idle": "2021-11-30T18:01:10.746637Z",
     "shell.execute_reply": "2021-11-30T18:01:10.743117Z"
    },
    "tags": []
   },
   "outputs": [
    {
     "data": {
      "text/html": [
       "<table class=\"dataframe\">\n",
       "<caption>A data.frame: 6 × 5</caption>\n",
       "<thead>\n",
       "\t<tr><th></th><th scope=col>score</th><th scope=col>gene</th><th scope=col>peak</th><th scope=col>zscore</th><th scope=col>pvalue</th></tr>\n",
       "\t<tr><th></th><th scope=col>&lt;dbl&gt;</th><th scope=col>&lt;chr&gt;</th><th scope=col>&lt;chr&gt;</th><th scope=col>&lt;dbl&gt;</th><th scope=col>&lt;dbl&gt;</th></tr>\n",
       "</thead>\n",
       "<tbody>\n",
       "\t<tr><th scope=row>1423</th><td>0.22766468</td><td>FRMD4A</td><td>chr10-14173567-14174515</td><td>5.343312</td><td>4.563172e-08</td></tr>\n",
       "\t<tr><th scope=row>1424</th><td>0.10016889</td><td>FRMD4A</td><td>chr10-14498739-14499599</td><td>1.952403</td><td>2.544518e-02</td></tr>\n",
       "\t<tr><th scope=row>1425</th><td>0.09285194</td><td>FRMD4A</td><td>chr10-14532228-14533695</td><td>1.669260</td><td>4.753296e-02</td></tr>\n",
       "\t<tr><th scope=row>1426</th><td>0.13748733</td><td>FRMD4A</td><td>chr10-14647489-14648857</td><td>2.468290</td><td>6.788007e-03</td></tr>\n",
       "\t<tr><th scope=row>1427</th><td>0.08867366</td><td>FRMD4A</td><td>chr10-14665165-14665844</td><td>1.985045</td><td>2.356971e-02</td></tr>\n",
       "\t<tr><th scope=row>1428</th><td>0.11448526</td><td>FRMD4A</td><td>chr10-14837189-14839304</td><td>2.489272</td><td>6.400256e-03</td></tr>\n",
       "</tbody>\n",
       "</table>\n"
      ],
      "text/latex": [
       "A data.frame: 6 × 5\n",
       "\\begin{tabular}{r|lllll}\n",
       "  & score & gene & peak & zscore & pvalue\\\\\n",
       "  & <dbl> & <chr> & <chr> & <dbl> & <dbl>\\\\\n",
       "\\hline\n",
       "\t1423 & 0.22766468 & FRMD4A & chr10-14173567-14174515 & 5.343312 & 4.563172e-08\\\\\n",
       "\t1424 & 0.10016889 & FRMD4A & chr10-14498739-14499599 & 1.952403 & 2.544518e-02\\\\\n",
       "\t1425 & 0.09285194 & FRMD4A & chr10-14532228-14533695 & 1.669260 & 4.753296e-02\\\\\n",
       "\t1426 & 0.13748733 & FRMD4A & chr10-14647489-14648857 & 2.468290 & 6.788007e-03\\\\\n",
       "\t1427 & 0.08867366 & FRMD4A & chr10-14665165-14665844 & 1.985045 & 2.356971e-02\\\\\n",
       "\t1428 & 0.11448526 & FRMD4A & chr10-14837189-14839304 & 2.489272 & 6.400256e-03\\\\\n",
       "\\end{tabular}\n"
      ],
      "text/markdown": [
       "\n",
       "A data.frame: 6 × 5\n",
       "\n",
       "| <!--/--> | score &lt;dbl&gt; | gene &lt;chr&gt; | peak &lt;chr&gt; | zscore &lt;dbl&gt; | pvalue &lt;dbl&gt; |\n",
       "|---|---|---|---|---|---|\n",
       "| 1423 | 0.22766468 | FRMD4A | chr10-14173567-14174515 | 5.343312 | 4.563172e-08 |\n",
       "| 1424 | 0.10016889 | FRMD4A | chr10-14498739-14499599 | 1.952403 | 2.544518e-02 |\n",
       "| 1425 | 0.09285194 | FRMD4A | chr10-14532228-14533695 | 1.669260 | 4.753296e-02 |\n",
       "| 1426 | 0.13748733 | FRMD4A | chr10-14647489-14648857 | 2.468290 | 6.788007e-03 |\n",
       "| 1427 | 0.08867366 | FRMD4A | chr10-14665165-14665844 | 1.985045 | 2.356971e-02 |\n",
       "| 1428 | 0.11448526 | FRMD4A | chr10-14837189-14839304 | 2.489272 | 6.400256e-03 |\n",
       "\n"
      ],
      "text/plain": [
       "     score      gene   peak                    zscore   pvalue      \n",
       "1423 0.22766468 FRMD4A chr10-14173567-14174515 5.343312 4.563172e-08\n",
       "1424 0.10016889 FRMD4A chr10-14498739-14499599 1.952403 2.544518e-02\n",
       "1425 0.09285194 FRMD4A chr10-14532228-14533695 1.669260 4.753296e-02\n",
       "1426 0.13748733 FRMD4A chr10-14647489-14648857 2.468290 6.788007e-03\n",
       "1427 0.08867366 FRMD4A chr10-14665165-14665844 1.985045 2.356971e-02\n",
       "1428 0.11448526 FRMD4A chr10-14837189-14839304 2.489272 6.400256e-03"
      ]
     },
     "metadata": {},
     "output_type": "display_data"
    }
   ],
   "source": [
    "R207.delta.net[R207.delta.net$gene == \"FRMD4A\", ]"
   ]
  },
  {
   "cell_type": "code",
   "execution_count": 75,
   "id": "789e5084-23d0-4f05-aefa-5bcbaa87a0b0",
   "metadata": {
    "execution": {
     "iopub.execute_input": "2021-11-30T18:01:08.359798Z",
     "iopub.status.busy": "2021-11-30T18:01:08.358130Z",
     "iopub.status.idle": "2021-11-30T18:01:08.386228Z",
     "shell.execute_reply": "2021-11-30T18:01:08.383582Z"
    },
    "tags": []
   },
   "outputs": [
    {
     "data": {
      "text/html": [
       "<table class=\"dataframe\">\n",
       "<caption>A data.frame: 0 × 5</caption>\n",
       "<thead>\n",
       "\t<tr><th scope=col>score</th><th scope=col>gene</th><th scope=col>peak</th><th scope=col>zscore</th><th scope=col>pvalue</th></tr>\n",
       "\t<tr><th scope=col>&lt;dbl&gt;</th><th scope=col>&lt;chr&gt;</th><th scope=col>&lt;chr&gt;</th><th scope=col>&lt;dbl&gt;</th><th scope=col>&lt;dbl&gt;</th></tr>\n",
       "</thead>\n",
       "<tbody>\n",
       "</tbody>\n",
       "</table>\n"
      ],
      "text/latex": [
       "A data.frame: 0 × 5\n",
       "\\begin{tabular}{lllll}\n",
       " score & gene & peak & zscore & pvalue\\\\\n",
       " <dbl> & <chr> & <chr> & <dbl> & <dbl>\\\\\n",
       "\\hline\n",
       "\\end{tabular}\n"
      ],
      "text/markdown": [
       "\n",
       "A data.frame: 0 × 5\n",
       "\n",
       "| score &lt;dbl&gt; | gene &lt;chr&gt; | peak &lt;chr&gt; | zscore &lt;dbl&gt; | pvalue &lt;dbl&gt; |\n",
       "|---|---|---|---|---|\n",
       "\n"
      ],
      "text/plain": [
       "     score gene peak zscore pvalue"
      ]
     },
     "metadata": {},
     "output_type": "display_data"
    }
   ],
   "source": [
    "R221.delta.net[R221.delta.net$gene == \"FRMD4A\", ]"
   ]
  },
  {
   "cell_type": "code",
   "execution_count": 62,
   "id": "96d7e5e7-a26d-4da2-9224-802dc08336ee",
   "metadata": {
    "execution": {
     "iopub.execute_input": "2021-11-30T17:58:03.316667Z",
     "iopub.status.busy": "2021-11-30T17:58:03.314996Z",
     "iopub.status.idle": "2021-11-30T17:58:03.411666Z",
     "shell.execute_reply": "2021-11-30T17:58:03.409192Z"
    },
    "tags": []
   },
   "outputs": [
    {
     "data": {
      "text/html": [
       "<table class=\"dataframe\">\n",
       "<caption>A data.frame: 2675 × 5</caption>\n",
       "<thead>\n",
       "\t<tr><th></th><th scope=col>score</th><th scope=col>gene</th><th scope=col>peak</th><th scope=col>zscore</th><th scope=col>pvalue</th></tr>\n",
       "\t<tr><th></th><th scope=col>&lt;dbl&gt;</th><th scope=col>&lt;chr&gt;</th><th scope=col>&lt;chr&gt;</th><th scope=col>&lt;dbl&gt;</th><th scope=col>&lt;dbl&gt;</th></tr>\n",
       "</thead>\n",
       "<tbody>\n",
       "\t<tr><th scope=row>758</th><td>0.3761918</td><td>MARCH1   </td><td>chr4-164383020-164384559 </td><td>7.586488</td><td>1.643466e-14</td></tr>\n",
       "\t<tr><th scope=row>1372</th><td>0.3087349</td><td>SLC31A1  </td><td>chr9-113215039-113215774 </td><td>6.228359</td><td>2.356728e-10</td></tr>\n",
       "\t<tr><th scope=row>1553</th><td>0.2172171</td><td>SLC18A2  </td><td>chr10-117264049-117265708</td><td>6.030064</td><td>8.194713e-10</td></tr>\n",
       "\t<tr><th scope=row>140</th><td>0.2921576</td><td>SLC25A44 </td><td>chr1-156661352-156661580 </td><td>5.762934</td><td>4.133217e-09</td></tr>\n",
       "\t<tr><th scope=row>2130</th><td>0.2550157</td><td>SHISA9   </td><td>chr16-12901386-12902254  </td><td>5.454998</td><td>2.448672e-08</td></tr>\n",
       "\t<tr><th scope=row>1778</th><td>0.2055228</td><td>ALDH1L2  </td><td>chr12-105277780-105278301</td><td>5.422064</td><td>2.945739e-08</td></tr>\n",
       "\t<tr><th scope=row>579</th><td>0.2641070</td><td>PLS1     </td><td>chr3-142853144-142853684 </td><td>5.408218</td><td>3.182753e-08</td></tr>\n",
       "\t<tr><th scope=row>1423</th><td>0.2276647</td><td>FRMD4A   </td><td>chr10-14173567-14174515  </td><td>5.343312</td><td>4.563172e-08</td></tr>\n",
       "\t<tr><th scope=row>2164</th><td>0.1885992</td><td>LINC01572</td><td>chr16-72989283-72990250  </td><td>5.332859</td><td>4.833928e-08</td></tr>\n",
       "\t<tr><th scope=row>102</th><td>0.2324915</td><td>MIR137HG </td><td>chr1-98044439-98046366   </td><td>5.316971</td><td>5.275443e-08</td></tr>\n",
       "\t<tr><th scope=row>2613</th><td>0.2256766</td><td>MIATNB   </td><td>chr22-26367192-26367952  </td><td>5.303374</td><td>5.684091e-08</td></tr>\n",
       "\t<tr><th scope=row>1956</th><td>0.2607174</td><td>WARS     </td><td>chr14-100318072-100318578</td><td>5.253359</td><td>7.467498e-08</td></tr>\n",
       "\t<tr><th scope=row>1083</th><td>0.1747006</td><td>CPVL     </td><td>chr7-28730477-28730736   </td><td>5.130188</td><td>1.447264e-07</td></tr>\n",
       "\t<tr><th scope=row>2478</th><td>0.2530309</td><td>PLEKHG2  </td><td>chr19-39237489-39238427  </td><td>5.129513</td><td>1.452466e-07</td></tr>\n",
       "\t<tr><th scope=row>1987</th><td>0.3116134</td><td>MEG8     </td><td>chr14-100871148-100873493</td><td>5.053727</td><td>2.166359e-07</td></tr>\n",
       "\t<tr><th scope=row>1788</th><td>0.2584691</td><td>OAS3     </td><td>chr12-112937910-112938880</td><td>5.014777</td><td>2.654749e-07</td></tr>\n",
       "\t<tr><th scope=row>1765</th><td>0.2420861</td><td>ACSS3    </td><td>chr12-81077406-81078365  </td><td>4.927527</td><td>4.163838e-07</td></tr>\n",
       "\t<tr><th scope=row>2183</th><td>0.1570010</td><td>BANP     </td><td>chr16-87560528-87562577  </td><td>4.658918</td><td>1.589376e-06</td></tr>\n",
       "\t<tr><th scope=row>2454</th><td>0.2537403</td><td>PDE4C    </td><td>chr19-18173183-18174548  </td><td>4.640179</td><td>1.740537e-06</td></tr>\n",
       "\t<tr><th scope=row>89</th><td>0.2141591</td><td>COL24A1  </td><td>chr1-86409116-86409759   </td><td>4.633937</td><td>1.793878e-06</td></tr>\n",
       "\t<tr><th scope=row>1985</th><td>0.2784751</td><td>MEG8     </td><td>chr14-100825440-100826279</td><td>4.619586</td><td>1.922534e-06</td></tr>\n",
       "\t<tr><th scope=row>795</th><td>0.2025910</td><td>PDZD2    </td><td>chr5-31193168-31195215   </td><td>4.610721</td><td>2.006375e-06</td></tr>\n",
       "\t<tr><th scope=row>1808</th><td>0.2396867</td><td>ATP8A2   </td><td>chr13-25017779-25019119  </td><td>4.546131</td><td>2.732052e-06</td></tr>\n",
       "\t<tr><th scope=row>1402</th><td>0.2054170</td><td>CEL      </td><td>chr9-133274124-133275984 </td><td>4.476768</td><td>3.789081e-06</td></tr>\n",
       "\t<tr><th scope=row>1649</th><td>0.1981882</td><td>PGM2L1   </td><td>chr11-74731151-74731609  </td><td>4.473213</td><td>3.852642e-06</td></tr>\n",
       "\t<tr><th scope=row>2645</th><td>0.2002147</td><td>ZNF630   </td><td>chrX-47587004-47587685   </td><td>4.467210</td><td>3.962310e-06</td></tr>\n",
       "\t<tr><th scope=row>1450</th><td>0.2092694</td><td>CCDC7    </td><td>chr10-32048923-32050490  </td><td>4.437238</td><td>4.556025e-06</td></tr>\n",
       "\t<tr><th scope=row>1252</th><td>0.2018585</td><td>CSMD3    </td><td>chr8-113434751-113435065 </td><td>4.434199</td><td>4.620770e-06</td></tr>\n",
       "\t<tr><th scope=row>360</th><td>0.2168568</td><td>STAT1    </td><td>chr2-191478875-191479844 </td><td>4.397755</td><td>5.468809e-06</td></tr>\n",
       "\t<tr><th scope=row>1868</th><td>0.1741584</td><td>COL4A2   </td><td>chr13-109835068-109835662</td><td>4.357288</td><td>6.584197e-06</td></tr>\n",
       "\t<tr><th scope=row>⋮</th><td>⋮</td><td>⋮</td><td>⋮</td><td>⋮</td><td>⋮</td></tr>\n",
       "\t<tr><th scope=row>761</th><td>-0.07722331</td><td>SH3RF1      </td><td>chr4-169229536-169229972 </td><td>-1.651834</td><td>0.04928419</td></tr>\n",
       "\t<tr><th scope=row>527</th><td>-0.06627518</td><td>FAM162A     </td><td>chr3-122563573-122564903 </td><td>-1.651409</td><td>0.04932754</td></tr>\n",
       "\t<tr><th scope=row>1080</th><td>-0.07487156</td><td>CREB5       </td><td>chr7-27994426-27994970   </td><td>-1.651361</td><td>0.04933242</td></tr>\n",
       "\t<tr><th scope=row>1257</th><td>-0.08929683</td><td>SLC30A8     </td><td>chr8-117151246-117152138 </td><td>-1.650685</td><td>0.04940147</td></tr>\n",
       "\t<tr><th scope=row>1293</th><td>-0.07585419</td><td>MLLT3       </td><td>chr9-20611648-20612385   </td><td>-1.650630</td><td>0.04940709</td></tr>\n",
       "\t<tr><th scope=row>2450</th><td> 0.07302009</td><td>RAB3A       </td><td>chr19-18135722-18136483  </td><td> 1.650131</td><td>0.04945804</td></tr>\n",
       "\t<tr><th scope=row>119</th><td>-0.07700019</td><td>ADAMTSL4-AS1</td><td>chr1-151007992-151008798 </td><td>-1.649909</td><td>0.04948082</td></tr>\n",
       "\t<tr><th scope=row>578</th><td> 0.06433593</td><td>PLS1        </td><td>chr3-142645383-142645734 </td><td> 1.649855</td><td>0.04948632</td></tr>\n",
       "\t<tr><th scope=row>1217</th><td> 0.06663664</td><td>LINC01602   </td><td>chr8-57516743-57517090   </td><td> 1.649728</td><td>0.04949928</td></tr>\n",
       "\t<tr><th scope=row>1602</th><td> 0.07454978</td><td>PAUPAR      </td><td>chr11-31957699-31958468  </td><td> 1.649384</td><td>0.04953450</td></tr>\n",
       "\t<tr><th scope=row>130</th><td>-0.07652086</td><td>PMF1        </td><td>chr1-155856899-155857464 </td><td>-1.648793</td><td>0.04959505</td></tr>\n",
       "\t<tr><th scope=row>2074</th><td>-0.09385569</td><td>ANKRD34C-AS1</td><td>chr15-78871988-78873813  </td><td>-1.648707</td><td>0.04960385</td></tr>\n",
       "\t<tr><th scope=row>642</th><td> 0.07002577</td><td>FGF12       </td><td>chr3-192916533-192918451 </td><td> 1.648661</td><td>0.04960855</td></tr>\n",
       "\t<tr><th scope=row>1429</th><td> 0.09004718</td><td>FAM171A1    </td><td>chr10-14958954-14960811  </td><td> 1.648543</td><td>0.04962070</td></tr>\n",
       "\t<tr><th scope=row>2430</th><td> 0.08180717</td><td>GIPC1       </td><td>chr19-14517612-14518980  </td><td> 1.648280</td><td>0.04964765</td></tr>\n",
       "\t<tr><th scope=row>2553</th><td> 0.10461542</td><td>SAMHD1      </td><td>chr20-36773160-36774714  </td><td> 1.648008</td><td>0.04967548</td></tr>\n",
       "\t<tr><th scope=row>1533</th><td> 0.09703519</td><td>CFAP43      </td><td>chr10-104267816-104269598</td><td> 1.647938</td><td>0.04968270</td></tr>\n",
       "\t<tr><th scope=row>2651</th><td> 0.07576535</td><td>RPS6KA6     </td><td>chrX-84186871-84188862   </td><td> 1.647876</td><td>0.04968910</td></tr>\n",
       "\t<tr><th scope=row>2249</th><td>-0.07073412</td><td>RUNDC1      </td><td>chr17-42547130-42548824  </td><td>-1.647770</td><td>0.04969993</td></tr>\n",
       "\t<tr><th scope=row>2094</th><td> 0.09180189</td><td>IGF1R       </td><td>chr15-98580310-98581003  </td><td> 1.647733</td><td>0.04970374</td></tr>\n",
       "\t<tr><th scope=row>2320</th><td> 0.08434199</td><td>SLC14A2     </td><td>chr18-44778619-44779458  </td><td> 1.647264</td><td>0.04975189</td></tr>\n",
       "\t<tr><th scope=row>2541</th><td> 0.11057403</td><td>ZNF418      </td><td>chr19-58325587-58326085  </td><td> 1.647123</td><td>0.04976634</td></tr>\n",
       "\t<tr><th scope=row>820</th><td> 0.08906820</td><td>PDE8B       </td><td>chr5-77144120-77144896   </td><td> 1.647100</td><td>0.04976878</td></tr>\n",
       "\t<tr><th scope=row>2215</th><td> 0.07213492</td><td>DNAH2       </td><td>chr17-7887491-7887887    </td><td> 1.647016</td><td>0.04977742</td></tr>\n",
       "\t<tr><th scope=row>413</th><td> 0.06675829</td><td>RBM44       </td><td>chr2-238234332-238234683 </td><td> 1.646780</td><td>0.04980163</td></tr>\n",
       "\t<tr><th scope=row>773</th><td>-0.09666411</td><td>FAT1        </td><td>chr4-186665979-186667163 </td><td>-1.646516</td><td>0.04982879</td></tr>\n",
       "\t<tr><th scope=row>260</th><td> 0.08727103</td><td>RMDN2       </td><td>chr2-37526489-37528044   </td><td> 1.646363</td><td>0.04984452</td></tr>\n",
       "\t<tr><th scope=row>2634</th><td> 0.09758292</td><td>AP1S2       </td><td>chrX-16185484-16186217   </td><td> 1.646317</td><td>0.04984925</td></tr>\n",
       "\t<tr><th scope=row>1717</th><td>-0.08322721</td><td>EMG1        </td><td>chr12-6970026-6971440    </td><td>-1.646187</td><td>0.04986260</td></tr>\n",
       "\t<tr><th scope=row>812</th><td>-0.07721756</td><td>RGS7BP      </td><td>chr5-64659301-64659697   </td><td>-1.645788</td><td>0.04990373</td></tr>\n",
       "</tbody>\n",
       "</table>\n"
      ],
      "text/latex": [
       "A data.frame: 2675 × 5\n",
       "\\begin{tabular}{r|lllll}\n",
       "  & score & gene & peak & zscore & pvalue\\\\\n",
       "  & <dbl> & <chr> & <chr> & <dbl> & <dbl>\\\\\n",
       "\\hline\n",
       "\t758 & 0.3761918 & MARCH1    & chr4-164383020-164384559  & 7.586488 & 1.643466e-14\\\\\n",
       "\t1372 & 0.3087349 & SLC31A1   & chr9-113215039-113215774  & 6.228359 & 2.356728e-10\\\\\n",
       "\t1553 & 0.2172171 & SLC18A2   & chr10-117264049-117265708 & 6.030064 & 8.194713e-10\\\\\n",
       "\t140 & 0.2921576 & SLC25A44  & chr1-156661352-156661580  & 5.762934 & 4.133217e-09\\\\\n",
       "\t2130 & 0.2550157 & SHISA9    & chr16-12901386-12902254   & 5.454998 & 2.448672e-08\\\\\n",
       "\t1778 & 0.2055228 & ALDH1L2   & chr12-105277780-105278301 & 5.422064 & 2.945739e-08\\\\\n",
       "\t579 & 0.2641070 & PLS1      & chr3-142853144-142853684  & 5.408218 & 3.182753e-08\\\\\n",
       "\t1423 & 0.2276647 & FRMD4A    & chr10-14173567-14174515   & 5.343312 & 4.563172e-08\\\\\n",
       "\t2164 & 0.1885992 & LINC01572 & chr16-72989283-72990250   & 5.332859 & 4.833928e-08\\\\\n",
       "\t102 & 0.2324915 & MIR137HG  & chr1-98044439-98046366    & 5.316971 & 5.275443e-08\\\\\n",
       "\t2613 & 0.2256766 & MIATNB    & chr22-26367192-26367952   & 5.303374 & 5.684091e-08\\\\\n",
       "\t1956 & 0.2607174 & WARS      & chr14-100318072-100318578 & 5.253359 & 7.467498e-08\\\\\n",
       "\t1083 & 0.1747006 & CPVL      & chr7-28730477-28730736    & 5.130188 & 1.447264e-07\\\\\n",
       "\t2478 & 0.2530309 & PLEKHG2   & chr19-39237489-39238427   & 5.129513 & 1.452466e-07\\\\\n",
       "\t1987 & 0.3116134 & MEG8      & chr14-100871148-100873493 & 5.053727 & 2.166359e-07\\\\\n",
       "\t1788 & 0.2584691 & OAS3      & chr12-112937910-112938880 & 5.014777 & 2.654749e-07\\\\\n",
       "\t1765 & 0.2420861 & ACSS3     & chr12-81077406-81078365   & 4.927527 & 4.163838e-07\\\\\n",
       "\t2183 & 0.1570010 & BANP      & chr16-87560528-87562577   & 4.658918 & 1.589376e-06\\\\\n",
       "\t2454 & 0.2537403 & PDE4C     & chr19-18173183-18174548   & 4.640179 & 1.740537e-06\\\\\n",
       "\t89 & 0.2141591 & COL24A1   & chr1-86409116-86409759    & 4.633937 & 1.793878e-06\\\\\n",
       "\t1985 & 0.2784751 & MEG8      & chr14-100825440-100826279 & 4.619586 & 1.922534e-06\\\\\n",
       "\t795 & 0.2025910 & PDZD2     & chr5-31193168-31195215    & 4.610721 & 2.006375e-06\\\\\n",
       "\t1808 & 0.2396867 & ATP8A2    & chr13-25017779-25019119   & 4.546131 & 2.732052e-06\\\\\n",
       "\t1402 & 0.2054170 & CEL       & chr9-133274124-133275984  & 4.476768 & 3.789081e-06\\\\\n",
       "\t1649 & 0.1981882 & PGM2L1    & chr11-74731151-74731609   & 4.473213 & 3.852642e-06\\\\\n",
       "\t2645 & 0.2002147 & ZNF630    & chrX-47587004-47587685    & 4.467210 & 3.962310e-06\\\\\n",
       "\t1450 & 0.2092694 & CCDC7     & chr10-32048923-32050490   & 4.437238 & 4.556025e-06\\\\\n",
       "\t1252 & 0.2018585 & CSMD3     & chr8-113434751-113435065  & 4.434199 & 4.620770e-06\\\\\n",
       "\t360 & 0.2168568 & STAT1     & chr2-191478875-191479844  & 4.397755 & 5.468809e-06\\\\\n",
       "\t1868 & 0.1741584 & COL4A2    & chr13-109835068-109835662 & 4.357288 & 6.584197e-06\\\\\n",
       "\t⋮ & ⋮ & ⋮ & ⋮ & ⋮ & ⋮\\\\\n",
       "\t761 & -0.07722331 & SH3RF1       & chr4-169229536-169229972  & -1.651834 & 0.04928419\\\\\n",
       "\t527 & -0.06627518 & FAM162A      & chr3-122563573-122564903  & -1.651409 & 0.04932754\\\\\n",
       "\t1080 & -0.07487156 & CREB5        & chr7-27994426-27994970    & -1.651361 & 0.04933242\\\\\n",
       "\t1257 & -0.08929683 & SLC30A8      & chr8-117151246-117152138  & -1.650685 & 0.04940147\\\\\n",
       "\t1293 & -0.07585419 & MLLT3        & chr9-20611648-20612385    & -1.650630 & 0.04940709\\\\\n",
       "\t2450 &  0.07302009 & RAB3A        & chr19-18135722-18136483   &  1.650131 & 0.04945804\\\\\n",
       "\t119 & -0.07700019 & ADAMTSL4-AS1 & chr1-151007992-151008798  & -1.649909 & 0.04948082\\\\\n",
       "\t578 &  0.06433593 & PLS1         & chr3-142645383-142645734  &  1.649855 & 0.04948632\\\\\n",
       "\t1217 &  0.06663664 & LINC01602    & chr8-57516743-57517090    &  1.649728 & 0.04949928\\\\\n",
       "\t1602 &  0.07454978 & PAUPAR       & chr11-31957699-31958468   &  1.649384 & 0.04953450\\\\\n",
       "\t130 & -0.07652086 & PMF1         & chr1-155856899-155857464  & -1.648793 & 0.04959505\\\\\n",
       "\t2074 & -0.09385569 & ANKRD34C-AS1 & chr15-78871988-78873813   & -1.648707 & 0.04960385\\\\\n",
       "\t642 &  0.07002577 & FGF12        & chr3-192916533-192918451  &  1.648661 & 0.04960855\\\\\n",
       "\t1429 &  0.09004718 & FAM171A1     & chr10-14958954-14960811   &  1.648543 & 0.04962070\\\\\n",
       "\t2430 &  0.08180717 & GIPC1        & chr19-14517612-14518980   &  1.648280 & 0.04964765\\\\\n",
       "\t2553 &  0.10461542 & SAMHD1       & chr20-36773160-36774714   &  1.648008 & 0.04967548\\\\\n",
       "\t1533 &  0.09703519 & CFAP43       & chr10-104267816-104269598 &  1.647938 & 0.04968270\\\\\n",
       "\t2651 &  0.07576535 & RPS6KA6      & chrX-84186871-84188862    &  1.647876 & 0.04968910\\\\\n",
       "\t2249 & -0.07073412 & RUNDC1       & chr17-42547130-42548824   & -1.647770 & 0.04969993\\\\\n",
       "\t2094 &  0.09180189 & IGF1R        & chr15-98580310-98581003   &  1.647733 & 0.04970374\\\\\n",
       "\t2320 &  0.08434199 & SLC14A2      & chr18-44778619-44779458   &  1.647264 & 0.04975189\\\\\n",
       "\t2541 &  0.11057403 & ZNF418       & chr19-58325587-58326085   &  1.647123 & 0.04976634\\\\\n",
       "\t820 &  0.08906820 & PDE8B        & chr5-77144120-77144896    &  1.647100 & 0.04976878\\\\\n",
       "\t2215 &  0.07213492 & DNAH2        & chr17-7887491-7887887     &  1.647016 & 0.04977742\\\\\n",
       "\t413 &  0.06675829 & RBM44        & chr2-238234332-238234683  &  1.646780 & 0.04980163\\\\\n",
       "\t773 & -0.09666411 & FAT1         & chr4-186665979-186667163  & -1.646516 & 0.04982879\\\\\n",
       "\t260 &  0.08727103 & RMDN2        & chr2-37526489-37528044    &  1.646363 & 0.04984452\\\\\n",
       "\t2634 &  0.09758292 & AP1S2        & chrX-16185484-16186217    &  1.646317 & 0.04984925\\\\\n",
       "\t1717 & -0.08322721 & EMG1         & chr12-6970026-6971440     & -1.646187 & 0.04986260\\\\\n",
       "\t812 & -0.07721756 & RGS7BP       & chr5-64659301-64659697    & -1.645788 & 0.04990373\\\\\n",
       "\\end{tabular}\n"
      ],
      "text/markdown": [
       "\n",
       "A data.frame: 2675 × 5\n",
       "\n",
       "| <!--/--> | score &lt;dbl&gt; | gene &lt;chr&gt; | peak &lt;chr&gt; | zscore &lt;dbl&gt; | pvalue &lt;dbl&gt; |\n",
       "|---|---|---|---|---|---|\n",
       "| 758 | 0.3761918 | MARCH1    | chr4-164383020-164384559  | 7.586488 | 1.643466e-14 |\n",
       "| 1372 | 0.3087349 | SLC31A1   | chr9-113215039-113215774  | 6.228359 | 2.356728e-10 |\n",
       "| 1553 | 0.2172171 | SLC18A2   | chr10-117264049-117265708 | 6.030064 | 8.194713e-10 |\n",
       "| 140 | 0.2921576 | SLC25A44  | chr1-156661352-156661580  | 5.762934 | 4.133217e-09 |\n",
       "| 2130 | 0.2550157 | SHISA9    | chr16-12901386-12902254   | 5.454998 | 2.448672e-08 |\n",
       "| 1778 | 0.2055228 | ALDH1L2   | chr12-105277780-105278301 | 5.422064 | 2.945739e-08 |\n",
       "| 579 | 0.2641070 | PLS1      | chr3-142853144-142853684  | 5.408218 | 3.182753e-08 |\n",
       "| 1423 | 0.2276647 | FRMD4A    | chr10-14173567-14174515   | 5.343312 | 4.563172e-08 |\n",
       "| 2164 | 0.1885992 | LINC01572 | chr16-72989283-72990250   | 5.332859 | 4.833928e-08 |\n",
       "| 102 | 0.2324915 | MIR137HG  | chr1-98044439-98046366    | 5.316971 | 5.275443e-08 |\n",
       "| 2613 | 0.2256766 | MIATNB    | chr22-26367192-26367952   | 5.303374 | 5.684091e-08 |\n",
       "| 1956 | 0.2607174 | WARS      | chr14-100318072-100318578 | 5.253359 | 7.467498e-08 |\n",
       "| 1083 | 0.1747006 | CPVL      | chr7-28730477-28730736    | 5.130188 | 1.447264e-07 |\n",
       "| 2478 | 0.2530309 | PLEKHG2   | chr19-39237489-39238427   | 5.129513 | 1.452466e-07 |\n",
       "| 1987 | 0.3116134 | MEG8      | chr14-100871148-100873493 | 5.053727 | 2.166359e-07 |\n",
       "| 1788 | 0.2584691 | OAS3      | chr12-112937910-112938880 | 5.014777 | 2.654749e-07 |\n",
       "| 1765 | 0.2420861 | ACSS3     | chr12-81077406-81078365   | 4.927527 | 4.163838e-07 |\n",
       "| 2183 | 0.1570010 | BANP      | chr16-87560528-87562577   | 4.658918 | 1.589376e-06 |\n",
       "| 2454 | 0.2537403 | PDE4C     | chr19-18173183-18174548   | 4.640179 | 1.740537e-06 |\n",
       "| 89 | 0.2141591 | COL24A1   | chr1-86409116-86409759    | 4.633937 | 1.793878e-06 |\n",
       "| 1985 | 0.2784751 | MEG8      | chr14-100825440-100826279 | 4.619586 | 1.922534e-06 |\n",
       "| 795 | 0.2025910 | PDZD2     | chr5-31193168-31195215    | 4.610721 | 2.006375e-06 |\n",
       "| 1808 | 0.2396867 | ATP8A2    | chr13-25017779-25019119   | 4.546131 | 2.732052e-06 |\n",
       "| 1402 | 0.2054170 | CEL       | chr9-133274124-133275984  | 4.476768 | 3.789081e-06 |\n",
       "| 1649 | 0.1981882 | PGM2L1    | chr11-74731151-74731609   | 4.473213 | 3.852642e-06 |\n",
       "| 2645 | 0.2002147 | ZNF630    | chrX-47587004-47587685    | 4.467210 | 3.962310e-06 |\n",
       "| 1450 | 0.2092694 | CCDC7     | chr10-32048923-32050490   | 4.437238 | 4.556025e-06 |\n",
       "| 1252 | 0.2018585 | CSMD3     | chr8-113434751-113435065  | 4.434199 | 4.620770e-06 |\n",
       "| 360 | 0.2168568 | STAT1     | chr2-191478875-191479844  | 4.397755 | 5.468809e-06 |\n",
       "| 1868 | 0.1741584 | COL4A2    | chr13-109835068-109835662 | 4.357288 | 6.584197e-06 |\n",
       "| ⋮ | ⋮ | ⋮ | ⋮ | ⋮ | ⋮ |\n",
       "| 761 | -0.07722331 | SH3RF1       | chr4-169229536-169229972  | -1.651834 | 0.04928419 |\n",
       "| 527 | -0.06627518 | FAM162A      | chr3-122563573-122564903  | -1.651409 | 0.04932754 |\n",
       "| 1080 | -0.07487156 | CREB5        | chr7-27994426-27994970    | -1.651361 | 0.04933242 |\n",
       "| 1257 | -0.08929683 | SLC30A8      | chr8-117151246-117152138  | -1.650685 | 0.04940147 |\n",
       "| 1293 | -0.07585419 | MLLT3        | chr9-20611648-20612385    | -1.650630 | 0.04940709 |\n",
       "| 2450 |  0.07302009 | RAB3A        | chr19-18135722-18136483   |  1.650131 | 0.04945804 |\n",
       "| 119 | -0.07700019 | ADAMTSL4-AS1 | chr1-151007992-151008798  | -1.649909 | 0.04948082 |\n",
       "| 578 |  0.06433593 | PLS1         | chr3-142645383-142645734  |  1.649855 | 0.04948632 |\n",
       "| 1217 |  0.06663664 | LINC01602    | chr8-57516743-57517090    |  1.649728 | 0.04949928 |\n",
       "| 1602 |  0.07454978 | PAUPAR       | chr11-31957699-31958468   |  1.649384 | 0.04953450 |\n",
       "| 130 | -0.07652086 | PMF1         | chr1-155856899-155857464  | -1.648793 | 0.04959505 |\n",
       "| 2074 | -0.09385569 | ANKRD34C-AS1 | chr15-78871988-78873813   | -1.648707 | 0.04960385 |\n",
       "| 642 |  0.07002577 | FGF12        | chr3-192916533-192918451  |  1.648661 | 0.04960855 |\n",
       "| 1429 |  0.09004718 | FAM171A1     | chr10-14958954-14960811   |  1.648543 | 0.04962070 |\n",
       "| 2430 |  0.08180717 | GIPC1        | chr19-14517612-14518980   |  1.648280 | 0.04964765 |\n",
       "| 2553 |  0.10461542 | SAMHD1       | chr20-36773160-36774714   |  1.648008 | 0.04967548 |\n",
       "| 1533 |  0.09703519 | CFAP43       | chr10-104267816-104269598 |  1.647938 | 0.04968270 |\n",
       "| 2651 |  0.07576535 | RPS6KA6      | chrX-84186871-84188862    |  1.647876 | 0.04968910 |\n",
       "| 2249 | -0.07073412 | RUNDC1       | chr17-42547130-42548824   | -1.647770 | 0.04969993 |\n",
       "| 2094 |  0.09180189 | IGF1R        | chr15-98580310-98581003   |  1.647733 | 0.04970374 |\n",
       "| 2320 |  0.08434199 | SLC14A2      | chr18-44778619-44779458   |  1.647264 | 0.04975189 |\n",
       "| 2541 |  0.11057403 | ZNF418       | chr19-58325587-58326085   |  1.647123 | 0.04976634 |\n",
       "| 820 |  0.08906820 | PDE8B        | chr5-77144120-77144896    |  1.647100 | 0.04976878 |\n",
       "| 2215 |  0.07213492 | DNAH2        | chr17-7887491-7887887     |  1.647016 | 0.04977742 |\n",
       "| 413 |  0.06675829 | RBM44        | chr2-238234332-238234683  |  1.646780 | 0.04980163 |\n",
       "| 773 | -0.09666411 | FAT1         | chr4-186665979-186667163  | -1.646516 | 0.04982879 |\n",
       "| 260 |  0.08727103 | RMDN2        | chr2-37526489-37528044    |  1.646363 | 0.04984452 |\n",
       "| 2634 |  0.09758292 | AP1S2        | chrX-16185484-16186217    |  1.646317 | 0.04984925 |\n",
       "| 1717 | -0.08322721 | EMG1         | chr12-6970026-6971440     | -1.646187 | 0.04986260 |\n",
       "| 812 | -0.07721756 | RGS7BP       | chr5-64659301-64659697    | -1.645788 | 0.04990373 |\n",
       "\n"
      ],
      "text/plain": [
       "     score       gene         peak                      zscore    pvalue      \n",
       "758  0.3761918   MARCH1       chr4-164383020-164384559  7.586488  1.643466e-14\n",
       "1372 0.3087349   SLC31A1      chr9-113215039-113215774  6.228359  2.356728e-10\n",
       "1553 0.2172171   SLC18A2      chr10-117264049-117265708 6.030064  8.194713e-10\n",
       "140  0.2921576   SLC25A44     chr1-156661352-156661580  5.762934  4.133217e-09\n",
       "2130 0.2550157   SHISA9       chr16-12901386-12902254   5.454998  2.448672e-08\n",
       "1778 0.2055228   ALDH1L2      chr12-105277780-105278301 5.422064  2.945739e-08\n",
       "579  0.2641070   PLS1         chr3-142853144-142853684  5.408218  3.182753e-08\n",
       "1423 0.2276647   FRMD4A       chr10-14173567-14174515   5.343312  4.563172e-08\n",
       "2164 0.1885992   LINC01572    chr16-72989283-72990250   5.332859  4.833928e-08\n",
       "102  0.2324915   MIR137HG     chr1-98044439-98046366    5.316971  5.275443e-08\n",
       "2613 0.2256766   MIATNB       chr22-26367192-26367952   5.303374  5.684091e-08\n",
       "1956 0.2607174   WARS         chr14-100318072-100318578 5.253359  7.467498e-08\n",
       "1083 0.1747006   CPVL         chr7-28730477-28730736    5.130188  1.447264e-07\n",
       "2478 0.2530309   PLEKHG2      chr19-39237489-39238427   5.129513  1.452466e-07\n",
       "1987 0.3116134   MEG8         chr14-100871148-100873493 5.053727  2.166359e-07\n",
       "1788 0.2584691   OAS3         chr12-112937910-112938880 5.014777  2.654749e-07\n",
       "1765 0.2420861   ACSS3        chr12-81077406-81078365   4.927527  4.163838e-07\n",
       "2183 0.1570010   BANP         chr16-87560528-87562577   4.658918  1.589376e-06\n",
       "2454 0.2537403   PDE4C        chr19-18173183-18174548   4.640179  1.740537e-06\n",
       "89   0.2141591   COL24A1      chr1-86409116-86409759    4.633937  1.793878e-06\n",
       "1985 0.2784751   MEG8         chr14-100825440-100826279 4.619586  1.922534e-06\n",
       "795  0.2025910   PDZD2        chr5-31193168-31195215    4.610721  2.006375e-06\n",
       "1808 0.2396867   ATP8A2       chr13-25017779-25019119   4.546131  2.732052e-06\n",
       "1402 0.2054170   CEL          chr9-133274124-133275984  4.476768  3.789081e-06\n",
       "1649 0.1981882   PGM2L1       chr11-74731151-74731609   4.473213  3.852642e-06\n",
       "2645 0.2002147   ZNF630       chrX-47587004-47587685    4.467210  3.962310e-06\n",
       "1450 0.2092694   CCDC7        chr10-32048923-32050490   4.437238  4.556025e-06\n",
       "1252 0.2018585   CSMD3        chr8-113434751-113435065  4.434199  4.620770e-06\n",
       "360  0.2168568   STAT1        chr2-191478875-191479844  4.397755  5.468809e-06\n",
       "1868 0.1741584   COL4A2       chr13-109835068-109835662 4.357288  6.584197e-06\n",
       "⋮    ⋮           ⋮            ⋮                         ⋮         ⋮           \n",
       "761  -0.07722331 SH3RF1       chr4-169229536-169229972  -1.651834 0.04928419  \n",
       "527  -0.06627518 FAM162A      chr3-122563573-122564903  -1.651409 0.04932754  \n",
       "1080 -0.07487156 CREB5        chr7-27994426-27994970    -1.651361 0.04933242  \n",
       "1257 -0.08929683 SLC30A8      chr8-117151246-117152138  -1.650685 0.04940147  \n",
       "1293 -0.07585419 MLLT3        chr9-20611648-20612385    -1.650630 0.04940709  \n",
       "2450  0.07302009 RAB3A        chr19-18135722-18136483    1.650131 0.04945804  \n",
       "119  -0.07700019 ADAMTSL4-AS1 chr1-151007992-151008798  -1.649909 0.04948082  \n",
       "578   0.06433593 PLS1         chr3-142645383-142645734   1.649855 0.04948632  \n",
       "1217  0.06663664 LINC01602    chr8-57516743-57517090     1.649728 0.04949928  \n",
       "1602  0.07454978 PAUPAR       chr11-31957699-31958468    1.649384 0.04953450  \n",
       "130  -0.07652086 PMF1         chr1-155856899-155857464  -1.648793 0.04959505  \n",
       "2074 -0.09385569 ANKRD34C-AS1 chr15-78871988-78873813   -1.648707 0.04960385  \n",
       "642   0.07002577 FGF12        chr3-192916533-192918451   1.648661 0.04960855  \n",
       "1429  0.09004718 FAM171A1     chr10-14958954-14960811    1.648543 0.04962070  \n",
       "2430  0.08180717 GIPC1        chr19-14517612-14518980    1.648280 0.04964765  \n",
       "2553  0.10461542 SAMHD1       chr20-36773160-36774714    1.648008 0.04967548  \n",
       "1533  0.09703519 CFAP43       chr10-104267816-104269598  1.647938 0.04968270  \n",
       "2651  0.07576535 RPS6KA6      chrX-84186871-84188862     1.647876 0.04968910  \n",
       "2249 -0.07073412 RUNDC1       chr17-42547130-42548824   -1.647770 0.04969993  \n",
       "2094  0.09180189 IGF1R        chr15-98580310-98581003    1.647733 0.04970374  \n",
       "2320  0.08434199 SLC14A2      chr18-44778619-44779458    1.647264 0.04975189  \n",
       "2541  0.11057403 ZNF418       chr19-58325587-58326085    1.647123 0.04976634  \n",
       "820   0.08906820 PDE8B        chr5-77144120-77144896     1.647100 0.04976878  \n",
       "2215  0.07213492 DNAH2        chr17-7887491-7887887      1.647016 0.04977742  \n",
       "413   0.06675829 RBM44        chr2-238234332-238234683   1.646780 0.04980163  \n",
       "773  -0.09666411 FAT1         chr4-186665979-186667163  -1.646516 0.04982879  \n",
       "260   0.08727103 RMDN2        chr2-37526489-37528044     1.646363 0.04984452  \n",
       "2634  0.09758292 AP1S2        chrX-16185484-16186217     1.646317 0.04984925  \n",
       "1717 -0.08322721 EMG1         chr12-6970026-6971440     -1.646187 0.04986260  \n",
       "812  -0.07721756 RGS7BP       chr5-64659301-64659697    -1.645788 0.04990373  "
      ]
     },
     "metadata": {},
     "output_type": "display_data"
    }
   ],
   "source": [
    "R207.delta.net[order(R207.delta.net$pvalue), ]"
   ]
  },
  {
   "cell_type": "code",
   "execution_count": 45,
   "id": "4b8196de-346d-40ce-a95d-38775536e17f",
   "metadata": {
    "execution": {
     "iopub.execute_input": "2021-12-01T00:36:31.587985Z",
     "iopub.status.busy": "2021-12-01T00:36:31.586394Z",
     "iopub.status.idle": "2021-12-01T00:36:31.609877Z",
     "shell.execute_reply": "2021-12-01T00:36:31.607350Z"
    },
    "tags": []
   },
   "outputs": [
    {
     "ename": "ERROR",
     "evalue": "Error in eval(expr, envir, enclos): object 'R221.delta.net' not found\n",
     "output_type": "error",
     "traceback": [
      "Error in eval(expr, envir, enclos): object 'R221.delta.net' not found\nTraceback:\n"
     ]
    }
   ],
   "source": [
    "R221.delta.net[order(R221.delta.net$pvalue), ]"
   ]
  },
  {
   "cell_type": "code",
   "execution_count": 36,
   "id": "e8bdfaa9-82f0-444e-b858-4ffb6b120b5b",
   "metadata": {
    "execution": {
     "iopub.execute_input": "2021-11-30T17:34:19.138261Z",
     "iopub.status.busy": "2021-11-30T17:34:19.136449Z",
     "iopub.status.idle": "2021-11-30T17:34:19.156401Z",
     "shell.execute_reply": "2021-11-30T17:34:19.154487Z"
    },
    "tags": []
   },
   "outputs": [],
   "source": [
    "DefaultAssay(adata_interest) <- \"peaks\""
   ]
  },
  {
   "cell_type": "code",
   "execution_count": 37,
   "id": "da5c3d86-223a-436b-8c8e-088ab7d21cc5",
   "metadata": {
    "execution": {
     "iopub.execute_input": "2021-11-30T17:34:20.211493Z",
     "iopub.status.busy": "2021-11-30T17:34:20.209733Z",
     "iopub.status.idle": "2021-11-30T17:34:20.242224Z",
     "shell.execute_reply": "2021-11-30T17:34:20.240444Z"
    },
    "tags": []
   },
   "outputs": [
    {
     "data": {
      "text/plain": [
       "GRanges object with 0 ranges and 0 metadata columns:\n",
       "   seqnames    ranges strand\n",
       "      <Rle> <IRanges>  <Rle>\n",
       "  -------\n",
       "  seqinfo: no sequences"
      ]
     },
     "metadata": {},
     "output_type": "display_data"
    }
   ],
   "source": [
    "Links(adata_interest)"
   ]
  },
  {
   "cell_type": "code",
   "execution_count": 30,
   "id": "bffbb89b-008b-4722-91da-9f790ceb4603",
   "metadata": {
    "execution": {
     "iopub.execute_input": "2021-11-30T17:30:20.137026Z",
     "iopub.status.busy": "2021-11-30T17:30:20.135305Z",
     "iopub.status.idle": "2021-11-30T17:30:20.177060Z",
     "shell.execute_reply": "2021-11-30T17:30:20.175205Z"
    },
    "tags": []
   },
   "outputs": [
    {
     "data": {
      "text/plain": [
       "GRanges object with 11 ranges and 5 metadata columns:\n",
       "       seqnames              ranges strand |      score        gene\n",
       "          <Rle>           <IRanges>  <Rle> |  <numeric> <character>\n",
       "   [1]     chr2 161708933-162152404      * |  0.1456069         GCG\n",
       "   [2]     chr2 161844078-162152404      * |  0.1305708         GCG\n",
       "   [3]     chr2 161845084-162152404      * |  0.1505481         GCG\n",
       "   [4]     chr2 161905618-162152404      * |  0.1690738         GCG\n",
       "   [5]     chr2 162073969-162152404      * |  0.1935783         GCG\n",
       "   [6]     chr2 162091631-162152404      * |  0.2015312         GCG\n",
       "   [7]     chr2 162152404-162172880      * |  0.1790207         GCG\n",
       "   [8]     chr2 162152404-162212811      * |  0.1572523         GCG\n",
       "   [9]     chr2 162152404-162337333      * |  0.0973920         GCG\n",
       "  [10]     chr2 162152404-162478867      * | -0.0927967         GCG\n",
       "  [11]     chr2 162152404-162574954      * | -0.0591658         GCG\n",
       "                         peak    zscore     pvalue\n",
       "                  <character> <numeric>  <numeric>\n",
       "   [1] chr2-161708271-16170..   1.76088 0.03912912\n",
       "   [2] chr2-161843928-16184..   1.72215 0.04252075\n",
       "   [3] chr2-161844720-16184..   1.66394 0.04806240\n",
       "   [4] chr2-161905229-16190..   1.70350 0.04423740\n",
       "   [5] chr2-162073202-16207..   1.80954 0.03518346\n",
       "   [6] chr2-162091286-16209..   2.55691 0.00528030\n",
       "   [7] chr2-162172598-16217..   1.80605 0.03545499\n",
       "   [8] chr2-162212356-16221..   1.86269 0.03125284\n",
       "   [9] chr2-162337175-16233..   1.87674 0.03027719\n",
       "  [10] chr2-162478599-16247..  -2.59335 0.00475234\n",
       "  [11] chr2-162574506-16257..  -2.29045 0.01099762\n",
       "  -------\n",
       "  seqinfo: 24 sequences from an unspecified genome; no seqlengths"
      ]
     },
     "metadata": {},
     "output_type": "display_data"
    }
   ],
   "source": [
    "Links(alpha.sample)[Links(alpha.sample)$gene == \"GCG\"]"
   ]
  },
  {
   "cell_type": "code",
   "execution_count": 43,
   "id": "2c1a1762-ce75-4e7c-bb12-f91f6d2d3e88",
   "metadata": {
    "execution": {
     "iopub.execute_input": "2021-11-30T17:38:39.252463Z",
     "iopub.status.busy": "2021-11-30T17:38:39.250784Z",
     "iopub.status.idle": "2021-11-30T17:38:39.298267Z",
     "shell.execute_reply": "2021-11-30T17:38:39.296462Z"
    }
   },
   "outputs": [
    {
     "data": {
      "text/plain": [
       "GRanges object with 12 ranges and 5 metadata columns:\n",
       "       seqnames              ranges strand |     score        gene\n",
       "          <Rle>           <IRanges>  <Rle> | <numeric> <character>\n",
       "   [1]     chr2     1870122-2331260      * | 0.1354614       MYT1L\n",
       "   [2]     chr2     2331260-2464490      * | 0.2586783       MYT1L\n",
       "   [3]     chr2     2331260-2527217      * | 0.2267298       MYT1L\n",
       "   [4]     chr2     2331260-2665380      * | 0.2216228       MYT1L\n",
       "   [5]     chr2 208265922-208359714      * | 0.0997752       PTH2R\n",
       "   ...      ...                 ...    ... .       ...         ...\n",
       "   [8]     chr8     6656487-6708357      * |  0.245892      AGPAT5\n",
       "   [9]     chr8     6708357-6800857      * |  0.106496      AGPAT5\n",
       "  [10]     chr8   31639386-31795164      * |  0.149081        NRG1\n",
       "  [11]     chr8   31639386-31810962      * |  0.118424        NRG1\n",
       "  [12]    chr11     2161341-2211401      * | -0.116206         INS\n",
       "                         peak    zscore      pvalue\n",
       "                  <character> <numeric>   <numeric>\n",
       "   [1]   chr2-1869786-1870458   1.69321 0.045207962\n",
       "   [2]   chr2-2463941-2465039   3.14294 0.000836289\n",
       "   [3]   chr2-2526923-2527511   2.80952 0.002480778\n",
       "   [4]   chr2-2665138-2665621   2.63516 0.004204892\n",
       "   [5] chr2-208265033-20826..   1.71832 0.042869499\n",
       "   ...                    ...       ...         ...\n",
       "   [8]   chr8-6656144-6656829   3.48599 0.000245155\n",
       "   [9]   chr8-6800113-6801601   1.70783 0.043834404\n",
       "  [10] chr8-31794746-31795581   2.40093 0.008176678\n",
       "  [11] chr8-31810626-31811298   1.78946 0.036770297\n",
       "  [12]  chr11-2211023-2211778  -1.71831 0.042869914\n",
       "  -------\n",
       "  seqinfo: 3 sequences from an unspecified genome; no seqlengths"
      ]
     },
     "metadata": {},
     "output_type": "display_data"
    }
   ],
   "source": [
    "Links(delta.sample)"
   ]
  },
  {
   "cell_type": "code",
   "execution_count": 44,
   "id": "69b0393e-e61a-4335-9936-e7a4c9e42197",
   "metadata": {
    "execution": {
     "iopub.execute_input": "2021-11-30T17:38:48.277305Z",
     "iopub.status.busy": "2021-11-30T17:38:48.275632Z",
     "iopub.status.idle": "2021-11-30T17:38:52.518005Z",
     "shell.execute_reply": "2021-11-30T17:38:52.516172Z"
    },
    "tags": []
   },
   "outputs": [
    {
     "data": {
      "image/png": "[encoded data removed]",
      "text/plain": [
       "plot without title"
      ]
     },
     "metadata": {
      "image/png": {
       "height": 420,
       "width": 420
      }
     },
     "output_type": "display_data"
    }
   ],
   "source": [
    "p1 <- CoveragePlot(\n",
    "  object = delta.sample,\n",
    "  region = \"INS\",\n",
    "  features = \"INS\",\n",
    "  expression.assay = \"SCT\",\n",
    "  extend.upstream = 500,\n",
    "  extend.downstream = 100000,\n",
    "  links = TRUE\n",
    ")\n",
    "p1"
   ]
  },
  {
   "cell_type": "markdown",
   "id": "f7819a91-a626-456c-9257-38373eacef1b",
   "metadata": {
    "tags": []
   },
   "source": [
    "## Part 2\n",
    "Description"
   ]
  },
  {
   "cell_type": "code",
   "execution_count": 103,
   "id": "9c58c4f2-8da7-402c-9bda-d5839bf82be5",
   "metadata": {
    "execution": {
     "iopub.execute_input": "2021-12-01T00:57:57.243187Z",
     "iopub.status.busy": "2021-12-01T00:57:57.241617Z",
     "iopub.status.idle": "2021-12-01T00:57:57.279111Z",
     "shell.execute_reply": "2021-12-01T00:57:57.277287Z"
    }
   },
   "outputs": [],
   "source": [
    "plan(\"multiprocess\", workers = 4)\n",
    "options(future.globals.maxSize = 50000 * 1024^2) # for 50 Gb RAM"
   ]
  },
  {
   "cell_type": "code",
   "execution_count": 101,
   "id": "a3e853bb-fa7e-41a1-b06d-f82c0db421a2",
   "metadata": {
    "execution": {
     "iopub.execute_input": "2021-12-01T00:57:11.184589Z",
     "iopub.status.busy": "2021-12-01T00:57:11.183037Z",
     "iopub.status.idle": "2021-12-01T00:57:11.342209Z",
     "shell.execute_reply": "2021-12-01T00:57:11.339861Z"
    }
   },
   "outputs": [
    {
     "data": {
      "text/plain": [
       "An object of class Seurat \n",
       "313174 features across 3072 samples within 5 assays \n",
       "Active assay: peaks (123857 features, 123857 variable features)\n",
       " 4 other assays present: RNA, ATAC, SCT, GA\n",
       " 5 dimensional reductions calculated: pca, umap.rna, lsi, umap.atac, umap.wnn"
      ]
     },
     "metadata": {},
     "output_type": "display_data"
    }
   ],
   "source": [
    "R207.alpha.sample"
   ]
  },
  {
   "cell_type": "code",
   "execution_count": 102,
   "id": "08b7e7a1-cbf0-46ef-8c04-1d12ccdd9131",
   "metadata": {
    "execution": {
     "iopub.execute_input": "2021-12-01T00:57:18.183560Z",
     "iopub.status.busy": "2021-12-01T00:57:18.182020Z",
     "iopub.status.idle": "2021-12-01T00:57:18.255742Z",
     "shell.execute_reply": "2021-12-01T00:57:18.253631Z"
    }
   },
   "outputs": [
    {
     "data": {
      "text/plain": [
       "An object of class Seurat \n",
       "309606 features across 2339 samples within 5 assays \n",
       "Active assay: peaks (118729 features, 118729 variable features)\n",
       " 4 other assays present: RNA, ATAC, SCT, GA\n",
       " 5 dimensional reductions calculated: pca, umap.rna, lsi, umap.atac, umap.wnn"
      ]
     },
     "metadata": {},
     "output_type": "display_data"
    }
   ],
   "source": [
    "R221.alpha.sample"
   ]
  },
  {
   "cell_type": "code",
   "execution_count": 104,
   "id": "c8ae825c-7c0a-471c-adbd-9fe753b53b5e",
   "metadata": {
    "execution": {
     "iopub.execute_input": "2021-12-01T00:58:40.474393Z",
     "iopub.status.busy": "2021-12-01T00:58:40.472850Z",
     "iopub.status.idle": "2021-12-01T00:58:40.630933Z",
     "shell.execute_reply": "2021-12-01T00:58:40.629042Z"
    }
   },
   "outputs": [],
   "source": [
    "combined.peaks <- reduce(x = c(Links(R221.alpha.sample), Links(R207.alpha.sample)))"
   ]
  },
  {
   "cell_type": "code",
   "execution_count": 106,
   "id": "24fb7c09-c2c0-45fa-bf6c-ffddb8de0beb",
   "metadata": {
    "execution": {
     "iopub.execute_input": "2021-12-01T00:58:56.373092Z",
     "iopub.status.busy": "2021-12-01T00:58:56.371551Z",
     "iopub.status.idle": "2021-12-01T00:58:56.417036Z",
     "shell.execute_reply": "2021-12-01T00:58:56.414598Z"
    }
   },
   "outputs": [
    {
     "data": {
      "text/plain": [
       "GRanges object with 3323 ranges and 5 metadata columns:\n",
       "         seqnames              ranges strand |     score        gene\n",
       "            <Rle>           <IRanges>  <Rle> | <numeric> <character>\n",
       "     [1]     chr1     7667731-8026308      * | 0.0618845      ERRFI1\n",
       "     [2]     chr1     7704594-8026308      * | 0.0771200      ERRFI1\n",
       "     [3]     chr1     8012459-8026308      * | 0.0679098      ERRFI1\n",
       "     [4]     chr1     8026308-8077292      * | 0.0535172      ERRFI1\n",
       "     [5]     chr1     8026308-8162041      * | 0.0704260      ERRFI1\n",
       "     ...      ...                 ...    ... .       ...         ...\n",
       "  [3319]     chrX 150092718-150361422      * | 0.0777255      MAMLD1\n",
       "  [3320]     chrX 150361422-150361638      * | 0.1113173      MAMLD1\n",
       "  [3321]     chrX 150361422-150681083      * | 0.0754411      MAMLD1\n",
       "  [3322]     chrY   14522638-14834549      * | 0.1571174      NLGN4Y\n",
       "  [3323]     chrY   19077416-19232609      * | 0.0505998      TTTY14\n",
       "                           peak    zscore     pvalue\n",
       "                    <character> <numeric>  <numeric>\n",
       "     [1]   chr1-7667543-7667918   2.03180 0.02108695\n",
       "     [2]   chr1-7703399-7705788   2.06090 0.01965642\n",
       "     [3]   chr1-8012303-8012614   2.32151 0.01012954\n",
       "     [4]   chr1-8077023-8077560   1.75851 0.03932996\n",
       "     [5]   chr1-8161550-8162531   2.38540 0.00853031\n",
       "     ...                    ...       ...        ...\n",
       "  [3319] chrX-150092578-15009..   1.83174  0.0334950\n",
       "  [3320] chrX-150361081-15036..   1.65100  0.0493690\n",
       "  [3321] chrX-150680915-15068..   1.74346  0.0406269\n",
       "  [3322] chrY-14834027-14835071   1.66032  0.0484251\n",
       "  [3323] chrY-19232309-19232909   1.74615  0.0403927\n",
       "  -------\n",
       "  seqinfo: 24 sequences from an unspecified genome; no seqlengths"
      ]
     },
     "metadata": {},
     "output_type": "display_data"
    }
   ],
   "source": [
    "Links(R221.alpha.sample)"
   ]
  },
  {
   "cell_type": "code",
   "execution_count": 109,
   "id": "d7a6cd39-da8c-45fa-8760-c91f99c4fd7f",
   "metadata": {
    "execution": {
     "iopub.execute_input": "2021-12-01T00:59:48.329509Z",
     "iopub.status.busy": "2021-12-01T00:59:48.327924Z",
     "iopub.status.idle": "2021-12-01T00:59:48.343225Z",
     "shell.execute_reply": "2021-12-01T00:59:48.341547Z"
    }
   },
   "outputs": [],
   "source": [
    "peakwidths <- width(combined.peaks)"
   ]
  },
  {
   "cell_type": "code",
   "execution_count": 110,
   "id": "f5ea6a25-dead-48f4-b827-5c6ae52f73e0",
   "metadata": {
    "execution": {
     "iopub.execute_input": "2021-12-01T00:59:49.217963Z",
     "iopub.status.busy": "2021-12-01T00:59:49.216392Z",
     "iopub.status.idle": "2021-12-01T00:59:49.257691Z",
     "shell.execute_reply": "2021-12-01T00:59:49.256012Z"
    },
    "tags": []
   },
   "outputs": [
    {
     "data": {
      "text/plain": [
       "GRanges object with 26 ranges and 0 metadata columns:\n",
       "       seqnames              ranges strand\n",
       "          <Rle>           <IRanges>  <Rle>\n",
       "   [1]     chr1 226309097-226309869      *\n",
       "   [2]     chr1 231626815-231627287      *\n",
       "   [3]     chr2   55693391-55694975      *\n",
       "   [4]     chr4   16898596-16898809      *\n",
       "   [5]     chr4   20253260-20254367      *\n",
       "   ...      ...                 ...    ...\n",
       "  [22]    chr15   76059639-76059837      *\n",
       "  [23]    chr15   83654086-83654111      *\n",
       "  [24]    chr18     4455155-4455335      *\n",
       "  [25]    chr18   12093853-12102198      *\n",
       "  [26]     chrX   86148458-86148584      *\n",
       "  -------\n",
       "  seqinfo: 24 sequences from an unspecified genome; no seqlengths"
      ]
     },
     "metadata": {},
     "output_type": "display_data"
    }
   ],
   "source": [
    "combined.peaks <- combined.peaks[peakwidths  < 10000 & peakwidths > 20]\n",
    "combined.peaks"
   ]
  },
  {
   "cell_type": "markdown",
   "id": "6fa6f291-6e4c-4452-932b-92dc3e4d67ea",
   "metadata": {
    "tags": []
   },
   "source": [
    "# Load in cell type data \n",
    "Description"
   ]
  },
  {
   "cell_type": "code",
   "execution_count": 23,
   "id": "06560974-4da0-4499-9f3a-a28e559c6704",
   "metadata": {
    "execution": {
     "iopub.execute_input": "2021-12-05T19:49:37.258031Z",
     "iopub.status.busy": "2021-12-05T19:49:37.256167Z",
     "iopub.status.idle": "2021-12-05T19:50:08.616626Z",
     "shell.execute_reply": "2021-12-05T19:50:08.614349Z"
    },
    "tags": []
   },
   "outputs": [
    {
     "name": "stdout",
     "output_type": "stream",
     "text": [
      "[1] \"Loading from indv_sample_networks/R221.indv.linked.rds\"\n"
     ]
    }
   ],
   "source": [
    "sample <- \"R221\"\n",
    "wd <- sprintf(sample)  # Working directory\n",
    "print(sprintf(\"Loading from %s\", file.path(\"indv_sample_networks\", sprintf(\"%s.indv.linked.rds\", sample)), sample))\n",
    "adata <- readRDS(file = file.path(\"indv_sample_networks\", sprintf(\"%s.indv.linked.rds\", sample)))"
   ]
  },
  {
   "cell_type": "code",
   "execution_count": 24,
   "id": "4ce3101e-06a7-419f-a81f-cd99f4d8b3a4",
   "metadata": {
    "execution": {
     "iopub.execute_input": "2021-12-05T19:50:11.701442Z",
     "iopub.status.busy": "2021-12-05T19:50:11.699739Z",
     "iopub.status.idle": "2021-12-05T19:50:11.746146Z",
     "shell.execute_reply": "2021-12-05T19:50:11.744218Z"
    },
    "tags": []
   },
   "outputs": [
    {
     "data": {
      "text/plain": [
       "GRanges object with 3 ranges and 1 metadata column:\n",
       "      seqnames              ranges strand |         peak_called_in\n",
       "         <Rle>           <IRanges>  <Rle> |            <character>\n",
       "  [1]     chr1 179081268-179083035      * | alpha,beta,acinar,du..\n",
       "  [2]     chr1 179087601-179087997      * |             beta,alpha\n",
       "  [3]     chr3 179082472-179082769      * |     delta,ductal,gamma\n",
       "  -------\n",
       "  seqinfo: 24 sequences from an unspecified genome; no seqlengths"
      ]
     },
     "metadata": {},
     "output_type": "display_data"
    }
   ],
   "source": [
    "granges(adata)[(start(granges(adata)) >= 179081268) & (end(granges(adata)) <= 179087997), ]"
   ]
  },
  {
   "cell_type": "code",
   "execution_count": 26,
   "id": "38146529-567d-440c-94f9-9a0d51ce005c",
   "metadata": {
    "execution": {
     "iopub.execute_input": "2021-12-05T19:50:55.256428Z",
     "iopub.status.busy": "2021-12-05T19:50:55.254756Z",
     "iopub.status.idle": "2021-12-05T19:50:55.295962Z",
     "shell.execute_reply": "2021-12-05T19:50:55.294017Z"
    },
    "tags": []
   },
   "outputs": [
    {
     "data": {
      "text/plain": [
       "GRanges object with 0 ranges and 5 metadata columns:\n",
       "   seqnames    ranges strand |     score        gene        peak    zscore\n",
       "      <Rle> <IRanges>  <Rle> | <numeric> <character> <character> <numeric>\n",
       "      pvalue\n",
       "   <numeric>\n",
       "  -------\n",
       "  seqinfo: 24 sequences from an unspecified genome; no seqlengths"
      ]
     },
     "metadata": {},
     "output_type": "display_data"
    }
   ],
   "source": [
    "gr <- Links(adata)\n",
    "gr[(start(gr) >= 179081268) & (end(gr) <= 179087997), ]"
   ]
  },
  {
   "cell_type": "code",
   "execution_count": 27,
   "id": "5e070f26-d412-4ecc-9af3-45cb746172c2",
   "metadata": {
    "execution": {
     "iopub.execute_input": "2021-12-05T19:51:28.653326Z",
     "iopub.status.busy": "2021-12-05T19:51:28.651630Z",
     "iopub.status.idle": "2021-12-05T19:51:28.693748Z",
     "shell.execute_reply": "2021-12-05T19:51:28.691169Z"
    },
    "tags": []
   },
   "outputs": [
    {
     "data": {
      "text/plain": [
       "GRanges object with 2 ranges and 5 metadata columns:\n",
       "      seqnames              ranges strand |      score        gene\n",
       "         <Rle>           <IRanges>  <Rle> |  <numeric> <character>\n",
       "  [1]     chr1 179082152-179229684      * | -0.0772049        ABL2\n",
       "  [2]     chr1 179087799-179229684      * | -0.0717847        ABL2\n",
       "                        peak    zscore    pvalue\n",
       "                 <character> <numeric> <numeric>\n",
       "  [1] chr1-179081268-17908..  -1.78638 0.0370191\n",
       "  [2] chr1-179087601-17908..  -1.93936 0.0262289\n",
       "  -------\n",
       "  seqinfo: 24 sequences from an unspecified genome; no seqlengths"
      ]
     },
     "metadata": {},
     "output_type": "display_data"
    }
   ],
   "source": [
    "gr[gr$gene == \"ABL2\", ]"
   ]
  },
  {
   "cell_type": "code",
   "execution_count": 333,
   "id": "cc727f54-772c-4b01-bb4f-29e4b5972d85",
   "metadata": {
    "execution": {
     "iopub.execute_input": "2021-12-02T03:27:30.811282Z",
     "iopub.status.busy": "2021-12-02T03:27:30.809835Z",
     "iopub.status.idle": "2021-12-02T03:27:30.865611Z",
     "shell.execute_reply": "2021-12-02T03:27:30.863803Z"
    },
    "tags": []
   },
   "outputs": [
    {
     "name": "stdout",
     "output_type": "stream",
     "text": [
      "[1] \"Saving celltypes to indv_sample_networks/R207.indv.num.peaks.csv\"\n"
     ]
    }
   ],
   "source": [
    "gr.peaks <- granges(adata)\n",
    "num_peaks <- data.frame(unclass(table(gr.peaks$peak_called_in)))\n",
    "colnames(num_peaks) <- \"number_of_peaks\"\n",
    "print(sprintf(\"Saving celltypes to %s\", file.path(\"indv_sample_networks\", sprintf(\"%s.indv.num.peaks.csv\",sample))))\n",
    "write.csv(num_peaks, file.path(\"indv_sample_networks\", sprintf(\"%s.indv.num.peaks.csv\",sample)), row.names = TRUE)"
   ]
  },
  {
   "cell_type": "code",
   "execution_count": 320,
   "id": "1a371ff8-13a0-45c8-a041-d312e7a98359",
   "metadata": {
    "execution": {
     "iopub.execute_input": "2021-12-01T23:26:09.996955Z",
     "iopub.status.busy": "2021-12-01T23:26:09.995475Z",
     "iopub.status.idle": "2021-12-01T23:26:10.547978Z",
     "shell.execute_reply": "2021-12-01T23:26:10.546241Z"
    },
    "tags": []
   },
   "outputs": [],
   "source": [
    "gr.links <- Links(adata)\n",
    "linked.peaks <- gr.links$peak\n",
    "chr.start.end <- unlist(strsplit(linked.peaks, \"-\"))\n",
    "chr.start.end <- matrix(chr.start.end, length(chr.start.end)/3, 3, byrow = T)\n",
    "seqs <- chr.start.end[, 1]\n",
    "starts <- chr.start.end[, 2]\n",
    "ends <- chr.start.end[, 3]\n",
    "links.df <- data.frame(\n",
    "    chr=seqs,\n",
    "    start=starts,\n",
    "    end=ends,\n",
    "    strand=strand(gr.links),\n",
    "    peak=gr.links$peak,\n",
    "    gene=gr.links$gene,\n",
    "    score=score(gr.links),\n",
    "    zscore=gr.links$zscore,\n",
    "    pvalue=gr.links$pvalue)"
   ]
  },
  {
   "cell_type": "code",
   "execution_count": null,
   "id": "108b03e0-6413-4107-8f91-62a673073ca7",
   "metadata": {
    "tags": []
   },
   "outputs": [],
   "source": [
    "gr.peaks <- granges(adata)\n",
    "peaks.df <- data.frame(\n",
    "    peak=paste0(seqnames(gr.peaks), \"-\", start(gr.peaks), \"-\", end(gr.peaks)),\n",
    "    celltype=gr.peaks$peak_called_in)\n",
    "annnotated.links <- merge(links.df, peaks.df, by=\"peak\")"
   ]
  },
  {
   "cell_type": "code",
   "execution_count": 320,
   "id": "08d3399b-ca6d-42d4-834d-f73fcb79d147",
   "metadata": {
    "execution": {
     "iopub.execute_input": "2021-12-01T23:26:09.996955Z",
     "iopub.status.busy": "2021-12-01T23:26:09.995475Z",
     "iopub.status.idle": "2021-12-01T23:26:10.547978Z",
     "shell.execute_reply": "2021-12-01T23:26:10.546241Z"
    },
    "tags": []
   },
   "outputs": [],
   "source": [
    "write.table(annnotated.links, \n",
    "            file=file.path(\"indv_sample_networks\", sprintf(\"%s.indv.links.tsv\", sample)),\n",
    "            quote=F, sep=\"\\t\", row.names=F, col.names=T)"
   ]
  },
  {
   "cell_type": "markdown",
   "id": "7df7181c-80b6-4da3-b989-2a054751b893",
   "metadata": {},
   "source": [
    "# Prelim motif analysis"
   ]
  },
  {
   "cell_type": "markdown",
   "id": "ed7ffd88-94c2-45f2-ad87-9f255e8073ff",
   "metadata": {},
   "source": [
    "# References"
   ]
  }
 ],
 "metadata": {
  "kernelspec": {
   "display_name": "R4 Renv Development",
   "language": "R",
   "name": "renvdev"
  },
  "language_info": {
   "codemirror_mode": "r",
   "file_extension": ".r",
   "mimetype": "text/x-r-source",
   "name": "R",
   "pygments_lexer": "r",
   "version": "4.1.1"
  }
 },
 "nbformat": 4,
 "nbformat_minor": 5
}
