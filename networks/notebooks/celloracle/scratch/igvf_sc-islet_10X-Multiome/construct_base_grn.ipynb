{
 "cells": [
  {
   "attachments": {},
   "cell_type": "markdown",
   "metadata": {},
   "source": [
    "#  Create co-accessibility networks from scATAC-seq data using Cicero\n",
    "**Authorship:** Adam Klie (last updated: 08/14/2023)<br>\n",
    "***\n",
    "**Description:** This notebooks performs the base GRN construction step for CellOracle using Cicero\n",
    "***"
   ]
  },
  {
   "attachments": {},
   "cell_type": "markdown",
   "metadata": {},
   "source": [
    "# Set-up"
   ]
  },
  {
   "cell_type": "code",
   "execution_count": null,
   "metadata": {
    "vscode": {
     "languageId": "r"
    }
   },
   "outputs": [
    {
     "ename": "ERROR",
     "evalue": "Error in library(monocle3): there is no package called 'monocle3'\n",
     "output_type": "error",
     "traceback": [
      "Error in library(monocle3): there is no package called 'monocle3'\nTraceback:\n",
      "1. suppressMessages(library(monocle3))",
      "2. withCallingHandlers(expr, message = function(c) if (inherits(c, \n .     classes)) tryInvokeRestart(\"muffleMessage\"))",
      "3. library(monocle3)"
     ]
    }
   ],
   "source": [
    "# Load libraries\n",
    "suppressMessages(library(hdf5r))\n",
    "suppressMessages(library(Seurat))\n",
    "suppressMessages(library(Signac))\n",
    "suppressMessages(library(dplyr))\n",
    "suppressMessages(library(stringr))\n",
    "suppressMessages(library(cicero))\n",
    "suppressMessages(library(monocle3))\n",
    "\n",
    "# Saving params\n",
    "library(yaml)"
   ]
  },
  {
   "cell_type": "code",
   "execution_count": 28,
   "metadata": {
    "vscode": {
     "languageId": "r"
    }
   },
   "outputs": [
    {
     "data": {
      "text/html": [
       "'/cellar/users/aklie/data/igvf/beta_cell_networks/platinum/igvf_sc-islet_10X-Multiome/10Aug23/scATAC'"
      ],
      "text/latex": [
       "'/cellar/users/aklie/data/igvf/beta\\_cell\\_networks/platinum/igvf\\_sc-islet\\_10X-Multiome/10Aug23/scATAC'"
      ],
      "text/markdown": [
       "'/cellar/users/aklie/data/igvf/beta_cell_networks/platinum/igvf_sc-islet_10X-Multiome/10Aug23/scATAC'"
      ],
      "text/plain": [
       "[1] \"/cellar/users/aklie/data/igvf/beta_cell_networks/platinum/igvf_sc-islet_10X-Multiome/10Aug23/scATAC\""
      ]
     },
     "metadata": {},
     "output_type": "display_data"
    }
   ],
   "source": [
    "# General info\n",
    "dataset_name <- \"igvf_sc-islet_10X-Multiome\"\n",
    "now <- \"10Aug23\"\n",
    "analysis <- \"base_grn_construction\"\n",
    "platinum_dir <- \"/cellar/users/aklie/data/igvf/beta_cell_networks/platinum\"\n",
    "celloracle_dir <- \"/cellar/users/aklie/projects/igvf/beta_cell_networks/infer_grns/celloracle/results\"\n",
    "\n",
    "# File paths\n",
    "in_dir <- file.path(platinum_dir, dataset_name, now, \"scATAC\")\n",
    "out_dir <- file.path(celloracle_dir, dataset_name, now, analysis)\n",
    "\n",
    "# Run paramters\n",
    "binarize <- TRUE\n",
    "max_count <- 20000\n",
    "min_count <- 2000\n",
    "reduced_coords <- \"TODO: add file path\"\n",
    "chromsizes_file <- \"/cellar/shared/carterlab/genomes/hg38/hg38.chrom.sizes\"\n",
    "metacell_nn <- 30\n",
    "distance_estimate_window <- 1e6\n",
    "distance_estimate_maxit <- 100\n",
    "distance_estimate_sample_num <- 100 \n",
    "distance_estimate_distance_constraint <- 500000"
   ]
  },
  {
   "attachments": {},
   "cell_type": "markdown",
   "metadata": {},
   "source": [
    "# Make a cell_data_set CDS"
   ]
  },
  {
   "cell_type": "code",
   "execution_count": 31,
   "metadata": {
    "vscode": {
     "languageId": "r"
    }
   },
   "outputs": [
    {
     "data": {
      "text/html": [
       "<style>\n",
       ".list-inline {list-style: none; margin:0; padding: 0}\n",
       ".list-inline>li {display: inline-block}\n",
       ".list-inline>li:not(:last-child)::after {content: \"\\00b7\"; padding: 0 .5ex}\n",
       "</style>\n",
       "<ol class=list-inline><li>262611</li><li>83289</li></ol>\n"
      ],
      "text/latex": [
       "\\begin{enumerate*}\n",
       "\\item 262611\n",
       "\\item 83289\n",
       "\\end{enumerate*}\n"
      ],
      "text/markdown": [
       "1. 262611\n",
       "2. 83289\n",
       "\n",
       "\n"
      ],
      "text/plain": [
       "[1] 262611  83289"
      ]
     },
     "metadata": {},
     "output_type": "display_data"
    }
   ],
   "source": [
    "# Read in the sparseMatrix object\n",
    "indata <- readMM(file.path(in_dir, \"matrix.mtx.gz\"))\n",
    "dim(indata)"
   ]
  },
  {
   "cell_type": "code",
   "execution_count": null,
   "metadata": {
    "vscode": {
     "languageId": "r"
    }
   },
   "outputs": [],
   "source": [
    "# Binarize the matrix\n",
    "indata@x[indata@x > 0] <- 1"
   ]
  },
  {
   "cell_type": "code",
   "execution_count": 46,
   "metadata": {
    "vscode": {
     "languageId": "r"
    }
   },
   "outputs": [
    {
     "name": "stdout",
     "output_type": "stream",
     "text": [
      "[1] 83289     1\n"
     ]
    },
    {
     "data": {
      "text/html": [
       "<table class=\"dataframe\">\n",
       "<caption>A data.frame: 6 × 1</caption>\n",
       "<thead>\n",
       "\t<tr><th></th><th scope=col>cells</th></tr>\n",
       "\t<tr><th></th><th scope=col>&lt;chr&gt;</th></tr>\n",
       "</thead>\n",
       "<tbody>\n",
       "\t<tr><th scope=row>MO1_AAACAGCCAGCAATAA-1</th><td>MO1_AAACAGCCAGCAATAA-1</td></tr>\n",
       "\t<tr><th scope=row>MO1_AAACCAACAACCGCCA-1</th><td>MO1_AAACCAACAACCGCCA-1</td></tr>\n",
       "\t<tr><th scope=row>MO1_AAACCGCGTATTGTGG-1</th><td>MO1_AAACCGCGTATTGTGG-1</td></tr>\n",
       "\t<tr><th scope=row>MO1_AAACGCGCAAGCCACT-1</th><td>MO1_AAACGCGCAAGCCACT-1</td></tr>\n",
       "\t<tr><th scope=row>MO1_AAACGCGCAGTTATCG-1</th><td>MO1_AAACGCGCAGTTATCG-1</td></tr>\n",
       "\t<tr><th scope=row>MO1_AAACGTACACCAGCAT-1</th><td>MO1_AAACGTACACCAGCAT-1</td></tr>\n",
       "</tbody>\n",
       "</table>\n"
      ],
      "text/latex": [
       "A data.frame: 6 × 1\n",
       "\\begin{tabular}{r|l}\n",
       "  & cells\\\\\n",
       "  & <chr>\\\\\n",
       "\\hline\n",
       "\tMO1\\_AAACAGCCAGCAATAA-1 & MO1\\_AAACAGCCAGCAATAA-1\\\\\n",
       "\tMO1\\_AAACCAACAACCGCCA-1 & MO1\\_AAACCAACAACCGCCA-1\\\\\n",
       "\tMO1\\_AAACCGCGTATTGTGG-1 & MO1\\_AAACCGCGTATTGTGG-1\\\\\n",
       "\tMO1\\_AAACGCGCAAGCCACT-1 & MO1\\_AAACGCGCAAGCCACT-1\\\\\n",
       "\tMO1\\_AAACGCGCAGTTATCG-1 & MO1\\_AAACGCGCAGTTATCG-1\\\\\n",
       "\tMO1\\_AAACGTACACCAGCAT-1 & MO1\\_AAACGTACACCAGCAT-1\\\\\n",
       "\\end{tabular}\n"
      ],
      "text/markdown": [
       "\n",
       "A data.frame: 6 × 1\n",
       "\n",
       "| <!--/--> | cells &lt;chr&gt; |\n",
       "|---|---|\n",
       "| MO1_AAACAGCCAGCAATAA-1 | MO1_AAACAGCCAGCAATAA-1 |\n",
       "| MO1_AAACCAACAACCGCCA-1 | MO1_AAACCAACAACCGCCA-1 |\n",
       "| MO1_AAACCGCGTATTGTGG-1 | MO1_AAACCGCGTATTGTGG-1 |\n",
       "| MO1_AAACGCGCAAGCCACT-1 | MO1_AAACGCGCAAGCCACT-1 |\n",
       "| MO1_AAACGCGCAGTTATCG-1 | MO1_AAACGCGCAGTTATCG-1 |\n",
       "| MO1_AAACGTACACCAGCAT-1 | MO1_AAACGTACACCAGCAT-1 |\n",
       "\n"
      ],
      "text/plain": [
       "                       cells                 \n",
       "MO1_AAACAGCCAGCAATAA-1 MO1_AAACAGCCAGCAATAA-1\n",
       "MO1_AAACCAACAACCGCCA-1 MO1_AAACCAACAACCGCCA-1\n",
       "MO1_AAACCGCGTATTGTGG-1 MO1_AAACCGCGTATTGTGG-1\n",
       "MO1_AAACGCGCAAGCCACT-1 MO1_AAACGCGCAAGCCACT-1\n",
       "MO1_AAACGCGCAGTTATCG-1 MO1_AAACGCGCAGTTATCG-1\n",
       "MO1_AAACGTACACCAGCAT-1 MO1_AAACGTACACCAGCAT-1"
      ]
     },
     "metadata": {},
     "output_type": "display_data"
    }
   ],
   "source": [
    "# Read in the cell barcodes\n",
    "read_cells <- function(file.path) {\n",
    "    cellinfo <- read.table(file.path)\n",
    "    row.names(cellinfo) <- cellinfo$V1\n",
    "    names(cellinfo) <- \"cells\"\n",
    "}\n",
    "read_cells(file.path(in_dir, \"/barcodes.tsv.gz\"))\n",
    "print(dim(cellinfo))\n",
    "head(cellinfo)"
   ]
  },
  {
   "cell_type": "code",
   "execution_count": 47,
   "metadata": {
    "vscode": {
     "languageId": "r"
    }
   },
   "outputs": [
    {
     "name": "stdout",
     "output_type": "stream",
     "text": [
      "[1] 262611      4\n"
     ]
    },
    {
     "data": {
      "text/html": [
       "<table class=\"dataframe\">\n",
       "<caption>A data.frame: 6 × 4</caption>\n",
       "<thead>\n",
       "\t<tr><th></th><th scope=col>chr</th><th scope=col>bp1</th><th scope=col>bp2</th><th scope=col>site_name</th></tr>\n",
       "\t<tr><th></th><th scope=col>&lt;chr&gt;</th><th scope=col>&lt;chr&gt;</th><th scope=col>&lt;chr&gt;</th><th scope=col>&lt;chr&gt;</th></tr>\n",
       "</thead>\n",
       "<tbody>\n",
       "\t<tr><th scope=row>chr1_9720_10674</th><td>chr1</td><td>9720  </td><td>10674 </td><td>chr1_9720_10674   </td></tr>\n",
       "\t<tr><th scope=row>chr1_28830_29744</th><td>chr1</td><td>28830 </td><td>29744 </td><td>chr1_28830_29744  </td></tr>\n",
       "\t<tr><th scope=row>chr1_180609_181647</th><td>chr1</td><td>180609</td><td>181647</td><td>chr1_180609_181647</td></tr>\n",
       "\t<tr><th scope=row>chr1_183869_184817</th><td>chr1</td><td>183869</td><td>184817</td><td>chr1_183869_184817</td></tr>\n",
       "\t<tr><th scope=row>chr1_186252_187321</th><td>chr1</td><td>186252</td><td>187321</td><td>chr1_186252_187321</td></tr>\n",
       "\t<tr><th scope=row>chr1_191010_191989</th><td>chr1</td><td>191010</td><td>191989</td><td>chr1_191010_191989</td></tr>\n",
       "</tbody>\n",
       "</table>\n"
      ],
      "text/latex": [
       "A data.frame: 6 × 4\n",
       "\\begin{tabular}{r|llll}\n",
       "  & chr & bp1 & bp2 & site\\_name\\\\\n",
       "  & <chr> & <chr> & <chr> & <chr>\\\\\n",
       "\\hline\n",
       "\tchr1\\_9720\\_10674 & chr1 & 9720   & 10674  & chr1\\_9720\\_10674   \\\\\n",
       "\tchr1\\_28830\\_29744 & chr1 & 28830  & 29744  & chr1\\_28830\\_29744  \\\\\n",
       "\tchr1\\_180609\\_181647 & chr1 & 180609 & 181647 & chr1\\_180609\\_181647\\\\\n",
       "\tchr1\\_183869\\_184817 & chr1 & 183869 & 184817 & chr1\\_183869\\_184817\\\\\n",
       "\tchr1\\_186252\\_187321 & chr1 & 186252 & 187321 & chr1\\_186252\\_187321\\\\\n",
       "\tchr1\\_191010\\_191989 & chr1 & 191010 & 191989 & chr1\\_191010\\_191989\\\\\n",
       "\\end{tabular}\n"
      ],
      "text/markdown": [
       "\n",
       "A data.frame: 6 × 4\n",
       "\n",
       "| <!--/--> | chr &lt;chr&gt; | bp1 &lt;chr&gt; | bp2 &lt;chr&gt; | site_name &lt;chr&gt; |\n",
       "|---|---|---|---|---|\n",
       "| chr1_9720_10674 | chr1 | 9720   | 10674  | chr1_9720_10674    |\n",
       "| chr1_28830_29744 | chr1 | 28830  | 29744  | chr1_28830_29744   |\n",
       "| chr1_180609_181647 | chr1 | 180609 | 181647 | chr1_180609_181647 |\n",
       "| chr1_183869_184817 | chr1 | 183869 | 184817 | chr1_183869_184817 |\n",
       "| chr1_186252_187321 | chr1 | 186252 | 187321 | chr1_186252_187321 |\n",
       "| chr1_191010_191989 | chr1 | 191010 | 191989 | chr1_191010_191989 |\n",
       "\n"
      ],
      "text/plain": [
       "                   chr  bp1    bp2    site_name         \n",
       "chr1_9720_10674    chr1 9720   10674  chr1_9720_10674   \n",
       "chr1_28830_29744   chr1 28830  29744  chr1_28830_29744  \n",
       "chr1_180609_181647 chr1 180609 181647 chr1_180609_181647\n",
       "chr1_183869_184817 chr1 183869 184817 chr1_183869_184817\n",
       "chr1_186252_187321 chr1 186252 187321 chr1_186252_187321\n",
       "chr1_191010_191989 chr1 191010 191989 chr1_191010_191989"
      ]
     },
     "metadata": {},
     "output_type": "display_data"
    }
   ],
   "source": [
    "# Read in the peak information\n",
    "read_peaks <- function(file_path) {\n",
    "    \n",
    "    # Read in the peaks from the file_path\n",
    "    peakinfo <- read.table(file_path)\n",
    "\n",
    "    # Only keep the first column, but keep it a data frame\n",
    "    peakinfo <- peakinfo[,1, drop=FALSE]\n",
    "\n",
    "    # Split this column on \"-\"\n",
    "    peakinfo <- data.frame(do.call(\"rbind\", strsplit(as.character(peakinfo$V1), \"-\")))\n",
    "\n",
    "    # Make names for the columns\n",
    "    names(peakinfo) <- c(\"chr\", \"bp1\", \"bp2\")\n",
    "\n",
    "    # Creat site name column\n",
    "    peakinfo$site_name <- paste(peakinfo$chr, peakinfo$bp1, peakinfo$bp2, sep=\"_\")\n",
    "\n",
    "    # Make the site name the row names\n",
    "    row.names(peakinfo) <- peakinfo$site_name\n",
    "\n",
    "    # Return the peakinfo data frame\n",
    "    return(peakinfo)\n",
    "}\n",
    "peakinfo <- read_peaks(file.path(in_dir, \"features.tsv.gz\"))\n",
    "print(dim(peakinfo))\n",
    "head(peakinfo)"
   ]
  },
  {
   "cell_type": "code",
   "execution_count": 48,
   "metadata": {
    "vscode": {
     "languageId": "r"
    }
   },
   "outputs": [],
   "source": [
    "# Make the row and column names of the input data consistent with the peak and cell information\n",
    "row.names(indata) <- row.names(peakinfo)\n",
    "colnames(indata) <- row.names(cellinfo)"
   ]
  },
  {
   "cell_type": "code",
   "execution_count": 66,
   "metadata": {
    "vscode": {
     "languageId": "r"
    }
   },
   "outputs": [],
   "source": [
    "input_cds <- suppressWarnings(newCellDataSet(\n",
    "    cellData=indata,\n",
    "    methods::new('AnnotatedDataFrame', data = cellinfo),\n",
    "    featureData = methods::new('AnnotatedDataFrame', data = peakinfo),\n",
    "    expressionFamily=negbinomial.size(),\n",
    "    lowerDetectionLimit=0\n",
    "))"
   ]
  },
  {
   "cell_type": "code",
   "execution_count": 67,
   "metadata": {
    "vscode": {
     "languageId": "r"
    }
   },
   "outputs": [],
   "source": [
    "# Ensure there are no peaks included with zero reads\n",
    "input_cds <- input_cds[Matrix::rowSums(exprs(input_cds)) != 0,]"
   ]
  },
  {
   "cell_type": "code",
   "execution_count": 68,
   "metadata": {
    "vscode": {
     "languageId": "r"
    }
   },
   "outputs": [
    {
     "data": {
      "text/html": [
       "<style>\n",
       ".dl-inline {width: auto; margin:0; padding: 0}\n",
       ".dl-inline>dt, .dl-inline>dd {float: none; width: auto; display: inline-block}\n",
       ".dl-inline>dt::after {content: \":\\0020\"; padding-right: .5ex}\n",
       ".dl-inline>dt:not(:first-of-type) {padding-left: .5ex}\n",
       "</style><dl class=dl-inline><dt>MO1_AAACAGCCAGCAATAA-1</dt><dd>6163</dd><dt>MO1_AAACCAACAACCGCCA-1</dt><dd>17052</dd><dt>MO1_AAACCGCGTATTGTGG-1</dt><dd>8652</dd><dt>MO1_AAACGCGCAAGCCACT-1</dt><dd>16747</dd><dt>MO1_AAACGCGCAGTTATCG-1</dt><dd>11440</dd><dt>MO1_AAACGTACACCAGCAT-1</dt><dd>5972</dd></dl>\n"
      ],
      "text/latex": [
       "\\begin{description*}\n",
       "\\item[MO1\\textbackslash{}\\_AAACAGCCAGCAATAA-1] 6163\n",
       "\\item[MO1\\textbackslash{}\\_AAACCAACAACCGCCA-1] 17052\n",
       "\\item[MO1\\textbackslash{}\\_AAACCGCGTATTGTGG-1] 8652\n",
       "\\item[MO1\\textbackslash{}\\_AAACGCGCAAGCCACT-1] 16747\n",
       "\\item[MO1\\textbackslash{}\\_AAACGCGCAGTTATCG-1] 11440\n",
       "\\item[MO1\\textbackslash{}\\_AAACGTACACCAGCAT-1] 5972\n",
       "\\end{description*}\n"
      ],
      "text/markdown": [
       "MO1_AAACAGCCAGCAATAA-1\n",
       ":   6163MO1_AAACCAACAACCGCCA-1\n",
       ":   17052MO1_AAACCGCGTATTGTGG-1\n",
       ":   8652MO1_AAACGCGCAAGCCACT-1\n",
       ":   16747MO1_AAACGCGCAGTTATCG-1\n",
       ":   11440MO1_AAACGTACACCAGCAT-1\n",
       ":   5972\n",
       "\n"
      ],
      "text/plain": [
       "MO1_AAACAGCCAGCAATAA-1 MO1_AAACCAACAACCGCCA-1 MO1_AAACCGCGTATTGTGG-1 \n",
       "                  6163                  17052                   8652 \n",
       "MO1_AAACGCGCAAGCCACT-1 MO1_AAACGCGCAGTTATCG-1 MO1_AAACGTACACCAGCAT-1 \n",
       "                 16747                  11440                   5972 "
      ]
     },
     "metadata": {},
     "output_type": "display_data"
    }
   ],
   "source": [
    "# Get cell counts\n",
    "cell_counts <- Matrix::colSums(exprs(input_cds))\n",
    "head(cell_counts)"
   ]
  },
  {
   "cell_type": "code",
   "execution_count": 69,
   "metadata": {
    "vscode": {
     "languageId": "r"
    }
   },
   "outputs": [
    {
     "data": {
      "image/png": "[encoded data removed]",
      "text/plain": [
       "Plot with title \"Histogram of cell_counts\""
      ]
     },
     "metadata": {
      "image/png": {
       "height": 420,
       "width": 420
      }
     },
     "output_type": "display_data"
    }
   ],
   "source": [
    "# Visualize peak_count_per_cell\n",
    "hist(cell_counts)"
   ]
  },
  {
   "cell_type": "code",
   "execution_count": 70,
   "metadata": {
    "vscode": {
     "languageId": "r"
    }
   },
   "outputs": [],
   "source": [
    "# Filter cells by peak_count\n",
    "max_count <- 20000\n",
    "min_count <- 2000\n",
    "keep_cells <- (cell_counts > min_count) & (cell_counts < max_count)"
   ]
  },
  {
   "cell_type": "code",
   "execution_count": null,
   "metadata": {
    "vscode": {
     "languageId": "r"
    }
   },
   "outputs": [],
   "source": [
    "seurat_dir <- \"/cellar/users/aklie/data/igvf/beta_cell_networks/seurat/\"\n",
    "in_dir <- file.path(seurat_dir, dataset_name, now)\n",
    "rds_path <- file.path(in_dir, \"year1_year2_all.rds\")\n",
    "adata <- readRDS(rds_path)\n",
    "adata"
   ]
  },
  {
   "cell_type": "code",
   "execution_count": 71,
   "metadata": {
    "vscode": {
     "languageId": "r"
    }
   },
   "outputs": [],
   "source": [
    "umap_coords <- Embeddings(adata[['umap.wnn']])\n",
    "colnames(umap_coords) <- NULL"
   ]
  },
  {
   "cell_type": "code",
   "execution_count": 72,
   "metadata": {
    "vscode": {
     "languageId": "r"
    }
   },
   "outputs": [],
   "source": [
    "input_cds <- input_cds[, keep_cells]\n",
    "umap_coords <- umap_coords[keep_cells, ]"
   ]
  },
  {
   "cell_type": "code",
   "execution_count": 73,
   "metadata": {
    "vscode": {
     "languageId": "r"
    }
   },
   "outputs": [
    {
     "data": {
      "text/html": [
       "<style>\n",
       ".dl-inline {width: auto; margin:0; padding: 0}\n",
       ".dl-inline>dt, .dl-inline>dd {float: none; width: auto; display: inline-block}\n",
       ".dl-inline>dt::after {content: \":\\0020\"; padding-right: .5ex}\n",
       ".dl-inline>dt:not(:first-of-type) {padding-left: .5ex}\n",
       "</style><dl class=dl-inline><dt>Features</dt><dd>262611</dd><dt>Samples</dt><dd>59865</dd></dl>\n"
      ],
      "text/latex": [
       "\\begin{description*}\n",
       "\\item[Features] 262611\n",
       "\\item[Samples] 59865\n",
       "\\end{description*}\n"
      ],
      "text/markdown": [
       "Features\n",
       ":   262611Samples\n",
       ":   59865\n",
       "\n"
      ],
      "text/plain": [
       "Features  Samples \n",
       "  262611    59865 "
      ]
     },
     "metadata": {},
     "output_type": "display_data"
    }
   ],
   "source": [
    "dim(input_cds)"
   ]
  },
  {
   "cell_type": "code",
   "execution_count": 74,
   "metadata": {
    "vscode": {
     "languageId": "r"
    }
   },
   "outputs": [
    {
     "data": {
      "text/html": [
       "<style>\n",
       ".list-inline {list-style: none; margin:0; padding: 0}\n",
       ".list-inline>li {display: inline-block}\n",
       ".list-inline>li:not(:last-child)::after {content: \"\\00b7\"; padding: 0 .5ex}\n",
       "</style>\n",
       "<ol class=list-inline><li>59865</li><li>2</li></ol>\n"
      ],
      "text/latex": [
       "\\begin{enumerate*}\n",
       "\\item 59865\n",
       "\\item 2\n",
       "\\end{enumerate*}\n"
      ],
      "text/markdown": [
       "1. 59865\n",
       "2. 2\n",
       "\n",
       "\n"
      ],
      "text/plain": [
       "[1] 59865     2"
      ]
     },
     "metadata": {},
     "output_type": "display_data"
    }
   ],
   "source": [
    "dim(umap_coords)"
   ]
  },
  {
   "cell_type": "code",
   "execution_count": 75,
   "metadata": {
    "vscode": {
     "languageId": "r"
    }
   },
   "outputs": [
    {
     "name": "stderr",
     "output_type": "stream",
     "text": [
      "Overlap QC metrics:\n",
      "Cells per bin: 30\n",
      "Maximum shared cells bin-bin: 26\n",
      "Mean shared cells bin-bin: 0.014412517993953\n",
      "Median shared cells bin-bin: 0\n",
      "\n",
      "Warning message in asMethod(object):\n",
      "\"sparse->dense coercion: allocating vector of size 9.2 GiB\"\n"
     ]
    }
   ],
   "source": [
    "cicero_cds <- make_cicero_cds(input_cds, reduced_coordinates = umap_coords, k=30)"
   ]
  },
  {
   "cell_type": "code",
   "execution_count": 78,
   "metadata": {
    "vscode": {
     "languageId": "r"
    }
   },
   "outputs": [
    {
     "data": {
      "text/plain": [
       "CellDataSet (storageMode: environment)\n",
       "assayData: 262611 features, 4692 samples \n",
       "  element names: exprs \n",
       "protocolData: none\n",
       "phenoData\n",
       "  sampleNames: agg26020 agg20452 ... agg27467 (4692 total)\n",
       "  varLabels: agg_cell Size_Factor num_genes_expressed\n",
       "  varMetadata: labelDescription\n",
       "featureData\n",
       "  featureNames: chr1_9720_10674 chr1_28830_29744 ...\n",
       "    chrY_56836290_56837298 (262611 total)\n",
       "  fvarLabels: chr bp1 ... num_cells_expressed (5 total)\n",
       "  fvarMetadata: labelDescription\n",
       "experimentData: use 'experimentData(object)'\n",
       "Annotation:  "
      ]
     },
     "metadata": {},
     "output_type": "display_data"
    }
   ],
   "source": [
    "cicero_cds"
   ]
  },
  {
   "cell_type": "code",
   "execution_count": 79,
   "metadata": {
    "vscode": {
     "languageId": "r"
    }
   },
   "outputs": [],
   "source": [
    "run_cicero <- function(cicero_cds, umap_coords, celltype){\n",
    "    window <- 1e6\n",
    "    chromsizes <- \"/cellar/shared/carterlab/genomes/hg38/hg38.chrom.sizes\"\n",
    "    distance_parameters <- estimate_distance_parameter(cicero_cds, window=window, maxit=100, sample_num=100, distance_constraint=500000, genomic_coords=chromsizes)\n",
    "    mean_distance_parameter <- mean(unlist(distance_parameters))\n",
    "    cicero_out <- generate_cicero_models(cicero_cds, distance_parameter=mean_distance_parameter, window=window, genomic_coords=chromsizes)\n",
    "    conns <- assemble_connections(cicero_out, silent=FALSE)\n",
    "    return(conns)\n",
    "}"
   ]
  },
  {
   "cell_type": "code",
   "execution_count": 80,
   "metadata": {
    "vscode": {
     "languageId": "r"
    }
   },
   "outputs": [],
   "source": [
    "cicero_conns <- run_cicero(cicero_cds, umap_coords, 'global')"
   ]
  },
  {
   "cell_type": "code",
   "execution_count": null,
   "metadata": {
    "vscode": {
     "languageId": "r"
    }
   },
   "outputs": [],
   "source": [
    "cicero_conns"
   ]
  },
  {
   "cell_type": "code",
   "execution_count": null,
   "metadata": {
    "vscode": {
     "languageId": "r"
    }
   },
   "outputs": [],
   "source": [
    "out_dir <- file.path(celloracle_dir, dataset_name, now, analysis)"
   ]
  },
  {
   "cell_type": "code",
   "execution_count": null,
   "metadata": {
    "vscode": {
     "languageId": "r"
    }
   },
   "outputs": [],
   "source": [
    "# Creat directories for writing out\n",
    "dir.create(out_dir, showWarnings = TRUE, recursive = TRUE)"
   ]
  },
  {
   "cell_type": "code",
   "execution_count": null,
   "metadata": {
    "vscode": {
     "languageId": "r"
    }
   },
   "outputs": [],
   "source": [
    "write.csv(x = conns, file = file.path(output_folder, \"cicero_connections.csv\"))"
   ]
  },
  {
   "cell_type": "code",
   "execution_count": null,
   "metadata": {
    "vscode": {
     "languageId": "r"
    }
   },
   "outputs": [],
   "source": [
    "saveRDS(cicero_cds, file = file.path(output_folder, \"/cicero_connections.csv\"))"
   ]
  },
  {
   "cell_type": "code",
   "execution_count": null,
   "metadata": {
    "vscode": {
     "languageId": "r"
    }
   },
   "outputs": [],
   "source": [
    "all_peaks <- row.names(exprs(input_cds))\n",
    "write.csv(x = all_peaks, file = file.path(output_folder, \"/all_peaks.csv\"))"
   ]
  },
  {
   "attachments": {},
   "cell_type": "markdown",
   "metadata": {},
   "source": [
    "# DONE!"
   ]
  },
  {
   "attachments": {},
   "cell_type": "markdown",
   "metadata": {},
   "source": [
    "---"
   ]
  }
 ],
 "metadata": {
  "kernelspec": {
   "display_name": "R 4.3.3 scverse",
   "language": "R",
   "name": "scverse-r433"
  },
  "language_info": {
   "codemirror_mode": "r",
   "file_extension": ".r",
   "mimetype": "text/x-r-source",
   "name": "R",
   "pygments_lexer": "r",
   "version": "4.3.1"
  },
  "orig_nbformat": 4
 },
 "nbformat": 4,
 "nbformat_minor": 2
}
