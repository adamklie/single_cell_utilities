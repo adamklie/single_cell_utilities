{
 "cells": [
  {
   "attachments": {},
   "cell_type": "markdown",
   "id": "ede4c5f8",
   "metadata": {},
   "source": [
    "# Prepare scrublet inputs for single sample\n",
    "**Authorship:** Adam Klie (last updated: 10/02/2023)<br>\n",
    "***\n",
    "**Description:**\n",
    "Adapted from Mei's notebook for doing this"
   ]
  },
  {
   "attachments": {},
   "cell_type": "markdown",
   "id": "6513fb3b",
   "metadata": {},
   "source": [
    "# Set-up"
   ]
  },
  {
   "cell_type": "code",
   "execution_count": 1,
   "id": "eca6b33b",
   "metadata": {
    "vscode": {
     "languageId": "r"
    }
   },
   "outputs": [
    {
     "name": "stderr",
     "output_type": "stream",
     "text": [
      "The legacy packages maptools, rgdal, and rgeos, underpinning the sp package,\n",
      "which was just loaded, will retire in October 2023.\n",
      "Please refer to R-spatial evolution reports for details, especially\n",
      "https://r-spatial.org/r/2023/05/15/evolution4.html.\n",
      "It may be desirable to make the sf package available;\n",
      "package maintainers should consider adding sf to Suggests:.\n",
      "The sp package is now running under evolution status 2\n",
      "     (status 2 uses the sf package in place of rgdal)\n",
      "\n",
      "Attaching SeuratObject\n",
      "\n"
     ]
    }
   ],
   "source": [
    "# Load libraries\n",
    "library(Seurat)\n",
    "library(patchwork)\n",
    "library(ggplot2)\n",
    "library(ggpubr)\n",
    "library(Signac)\n",
    "library(readr)\n",
    "library(Matrix)"
   ]
  },
  {
   "cell_type": "code",
   "execution_count": 6,
   "id": "096cc21c",
   "metadata": {
    "vscode": {
     "languageId": "r"
    }
   },
   "outputs": [],
   "source": [
    "# Directory to hold everything\n",
    "in_dir <- \"/cellar/users/aklie/data/datasets/igvf_sc-islet_10X-Multiome/annotation/14Sep23\""
   ]
  },
  {
   "attachments": {},
   "cell_type": "markdown",
   "id": "85abb241",
   "metadata": {},
   "source": [
    "# Prep for scrublet"
   ]
  },
  {
   "cell_type": "code",
   "execution_count": 7,
   "id": "20ee7eea",
   "metadata": {
    "vscode": {
     "languageId": "r"
    }
   },
   "outputs": [],
   "source": [
    "# Load rds object\n",
    "dm32 <- readRDS(file.path(in_dir, \"igvf_dm32a.qc.rds\"))"
   ]
  },
  {
   "cell_type": "code",
   "execution_count": 8,
   "id": "fe22ea83",
   "metadata": {
    "vscode": {
     "languageId": "r"
    }
   },
   "outputs": [
    {
     "data": {
      "text/html": [
       "'average # ATAC reads: 12835.7607163829; average # RNA reads: 2458.51550189908; average # genes:1574.67204932472'"
      ],
      "text/latex": [
       "'average \\# ATAC reads: 12835.7607163829; average \\# RNA reads: 2458.51550189908; average \\# genes:1574.67204932472'"
      ],
      "text/markdown": [
       "'average # ATAC reads: 12835.7607163829; average # RNA reads: 2458.51550189908; average # genes:1574.67204932472'"
      ],
      "text/plain": [
       "[1] \"average # ATAC reads: 12835.7607163829; average # RNA reads: 2458.51550189908; average # genes:1574.67204932472\""
      ]
     },
     "metadata": {},
     "output_type": "display_data"
    }
   ],
   "source": [
    "# Double check\n",
    "atac_count <- mean(dm32$nCount_ATAC)\n",
    "n_genes <- mean(dm32$nFeature_RNA)\n",
    "rna_count <- mean(dm32$nCount_RNA)\n",
    "sprintf('average # ATAC reads: %s; average # RNA reads: %s; average # genes:%s', atac_count, rna_count, n_genes)"
   ]
  },
  {
   "cell_type": "code",
   "execution_count": 11,
   "id": "4c838be6",
   "metadata": {
    "vscode": {
     "languageId": "r"
    }
   },
   "outputs": [
    {
     "name": "stdout",
     "output_type": "stream",
     "text": [
      "[1] \"/cellar/users/aklie/data/datasets/igvf_sc-islet_10X-Multiome/annotation/14Sep23/igvf_dm32a.qc.mtx\"\n"
     ]
    },
    {
     "data": {
      "text/plain": [
       "NULL"
      ]
     },
     "metadata": {},
     "output_type": "display_data"
    }
   ],
   "source": [
    "# Export the matrix\n",
    "DefaultAssay(dm32) <- 'RNA'\n",
    "rna.counts <- GetAssayData(dm32, slot='counts')\n",
    "mm.fp <- file.path(in_dir, 'igvf_dm32a.qc.mtx')\n",
    "print(mm.fp)\n",
    "writeMM(rna.counts, mm.fp)"
   ]
  },
  {
   "cell_type": "code",
   "execution_count": 13,
   "id": "8cf153db",
   "metadata": {
    "vscode": {
     "languageId": "r"
    }
   },
   "outputs": [],
   "source": [
    "# also export the gene list (and barcodes just in case)\n",
    "genes.fp <- file.path(in_dir, 'igvf_dm32a.qc.genes.tsv')\n",
    "write(row.names(rna.counts), genes.fp,sep='\\n')\n",
    "barcodes.fp <- file.path(in_dir, 'igvf_dm32a.qc.barcodes.tsv')\n",
    "write(colnames(rna.counts), barcodes.fp, sep='\\n')"
   ]
  },
  {
   "attachments": {},
   "cell_type": "markdown",
   "id": "8a3ab225",
   "metadata": {
    "vscode": {
     "languageId": "r"
    }
   },
   "source": [
    "# DONE!"
   ]
  },
  {
   "attachments": {},
   "cell_type": "markdown",
   "id": "bdee76e1",
   "metadata": {},
   "source": [
    "---"
   ]
  }
 ],
 "metadata": {
  "kernelspec": {
   "display_name": "R 4.3.3 scverse",
   "language": "R",
   "name": "scverse-r433"
  },
  "language_info": {
   "codemirror_mode": "r",
   "file_extension": ".r",
   "mimetype": "text/x-r-source",
   "name": "R",
   "pygments_lexer": "r",
   "version": "4.3.1"
  }
 },
 "nbformat": 4,
 "nbformat_minor": 5
}
