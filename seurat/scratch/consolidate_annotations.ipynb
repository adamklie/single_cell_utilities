{
 "cells": [
  {
   "cell_type": "code",
   "execution_count": 3,
   "metadata": {},
   "outputs": [],
   "source": [
    "import os\n",
    "import glob\n",
    "import pandas as pd"
   ]
  },
  {
   "cell_type": "code",
   "execution_count": 10,
   "metadata": {},
   "outputs": [],
   "source": [
    "annotation_path = \"/cellar/users/aklie/data/datasets/igvf_sc-islet_10X-Multiome/annotation/21Oct23/seurat\"\n",
    "outdir_path = \"/cellar/users/aklie/data/datasets/igvf_sc-islet_10X-Multiome/annotation/13Nov23/seurat\""
   ]
  },
  {
   "cell_type": "code",
   "execution_count": 12,
   "metadata": {},
   "outputs": [],
   "source": [
    "# Make the output directory if it doesn't exist\n",
    "if not os.path.exists(outdir_path):\n",
    "    os.makedirs(outdir_path)"
   ]
  },
  {
   "cell_type": "code",
   "execution_count": 5,
   "metadata": {},
   "outputs": [
    {
     "data": {
      "text/plain": [
       "(10,\n",
       " ['/cellar/users/aklie/data/datasets/igvf_sc-islet_10X-Multiome/annotation/21Oct23/seurat/DM0B.anno.csv',\n",
       "  '/cellar/users/aklie/data/datasets/igvf_sc-islet_10X-Multiome/annotation/21Oct23/seurat/DM25A.anno.csv',\n",
       "  '/cellar/users/aklie/data/datasets/igvf_sc-islet_10X-Multiome/annotation/21Oct23/seurat/DM35A.anno.csv',\n",
       "  '/cellar/users/aklie/data/datasets/igvf_sc-islet_10X-Multiome/annotation/21Oct23/seurat/DM45A.anno.csv',\n",
       "  '/cellar/users/aklie/data/datasets/igvf_sc-islet_10X-Multiome/annotation/21Oct23/seurat/MO1.anno.csv'])"
      ]
     },
     "execution_count": 5,
     "metadata": {},
     "output_type": "execute_result"
    }
   ],
   "source": [
    "# \n",
    "paths = sorted(glob.glob(os.path.join(annotation_path, \"*.csv\")))\n",
    "len(paths), paths[:5]"
   ]
  },
  {
   "cell_type": "code",
   "execution_count": 14,
   "metadata": {},
   "outputs": [
    {
     "data": {
      "text/html": [
       "<div>\n",
       "<style scoped>\n",
       "    .dataframe tbody tr th:only-of-type {\n",
       "        vertical-align: middle;\n",
       "    }\n",
       "\n",
       "    .dataframe tbody tr th {\n",
       "        vertical-align: top;\n",
       "    }\n",
       "\n",
       "    .dataframe thead th {\n",
       "        text-align: right;\n",
       "    }\n",
       "</style>\n",
       "<table border=\"1\" class=\"dataframe\">\n",
       "  <thead>\n",
       "    <tr style=\"text-align: right;\">\n",
       "      <th></th>\n",
       "      <th>cell_id</th>\n",
       "      <th>sample</th>\n",
       "    </tr>\n",
       "  </thead>\n",
       "  <tbody>\n",
       "    <tr>\n",
       "      <th>AAACAGCCAAGGAATC-1</th>\n",
       "      <td>SC.beta</td>\n",
       "      <td>dm0b</td>\n",
       "    </tr>\n",
       "    <tr>\n",
       "      <th>AAACAGCCAATCCTGA-1</th>\n",
       "      <td>SC.alpha</td>\n",
       "      <td>dm0b</td>\n",
       "    </tr>\n",
       "    <tr>\n",
       "      <th>AAACAGCCAGTAAAGC-1</th>\n",
       "      <td>SC.alpha</td>\n",
       "      <td>dm0b</td>\n",
       "    </tr>\n",
       "    <tr>\n",
       "      <th>AAACAGCCATGAGTTT-1</th>\n",
       "      <td>SC.EC</td>\n",
       "      <td>dm0b</td>\n",
       "    </tr>\n",
       "    <tr>\n",
       "      <th>AAACAGCCATGTTGCA-1</th>\n",
       "      <td>SC.EC</td>\n",
       "      <td>dm0b</td>\n",
       "    </tr>\n",
       "  </tbody>\n",
       "</table>\n",
       "</div>"
      ],
      "text/plain": [
       "                     cell_id sample\n",
       "AAACAGCCAAGGAATC-1   SC.beta   dm0b\n",
       "AAACAGCCAATCCTGA-1  SC.alpha   dm0b\n",
       "AAACAGCCAGTAAAGC-1  SC.alpha   dm0b\n",
       "AAACAGCCATGAGTTT-1     SC.EC   dm0b\n",
       "AAACAGCCATGTTGCA-1     SC.EC   dm0b"
      ]
     },
     "execution_count": 14,
     "metadata": {},
     "output_type": "execute_result"
    }
   ],
   "source": [
    "# For each path, read the csv and add a column with the sample name\n",
    "dfs = []\n",
    "for path in paths:\n",
    "    df = pd.read_csv(path, index_col=0)\n",
    "    df.columns = [\"cell_id\"]\n",
    "    df[\"sample\"] = os.path.basename(path).split(\".\")[0].lower()\n",
    "    dfs.append(df)\n",
    "df = pd.concat(dfs)\n",
    "df.head()"
   ]
  },
  {
   "cell_type": "code",
   "execution_count": 15,
   "metadata": {},
   "outputs": [],
   "source": [
    "# Make the index the sample name + \"#\" + the current index\n",
    "df.index = df[\"sample\"] + \"#\" + df.index.astype(str)"
   ]
  },
  {
   "cell_type": "code",
   "execution_count": 16,
   "metadata": {},
   "outputs": [],
   "source": [
    "df.to_csv(os.path.join(outdir_path, \"control_cellid_annotations.csv\"))"
   ]
  },
  {
   "attachments": {},
   "cell_type": "markdown",
   "metadata": {},
   "source": [
    "# DONE!"
   ]
  },
  {
   "attachments": {},
   "cell_type": "markdown",
   "metadata": {},
   "source": [
    "---"
   ]
  }
 ],
 "metadata": {
  "kernelspec": {
   "display_name": "Python 3.7 get_data",
   "language": "python",
   "name": "get_data"
  },
  "language_info": {
   "codemirror_mode": {
    "name": "ipython",
    "version": 3
   },
   "file_extension": ".py",
   "mimetype": "text/x-python",
   "name": "python",
   "nbconvert_exporter": "python",
   "pygments_lexer": "ipython3",
   "version": "3.7.12"
  },
  "orig_nbformat": 4
 },
 "nbformat": 4,
 "nbformat_minor": 2
}
