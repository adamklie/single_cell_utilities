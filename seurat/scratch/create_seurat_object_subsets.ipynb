{
 "cells": [
  {
   "attachments": {},
   "cell_type": "markdown",
   "metadata": {},
   "source": [
    "# Create subsets of a Seurat object\n",
    "**Authorship:** Adam Klie (last updated: 10/04/2023)<br>\n",
    "***\n",
    "**Description:**\n",
    "Adapted from Mei's notebook for doing this"
   ]
  },
  {
   "cell_type": "code",
   "execution_count": 17,
   "metadata": {},
   "outputs": [],
   "source": [
    "suppressMessages(library(Seurat))\n",
    "suppressMessages(library(Signac))\n",
    "source(here::here(\"/cellar/users/aklie/opt/igvf-ucsd/single_cell_utilities/data_wrangling\", 'io.R'))"
   ]
  },
  {
   "cell_type": "code",
   "execution_count": 21,
   "metadata": {},
   "outputs": [],
   "source": [
    "seurat_dir <- \"/cellar/users/aklie/data/datasets/igvf_sc-islet_10X-Multiome/annotation/25Aug23/seurat\"\n",
    "seurat_file <- file.path(seurat_dir, \"25Aug23_new_mpeak_all.cells.rds\")"
   ]
  },
  {
   "cell_type": "code",
   "execution_count": 22,
   "metadata": {},
   "outputs": [
    {
     "data": {
      "text/plain": [
       "An object of class Seurat \n",
       "598905 features across 83289 samples within 4 assays \n",
       "Active assay: mpeak (262611 features, 0 variable features)\n",
       " 3 other assays present: RNA, SCT, mpeak_27Aug23\n",
       " 6 dimensional reductions calculated: pca, harmony, lsi, atac.harmony, umap.wnn, sct.harmony"
      ]
     },
     "metadata": {},
     "output_type": "display_data"
    }
   ],
   "source": [
    "adata <- readRDS(seurat_file)\n",
    "adata"
   ]
  },
  {
   "attachments": {},
   "cell_type": "markdown",
   "metadata": {},
   "source": [
    "# DM041_control\n",
    "DM0B, DM25A, DM35A, DM45A"
   ]
  },
  {
   "attachments": {},
   "cell_type": "markdown",
   "metadata": {},
   "source": [
    "## Seurat object"
   ]
  },
  {
   "cell_type": "code",
   "execution_count": 23,
   "metadata": {},
   "outputs": [],
   "source": [
    "# Subset the Seurat object to include only the cells that have \"sample\" in DM0B, DM25A, DM35A, DM45A\n",
    "adata_dm041_control <- subset(adata, subset = sample %in% c(\"DM0B\", \"DM25A\", \"DM35A\", \"DM45A\"))"
   ]
  },
  {
   "cell_type": "code",
   "execution_count": 24,
   "metadata": {},
   "outputs": [
    {
     "data": {
      "text/plain": [
       "\n",
       " DM0B DM25A DM35A DM45A \n",
       " 4000  5182  3156  3254 "
      ]
     },
     "metadata": {},
     "output_type": "display_data"
    }
   ],
   "source": [
    "# Double check the remaining samples\n",
    "table(adata_dm041_control$sample)"
   ]
  },
  {
   "cell_type": "code",
   "execution_count": 25,
   "metadata": {},
   "outputs": [],
   "source": [
    "# Save this subsetted Seurat object\n",
    "saveRDS(adata_dm041_control, file.path(seurat_dir, \"25Aug23_dm041_control.cells.rds\"))"
   ]
  },
  {
   "attachments": {},
   "cell_type": "markdown",
   "metadata": {},
   "source": [
    "## RNA matrix, barcodes, and features"
   ]
  },
  {
   "cell_type": "code",
   "execution_count": 26,
   "metadata": {},
   "outputs": [
    {
     "name": "stderr",
     "output_type": "stream",
     "text": [
      "  [[ suppressing 15 column names ‘DM00_AAACAGCCATGAGTTT-1’, ‘DM00_AAACAGCCATGTTGCA-1’, ‘DM00_AAACAGCCATTGTGAT-1’ ... ]]\n",
      "\n"
     ]
    },
    {
     "data": {
      "text/plain": [
       "15 x 15 sparse Matrix of class \"dgCMatrix\"\n",
       "                                         \n",
       "MIR1302-2HG . . . . . . . . . . . . . . .\n",
       "FAM138A     . . . . . . . . . . . . . . .\n",
       "OR4F5       . . . . . . . . . . . . . . .\n",
       "AL627309.1  . . . . . . . . . . . . . . .\n",
       "AL627309.3  . . . . . . . . . . . . . . .\n",
       "AL627309.2  . . . . . . . . . . . . . . .\n",
       "AL627309.5  . . . . . . . . . . . . . 0 .\n",
       "AL627309.4  . . . . . . . . . . . . . . .\n",
       "AP006222.2  . . . . . . . . . . . . . . .\n",
       "AL732372.1  . . . . . . . . . . . . . . .\n",
       "OR4F29      . . . . . . . . . . . . . . .\n",
       "AC114498.1  . . . . . . . . . . . . . . .\n",
       "OR4F16      . . . . . . . . . . . . . . .\n",
       "AL669831.2  . . . . . . . . . . . . . . .\n",
       "LINC01409   . . . . . . . . . . . . . 1 ."
      ]
     },
     "metadata": {},
     "output_type": "display_data"
    }
   ],
   "source": [
    "# Let's round the counts\n",
    "soupx_cnts <- adata_dm041_control@assays$RNA@counts\n",
    "rounded_soupx_cnts <- round(soupx_cnts)\n",
    "rounded_soupx_cnts[1:15, 1:15]"
   ]
  },
  {
   "cell_type": "code",
   "execution_count": 27,
   "metadata": {},
   "outputs": [],
   "source": [
    "# Using v3 CellRanger as an output, create the inputs for platinum\n",
    "write10xCounts(x=rounded_soupx_cnts, path=file.path(seurat_dir, \"RNA_25Aug23_dm041_control\"), version=\"3\")"
   ]
  },
  {
   "cell_type": "code",
   "execution_count": 31,
   "metadata": {},
   "outputs": [],
   "source": [
    "# Write the csv file out for the metadata\n",
    "write.csv(x=adata_dm041_control@meta.data, file=file.path(seurat_dir, \"RNA_25Aug23_dm041_control\", \"metadata.csv\"), quote=FALSE)"
   ]
  },
  {
   "attachments": {},
   "cell_type": "markdown",
   "metadata": {},
   "source": [
    "## ATAC matrix, barcodes, and features"
   ]
  },
  {
   "cell_type": "code",
   "execution_count": 32,
   "metadata": {},
   "outputs": [],
   "source": [
    "write10xCounts(x=adata_dm041_control@assays$mpeak_27Aug23@counts,  path=file.path(seurat_dir, \"ATAC_25Aug23_dm041_control\"), gene.type=\"Peaks\", version=\"3\")"
   ]
  },
  {
   "attachments": {},
   "cell_type": "markdown",
   "metadata": {},
   "source": [
    "## Fragment files"
   ]
  },
  {
   "attachments": {},
   "cell_type": "markdown",
   "metadata": {},
   "source": [
    "# DM017_control\n",
    "MO1, MO3, MO14, MO22, MO29, MO38"
   ]
  },
  {
   "cell_type": "code",
   "execution_count": 33,
   "metadata": {},
   "outputs": [],
   "source": [
    "# Subset the Seurat object to include only the cells that have \"sample\" in MO1, MO3, MO14, MO22, MO29, MO38\n",
    "adata_dm017_control <- subset(adata, subset = sample %in% c(\"MO1\", \"MO3\", \"MO14\", \"MO22\", \"MO29\", \"MO38\"))"
   ]
  },
  {
   "cell_type": "code",
   "execution_count": 34,
   "metadata": {},
   "outputs": [
    {
     "data": {
      "text/plain": [
       "\n",
       " MO1 MO14 MO22 MO29  MO3 MO38 \n",
       "1571 1198 2092  746 1163 3727 "
      ]
     },
     "metadata": {},
     "output_type": "display_data"
    }
   ],
   "source": [
    "# Double check the remaining samples\n",
    "table(adata_dm017_control$sample)"
   ]
  },
  {
   "cell_type": "code",
   "execution_count": 35,
   "metadata": {},
   "outputs": [],
   "source": [
    "# Save this subsetted Seurat object\n",
    "saveRDS(adata_dm017_control, file.path(seurat_dir, \"25Aug23_dm017_control.cells.rds\"))"
   ]
  },
  {
   "attachments": {},
   "cell_type": "markdown",
   "metadata": {},
   "source": [
    "## RNA matrix, barcodes, and features"
   ]
  },
  {
   "cell_type": "code",
   "execution_count": 36,
   "metadata": {},
   "outputs": [
    {
     "name": "stderr",
     "output_type": "stream",
     "text": [
      "  [[ suppressing 15 column names ‘MO1_AAACAGCCAGCAATAA-1’, ‘MO1_AAACCAACAACCGCCA-1’, ‘MO1_AAACCGCGTATTGTGG-1’ ... ]]\n",
      "\n"
     ]
    },
    {
     "data": {
      "text/plain": [
       "15 x 15 sparse Matrix of class \"dgCMatrix\"\n",
       "                                         \n",
       "MIR1302-2HG . . . . . . . . . . . . . . .\n",
       "FAM138A     . . . . . . . . . . . . . . .\n",
       "OR4F5       . . . . . . . . . . . . . . .\n",
       "AL627309.1  . . . . . . . . . 1 . . . . .\n",
       "AL627309.3  . . . . . . . . . . . . . . .\n",
       "AL627309.2  . . . . . . . . . . . . . . .\n",
       "AL627309.5  1 . . . . . . 1 . . . . . . .\n",
       "AL627309.4  . . . . . . . . . . . . . . .\n",
       "AP006222.2  . . . . . . . . . . . . . . .\n",
       "AL732372.1  . . . . . . . . . . . . . . .\n",
       "OR4F29      . . . . . . . . . . . . . . .\n",
       "AC114498.1  . . . . . . . . . . . . . . .\n",
       "OR4F16      . . . . . . . . . . . . . . .\n",
       "AL669831.2  . . . . . . . . . . . . . . .\n",
       "LINC01409   . . . 1 . . . . . . . . . . ."
      ]
     },
     "metadata": {},
     "output_type": "display_data"
    }
   ],
   "source": [
    "# Let's round the counts\n",
    "soupx_cnts <- adata_dm017_control@assays$RNA@counts\n",
    "rounded_soupx_cnts <- round(soupx_cnts)\n",
    "rounded_soupx_cnts[1:15, 1:15]"
   ]
  },
  {
   "cell_type": "code",
   "execution_count": 37,
   "metadata": {},
   "outputs": [],
   "source": [
    "# Using v3 CellRanger as an output, create the inputs for platinum\n",
    "write10xCounts(x=rounded_soupx_cnts, path=file.path(seurat_dir, \"RNA_25Aug23_dm017_control\"), version=\"3\")"
   ]
  },
  {
   "cell_type": "code",
   "execution_count": null,
   "metadata": {},
   "outputs": [],
   "source": [
    "# Write the csv file out for the metadata\n",
    "write.csv(x=adata_dm017_control@meta.data, file=file.path(seurat_dir, \"RNA_25Aug23_dm017_control\", \"metadata.csv\"), quote=FALSE)"
   ]
  },
  {
   "attachments": {},
   "cell_type": "markdown",
   "metadata": {},
   "source": [
    "## ATAC matrix, barcodes, and features"
   ]
  },
  {
   "cell_type": "code",
   "execution_count": null,
   "metadata": {},
   "outputs": [],
   "source": [
    "write10xCounts(x=adata_dm017_control@assays$mpeak_27Aug23@counts,  path=file.path(seurat_dir, \"ATAC_25Aug23_dm017_control\"), gene.type=\"Peaks\", version=\"3\")"
   ]
  },
  {
   "attachments": {},
   "cell_type": "markdown",
   "metadata": {},
   "source": [
    "## Fragment files"
   ]
  },
  {
   "attachments": {},
   "cell_type": "markdown",
   "metadata": {},
   "source": []
  }
 ],
 "metadata": {
  "kernelspec": {
   "display_name": "Python 3.8 scverse-lite",
   "language": "python",
   "name": "scverse-lite-py38"
  },
  "orig_nbformat": 4
 },
 "nbformat": 4,
 "nbformat_minor": 2
}
