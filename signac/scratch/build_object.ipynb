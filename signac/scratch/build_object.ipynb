{
 "cells": [
  {
   "cell_type": "code",
   "execution_count": 1,
   "metadata": {
    "vscode": {
     "languageId": "r"
    }
   },
   "outputs": [
    {
     "name": "stderr",
     "output_type": "stream",
     "text": [
      "Warning message:\n",
      "“package ‘ensembldb’ was built under R version 4.3.2”\n",
      "Warning message:\n",
      "“package ‘BiocGenerics’ was built under R version 4.3.2”\n",
      "Warning message:\n",
      "“package ‘GenomicRanges’ was built under R version 4.3.2”\n",
      "Warning message:\n",
      "“package ‘S4Vectors’ was built under R version 4.3.2”\n",
      "Warning message:\n",
      "“package ‘IRanges’ was built under R version 4.3.2”\n",
      "Warning message:\n",
      "“package ‘GenomeInfoDb’ was built under R version 4.3.2”\n",
      "Warning message:\n",
      "“package ‘GenomicFeatures’ was built under R version 4.3.2”\n",
      "Warning message:\n",
      "“package ‘AnnotationDbi’ was built under R version 4.3.2”\n",
      "Warning message:\n",
      "“package ‘Biobase’ was built under R version 4.3.2”\n",
      "Warning message:\n",
      "“package ‘AnnotationFilter’ was built under R version 4.3.2”\n",
      "Warning message:\n",
      "\"package 'BSgenome' was built under R version 4.3.2\"\n",
      "Warning message:\n",
      "\"package 'Biostrings' was built under R version 4.3.2\"\n",
      "Warning message:\n",
      "\"package 'XVector' was built under R version 4.3.2\"\n",
      "Warning message:\n",
      "\"package 'BiocIO' was built under R version 4.3.2\"\n",
      "Warning message:\n",
      "\"package 'rtracklayer' was built under R version 4.3.2\"\n"
     ]
    }
   ],
   "source": [
    "# \n",
    "suppressMessages(library(SeuratDisk))\n",
    "suppressMessages(library(SeuratData))\n",
    "suppressMessages(library(Seurat))\n",
    "suppressMessages(library(Signac))\n",
    "suppressMessages(library(EnsDb.Hsapiens.v86))\n",
    "suppressMessages(library(BSgenome.Hsapiens.UCSC.hg38))"
   ]
  },
  {
   "cell_type": "code",
   "execution_count": 2,
   "metadata": {
    "vscode": {
     "languageId": "r"
    }
   },
   "outputs": [
    {
     "name": "stderr",
     "output_type": "stream",
     "text": [
      "Warning message in .merge_two_Seqinfo_objects(x, y):\n",
      "\"The 2 combined objects have no sequence levels in common. (Use\n",
      "  suppressWarnings() to suppress this warning.)\"\n",
      "Warning message in .merge_two_Seqinfo_objects(x, y):\n",
      "\"The 2 combined objects have no sequence levels in common. (Use\n",
      "  suppressWarnings() to suppress this warning.)\"\n",
      "Warning message in .merge_two_Seqinfo_objects(x, y):\n",
      "\"The 2 combined objects have no sequence levels in common. (Use\n",
      "  suppressWarnings() to suppress this warning.)\"\n",
      "Warning message in .merge_two_Seqinfo_objects(x, y):\n",
      "\"The 2 combined objects have no sequence levels in common. (Use\n",
      "  suppressWarnings() to suppress this warning.)\"\n",
      "Warning message in .merge_two_Seqinfo_objects(x, y):\n",
      "\"The 2 combined objects have no sequence levels in common. (Use\n",
      "  suppressWarnings() to suppress this warning.)\"\n",
      "Warning message in .merge_two_Seqinfo_objects(x, y):\n",
      "\"The 2 combined objects have no sequence levels in common. (Use\n",
      "  suppressWarnings() to suppress this warning.)\"\n",
      "Warning message in .merge_two_Seqinfo_objects(x, y):\n",
      "\"The 2 combined objects have no sequence levels in common. (Use\n",
      "  suppressWarnings() to suppress this warning.)\"\n",
      "Warning message in .merge_two_Seqinfo_objects(x, y):\n",
      "\"The 2 combined objects have no sequence levels in common. (Use\n",
      "  suppressWarnings() to suppress this warning.)\"\n",
      "Warning message in .merge_two_Seqinfo_objects(x, y):\n",
      "\"The 2 combined objects have no sequence levels in common. (Use\n",
      "  suppressWarnings() to suppress this warning.)\"\n",
      "Warning message in .merge_two_Seqinfo_objects(x, y):\n",
      "\"The 2 combined objects have no sequence levels in common. (Use\n",
      "  suppressWarnings() to suppress this warning.)\"\n",
      "Warning message in .merge_two_Seqinfo_objects(x, y):\n",
      "\"The 2 combined objects have no sequence levels in common. (Use\n",
      "  suppressWarnings() to suppress this warning.)\"\n",
      "Warning message in .merge_two_Seqinfo_objects(x, y):\n",
      "\"The 2 combined objects have no sequence levels in common. (Use\n",
      "  suppressWarnings() to suppress this warning.)\"\n",
      "Warning message in .merge_two_Seqinfo_objects(x, y):\n",
      "\"The 2 combined objects have no sequence levels in common. (Use\n",
      "  suppressWarnings() to suppress this warning.)\"\n",
      "Warning message in .merge_two_Seqinfo_objects(x, y):\n",
      "\"The 2 combined objects have no sequence levels in common. (Use\n",
      "  suppressWarnings() to suppress this warning.)\"\n",
      "Warning message in .merge_two_Seqinfo_objects(x, y):\n",
      "\"The 2 combined objects have no sequence levels in common. (Use\n",
      "  suppressWarnings() to suppress this warning.)\"\n",
      "Warning message in .merge_two_Seqinfo_objects(x, y):\n",
      "\"The 2 combined objects have no sequence levels in common. (Use\n",
      "  suppressWarnings() to suppress this warning.)\"\n",
      "Warning message in .merge_two_Seqinfo_objects(x, y):\n",
      "\"The 2 combined objects have no sequence levels in common. (Use\n",
      "  suppressWarnings() to suppress this warning.)\"\n",
      "Warning message in .merge_two_Seqinfo_objects(x, y):\n",
      "\"The 2 combined objects have no sequence levels in common. (Use\n",
      "  suppressWarnings() to suppress this warning.)\"\n",
      "Warning message in .merge_two_Seqinfo_objects(x, y):\n",
      "\"The 2 combined objects have no sequence levels in common. (Use\n",
      "  suppressWarnings() to suppress this warning.)\"\n",
      "Warning message in .merge_two_Seqinfo_objects(x, y):\n",
      "\"The 2 combined objects have no sequence levels in common. (Use\n",
      "  suppressWarnings() to suppress this warning.)\"\n",
      "Warning message in .merge_two_Seqinfo_objects(x, y):\n",
      "\"The 2 combined objects have no sequence levels in common. (Use\n",
      "  suppressWarnings() to suppress this warning.)\"\n",
      "Warning message in .merge_two_Seqinfo_objects(x, y):\n",
      "\"The 2 combined objects have no sequence levels in common. (Use\n",
      "  suppressWarnings() to suppress this warning.)\"\n",
      "Warning message in .merge_two_Seqinfo_objects(x, y):\n",
      "\"The 2 combined objects have no sequence levels in common. (Use\n",
      "  suppressWarnings() to suppress this warning.)\"\n",
      "Warning message in .merge_two_Seqinfo_objects(x, y):\n",
      "\"The 2 combined objects have no sequence levels in common. (Use\n",
      "  suppressWarnings() to suppress this warning.)\"\n"
     ]
    }
   ],
   "source": [
    "# get gene annotations for hg3a8\n",
    "annotation <- GetGRangesFromEnsDb(ensdb = EnsDb.Hsapiens.v86)\n",
    "seqlevels(annotation) <- paste0('chr', seqlevels(annotation))"
   ]
  },
  {
   "cell_type": "code",
   "execution_count": 10,
   "metadata": {
    "vscode": {
     "languageId": "r"
    }
   },
   "outputs": [
    {
     "name": "stderr",
     "output_type": "stream",
     "text": [
      "Genome matrix has multiple modalities, returning a list of matrices for this genome\n",
      "\n",
      "Computing hash\n",
      "\n",
      "Warning message:\n",
      "\"Keys should be one or more alphanumeric characters followed by an underscore, setting key from peaks to peaks_\"\n",
      "Genome matrix has multiple modalities, returning a list of matrices for this genome\n",
      "\n",
      "Computing hash\n",
      "\n",
      "Warning message:\n",
      "\"Keys should be one or more alphanumeric characters followed by an underscore, setting key from peaks to peaks_\"\n",
      "Genome matrix has multiple modalities, returning a list of matrices for this genome\n",
      "\n",
      "Computing hash\n",
      "\n",
      "Warning message:\n",
      "\"Keys should be one or more alphanumeric characters followed by an underscore, setting key from peaks to peaks_\"\n"
     ]
    }
   ],
   "source": [
    "# create chromatin assays\n",
    "dm25a_counts <- Read10X_h5(\"/cellar/users/aklie/data/datasets/igvf_sc-islet_10X-Multiome/processed/2023_07_21/cellranger/igvf_dm25a_deep/outs/filtered_feature_bc_matrix.h5\")\n",
    "dm25a_assay <- CreateChromatinAssay(\n",
    "  counts = dm25a_counts$Peaks,\n",
    "  sep = c(\":\", \"-\"),\n",
    "  fragments = \"/cellar/users/aklie/data/datasets/igvf_sc-islet_10X-Multiome/processed/2023_07_21/cellranger/igvf_dm25a_deep/outs/atac_fragments.tsv.gz\",\n",
    "  annotation = annotation\n",
    ")\n",
    "dm25a <- CreateSeuratObject(dm25a_assay, assay = \"peaks\")\n",
    "dm25a$dataset <- 'dm25a'\n",
    "\n",
    "dm35a_counts <- Read10X_h5(\"/cellar/users/aklie/data/datasets/igvf_sc-islet_10X-Multiome/processed/2023_07_21/cellranger/igvf_dm35a_deep/outs/filtered_feature_bc_matrix.h5\")\n",
    "dm35a_assay <- CreateChromatinAssay(\n",
    "  counts = dm35a_counts$Peaks,\n",
    "  sep = c(\":\", \"-\"),\n",
    "  fragments = \"/cellar/users/aklie/data/datasets/igvf_sc-islet_10X-Multiome/processed/2023_07_21/cellranger/igvf_dm35a_deep/outs/atac_fragments.tsv.gz\",\n",
    "  annotation = annotation\n",
    ")\n",
    "dm35a <- CreateSeuratObject(dm35a_assay, assay = \"peaks\")\n",
    "dm35a$dataset <- 'dm35a'\n",
    "\n",
    "dm45a_counts <- Read10X_h5(\"/cellar/users/aklie/data/datasets/igvf_sc-islet_10X-Multiome/processed/2023_07_21/cellranger/igvf_dm45a_deep/outs/filtered_feature_bc_matrix.h5\")\n",
    "dm45a_assay <- CreateChromatinAssay(\n",
    "  counts = dm45a_counts$Peaks,\n",
    "  sep = c(\":\", \"-\"),\n",
    "  fragments = \"/cellar/users/aklie/data/datasets/igvf_sc-islet_10X-Multiome/processed/2023_07_21/cellranger/igvf_dm45a_deep/outs/atac_fragments.tsv.gz\",\n",
    "  annotation = annotation\n",
    ")\n",
    "dm45a <- CreateSeuratObject(dm45a_assay, assay = \"peaks\")\n",
    "dm45a$dataset <- 'dm45a'"
   ]
  },
  {
   "cell_type": "code",
   "execution_count": 31,
   "metadata": {
    "vscode": {
     "languageId": "r"
    }
   },
   "outputs": [
    {
     "name": "stderr",
     "output_type": "stream",
     "text": [
      "\n",
      "Binding matrix rows\n",
      "\n",
      "\n",
      "Binding matrix rows\n",
      "\n",
      "\n",
      "Binding matrix rows\n",
      "\n",
      "\n",
      "Binding matrix rows\n",
      "\n",
      "\n",
      "Binding matrix rows\n",
      "\n",
      "\n",
      "Binding matrix rows\n",
      "\n"
     ]
    }
   ],
   "source": [
    "# merge\n",
    "combined <- merge(\n",
    "  x = dm25a,\n",
    "  y = list(dm35a, dm45a),\n",
    "  add.cell.ids = c(\"dm25a\", \"dm35a\", \"dm45a\"),\n",
    ")"
   ]
  },
  {
   "cell_type": "code",
   "execution_count": 32,
   "metadata": {
    "vscode": {
     "languageId": "r"
    }
   },
   "outputs": [
    {
     "data": {
      "text/html": [
       "<table class=\"dataframe\">\n",
       "<caption>A data.frame: 6 × 4</caption>\n",
       "<thead>\n",
       "\t<tr><th></th><th scope=col>orig.ident</th><th scope=col>nCount_peaks</th><th scope=col>nFeature_peaks</th><th scope=col>dataset</th></tr>\n",
       "\t<tr><th></th><th scope=col>&lt;chr&gt;</th><th scope=col>&lt;dbl&gt;</th><th scope=col>&lt;int&gt;</th><th scope=col>&lt;chr&gt;</th></tr>\n",
       "</thead>\n",
       "<tbody>\n",
       "\t<tr><th scope=row>dm25a_AAACAGCCAAATGCCC-1</th><td>SeuratProject</td><td>14637</td><td>6894</td><td>dm25a</td></tr>\n",
       "\t<tr><th scope=row>dm25a_AAACAGCCAGGAACCA-1</th><td>SeuratProject</td><td>21646</td><td>9691</td><td>dm25a</td></tr>\n",
       "\t<tr><th scope=row>dm25a_AAACAGCCATTGTGCA-1</th><td>SeuratProject</td><td> 6905</td><td>3565</td><td>dm25a</td></tr>\n",
       "\t<tr><th scope=row>dm25a_AAACATGCAATTGAGA-1</th><td>SeuratProject</td><td>16026</td><td>7313</td><td>dm25a</td></tr>\n",
       "\t<tr><th scope=row>dm25a_AAACCAACACTTAGGC-1</th><td>SeuratProject</td><td> 7946</td><td>4098</td><td>dm25a</td></tr>\n",
       "\t<tr><th scope=row>dm25a_AAACCAACAGCCTTGG-1</th><td>SeuratProject</td><td>  459</td><td> 256</td><td>dm25a</td></tr>\n",
       "</tbody>\n",
       "</table>\n"
      ],
      "text/latex": [
       "A data.frame: 6 × 4\n",
       "\\begin{tabular}{r|llll}\n",
       "  & orig.ident & nCount\\_peaks & nFeature\\_peaks & dataset\\\\\n",
       "  & <chr> & <dbl> & <int> & <chr>\\\\\n",
       "\\hline\n",
       "\tdm25a\\_AAACAGCCAAATGCCC-1 & SeuratProject & 14637 & 6894 & dm25a\\\\\n",
       "\tdm25a\\_AAACAGCCAGGAACCA-1 & SeuratProject & 21646 & 9691 & dm25a\\\\\n",
       "\tdm25a\\_AAACAGCCATTGTGCA-1 & SeuratProject &  6905 & 3565 & dm25a\\\\\n",
       "\tdm25a\\_AAACATGCAATTGAGA-1 & SeuratProject & 16026 & 7313 & dm25a\\\\\n",
       "\tdm25a\\_AAACCAACACTTAGGC-1 & SeuratProject &  7946 & 4098 & dm25a\\\\\n",
       "\tdm25a\\_AAACCAACAGCCTTGG-1 & SeuratProject &   459 &  256 & dm25a\\\\\n",
       "\\end{tabular}\n"
      ],
      "text/markdown": [
       "\n",
       "A data.frame: 6 × 4\n",
       "\n",
       "| <!--/--> | orig.ident &lt;chr&gt; | nCount_peaks &lt;dbl&gt; | nFeature_peaks &lt;int&gt; | dataset &lt;chr&gt; |\n",
       "|---|---|---|---|---|\n",
       "| dm25a_AAACAGCCAAATGCCC-1 | SeuratProject | 14637 | 6894 | dm25a |\n",
       "| dm25a_AAACAGCCAGGAACCA-1 | SeuratProject | 21646 | 9691 | dm25a |\n",
       "| dm25a_AAACAGCCATTGTGCA-1 | SeuratProject |  6905 | 3565 | dm25a |\n",
       "| dm25a_AAACATGCAATTGAGA-1 | SeuratProject | 16026 | 7313 | dm25a |\n",
       "| dm25a_AAACCAACACTTAGGC-1 | SeuratProject |  7946 | 4098 | dm25a |\n",
       "| dm25a_AAACCAACAGCCTTGG-1 | SeuratProject |   459 |  256 | dm25a |\n",
       "\n"
      ],
      "text/plain": [
       "                         orig.ident    nCount_peaks nFeature_peaks dataset\n",
       "dm25a_AAACAGCCAAATGCCC-1 SeuratProject 14637        6894           dm25a  \n",
       "dm25a_AAACAGCCAGGAACCA-1 SeuratProject 21646        9691           dm25a  \n",
       "dm25a_AAACAGCCATTGTGCA-1 SeuratProject  6905        3565           dm25a  \n",
       "dm25a_AAACATGCAATTGAGA-1 SeuratProject 16026        7313           dm25a  \n",
       "dm25a_AAACCAACACTTAGGC-1 SeuratProject  7946        4098           dm25a  \n",
       "dm25a_AAACCAACAGCCTTGG-1 SeuratProject   459         256           dm25a  "
      ]
     },
     "metadata": {},
     "output_type": "display_data"
    }
   ],
   "source": [
    "head(combined@meta.data)"
   ]
  },
  {
   "cell_type": "code",
   "execution_count": 35,
   "metadata": {
    "vscode": {
     "languageId": "r"
    }
   },
   "outputs": [
    {
     "data": {
      "text/html": [
       "<style>\n",
       ".list-inline {list-style: none; margin:0; padding: 0}\n",
       ".list-inline>li {display: inline-block}\n",
       ".list-inline>li:not(:last-child)::after {content: \"\\00b7\"; padding: 0 .5ex}\n",
       "</style>\n",
       "<ol class=list-inline><li>132723</li><li>38436</li></ol>\n"
      ],
      "text/latex": [
       "\\begin{enumerate*}\n",
       "\\item 132723\n",
       "\\item 38436\n",
       "\\end{enumerate*}\n"
      ],
      "text/markdown": [
       "1. 132723\n",
       "2. 38436\n",
       "\n",
       "\n"
      ],
      "text/plain": [
       "[1] 132723  38436"
      ]
     },
     "metadata": {},
     "output_type": "display_data"
    }
   ],
   "source": [
    "dim(combined@assays$peaks@counts)"
   ]
  },
  {
   "cell_type": "code",
   "execution_count": 33,
   "metadata": {
    "vscode": {
     "languageId": "r"
    }
   },
   "outputs": [],
   "source": [
    "annotations_path <- \"/cellar/users/aklie/data/datasets/igvf_sc-islet_10X-Multiome/annotation/annotations.txt\""
   ]
  },
  {
   "cell_type": "code",
   "execution_count": 34,
   "metadata": {
    "vscode": {
     "languageId": "r"
    }
   },
   "outputs": [
    {
     "data": {
      "text/html": [
       "15030"
      ],
      "text/latex": [
       "15030"
      ],
      "text/markdown": [
       "15030"
      ],
      "text/plain": [
       "[1] 15030"
      ]
     },
     "metadata": {},
     "output_type": "display_data"
    }
   ],
   "source": [
    "# \n",
    "annotations = read.csv(annotations_path, row.names = 1, sep = \"\\t\", header = FALSE)\n",
    "rownames(annotations) = gsub(\"#\", \"_\", rownames(annotations))\n",
    "cellids = rownames(annotations)\n",
    "matched_ids = intersect(cellids, rownames(combined@meta.data))\n",
    "length(matched_ids)"
   ]
  },
  {
   "cell_type": "code",
   "execution_count": 36,
   "metadata": {
    "vscode": {
     "languageId": "r"
    }
   },
   "outputs": [],
   "source": [
    "# subset Seurat object to only matched cells\n",
    "subset <- subset(combined, cells = matched_ids)"
   ]
  },
  {
   "cell_type": "code",
   "execution_count": 37,
   "metadata": {
    "vscode": {
     "languageId": "r"
    }
   },
   "outputs": [
    {
     "data": {
      "text/plain": [
       "An object of class Seurat \n",
       "132723 features across 15030 samples within 1 assay \n",
       "Active assay: peaks (132723 features, 0 variable features)"
      ]
     },
     "metadata": {},
     "output_type": "display_data"
    }
   ],
   "source": [
    "subset"
   ]
  },
  {
   "cell_type": "code",
   "execution_count": 39,
   "metadata": {
    "vscode": {
     "languageId": "r"
    }
   },
   "outputs": [
    {
     "data": {
      "text/html": [
       "<style>\n",
       ".list-inline {list-style: none; margin:0; padding: 0}\n",
       ".list-inline>li {display: inline-block}\n",
       ".list-inline>li:not(:last-child)::after {content: \"\\00b7\"; padding: 0 .5ex}\n",
       "</style>\n",
       "<ol class=list-inline><li>'SC.EC'</li><li>'SC.alpha'</li><li>'SC.alpha'</li><li>'SC.EC'</li><li>'SC.beta'</li><li>'SC.beta'</li></ol>\n"
      ],
      "text/latex": [
       "\\begin{enumerate*}\n",
       "\\item 'SC.EC'\n",
       "\\item 'SC.alpha'\n",
       "\\item 'SC.alpha'\n",
       "\\item 'SC.EC'\n",
       "\\item 'SC.beta'\n",
       "\\item 'SC.beta'\n",
       "\\end{enumerate*}\n"
      ],
      "text/markdown": [
       "1. 'SC.EC'\n",
       "2. 'SC.alpha'\n",
       "3. 'SC.alpha'\n",
       "4. 'SC.EC'\n",
       "5. 'SC.beta'\n",
       "6. 'SC.beta'\n",
       "\n",
       "\n"
      ],
      "text/plain": [
       "[1] \"SC.EC\"    \"SC.alpha\" \"SC.alpha\" \"SC.EC\"    \"SC.beta\"  \"SC.beta\" "
      ]
     },
     "metadata": {},
     "output_type": "display_data"
    }
   ],
   "source": [
    "head(annotations[matched_ids,])"
   ]
  },
  {
   "cell_type": "code",
   "execution_count": 40,
   "metadata": {
    "vscode": {
     "languageId": "r"
    }
   },
   "outputs": [
    {
     "data": {
      "text/plain": [
       "\n",
       "endocrine_progenitor                other  proliferating_alpha \n",
       "                 103                   11                  149 \n",
       "            SC.alpha              SC.beta             SC.delta \n",
       "                4281                 4871                  168 \n",
       "               SC.EC \n",
       "                5447 "
      ]
     },
     "metadata": {},
     "output_type": "display_data"
    }
   ],
   "source": [
    "# Add annotation column to metadata\n",
    "subset$annotation <- annotations[matched_ids,]\n",
    "table(subset$annotation)"
   ]
  },
  {
   "cell_type": "code",
   "execution_count": 41,
   "metadata": {
    "vscode": {
     "languageId": "r"
    }
   },
   "outputs": [
    {
     "data": {
      "text/plain": [
       "ChromatinAssay data with 132723 features for 38436 cells\n",
       "Variable features: 0 \n",
       "Genome: \n",
       "Annotation present: TRUE \n",
       "Motifs present: FALSE \n",
       "Fragment files: 3 "
      ]
     },
     "metadata": {},
     "output_type": "display_data"
    }
   ],
   "source": [
    "combined[[\"peaks\"]]"
   ]
  },
  {
   "cell_type": "code",
   "execution_count": 42,
   "metadata": {
    "vscode": {
     "languageId": "r"
    }
   },
   "outputs": [],
   "source": [
    "# Save as RDS\n",
    "saveRDS(subset, \"/cellar/users/aklie/data/datasets/igvf_sc-islet_10X-Multiome/annotation/timecourse/A2_control/signac/signac.rds\")"
   ]
  },
  {
   "cell_type": "code",
   "execution_count": 46,
   "metadata": {
    "vscode": {
     "languageId": "r"
    }
   },
   "outputs": [
    {
     "data": {
      "text/plain": [
       "[[1]]\n",
       "A Fragment object for 10497 cells\n",
       "\n",
       "[[2]]\n",
       "A Fragment object for 15369 cells\n",
       "\n",
       "[[3]]\n",
       "A Fragment object for 12570 cells\n"
      ]
     },
     "metadata": {},
     "output_type": "display_data"
    }
   ],
   "source": [
    "frags"
   ]
  },
  {
   "cell_type": "code",
   "execution_count": 48,
   "metadata": {
    "vscode": {
     "languageId": "r"
    }
   },
   "outputs": [
    {
     "name": "stderr",
     "output_type": "stream",
     "text": [
      "Computing hash\n",
      "\n"
     ]
    },
    {
     "data": {
      "text/html": [
       "TRUE"
      ],
      "text/latex": [
       "TRUE"
      ],
      "text/markdown": [
       "TRUE"
      ],
      "text/plain": [
       "[1] TRUE"
      ]
     },
     "metadata": {},
     "output_type": "display_data"
    },
    {
     "name": "stderr",
     "output_type": "stream",
     "text": [
      "Computing hash\n",
      "\n"
     ]
    },
    {
     "data": {
      "text/html": [
       "TRUE"
      ],
      "text/latex": [
       "TRUE"
      ],
      "text/markdown": [
       "TRUE"
      ],
      "text/plain": [
       "[1] TRUE"
      ]
     },
     "metadata": {},
     "output_type": "display_data"
    },
    {
     "data": {
      "text/html": [
       "TRUE"
      ],
      "text/latex": [
       "TRUE"
      ],
      "text/markdown": [
       "TRUE"
      ],
      "text/plain": [
       "[1] TRUE"
      ]
     },
     "metadata": {},
     "output_type": "display_data"
    }
   ],
   "source": [
    "# Validating fragment files\n",
    "frags <- Fragments(combined)\n",
    "ValidateFragments(frags[[1]], verbose = TRUE)\n",
    "ValidateHash(frags[[1]], verbose = TRUE)\n",
    "ValidateCells(frags[[1]], verbose = TRUE)"
   ]
  },
  {
   "attachments": {},
   "cell_type": "markdown",
   "metadata": {},
   "source": [
    "# DONE!"
   ]
  },
  {
   "attachments": {},
   "cell_type": "markdown",
   "metadata": {},
   "source": [
    "---"
   ]
  },
  {
   "cell_type": "code",
   "execution_count": 39,
   "metadata": {
    "vscode": {
     "languageId": "r"
    }
   },
   "outputs": [
    {
     "data": {
      "text/plain": [
       "An object of class Seurat \n",
       "132723 features across 15030 samples within 1 assay \n",
       "Active assay: peaks (132723 features, 0 variable features)"
      ]
     },
     "metadata": {},
     "output_type": "display_data"
    }
   ],
   "source": [
    "adata <- readRDS(\"/cellar/users/aklie/data/datasets/igvf_sc-islet_10X-Multiome/annotation/timecourse/A2_control/signac/signac.rds\")\n",
    "adata"
   ]
  },
  {
   "cell_type": "code",
   "execution_count": 40,
   "metadata": {
    "vscode": {
     "languageId": "r"
    }
   },
   "outputs": [
    {
     "data": {
      "text/html": [
       "<table class=\"dataframe\">\n",
       "<caption>A data.frame: 6 × 5</caption>\n",
       "<thead>\n",
       "\t<tr><th></th><th scope=col>orig.ident</th><th scope=col>nCount_peaks</th><th scope=col>nFeature_peaks</th><th scope=col>dataset</th><th scope=col>annotation</th></tr>\n",
       "\t<tr><th></th><th scope=col>&lt;chr&gt;</th><th scope=col>&lt;dbl&gt;</th><th scope=col>&lt;int&gt;</th><th scope=col>&lt;chr&gt;</th><th scope=col>&lt;chr&gt;</th></tr>\n",
       "</thead>\n",
       "<tbody>\n",
       "\t<tr><th scope=row>dm45a_TTTAACCTCTGCAAGT-1</th><td>SeuratProject</td><td>19802</td><td> 9103</td><td>dm45a</td><td>SC.EC   </td></tr>\n",
       "\t<tr><th scope=row>dm45a_GAAAGGCTCATTAGGC-1</th><td>SeuratProject</td><td> 4518</td><td> 2359</td><td>dm45a</td><td>SC.alpha</td></tr>\n",
       "\t<tr><th scope=row>dm45a_ATTTGCAAGATTGAGG-1</th><td>SeuratProject</td><td> 9681</td><td> 4917</td><td>dm45a</td><td>SC.alpha</td></tr>\n",
       "\t<tr><th scope=row>dm45a_TCCAGGTCAAGTGTTT-1</th><td>SeuratProject</td><td>25220</td><td>11218</td><td>dm45a</td><td>SC.EC   </td></tr>\n",
       "\t<tr><th scope=row>dm45a_GTCCTCCCAATAAGCA-1</th><td>SeuratProject</td><td>23408</td><td>10561</td><td>dm45a</td><td>SC.beta </td></tr>\n",
       "\t<tr><th scope=row>dm45a_CACAATATCCTCAGTC-1</th><td>SeuratProject</td><td>  731</td><td>  398</td><td>dm45a</td><td>SC.beta </td></tr>\n",
       "</tbody>\n",
       "</table>\n"
      ],
      "text/latex": [
       "A data.frame: 6 × 5\n",
       "\\begin{tabular}{r|lllll}\n",
       "  & orig.ident & nCount\\_peaks & nFeature\\_peaks & dataset & annotation\\\\\n",
       "  & <chr> & <dbl> & <int> & <chr> & <chr>\\\\\n",
       "\\hline\n",
       "\tdm45a\\_TTTAACCTCTGCAAGT-1 & SeuratProject & 19802 &  9103 & dm45a & SC.EC   \\\\\n",
       "\tdm45a\\_GAAAGGCTCATTAGGC-1 & SeuratProject &  4518 &  2359 & dm45a & SC.alpha\\\\\n",
       "\tdm45a\\_ATTTGCAAGATTGAGG-1 & SeuratProject &  9681 &  4917 & dm45a & SC.alpha\\\\\n",
       "\tdm45a\\_TCCAGGTCAAGTGTTT-1 & SeuratProject & 25220 & 11218 & dm45a & SC.EC   \\\\\n",
       "\tdm45a\\_GTCCTCCCAATAAGCA-1 & SeuratProject & 23408 & 10561 & dm45a & SC.beta \\\\\n",
       "\tdm45a\\_CACAATATCCTCAGTC-1 & SeuratProject &   731 &   398 & dm45a & SC.beta \\\\\n",
       "\\end{tabular}\n"
      ],
      "text/markdown": [
       "\n",
       "A data.frame: 6 × 5\n",
       "\n",
       "| <!--/--> | orig.ident &lt;chr&gt; | nCount_peaks &lt;dbl&gt; | nFeature_peaks &lt;int&gt; | dataset &lt;chr&gt; | annotation &lt;chr&gt; |\n",
       "|---|---|---|---|---|---|\n",
       "| dm45a_TTTAACCTCTGCAAGT-1 | SeuratProject | 19802 |  9103 | dm45a | SC.EC    |\n",
       "| dm45a_GAAAGGCTCATTAGGC-1 | SeuratProject |  4518 |  2359 | dm45a | SC.alpha |\n",
       "| dm45a_ATTTGCAAGATTGAGG-1 | SeuratProject |  9681 |  4917 | dm45a | SC.alpha |\n",
       "| dm45a_TCCAGGTCAAGTGTTT-1 | SeuratProject | 25220 | 11218 | dm45a | SC.EC    |\n",
       "| dm45a_GTCCTCCCAATAAGCA-1 | SeuratProject | 23408 | 10561 | dm45a | SC.beta  |\n",
       "| dm45a_CACAATATCCTCAGTC-1 | SeuratProject |   731 |   398 | dm45a | SC.beta  |\n",
       "\n"
      ],
      "text/plain": [
       "                         orig.ident    nCount_peaks nFeature_peaks dataset\n",
       "dm45a_TTTAACCTCTGCAAGT-1 SeuratProject 19802         9103          dm45a  \n",
       "dm45a_GAAAGGCTCATTAGGC-1 SeuratProject  4518         2359          dm45a  \n",
       "dm45a_ATTTGCAAGATTGAGG-1 SeuratProject  9681         4917          dm45a  \n",
       "dm45a_TCCAGGTCAAGTGTTT-1 SeuratProject 25220        11218          dm45a  \n",
       "dm45a_GTCCTCCCAATAAGCA-1 SeuratProject 23408        10561          dm45a  \n",
       "dm45a_CACAATATCCTCAGTC-1 SeuratProject   731          398          dm45a  \n",
       "                         annotation\n",
       "dm45a_TTTAACCTCTGCAAGT-1 SC.EC     \n",
       "dm45a_GAAAGGCTCATTAGGC-1 SC.alpha  \n",
       "dm45a_ATTTGCAAGATTGAGG-1 SC.alpha  \n",
       "dm45a_TCCAGGTCAAGTGTTT-1 SC.EC     \n",
       "dm45a_GTCCTCCCAATAAGCA-1 SC.beta   \n",
       "dm45a_CACAATATCCTCAGTC-1 SC.beta   "
      ]
     },
     "metadata": {},
     "output_type": "display_data"
    }
   ],
   "source": [
    "head(adata@meta.data)"
   ]
  },
  {
   "cell_type": "code",
   "execution_count": 41,
   "metadata": {
    "vscode": {
     "languageId": "r"
    }
   },
   "outputs": [],
   "source": [
    "annotations_path = \"/cellar/users/aklie/data/datasets/igvf_sc-islet_10X-Multiome/annotation/timecourse/A2_control/A2_control_ATAC_bins_celltype.txt\""
   ]
  },
  {
   "cell_type": "code",
   "execution_count": 42,
   "metadata": {
    "vscode": {
     "languageId": "r"
    }
   },
   "outputs": [],
   "source": [
    "annotations = read.csv(annotations_path, row.names = 1, sep = \"\\t\", header = FALSE)\n",
    "annotations = as.data.frame(annotations)\n",
    "rownames(annotations) = gsub(\"#\", \"_\", rownames(annotations))\n",
    "cellids = rownames(annotations)"
   ]
  },
  {
   "cell_type": "code",
   "execution_count": 43,
   "metadata": {
    "vscode": {
     "languageId": "r"
    }
   },
   "outputs": [],
   "source": [
    "matched_ids = intersect(cellids, rownames(adata@meta.data))\n",
    "idxSample <- BiocGenerics::which(rownames(adata@meta.data) %in% matched_ids)"
   ]
  },
  {
   "cell_type": "code",
   "execution_count": 45,
   "metadata": {
    "vscode": {
     "languageId": "r"
    }
   },
   "outputs": [
    {
     "data": {
      "text/plain": [
       "\n",
       "SC.alpha  SC.beta  SC.EC.1  SC.EC.2 \n",
       "    2306     2197     1311      984 "
      ]
     },
     "metadata": {},
     "output_type": "display_data"
    }
   ],
   "source": [
    "adata <- subset(adata, cells = matched_ids)\n",
    "adata$annotation <- annotations[matched_ids,]\n",
    "table(adata$annotation)"
   ]
  },
  {
   "cell_type": "code",
   "execution_count": 46,
   "metadata": {
    "vscode": {
     "languageId": "r"
    }
   },
   "outputs": [
    {
     "data": {
      "text/html": [
       "<style>\n",
       ".list-inline {list-style: none; margin:0; padding: 0}\n",
       ".list-inline>li {display: inline-block}\n",
       ".list-inline>li:not(:last-child)::after {content: \"\\00b7\"; padding: 0 .5ex}\n",
       "</style>\n",
       "<ol class=list-inline><li>6900</li><li>1</li></ol>\n"
      ],
      "text/latex": [
       "\\begin{enumerate*}\n",
       "\\item 6900\n",
       "\\item 1\n",
       "\\end{enumerate*}\n"
      ],
      "text/markdown": [
       "1. 6900\n",
       "2. 1\n",
       "\n",
       "\n"
      ],
      "text/plain": [
       "[1] 6900    1"
      ]
     },
     "metadata": {},
     "output_type": "display_data"
    }
   ],
   "source": [
    "dim(annotations)"
   ]
  },
  {
   "cell_type": "code",
   "execution_count": 47,
   "metadata": {
    "vscode": {
     "languageId": "r"
    }
   },
   "outputs": [
    {
     "data": {
      "text/plain": [
       "An object of class Seurat \n",
       "132723 features across 6798 samples within 1 assay \n",
       "Active assay: peaks (132723 features, 0 variable features)"
      ]
     },
     "metadata": {},
     "output_type": "display_data"
    }
   ],
   "source": [
    "adata"
   ]
  },
  {
   "cell_type": "code",
   "execution_count": 50,
   "metadata": {
    "vscode": {
     "languageId": "r"
    }
   },
   "outputs": [],
   "source": [
    "# Save as RDS\n",
    "saveRDS(adata, \"/cellar/users/aklie/data/datasets/igvf_sc-islet_10X-Multiome/annotation/timecourse/A2_control/filtered_signac/signac.rds\")"
   ]
  },
  {
   "cell_type": "code",
   "execution_count": 51,
   "metadata": {
    "vscode": {
     "languageId": "r"
    }
   },
   "outputs": [
    {
     "data": {
      "text/plain": [
       "An object of class Seurat \n",
       "132723 features across 6798 samples within 1 assay \n",
       "Active assay: peaks (132723 features, 0 variable features)"
      ]
     },
     "metadata": {},
     "output_type": "display_data"
    }
   ],
   "source": [
    "readRDS(\"/cellar/users/aklie/data/datasets/igvf_sc-islet_10X-Multiome/annotation/timecourse/A2_control/filtered_signac/signac.rds\")"
   ]
  },
  {
   "cell_type": "code",
   "execution_count": 27,
   "metadata": {
    "vscode": {
     "languageId": "r"
    }
   },
   "outputs": [
    {
     "ename": "ERROR",
     "evalue": "Error in eval(expr, envir, enclos): object 'combined' not found\n",
     "output_type": "error",
     "traceback": [
      "Error in eval(expr, envir, enclos): object 'combined' not found\nTraceback:\n",
      "1. Fragments(combined)"
     ]
    }
   ],
   "source": [
    "# Validating fragment files\n",
    "frags <- Fragments(combined)\n",
    "ValidateFragments(frags[[1]], verbose = TRUE)\n",
    "ValidateHash(frags[[1]], verbose = TRUE)\n",
    "ValidateCells(frags[[1]], verbose = TRUE)"
   ]
  },
  {
   "cell_type": "code",
   "execution_count": 28,
   "metadata": {
    "vscode": {
     "languageId": "r"
    }
   },
   "outputs": [
    {
     "data": {
      "text/html": [
       "<table class=\"dataframe\">\n",
       "<caption>A data.frame: 6 × 5</caption>\n",
       "<thead>\n",
       "\t<tr><th></th><th scope=col>orig.ident</th><th scope=col>nCount_peaks</th><th scope=col>nFeature_peaks</th><th scope=col>dataset</th><th scope=col>annotation</th></tr>\n",
       "\t<tr><th></th><th scope=col>&lt;chr&gt;</th><th scope=col>&lt;dbl&gt;</th><th scope=col>&lt;int&gt;</th><th scope=col>&lt;chr&gt;</th><th scope=col>&lt;chr&gt;</th></tr>\n",
       "</thead>\n",
       "<tbody>\n",
       "\t<tr><th scope=row>dm25a_AAACAGCCATTGTGCA-1</th><td>SeuratProject</td><td> 6905</td><td> 3565</td><td>dm25a</td><td>SC.EC.1</td></tr>\n",
       "\t<tr><th scope=row>dm25a_AAACATGCAATTGAGA-1</th><td>SeuratProject</td><td>16026</td><td> 7313</td><td>dm25a</td><td>SC.EC.1</td></tr>\n",
       "\t<tr><th scope=row>dm25a_AAACCGAAGCCATCAG-1</th><td>SeuratProject</td><td>18247</td><td> 8490</td><td>dm25a</td><td>SC.EC.1</td></tr>\n",
       "\t<tr><th scope=row>dm25a_AAACCGGCAGGTTACC-1</th><td>SeuratProject</td><td>21715</td><td>10018</td><td>dm25a</td><td>SC.EC.1</td></tr>\n",
       "\t<tr><th scope=row>dm25a_AAACCGGCAGTTATCG-1</th><td>SeuratProject</td><td>17242</td><td> 7872</td><td>dm25a</td><td>SC.EC.1</td></tr>\n",
       "\t<tr><th scope=row>dm25a_AAACGCGCACAAAGAC-1</th><td>SeuratProject</td><td> 6295</td><td> 3216</td><td>dm25a</td><td>SC.EC.1</td></tr>\n",
       "</tbody>\n",
       "</table>\n"
      ],
      "text/latex": [
       "A data.frame: 6 × 5\n",
       "\\begin{tabular}{r|lllll}\n",
       "  & orig.ident & nCount\\_peaks & nFeature\\_peaks & dataset & annotation\\\\\n",
       "  & <chr> & <dbl> & <int> & <chr> & <chr>\\\\\n",
       "\\hline\n",
       "\tdm25a\\_AAACAGCCATTGTGCA-1 & SeuratProject &  6905 &  3565 & dm25a & SC.EC.1\\\\\n",
       "\tdm25a\\_AAACATGCAATTGAGA-1 & SeuratProject & 16026 &  7313 & dm25a & SC.EC.1\\\\\n",
       "\tdm25a\\_AAACCGAAGCCATCAG-1 & SeuratProject & 18247 &  8490 & dm25a & SC.EC.1\\\\\n",
       "\tdm25a\\_AAACCGGCAGGTTACC-1 & SeuratProject & 21715 & 10018 & dm25a & SC.EC.1\\\\\n",
       "\tdm25a\\_AAACCGGCAGTTATCG-1 & SeuratProject & 17242 &  7872 & dm25a & SC.EC.1\\\\\n",
       "\tdm25a\\_AAACGCGCACAAAGAC-1 & SeuratProject &  6295 &  3216 & dm25a & SC.EC.1\\\\\n",
       "\\end{tabular}\n"
      ],
      "text/markdown": [
       "\n",
       "A data.frame: 6 × 5\n",
       "\n",
       "| <!--/--> | orig.ident &lt;chr&gt; | nCount_peaks &lt;dbl&gt; | nFeature_peaks &lt;int&gt; | dataset &lt;chr&gt; | annotation &lt;chr&gt; |\n",
       "|---|---|---|---|---|---|\n",
       "| dm25a_AAACAGCCATTGTGCA-1 | SeuratProject |  6905 |  3565 | dm25a | SC.EC.1 |\n",
       "| dm25a_AAACATGCAATTGAGA-1 | SeuratProject | 16026 |  7313 | dm25a | SC.EC.1 |\n",
       "| dm25a_AAACCGAAGCCATCAG-1 | SeuratProject | 18247 |  8490 | dm25a | SC.EC.1 |\n",
       "| dm25a_AAACCGGCAGGTTACC-1 | SeuratProject | 21715 | 10018 | dm25a | SC.EC.1 |\n",
       "| dm25a_AAACCGGCAGTTATCG-1 | SeuratProject | 17242 |  7872 | dm25a | SC.EC.1 |\n",
       "| dm25a_AAACGCGCACAAAGAC-1 | SeuratProject |  6295 |  3216 | dm25a | SC.EC.1 |\n",
       "\n"
      ],
      "text/plain": [
       "                         orig.ident    nCount_peaks nFeature_peaks dataset\n",
       "dm25a_AAACAGCCATTGTGCA-1 SeuratProject  6905         3565          dm25a  \n",
       "dm25a_AAACATGCAATTGAGA-1 SeuratProject 16026         7313          dm25a  \n",
       "dm25a_AAACCGAAGCCATCAG-1 SeuratProject 18247         8490          dm25a  \n",
       "dm25a_AAACCGGCAGGTTACC-1 SeuratProject 21715        10018          dm25a  \n",
       "dm25a_AAACCGGCAGTTATCG-1 SeuratProject 17242         7872          dm25a  \n",
       "dm25a_AAACGCGCACAAAGAC-1 SeuratProject  6295         3216          dm25a  \n",
       "                         annotation\n",
       "dm25a_AAACAGCCATTGTGCA-1 SC.EC.1   \n",
       "dm25a_AAACATGCAATTGAGA-1 SC.EC.1   \n",
       "dm25a_AAACCGAAGCCATCAG-1 SC.EC.1   \n",
       "dm25a_AAACCGGCAGGTTACC-1 SC.EC.1   \n",
       "dm25a_AAACCGGCAGTTATCG-1 SC.EC.1   \n",
       "dm25a_AAACGCGCACAAAGAC-1 SC.EC.1   "
      ]
     },
     "metadata": {},
     "output_type": "display_data"
    }
   ],
   "source": [
    "head(adata@meta.data)"
   ]
  },
  {
   "cell_type": "code",
   "execution_count": 29,
   "metadata": {
    "vscode": {
     "languageId": "r"
    }
   },
   "outputs": [
    {
     "data": {
      "text/plain": [
       "GRanges object with 3021151 ranges and 5 metadata columns:\n",
       "                  seqnames        ranges strand |           tx_id   gene_name\n",
       "                     <Rle>     <IRanges>  <Rle> |     <character> <character>\n",
       "  ENSE00001489430     chrX 276322-276394      + | ENST00000399012      PLCXD1\n",
       "  ENSE00001536003     chrX 276324-276394      + | ENST00000484611      PLCXD1\n",
       "  ENSE00002160563     chrX 276353-276394      + | ENST00000430923      PLCXD1\n",
       "  ENSE00001750899     chrX 281055-281121      + | ENST00000445062      PLCXD1\n",
       "  ENSE00001489388     chrX 281192-281684      + | ENST00000381657      PLCXD1\n",
       "              ...      ...           ...    ... .             ...         ...\n",
       "  ENST00000361739    chrMT     7586-8269      + | ENST00000361739      MT-CO2\n",
       "  ENST00000361789    chrMT   14747-15887      + | ENST00000361789      MT-CYB\n",
       "  ENST00000361851    chrMT     8366-8572      + | ENST00000361851     MT-ATP8\n",
       "  ENST00000361899    chrMT     8527-9207      + | ENST00000361899     MT-ATP6\n",
       "  ENST00000362079    chrMT     9207-9990      + | ENST00000362079      MT-CO3\n",
       "                          gene_id   gene_biotype     type\n",
       "                      <character>    <character> <factor>\n",
       "  ENSE00001489430 ENSG00000182378 protein_coding     exon\n",
       "  ENSE00001536003 ENSG00000182378 protein_coding     exon\n",
       "  ENSE00002160563 ENSG00000182378 protein_coding     exon\n",
       "  ENSE00001750899 ENSG00000182378 protein_coding     exon\n",
       "  ENSE00001489388 ENSG00000182378 protein_coding     exon\n",
       "              ...             ...            ...      ...\n",
       "  ENST00000361739 ENSG00000198712 protein_coding      cds\n",
       "  ENST00000361789 ENSG00000198727 protein_coding      cds\n",
       "  ENST00000361851 ENSG00000228253 protein_coding      cds\n",
       "  ENST00000361899 ENSG00000198899 protein_coding      cds\n",
       "  ENST00000362079 ENSG00000198938 protein_coding      cds\n",
       "  -------\n",
       "  seqinfo: 25 sequences (1 circular) from GRCh38 genome"
      ]
     },
     "metadata": {},
     "output_type": "display_data"
    }
   ],
   "source": [
    "annotation"
   ]
  },
  {
   "cell_type": "code",
   "execution_count": 52,
   "metadata": {
    "vscode": {
     "languageId": "r"
    }
   },
   "outputs": [
    {
     "name": "stderr",
     "output_type": "stream",
     "text": [
      "\n",
      "Attaching package: 'Matrix'\n",
      "\n",
      "\n",
      "The following object is masked from 'package:S4Vectors':\n",
      "\n",
      "    expand\n",
      "\n",
      "\n"
     ]
    }
   ],
   "source": [
    "library(Matrix)"
   ]
  },
  {
   "cell_type": "code",
   "execution_count": 53,
   "metadata": {
    "vscode": {
     "languageId": "r"
    }
   },
   "outputs": [],
   "source": [
    "mtx = readMM(\"/cellar/users/aklie/data/datasets/igvf_sc-islet_10X-Multiome/annotation/timecourse/A2_control/filtered_archr/Matrices/PeakMatrix/mtx.mtx\")"
   ]
  },
  {
   "cell_type": "code",
   "execution_count": 54,
   "metadata": {
    "vscode": {
     "languageId": "r"
    }
   },
   "outputs": [
    {
     "data": {
      "text/html": [
       "<style>\n",
       ".list-inline {list-style: none; margin:0; padding: 0}\n",
       ".list-inline>li {display: inline-block}\n",
       ".list-inline>li:not(:last-child)::after {content: \"\\00b7\"; padding: 0 .5ex}\n",
       "</style>\n",
       "<ol class=list-inline><li>188090</li><li>5843</li></ol>\n"
      ],
      "text/latex": [
       "\\begin{enumerate*}\n",
       "\\item 188090\n",
       "\\item 5843\n",
       "\\end{enumerate*}\n"
      ],
      "text/markdown": [
       "1. 188090\n",
       "2. 5843\n",
       "\n",
       "\n"
      ],
      "text/plain": [
       "[1] 188090   5843"
      ]
     },
     "metadata": {},
     "output_type": "display_data"
    }
   ],
   "source": [
    "dim(mtx)"
   ]
  },
  {
   "cell_type": "code",
   "execution_count": null,
   "metadata": {
    "vscode": {
     "languageId": "r"
    }
   },
   "outputs": [],
   "source": []
  }
 ],
 "metadata": {
  "kernelspec": {
   "display_name": "R 4.3.3 scverse",
   "language": "R",
   "name": "scverse-r433"
  },
  "language_info": {
   "codemirror_mode": "r",
   "file_extension": ".r",
   "mimetype": "text/x-r-source",
   "name": "R",
   "pygments_lexer": "r",
   "version": "4.3.1"
  },
  "orig_nbformat": 4
 },
 "nbformat": 4,
 "nbformat_minor": 2
}
