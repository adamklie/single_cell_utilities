{
 "cells": [
  {
   "cell_type": "markdown",
   "id": "bf25077f-9651-47cb-b29d-2ec77f027679",
   "metadata": {},
   "source": [
    "# Create consensus peaks with Signac"
   ]
  },
  {
   "cell_type": "markdown",
   "id": "7594da7f-2678-42dd-ad9c-9181330c7378",
   "metadata": {},
   "source": [
    "# Set-up"
   ]
  },
  {
   "cell_type": "code",
   "execution_count": null,
   "id": "ddf4571f-0c13-4655-817e-788a6d67aa1c",
   "metadata": {},
   "outputs": [],
   "source": [
    "# Imports\n",
    "library(rtracklayer)\n",
    "library(GenomicRanges)"
   ]
  },
  {
   "cell_type": "code",
   "execution_count": null,
   "id": "cdbefcef-9b93-4b1d-bc6b-0366a92457f8",
   "metadata": {},
   "outputs": [],
   "source": [
    "# Directory with called peaks\n",
    "peaks_dir <- \"/cellar/users/aklie/data/igvf/beta_cell_networks/peaks/igvf_sc-islet_10X-Multiome/25Aug23\""
   ]
  },
  {
   "cell_type": "code",
   "execution_count": null,
   "id": "aedc278a-d97f-4fc6-8a93-d2293a529f7c",
   "metadata": {},
   "outputs": [],
   "source": [
    "# TODO: List out all the narrow peak files\n",
    "peak_files <- NULL"
   ]
  },
  {
   "cell_type": "code",
   "execution_count": null,
   "id": "68e01c3a-eed0-4aee-9145-6fbaee070d7a",
   "metadata": {},
   "outputs": [],
   "source": [
    "for (i in seq_along(along.with = unique.groups)) {\n",
    "    narrowPeakPath <- paste0(\n",
    "        outdir,\n",
    "        .Platform$file.sep,\n",
    "        unique.groups[[i]],\n",
    "        \"_peaks.narrowPeak\"\n",
    "    )\n",
    "    print(narrowPeakPath)\n",
    "    df <- read.table(\n",
    "        file = narrowPeakPath,\n",
    "        col.names = c(\n",
    "            \"chr\", \"start\", \"end\", \"name\",\n",
    "            \"score\", \"strand\", \"fold_change\",\n",
    "            \"neg_log10pvalue_summit\", \"neg_log10qvalue_summit\",\n",
    "            \"relative_summit_position\"\n",
    "        )\n",
    "    )\n",
    "    gr <- makeGRangesFromDataFrame(df = df, keep.extra.columns = TRUE, starts.in.df.are.0based = TRUE)\n",
    "    grlist[[i]] <- gr\n",
    "    if (length(x = gr) > 0) {\n",
    "        gr$ident <- unique.groups[[i]]\n",
    "        grlist[[i]] <- gr\n",
    "      } else {\n",
    "        message(\"No peaks found for \", unique.groups[[i]])\n",
    "    }\n",
    "}"
   ]
  },
  {
   "cell_type": "code",
   "execution_count": null,
   "id": "a9fd3987-0caa-4235-b2a0-1ab2f7b94939",
   "metadata": {},
   "outputs": [],
   "source": [
    "# combine peaks and reduce, maintaining ident information\n",
    "gr.combined <- Reduce(f = c, x = grlist)\n",
    "gr <- reduce(x = gr.combined, with.revmap = TRUE)\n",
    "dset.vec <- vector(mode = \"character\", length = length(x = gr))\n",
    "ident.vec <- gr.combined$ident\n",
    "revmap <- gr$revmap\n",
    "for (i in seq_len(length.out = length(x = gr))) {\n",
    "    datasets <- ident.vec[revmap[[i]]]\n",
    "    dset.vec[[i]] <- paste(unique(x = datasets), collapse = \",\")\n",
    "}\n",
    "gr$peak_called_in <- dset.vec\n",
    "gr$revmap <- NULL"
   ]
  },
  {
   "cell_type": "code",
   "execution_count": null,
   "id": "0911764c-96cb-40cd-824d-8b3a46db2c1b",
   "metadata": {},
   "outputs": [],
   "source": [
    "export.bed(gr, con=file.path(peaks_dir, \"consensus_peaks.bed\"))"
   ]
  },
  {
   "cell_type": "markdown",
   "id": "40c52b94-64df-4156-b887-051e41a9225f",
   "metadata": {},
   "source": [
    "# reload"
   ]
  },
  {
   "cell_type": "code",
   "execution_count": null,
   "id": "d7f24ce5-ec38-4f50-b85b-2348128ff09d",
   "metadata": {},
   "outputs": [],
   "source": []
  }
 ],
 "metadata": {
  "kernelspec": {
   "display_name": "Python 3 (ipykernel)",
   "language": "python",
   "name": "python3"
  },
  "language_info": {
   "codemirror_mode": {
    "name": "ipython",
    "version": 3
   },
   "file_extension": ".py",
   "mimetype": "text/x-python",
   "name": "python",
   "nbconvert_exporter": "python",
   "pygments_lexer": "ipython3",
   "version": "3.7.12"
  }
 },
 "nbformat": 4,
 "nbformat_minor": 5
}
