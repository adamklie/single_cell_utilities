{
 "cells": [
  {
   "attachments": {},
   "cell_type": "markdown",
   "metadata": {},
   "source": [
    "# Set-up"
   ]
  },
  {
   "cell_type": "code",
   "execution_count": 75,
   "metadata": {},
   "outputs": [],
   "source": [
    "import os\n",
    "import GEOparse"
   ]
  },
  {
   "cell_type": "code",
   "execution_count": 76,
   "metadata": {},
   "outputs": [],
   "source": [
    "# Choose the current dataset we are working with\n",
    "dataset_name = \"Wang2023_islet_snATAC-seq\"\n",
    "geo_id = \"GSE169453\""
   ]
  },
  {
   "cell_type": "code",
   "execution_count": 92,
   "metadata": {},
   "outputs": [
    {
     "data": {
      "text/plain": [
       "('/cellar/users/aklie/data/igvf/beta_cell_networks',\n",
       " '/cellar/users/aklie/data/igvf/beta_cell_networks/download/Wang2023_islet_snATAC-seq',\n",
       " '/cellar/users/aklie/data/igvf/beta_cell_networks/cellranger/Wang2023_islet_snATAC-seq',\n",
       " '/cellar/users/aklie/data/igvf/beta_cell_networks/barcode_metadata/Wang2023_islet_snATAC-seq',\n",
       " '/cellar/users/aklie/data/igvf/beta_cell_networks/feature_metadata/Wang2023_islet_snATAC-seq',\n",
       " '/cellar/users/aklie/data/igvf/beta_cell_networks/matrix/Wang2023_islet_snATAC-seq')"
      ]
     },
     "execution_count": 92,
     "metadata": {},
     "output_type": "execute_result"
    }
   ],
   "source": [
    "# Set-up directories\n",
    "base_dir = \"/cellar/users/aklie/data/igvf/beta_cell_networks\"\n",
    "cwd = os.path.join(base_dir, \"download\", dataset_name)\n",
    "cellranger_dir = os.path.join(base_dir, \"cellranger\", dataset_name)\n",
    "barcode_metadata_dir = os.path.join(base_dir, \"barcode_metadata\", dataset_name)\n",
    "feature_metadata_dir = os.path.join(base_dir, \"feature_metadata\", dataset_name)\n",
    "matrix_dir = os.path.join(base_dir, \"matrix\", dataset_name)\n",
    "base_dir, cwd, cellranger_dir, barcode_metadata_dir, feature_metadata_dir, matrix_dir"
   ]
  },
  {
   "cell_type": "code",
   "execution_count": 93,
   "metadata": {},
   "outputs": [
    {
     "name": "stderr",
     "output_type": "stream",
     "text": [
      "04-Jul-2023 09:21:16 DEBUG utils - Directory /cellar/users/aklie/data/igvf/beta_cell_networks/download/Wang2023_islet_snATAC-seq already exists. Skipping.\n",
      "04-Jul-2023 09:21:16 INFO GEOparse - File already exist: using local version.\n",
      "04-Jul-2023 09:21:16 INFO GEOparse - Parsing /cellar/users/aklie/data/igvf/beta_cell_networks/download/Wang2023_islet_snATAC-seq/GSE169453_family.soft.gz: \n",
      "04-Jul-2023 09:21:16 DEBUG GEOparse - DATABASE: GeoMiame\n",
      "04-Jul-2023 09:21:16 DEBUG GEOparse - SERIES: GSE169453\n",
      "04-Jul-2023 09:21:16 DEBUG GEOparse - PLATFORM: GPL24676\n",
      "04-Jul-2023 09:21:16 DEBUG GEOparse - SAMPLE: GSM5203355\n",
      "04-Jul-2023 09:21:16 DEBUG GEOparse - SAMPLE: GSM5203356\n",
      "04-Jul-2023 09:21:16 DEBUG GEOparse - SAMPLE: GSM5203357\n",
      "04-Jul-2023 09:21:16 DEBUG GEOparse - SAMPLE: GSM5203358\n",
      "04-Jul-2023 09:21:16 DEBUG GEOparse - SAMPLE: GSM5203359\n",
      "04-Jul-2023 09:21:16 DEBUG GEOparse - SAMPLE: GSM5203360\n",
      "04-Jul-2023 09:21:16 DEBUG GEOparse - SAMPLE: GSM5203361\n",
      "04-Jul-2023 09:21:16 DEBUG GEOparse - SAMPLE: GSM5203362\n",
      "04-Jul-2023 09:21:16 DEBUG GEOparse - SAMPLE: GSM5203363\n",
      "04-Jul-2023 09:21:16 DEBUG GEOparse - SAMPLE: GSM5203364\n",
      "04-Jul-2023 09:21:16 DEBUG GEOparse - SAMPLE: GSM5203365\n",
      "04-Jul-2023 09:21:16 DEBUG GEOparse - SAMPLE: GSM5203366\n",
      "04-Jul-2023 09:21:16 DEBUG GEOparse - SAMPLE: GSM5203367\n",
      "04-Jul-2023 09:21:16 DEBUG GEOparse - SAMPLE: GSM5203368\n",
      "04-Jul-2023 09:21:16 DEBUG GEOparse - SAMPLE: GSM5203369\n",
      "04-Jul-2023 09:21:16 DEBUG GEOparse - SAMPLE: GSM5203370\n",
      "04-Jul-2023 09:21:16 DEBUG GEOparse - SAMPLE: GSM5203371\n",
      "04-Jul-2023 09:21:16 DEBUG GEOparse - SAMPLE: GSM5203372\n",
      "04-Jul-2023 09:21:16 DEBUG GEOparse - SAMPLE: GSM5203373\n",
      "04-Jul-2023 09:21:16 DEBUG GEOparse - SAMPLE: GSM5203374\n",
      "04-Jul-2023 09:21:16 DEBUG GEOparse - SAMPLE: GSM5203375\n",
      "04-Jul-2023 09:21:16 DEBUG GEOparse - SAMPLE: GSM5203376\n",
      "04-Jul-2023 09:21:16 DEBUG GEOparse - SAMPLE: GSM5203377\n",
      "04-Jul-2023 09:21:16 DEBUG GEOparse - SAMPLE: GSM5203378\n",
      "04-Jul-2023 09:21:16 DEBUG GEOparse - SAMPLE: GSM5203379\n",
      "04-Jul-2023 09:21:16 DEBUG GEOparse - SAMPLE: GSM5203380\n",
      "04-Jul-2023 09:21:16 DEBUG GEOparse - SAMPLE: GSM5203381\n",
      "04-Jul-2023 09:21:16 DEBUG GEOparse - SAMPLE: GSM5203382\n",
      "04-Jul-2023 09:21:16 DEBUG GEOparse - SAMPLE: GSM5203383\n",
      "04-Jul-2023 09:21:16 DEBUG GEOparse - SAMPLE: GSM5203384\n",
      "04-Jul-2023 09:21:16 DEBUG GEOparse - SAMPLE: GSM5203385\n",
      "04-Jul-2023 09:21:16 DEBUG GEOparse - SAMPLE: GSM5203386\n",
      "04-Jul-2023 09:21:16 DEBUG GEOparse - SAMPLE: GSM5203387\n",
      "04-Jul-2023 09:21:16 DEBUG GEOparse - SAMPLE: GSM5203388\n"
     ]
    }
   ],
   "source": [
    "gse = GEOparse.get_GEO(geo=geo_id, destdir=cwd)"
   ]
  },
  {
   "cell_type": "code",
   "execution_count": 94,
   "metadata": {},
   "outputs": [],
   "source": [
    "raw_matrix = gse.metadata[\"supplementary_file\"][0]\n",
    "cell_annotation = gse.metadata[\"supplementary_file\"][2]\n",
    "cell_clustering = gse.metadata[\"supplementary_file\"][3]\n",
    "peak_annotation = gse.metadata[\"supplementary_file\"][4]\n",
    "processed_matrix = gse.metadata[\"supplementary_file\"][5]"
   ]
  },
  {
   "cell_type": "code",
   "execution_count": 96,
   "metadata": {},
   "outputs": [
    {
     "name": "stdout",
     "output_type": "stream",
     "text": [
      "--2023-07-04 09:21:52--  ftp://ftp.ncbi.nlm.nih.gov/geo/series/GSE169nnn/GSE169453/suppl/GSE169453_cell_cluster.tar.gz\n",
      "           => ‘/cellar/users/aklie/data/igvf/beta_cell_networks/barcode_metadata/Wang2023_islet_snATAC-seq/GSE169453_cell_cluster.tar.gz’\n",
      "Resolving ftp.ncbi.nlm.nih.gov (ftp.ncbi.nlm.nih.gov)... 130.14.250.12, 130.14.250.13, 2607:f220:41e:250::10, ...\n",
      "Connecting to ftp.ncbi.nlm.nih.gov (ftp.ncbi.nlm.nih.gov)|130.14.250.12|:21... connected.\n",
      "Logging in as anonymous ... Logged in!\n",
      "==> SYST ... done.    ==> PWD ... done.\n",
      "==> TYPE I ... done.  ==> CWD (1) /geo/series/GSE169nnn/GSE169453/suppl ... done.\n",
      "==> SIZE GSE169453_cell_cluster.tar.gz ... 24033938441\n",
      "==> PASV ... done.    ==> RETR GSE169453_cell_cluster.tar.gz ... done.\n",
      "Length: 24033938441 (22G) (unauthoritative)\n",
      "\n",
      "GSE169453_cell_clus 100%[===================>]  22.38G  46.5MB/s    in 9m 2s   \n",
      "\n",
      "2023-07-04 09:30:56 (42.3 MB/s) - ‘/cellar/users/aklie/data/igvf/beta_cell_networks/barcode_metadata/Wang2023_islet_snATAC-seq/GSE169453_cell_cluster.tar.gz’ saved [24033938441]\n",
      "\n",
      "--2023-07-04 09:30:57--  ftp://ftp.ncbi.nlm.nih.gov/geo/series/GSE169nnn/GSE169453/suppl/GSE169453_peak_annotation.csv.gz\n",
      "           => ‘/cellar/users/aklie/data/igvf/beta_cell_networks/feature_metadata/Wang2023_islet_snATAC-seq/GSE169453_peak_annotation.csv.gz’\n",
      "Resolving ftp.ncbi.nlm.nih.gov (ftp.ncbi.nlm.nih.gov)... 165.112.9.229, 165.112.9.228, 2607:f220:41e:250::13, ...\n",
      "Connecting to ftp.ncbi.nlm.nih.gov (ftp.ncbi.nlm.nih.gov)|165.112.9.229|:21... connected.\n",
      "Logging in as anonymous ... Logged in!\n",
      "==> SYST ... done.    ==> PWD ... done.\n",
      "==> TYPE I ... done.  ==> CWD (1) /geo/series/GSE169nnn/GSE169453/suppl ... done.\n",
      "==> SIZE GSE169453_peak_annotation.csv.gz ... 4347404\n",
      "==> PASV ... done.    ==> RETR GSE169453_peak_annotation.csv.gz ... done.\n",
      "Length: 4347404 (4.1M) (unauthoritative)\n",
      "\n",
      "GSE169453_peak_anno 100%[===================>]   4.15M  7.50MB/s    in 0.6s    \n",
      "\n",
      "2023-07-04 09:30:58 (7.50 MB/s) - ‘/cellar/users/aklie/data/igvf/beta_cell_networks/feature_metadata/Wang2023_islet_snATAC-seq/GSE169453_peak_annotation.csv.gz’ saved [4347404]\n",
      "\n",
      "--2023-07-04 09:30:59--  ftp://ftp.ncbi.nlm.nih.gov/geo/series/GSE169nnn/GSE169453/suppl/GSE169453_processed_matrix.tar.gz\n",
      "           => ‘/cellar/users/aklie/data/igvf/beta_cell_networks/matrix/Wang2023_islet_snATAC-seq/GSE169453_processed_matrix.tar.gz’\n",
      "Resolving ftp.ncbi.nlm.nih.gov (ftp.ncbi.nlm.nih.gov)... 165.112.9.229, 165.112.9.228, 2607:f220:41e:250::13, ...\n",
      "Connecting to ftp.ncbi.nlm.nih.gov (ftp.ncbi.nlm.nih.gov)|165.112.9.229|:21... connected.\n",
      "Logging in as anonymous ... Logged in!\n",
      "==> SYST ... done.    ==> PWD ... done.\n",
      "==> TYPE I ... done.  ==> CWD (1) /geo/series/GSE169nnn/GSE169453/suppl ... done.\n",
      "==> SIZE GSE169453_processed_matrix.tar.gz ... 3665932336\n",
      "==> PASV ... done.    ==> RETR GSE169453_processed_matrix.tar.gz ... done.\n",
      "Length: 3665932336 (3.4G) (unauthoritative)\n",
      "\n",
      "GSE169453_processed 100%[===================>]   3.41G  27.4MB/s    in 78s     \n",
      "\n",
      "2023-07-04 09:32:18 (44.7 MB/s) - ‘/cellar/users/aklie/data/igvf/beta_cell_networks/matrix/Wang2023_islet_snATAC-seq/GSE169453_processed_matrix.tar.gz’ saved [3665932336]\n",
      "\n"
     ]
    }
   ],
   "source": [
    "# wget the files to the correct directories\n",
    "#!wget -P $cellranger_dir $raw_matrix\n",
    "#!wget -P $barcode_metadata_dir $cell_annotation\n",
    "#!wget -P $barcode_metadata_dir $cell_clustering\n",
    "#!wget -P $feature_metadata_dir $peak_annotation\n",
    "#!wget -P $matrix_dir $processed_matrix"
   ]
  },
  {
   "attachments": {},
   "cell_type": "markdown",
   "metadata": {},
   "source": [
    "# DONE!"
   ]
  },
  {
   "attachments": {},
   "cell_type": "markdown",
   "metadata": {},
   "source": [
    "---"
   ]
  }
 ],
 "metadata": {
  "kernelspec": {
   "display_name": "Python 3.7 get_data",
   "language": "python",
   "name": "get_data"
  },
  "orig_nbformat": 4
 },
 "nbformat": 4,
 "nbformat_minor": 2
}
