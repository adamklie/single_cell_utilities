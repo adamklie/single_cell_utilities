{
 "cells": [
  {
   "attachments": {},
   "cell_type": "markdown",
   "metadata": {},
   "source": [
    "# Inspect ArchR project"
   ]
  },
  {
   "attachments": {},
   "cell_type": "markdown",
   "metadata": {},
   "source": [
    "# Set-up"
   ]
  },
  {
   "cell_type": "code",
   "execution_count": 1,
   "metadata": {
    "vscode": {
     "languageId": "r"
    }
   },
   "outputs": [
    {
     "name": "stderr",
     "output_type": "stream",
     "text": [
      "Warning message:\n",
      "“package ‘S4Vectors’ was built under R version 4.3.2”\n",
      "Warning message:\n",
      "“package ‘BiocGenerics’ was built under R version 4.3.2”\n",
      "Warning message:\n",
      "“package ‘GenomicRanges’ was built under R version 4.3.2”\n",
      "Warning message:\n",
      "“package ‘IRanges’ was built under R version 4.3.2”\n",
      "Warning message:\n",
      "“package ‘GenomeInfoDb’ was built under R version 4.3.2”\n",
      "Warning message:\n",
      "“package ‘SummarizedExperiment’ was built under R version 4.3.2”\n",
      "Warning message:\n",
      "“package ‘MatrixGenerics’ was built under R version 4.3.2”\n",
      "Warning message:\n",
      "“package ‘Biobase’ was built under R version 4.3.2”\n"
     ]
    }
   ],
   "source": [
    "# Load libraries\n",
    "suppressMessages(library(Seurat))\n",
    "suppressMessages(library(ArchR))\n",
    "suppressMessages(library(parallel))\n",
    "suppressMessages(library(tidyverse))\n",
    "suppressMessages(library(Matrix))"
   ]
  },
  {
   "cell_type": "code",
   "execution_count": 2,
   "metadata": {
    "vscode": {
     "languageId": "r"
    }
   },
   "outputs": [
    {
     "name": "stderr",
     "output_type": "stream",
     "text": [
      "Setting default number of Parallel threads to 3.\n",
      "\n"
     ]
    }
   ],
   "source": [
    "# Move the working directory \n",
    "set.seed(1234)\n",
    "addArchRThreads(3)\n",
    "setwd(\"/cellar/users/aklie/data/datasets/igvf_sc-islet_10X-Multiome/annotation/timecourse/A2_control/filtered_archr\")"
   ]
  },
  {
   "cell_type": "code",
   "execution_count": 3,
   "metadata": {
    "vscode": {
     "languageId": "r"
    }
   },
   "outputs": [
    {
     "name": "stderr",
     "output_type": "stream",
     "text": [
      "Setting default genome to Hg38.\n",
      "\n"
     ]
    }
   ],
   "source": [
    "# Add annotation\n",
    "addArchRGenome(\"hg38\")"
   ]
  },
  {
   "attachments": {},
   "cell_type": "markdown",
   "metadata": {},
   "source": [
    "# Load the ArchR project"
   ]
  },
  {
   "cell_type": "code",
   "execution_count": 4,
   "metadata": {
    "vscode": {
     "languageId": "r"
    }
   },
   "outputs": [
    {
     "name": "stderr",
     "output_type": "stream",
     "text": [
      "Successfully loaded ArchRProject!\n",
      "\n",
      "\n",
      "                                                   / |\n",
      "                                                 /    \\\n",
      "            .                                  /      |.\n",
      "            \\\\\\                              /        |.\n",
      "              \\\\\\                          /           `|.\n",
      "                \\\\\\                      /              |.\n",
      "                  \\                    /                |\\\n",
      "                  \\\\#####\\           /                  ||\n",
      "                ==###########>      /                   ||\n",
      "                 \\\\##==......\\    /                     ||\n",
      "            ______ =       =|__ /__                     ||      \\\\\\\n",
      "        ,--' ,----`-,__ ___/'  --,-`-===================##========>\n",
      "       \\               '        ##_______ _____ ,--,__,=##,__   ///\n",
      "        ,    __==    ___,-,__,--'#'  ==='      `-'    | ##,-/\n",
      "        -,____,---'       \\\\####\\\\________________,--\\\\_##,/\n",
      "           ___      .______        ______  __    __  .______      \n",
      "          /   \\     |   _  \\      /      ||  |  |  | |   _  \\     \n",
      "         /  ^  \\    |  |_)  |    |  ,----'|  |__|  | |  |_)  |    \n",
      "        /  /_\\  \\   |      /     |  |     |   __   | |      /     \n",
      "       /  _____  \\  |  |\\  \\\\___ |  `----.|  |  |  | |  |\\  \\\\___.\n",
      "      /__/     \\__\\ | _| `._____| \\______||__|  |__| | _| `._____|\n",
      "    \n",
      "\n",
      "\n",
      "           ___      .______        ______  __    __  .______      \n",
      "          /   \\     |   _  \\      /      ||  |  |  | |   _  \\     \n",
      "         /  ^  \\    |  |_)  |    |  ,----'|  |__|  | |  |_)  |    \n",
      "        /  /_\\  \\   |      /     |  |     |   __   | |      /     \n",
      "       /  _____  \\  |  |\\  \\\\___ |  `----.|  |  |  | |  |\\  \\\\___.\n",
      "      /__/     \\__\\ | _| `._____| \\______||__|  |__| | _| `._____|\n",
      "    \n",
      "\n"
     ]
    },
    {
     "data": {
      "text/plain": [
       "class: ArchRProject \n",
       "outputDirectory: /cellar/users/aklie/data/datasets/igvf_sc-islet_10X-Multiome/annotation/timecourse/A2_control/filtered_archr \n",
       "samples(3): dm25a dm45a dm35a\n",
       "sampleColData names(1): ArrowFiles\n",
       "cellColData names(23): Sample TSSEnrichment ... ReadsInPeaks FRIP\n",
       "numberOfCells(1): 5843\n",
       "medianTSS(1): 12.246\n",
       "medianFrags(1): 20776"
      ]
     },
     "metadata": {},
     "output_type": "display_data"
    }
   ],
   "source": [
    "# Load the ArchR project\n",
    "proj = loadArchRProject(path = \"./\")\n",
    "proj"
   ]
  },
  {
   "cell_type": "code",
   "execution_count": 12,
   "metadata": {
    "vscode": {
     "languageId": "r"
    }
   },
   "outputs": [
    {
     "data": {
      "text/plain": [
       "No vignettes or demos or help files found with alias or concept or\n",
       "title matching ‘ArchR:::.writeCoverageToBed’ using regular expression\n",
       "matching."
      ]
     },
     "metadata": {},
     "output_type": "display_data"
    }
   ],
   "source": [
    "??ArchR:::.writeCoverageToBed()"
   ]
  },
  {
   "attachments": {},
   "cell_type": "markdown",
   "metadata": {},
   "source": [
    "# Insertion BEDs"
   ]
  },
  {
   "cell_type": "code",
   "execution_count": 6,
   "metadata": {
    "vscode": {
     "languageId": "r"
    }
   },
   "outputs": [],
   "source": [
    "example_summits <- readRDS(\"/cellar/users/aklie/data/datasets/igvf_sc-islet_10X-Multiome/annotation/timecourse/A2_control/filtered_archr/PeakCalls/ReplicateCalls/SC.alpha._.dm25a-summits.rds\")"
   ]
  },
  {
   "cell_type": "code",
   "execution_count": 8,
   "metadata": {
    "vscode": {
     "languageId": "r"
    }
   },
   "outputs": [
    {
     "data": {
      "text/plain": [
       "GRanges object with 132009 ranges and 11 metadata columns:\n",
       "           seqnames              ranges strand |     score\n",
       "              <Rle>           <IRanges>  <Rle> | <numeric>\n",
       "       [1]     chr1     2050042-2050542      * |   902.248\n",
       "       [2]     chr1     2227546-2228046      * |   998.489\n",
       "       [3]     chr1     2412429-2412929      * |   702.593\n",
       "       [4]     chr1     7961358-7961858      * |   899.922\n",
       "       [5]     chr1     9910158-9910658      * |   963.082\n",
       "       ...      ...                 ...    ... .       ...\n",
       "  [132005]    chr21   43938120-43938620      * |   1.25506\n",
       "  [132006]    chr21   44262796-44263296      * |   1.25506\n",
       "  [132007]    chr22   19703642-19704142      * |   1.25506\n",
       "  [132008]    chr22   46499454-46499954      * |   1.25506\n",
       "  [132009]     chrX 118346754-118347254      * |   1.25506\n",
       "           replicateScoreQuantile groupScoreQuantile Reproducibility\n",
       "                        <numeric>          <numeric>       <numeric>\n",
       "       [1]                      1              0.999               3\n",
       "       [2]                      1              0.999               3\n",
       "       [3]                      1              0.999               3\n",
       "       [4]                      1              0.999               3\n",
       "       [5]                      1              0.999               3\n",
       "       ...                    ...                ...             ...\n",
       "  [132005]                  0.004                  0               2\n",
       "  [132006]                  0.004                  0               2\n",
       "  [132007]                  0.004                  0               2\n",
       "  [132008]                  0.004                  0               2\n",
       "  [132009]                  0.004                  0               2\n",
       "             GroupReplicate distToGeneStart nearestGene    peakType distToTSS\n",
       "                <character>       <integer> <character> <character> <integer>\n",
       "       [1] SC.alpha._.dm25a             177       PRKCZ    Promoter       177\n",
       "       [2] SC.alpha._.dm25a             898         SKI    Promoter       898\n",
       "       [3] SC.alpha._.dm45a            1117       PEX10    Intronic       107\n",
       "       [4] SC.alpha._.dm25a            7316       PARK7    Intronic        54\n",
       "       [5] SC.alpha._.dm25a              71    CTNNBIP1    Promoter        71\n",
       "       ...              ...             ...         ...         ...       ...\n",
       "  [132005] SC.alpha._.dm25a           73183      AGPAT3    Intronic      8559\n",
       "  [132006] SC.alpha._.dm25a             829      DNMT3L    Promoter       829\n",
       "  [132007] SC.alpha._.dm25a           10571       SEPT5      Distal     10571\n",
       "  [132008] SC.alpha._.dm25a           37465      CELSR1    Intronic     34495\n",
       "  [132009] SC.alpha._.dm25a             930       WDR44    Intronic       804\n",
       "            nearestTSS        GC\n",
       "           <character> <numeric>\n",
       "       [1]  uc001aiq.3    0.7904\n",
       "       [2]  uc001aja.5    0.8044\n",
       "       [3]  uc001ajh.4    0.7764\n",
       "       [4]  uc057byd.1    0.7006\n",
       "       [5]  uc001aql.2    0.7745\n",
       "       ...         ...       ...\n",
       "  [132005]  uc062apn.1    0.4611\n",
       "  [132006]  uc002zeh.2    0.6587\n",
       "  [132007]  uc062bmr.1    0.5669\n",
       "  [132008]  uc062ffy.1    0.5090\n",
       "  [132009]  uc065avj.1    0.4870\n",
       "  -------\n",
       "  seqinfo: 23 sequences from an unspecified genome; no seqlengths"
      ]
     },
     "metadata": {},
     "output_type": "display_data"
    }
   ],
   "source": [
    "repro_peaks <- readRDS(\"/cellar/users/aklie/data/datasets/igvf_sc-islet_10X-Multiome/annotation/timecourse/A2_control/filtered_archr/PeakCalls/SC.alpha-reproduciblePeaks.gr.rds\")\n",
    "repro_peaks"
   ]
  },
  {
   "cell_type": "code",
   "execution_count": 7,
   "metadata": {
    "vscode": {
     "languageId": "r"
    }
   },
   "outputs": [
    {
     "data": {
      "text/plain": [
       "GRanges object with 295376 ranges and 1 metadata column:\n",
       "           seqnames    ranges strand |     score\n",
       "              <Rle> <IRanges>  <Rle> | <numeric>\n",
       "       [1]     chr1     10065      * |  76.70880\n",
       "       [2]     chr1     10389      * |  22.33270\n",
       "       [3]     chr1     29358      * |   6.96130\n",
       "       [4]     chr1    180803      * |   6.11474\n",
       "       [5]     chr1    181148      * |   5.29912\n",
       "       ...      ...       ...    ... .       ...\n",
       "  [295372]     chrX 155881297      * | 196.29500\n",
       "  [295373]     chrX 155881801      * |   3.06836\n",
       "  [295374]     chrX 155967081      * |   8.73856\n",
       "  [295375]     chrX 156030179      * |  13.59610\n",
       "  [295376]     chrX 156030654      * |  38.38730\n",
       "  -------\n",
       "  seqinfo: 23 sequences from an unspecified genome; no seqlengths"
      ]
     },
     "metadata": {},
     "output_type": "display_data"
    }
   ],
   "source": [
    "example_summits"
   ]
  },
  {
   "attachments": {},
   "cell_type": "markdown",
   "metadata": {},
   "source": [
    "# Peak sets"
   ]
  },
  {
   "cell_type": "code",
   "execution_count": 5,
   "metadata": {
    "vscode": {
     "languageId": "r"
    }
   },
   "outputs": [
    {
     "data": {
      "text/plain": [
       "GRanges object with 188090 ranges and 13 metadata columns:\n",
       "           seqnames              ranges strand |     score\n",
       "              <Rle>           <IRanges>  <Rle> | <numeric>\n",
       "   SC.beta     chr1       804687-805187      * |  18.15840\n",
       "  SC.alpha     chr1       817831-818331      * |   3.40310\n",
       "   SC.beta     chr1       819660-820160      * |   3.54388\n",
       "   SC.beta     chr1       821415-821915      * |   4.04251\n",
       "   SC.EC.1     chr1       822102-822602      * |   3.79216\n",
       "       ...      ...                 ...    ... .       ...\n",
       "   SC.beta     chrX 155820071-155820571      * |  33.94330\n",
       "   SC.EC.2     chrX 155875272-155875772      * |   3.95066\n",
       "  SC.alpha     chrX 155880509-155881009      * |   9.66555\n",
       "   SC.beta     chrX 155881024-155881524      * | 175.66500\n",
       "   SC.beta     chrX 155966817-155967317      * |  10.64490\n",
       "           replicateScoreQuantile groupScoreQuantile Reproducibility\n",
       "                        <numeric>          <numeric>       <numeric>\n",
       "   SC.beta                  0.765              0.673               3\n",
       "  SC.alpha                  0.211              0.060               2\n",
       "   SC.beta                  0.348              0.136               2\n",
       "   SC.beta                  0.369              0.168               2\n",
       "   SC.EC.1                  0.185              0.045               2\n",
       "       ...                    ...                ...             ...\n",
       "   SC.beta                  0.819              0.752               3\n",
       "   SC.EC.2                  0.307              0.114               2\n",
       "  SC.alpha                  0.594              0.415               2\n",
       "   SC.beta                  0.939              0.919               3\n",
       "   SC.beta                  0.688              0.563               2\n",
       "             GroupReplicate distToGeneStart nearestGene    peakType distToTSS\n",
       "                <character>       <integer> <character> <character> <integer>\n",
       "   SC.beta  SC.beta._.dm45a           12433      FAM87B      Distal         4\n",
       "  SC.alpha SC.alpha._.dm45a             709      FAM87B      Exonic       709\n",
       "   SC.beta  SC.beta._.dm45a            2538      FAM87B      Distal      2538\n",
       "   SC.beta  SC.beta._.dm25a            3472   LINC01128      Distal      3472\n",
       "   SC.EC.1  SC.EC.1._.dm25a            2785   LINC01128      Distal      2785\n",
       "       ...              ...             ...         ...         ...       ...\n",
       "   SC.beta  SC.beta._.dm25a          150376       TMLHE      Distal     52508\n",
       "   SC.EC.2  SC.EC.2._.dm35a          205577       TMLHE      Distal      5770\n",
       "  SC.alpha SC.alpha._.dm25a          210814       TMLHE      Distal       533\n",
       "   SC.beta  SC.beta._.dm25a          211329       TMLHE      Distal        18\n",
       "   SC.beta  SC.beta._.dm45a          297122       TMLHE      Distal     30513\n",
       "            nearestTSS        GC       idx         N\n",
       "           <character> <numeric> <integer> <numeric>\n",
       "   SC.beta  uc057awz.1    0.4012         1         0\n",
       "  SC.alpha  uc031tlt.2    0.5090         2         0\n",
       "   SC.beta  uc031tlt.2    0.4750         3         0\n",
       "   SC.beta  uc057axa.1    0.5409         4         0\n",
       "   SC.EC.1  uc057axa.1    0.5509         5         0\n",
       "       ...         ...       ...       ...       ...\n",
       "   SC.beta  uc004fnq.2    0.4691      2677         0\n",
       "   SC.EC.2  uc004fnr.4    0.3812      2678         0\n",
       "  SC.alpha  uc004fnr.4    0.4192      2679         0\n",
       "   SC.beta  uc004fnr.4    0.6188      2680         0\n",
       "   SC.beta  uc004fnv.2    0.4132      2681         0\n",
       "  -------\n",
       "  seqinfo: 23 sequences from an unspecified genome; no seqlengths"
      ]
     },
     "metadata": {},
     "output_type": "display_data"
    }
   ],
   "source": [
    "peakset <- getPeakSet(proj)\n",
    "peakset"
   ]
  },
  {
   "attachments": {},
   "cell_type": "markdown",
   "metadata": {},
   "source": [
    "# Group coverages"
   ]
  },
  {
   "cell_type": "code",
   "execution_count": 15,
   "metadata": {
    "vscode": {
     "languageId": "r"
    }
   },
   "outputs": [
    {
     "name": "stderr",
     "output_type": "stream",
     "text": [
      "ArchR logging to : ArchRLogs/ArchR-getMatrixFromProject-2e1fae1184f098-Date-2024-03-20_Time-07-11-01.503449.log\n",
      "If there is an issue, please report to github with logFile!\n",
      "\n"
     ]
    },
    {
     "name": "stderr",
     "output_type": "stream",
     "text": [
      "2024-03-20 07:11:26.402219 : Organizing colData, 0.415 mins elapsed.\n",
      "\n",
      "2024-03-20 07:11:26.543065 : Organizing rowData, 0.417 mins elapsed.\n",
      "\n",
      "2024-03-20 07:11:26.55665 : Organizing rowRanges, 0.418 mins elapsed.\n",
      "\n",
      "2024-03-20 07:11:26.575456 : Organizing Assays (1 of 1), 0.418 mins elapsed.\n",
      "\n",
      "2024-03-20 07:11:28.003335 : Constructing SummarizedExperiment, 0.442 mins elapsed.\n",
      "\n",
      "2024-03-20 07:11:34.504876 : Finished Matrix Creation, 0.55 mins elapsed.\n",
      "\n"
     ]
    },
    {
     "data": {
      "text/html": [
       "<style>\n",
       ".list-inline {list-style: none; margin:0; padding: 0}\n",
       ".list-inline>li {display: inline-block}\n",
       ".list-inline>li:not(:last-child)::after {content: \"\\00b7\"; padding: 0 .5ex}\n",
       "</style>\n",
       "<ol class=list-inline><li>188090</li><li>5843</li></ol>\n"
      ],
      "text/latex": [
       "\\begin{enumerate*}\n",
       "\\item 188090\n",
       "\\item 5843\n",
       "\\end{enumerate*}\n"
      ],
      "text/markdown": [
       "1. 188090\n",
       "2. 5843\n",
       "\n",
       "\n"
      ],
      "text/plain": [
       "[1] 188090   5843"
      ]
     },
     "metadata": {},
     "output_type": "display_data"
    }
   ],
   "source": [
    "se <- getMatrixFromProject(\n",
    "    proj, \n",
    "    useMatrix=\"PeakMatrix\",\n",
    ")\n",
    "dim(se)"
   ]
  },
  {
   "cell_type": "code",
   "execution_count": 33,
   "metadata": {
    "vscode": {
     "languageId": "r"
    }
   },
   "outputs": [],
   "source": [
    "dir.name <- \"/cellar/users/aklie/data/datasets/igvf_sc-islet_10X-Multiome/annotation/timecourse/A2_control/filtered_archr/Matrices/UpdatedPeakMatrix\""
   ]
  },
  {
   "cell_type": "code",
   "execution_count": 26,
   "metadata": {
    "vscode": {
     "languageId": "r"
    }
   },
   "outputs": [
    {
     "data": {
      "text/html": [
       "<style>\n",
       ".list-inline {list-style: none; margin:0; padding: 0}\n",
       ".list-inline>li {display: inline-block}\n",
       ".list-inline>li:not(:last-child)::after {content: \"\\00b7\"; padding: 0 .5ex}\n",
       "</style>\n",
       "<ol class=list-inline><li>'chrX:155768297-155768797'</li><li>'chrX:155820071-155820571'</li><li>'chrX:155875272-155875772'</li><li>'chrX:155880509-155881009'</li><li>'chrX:155881024-155881524'</li><li>'chrX:155966817-155967317'</li></ol>\n"
      ],
      "text/latex": [
       "\\begin{enumerate*}\n",
       "\\item 'chrX:155768297-155768797'\n",
       "\\item 'chrX:155820071-155820571'\n",
       "\\item 'chrX:155875272-155875772'\n",
       "\\item 'chrX:155880509-155881009'\n",
       "\\item 'chrX:155881024-155881524'\n",
       "\\item 'chrX:155966817-155967317'\n",
       "\\end{enumerate*}\n"
      ],
      "text/markdown": [
       "1. 'chrX:155768297-155768797'\n",
       "2. 'chrX:155820071-155820571'\n",
       "3. 'chrX:155875272-155875772'\n",
       "4. 'chrX:155880509-155881009'\n",
       "5. 'chrX:155881024-155881524'\n",
       "6. 'chrX:155966817-155967317'\n",
       "\n",
       "\n"
      ],
      "text/plain": [
       "[1] \"chrX:155768297-155768797\" \"chrX:155820071-155820571\"\n",
       "[3] \"chrX:155875272-155875772\" \"chrX:155880509-155881009\"\n",
       "[5] \"chrX:155881024-155881524\" \"chrX:155966817-155967317\""
      ]
     },
     "metadata": {},
     "output_type": "display_data"
    }
   ],
   "source": [
    "peakset <- rowRanges(se)\n",
    "regions <- paste0(seqnames(peakset), \":\", start(peakset), \"-\", end(peakset))\n",
    "tail(regions)"
   ]
  },
  {
   "cell_type": "code",
   "execution_count": 39,
   "metadata": {
    "vscode": {
     "languageId": "r"
    }
   },
   "outputs": [],
   "source": [
    "write.table(regions, file.path(dir.name, \"features.tsv\"), row.names=F, col.names=F, quote=F)"
   ]
  },
  {
   "cell_type": "code",
   "execution_count": 37,
   "metadata": {
    "vscode": {
     "languageId": "r"
    }
   },
   "outputs": [
    {
     "data": {
      "text/html": [
       "<style>\n",
       ".list-inline {list-style: none; margin:0; padding: 0}\n",
       ".list-inline>li {display: inline-block}\n",
       ".list-inline>li:not(:last-child)::after {content: \"\\00b7\"; padding: 0 .5ex}\n",
       "</style>\n",
       "<ol class=list-inline><li>'dm25a#CCAGCCTGTAAGCTTG-1'</li><li>'dm25a#CGGCAATGTTACATCC-1'</li><li>'dm25a#GCGCAAACAACAGGTG-1'</li><li>'dm25a#TCGTGCTTCTTTAGGA-1'</li><li>'dm25a#GGTTAGCGTGTCCTGC-1'</li><li>'dm25a#TGACTCCTCTCCATAT-1'</li></ol>\n"
      ],
      "text/latex": [
       "\\begin{enumerate*}\n",
       "\\item 'dm25a\\#CCAGCCTGTAAGCTTG-1'\n",
       "\\item 'dm25a\\#CGGCAATGTTACATCC-1'\n",
       "\\item 'dm25a\\#GCGCAAACAACAGGTG-1'\n",
       "\\item 'dm25a\\#TCGTGCTTCTTTAGGA-1'\n",
       "\\item 'dm25a\\#GGTTAGCGTGTCCTGC-1'\n",
       "\\item 'dm25a\\#TGACTCCTCTCCATAT-1'\n",
       "\\end{enumerate*}\n"
      ],
      "text/markdown": [
       "1. 'dm25a#CCAGCCTGTAAGCTTG-1'\n",
       "2. 'dm25a#CGGCAATGTTACATCC-1'\n",
       "3. 'dm25a#GCGCAAACAACAGGTG-1'\n",
       "4. 'dm25a#TCGTGCTTCTTTAGGA-1'\n",
       "5. 'dm25a#GGTTAGCGTGTCCTGC-1'\n",
       "6. 'dm25a#TGACTCCTCTCCATAT-1'\n",
       "\n",
       "\n"
      ],
      "text/plain": [
       "[1] \"dm25a#CCAGCCTGTAAGCTTG-1\" \"dm25a#CGGCAATGTTACATCC-1\"\n",
       "[3] \"dm25a#GCGCAAACAACAGGTG-1\" \"dm25a#TCGTGCTTCTTTAGGA-1\"\n",
       "[5] \"dm25a#GGTTAGCGTGTCCTGC-1\" \"dm25a#TGACTCCTCTCCATAT-1\""
      ]
     },
     "metadata": {},
     "output_type": "display_data"
    }
   ],
   "source": [
    "coldata <- colData(se)\n",
    "cells <- colnames(se)\n",
    "head(cells)"
   ]
  },
  {
   "cell_type": "code",
   "execution_count": 40,
   "metadata": {
    "vscode": {
     "languageId": "r"
    }
   },
   "outputs": [],
   "source": [
    "write.table(cells, file.path(dir.name, \"barcodes.tsv\"), row.names=F, col.names=F, quote=F)"
   ]
  },
  {
   "cell_type": "code",
   "execution_count": 41,
   "metadata": {
    "vscode": {
     "languageId": "r"
    }
   },
   "outputs": [],
   "source": [
    "mtx <- assays(se)$PeakMatrix"
   ]
  },
  {
   "cell_type": "code",
   "execution_count": 42,
   "metadata": {
    "vscode": {
     "languageId": "r"
    }
   },
   "outputs": [
    {
     "data": {
      "text/plain": [
       "NULL"
      ]
     },
     "metadata": {},
     "output_type": "display_data"
    }
   ],
   "source": [
    "writeMM(mtx, file.path(dir.name, \"mtx.mtx\"))"
   ]
  },
  {
   "cell_type": "code",
   "execution_count": 28,
   "metadata": {
    "vscode": {
     "languageId": "r"
    }
   },
   "outputs": [
    {
     "data": {
      "text/plain": [
       "6 x 6 sparse Matrix of class \"dgCMatrix\"\n",
       "     dm25a#CCAGCCTGTAAGCTTG-1 dm25a#CGGCAATGTTACATCC-1 dm25a#GCGCAAACAACAGGTG-1\n",
       "[1,]                        .                        1                        .\n",
       "[2,]                        .                        .                        .\n",
       "[3,]                        .                        .                        .\n",
       "[4,]                        .                        .                        .\n",
       "[5,]                        .                        .                        .\n",
       "[6,]                        .                        .                        2\n",
       "     dm25a#TCGTGCTTCTTTAGGA-1 dm25a#GGTTAGCGTGTCCTGC-1 dm25a#TGACTCCTCTCCATAT-1\n",
       "[1,]                        .                        .                        .\n",
       "[2,]                        .                        .                        .\n",
       "[3,]                        .                        .                        .\n",
       "[4,]                        .                        .                        .\n",
       "[5,]                        .                        .                        .\n",
       "[6,]                        .                        1                        2"
      ]
     },
     "metadata": {},
     "output_type": "display_data"
    }
   ],
   "source": [
    "se@assays@data[[1]][1:6, 1:6]"
   ]
  },
  {
   "cell_type": "code",
   "execution_count": 24,
   "metadata": {
    "vscode": {
     "languageId": "r"
    }
   },
   "outputs": [
    {
     "data": {
      "text/html": [
       "<style>\n",
       ".list-inline {list-style: none; margin:0; padding: 0}\n",
       ".list-inline>li {display: inline-block}\n",
       ".list-inline>li:not(:last-child)::after {content: \"\\00b7\"; padding: 0 .5ex}\n",
       "</style>\n",
       "<ol class=list-inline><li>'dm45a#GGTATTTCAGGCTGTT-1'</li><li>'dm45a#ACGACAAAGCCTCTGT-1'</li><li>'dm45a#GCGGGTTTCTCACTCA-1'</li><li>'dm45a#ACCATTAAGAGCCGCT-1'</li><li>'dm45a#GTGTTCCTCCCGCAAA-1'</li><li>'dm45a#ATCGGCCAGTGTTGCG-1'</li></ol>\n"
      ],
      "text/latex": [
       "\\begin{enumerate*}\n",
       "\\item 'dm45a\\#GGTATTTCAGGCTGTT-1'\n",
       "\\item 'dm45a\\#ACGACAAAGCCTCTGT-1'\n",
       "\\item 'dm45a\\#GCGGGTTTCTCACTCA-1'\n",
       "\\item 'dm45a\\#ACCATTAAGAGCCGCT-1'\n",
       "\\item 'dm45a\\#GTGTTCCTCCCGCAAA-1'\n",
       "\\item 'dm45a\\#ATCGGCCAGTGTTGCG-1'\n",
       "\\end{enumerate*}\n"
      ],
      "text/markdown": [
       "1. 'dm45a#GGTATTTCAGGCTGTT-1'\n",
       "2. 'dm45a#ACGACAAAGCCTCTGT-1'\n",
       "3. 'dm45a#GCGGGTTTCTCACTCA-1'\n",
       "4. 'dm45a#ACCATTAAGAGCCGCT-1'\n",
       "5. 'dm45a#GTGTTCCTCCCGCAAA-1'\n",
       "6. 'dm45a#ATCGGCCAGTGTTGCG-1'\n",
       "\n",
       "\n"
      ],
      "text/plain": [
       "[1] \"dm45a#GGTATTTCAGGCTGTT-1\" \"dm45a#ACGACAAAGCCTCTGT-1\"\n",
       "[3] \"dm45a#GCGGGTTTCTCACTCA-1\" \"dm45a#ACCATTAAGAGCCGCT-1\"\n",
       "[5] \"dm45a#GTGTTCCTCCCGCAAA-1\" \"dm45a#ATCGGCCAGTGTTGCG-1\""
      ]
     },
     "metadata": {},
     "output_type": "display_data"
    }
   ],
   "source": [
    "cells <- proj$cellNames\n",
    "head(cells)"
   ]
  },
  {
   "cell_type": "code",
   "execution_count": null,
   "metadata": {
    "vscode": {
     "languageId": "r"
    }
   },
   "outputs": [],
   "source": []
  },
  {
   "cell_type": "code",
   "execution_count": 17,
   "metadata": {
    "vscode": {
     "languageId": "r"
    }
   },
   "outputs": [
    {
     "data": {
      "text/plain": [
       "6 x 6 sparse Matrix of class \"dgCMatrix\"\n",
       "     dm25a#CCAGCCTGTAAGCTTG-1 dm25a#CGGCAATGTTACATCC-1 dm25a#GCGCAAACAACAGGTG-1\n",
       "[1,]                        .                        1                        .\n",
       "[2,]                        .                        .                        .\n",
       "[3,]                        .                        .                        .\n",
       "[4,]                        .                        .                        .\n",
       "[5,]                        .                        .                        .\n",
       "[6,]                        .                        .                        2\n",
       "     dm25a#TCGTGCTTCTTTAGGA-1 dm25a#GGTTAGCGTGTCCTGC-1 dm25a#TGACTCCTCTCCATAT-1\n",
       "[1,]                        .                        .                        .\n",
       "[2,]                        .                        .                        .\n",
       "[3,]                        .                        .                        .\n",
       "[4,]                        .                        .                        .\n",
       "[5,]                        .                        .                        .\n",
       "[6,]                        .                        1                        2"
      ]
     },
     "metadata": {},
     "output_type": "display_data"
    }
   ],
   "source": [
    "peakset <- getPeakSet(proj)"
   ]
  },
  {
   "cell_type": "code",
   "execution_count": null,
   "metadata": {
    "vscode": {
     "languageId": "r"
    }
   },
   "outputs": [],
   "source": []
  },
  {
   "cell_type": "code",
   "execution_count": 19,
   "metadata": {
    "vscode": {
     "languageId": "r"
    }
   },
   "outputs": [],
   "source": []
  },
  {
   "cell_type": "code",
   "execution_count": null,
   "metadata": {
    "vscode": {
     "languageId": "r"
    }
   },
   "outputs": [],
   "source": [
    "head(regions)"
   ]
  },
  {
   "cell_type": "code",
   "execution_count": 20,
   "metadata": {
    "vscode": {
     "languageId": "r"
    }
   },
   "outputs": [
    {
     "data": {
      "text/html": [
       "<style>\n",
       ".list-inline {list-style: none; margin:0; padding: 0}\n",
       ".list-inline>li {display: inline-block}\n",
       ".list-inline>li:not(:last-child)::after {content: \"\\00b7\"; padding: 0 .5ex}\n",
       "</style>\n",
       "<ol class=list-inline><li>'dm45a#GGTATTTCAGGCTGTT-1'</li><li>'dm45a#ACGACAAAGCCTCTGT-1'</li><li>'dm45a#GCGGGTTTCTCACTCA-1'</li><li>'dm45a#ACCATTAAGAGCCGCT-1'</li><li>'dm45a#GTGTTCCTCCCGCAAA-1'</li><li>'dm45a#ATCGGCCAGTGTTGCG-1'</li></ol>\n"
      ],
      "text/latex": [
       "\\begin{enumerate*}\n",
       "\\item 'dm45a\\#GGTATTTCAGGCTGTT-1'\n",
       "\\item 'dm45a\\#ACGACAAAGCCTCTGT-1'\n",
       "\\item 'dm45a\\#GCGGGTTTCTCACTCA-1'\n",
       "\\item 'dm45a\\#ACCATTAAGAGCCGCT-1'\n",
       "\\item 'dm45a\\#GTGTTCCTCCCGCAAA-1'\n",
       "\\item 'dm45a\\#ATCGGCCAGTGTTGCG-1'\n",
       "\\end{enumerate*}\n"
      ],
      "text/markdown": [
       "1. 'dm45a#GGTATTTCAGGCTGTT-1'\n",
       "2. 'dm45a#ACGACAAAGCCTCTGT-1'\n",
       "3. 'dm45a#GCGGGTTTCTCACTCA-1'\n",
       "4. 'dm45a#ACCATTAAGAGCCGCT-1'\n",
       "5. 'dm45a#GTGTTCCTCCCGCAAA-1'\n",
       "6. 'dm45a#ATCGGCCAGTGTTGCG-1'\n",
       "\n",
       "\n"
      ],
      "text/plain": [
       "[1] \"dm45a#GGTATTTCAGGCTGTT-1\" \"dm45a#ACGACAAAGCCTCTGT-1\"\n",
       "[3] \"dm45a#GCGGGTTTCTCACTCA-1\" \"dm45a#ACCATTAAGAGCCGCT-1\"\n",
       "[5] \"dm45a#GTGTTCCTCCCGCAAA-1\" \"dm45a#ATCGGCCAGTGTTGCG-1\""
      ]
     },
     "metadata": {},
     "output_type": "display_data"
    }
   ],
   "source": [
    "head(cells)"
   ]
  },
  {
   "cell_type": "code",
   "execution_count": 43,
   "metadata": {
    "vscode": {
     "languageId": "r"
    }
   },
   "outputs": [
    {
     "data": {
      "text/html": [
       "<style>\n",
       ".list-inline {list-style: none; margin:0; padding: 0}\n",
       ".list-inline>li {display: inline-block}\n",
       ".list-inline>li:not(:last-child)::after {content: \"\\00b7\"; padding: 0 .5ex}\n",
       "</style>\n",
       "<ol class=list-inline><li>188090</li><li>5843</li></ol>\n"
      ],
      "text/latex": [
       "\\begin{enumerate*}\n",
       "\\item 188090\n",
       "\\item 5843\n",
       "\\end{enumerate*}\n"
      ],
      "text/markdown": [
       "1. 188090\n",
       "2. 5843\n",
       "\n",
       "\n"
      ],
      "text/plain": [
       "[1] 188090   5843"
      ]
     },
     "metadata": {},
     "output_type": "display_data"
    }
   ],
   "source": [
    "saved_mtx = readMM(\"/cellar/users/aklie/data/datasets/igvf_sc-islet_10X-Multiome/annotation/timecourse/A2_control/filtered_archr/Matrices/UpdatedPeakMatrix/mtx.mtx\")\n",
    "dim(saved_mtx)"
   ]
  },
  {
   "cell_type": "code",
   "execution_count": 56,
   "metadata": {
    "vscode": {
     "languageId": "r"
    }
   },
   "outputs": [],
   "source": [
    "regions <- \"/cellar/users/aklie/data/datasets/igvf_sc-islet_10X-Multiome/annotation/timecourse/A2_control/filtered_signac/matrix/features copy.tsv\""
   ]
  },
  {
   "cell_type": "code",
   "execution_count": 57,
   "metadata": {
    "vscode": {
     "languageId": "r"
    }
   },
   "outputs": [
    {
     "data": {
      "text/html": [
       "<table class=\"dataframe\">\n",
       "<caption>A data.frame: 98056 × 1</caption>\n",
       "<thead>\n",
       "\t<tr><th scope=col>V1</th></tr>\n",
       "\t<tr><th scope=col>&lt;chr&gt;</th></tr>\n",
       "</thead>\n",
       "<tbody>\n",
       "\t<tr><td>chr1-9924-10463   </td></tr>\n",
       "\t<tr><td>chr1-180670-181614</td></tr>\n",
       "\t<tr><td>chr1-191132-191626</td></tr>\n",
       "\t<tr><td>chr1-267825-268131</td></tr>\n",
       "\t<tr><td>chr1-586065-586270</td></tr>\n",
       "\t<tr><td>chr1-629819-630033</td></tr>\n",
       "\t<tr><td>chr1-633843-634122</td></tr>\n",
       "\t<tr><td>chr1-778134-779279</td></tr>\n",
       "\t<tr><td>chr1-804521-805018</td></tr>\n",
       "\t<tr><td>chr1-817960-818165</td></tr>\n",
       "\t<tr><td>chr1-826669-827770</td></tr>\n",
       "\t<tr><td>chr1-832086-832727</td></tr>\n",
       "\t<tr><td>chr1-850344-850588</td></tr>\n",
       "\t<tr><td>chr1-851868-852263</td></tr>\n",
       "\t<tr><td>chr1-858018-858888</td></tr>\n",
       "\t<tr><td>chr1-860201-860429</td></tr>\n",
       "\t<tr><td>chr1-869552-870169</td></tr>\n",
       "\t<tr><td>chr1-876499-877657</td></tr>\n",
       "\t<tr><td>chr1-890721-890939</td></tr>\n",
       "\t<tr><td>chr1-898454-899038</td></tr>\n",
       "\t<tr><td>chr1-903855-905238</td></tr>\n",
       "\t<tr><td>chr1-912718-913119</td></tr>\n",
       "\t<tr><td>chr1-920888-921374</td></tr>\n",
       "\t<tr><td>chr1-923511-925295</td></tr>\n",
       "\t<tr><td>chr1-930646-930938</td></tr>\n",
       "\t<tr><td>chr1-940204-940639</td></tr>\n",
       "\t<tr><td>chr1-941577-942258</td></tr>\n",
       "\t<tr><td>chr1-958814-959669</td></tr>\n",
       "\t<tr><td>chr1-960275-961397</td></tr>\n",
       "\t<tr><td>chr1-966323-967178</td></tr>\n",
       "\t<tr><td>⋮</td></tr>\n",
       "\t<tr><td>GL000205.2-80572-81130  </td></tr>\n",
       "\t<tr><td>GL000205.2-81490-81788  </td></tr>\n",
       "\t<tr><td>GL000205.2-87034-87235  </td></tr>\n",
       "\t<tr><td>GL000205.2-87668-88179  </td></tr>\n",
       "\t<tr><td>GL000205.2-88859-89180  </td></tr>\n",
       "\t<tr><td>GL000205.2-89429-90001  </td></tr>\n",
       "\t<tr><td>GL000205.2-140046-140919</td></tr>\n",
       "\t<tr><td>GL000205.2-154348-154556</td></tr>\n",
       "\t<tr><td>GL000205.2-156636-157538</td></tr>\n",
       "\t<tr><td>GL000205.2-175121-175789</td></tr>\n",
       "\t<tr><td>KI270711.1-7786-9486    </td></tr>\n",
       "\t<tr><td>KI270711.1-22870-23265  </td></tr>\n",
       "\t<tr><td>KI270711.1-23590-23807  </td></tr>\n",
       "\t<tr><td>KI270711.1-24079-24299  </td></tr>\n",
       "\t<tr><td>KI270711.1-29275-29509  </td></tr>\n",
       "\t<tr><td>KI270713.1-3103-3463    </td></tr>\n",
       "\t<tr><td>KI270713.1-4004-4518    </td></tr>\n",
       "\t<tr><td>KI270713.1-8342-8736    </td></tr>\n",
       "\t<tr><td>KI270713.1-13375-13598  </td></tr>\n",
       "\t<tr><td>KI270713.1-13828-14027  </td></tr>\n",
       "\t<tr><td>KI270713.1-20389-22158  </td></tr>\n",
       "\t<tr><td>KI270713.1-30444-30701  </td></tr>\n",
       "\t<tr><td>KI270713.1-31025-32027  </td></tr>\n",
       "\t<tr><td>KI270721.1-2415-2621    </td></tr>\n",
       "\t<tr><td>KI270721.1-44918-45323  </td></tr>\n",
       "\t<tr><td>KI270727.1-52257-52646  </td></tr>\n",
       "\t<tr><td>KI270731.1-4785-5028    </td></tr>\n",
       "\t<tr><td>KI270734.1-121287-121512</td></tr>\n",
       "\t<tr><td>KI270734.1-133773-134001</td></tr>\n",
       "\t<tr><td>KI270734.1-164006-164228</td></tr>\n",
       "</tbody>\n",
       "</table>\n"
      ],
      "text/latex": [
       "A data.frame: 98056 × 1\n",
       "\\begin{tabular}{l}\n",
       " V1\\\\\n",
       " <chr>\\\\\n",
       "\\hline\n",
       "\t chr1-9924-10463   \\\\\n",
       "\t chr1-180670-181614\\\\\n",
       "\t chr1-191132-191626\\\\\n",
       "\t chr1-267825-268131\\\\\n",
       "\t chr1-586065-586270\\\\\n",
       "\t chr1-629819-630033\\\\\n",
       "\t chr1-633843-634122\\\\\n",
       "\t chr1-778134-779279\\\\\n",
       "\t chr1-804521-805018\\\\\n",
       "\t chr1-817960-818165\\\\\n",
       "\t chr1-826669-827770\\\\\n",
       "\t chr1-832086-832727\\\\\n",
       "\t chr1-850344-850588\\\\\n",
       "\t chr1-851868-852263\\\\\n",
       "\t chr1-858018-858888\\\\\n",
       "\t chr1-860201-860429\\\\\n",
       "\t chr1-869552-870169\\\\\n",
       "\t chr1-876499-877657\\\\\n",
       "\t chr1-890721-890939\\\\\n",
       "\t chr1-898454-899038\\\\\n",
       "\t chr1-903855-905238\\\\\n",
       "\t chr1-912718-913119\\\\\n",
       "\t chr1-920888-921374\\\\\n",
       "\t chr1-923511-925295\\\\\n",
       "\t chr1-930646-930938\\\\\n",
       "\t chr1-940204-940639\\\\\n",
       "\t chr1-941577-942258\\\\\n",
       "\t chr1-958814-959669\\\\\n",
       "\t chr1-960275-961397\\\\\n",
       "\t chr1-966323-967178\\\\\n",
       "\t ⋮\\\\\n",
       "\t GL000205.2-80572-81130  \\\\\n",
       "\t GL000205.2-81490-81788  \\\\\n",
       "\t GL000205.2-87034-87235  \\\\\n",
       "\t GL000205.2-87668-88179  \\\\\n",
       "\t GL000205.2-88859-89180  \\\\\n",
       "\t GL000205.2-89429-90001  \\\\\n",
       "\t GL000205.2-140046-140919\\\\\n",
       "\t GL000205.2-154348-154556\\\\\n",
       "\t GL000205.2-156636-157538\\\\\n",
       "\t GL000205.2-175121-175789\\\\\n",
       "\t KI270711.1-7786-9486    \\\\\n",
       "\t KI270711.1-22870-23265  \\\\\n",
       "\t KI270711.1-23590-23807  \\\\\n",
       "\t KI270711.1-24079-24299  \\\\\n",
       "\t KI270711.1-29275-29509  \\\\\n",
       "\t KI270713.1-3103-3463    \\\\\n",
       "\t KI270713.1-4004-4518    \\\\\n",
       "\t KI270713.1-8342-8736    \\\\\n",
       "\t KI270713.1-13375-13598  \\\\\n",
       "\t KI270713.1-13828-14027  \\\\\n",
       "\t KI270713.1-20389-22158  \\\\\n",
       "\t KI270713.1-30444-30701  \\\\\n",
       "\t KI270713.1-31025-32027  \\\\\n",
       "\t KI270721.1-2415-2621    \\\\\n",
       "\t KI270721.1-44918-45323  \\\\\n",
       "\t KI270727.1-52257-52646  \\\\\n",
       "\t KI270731.1-4785-5028    \\\\\n",
       "\t KI270734.1-121287-121512\\\\\n",
       "\t KI270734.1-133773-134001\\\\\n",
       "\t KI270734.1-164006-164228\\\\\n",
       "\\end{tabular}\n"
      ],
      "text/markdown": [
       "\n",
       "A data.frame: 98056 × 1\n",
       "\n",
       "| V1 &lt;chr&gt; |\n",
       "|---|\n",
       "| chr1-9924-10463    |\n",
       "| chr1-180670-181614 |\n",
       "| chr1-191132-191626 |\n",
       "| chr1-267825-268131 |\n",
       "| chr1-586065-586270 |\n",
       "| chr1-629819-630033 |\n",
       "| chr1-633843-634122 |\n",
       "| chr1-778134-779279 |\n",
       "| chr1-804521-805018 |\n",
       "| chr1-817960-818165 |\n",
       "| chr1-826669-827770 |\n",
       "| chr1-832086-832727 |\n",
       "| chr1-850344-850588 |\n",
       "| chr1-851868-852263 |\n",
       "| chr1-858018-858888 |\n",
       "| chr1-860201-860429 |\n",
       "| chr1-869552-870169 |\n",
       "| chr1-876499-877657 |\n",
       "| chr1-890721-890939 |\n",
       "| chr1-898454-899038 |\n",
       "| chr1-903855-905238 |\n",
       "| chr1-912718-913119 |\n",
       "| chr1-920888-921374 |\n",
       "| chr1-923511-925295 |\n",
       "| chr1-930646-930938 |\n",
       "| chr1-940204-940639 |\n",
       "| chr1-941577-942258 |\n",
       "| chr1-958814-959669 |\n",
       "| chr1-960275-961397 |\n",
       "| chr1-966323-967178 |\n",
       "| ⋮ |\n",
       "| GL000205.2-80572-81130   |\n",
       "| GL000205.2-81490-81788   |\n",
       "| GL000205.2-87034-87235   |\n",
       "| GL000205.2-87668-88179   |\n",
       "| GL000205.2-88859-89180   |\n",
       "| GL000205.2-89429-90001   |\n",
       "| GL000205.2-140046-140919 |\n",
       "| GL000205.2-154348-154556 |\n",
       "| GL000205.2-156636-157538 |\n",
       "| GL000205.2-175121-175789 |\n",
       "| KI270711.1-7786-9486     |\n",
       "| KI270711.1-22870-23265   |\n",
       "| KI270711.1-23590-23807   |\n",
       "| KI270711.1-24079-24299   |\n",
       "| KI270711.1-29275-29509   |\n",
       "| KI270713.1-3103-3463     |\n",
       "| KI270713.1-4004-4518     |\n",
       "| KI270713.1-8342-8736     |\n",
       "| KI270713.1-13375-13598   |\n",
       "| KI270713.1-13828-14027   |\n",
       "| KI270713.1-20389-22158   |\n",
       "| KI270713.1-30444-30701   |\n",
       "| KI270713.1-31025-32027   |\n",
       "| KI270721.1-2415-2621     |\n",
       "| KI270721.1-44918-45323   |\n",
       "| KI270727.1-52257-52646   |\n",
       "| KI270731.1-4785-5028     |\n",
       "| KI270734.1-121287-121512 |\n",
       "| KI270734.1-133773-134001 |\n",
       "| KI270734.1-164006-164228 |\n",
       "\n"
      ],
      "text/plain": [
       "      V1                      \n",
       "1     chr1-9924-10463         \n",
       "2     chr1-180670-181614      \n",
       "3     chr1-191132-191626      \n",
       "4     chr1-267825-268131      \n",
       "5     chr1-586065-586270      \n",
       "6     chr1-629819-630033      \n",
       "7     chr1-633843-634122      \n",
       "8     chr1-778134-779279      \n",
       "9     chr1-804521-805018      \n",
       "10    chr1-817960-818165      \n",
       "11    chr1-826669-827770      \n",
       "12    chr1-832086-832727      \n",
       "13    chr1-850344-850588      \n",
       "14    chr1-851868-852263      \n",
       "15    chr1-858018-858888      \n",
       "16    chr1-860201-860429      \n",
       "17    chr1-869552-870169      \n",
       "18    chr1-876499-877657      \n",
       "19    chr1-890721-890939      \n",
       "20    chr1-898454-899038      \n",
       "21    chr1-903855-905238      \n",
       "22    chr1-912718-913119      \n",
       "23    chr1-920888-921374      \n",
       "24    chr1-923511-925295      \n",
       "25    chr1-930646-930938      \n",
       "26    chr1-940204-940639      \n",
       "27    chr1-941577-942258      \n",
       "28    chr1-958814-959669      \n",
       "29    chr1-960275-961397      \n",
       "30    chr1-966323-967178      \n",
       "⋮     ⋮                       \n",
       "98027 GL000205.2-80572-81130  \n",
       "98028 GL000205.2-81490-81788  \n",
       "98029 GL000205.2-87034-87235  \n",
       "98030 GL000205.2-87668-88179  \n",
       "98031 GL000205.2-88859-89180  \n",
       "98032 GL000205.2-89429-90001  \n",
       "98033 GL000205.2-140046-140919\n",
       "98034 GL000205.2-154348-154556\n",
       "98035 GL000205.2-156636-157538\n",
       "98036 GL000205.2-175121-175789\n",
       "98037 KI270711.1-7786-9486    \n",
       "98038 KI270711.1-22870-23265  \n",
       "98039 KI270711.1-23590-23807  \n",
       "98040 KI270711.1-24079-24299  \n",
       "98041 KI270711.1-29275-29509  \n",
       "98042 KI270713.1-3103-3463    \n",
       "98043 KI270713.1-4004-4518    \n",
       "98044 KI270713.1-8342-8736    \n",
       "98045 KI270713.1-13375-13598  \n",
       "98046 KI270713.1-13828-14027  \n",
       "98047 KI270713.1-20389-22158  \n",
       "98048 KI270713.1-30444-30701  \n",
       "98049 KI270713.1-31025-32027  \n",
       "98050 KI270721.1-2415-2621    \n",
       "98051 KI270721.1-44918-45323  \n",
       "98052 KI270727.1-52257-52646  \n",
       "98053 KI270731.1-4785-5028    \n",
       "98054 KI270734.1-121287-121512\n",
       "98055 KI270734.1-133773-134001\n",
       "98056 KI270734.1-164006-164228"
      ]
     },
     "metadata": {},
     "output_type": "display_data"
    }
   ],
   "source": [
    "regions <- read.table(regions, header=F, stringsAsFactors=F)\n",
    "regions"
   ]
  },
  {
   "cell_type": "code",
   "execution_count": 58,
   "metadata": {
    "vscode": {
     "languageId": "r"
    }
   },
   "outputs": [
    {
     "data": {
      "text/html": [
       "<table class=\"dataframe\">\n",
       "<caption>A data.frame: 6 × 1</caption>\n",
       "<thead>\n",
       "\t<tr><th></th><th scope=col>V1</th></tr>\n",
       "\t<tr><th></th><th scope=col>&lt;chr&gt;</th></tr>\n",
       "</thead>\n",
       "<tbody>\n",
       "\t<tr><th scope=row>1</th><td>chr1:9924-10463   </td></tr>\n",
       "\t<tr><th scope=row>2</th><td>chr1:180670-181614</td></tr>\n",
       "\t<tr><th scope=row>3</th><td>chr1:191132-191626</td></tr>\n",
       "\t<tr><th scope=row>4</th><td>chr1:267825-268131</td></tr>\n",
       "\t<tr><th scope=row>5</th><td>chr1:586065-586270</td></tr>\n",
       "\t<tr><th scope=row>6</th><td>chr1:629819-630033</td></tr>\n",
       "</tbody>\n",
       "</table>\n"
      ],
      "text/latex": [
       "A data.frame: 6 × 1\n",
       "\\begin{tabular}{r|l}\n",
       "  & V1\\\\\n",
       "  & <chr>\\\\\n",
       "\\hline\n",
       "\t1 & chr1:9924-10463   \\\\\n",
       "\t2 & chr1:180670-181614\\\\\n",
       "\t3 & chr1:191132-191626\\\\\n",
       "\t4 & chr1:267825-268131\\\\\n",
       "\t5 & chr1:586065-586270\\\\\n",
       "\t6 & chr1:629819-630033\\\\\n",
       "\\end{tabular}\n"
      ],
      "text/markdown": [
       "\n",
       "A data.frame: 6 × 1\n",
       "\n",
       "| <!--/--> | V1 &lt;chr&gt; |\n",
       "|---|---|\n",
       "| 1 | chr1:9924-10463    |\n",
       "| 2 | chr1:180670-181614 |\n",
       "| 3 | chr1:191132-191626 |\n",
       "| 4 | chr1:267825-268131 |\n",
       "| 5 | chr1:586065-586270 |\n",
       "| 6 | chr1:629819-630033 |\n",
       "\n"
      ],
      "text/plain": [
       "  V1                \n",
       "1 chr1:9924-10463   \n",
       "2 chr1:180670-181614\n",
       "3 chr1:191132-191626\n",
       "4 chr1:267825-268131\n",
       "5 chr1:586065-586270\n",
       "6 chr1:629819-630033"
      ]
     },
     "metadata": {},
     "output_type": "display_data"
    }
   ],
   "source": [
    "# replace only the first instance of  \"-\" with \":\"\n",
    "regions$V1 <- sub(\"-\", \":\", regions$V1, fixed=TRUE)\n",
    "head(regions)"
   ]
  },
  {
   "cell_type": "code",
   "execution_count": 59,
   "metadata": {
    "vscode": {
     "languageId": "r"
    }
   },
   "outputs": [],
   "source": [
    "\n",
    "write.table(regions, file=\"/cellar/users/aklie/data/datasets/igvf_sc-islet_10X-Multiome/annotation/timecourse/A2_control/filtered_signac/matrix/features.tsv\", row.names=F, col.names=F, quote=F)"
   ]
  },
  {
   "cell_type": "code",
   "execution_count": null,
   "metadata": {
    "vscode": {
     "languageId": "r"
    }
   },
   "outputs": [],
   "source": []
  }
 ],
 "metadata": {
  "kernelspec": {
   "display_name": "R 4.3.3 scverse",
   "language": "R",
   "name": "scverse-r433"
  },
  "language_info": {
   "codemirror_mode": "r",
   "file_extension": ".r",
   "mimetype": "text/x-r-source",
   "name": "R",
   "pygments_lexer": "r",
   "version": "4.3.1"
  },
  "orig_nbformat": 4
 },
 "nbformat": 4,
 "nbformat_minor": 2
}
