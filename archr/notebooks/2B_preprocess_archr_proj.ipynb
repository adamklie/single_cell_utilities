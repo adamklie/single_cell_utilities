{
 "cells": [
  {
   "attachments": {},
   "cell_type": "markdown",
   "metadata": {},
   "source": [
    "# ArchR multi-sample recipe step 3 -- run normalization, dimensionality reduction, and clustering\n",
    "**Author**: Adam Klie (last modified: 11/06/2023)<br>\n",
    "***\n",
    "**Description**: This script runs normalization, dimensionality reduction, and clustering on the ArchR project object. This script is intended to be run after the 2A_preprocess_archr_proj.ipynb script. This script is intended to be run on the cluster."
   ]
  },
  {
   "attachments": {},
   "cell_type": "markdown",
   "metadata": {},
   "source": [
    "# Set-up"
   ]
  },
  {
   "cell_type": "code",
   "execution_count": 1,
   "metadata": {
    "vscode": {
     "languageId": "r"
    }
   },
   "outputs": [],
   "source": [
    "# Load libraries\n",
    "suppressMessages(library(Seurat))\n",
    "suppressMessages(library(ArchR))\n",
    "suppressMessages(library(parallel))\n",
    "suppressMessages(library(tidyverse))"
   ]
  },
  {
   "cell_type": "code",
   "execution_count": 2,
   "metadata": {
    "vscode": {
     "languageId": "r"
    }
   },
   "outputs": [],
   "source": [
    "# Params\n",
    "archr_proj_path = \"/cellar/users/aklie/data/datasets/igvf_sc-islet_10X-Multiome/annotation/2023_11_15/archr/H1_control\"\n",
    "clustering_resolution = 0.8\n",
    "umap_neighbors = 30\n",
    "umap_min_dist = 0.5\n",
    "umap_metric = \"cosine\"\n",
    "threads = 4\n",
    "seed = 1234\n",
    "run_harmony = FALSE"
   ]
  },
  {
   "cell_type": "code",
   "execution_count": 3,
   "metadata": {
    "vscode": {
     "languageId": "r"
    }
   },
   "outputs": [
    {
     "name": "stderr",
     "output_type": "stream",
     "text": [
      "Setting default number of Parallel threads to 4.\n",
      "\n"
     ]
    }
   ],
   "source": [
    "# Move the working directory \n",
    "set.seed(seed)\n",
    "addArchRThreads(threads)\n",
    "setwd(archr_proj_path)"
   ]
  },
  {
   "attachments": {},
   "cell_type": "markdown",
   "metadata": {},
   "source": [
    "The precompiled version of the hg38 genome in ArchR uses BSgenome.Hsapiens.UCSC.hg38, TxDb.Hsapiens.UCSC.hg38.knownGene, org.Hs.eg.db, and a blacklist that was merged using ArchR::mergeGR() from the hg38 v2 blacklist regions and from mitochondrial regions that show high mappability to the hg38 nuclear genome from Caleb Lareau and Jason Buenrostro. To set a global genome default to the precompiled hg38 genome:"
   ]
  },
  {
   "cell_type": "code",
   "execution_count": 4,
   "metadata": {
    "vscode": {
     "languageId": "r"
    }
   },
   "outputs": [
    {
     "name": "stderr",
     "output_type": "stream",
     "text": [
      "Setting default genome to Hg38.\n",
      "\n"
     ]
    }
   ],
   "source": [
    "# Add annotation\n",
    "addArchRGenome(\"hg38\")"
   ]
  },
  {
   "attachments": {},
   "cell_type": "markdown",
   "metadata": {},
   "source": [
    "# Load the ArchR project"
   ]
  },
  {
   "cell_type": "code",
   "execution_count": 5,
   "metadata": {
    "vscode": {
     "languageId": "r"
    }
   },
   "outputs": [
    {
     "name": "stderr",
     "output_type": "stream",
     "text": [
      "Successfully loaded ArchRProject!\n",
      "\n",
      "\n",
      "                                                   / |\n",
      "                                                 /    \\\n",
      "            .                                  /      |.\n",
      "            \\\\\\                              /        |.\n",
      "              \\\\\\                          /           `|.\n",
      "                \\\\\\                      /              |.\n",
      "                  \\                    /                |\\\n",
      "                  \\\\#####\\           /                  ||\n",
      "                ==###########>      /                   ||\n",
      "                 \\\\##==......\\    /                     ||\n",
      "            ______ =       =|__ /__                     ||      \\\\\\\n",
      "        ,--' ,----`-,__ ___/'  --,-`-===================##========>\n",
      "       \\               '        ##_______ _____ ,--,__,=##,__   ///\n",
      "        ,    __==    ___,-,__,--'#'  ==='      `-'    | ##,-/\n",
      "        -,____,---'       \\\\####\\\\________________,--\\\\_##,/\n",
      "           ___      .______        ______  __    __  .______      \n",
      "          /   \\     |   _  \\      /      ||  |  |  | |   _  \\     \n",
      "         /  ^  \\    |  |_)  |    |  ,----'|  |__|  | |  |_)  |    \n",
      "        /  /_\\  \\   |      /     |  |     |   __   | |      /     \n",
      "       /  _____  \\  |  |\\  \\\\___ |  `----.|  |  |  | |  |\\  \\\\___.\n",
      "      /__/     \\__\\ | _| `._____| \\______||__|  |__| | _| `._____|\n",
      "    \n",
      "\n",
      "\n",
      "           ___      .______        ______  __    __  .______      \n",
      "          /   \\     |   _  \\      /      ||  |  |  | |   _  \\     \n",
      "         /  ^  \\    |  |_)  |    |  ,----'|  |__|  | |  |_)  |    \n",
      "        /  /_\\  \\   |      /     |  |     |   __   | |      /     \n",
      "       /  _____  \\  |  |\\  \\\\___ |  `----.|  |  |  | |  |\\  \\\\___.\n",
      "      /__/     \\__\\ | _| `._____| \\______||__|  |__| | _| `._____|\n",
      "    \n",
      "\n"
     ]
    },
    {
     "data": {
      "text/plain": [
       "class: ArchRProject \n",
       "outputDirectory: /cellar/users/aklie/data/datasets/igvf_sc-islet_10X-Multiome/annotation/2023_11_15/archr/H1_control \n",
       "samples(6): mo38 mo22 ... mo14 mo29\n",
       "sampleColData names(1): ArrowFiles\n",
       "cellColData names(20): Sample TSSEnrichment ... timecourse\n",
       "  rna_annotation\n",
       "numberOfCells(1): 14614\n",
       "medianTSS(1): 17.039\n",
       "medianFrags(1): 21553.5"
      ]
     },
     "metadata": {},
     "output_type": "display_data"
    }
   ],
   "source": [
    "# Load the ArchR project\n",
    "proj = loadArchRProject(path = \"./\")\n",
    "proj"
   ]
  },
  {
   "attachments": {},
   "cell_type": "markdown",
   "metadata": {},
   "source": [
    "# Add RNA metadata\n",
    "And subset based on only cells that are in the RNA metadata"
   ]
  },
  {
   "cell_type": "code",
   "execution_count": 66,
   "metadata": {
    "vscode": {
     "languageId": "r"
    }
   },
   "outputs": [
    {
     "data": {
      "text/html": [
       "<table class=\"dataframe\">\n",
       "<caption>A data.frame: 6 × 5</caption>\n",
       "<thead>\n",
       "\t<tr><th></th><th scope=col>total_counts</th><th scope=col>pct_counts_mt</th><th scope=col>sctransform_none_leiden_1</th><th scope=col>integrated_manual_cellid_annotation</th><th scope=col>sample</th></tr>\n",
       "\t<tr><th></th><th scope=col>&lt;dbl&gt;</th><th scope=col>&lt;dbl&gt;</th><th scope=col>&lt;int&gt;</th><th scope=col>&lt;chr&gt;</th><th scope=col>&lt;chr&gt;</th></tr>\n",
       "</thead>\n",
       "<tbody>\n",
       "\t<tr><th scope=row>mo1#AAACAGCCAAAGGTAC-1</th><td>8767</td><td>0.58172697</td><td> 5</td><td>SC.beta </td><td>mo1</td></tr>\n",
       "\t<tr><th scope=row>mo1#AAACAGCCACCTACTT-1</th><td>4636</td><td>0.06471096</td><td> 1</td><td>SC.EC   </td><td>mo1</td></tr>\n",
       "\t<tr><th scope=row>mo1#AAACAGCCAGCAATAA-1</th><td>7781</td><td>0.02570363</td><td>10</td><td>SC.alpha</td><td>mo1</td></tr>\n",
       "\t<tr><th scope=row>mo1#AAACCAACAACCGCCA-1</th><td>5564</td><td>0.00000000</td><td>15</td><td>SC.delta</td><td>mo1</td></tr>\n",
       "\t<tr><th scope=row>mo1#AAACCGCGTATTGTGG-1</th><td>9338</td><td>0.02141786</td><td>10</td><td>SC.alpha</td><td>mo1</td></tr>\n",
       "\t<tr><th scope=row>mo1#AAACGCGCAAGCCACT-1</th><td>6430</td><td>0.04665630</td><td> 6</td><td>SC.EC   </td><td>mo1</td></tr>\n",
       "</tbody>\n",
       "</table>\n"
      ],
      "text/latex": [
       "A data.frame: 6 × 5\n",
       "\\begin{tabular}{r|lllll}\n",
       "  & total\\_counts & pct\\_counts\\_mt & sctransform\\_none\\_leiden\\_1 & integrated\\_manual\\_cellid\\_annotation & sample\\\\\n",
       "  & <dbl> & <dbl> & <int> & <chr> & <chr>\\\\\n",
       "\\hline\n",
       "\tmo1\\#AAACAGCCAAAGGTAC-1 & 8767 & 0.58172697 &  5 & SC.beta  & mo1\\\\\n",
       "\tmo1\\#AAACAGCCACCTACTT-1 & 4636 & 0.06471096 &  1 & SC.EC    & mo1\\\\\n",
       "\tmo1\\#AAACAGCCAGCAATAA-1 & 7781 & 0.02570363 & 10 & SC.alpha & mo1\\\\\n",
       "\tmo1\\#AAACCAACAACCGCCA-1 & 5564 & 0.00000000 & 15 & SC.delta & mo1\\\\\n",
       "\tmo1\\#AAACCGCGTATTGTGG-1 & 9338 & 0.02141786 & 10 & SC.alpha & mo1\\\\\n",
       "\tmo1\\#AAACGCGCAAGCCACT-1 & 6430 & 0.04665630 &  6 & SC.EC    & mo1\\\\\n",
       "\\end{tabular}\n"
      ],
      "text/markdown": [
       "\n",
       "A data.frame: 6 × 5\n",
       "\n",
       "| <!--/--> | total_counts &lt;dbl&gt; | pct_counts_mt &lt;dbl&gt; | sctransform_none_leiden_1 &lt;int&gt; | integrated_manual_cellid_annotation &lt;chr&gt; | sample &lt;chr&gt; |\n",
       "|---|---|---|---|---|---|\n",
       "| mo1#AAACAGCCAAAGGTAC-1 | 8767 | 0.58172697 |  5 | SC.beta  | mo1 |\n",
       "| mo1#AAACAGCCACCTACTT-1 | 4636 | 0.06471096 |  1 | SC.EC    | mo1 |\n",
       "| mo1#AAACAGCCAGCAATAA-1 | 7781 | 0.02570363 | 10 | SC.alpha | mo1 |\n",
       "| mo1#AAACCAACAACCGCCA-1 | 5564 | 0.00000000 | 15 | SC.delta | mo1 |\n",
       "| mo1#AAACCGCGTATTGTGG-1 | 9338 | 0.02141786 | 10 | SC.alpha | mo1 |\n",
       "| mo1#AAACGCGCAAGCCACT-1 | 6430 | 0.04665630 |  6 | SC.EC    | mo1 |\n",
       "\n"
      ],
      "text/plain": [
       "                       total_counts pct_counts_mt sctransform_none_leiden_1\n",
       "mo1#AAACAGCCAAAGGTAC-1 8767         0.58172697     5                       \n",
       "mo1#AAACAGCCACCTACTT-1 4636         0.06471096     1                       \n",
       "mo1#AAACAGCCAGCAATAA-1 7781         0.02570363    10                       \n",
       "mo1#AAACCAACAACCGCCA-1 5564         0.00000000    15                       \n",
       "mo1#AAACCGCGTATTGTGG-1 9338         0.02141786    10                       \n",
       "mo1#AAACGCGCAAGCCACT-1 6430         0.04665630     6                       \n",
       "                       integrated_manual_cellid_annotation sample\n",
       "mo1#AAACAGCCAAAGGTAC-1 SC.beta                             mo1   \n",
       "mo1#AAACAGCCACCTACTT-1 SC.EC                               mo1   \n",
       "mo1#AAACAGCCAGCAATAA-1 SC.alpha                            mo1   \n",
       "mo1#AAACCAACAACCGCCA-1 SC.delta                            mo1   \n",
       "mo1#AAACCGCGTATTGTGG-1 SC.alpha                            mo1   \n",
       "mo1#AAACGCGCAAGCCACT-1 SC.EC                               mo1   "
      ]
     },
     "metadata": {},
     "output_type": "display_data"
    }
   ],
   "source": [
    "# Read in the csv, first column is index\n",
    "tsv.path = \"/cellar/users/aklie/data/datasets/igvf_sc-islet_10X-Multiome/annotation/2023_11_14/cellcommander/H1_control/integrated/rna/annotate_metadata.tsv\"\n",
    "rna_annotations = read.csv(tsv.path, row.names = 1, sep = \"\\t\")\n",
    "rna_sample = sapply(strsplit(rownames(rna_annotations), \"#\"), function(x) x[1])\n",
    "rna_annotations$sample = rna_sample\n",
    "rna_cellids = rownames(rna_annotations)\n",
    "head(rna_annotations)"
   ]
  },
  {
   "cell_type": "code",
   "execution_count": 67,
   "metadata": {
    "vscode": {
     "languageId": "r"
    }
   },
   "outputs": [
    {
     "name": "stdout",
     "output_type": "stream",
     "text": [
      "[1] \"In both RNA and ATAC: 14682\"\n",
      "[1] \"In RNA but not ATAC: 5856\"\n",
      "[1] \"In ATAC but not RNA: 0\"\n"
     ]
    }
   ],
   "source": [
    "# Check if all the cells are in the ArchR project\n",
    "matched_ids = intersect(rna_cellids, rownames(proj@cellColData))\n",
    "ids_not_in_atac = setdiff(rna_cellids, rownames(proj@cellColData))\n",
    "ids_not_in_rna = setdiff(rownames(proj@cellColData), rna_cellids)\n",
    "print(paste0(\"In both RNA and ATAC: \", length(matched_ids)))\n",
    "print(paste0(\"In RNA but not ATAC: \", length(ids_not_in_atac)))\n",
    "print(paste0(\"In ATAC but not RNA: \", length(ids_not_in_rna)))"
   ]
  },
  {
   "cell_type": "code",
   "execution_count": 68,
   "metadata": {
    "vscode": {
     "languageId": "r"
    }
   },
   "outputs": [
    {
     "data": {
      "text/plain": [
       "\n",
       " mo1 mo14 mo22 mo29  mo3 mo38 \n",
       "2128 1804 3155 1136 1968 4491 "
      ]
     },
     "metadata": {},
     "output_type": "display_data"
    }
   ],
   "source": [
    "# What cells are in both RNA and ATAC?\n",
    "table(rna_annotations[matched_ids,]$sample)"
   ]
  },
  {
   "cell_type": "code",
   "execution_count": 69,
   "metadata": {
    "vscode": {
     "languageId": "r"
    }
   },
   "outputs": [
    {
     "data": {
      "text/plain": [
       "\n",
       " mo1 mo14 mo22 mo29  mo3 mo38 \n",
       "1044  644 1323  350  867 1628 "
      ]
     },
     "metadata": {},
     "output_type": "display_data"
    }
   ],
   "source": [
    "# What cells are in RNA but not ATAC?\n",
    "table(rna_annotations[ids_not_in_atac,]$sample)"
   ]
  },
  {
   "cell_type": "code",
   "execution_count": 70,
   "metadata": {
    "vscode": {
     "languageId": "r"
    }
   },
   "outputs": [
    {
     "data": {
      "text/plain": [
       "< table of extent 0 >"
      ]
     },
     "metadata": {},
     "output_type": "display_data"
    }
   ],
   "source": [
    "# What cells are in ATAC but not RNA?\n",
    "table(proj@cellColData[ids_not_in_rna,]$Sample)"
   ]
  },
  {
   "cell_type": "code",
   "execution_count": 71,
   "metadata": {
    "vscode": {
     "languageId": "r"
    }
   },
   "outputs": [
    {
     "data": {
      "text/html": [
       "14682"
      ],
      "text/latex": [
       "14682"
      ],
      "text/markdown": [
       "14682"
      ],
      "text/plain": [
       "[1] 14682"
      ]
     },
     "metadata": {},
     "output_type": "display_data"
    }
   ],
   "source": [
    "# Subset the proj to only cells that are in both RNA and ATAC\n",
    "idxSample <- BiocGenerics::which(proj$cellNames %in% matched_ids)\n",
    "length(idxSample)"
   ]
  },
  {
   "cell_type": "code",
   "execution_count": 72,
   "metadata": {
    "vscode": {
     "languageId": "r"
    }
   },
   "outputs": [
    {
     "name": "stderr",
     "output_type": "stream",
     "text": [
      "\n",
      "           ___      .______        ______  __    __  .______      \n",
      "          /   \\     |   _  \\      /      ||  |  |  | |   _  \\     \n",
      "         /  ^  \\    |  |_)  |    |  ,----'|  |__|  | |  |_)  |    \n",
      "        /  /_\\  \\   |      /     |  |     |   __   | |      /     \n",
      "       /  _____  \\  |  |\\  \\\\___ |  `----.|  |  |  | |  |\\  \\\\___.\n",
      "      /__/     \\__\\ | _| `._____| \\______||__|  |__| | _| `._____|\n",
      "    \n",
      "\n"
     ]
    },
    {
     "data": {
      "text/plain": [
       "class: ArchRProject \n",
       "outputDirectory: /cellar/users/aklie/data/datasets/igvf_sc-islet_10X-Multiome/annotation/07Nov23/archr/MO_control \n",
       "samples(6): mo38 mo22 ... mo14 mo29\n",
       "sampleColData names(1): ArrowFiles\n",
       "cellColData names(21): Sample TSSEnrichment ... rna_annotation Clusters\n",
       "numberOfCells(1): 14682\n",
       "medianTSS(1): 17.044\n",
       "medianFrags(1): 21581.5"
      ]
     },
     "metadata": {},
     "output_type": "display_data"
    }
   ],
   "source": [
    "# Actually subset the proj\n",
    "proj <- proj[idxSample,]\n",
    "proj"
   ]
  },
  {
   "cell_type": "code",
   "execution_count": 76,
   "metadata": {
    "vscode": {
     "languageId": "r"
    }
   },
   "outputs": [],
   "source": [
    "rna_annotations = rna_annotations[proj$cellNames, ]"
   ]
  },
  {
   "cell_type": "code",
   "execution_count": 77,
   "metadata": {
    "vscode": {
     "languageId": "r"
    }
   },
   "outputs": [],
   "source": [
    "# Add the RNA annotations\n",
    "proj$rna_annotation <- rna_annotations$integrated_manual_cellid_annotation"
   ]
  },
  {
   "cell_type": "code",
   "execution_count": 78,
   "metadata": {
    "vscode": {
     "languageId": "r"
    }
   },
   "outputs": [
    {
     "data": {
      "text/plain": [
       ".\n",
       "   other SC.alpha  SC.beta SC.delta    SC.EC \n",
       "     803     3727     5021      186     4945 "
      ]
     },
     "metadata": {},
     "output_type": "display_data"
    }
   ],
   "source": [
    "proj@cellColData$rna_annotation %>% table()"
   ]
  },
  {
   "attachments": {},
   "cell_type": "markdown",
   "metadata": {},
   "source": [
    "# Dimensionality reduction"
   ]
  },
  {
   "cell_type": "code",
   "execution_count": 33,
   "metadata": {
    "vscode": {
     "languageId": "r"
    }
   },
   "outputs": [
    {
     "name": "stderr",
     "output_type": "stream",
     "text": [
      "Checking Inputs...\n",
      "\n"
     ]
    },
    {
     "name": "stderr",
     "output_type": "stream",
     "text": [
      "ArchR logging to : ArchRLogs/ArchR-addIterativeLSI-349345437865b5-Date-2023-11-14_Time-15-06-24.371375.log\n",
      "If there is an issue, please report to github with logFile!\n",
      "\n",
      "2023-11-14 15:07:09.353914 : Computing Total Across All Features, 0.27 mins elapsed.\n",
      "\n",
      "2023-11-14 15:07:39.008897 : Computing Top Features, 0.764 mins elapsed.\n",
      "\n",
      "###########\n",
      "2023-11-14 15:07:39.911728 : Running LSI (1 of 2) on Top Features, 0.779 mins elapsed.\n",
      "###########\n",
      "\n",
      "2023-11-14 15:07:39.955793 : Sampling Cells (N = 10002) for Estimated LSI, 0.78 mins elapsed.\n",
      "\n",
      "2023-11-14 15:07:39.960797 : Creating Sampled Partial Matrix, 0.78 mins elapsed.\n",
      "\n",
      "2023-11-14 15:08:10.833876 : Computing Estimated LSI (projectAll = FALSE), 1.295 mins elapsed.\n",
      "\n",
      "Filtering 1 dims correlated > 0.75 to log10(depth + 1)\n",
      "\n",
      "2023-11-14 15:09:39.208501 : Identifying Clusters, 2.768 mins elapsed.\n",
      "\n",
      "2023-11-14 15:09:49.572423 : Identified 6 Clusters, 2.94 mins elapsed.\n",
      "\n",
      "2023-11-14 15:09:49.646146 : Saving LSI Iteration, 2.942 mins elapsed.\n",
      "\n",
      "2023-11-14 15:10:13.569952 : Creating Cluster Matrix on the total Group Features, 3.34 mins elapsed.\n",
      "\n",
      "2023-11-14 15:10:45.671402 : Computing Variable Features, 3.875 mins elapsed.\n",
      "\n",
      "###########\n",
      "2023-11-14 15:10:45.796747 : Running LSI (2 of 2) on Variable Features, 3.878 mins elapsed.\n",
      "###########\n",
      "\n",
      "2023-11-14 15:10:45.817053 : Creating Partial Matrix, 3.878 mins elapsed.\n",
      "\n",
      "2023-11-14 15:11:12.197248 : Computing LSI, 4.318 mins elapsed.\n",
      "\n",
      "2023-11-14 15:12:53.79948 : Finished Running IterativeLSI, 6.011 mins elapsed.\n",
      "\n"
     ]
    }
   ],
   "source": [
    "# ArchR dim reduection\n",
    "proj = addIterativeLSI(\n",
    "    proj,  \n",
    "    useMatrix = \"TileMatrix\",\n",
    "    name = \"IterativeLSI\", \n",
    "    force = T\n",
    ")"
   ]
  },
  {
   "attachments": {},
   "cell_type": "markdown",
   "metadata": {},
   "source": [
    "# Clustering"
   ]
  },
  {
   "cell_type": "code",
   "execution_count": 34,
   "metadata": {
    "vscode": {
     "languageId": "r"
    }
   },
   "outputs": [
    {
     "name": "stderr",
     "output_type": "stream",
     "text": [
      "ArchR logging to : ArchRLogs/ArchR-addClusters-349345411e631-Date-2023-11-14_Time-15-13-05.798936.log\n",
      "If there is an issue, please report to github with logFile!\n",
      "\n"
     ]
    },
    {
     "name": "stderr",
     "output_type": "stream",
     "text": [
      "Filtering 1 dims correlated > 0.75 to log10(depth + 1)\n",
      "\n",
      "2023-11-14 15:13:09.444488 : Running Seurats FindClusters (Stuart et al. Cell 2019), 0.002 mins elapsed.\n",
      "\n",
      "Computing nearest neighbor graph\n",
      "\n",
      "Computing SNN\n",
      "\n"
     ]
    },
    {
     "name": "stdout",
     "output_type": "stream",
     "text": [
      "Modularity Optimizer version 1.3.0 by Ludo Waltman and Nees Jan van Eck\n",
      "\n",
      "Number of nodes: 14682\n",
      "Number of edges: 416277\n",
      "\n",
      "Running Louvain algorithm...\n",
      "Maximum modularity in 10 random starts: 0.7677\n",
      "Number of communities: 9\n",
      "Elapsed time: 1 seconds\n"
     ]
    },
    {
     "name": "stderr",
     "output_type": "stream",
     "text": [
      "2023-11-14 15:13:21.224174 : Testing Biased Clusters, 0.198 mins elapsed.\n",
      "\n",
      "2023-11-14 15:13:21.25685 : Testing Outlier Clusters, 0.198 mins elapsed.\n",
      "\n",
      "2023-11-14 15:13:21.263397 : Assigning Cluster Names to 9 Clusters, 0.199 mins elapsed.\n",
      "\n",
      "2023-11-14 15:13:21.32324 : Finished addClusters, 0.2 mins elapsed.\n",
      "\n"
     ]
    }
   ],
   "source": [
    "# Run clustering\n",
    "proj = addClusters(\n",
    "    proj, \n",
    "    reducedDims = \"IterativeLSI\",\n",
    "    method = \"Seurat\",\n",
    "    name = \"Clusters\",\n",
    "    resolution = clustering_resolution,\n",
    "    force = TRUE\n",
    ")"
   ]
  },
  {
   "attachments": {},
   "cell_type": "markdown",
   "metadata": {},
   "source": [
    "# Optionally run Harmony"
   ]
  },
  {
   "cell_type": "code",
   "execution_count": 35,
   "metadata": {
    "vscode": {
     "languageId": "r"
    }
   },
   "outputs": [
    {
     "name": "stdout",
     "output_type": "stream",
     "text": [
      "[1] \"Using IterativeLSI\"\n"
     ]
    }
   ],
   "source": [
    "if (run_harmony) {\n",
    "    # Run Harmony\n",
    "    print(\"Running Harmony\")\n",
    "    proj = addHarmony(\n",
    "        ArchRProj = proj, \n",
    "        reducedDims = \"IterativeLSI\", \n",
    "        name = \"Harmony\", \n",
    "        groupBy = \"SampleID\"\n",
    "    )\n",
    "    reduction = \"Harmony\"\n",
    "} else {\n",
    "    print(\"Using IterativeLSI\")\n",
    "    reduction = \"IterativeLSI\"\n",
    "}"
   ]
  },
  {
   "attachments": {},
   "cell_type": "markdown",
   "metadata": {},
   "source": [
    "# UMAP"
   ]
  },
  {
   "cell_type": "code",
   "execution_count": 36,
   "metadata": {
    "vscode": {
     "languageId": "r"
    }
   },
   "outputs": [
    {
     "name": "stderr",
     "output_type": "stream",
     "text": [
      "Filtering 1 dims correlated > 0.75 to log10(depth + 1)\n",
      "\n",
      "15:13:21 UMAP embedding parameters a = 0.583 b = 1.334\n",
      "\n",
      "15:13:21 Read 14682 rows and found 29 numeric columns\n",
      "\n",
      "15:13:21 Using Annoy for neighbor search, n_neighbors = 30\n",
      "\n",
      "15:13:21 Building Annoy index with metric = cosine, n_trees = 50\n",
      "\n",
      "0%   10   20   30   40   50   60   70   80   90   100%\n",
      "\n",
      "[----|----|----|----|----|----|----|----|----|----|\n",
      "\n",
      "*\n",
      "*\n",
      "*\n"
     ]
    },
    {
     "name": "stderr",
     "output_type": "stream",
     "text": [
      "*\n",
      "*\n",
      "*\n",
      "*\n",
      "*\n",
      "*\n",
      "*\n",
      "*\n",
      "*\n",
      "*\n",
      "*\n",
      "*\n",
      "*\n",
      "*\n",
      "*\n",
      "*\n",
      "*\n",
      "*\n",
      "*\n",
      "*\n",
      "*\n",
      "*\n",
      "*\n",
      "*\n",
      "*\n",
      "*\n",
      "*\n",
      "*\n",
      "*\n",
      "*\n",
      "*\n",
      "*\n",
      "*\n",
      "*\n",
      "*\n",
      "*\n",
      "*\n",
      "*\n",
      "*\n",
      "*\n",
      "*\n",
      "*\n",
      "*\n",
      "*\n",
      "*\n",
      "*\n",
      "*\n",
      "|\n",
      "\n",
      "15:13:22 Writing NN index file to temp file /tmp/RtmpZaF9Ty/file3493451072c7c9\n",
      "\n",
      "15:13:22 Searching Annoy index using 64 threads, search_k = 3000\n",
      "\n",
      "15:13:23 Annoy recall = 100%\n",
      "\n",
      "15:13:24 Commencing smooth kNN distance calibration using 64 threads\n",
      " with target n_neighbors = 30\n",
      "\n",
      "15:13:25 Initializing from normalized Laplacian + noise (using irlba)\n",
      "\n",
      "15:13:25 Commencing optimization for 200 epochs, with 708230 positive edges\n",
      "\n",
      "15:13:32 Optimization finished\n",
      "\n",
      "15:13:32 Creating temp model dir /tmp/RtmpZaF9Ty/dir3493455c59f2e0\n",
      "\n",
      "15:13:32 Creating dir /tmp/RtmpZaF9Ty/dir3493455c59f2e0\n",
      "\n",
      "15:13:33 Changing to /tmp/RtmpZaF9Ty/dir3493455c59f2e0\n",
      "\n",
      "15:13:33 Creating /cellar/users/aklie/data/datasets/igvf_sc-islet_10X-Multiome/annotation/07Nov23/archr/MO_control/Embeddings/Save-Uwot-UMAP-Params-IterativeLSI-3493457aa7004b-Date-2023-11-14_Time-15-13-32.535832.tar\n",
      "\n"
     ]
    }
   ],
   "source": [
    "# Run UMAP\n",
    "proj <- addUMAP(\n",
    "    ArchRProj = proj, \n",
    "    reducedDims = reduction,\n",
    "    name = \"UMAP\", \n",
    "    nNeighbors = 30, \n",
    "    minDist = 0.5, \n",
    "    metric = \"cosine\"\n",
    ")"
   ]
  },
  {
   "attachments": {},
   "cell_type": "markdown",
   "metadata": {},
   "source": [
    "# Save"
   ]
  },
  {
   "cell_type": "code",
   "execution_count": 84,
   "metadata": {
    "vscode": {
     "languageId": "r"
    }
   },
   "outputs": [
    {
     "name": "stderr",
     "output_type": "stream",
     "text": [
      "Saving ArchRProject...\n",
      "\n",
      "Loading ArchRProject...\n",
      "\n",
      "Successfully loaded ArchRProject!\n",
      "\n",
      "\n",
      "                                                   / |\n",
      "                                                 /    \\\n",
      "            .                                  /      |.\n",
      "            \\\\\\                              /        |.\n",
      "              \\\\\\                          /           `|.\n",
      "                \\\\\\                      /              |.\n",
      "                  \\                    /                |\\\n",
      "                  \\\\#####\\           /                  ||\n",
      "                ==###########>      /                   ||\n",
      "                 \\\\##==......\\    /                     ||\n",
      "            ______ =       =|__ /__                     ||      \\\\\\\n",
      "        ,--' ,----`-,__ ___/'  --,-`-===================##========>\n",
      "       \\               '        ##_______ _____ ,--,__,=##,__   ///\n",
      "        ,    __==    ___,-,__,--'#'  ==='      `-'    | ##,-/\n",
      "        -,____,---'       \\\\####\\\\________________,--\\\\_##,/\n",
      "           ___      .______        ______  __    __  .______      \n",
      "          /   \\     |   _  \\      /      ||  |  |  | |   _  \\     \n",
      "         /  ^  \\    |  |_)  |    |  ,----'|  |__|  | |  |_)  |    \n",
      "        /  /_\\  \\   |      /     |  |     |   __   | |      /     \n",
      "       /  _____  \\  |  |\\  \\\\___ |  `----.|  |  |  | |  |\\  \\\\___.\n",
      "      /__/     \\__\\ | _| `._____| \\______||__|  |__| | _| `._____|\n",
      "    \n",
      "\n",
      "\n",
      "           ___      .______        ______  __    __  .______      \n",
      "          /   \\     |   _  \\      /      ||  |  |  | |   _  \\     \n",
      "         /  ^  \\    |  |_)  |    |  ,----'|  |__|  | |  |_)  |    \n",
      "        /  /_\\  \\   |      /     |  |     |   __   | |      /     \n",
      "       /  _____  \\  |  |\\  \\\\___ |  `----.|  |  |  | |  |\\  \\\\___.\n",
      "      /__/     \\__\\ | _| `._____| \\______||__|  |__| | _| `._____|\n",
      "    \n",
      "\n"
     ]
    },
    {
     "data": {
      "text/plain": [
       "class: ArchRProject \n",
       "outputDirectory: /cellar/users/aklie/data/datasets/igvf_sc-islet_10X-Multiome/annotation/07Nov23/archr/MO_control \n",
       "samples(6): mo38 mo22 ... mo14 mo29\n",
       "sampleColData names(1): ArrowFiles\n",
       "cellColData names(21): Sample TSSEnrichment ... rna_annotation Clusters\n",
       "numberOfCells(1): 14682\n",
       "medianTSS(1): 17.044\n",
       "medianFrags(1): 21581.5"
      ]
     },
     "metadata": {},
     "output_type": "display_data"
    }
   ],
   "source": [
    "# Save object with new stuff added\n",
    "saveArchRProject(\n",
    "  ArchRProj = proj,\n",
    "  outputDirectory = \"./\",\n",
    ")"
   ]
  },
  {
   "attachments": {},
   "cell_type": "markdown",
   "metadata": {},
   "source": [
    "# DONE"
   ]
  },
  {
   "attachments": {},
   "cell_type": "markdown",
   "metadata": {},
   "source": [
    "---"
   ]
  }
 ],
 "metadata": {
  "kernelspec": {
   "display_name": "R 4.3.3 scverse",
   "language": "R",
   "name": "scverse-r433"
  },
  "language_info": {
   "codemirror_mode": "r",
   "file_extension": ".r",
   "mimetype": "text/x-r-source",
   "name": "R",
   "pygments_lexer": "r",
   "version": "4.3.1"
  },
  "orig_nbformat": 4
 },
 "nbformat": 4,
 "nbformat_minor": 2
}
