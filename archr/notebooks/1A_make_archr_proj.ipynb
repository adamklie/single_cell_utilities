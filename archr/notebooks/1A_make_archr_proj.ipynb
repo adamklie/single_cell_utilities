{
 "cells": [
  {
   "attachments": {},
   "cell_type": "markdown",
   "metadata": {},
   "source": [
    "# ArchR multi-sample recipe step 1 -- initialize an ArchR project\n",
    "**Author**: Adam Klie (last modified: 11/06/2023)<br>\n",
    "***\n",
    "**Description**: This script creates a ArchR project from a set of fragment or bam files. It performs QC and filtering upon creation of the separate arrow files for each input file, detects and filters doublets, and saves an ArchR project."
   ]
  },
  {
   "attachments": {},
   "cell_type": "markdown",
   "metadata": {},
   "source": [
    "# Set-up"
   ]
  },
  {
   "cell_type": "code",
   "execution_count": 1,
   "metadata": {
    "vscode": {
     "languageId": "r"
    }
   },
   "outputs": [
    {
     "name": "stderr",
     "output_type": "stream",
     "text": [
      "Warning message:\n",
      "“package ‘S4Vectors’ was built under R version 4.3.2”\n",
      "Warning message:\n",
      "“package ‘BiocGenerics’ was built under R version 4.3.2”\n",
      "Warning message:\n",
      "“package ‘GenomicRanges’ was built under R version 4.3.2”\n",
      "Warning message:\n",
      "“package ‘IRanges’ was built under R version 4.3.2”\n",
      "Warning message:\n",
      "“package ‘GenomeInfoDb’ was built under R version 4.3.2”\n",
      "Warning message:\n",
      "“package ‘SummarizedExperiment’ was built under R version 4.3.2”\n",
      "Warning message:\n",
      "“package ‘MatrixGenerics’ was built under R version 4.3.2”\n",
      "Warning message:\n",
      "“package ‘Biobase’ was built under R version 4.3.2”\n"
     ]
    }
   ],
   "source": [
    "# Load libraries\n",
    "suppressMessages(library(Seurat))\n",
    "suppressMessages(library(ArchR))\n",
    "suppressMessages(library(parallel))\n",
    "suppressMessages(library(tidyverse))"
   ]
  },
  {
   "cell_type": "code",
   "execution_count": 2,
   "metadata": {
    "vscode": {
     "languageId": "r"
    }
   },
   "outputs": [
    {
     "name": "stderr",
     "output_type": "stream",
     "text": [
      "Setting default number of Parallel threads to 4.\n",
      "\n"
     ]
    }
   ],
   "source": [
    "# Move the working directory \n",
    "set.seed(1234)\n",
    "addArchRThreads(4)\n",
    "setwd(\"/cellar/users/aklie/data/datasets/igvf_sc-islet_10X-Multiome/annotation/all/archr\")"
   ]
  },
  {
   "attachments": {},
   "cell_type": "markdown",
   "metadata": {},
   "source": [
    "The precompiled version of the hg38 genome in ArchR uses BSgenome.Hsapiens.UCSC.hg38, TxDb.Hsapiens.UCSC.hg38.knownGene, org.Hs.eg.db, and a blacklist that was merged using ArchR::mergeGR() from the hg38 v2 blacklist regions and from mitochondrial regions that show high mappability to the hg38 nuclear genome from Caleb Lareau and Jason Buenrostro. To set a global genome default to the precompiled hg38 genome:"
   ]
  },
  {
   "cell_type": "code",
   "execution_count": 3,
   "metadata": {
    "vscode": {
     "languageId": "r"
    }
   },
   "outputs": [
    {
     "name": "stderr",
     "output_type": "stream",
     "text": [
      "Setting default genome to Hg38.\n",
      "\n"
     ]
    }
   ],
   "source": [
    "# Add annotation\n",
    "addArchRGenome(\"hg38\")"
   ]
  },
  {
   "cell_type": "code",
   "execution_count": 4,
   "metadata": {
    "vscode": {
     "languageId": "r"
    }
   },
   "outputs": [
    {
     "data": {
      "text/html": [
       "<style>\n",
       ".dl-inline {width: auto; margin:0; padding: 0}\n",
       ".dl-inline>dt, .dl-inline>dd {float: none; width: auto; display: inline-block}\n",
       ".dl-inline>dt::after {content: \":\\0020\"; padding-right: .5ex}\n",
       ".dl-inline>dt:not(:first-of-type) {padding-left: .5ex}\n",
       "</style><dl class=dl-inline><dt>mo1</dt><dd>'/cellar/users/aklie/data/datasets/igvf_sc-islet_10X-Multiome/processed/21Jul23/igvf_mo1_deep/outs/atac_fragments.tsv.gz'</dd><dt>mo3</dt><dd>'/cellar/users/aklie/data/datasets/igvf_sc-islet_10X-Multiome/processed/21Jul23/igvf_mo3_deep/outs/atac_fragments.tsv.gz'</dd></dl>\n"
      ],
      "text/latex": [
       "\\begin{description*}\n",
       "\\item[mo1] '/cellar/users/aklie/data/datasets/igvf\\_sc-islet\\_10X-Multiome/processed/21Jul23/igvf\\_mo1\\_deep/outs/atac\\_fragments.tsv.gz'\n",
       "\\item[mo3] '/cellar/users/aklie/data/datasets/igvf\\_sc-islet\\_10X-Multiome/processed/21Jul23/igvf\\_mo3\\_deep/outs/atac\\_fragments.tsv.gz'\n",
       "\\end{description*}\n"
      ],
      "text/markdown": [
       "mo1\n",
       ":   '/cellar/users/aklie/data/datasets/igvf_sc-islet_10X-Multiome/processed/21Jul23/igvf_mo1_deep/outs/atac_fragments.tsv.gz'mo3\n",
       ":   '/cellar/users/aklie/data/datasets/igvf_sc-islet_10X-Multiome/processed/21Jul23/igvf_mo3_deep/outs/atac_fragments.tsv.gz'\n",
       "\n"
      ],
      "text/plain": [
       "                                                                                                                      mo1 \n",
       "\"/cellar/users/aklie/data/datasets/igvf_sc-islet_10X-Multiome/processed/21Jul23/igvf_mo1_deep/outs/atac_fragments.tsv.gz\" \n",
       "                                                                                                                      mo3 \n",
       "\"/cellar/users/aklie/data/datasets/igvf_sc-islet_10X-Multiome/processed/21Jul23/igvf_mo3_deep/outs/atac_fragments.tsv.gz\" "
      ]
     },
     "metadata": {},
     "output_type": "display_data"
    }
   ],
   "source": [
    "# List samples to work with\n",
    "samples <- c(\"mo1\", \"mo3\")\n",
    "inputFiles = paste0(\n",
    "    \"/cellar/users/aklie/data/datasets/igvf_sc-islet_10X-Multiome/processed/21Jul23/igvf_\",\n",
    "    samples,\n",
    "    \"_deep/outs/atac_fragments.tsv.gz\"\n",
    ")\n",
    "names(inputFiles) = samples\n",
    "inputFiles"
   ]
  },
  {
   "attachments": {},
   "cell_type": "markdown",
   "metadata": {},
   "source": [
    "# Make the arrow files"
   ]
  },
  {
   "cell_type": "code",
   "execution_count": null,
   "metadata": {
    "vscode": {
     "languageId": "r"
    }
   },
   "outputs": [],
   "source": [
    "# Make arrow files \n",
    "ArrowFiles <- createArrowFiles(\n",
    "  inputFiles = inputFiles,\n",
    "  sampleNames = names(inputFiles),\n",
    "  minTSS = 4,\n",
    "  minFrags = 1000, \n",
    "  excludeChr = c(\"chrM\"),\n",
    "  addTileMat = TRUE,\n",
    "  addGeneScoreMat = TRUE\n",
    ")"
   ]
  },
  {
   "attachments": {},
   "cell_type": "markdown",
   "metadata": {},
   "source": [
    "# Create project"
   ]
  },
  {
   "cell_type": "code",
   "execution_count": null,
   "metadata": {
    "vscode": {
     "languageId": "r"
    }
   },
   "outputs": [],
   "source": [
    "# Make archr project\n",
    "proj <- ArchRProject(\n",
    "    ArrowFiles = ArrowFiles, \n",
    "    outputDirectory = \"./\"   \n",
    ")"
   ]
  },
  {
   "cell_type": "code",
   "execution_count": null,
   "metadata": {
    "vscode": {
     "languageId": "r"
    }
   },
   "outputs": [],
   "source": [
    "# Check memory size\n",
    "paste0(\"Memory Size = \", round(object.size(proj) / 10^6, 3), \" MB\")"
   ]
  },
  {
   "attachments": {},
   "cell_type": "markdown",
   "metadata": {},
   "source": [
    "# Add doublet scores"
   ]
  },
  {
   "cell_type": "code",
   "execution_count": null,
   "metadata": {
    "vscode": {
     "languageId": "r"
    }
   },
   "outputs": [],
   "source": [
    "# add doublet scores and filter\n",
    "proj = addDoubletScores(proj, k = 10, knnMethod = \"LSI\")\n",
    "proj = filterDoublets(proj)"
   ]
  },
  {
   "attachments": {},
   "cell_type": "markdown",
   "metadata": {},
   "source": [
    "# Save"
   ]
  },
  {
   "cell_type": "code",
   "execution_count": null,
   "metadata": {
    "vscode": {
     "languageId": "r"
    }
   },
   "outputs": [],
   "source": [
    "# Save the post filtering metadata, these can be considered high quality cells\n",
    "proj_meta = as.data.frame(proj@cellColData)\n",
    "write.csv(\n",
    "  as.data.frame(proj@cellColData),\n",
    "  file=paste0(\"snatac_metadata.csv\")\n",
    ")"
   ]
  },
  {
   "cell_type": "code",
   "execution_count": null,
   "metadata": {
    "vscode": {
     "languageId": "r"
    }
   },
   "outputs": [],
   "source": [
    "# Save the archr project\n",
    "saveArchRProject(\n",
    "  ArchRProj = proj,\n",
    "  outputDirectory = \"./\"\n",
    ")"
   ]
  },
  {
   "attachments": {},
   "cell_type": "markdown",
   "metadata": {},
   "source": [
    "# DONE!"
   ]
  },
  {
   "attachments": {},
   "cell_type": "markdown",
   "metadata": {},
   "source": [
    "---"
   ]
  },
  {
   "attachments": {},
   "cell_type": "markdown",
   "metadata": {},
   "source": [
    "# Scratch"
   ]
  },
  {
   "attachments": {},
   "cell_type": "markdown",
   "metadata": {},
   "source": [
    "## Optional additions to project"
   ]
  },
  {
   "cell_type": "code",
   "execution_count": 17,
   "metadata": {
    "vscode": {
     "languageId": "r"
    }
   },
   "outputs": [
    {
     "name": "stderr",
     "output_type": "stream",
     "text": [
      "Successfully loaded ArchRProject!\n",
      "\n",
      "\n",
      "                                                   / |\n",
      "                                                 /    \\\n",
      "            .                                  /      |.\n",
      "            \\\\\\                              /        |.\n",
      "              \\\\\\                          /           `|.\n",
      "                \\\\\\                      /              |.\n",
      "                  \\                    /                |\\\n",
      "                  \\\\#####\\           /                  ||\n",
      "                ==###########>      /                   ||\n",
      "                 \\\\##==......\\    /                     ||\n",
      "            ______ =       =|__ /__                     ||      \\\\\\\n",
      "        ,--' ,----`-,__ ___/'  --,-`-===================##========>\n",
      "       \\               '        ##_______ _____ ,--,__,=##,__   ///\n",
      "        ,    __==    ___,-,__,--'#'  ==='      `-'    | ##,-/\n",
      "        -,____,---'       \\\\####\\\\________________,--\\\\_##,/\n",
      "           ___      .______        ______  __    __  .______      \n",
      "          /   \\     |   _  \\      /      ||  |  |  | |   _  \\     \n",
      "         /  ^  \\    |  |_)  |    |  ,----'|  |__|  | |  |_)  |    \n",
      "        /  /_\\  \\   |      /     |  |     |   __   | |      /     \n",
      "       /  _____  \\  |  |\\  \\\\___ |  `----.|  |  |  | |  |\\  \\\\___.\n",
      "      /__/     \\__\\ | _| `._____| \\______||__|  |__| | _| `._____|\n",
      "    \n",
      "\n",
      "\n",
      "           ___      .______        ______  __    __  .______      \n",
      "          /   \\     |   _  \\      /      ||  |  |  | |   _  \\     \n",
      "         /  ^  \\    |  |_)  |    |  ,----'|  |__|  | |  |_)  |    \n",
      "        /  /_\\  \\   |      /     |  |     |   __   | |      /     \n",
      "       /  _____  \\  |  |\\  \\\\___ |  `----.|  |  |  | |  |\\  \\\\___.\n",
      "      /__/     \\__\\ | _| `._____| \\______||__|  |__| | _| `._____|\n",
      "    \n",
      "\n"
     ]
    },
    {
     "data": {
      "text/plain": [
       "class: ArchRProject \n",
       "outputDirectory: /cellar/users/aklie/data/datasets/igvf_sc-islet_10X-Multiome/annotation/all/archr \n",
       "samples(26): dm44a mo9 ... dm24a mo29\n",
       "sampleColData names(1): ArrowFiles\n",
       "cellColData names(15): Sample TSSEnrichment ... DoubletScore\n",
       "  DoubletEnrichment\n",
       "numberOfCells(1): 136058\n",
       "medianTSS(1): 13.264\n",
       "medianFrags(1): 18404"
      ]
     },
     "metadata": {},
     "output_type": "display_data"
    }
   ],
   "source": [
    "# Load the ArchR project\n",
    "proj = loadArchRProject(path = \"./\")\n",
    "proj"
   ]
  },
  {
   "attachments": {},
   "cell_type": "markdown",
   "metadata": {},
   "source": [
    "### Add project metadata"
   ]
  },
  {
   "cell_type": "code",
   "execution_count": 18,
   "metadata": {
    "vscode": {
     "languageId": "r"
    }
   },
   "outputs": [],
   "source": [
    "project_metadata_path <- \"/cellar/users/aklie/data/datasets/igvf_sc-islet_10X-Multiome/metadata/sample_metadata.tsv\""
   ]
  },
  {
   "cell_type": "code",
   "execution_count": 19,
   "metadata": {
    "vscode": {
     "languageId": "r"
    }
   },
   "outputs": [
    {
     "data": {
      "text/html": [
       "<table class=\"dataframe\">\n",
       "<caption>A data.frame: 6 × 5</caption>\n",
       "<thead>\n",
       "\t<tr><th></th><th scope=col>sample_id</th><th scope=col>batch</th><th scope=col>timepoint</th><th scope=col>condition</th><th scope=col>timecourse</th></tr>\n",
       "\t<tr><th></th><th scope=col>&lt;chr&gt;</th><th scope=col>&lt;chr&gt;</th><th scope=col>&lt;int&gt;</th><th scope=col>&lt;chr&gt;</th><th scope=col>&lt;chr&gt;</th></tr>\n",
       "</thead>\n",
       "<tbody>\n",
       "\t<tr><th scope=row>1</th><td>dm11a</td><td>A2</td><td> 6</td><td>3-cyt  </td><td>A2_3-cyt  </td></tr>\n",
       "\t<tr><th scope=row>2</th><td>dm12b</td><td>A2</td><td> 6</td><td>IFNg   </td><td>A2_IFNg   </td></tr>\n",
       "\t<tr><th scope=row>3</th><td>dm14b</td><td>A2</td><td> 6</td><td>Ex-4_HG</td><td>A2_Ex-4_HG</td></tr>\n",
       "\t<tr><th scope=row>4</th><td>dm21a</td><td>A2</td><td>24</td><td>3-cyt  </td><td>A2_3-cyt  </td></tr>\n",
       "\t<tr><th scope=row>5</th><td>dm23a</td><td>A2</td><td>24</td><td>dex    </td><td>A2_dex    </td></tr>\n",
       "\t<tr><th scope=row>6</th><td>dm24a</td><td>A2</td><td>24</td><td>Ex-4_HG</td><td>A2_Ex-4_HG</td></tr>\n",
       "</tbody>\n",
       "</table>\n"
      ],
      "text/latex": [
       "A data.frame: 6 × 5\n",
       "\\begin{tabular}{r|lllll}\n",
       "  & sample\\_id & batch & timepoint & condition & timecourse\\\\\n",
       "  & <chr> & <chr> & <int> & <chr> & <chr>\\\\\n",
       "\\hline\n",
       "\t1 & dm11a & A2 &  6 & 3-cyt   & A2\\_3-cyt  \\\\\n",
       "\t2 & dm12b & A2 &  6 & IFNg    & A2\\_IFNg   \\\\\n",
       "\t3 & dm14b & A2 &  6 & Ex-4\\_HG & A2\\_Ex-4\\_HG\\\\\n",
       "\t4 & dm21a & A2 & 24 & 3-cyt   & A2\\_3-cyt  \\\\\n",
       "\t5 & dm23a & A2 & 24 & dex     & A2\\_dex    \\\\\n",
       "\t6 & dm24a & A2 & 24 & Ex-4\\_HG & A2\\_Ex-4\\_HG\\\\\n",
       "\\end{tabular}\n"
      ],
      "text/markdown": [
       "\n",
       "A data.frame: 6 × 5\n",
       "\n",
       "| <!--/--> | sample_id &lt;chr&gt; | batch &lt;chr&gt; | timepoint &lt;int&gt; | condition &lt;chr&gt; | timecourse &lt;chr&gt; |\n",
       "|---|---|---|---|---|---|\n",
       "| 1 | dm11a | A2 |  6 | 3-cyt   | A2_3-cyt   |\n",
       "| 2 | dm12b | A2 |  6 | IFNg    | A2_IFNg    |\n",
       "| 3 | dm14b | A2 |  6 | Ex-4_HG | A2_Ex-4_HG |\n",
       "| 4 | dm21a | A2 | 24 | 3-cyt   | A2_3-cyt   |\n",
       "| 5 | dm23a | A2 | 24 | dex     | A2_dex     |\n",
       "| 6 | dm24a | A2 | 24 | Ex-4_HG | A2_Ex-4_HG |\n",
       "\n"
      ],
      "text/plain": [
       "  sample_id batch timepoint condition timecourse\n",
       "1 dm11a     A2     6        3-cyt     A2_3-cyt  \n",
       "2 dm12b     A2     6        IFNg      A2_IFNg   \n",
       "3 dm14b     A2     6        Ex-4_HG   A2_Ex-4_HG\n",
       "4 dm21a     A2    24        3-cyt     A2_3-cyt  \n",
       "5 dm23a     A2    24        dex       A2_dex    \n",
       "6 dm24a     A2    24        Ex-4_HG   A2_Ex-4_HG"
      ]
     },
     "metadata": {},
     "output_type": "display_data"
    }
   ],
   "source": [
    "# Load the project metadata\n",
    "project_metadata <- read.csv(project_metadata_path, sep = \"\\t\")\n",
    "head(project_metadata)"
   ]
  },
  {
   "cell_type": "code",
   "execution_count": 20,
   "metadata": {
    "vscode": {
     "languageId": "r"
    }
   },
   "outputs": [
    {
     "data": {
      "text/html": [
       "<table class=\"dataframe\">\n",
       "<caption>A data.frame: 6 × 16</caption>\n",
       "<thead>\n",
       "\t<tr><th></th><th scope=col>Sample</th><th scope=col>TSSEnrichment</th><th scope=col>ReadsInTSS</th><th scope=col>ReadsInPromoter</th><th scope=col>ReadsInBlacklist</th><th scope=col>PromoterRatio</th><th scope=col>PassQC</th><th scope=col>NucleosomeRatio</th><th scope=col>nMultiFrags</th><th scope=col>nMonoFrags</th><th scope=col>nFrags</th><th scope=col>nDiFrags</th><th scope=col>BlacklistRatio</th><th scope=col>DoubletScore</th><th scope=col>DoubletEnrichment</th><th scope=col>sample_id</th></tr>\n",
       "\t<tr><th></th><th scope=col>&lt;chr&gt;</th><th scope=col>&lt;dbl&gt;</th><th scope=col>&lt;dbl&gt;</th><th scope=col>&lt;dbl&gt;</th><th scope=col>&lt;dbl&gt;</th><th scope=col>&lt;dbl&gt;</th><th scope=col>&lt;dbl&gt;</th><th scope=col>&lt;dbl&gt;</th><th scope=col>&lt;dbl&gt;</th><th scope=col>&lt;dbl&gt;</th><th scope=col>&lt;dbl&gt;</th><th scope=col>&lt;dbl&gt;</th><th scope=col>&lt;dbl&gt;</th><th scope=col>&lt;dbl&gt;</th><th scope=col>&lt;dbl&gt;</th><th scope=col>&lt;chr&gt;</th></tr>\n",
       "</thead>\n",
       "<tbody>\n",
       "\t<tr><th scope=row>dm44a#GATTAGTGTTTCGCGC-1</th><td>dm44a</td><td>11.788</td><td>32032</td><td>33143</td><td>1130</td><td>0.1661153</td><td>1</td><td>2.050827</td><td>26723</td><td>32699</td><td>99759</td><td>40337</td><td>0.005663649</td><td> 5.87071689</td><td>2.022222</td><td>dm44a</td></tr>\n",
       "\t<tr><th scope=row>dm44a#GGAACTAAGTTAGCTA-1</th><td>dm44a</td><td>12.077</td><td>33606</td><td>34004</td><td>1240</td><td>0.1705367</td><td>1</td><td>2.116797</td><td>26474</td><td>31987</td><td>99697</td><td>41236</td><td>0.006218843</td><td> 0.00000000</td><td>1.377778</td><td>dm44a</td></tr>\n",
       "\t<tr><th scope=row>dm44a#GAGCTTAGTAGGATTT-1</th><td>dm44a</td><td>12.325</td><td>35365</td><td>36072</td><td>1240</td><td>0.1809481</td><td>1</td><td>1.937926</td><td>26038</td><td>33927</td><td>99675</td><td>39710</td><td>0.006220216</td><td> 0.09224421</td><td>1.577778</td><td>dm44a</td></tr>\n",
       "\t<tr><th scope=row>dm44a#CCTAAATCAATAGCCC-1</th><td>dm44a</td><td>12.135</td><td>34004</td><td>34171</td><td>1210</td><td>0.1715412</td><td>1</td><td>1.979182</td><td>26265</td><td>33432</td><td>99600</td><td>39903</td><td>0.006074297</td><td>11.74596347</td><td>2.355556</td><td>dm44a</td></tr>\n",
       "\t<tr><th scope=row>dm44a#AACAGATAGGCGCTAC-1</th><td>dm44a</td><td>10.153</td><td>25548</td><td>27767</td><td>1375</td><td>0.1396646</td><td>1</td><td>1.518329</td><td>23185</td><td>39473</td><td>99406</td><td>36748</td><td>0.006916082</td><td> 7.15107170</td><td>2.111111</td><td>dm44a</td></tr>\n",
       "\t<tr><th scope=row>dm44a#AGGACGTAGGCGGGTA-1</th><td>dm44a</td><td>11.220</td><td>32064</td><td>33825</td><td>1250</td><td>0.1719292</td><td>1</td><td>2.114717</td><td>26159</td><td>31582</td><td>98369</td><td>40628</td><td>0.006353628</td><td>37.85614035</td><td>3.488889</td><td>dm44a</td></tr>\n",
       "</tbody>\n",
       "</table>\n"
      ],
      "text/latex": [
       "A data.frame: 6 × 16\n",
       "\\begin{tabular}{r|llllllllllllllll}\n",
       "  & Sample & TSSEnrichment & ReadsInTSS & ReadsInPromoter & ReadsInBlacklist & PromoterRatio & PassQC & NucleosomeRatio & nMultiFrags & nMonoFrags & nFrags & nDiFrags & BlacklistRatio & DoubletScore & DoubletEnrichment & sample\\_id\\\\\n",
       "  & <chr> & <dbl> & <dbl> & <dbl> & <dbl> & <dbl> & <dbl> & <dbl> & <dbl> & <dbl> & <dbl> & <dbl> & <dbl> & <dbl> & <dbl> & <chr>\\\\\n",
       "\\hline\n",
       "\tdm44a\\#GATTAGTGTTTCGCGC-1 & dm44a & 11.788 & 32032 & 33143 & 1130 & 0.1661153 & 1 & 2.050827 & 26723 & 32699 & 99759 & 40337 & 0.005663649 &  5.87071689 & 2.022222 & dm44a\\\\\n",
       "\tdm44a\\#GGAACTAAGTTAGCTA-1 & dm44a & 12.077 & 33606 & 34004 & 1240 & 0.1705367 & 1 & 2.116797 & 26474 & 31987 & 99697 & 41236 & 0.006218843 &  0.00000000 & 1.377778 & dm44a\\\\\n",
       "\tdm44a\\#GAGCTTAGTAGGATTT-1 & dm44a & 12.325 & 35365 & 36072 & 1240 & 0.1809481 & 1 & 1.937926 & 26038 & 33927 & 99675 & 39710 & 0.006220216 &  0.09224421 & 1.577778 & dm44a\\\\\n",
       "\tdm44a\\#CCTAAATCAATAGCCC-1 & dm44a & 12.135 & 34004 & 34171 & 1210 & 0.1715412 & 1 & 1.979182 & 26265 & 33432 & 99600 & 39903 & 0.006074297 & 11.74596347 & 2.355556 & dm44a\\\\\n",
       "\tdm44a\\#AACAGATAGGCGCTAC-1 & dm44a & 10.153 & 25548 & 27767 & 1375 & 0.1396646 & 1 & 1.518329 & 23185 & 39473 & 99406 & 36748 & 0.006916082 &  7.15107170 & 2.111111 & dm44a\\\\\n",
       "\tdm44a\\#AGGACGTAGGCGGGTA-1 & dm44a & 11.220 & 32064 & 33825 & 1250 & 0.1719292 & 1 & 2.114717 & 26159 & 31582 & 98369 & 40628 & 0.006353628 & 37.85614035 & 3.488889 & dm44a\\\\\n",
       "\\end{tabular}\n"
      ],
      "text/markdown": [
       "\n",
       "A data.frame: 6 × 16\n",
       "\n",
       "| <!--/--> | Sample &lt;chr&gt; | TSSEnrichment &lt;dbl&gt; | ReadsInTSS &lt;dbl&gt; | ReadsInPromoter &lt;dbl&gt; | ReadsInBlacklist &lt;dbl&gt; | PromoterRatio &lt;dbl&gt; | PassQC &lt;dbl&gt; | NucleosomeRatio &lt;dbl&gt; | nMultiFrags &lt;dbl&gt; | nMonoFrags &lt;dbl&gt; | nFrags &lt;dbl&gt; | nDiFrags &lt;dbl&gt; | BlacklistRatio &lt;dbl&gt; | DoubletScore &lt;dbl&gt; | DoubletEnrichment &lt;dbl&gt; | sample_id &lt;chr&gt; |\n",
       "|---|---|---|---|---|---|---|---|---|---|---|---|---|---|---|---|---|\n",
       "| dm44a#GATTAGTGTTTCGCGC-1 | dm44a | 11.788 | 32032 | 33143 | 1130 | 0.1661153 | 1 | 2.050827 | 26723 | 32699 | 99759 | 40337 | 0.005663649 |  5.87071689 | 2.022222 | dm44a |\n",
       "| dm44a#GGAACTAAGTTAGCTA-1 | dm44a | 12.077 | 33606 | 34004 | 1240 | 0.1705367 | 1 | 2.116797 | 26474 | 31987 | 99697 | 41236 | 0.006218843 |  0.00000000 | 1.377778 | dm44a |\n",
       "| dm44a#GAGCTTAGTAGGATTT-1 | dm44a | 12.325 | 35365 | 36072 | 1240 | 0.1809481 | 1 | 1.937926 | 26038 | 33927 | 99675 | 39710 | 0.006220216 |  0.09224421 | 1.577778 | dm44a |\n",
       "| dm44a#CCTAAATCAATAGCCC-1 | dm44a | 12.135 | 34004 | 34171 | 1210 | 0.1715412 | 1 | 1.979182 | 26265 | 33432 | 99600 | 39903 | 0.006074297 | 11.74596347 | 2.355556 | dm44a |\n",
       "| dm44a#AACAGATAGGCGCTAC-1 | dm44a | 10.153 | 25548 | 27767 | 1375 | 0.1396646 | 1 | 1.518329 | 23185 | 39473 | 99406 | 36748 | 0.006916082 |  7.15107170 | 2.111111 | dm44a |\n",
       "| dm44a#AGGACGTAGGCGGGTA-1 | dm44a | 11.220 | 32064 | 33825 | 1250 | 0.1719292 | 1 | 2.114717 | 26159 | 31582 | 98369 | 40628 | 0.006353628 | 37.85614035 | 3.488889 | dm44a |\n",
       "\n"
      ],
      "text/plain": [
       "                         Sample TSSEnrichment ReadsInTSS ReadsInPromoter\n",
       "dm44a#GATTAGTGTTTCGCGC-1 dm44a  11.788        32032      33143          \n",
       "dm44a#GGAACTAAGTTAGCTA-1 dm44a  12.077        33606      34004          \n",
       "dm44a#GAGCTTAGTAGGATTT-1 dm44a  12.325        35365      36072          \n",
       "dm44a#CCTAAATCAATAGCCC-1 dm44a  12.135        34004      34171          \n",
       "dm44a#AACAGATAGGCGCTAC-1 dm44a  10.153        25548      27767          \n",
       "dm44a#AGGACGTAGGCGGGTA-1 dm44a  11.220        32064      33825          \n",
       "                         ReadsInBlacklist PromoterRatio PassQC NucleosomeRatio\n",
       "dm44a#GATTAGTGTTTCGCGC-1 1130             0.1661153     1      2.050827       \n",
       "dm44a#GGAACTAAGTTAGCTA-1 1240             0.1705367     1      2.116797       \n",
       "dm44a#GAGCTTAGTAGGATTT-1 1240             0.1809481     1      1.937926       \n",
       "dm44a#CCTAAATCAATAGCCC-1 1210             0.1715412     1      1.979182       \n",
       "dm44a#AACAGATAGGCGCTAC-1 1375             0.1396646     1      1.518329       \n",
       "dm44a#AGGACGTAGGCGGGTA-1 1250             0.1719292     1      2.114717       \n",
       "                         nMultiFrags nMonoFrags nFrags nDiFrags BlacklistRatio\n",
       "dm44a#GATTAGTGTTTCGCGC-1 26723       32699      99759  40337    0.005663649   \n",
       "dm44a#GGAACTAAGTTAGCTA-1 26474       31987      99697  41236    0.006218843   \n",
       "dm44a#GAGCTTAGTAGGATTT-1 26038       33927      99675  39710    0.006220216   \n",
       "dm44a#CCTAAATCAATAGCCC-1 26265       33432      99600  39903    0.006074297   \n",
       "dm44a#AACAGATAGGCGCTAC-1 23185       39473      99406  36748    0.006916082   \n",
       "dm44a#AGGACGTAGGCGGGTA-1 26159       31582      98369  40628    0.006353628   \n",
       "                         DoubletScore DoubletEnrichment sample_id\n",
       "dm44a#GATTAGTGTTTCGCGC-1  5.87071689  2.022222          dm44a    \n",
       "dm44a#GGAACTAAGTTAGCTA-1  0.00000000  1.377778          dm44a    \n",
       "dm44a#GAGCTTAGTAGGATTT-1  0.09224421  1.577778          dm44a    \n",
       "dm44a#CCTAAATCAATAGCCC-1 11.74596347  2.355556          dm44a    \n",
       "dm44a#AACAGATAGGCGCTAC-1  7.15107170  2.111111          dm44a    \n",
       "dm44a#AGGACGTAGGCGGGTA-1 37.85614035  3.488889          dm44a    "
      ]
     },
     "metadata": {},
     "output_type": "display_data"
    }
   ],
   "source": [
    "# Clean up the archr proj metadata\n",
    "archr_metadata = as.data.frame(proj@cellColData)\n",
    "archr_metadata$sample_id = archr_metadata$Sample\n",
    "head(archr_metadata)"
   ]
  },
  {
   "cell_type": "code",
   "execution_count": 21,
   "metadata": {
    "vscode": {
     "languageId": "r"
    }
   },
   "outputs": [
    {
     "data": {
      "text/html": [
       "<table class=\"dataframe\">\n",
       "<caption>A data.frame: 6 × 20</caption>\n",
       "<thead>\n",
       "\t<tr><th></th><th scope=col>Sample</th><th scope=col>TSSEnrichment</th><th scope=col>ReadsInTSS</th><th scope=col>ReadsInPromoter</th><th scope=col>ReadsInBlacklist</th><th scope=col>PromoterRatio</th><th scope=col>PassQC</th><th scope=col>NucleosomeRatio</th><th scope=col>nMultiFrags</th><th scope=col>nMonoFrags</th><th scope=col>nFrags</th><th scope=col>nDiFrags</th><th scope=col>BlacklistRatio</th><th scope=col>DoubletScore</th><th scope=col>DoubletEnrichment</th><th scope=col>sample_id</th><th scope=col>batch</th><th scope=col>timepoint</th><th scope=col>condition</th><th scope=col>timecourse</th></tr>\n",
       "\t<tr><th></th><th scope=col>&lt;chr&gt;</th><th scope=col>&lt;dbl&gt;</th><th scope=col>&lt;dbl&gt;</th><th scope=col>&lt;dbl&gt;</th><th scope=col>&lt;dbl&gt;</th><th scope=col>&lt;dbl&gt;</th><th scope=col>&lt;dbl&gt;</th><th scope=col>&lt;dbl&gt;</th><th scope=col>&lt;dbl&gt;</th><th scope=col>&lt;dbl&gt;</th><th scope=col>&lt;dbl&gt;</th><th scope=col>&lt;dbl&gt;</th><th scope=col>&lt;dbl&gt;</th><th scope=col>&lt;dbl&gt;</th><th scope=col>&lt;dbl&gt;</th><th scope=col>&lt;chr&gt;</th><th scope=col>&lt;chr&gt;</th><th scope=col>&lt;int&gt;</th><th scope=col>&lt;chr&gt;</th><th scope=col>&lt;chr&gt;</th></tr>\n",
       "</thead>\n",
       "<tbody>\n",
       "\t<tr><th scope=row>1</th><td>dm44a</td><td>11.788</td><td>32032</td><td>33143</td><td>1130</td><td>0.1661153</td><td>1</td><td>2.050827</td><td>26723</td><td>32699</td><td>99759</td><td>40337</td><td>0.005663649</td><td> 5.87071689</td><td>2.022222</td><td>dm44a</td><td>A2</td><td>72</td><td>Ex-4_HG</td><td>A2_Ex-4_HG</td></tr>\n",
       "\t<tr><th scope=row>2</th><td>dm44a</td><td>12.077</td><td>33606</td><td>34004</td><td>1240</td><td>0.1705367</td><td>1</td><td>2.116797</td><td>26474</td><td>31987</td><td>99697</td><td>41236</td><td>0.006218843</td><td> 0.00000000</td><td>1.377778</td><td>dm44a</td><td>A2</td><td>72</td><td>Ex-4_HG</td><td>A2_Ex-4_HG</td></tr>\n",
       "\t<tr><th scope=row>3</th><td>dm44a</td><td>12.325</td><td>35365</td><td>36072</td><td>1240</td><td>0.1809481</td><td>1</td><td>1.937926</td><td>26038</td><td>33927</td><td>99675</td><td>39710</td><td>0.006220216</td><td> 0.09224421</td><td>1.577778</td><td>dm44a</td><td>A2</td><td>72</td><td>Ex-4_HG</td><td>A2_Ex-4_HG</td></tr>\n",
       "\t<tr><th scope=row>4</th><td>dm44a</td><td>12.135</td><td>34004</td><td>34171</td><td>1210</td><td>0.1715412</td><td>1</td><td>1.979182</td><td>26265</td><td>33432</td><td>99600</td><td>39903</td><td>0.006074297</td><td>11.74596347</td><td>2.355556</td><td>dm44a</td><td>A2</td><td>72</td><td>Ex-4_HG</td><td>A2_Ex-4_HG</td></tr>\n",
       "\t<tr><th scope=row>5</th><td>dm44a</td><td>10.153</td><td>25548</td><td>27767</td><td>1375</td><td>0.1396646</td><td>1</td><td>1.518329</td><td>23185</td><td>39473</td><td>99406</td><td>36748</td><td>0.006916082</td><td> 7.15107170</td><td>2.111111</td><td>dm44a</td><td>A2</td><td>72</td><td>Ex-4_HG</td><td>A2_Ex-4_HG</td></tr>\n",
       "\t<tr><th scope=row>6</th><td>dm44a</td><td>11.220</td><td>32064</td><td>33825</td><td>1250</td><td>0.1719292</td><td>1</td><td>2.114717</td><td>26159</td><td>31582</td><td>98369</td><td>40628</td><td>0.006353628</td><td>37.85614035</td><td>3.488889</td><td>dm44a</td><td>A2</td><td>72</td><td>Ex-4_HG</td><td>A2_Ex-4_HG</td></tr>\n",
       "</tbody>\n",
       "</table>\n"
      ],
      "text/latex": [
       "A data.frame: 6 × 20\n",
       "\\begin{tabular}{r|llllllllllllllllllll}\n",
       "  & Sample & TSSEnrichment & ReadsInTSS & ReadsInPromoter & ReadsInBlacklist & PromoterRatio & PassQC & NucleosomeRatio & nMultiFrags & nMonoFrags & nFrags & nDiFrags & BlacklistRatio & DoubletScore & DoubletEnrichment & sample\\_id & batch & timepoint & condition & timecourse\\\\\n",
       "  & <chr> & <dbl> & <dbl> & <dbl> & <dbl> & <dbl> & <dbl> & <dbl> & <dbl> & <dbl> & <dbl> & <dbl> & <dbl> & <dbl> & <dbl> & <chr> & <chr> & <int> & <chr> & <chr>\\\\\n",
       "\\hline\n",
       "\t1 & dm44a & 11.788 & 32032 & 33143 & 1130 & 0.1661153 & 1 & 2.050827 & 26723 & 32699 & 99759 & 40337 & 0.005663649 &  5.87071689 & 2.022222 & dm44a & A2 & 72 & Ex-4\\_HG & A2\\_Ex-4\\_HG\\\\\n",
       "\t2 & dm44a & 12.077 & 33606 & 34004 & 1240 & 0.1705367 & 1 & 2.116797 & 26474 & 31987 & 99697 & 41236 & 0.006218843 &  0.00000000 & 1.377778 & dm44a & A2 & 72 & Ex-4\\_HG & A2\\_Ex-4\\_HG\\\\\n",
       "\t3 & dm44a & 12.325 & 35365 & 36072 & 1240 & 0.1809481 & 1 & 1.937926 & 26038 & 33927 & 99675 & 39710 & 0.006220216 &  0.09224421 & 1.577778 & dm44a & A2 & 72 & Ex-4\\_HG & A2\\_Ex-4\\_HG\\\\\n",
       "\t4 & dm44a & 12.135 & 34004 & 34171 & 1210 & 0.1715412 & 1 & 1.979182 & 26265 & 33432 & 99600 & 39903 & 0.006074297 & 11.74596347 & 2.355556 & dm44a & A2 & 72 & Ex-4\\_HG & A2\\_Ex-4\\_HG\\\\\n",
       "\t5 & dm44a & 10.153 & 25548 & 27767 & 1375 & 0.1396646 & 1 & 1.518329 & 23185 & 39473 & 99406 & 36748 & 0.006916082 &  7.15107170 & 2.111111 & dm44a & A2 & 72 & Ex-4\\_HG & A2\\_Ex-4\\_HG\\\\\n",
       "\t6 & dm44a & 11.220 & 32064 & 33825 & 1250 & 0.1719292 & 1 & 2.114717 & 26159 & 31582 & 98369 & 40628 & 0.006353628 & 37.85614035 & 3.488889 & dm44a & A2 & 72 & Ex-4\\_HG & A2\\_Ex-4\\_HG\\\\\n",
       "\\end{tabular}\n"
      ],
      "text/markdown": [
       "\n",
       "A data.frame: 6 × 20\n",
       "\n",
       "| <!--/--> | Sample &lt;chr&gt; | TSSEnrichment &lt;dbl&gt; | ReadsInTSS &lt;dbl&gt; | ReadsInPromoter &lt;dbl&gt; | ReadsInBlacklist &lt;dbl&gt; | PromoterRatio &lt;dbl&gt; | PassQC &lt;dbl&gt; | NucleosomeRatio &lt;dbl&gt; | nMultiFrags &lt;dbl&gt; | nMonoFrags &lt;dbl&gt; | nFrags &lt;dbl&gt; | nDiFrags &lt;dbl&gt; | BlacklistRatio &lt;dbl&gt; | DoubletScore &lt;dbl&gt; | DoubletEnrichment &lt;dbl&gt; | sample_id &lt;chr&gt; | batch &lt;chr&gt; | timepoint &lt;int&gt; | condition &lt;chr&gt; | timecourse &lt;chr&gt; |\n",
       "|---|---|---|---|---|---|---|---|---|---|---|---|---|---|---|---|---|---|---|---|---|\n",
       "| 1 | dm44a | 11.788 | 32032 | 33143 | 1130 | 0.1661153 | 1 | 2.050827 | 26723 | 32699 | 99759 | 40337 | 0.005663649 |  5.87071689 | 2.022222 | dm44a | A2 | 72 | Ex-4_HG | A2_Ex-4_HG |\n",
       "| 2 | dm44a | 12.077 | 33606 | 34004 | 1240 | 0.1705367 | 1 | 2.116797 | 26474 | 31987 | 99697 | 41236 | 0.006218843 |  0.00000000 | 1.377778 | dm44a | A2 | 72 | Ex-4_HG | A2_Ex-4_HG |\n",
       "| 3 | dm44a | 12.325 | 35365 | 36072 | 1240 | 0.1809481 | 1 | 1.937926 | 26038 | 33927 | 99675 | 39710 | 0.006220216 |  0.09224421 | 1.577778 | dm44a | A2 | 72 | Ex-4_HG | A2_Ex-4_HG |\n",
       "| 4 | dm44a | 12.135 | 34004 | 34171 | 1210 | 0.1715412 | 1 | 1.979182 | 26265 | 33432 | 99600 | 39903 | 0.006074297 | 11.74596347 | 2.355556 | dm44a | A2 | 72 | Ex-4_HG | A2_Ex-4_HG |\n",
       "| 5 | dm44a | 10.153 | 25548 | 27767 | 1375 | 0.1396646 | 1 | 1.518329 | 23185 | 39473 | 99406 | 36748 | 0.006916082 |  7.15107170 | 2.111111 | dm44a | A2 | 72 | Ex-4_HG | A2_Ex-4_HG |\n",
       "| 6 | dm44a | 11.220 | 32064 | 33825 | 1250 | 0.1719292 | 1 | 2.114717 | 26159 | 31582 | 98369 | 40628 | 0.006353628 | 37.85614035 | 3.488889 | dm44a | A2 | 72 | Ex-4_HG | A2_Ex-4_HG |\n",
       "\n"
      ],
      "text/plain": [
       "  Sample TSSEnrichment ReadsInTSS ReadsInPromoter ReadsInBlacklist\n",
       "1 dm44a  11.788        32032      33143           1130            \n",
       "2 dm44a  12.077        33606      34004           1240            \n",
       "3 dm44a  12.325        35365      36072           1240            \n",
       "4 dm44a  12.135        34004      34171           1210            \n",
       "5 dm44a  10.153        25548      27767           1375            \n",
       "6 dm44a  11.220        32064      33825           1250            \n",
       "  PromoterRatio PassQC NucleosomeRatio nMultiFrags nMonoFrags nFrags nDiFrags\n",
       "1 0.1661153     1      2.050827        26723       32699      99759  40337   \n",
       "2 0.1705367     1      2.116797        26474       31987      99697  41236   \n",
       "3 0.1809481     1      1.937926        26038       33927      99675  39710   \n",
       "4 0.1715412     1      1.979182        26265       33432      99600  39903   \n",
       "5 0.1396646     1      1.518329        23185       39473      99406  36748   \n",
       "6 0.1719292     1      2.114717        26159       31582      98369  40628   \n",
       "  BlacklistRatio DoubletScore DoubletEnrichment sample_id batch timepoint\n",
       "1 0.005663649     5.87071689  2.022222          dm44a     A2    72       \n",
       "2 0.006218843     0.00000000  1.377778          dm44a     A2    72       \n",
       "3 0.006220216     0.09224421  1.577778          dm44a     A2    72       \n",
       "4 0.006074297    11.74596347  2.355556          dm44a     A2    72       \n",
       "5 0.006916082     7.15107170  2.111111          dm44a     A2    72       \n",
       "6 0.006353628    37.85614035  3.488889          dm44a     A2    72       \n",
       "  condition timecourse\n",
       "1 Ex-4_HG   A2_Ex-4_HG\n",
       "2 Ex-4_HG   A2_Ex-4_HG\n",
       "3 Ex-4_HG   A2_Ex-4_HG\n",
       "4 Ex-4_HG   A2_Ex-4_HG\n",
       "5 Ex-4_HG   A2_Ex-4_HG\n",
       "6 Ex-4_HG   A2_Ex-4_HG"
      ]
     },
     "metadata": {},
     "output_type": "display_data"
    }
   ],
   "source": [
    "# Merge and add batch, timepoint, and timecourse (TODO: make this just a join that gets added to dataframe)\n",
    "archr_metadata = dplyr::left_join(archr_metadata, project_metadata, by = \"sample_id\")\n",
    "head(archr_metadata)"
   ]
  },
  {
   "cell_type": "code",
   "execution_count": 23,
   "metadata": {
    "vscode": {
     "languageId": "r"
    }
   },
   "outputs": [
    {
     "data": {
      "text/plain": [
       "DataFrame with 6 rows and 19 columns\n",
       "                         Sample TSSEnrichment ReadsInTSS ReadsInPromoter\n",
       "                          <Rle>       <array>    <array>         <array>\n",
       "dm44a#GATTAGTGTTTCGCGC-1  dm44a        11.788      32032           33143\n",
       "dm44a#GGAACTAAGTTAGCTA-1  dm44a        12.077      33606           34004\n",
       "dm44a#GAGCTTAGTAGGATTT-1  dm44a        12.325      35365           36072\n",
       "dm44a#CCTAAATCAATAGCCC-1  dm44a        12.135      34004           34171\n",
       "dm44a#AACAGATAGGCGCTAC-1  dm44a        10.153      25548           27767\n",
       "dm44a#AGGACGTAGGCGGGTA-1  dm44a         11.22      32064           33825\n",
       "                         ReadsInBlacklist     PromoterRatio  PassQC\n",
       "                                  <array>           <array> <array>\n",
       "dm44a#GATTAGTGTTTCGCGC-1             1130 0.166115337964494       1\n",
       "dm44a#GGAACTAAGTTAGCTA-1             1240  0.17053672628063       1\n",
       "dm44a#GAGCTTAGTAGGATTT-1             1240 0.180948081264108       1\n",
       "dm44a#CCTAAATCAATAGCCC-1             1210 0.171541164658635       1\n",
       "dm44a#AACAGATAGGCGCTAC-1             1375 0.139664607770155       1\n",
       "dm44a#AGGACGTAGGCGGGTA-1             1250 0.171929164675863       1\n",
       "                          NucleosomeRatio nMultiFrags nMonoFrags  nFrags\n",
       "                                  <array>     <array>    <array> <array>\n",
       "dm44a#GATTAGTGTTTCGCGC-1 2.05082724242332       26723      32699   99759\n",
       "dm44a#GGAACTAAGTTAGCTA-1 2.11679744896364       26474      31987   99697\n",
       "dm44a#GAGCTTAGTAGGATTT-1 1.93792554602529       26038      33927   99675\n",
       "dm44a#CCTAAATCAATAGCCC-1  1.9791816223977       26265      33432   99600\n",
       "dm44a#AACAGATAGGCGCTAC-1 1.51832898436906       23185      39473   99406\n",
       "dm44a#AGGACGTAGGCGGGTA-1 2.11471724399975       26159      31582   98369\n",
       "                         nDiFrags      BlacklistRatio DoubletScore\n",
       "                          <array>             <array>    <numeric>\n",
       "dm44a#GATTAGTGTTTCGCGC-1    40337 0.00566364939504205    5.8707169\n",
       "dm44a#GGAACTAAGTTAGCTA-1    41236 0.00621884309457657    0.0000000\n",
       "dm44a#GAGCTTAGTAGGATTT-1    39710 0.00622021570102834    0.0922442\n",
       "dm44a#CCTAAATCAATAGCCC-1    39903 0.00607429718875502   11.7459635\n",
       "dm44a#AACAGATAGGCGCTAC-1    36748 0.00691608152425407    7.1510717\n",
       "dm44a#AGGACGTAGGCGGGTA-1    40628  0.0063536276672529   37.8561403\n",
       "                         DoubletEnrichment batch timepoint condition timecourse\n",
       "                                 <numeric> <Rle>     <Rle>     <Rle>      <Rle>\n",
       "dm44a#GATTAGTGTTTCGCGC-1           2.02222    A2        72   Ex-4_HG A2_Ex-4_HG\n",
       "dm44a#GGAACTAAGTTAGCTA-1           1.37778    A2        72   Ex-4_HG A2_Ex-4_HG\n",
       "dm44a#GAGCTTAGTAGGATTT-1           1.57778    A2        72   Ex-4_HG A2_Ex-4_HG\n",
       "dm44a#CCTAAATCAATAGCCC-1           2.35556    A2        72   Ex-4_HG A2_Ex-4_HG\n",
       "dm44a#AACAGATAGGCGCTAC-1           2.11111    A2        72   Ex-4_HG A2_Ex-4_HG\n",
       "dm44a#AGGACGTAGGCGGGTA-1           3.48889    A2        72   Ex-4_HG A2_Ex-4_HG"
      ]
     },
     "metadata": {},
     "output_type": "display_data"
    }
   ],
   "source": [
    "proj$batch = archr_metadata$batch\n",
    "proj$timepoint = archr_metadata$timepoint\n",
    "proj$condition = archr_metadata$condition\n",
    "proj$timecourse = paste(proj$batch, proj$condition, sep = \"_\")\n",
    "head(proj@cellColData)"
   ]
  },
  {
   "cell_type": "code",
   "execution_count": 25,
   "metadata": {
    "vscode": {
     "languageId": "r"
    }
   },
   "outputs": [],
   "source": [
    "# Save initial project metadata\n",
    "proj_meta = as.data.frame(proj@cellColData)\n",
    "write.table(proj_meta, file = \"initial_archr_proj_meta.tsv\", sep = \"\\t\", quote = FALSE, row.names = TRUE)"
   ]
  },
  {
   "cell_type": "code",
   "execution_count": 26,
   "metadata": {
    "vscode": {
     "languageId": "r"
    }
   },
   "outputs": [
    {
     "name": "stderr",
     "output_type": "stream",
     "text": [
      "Saving ArchRProject...\n",
      "\n",
      "Loading ArchRProject...\n",
      "\n",
      "Successfully loaded ArchRProject!\n",
      "\n",
      "\n",
      "                                                   / |\n",
      "                                                 /    \\\n",
      "            .                                  /      |.\n",
      "            \\\\\\                              /        |.\n",
      "              \\\\\\                          /           `|.\n",
      "                \\\\\\                      /              |.\n",
      "                  \\                    /                |\\\n",
      "                  \\\\#####\\           /                  ||\n",
      "                ==###########>      /                   ||\n",
      "                 \\\\##==......\\    /                     ||\n",
      "            ______ =       =|__ /__                     ||      \\\\\\\n",
      "        ,--' ,----`-,__ ___/'  --,-`-===================##========>\n",
      "       \\               '        ##_______ _____ ,--,__,=##,__   ///\n",
      "        ,    __==    ___,-,__,--'#'  ==='      `-'    | ##,-/\n",
      "        -,____,---'       \\\\####\\\\________________,--\\\\_##,/\n",
      "           ___      .______        ______  __    __  .______      \n",
      "          /   \\     |   _  \\      /      ||  |  |  | |   _  \\     \n",
      "         /  ^  \\    |  |_)  |    |  ,----'|  |__|  | |  |_)  |    \n",
      "        /  /_\\  \\   |      /     |  |     |   __   | |      /     \n",
      "       /  _____  \\  |  |\\  \\\\___ |  `----.|  |  |  | |  |\\  \\\\___.\n",
      "      /__/     \\__\\ | _| `._____| \\______||__|  |__| | _| `._____|\n",
      "    \n",
      "\n",
      "\n",
      "           ___      .______        ______  __    __  .______      \n",
      "          /   \\     |   _  \\      /      ||  |  |  | |   _  \\     \n",
      "         /  ^  \\    |  |_)  |    |  ,----'|  |__|  | |  |_)  |    \n",
      "        /  /_\\  \\   |      /     |  |     |   __   | |      /     \n",
      "       /  _____  \\  |  |\\  \\\\___ |  `----.|  |  |  | |  |\\  \\\\___.\n",
      "      /__/     \\__\\ | _| `._____| \\______||__|  |__| | _| `._____|\n",
      "    \n",
      "\n"
     ]
    },
    {
     "data": {
      "text/plain": [
       "class: ArchRProject \n",
       "outputDirectory: /cellar/users/aklie/data/datasets/igvf_sc-islet_10X-Multiome/annotation/all/archr \n",
       "samples(26): dm44a mo9 ... dm24a mo29\n",
       "sampleColData names(1): ArrowFiles\n",
       "cellColData names(19): Sample TSSEnrichment ... condition timecourse\n",
       "numberOfCells(1): 136058\n",
       "medianTSS(1): 13.264\n",
       "medianFrags(1): 18404"
      ]
     },
     "metadata": {},
     "output_type": "display_data"
    }
   ],
   "source": [
    "# Save the project\n",
    "saveArchRProject(\n",
    "  ArchRProj = proj,\n",
    "  outputDirectory = \"./\"\n",
    ")"
   ]
  },
  {
   "attachments": {},
   "cell_type": "markdown",
   "metadata": {},
   "source": [
    "### Remove AMULET doublets"
   ]
  },
  {
   "cell_type": "code",
   "execution_count": 5,
   "metadata": {
    "vscode": {
     "languageId": "r"
    }
   },
   "outputs": [
    {
     "data": {
      "text/html": [
       "<style>\n",
       ".list-inline {list-style: none; margin:0; padding: 0}\n",
       ".list-inline>li {display: inline-block}\n",
       ".list-inline>li:not(:last-child)::after {content: \"\\00b7\"; padding: 0 .5ex}\n",
       "</style>\n",
       "<ol class=list-inline><li>'mo14#CTAGTGAGTGTAACCA-1'</li><li>'mo14#TATGGCCCATTGTGCA-1'</li><li>'mo14#TTAATCGAGAGGGACT-1'</li><li>'mo14#AACATAGCATAGCGAG-1'</li><li>'mo14#TGGTGCATCCGCACAA-1'</li><li>'mo14#AATTGGGAGCGTGCGT-1'</li></ol>\n"
      ],
      "text/latex": [
       "\\begin{enumerate*}\n",
       "\\item 'mo14\\#CTAGTGAGTGTAACCA-1'\n",
       "\\item 'mo14\\#TATGGCCCATTGTGCA-1'\n",
       "\\item 'mo14\\#TTAATCGAGAGGGACT-1'\n",
       "\\item 'mo14\\#AACATAGCATAGCGAG-1'\n",
       "\\item 'mo14\\#TGGTGCATCCGCACAA-1'\n",
       "\\item 'mo14\\#AATTGGGAGCGTGCGT-1'\n",
       "\\end{enumerate*}\n"
      ],
      "text/markdown": [
       "1. 'mo14#CTAGTGAGTGTAACCA-1'\n",
       "2. 'mo14#TATGGCCCATTGTGCA-1'\n",
       "3. 'mo14#TTAATCGAGAGGGACT-1'\n",
       "4. 'mo14#AACATAGCATAGCGAG-1'\n",
       "5. 'mo14#TGGTGCATCCGCACAA-1'\n",
       "6. 'mo14#AATTGGGAGCGTGCGT-1'\n",
       "\n",
       "\n"
      ],
      "text/plain": [
       "[1] \"mo14#CTAGTGAGTGTAACCA-1\" \"mo14#TATGGCCCATTGTGCA-1\"\n",
       "[3] \"mo14#TTAATCGAGAGGGACT-1\" \"mo14#AACATAGCATAGCGAG-1\"\n",
       "[5] \"mo14#TGGTGCATCCGCACAA-1\" \"mo14#AATTGGGAGCGTGCGT-1\""
      ]
     },
     "metadata": {},
     "output_type": "display_data"
    }
   ],
   "source": [
    "# Load in the barcode list called as doublets\n",
    "amulet_bcs <- read.csv(\"/cellar/users/aklie/data/datasets/igvf_sc-islet_10X-Multiome/annotation/06Nov23/amulet/amulet_bcs_archr.txt\", header = FALSE, sep = \"\\t\")$V1\n",
    "head(amulet_bcs)"
   ]
  },
  {
   "cell_type": "code",
   "execution_count": 9,
   "metadata": {
    "vscode": {
     "languageId": "r"
    }
   },
   "outputs": [],
   "source": [
    "# Grab cell id as column\n",
    "proj_meta = as.data.frame(proj@cellColData)\n",
    "proj_meta$cell_id = rownames(proj_meta)"
   ]
  },
  {
   "cell_type": "code",
   "execution_count": 10,
   "metadata": {
    "vscode": {
     "languageId": "r"
    }
   },
   "outputs": [
    {
     "data": {
      "text/html": [
       "6233"
      ],
      "text/latex": [
       "6233"
      ],
      "text/markdown": [
       "6233"
      ],
      "text/plain": [
       "[1] 6233"
      ]
     },
     "metadata": {},
     "output_type": "display_data"
    }
   ],
   "source": [
    "# Check how many doublets are in the project\n",
    "sum(proj_meta$cell_id %in% amulet_bcs)"
   ]
  },
  {
   "cell_type": "code",
   "execution_count": 11,
   "metadata": {
    "vscode": {
     "languageId": "r"
    }
   },
   "outputs": [
    {
     "data": {
      "text/html": [
       "137537"
      ],
      "text/latex": [
       "137537"
      ],
      "text/markdown": [
       "137537"
      ],
      "text/plain": [
       "[1] 137537"
      ]
     },
     "metadata": {},
     "output_type": "display_data"
    }
   ],
   "source": [
    "# Get cell names NOT in amulet\n",
    "cells_doublet_filt = proj$cellNames[!(proj_meta$cell_id %in% amulet_bcs)]\n",
    "length(cells_doublet_filt)"
   ]
  },
  {
   "cell_type": "code",
   "execution_count": 12,
   "metadata": {
    "vscode": {
     "languageId": "r"
    }
   },
   "outputs": [
    {
     "name": "stderr",
     "output_type": "stream",
     "text": [
      "Copying ArchRProject to new outputDirectory : /cellar/users/aklie/data/datasets/igvf_sc-islet_10X-Multiome/annotation/07Nov23/archr/AMULET_filt\n",
      "\n",
      "Copying Arrow Files...\n",
      "\n",
      "Getting ImputeWeights\n",
      "\n",
      "No imputeWeights found, returning NULL\n",
      "\n",
      "Copying Other Files...\n",
      "\n",
      "Copying Other Files (1 of 58): ArchRLogs\n",
      "\n",
      "Copying Other Files (2 of 58): dm0b\n",
      "\n",
      "Copying Other Files (3 of 58): dm0b.arrow\n",
      "\n",
      "Copying Other Files (4 of 58): dm11a\n",
      "\n",
      "Copying Other Files (5 of 58): dm11a.arrow\n",
      "\n",
      "Copying Other Files (6 of 58): dm12b\n",
      "\n",
      "Copying Other Files (7 of 58): dm12b.arrow\n",
      "\n",
      "Copying Other Files (8 of 58): dm14b\n",
      "\n",
      "Copying Other Files (9 of 58): dm14b.arrow\n",
      "\n",
      "Copying Other Files (10 of 58): dm21a\n",
      "\n",
      "Copying Other Files (11 of 58): dm21a.arrow\n",
      "\n",
      "Copying Other Files (12 of 58): dm23a\n",
      "\n",
      "Copying Other Files (13 of 58): dm23a.arrow\n",
      "\n",
      "Copying Other Files (14 of 58): dm24a\n",
      "\n",
      "Copying Other Files (15 of 58): dm24a.arrow\n",
      "\n",
      "Copying Other Files (16 of 58): dm25a\n",
      "\n",
      "Copying Other Files (17 of 58): dm25a.arrow\n",
      "\n",
      "Copying Other Files (18 of 58): dm31a\n",
      "\n",
      "Copying Other Files (19 of 58): dm31a.arrow\n",
      "\n",
      "Copying Other Files (20 of 58): dm32a\n",
      "\n",
      "Copying Other Files (21 of 58): dm32a.arrow\n",
      "\n",
      "Copying Other Files (22 of 58): dm33a\n",
      "\n",
      "Copying Other Files (23 of 58): dm33a.arrow\n",
      "\n",
      "Copying Other Files (24 of 58): dm34a\n",
      "\n",
      "Copying Other Files (25 of 58): dm34a.arrow\n",
      "\n",
      "Copying Other Files (26 of 58): dm35a\n",
      "\n",
      "Copying Other Files (27 of 58): dm35a.arrow\n",
      "\n",
      "Copying Other Files (28 of 58): dm42b\n",
      "\n",
      "Copying Other Files (29 of 58): dm42b.arrow\n",
      "\n",
      "Copying Other Files (30 of 58): dm43b\n",
      "\n",
      "Copying Other Files (31 of 58): dm43b.arrow\n",
      "\n",
      "Copying Other Files (32 of 58): dm44a\n",
      "\n",
      "Copying Other Files (33 of 58): dm44a.arrow\n",
      "\n",
      "Copying Other Files (34 of 58): dm45a\n",
      "\n",
      "Copying Other Files (35 of 58): dm45a.arrow\n",
      "\n",
      "Copying Other Files (36 of 58): initial_archr_proj_meta.tsv\n",
      "\n",
      "Copying Other Files (37 of 58): mo1\n",
      "\n",
      "Copying Other Files (38 of 58): mo1.arrow\n",
      "\n",
      "Copying Other Files (39 of 58): mo14\n",
      "\n",
      "Copying Other Files (40 of 58): mo14.arrow\n",
      "\n",
      "Copying Other Files (41 of 58): mo18\n",
      "\n",
      "Copying Other Files (42 of 58): mo18.arrow\n",
      "\n",
      "Copying Other Files (43 of 58): mo22\n",
      "\n",
      "Copying Other Files (44 of 58): mo22.arrow\n",
      "\n",
      "Copying Other Files (45 of 58): mo26\n",
      "\n",
      "Copying Other Files (46 of 58): mo26.arrow\n",
      "\n",
      "Copying Other Files (47 of 58): mo29\n",
      "\n",
      "Copying Other Files (48 of 58): mo29.arrow\n",
      "\n",
      "Copying Other Files (49 of 58): mo3\n",
      "\n",
      "Copying Other Files (50 of 58): mo3.arrow\n",
      "\n",
      "Copying Other Files (51 of 58): mo33\n",
      "\n",
      "Copying Other Files (52 of 58): mo33.arrow\n",
      "\n",
      "Copying Other Files (53 of 58): mo38\n",
      "\n",
      "Copying Other Files (54 of 58): mo38.arrow\n",
      "\n",
      "Copying Other Files (55 of 58): mo9\n",
      "\n",
      "Copying Other Files (56 of 58): mo9.arrow\n",
      "\n",
      "Copying Other Files (57 of 58): QualityControl\n",
      "\n",
      "Copying Other Files (58 of 58): tmp\n",
      "\n",
      "Saving ArchRProject...\n",
      "\n",
      "Loading ArchRProject...\n",
      "\n",
      "Successfully loaded ArchRProject!\n",
      "\n",
      "\n",
      "                                                   / |\n",
      "                                                 /    \\\n",
      "            .                                  /      |.\n",
      "            \\\\\\                              /        |.\n",
      "              \\\\\\                          /           `|.\n",
      "                \\\\\\                      /              |.\n",
      "                  \\                    /                |\\\n",
      "                  \\\\#####\\           /                  ||\n",
      "                ==###########>      /                   ||\n",
      "                 \\\\##==......\\    /                     ||\n",
      "            ______ =       =|__ /__                     ||      \\\\\\\n",
      "        ,--' ,----`-,__ ___/'  --,-`-===================##========>\n",
      "       \\               '        ##_______ _____ ,--,__,=##,__   ///\n",
      "        ,    __==    ___,-,__,--'#'  ==='      `-'    | ##,-/\n",
      "        -,____,---'       \\\\####\\\\________________,--\\\\_##,/\n",
      "           ___      .______        ______  __    __  .______      \n",
      "          /   \\     |   _  \\      /      ||  |  |  | |   _  \\     \n",
      "         /  ^  \\    |  |_)  |    |  ,----'|  |__|  | |  |_)  |    \n",
      "        /  /_\\  \\   |      /     |  |     |   __   | |      /     \n",
      "       /  _____  \\  |  |\\  \\\\___ |  `----.|  |  |  | |  |\\  \\\\___.\n",
      "      /__/     \\__\\ | _| `._____| \\______||__|  |__| | _| `._____|\n",
      "    \n",
      "\n"
     ]
    }
   ],
   "source": [
    "# Create new arrow files with doublets removed\n",
    "proj = subsetArchRProject(\n",
    "    ArchRProj = proj,\n",
    "    outputDirectory = \"../AMULET_filt/\",\n",
    "    cells = cells_doublet_filt,\n",
    "    dropCells = TRUE,\n",
    "    force = TRUE\n",
    ")"
   ]
  }
 ],
 "metadata": {
  "kernelspec": {
   "display_name": "R 4.3.3 scverse",
   "language": "R",
   "name": "scverse-r433"
  },
  "language_info": {
   "codemirror_mode": "r",
   "file_extension": ".r",
   "mimetype": "text/x-r-source",
   "name": "R",
   "pygments_lexer": "r",
   "version": "4.3.1"
  },
  "orig_nbformat": 4
 },
 "nbformat": 4,
 "nbformat_minor": 2
}
