{
 "cells": [
  {
   "attachments": {},
   "cell_type": "markdown",
   "metadata": {},
   "source": [
    "# ArchR multi-sample recipe step 4 -- (optionally) prepare some visualizations of the data\n",
    "**Author**: Adam Klie (last modified: 11/06/2023)<br>\n",
    "***\n",
    "**Description**: This script runs "
   ]
  },
  {
   "cell_type": "code",
   "execution_count": 2,
   "metadata": {
    "vscode": {
     "languageId": "r"
    }
   },
   "outputs": [],
   "source": [
    "# Load libraries\n",
    "suppressMessages(library(Seurat))\n",
    "suppressMessages(library(ArchR))\n",
    "suppressMessages(library(parallel))\n",
    "suppressMessages(library(tidyverse))\n",
    "suppressMessages(library(BSgenome.Hsapiens.UCSC.hg38))\n",
    "suppressMessages(library(rtracklayer))\n",
    "suppressMessages(library(GenomicRanges))"
   ]
  },
  {
   "cell_type": "code",
   "execution_count": 7,
   "metadata": {
    "vscode": {
     "languageId": "r"
    }
   },
   "outputs": [],
   "source": [
    "# Params\n",
    "archr_proj_path = \"/cellar/users/aklie/data/datasets/igvf_sc-islet_10X-Multiome/annotation/previous/2024_01_23/timecourse/A2_control/archr\"\n",
    "threads = 4\n",
    "seed = 1234"
   ]
  },
  {
   "cell_type": "code",
   "execution_count": 8,
   "metadata": {
    "vscode": {
     "languageId": "r"
    }
   },
   "outputs": [
    {
     "name": "stderr",
     "output_type": "stream",
     "text": [
      "Setting default number of Parallel threads to 4.\n",
      "\n"
     ]
    }
   ],
   "source": [
    "# Move the working directory \n",
    "set.seed(seed)\n",
    "addArchRThreads(threads)\n",
    "setwd(archr_proj_path)"
   ]
  },
  {
   "attachments": {},
   "cell_type": "markdown",
   "metadata": {},
   "source": [
    "The precompiled version of the hg38 genome in ArchR uses BSgenome.Hsapiens.UCSC.hg38, TxDb.Hsapiens.UCSC.hg38.knownGene, org.Hs.eg.db, and a blacklist that was merged using ArchR::mergeGR() from the hg38 v2 blacklist regions and from mitochondrial regions that show high mappability to the hg38 nuclear genome from Caleb Lareau and Jason Buenrostro. To set a global genome default to the precompiled hg38 genome:"
   ]
  },
  {
   "cell_type": "code",
   "execution_count": 9,
   "metadata": {
    "vscode": {
     "languageId": "r"
    }
   },
   "outputs": [
    {
     "name": "stderr",
     "output_type": "stream",
     "text": [
      "Setting default genome to Hg38.\n",
      "\n"
     ]
    }
   ],
   "source": [
    "# Add annotation\n",
    "addArchRGenome(\"hg38\")"
   ]
  },
  {
   "attachments": {},
   "cell_type": "markdown",
   "metadata": {},
   "source": [
    "# Load the ArchR project"
   ]
  },
  {
   "cell_type": "code",
   "execution_count": 35,
   "metadata": {
    "vscode": {
     "languageId": "r"
    }
   },
   "outputs": [
    {
     "name": "stderr",
     "output_type": "stream",
     "text": [
      "Successfully loaded ArchRProject!\n",
      "\n",
      "\n",
      "                                                   / |\n",
      "                                                 /    \\\n",
      "            .                                  /      |.\n",
      "            \\\\\\                              /        |.\n",
      "              \\\\\\                          /           `|.\n",
      "                \\\\\\                      /              |.\n",
      "                  \\                    /                |\\\n",
      "                  \\\\#####\\           /                  ||\n",
      "                ==###########>      /                   ||\n",
      "                 \\\\##==......\\    /                     ||\n",
      "            ______ =       =|__ /__                     ||      \\\\\\\n",
      "        ,--' ,----`-,__ ___/'  --,-`-===================##========>\n",
      "       \\               '        ##_______ _____ ,--,__,=##,__   ///\n",
      "        ,    __==    ___,-,__,--'#'  ==='      `-'    | ##,-/\n",
      "        -,____,---'       \\\\####\\\\________________,--\\\\_##,/\n",
      "           ___      .______        ______  __    __  .______      \n",
      "          /   \\     |   _  \\      /      ||  |  |  | |   _  \\     \n",
      "         /  ^  \\    |  |_)  |    |  ,----'|  |__|  | |  |_)  |    \n",
      "        /  /_\\  \\   |      /     |  |     |   __   | |      /     \n",
      "       /  _____  \\  |  |\\  \\\\___ |  `----.|  |  |  | |  |\\  \\\\___.\n",
      "      /__/     \\__\\ | _| `._____| \\______||__|  |__| | _| `._____|\n",
      "    \n",
      "\n",
      "\n",
      "           ___      .______        ______  __    __  .______      \n",
      "          /   \\     |   _  \\      /      ||  |  |  | |   _  \\     \n",
      "         /  ^  \\    |  |_)  |    |  ,----'|  |__|  | |  |_)  |    \n",
      "        /  /_\\  \\   |      /     |  |     |   __   | |      /     \n",
      "       /  _____  \\  |  |\\  \\\\___ |  `----.|  |  |  | |  |\\  \\\\___.\n",
      "      /__/     \\__\\ | _| `._____| \\______||__|  |__| | _| `._____|\n",
      "    \n",
      "\n"
     ]
    },
    {
     "data": {
      "text/plain": [
       "class: ArchRProject \n",
       "outputDirectory: /cellar/users/aklie/data/datasets/igvf_sc-islet_10X-Multiome/annotation/previous/2024_01_23/timecourse/A2_control/archr \n",
       "samples(4): dm35a dm25a dm45a dm0b\n",
       "sampleColData names(1): ArrowFiles\n",
       "cellColData names(23): Sample TSSEnrichment ... ReadsInPeaks FRIP\n",
       "numberOfCells(1): 16307\n",
       "medianTSS(1): 12.402\n",
       "medianFrags(1): 18614"
      ]
     },
     "metadata": {},
     "output_type": "display_data"
    }
   ],
   "source": [
    "# Load the ArchR project\n",
    "proj = loadArchRProject(path = \"./\")\n",
    "proj"
   ]
  },
  {
   "attachments": {},
   "cell_type": "markdown",
   "metadata": {},
   "source": [
    "# Add annotations"
   ]
  },
  {
   "cell_type": "code",
   "execution_count": 36,
   "metadata": {
    "vscode": {
     "languageId": "r"
    }
   },
   "outputs": [],
   "source": [
    "annotations_path <- \"/cellar/users/aklie/data/datasets/igvf_sc-islet_10X-Multiome/annotation/annotations.txt\""
   ]
  },
  {
   "cell_type": "code",
   "execution_count": 37,
   "metadata": {
    "vscode": {
     "languageId": "r"
    }
   },
   "outputs": [
    {
     "data": {
      "text/html": [
       "<table class=\"dataframe\">\n",
       "<caption>A data.frame: 6 × 1</caption>\n",
       "<thead>\n",
       "\t<tr><th></th><th scope=col>V2</th></tr>\n",
       "\t<tr><th></th><th scope=col>&lt;chr&gt;</th></tr>\n",
       "</thead>\n",
       "<tbody>\n",
       "\t<tr><th scope=row>dm45a#TTTAACCTCTGCAAGT-1</th><td>SC.EC   </td></tr>\n",
       "\t<tr><th scope=row>dm45a#TCCGGAATCCACCTTA-1</th><td>SC.beta </td></tr>\n",
       "\t<tr><th scope=row>dm45a#GAAAGGCTCATTAGGC-1</th><td>SC.alpha</td></tr>\n",
       "\t<tr><th scope=row>dm45a#ATTTGCAAGATTGAGG-1</th><td>SC.alpha</td></tr>\n",
       "\t<tr><th scope=row>dm45a#TCCAGGTCAAGTGTTT-1</th><td>SC.EC   </td></tr>\n",
       "\t<tr><th scope=row>dm45a#GTCCTCCCAATAAGCA-1</th><td>SC.beta </td></tr>\n",
       "</tbody>\n",
       "</table>\n"
      ],
      "text/latex": [
       "A data.frame: 6 × 1\n",
       "\\begin{tabular}{r|l}\n",
       "  & V2\\\\\n",
       "  & <chr>\\\\\n",
       "\\hline\n",
       "\tdm45a\\#TTTAACCTCTGCAAGT-1 & SC.EC   \\\\\n",
       "\tdm45a\\#TCCGGAATCCACCTTA-1 & SC.beta \\\\\n",
       "\tdm45a\\#GAAAGGCTCATTAGGC-1 & SC.alpha\\\\\n",
       "\tdm45a\\#ATTTGCAAGATTGAGG-1 & SC.alpha\\\\\n",
       "\tdm45a\\#TCCAGGTCAAGTGTTT-1 & SC.EC   \\\\\n",
       "\tdm45a\\#GTCCTCCCAATAAGCA-1 & SC.beta \\\\\n",
       "\\end{tabular}\n"
      ],
      "text/markdown": [
       "\n",
       "A data.frame: 6 × 1\n",
       "\n",
       "| <!--/--> | V2 &lt;chr&gt; |\n",
       "|---|---|\n",
       "| dm45a#TTTAACCTCTGCAAGT-1 | SC.EC    |\n",
       "| dm45a#TCCGGAATCCACCTTA-1 | SC.beta  |\n",
       "| dm45a#GAAAGGCTCATTAGGC-1 | SC.alpha |\n",
       "| dm45a#ATTTGCAAGATTGAGG-1 | SC.alpha |\n",
       "| dm45a#TCCAGGTCAAGTGTTT-1 | SC.EC    |\n",
       "| dm45a#GTCCTCCCAATAAGCA-1 | SC.beta  |\n",
       "\n"
      ],
      "text/plain": [
       "                         V2      \n",
       "dm45a#TTTAACCTCTGCAAGT-1 SC.EC   \n",
       "dm45a#TCCGGAATCCACCTTA-1 SC.beta \n",
       "dm45a#GAAAGGCTCATTAGGC-1 SC.alpha\n",
       "dm45a#ATTTGCAAGATTGAGG-1 SC.alpha\n",
       "dm45a#TCCAGGTCAAGTGTTT-1 SC.EC   \n",
       "dm45a#GTCCTCCCAATAAGCA-1 SC.beta "
      ]
     },
     "metadata": {},
     "output_type": "display_data"
    }
   ],
   "source": [
    "# Read annotations with no header\n",
    "annotations = read.csv(annotations_path, row.names = 1, sep = \"\\t\", header = FALSE)\n",
    "annotations = as.data.frame(annotations)\n",
    "cellids = rownames(annotations)\n",
    "matched_ids = intersect(cellids, rownames(proj@cellColData))\n",
    "idxSample <- BiocGenerics::which(proj$cellNames %in% matched_ids)\n",
    "proj <- proj[idxSample,]\n",
    "annotations = annotations[proj$cellNames, ]\n",
    "proj$annotation <- annotations\n",
    "group_by = \"annotation\"\n",
    "proj"
   ]
  },
  {
   "attachments": {},
   "cell_type": "markdown",
   "metadata": {},
   "source": [
    "# Make pseudo-bulk replicates"
   ]
  },
  {
   "cell_type": "code",
   "execution_count": 8,
   "metadata": {
    "vscode": {
     "languageId": "r"
    }
   },
   "outputs": [
    {
     "name": "stderr",
     "output_type": "stream",
     "text": [
      "ArchR logging to : ArchRLogs/ArchR-addGroupCoverages-34d001703bb734-Date-2023-11-14_Time-15-43-15.95358.log\n",
      "If there is an issue, please report to github with logFile!\n",
      "\n"
     ]
    },
    {
     "name": "stderr",
     "output_type": "stream",
     "text": [
      "other (1 of 5) : CellGroups N = 5\n",
      "\n",
      "SC.alpha (2 of 5) : CellGroups N = 5\n",
      "\n",
      "SC.beta (3 of 5) : CellGroups N = 5\n",
      "\n",
      "SC.delta (4 of 5) : CellGroups N = 2\n",
      "\n",
      "SC.EC (5 of 5) : CellGroups N = 5\n",
      "\n",
      "2023-11-14 15:43:19.386711 : Creating Coverage Files!, 0.057 mins elapsed.\n",
      "\n",
      "2023-11-14 15:43:19.388862 : Batch Execution w/ safelapply!, 0.057 mins elapsed.\n",
      "\n",
      "2023-11-14 15:48:15.2697 : Adding Kmer Bias to Coverage Files!, 4.989 mins elapsed.\n",
      "\n",
      "Completed Kmer Bias Calculation\n",
      "\n",
      "Adding Kmer Bias (1 of 22)\n",
      "\n",
      "Adding Kmer Bias (2 of 22)\n",
      "\n",
      "Adding Kmer Bias (3 of 22)\n",
      "\n",
      "Adding Kmer Bias (4 of 22)\n",
      "\n",
      "Adding Kmer Bias (5 of 22)\n",
      "\n",
      "Adding Kmer Bias (6 of 22)\n",
      "\n",
      "Adding Kmer Bias (7 of 22)\n",
      "\n",
      "Adding Kmer Bias (8 of 22)\n",
      "\n",
      "Adding Kmer Bias (9 of 22)\n",
      "\n",
      "Adding Kmer Bias (10 of 22)\n",
      "\n",
      "Adding Kmer Bias (11 of 22)\n",
      "\n",
      "Adding Kmer Bias (12 of 22)\n",
      "\n",
      "Adding Kmer Bias (13 of 22)\n",
      "\n",
      "Adding Kmer Bias (14 of 22)\n",
      "\n",
      "Adding Kmer Bias (15 of 22)\n",
      "\n",
      "Adding Kmer Bias (16 of 22)\n",
      "\n",
      "Adding Kmer Bias (17 of 22)\n",
      "\n",
      "Adding Kmer Bias (18 of 22)\n",
      "\n",
      "Adding Kmer Bias (19 of 22)\n",
      "\n",
      "Adding Kmer Bias (20 of 22)\n",
      "\n",
      "Adding Kmer Bias (21 of 22)\n",
      "\n",
      "Adding Kmer Bias (22 of 22)\n",
      "\n",
      "2023-11-14 15:51:31.869987 : Finished Creation of Coverage Files!, 8.265 mins elapsed.\n",
      "\n",
      "ArchR logging successful to : ArchRLogs/ArchR-addGroupCoverages-34d001703bb734-Date-2023-11-14_Time-15-43-15.95358.log\n",
      "\n"
     ]
    }
   ],
   "source": [
    "proj <- addGroupCoverages(ArchRProj = proj, groupBy = \"rna_annotation\")"
   ]
  },
  {
   "attachments": {},
   "cell_type": "markdown",
   "metadata": {},
   "source": [
    "# Calling peaks"
   ]
  },
  {
   "cell_type": "code",
   "execution_count": 10,
   "metadata": {
    "vscode": {
     "languageId": "r"
    }
   },
   "outputs": [
    {
     "name": "stderr",
     "output_type": "stream",
     "text": [
      "ArchR logging to : ArchRLogs/ArchR-addReproduciblePeakSet-34d00128622efe-Date-2023-11-14_Time-15-55-30.381218.log\n",
      "If there is an issue, please report to github with logFile!\n",
      "\n",
      "Calling Peaks with Macs2\n",
      "\n",
      "2023-11-14 15:55:32.674798 : Peak Calling Parameters!, 0.038 mins elapsed.\n",
      "\n"
     ]
    },
    {
     "name": "stdout",
     "output_type": "stream",
     "text": [
      "            Group nCells nCellsUsed nReplicates nMin nMax maxPeaks\n",
      "other       other    803        733           5   87  245   150000\n",
      "SC.alpha SC.alpha   3727       2087           5  304  500   150000\n",
      "SC.beta   SC.beta   5021       2500           5  500  500   150000\n",
      "SC.delta SC.delta    186        186           2   42  144    93000\n",
      "SC.EC       SC.EC   4945       2500           5  500  500   150000\n"
     ]
    },
    {
     "name": "stderr",
     "output_type": "stream",
     "text": [
      "2023-11-14 15:55:33.500394 : Batching Peak Calls!, 0.052 mins elapsed.\n",
      "\n",
      "2023-11-14 15:55:33.637315 : Batch Execution w/ safelapply!, 0 mins elapsed.\n",
      "\n",
      "2023-11-14 16:05:07.484685 : Identifying Reproducible Peaks!, 9.618 mins elapsed.\n",
      "\n",
      "2023-11-14 16:06:40.639117 : Creating Union Peak Set!, 11.171 mins elapsed.\n",
      "\n",
      "Converged after 9 iterations!\n",
      "\n",
      "Plotting Ggplot!\n",
      "\n",
      "2023-11-14 16:08:06.851951 : Finished Creating Union Peak Set (212166)!, 12.608 mins elapsed.\n",
      "\n"
     ]
    }
   ],
   "source": [
    "proj <- addReproduciblePeakSet(\n",
    "    ArchRProj = proj, \n",
    "    groupBy = \"rna_annotation\", \n",
    "    pathToMacs2 = \"/cellar/users/aklie/opt/miniconda3/envs/chrombpnet/bin/macs2\"\n",
    ")"
   ]
  },
  {
   "cell_type": "code",
   "execution_count": 31,
   "metadata": {
    "vscode": {
     "languageId": "r"
    }
   },
   "outputs": [],
   "source": [
    "peaks_dir <- file.path(archr_proj_path, \"PeakCalls\", \"SplitPeaks\")\n",
    "if (!dir.exists(peaks_dir)) {\n",
    "    dir.create(peaks_dir)\n",
    "}"
   ]
  },
  {
   "cell_type": "code",
   "execution_count": 13,
   "metadata": {
    "vscode": {
     "languageId": "r"
    }
   },
   "outputs": [],
   "source": [
    "peakset <- getPeakSet(proj)"
   ]
  },
  {
   "cell_type": "code",
   "execution_count": 35,
   "metadata": {
    "vscode": {
     "languageId": "r"
    }
   },
   "outputs": [],
   "source": [
    "export.bed(peakset, con=file.path(peaks_dir, \"consensus_peaks.bed\"))"
   ]
  },
  {
   "cell_type": "code",
   "execution_count": 36,
   "metadata": {
    "vscode": {
     "languageId": "r"
    }
   },
   "outputs": [],
   "source": [
    "# Split the granges object by the names\n",
    "peakset_list <- split(peakset, names(peakset))"
   ]
  },
  {
   "cell_type": "code",
   "execution_count": 37,
   "metadata": {
    "vscode": {
     "languageId": "r"
    }
   },
   "outputs": [],
   "source": [
    "# For each granges in the lsit export to bed file\n",
    "for (i in 1:length(peakset_list)) {\n",
    "    gr <- peakset_list[[i]]\n",
    "    cell_type <- names(peakset_list)[i]\n",
    "    export.bed(gr, con=file.path(peaks_dir, paste0(cell_type, \".bed\")))\n",
    "}"
   ]
  },
  {
   "attachments": {},
   "cell_type": "markdown",
   "metadata": {},
   "source": [
    "# Adding a peak matrix"
   ]
  },
  {
   "cell_type": "code",
   "execution_count": 11,
   "metadata": {
    "vscode": {
     "languageId": "r"
    }
   },
   "outputs": [
    {
     "name": "stderr",
     "output_type": "stream",
     "text": [
      "ArchR logging to : ArchRLogs/ArchR-addPeakMatrix-34d0011afbb789-Date-2023-11-14_Time-16-09-04.625874.log\n",
      "If there is an issue, please report to github with logFile!\n",
      "\n",
      "2023-11-14 16:09:06.769429 : Batch Execution w/ safelapply!, 0 mins elapsed.\n",
      "\n",
      "ArchR logging successful to : ArchRLogs/ArchR-addPeakMatrix-34d0011afbb789-Date-2023-11-14_Time-16-09-04.625874.log\n",
      "\n"
     ]
    }
   ],
   "source": [
    "proj <- addPeakMatrix(proj)"
   ]
  },
  {
   "cell_type": "code",
   "execution_count": 23,
   "metadata": {
    "vscode": {
     "languageId": "r"
    }
   },
   "outputs": [
    {
     "data": {
      "text/html": [
       "<style>\n",
       ".list-inline {list-style: none; margin:0; padding: 0}\n",
       ".list-inline>li {display: inline-block}\n",
       ".list-inline>li:not(:last-child)::after {content: \"\\00b7\"; padding: 0 .5ex}\n",
       "</style>\n",
       "<ol class=list-inline><li>'GeneScoreMatrix'</li><li>'PeakMatrix'</li><li>'TileMatrix'</li></ol>\n"
      ],
      "text/latex": [
       "\\begin{enumerate*}\n",
       "\\item 'GeneScoreMatrix'\n",
       "\\item 'PeakMatrix'\n",
       "\\item 'TileMatrix'\n",
       "\\end{enumerate*}\n"
      ],
      "text/markdown": [
       "1. 'GeneScoreMatrix'\n",
       "2. 'PeakMatrix'\n",
       "3. 'TileMatrix'\n",
       "\n",
       "\n"
      ],
      "text/plain": [
       "[1] \"GeneScoreMatrix\" \"PeakMatrix\"      \"TileMatrix\"     "
      ]
     },
     "metadata": {},
     "output_type": "display_data"
    }
   ],
   "source": [
    "getAvailableMatrices(proj)"
   ]
  },
  {
   "cell_type": "code",
   "execution_count": 24,
   "metadata": {
    "vscode": {
     "languageId": "r"
    }
   },
   "outputs": [
    {
     "name": "stderr",
     "output_type": "stream",
     "text": [
      "ArchR logging to : ArchRLogs/ArchR-getMatrixFromProject-34d001675737ca-Date-2023-11-14_Time-16-21-44.179487.log\n",
      "If there is an issue, please report to github with logFile!\n",
      "\n",
      "2023-11-14 16:22:22.78913 : Organizing colData, 0.644 mins elapsed.\n",
      "\n",
      "2023-11-14 16:22:22.921831 : Organizing rowData, 0.646 mins elapsed.\n",
      "\n",
      "2023-11-14 16:22:22.959622 : Organizing rowRanges, 0.646 mins elapsed.\n",
      "\n",
      "2023-11-14 16:22:23.05748 : Organizing Assays (1 of 1), 0.648 mins elapsed.\n",
      "\n",
      "2023-11-14 16:22:28.472186 : Constructing SummarizedExperiment, 0.738 mins elapsed.\n",
      "\n",
      "2023-11-14 16:22:32.849986 : Finished Matrix Creation, 0.811 mins elapsed.\n",
      "\n"
     ]
    }
   ],
   "source": [
    "mtx <- getMatrixFromProject(\n",
    "    proj, \n",
    "    useMatrix=\"PeakMatrix\",\n",
    ")"
   ]
  },
  {
   "cell_type": "code",
   "execution_count": 38,
   "metadata": {
    "vscode": {
     "languageId": "r"
    }
   },
   "outputs": [
    {
     "data": {
      "text/html": [
       "<style>\n",
       ".list-inline {list-style: none; margin:0; padding: 0}\n",
       ".list-inline>li {display: inline-block}\n",
       ".list-inline>li:not(:last-child)::after {content: \"\\00b7\"; padding: 0 .5ex}\n",
       "</style>\n",
       "<ol class=list-inline><li>212166</li><li>14682</li></ol>\n"
      ],
      "text/latex": [
       "\\begin{enumerate*}\n",
       "\\item 212166\n",
       "\\item 14682\n",
       "\\end{enumerate*}\n"
      ],
      "text/markdown": [
       "1. 212166\n",
       "2. 14682\n",
       "\n",
       "\n"
      ],
      "text/plain": [
       "[1] 212166  14682"
      ]
     },
     "metadata": {},
     "output_type": "display_data"
    }
   ],
   "source": [
    "dim(mtx)"
   ]
  },
  {
   "cell_type": "code",
   "execution_count": 70,
   "metadata": {
    "vscode": {
     "languageId": "r"
    }
   },
   "outputs": [],
   "source": [
    "mtx_dir <- file.path(archr_proj_path, \"Matrices\", \"PeakMatrix\")\n",
    "if (!dir.exists(mtx_dir)) {\n",
    "    dir.create(mtx_dir)\n",
    "}"
   ]
  },
  {
   "cell_type": "code",
   "execution_count": 71,
   "metadata": {
    "vscode": {
     "languageId": "r"
    }
   },
   "outputs": [],
   "source": [
    "# Save the peak matrix\n",
    "library(Matrix)"
   ]
  },
  {
   "cell_type": "code",
   "execution_count": 72,
   "metadata": {
    "vscode": {
     "languageId": "r"
    }
   },
   "outputs": [],
   "source": [
    "# Make a list of regions based on the peakset chr:start-end\n",
    "regions <- paste0(\n",
    "    seqnames(peakset),\n",
    "    \":\",\n",
    "    start(peakset),\n",
    "    \"-\",\n",
    "    end(peakset)\n",
    ")"
   ]
  },
  {
   "cell_type": "code",
   "execution_count": 73,
   "metadata": {
    "vscode": {
     "languageId": "r"
    }
   },
   "outputs": [],
   "source": [
    "# Get the list of cellbarcodes from the ArchR project\n",
    "cells <- proj$cellNames"
   ]
  },
  {
   "cell_type": "code",
   "execution_count": 74,
   "metadata": {
    "vscode": {
     "languageId": "r"
    }
   },
   "outputs": [
    {
     "ename": "ERROR",
     "evalue": "Error in eval(expr, envir, enclos): no slot of name \"assays\" for this object of class \"dgCMatrix\"\n",
     "output_type": "error",
     "traceback": [
      "Error in eval(expr, envir, enclos): no slot of name \"assays\" for this object of class \"dgCMatrix\"\nTraceback:\n"
     ]
    }
   ],
   "source": [
    "mtx <- mtx@assays@data[[1]]"
   ]
  },
  {
   "cell_type": "code",
   "execution_count": 75,
   "metadata": {
    "vscode": {
     "languageId": "r"
    }
   },
   "outputs": [],
   "source": [
    "rownames(mtx) <- regions\n",
    "colnames(mtx) <- cells"
   ]
  },
  {
   "cell_type": "code",
   "execution_count": 78,
   "metadata": {
    "vscode": {
     "languageId": "r"
    }
   },
   "outputs": [
    {
     "data": {
      "text/plain": [
       "NULL"
      ]
     },
     "metadata": {},
     "output_type": "display_data"
    }
   ],
   "source": [
    "# Write out mtx.mtx, features.tsv, and barcodes.tsv\n",
    "writeMM(mtx, file.path(mtx_dir, \"mtx.mtx\"))\n",
    "write.table(rownames(mtx), file.path(mtx_dir, \"features.tsv\"), row.names=F, col.names=F, quote=F)\n",
    "write.table(colnames(mtx), file.path(mtx_dir, \"barcodes.tsv\"), row.names=F, col.names=F, quote=F)"
   ]
  },
  {
   "attachments": {},
   "cell_type": "markdown",
   "metadata": {},
   "source": [
    "# Saving group bw coverages"
   ]
  },
  {
   "cell_type": "code",
   "execution_count": 11,
   "metadata": {
    "vscode": {
     "languageId": "r"
    }
   },
   "outputs": [
    {
     "name": "stderr",
     "output_type": "stream",
     "text": [
      "ArchR logging to : ArchRLogs/ArchR-getGroupBW-3cc51d3d733bf4-Date-2024-01-12_Time-08-55-39.603901.log\n",
      "If there is an issue, please report to github with logFile!\n",
      "\n",
      "2024-01-12 08:55:58.038486 : other (1 of 5) : Creating BigWig for Group, 0.307 mins elapsed.\n",
      "\n",
      "2024-01-12 08:56:54.065108 : SC.alpha (2 of 5) : Creating BigWig for Group, 1.241 mins elapsed.\n",
      "\n",
      "2024-01-12 08:57:50.526167 : SC.beta (3 of 5) : Creating BigWig for Group, 2.182 mins elapsed.\n",
      "\n",
      "2024-01-12 08:58:49.872113 : SC.delta (4 of 5) : Creating BigWig for Group, 3.171 mins elapsed.\n",
      "\n",
      "2024-01-12 08:59:33.630328 : SC.EC (5 of 5) : Creating BigWig for Group, 3.9 mins elapsed.\n",
      "\n",
      "ArchR logging successful to : ArchRLogs/ArchR-getGroupBW-3cc51d3d733bf4-Date-2024-01-12_Time-08-55-39.603901.log\n",
      "\n"
     ]
    },
    {
     "data": {
      "text/html": [
       "<style>\n",
       ".list-inline {list-style: none; margin:0; padding: 0}\n",
       ".list-inline>li {display: inline-block}\n",
       ".list-inline>li:not(:last-child)::after {content: \"\\00b7\"; padding: 0 .5ex}\n",
       "</style>\n",
       "<ol class=list-inline><li>'/cellar/users/aklie/data/datasets/igvf_sc-islet_10X-Multiome/annotation/2023_11_15/timecourse/A2_control/archr/GroupBigWigs/rna_annotation/other-TileSize-100-normMethod-ReadsInTSS-ArchR.bw'</li><li>'/cellar/users/aklie/data/datasets/igvf_sc-islet_10X-Multiome/annotation/2023_11_15/timecourse/A2_control/archr/GroupBigWigs/rna_annotation/SC.alpha-TileSize-100-normMethod-ReadsInTSS-ArchR.bw'</li><li>'/cellar/users/aklie/data/datasets/igvf_sc-islet_10X-Multiome/annotation/2023_11_15/timecourse/A2_control/archr/GroupBigWigs/rna_annotation/SC.beta-TileSize-100-normMethod-ReadsInTSS-ArchR.bw'</li><li>'/cellar/users/aklie/data/datasets/igvf_sc-islet_10X-Multiome/annotation/2023_11_15/timecourse/A2_control/archr/GroupBigWigs/rna_annotation/SC.delta-TileSize-100-normMethod-ReadsInTSS-ArchR.bw'</li><li>'/cellar/users/aklie/data/datasets/igvf_sc-islet_10X-Multiome/annotation/2023_11_15/timecourse/A2_control/archr/GroupBigWigs/rna_annotation/SC.EC-TileSize-100-normMethod-ReadsInTSS-ArchR.bw'</li></ol>\n"
      ],
      "text/latex": [
       "\\begin{enumerate*}\n",
       "\\item '/cellar/users/aklie/data/datasets/igvf\\_sc-islet\\_10X-Multiome/annotation/2023\\_11\\_15/timecourse/A2\\_control/archr/GroupBigWigs/rna\\_annotation/other-TileSize-100-normMethod-ReadsInTSS-ArchR.bw'\n",
       "\\item '/cellar/users/aklie/data/datasets/igvf\\_sc-islet\\_10X-Multiome/annotation/2023\\_11\\_15/timecourse/A2\\_control/archr/GroupBigWigs/rna\\_annotation/SC.alpha-TileSize-100-normMethod-ReadsInTSS-ArchR.bw'\n",
       "\\item '/cellar/users/aklie/data/datasets/igvf\\_sc-islet\\_10X-Multiome/annotation/2023\\_11\\_15/timecourse/A2\\_control/archr/GroupBigWigs/rna\\_annotation/SC.beta-TileSize-100-normMethod-ReadsInTSS-ArchR.bw'\n",
       "\\item '/cellar/users/aklie/data/datasets/igvf\\_sc-islet\\_10X-Multiome/annotation/2023\\_11\\_15/timecourse/A2\\_control/archr/GroupBigWigs/rna\\_annotation/SC.delta-TileSize-100-normMethod-ReadsInTSS-ArchR.bw'\n",
       "\\item '/cellar/users/aklie/data/datasets/igvf\\_sc-islet\\_10X-Multiome/annotation/2023\\_11\\_15/timecourse/A2\\_control/archr/GroupBigWigs/rna\\_annotation/SC.EC-TileSize-100-normMethod-ReadsInTSS-ArchR.bw'\n",
       "\\end{enumerate*}\n"
      ],
      "text/markdown": [
       "1. '/cellar/users/aklie/data/datasets/igvf_sc-islet_10X-Multiome/annotation/2023_11_15/timecourse/A2_control/archr/GroupBigWigs/rna_annotation/other-TileSize-100-normMethod-ReadsInTSS-ArchR.bw'\n",
       "2. '/cellar/users/aklie/data/datasets/igvf_sc-islet_10X-Multiome/annotation/2023_11_15/timecourse/A2_control/archr/GroupBigWigs/rna_annotation/SC.alpha-TileSize-100-normMethod-ReadsInTSS-ArchR.bw'\n",
       "3. '/cellar/users/aklie/data/datasets/igvf_sc-islet_10X-Multiome/annotation/2023_11_15/timecourse/A2_control/archr/GroupBigWigs/rna_annotation/SC.beta-TileSize-100-normMethod-ReadsInTSS-ArchR.bw'\n",
       "4. '/cellar/users/aklie/data/datasets/igvf_sc-islet_10X-Multiome/annotation/2023_11_15/timecourse/A2_control/archr/GroupBigWigs/rna_annotation/SC.delta-TileSize-100-normMethod-ReadsInTSS-ArchR.bw'\n",
       "5. '/cellar/users/aklie/data/datasets/igvf_sc-islet_10X-Multiome/annotation/2023_11_15/timecourse/A2_control/archr/GroupBigWigs/rna_annotation/SC.EC-TileSize-100-normMethod-ReadsInTSS-ArchR.bw'\n",
       "\n",
       "\n"
      ],
      "text/plain": [
       "[1] \"/cellar/users/aklie/data/datasets/igvf_sc-islet_10X-Multiome/annotation/2023_11_15/timecourse/A2_control/archr/GroupBigWigs/rna_annotation/other-TileSize-100-normMethod-ReadsInTSS-ArchR.bw\"   \n",
       "[2] \"/cellar/users/aklie/data/datasets/igvf_sc-islet_10X-Multiome/annotation/2023_11_15/timecourse/A2_control/archr/GroupBigWigs/rna_annotation/SC.alpha-TileSize-100-normMethod-ReadsInTSS-ArchR.bw\"\n",
       "[3] \"/cellar/users/aklie/data/datasets/igvf_sc-islet_10X-Multiome/annotation/2023_11_15/timecourse/A2_control/archr/GroupBigWigs/rna_annotation/SC.beta-TileSize-100-normMethod-ReadsInTSS-ArchR.bw\" \n",
       "[4] \"/cellar/users/aklie/data/datasets/igvf_sc-islet_10X-Multiome/annotation/2023_11_15/timecourse/A2_control/archr/GroupBigWigs/rna_annotation/SC.delta-TileSize-100-normMethod-ReadsInTSS-ArchR.bw\"\n",
       "[5] \"/cellar/users/aklie/data/datasets/igvf_sc-islet_10X-Multiome/annotation/2023_11_15/timecourse/A2_control/archr/GroupBigWigs/rna_annotation/SC.EC-TileSize-100-normMethod-ReadsInTSS-ArchR.bw\"   "
      ]
     },
     "metadata": {},
     "output_type": "display_data"
    }
   ],
   "source": [
    "getGroupBW(\n",
    "  ArchRProj = proj,\n",
    "  groupBy = \"rna_annotation\",\n",
    "  normMethod = \"ReadsInTSS\",\n",
    "  tileSize = 100,\n",
    "  maxCells = 1000,\n",
    "  ceiling = 4,\n",
    "  verbose = TRUE,\n",
    "  threads = getArchRThreads(),\n",
    "  logFile = createLogFile(\"getGroupBW\")\n",
    ")"
   ]
  },
  {
   "attachments": {},
   "cell_type": "markdown",
   "metadata": {},
   "source": [
    "# Saving ArchR project"
   ]
  },
  {
   "cell_type": "code",
   "execution_count": null,
   "metadata": {
    "vscode": {
     "languageId": "r"
    }
   },
   "outputs": [],
   "source": [
    "# Save object with new stuff added\n",
    "print(\"Saving ArchR project\\n\")\n",
    "saveArchRProject(\n",
    "  ArchRProj = proj,\n",
    "  outputDirectory = \"./\",\n",
    ")"
   ]
  },
  {
   "attachments": {},
   "cell_type": "markdown",
   "metadata": {},
   "source": []
  }
 ],
 "metadata": {
  "kernelspec": {
   "display_name": "R 4.3.3 scverse",
   "language": "R",
   "name": "scverse-r433"
  },
  "language_info": {
   "codemirror_mode": "r",
   "file_extension": ".r",
   "mimetype": "text/x-r-source",
   "name": "R",
   "pygments_lexer": "r",
   "version": "4.3.1"
  },
  "orig_nbformat": 4
 },
 "nbformat": 4,
 "nbformat_minor": 2
}
