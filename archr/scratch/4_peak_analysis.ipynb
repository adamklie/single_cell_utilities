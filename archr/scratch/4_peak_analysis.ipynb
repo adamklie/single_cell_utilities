{
 "cells": [
  {
   "attachments": {},
   "cell_type": "markdown",
   "metadata": {},
   "source": [
    "# ArchR peak analysis\n",
    "**Author**: Adam Klie (last modified: 11/06/2023)<br>\n",
    "***\n",
    "**Description**: This script runs "
   ]
  },
  {
   "cell_type": "code",
   "execution_count": 1,
   "metadata": {
    "vscode": {
     "languageId": "r"
    }
   },
   "outputs": [
    {
     "name": "stderr",
     "output_type": "stream",
     "text": [
      "Warning message:\n",
      "“package ‘S4Vectors’ was built under R version 4.3.2”\n",
      "Warning message:\n",
      "“package ‘BiocGenerics’ was built under R version 4.3.2”\n",
      "Warning message:\n",
      "“package ‘GenomicRanges’ was built under R version 4.3.2”\n",
      "Warning message:\n",
      "“package ‘IRanges’ was built under R version 4.3.2”\n",
      "Warning message:\n",
      "“package ‘GenomeInfoDb’ was built under R version 4.3.2”\n",
      "Warning message:\n",
      "“package ‘SummarizedExperiment’ was built under R version 4.3.2”\n",
      "Warning message:\n",
      "“package ‘MatrixGenerics’ was built under R version 4.3.2”\n",
      "Warning message:\n",
      "“package ‘Biobase’ was built under R version 4.3.2”\n",
      "Warning message:\n",
      "“package ‘BSgenome’ was built under R version 4.3.2”\n",
      "Warning message:\n",
      "“package ‘Biostrings’ was built under R version 4.3.2”\n",
      "Warning message:\n",
      "“package ‘XVector’ was built under R version 4.3.2”\n",
      "Warning message:\n",
      "“package ‘BiocIO’ was built under R version 4.3.2”\n",
      "Warning message:\n",
      "“package ‘rtracklayer’ was built under R version 4.3.2”\n"
     ]
    }
   ],
   "source": [
    "# Load libraries\n",
    "suppressMessages(library(Seurat))\n",
    "suppressMessages(library(ArchR))\n",
    "suppressMessages(library(parallel))\n",
    "suppressMessages(library(tidyverse))\n",
    "suppressMessages(library(BSgenome.Hsapiens.UCSC.hg38))\n",
    "suppressMessages(library(rtracklayer))\n",
    "suppressMessages(library(GenomicRanges))"
   ]
  },
  {
   "cell_type": "code",
   "execution_count": 2,
   "metadata": {
    "vscode": {
     "languageId": "r"
    }
   },
   "outputs": [],
   "source": [
    "# Params\n",
    "archr_proj_path = \"/cellar/users/aklie/data/datasets/igvf_sc-islet_10X-Multiome/annotation/2024_01_20/condition_within_batch/ext4/archr\"\n",
    "threads = 4\n",
    "seed = 1234"
   ]
  },
  {
   "cell_type": "code",
   "execution_count": 3,
   "metadata": {
    "vscode": {
     "languageId": "r"
    }
   },
   "outputs": [
    {
     "name": "stderr",
     "output_type": "stream",
     "text": [
      "Setting default number of Parallel threads to 4.\n",
      "\n"
     ]
    }
   ],
   "source": [
    "# Move the working directory \n",
    "set.seed(seed)\n",
    "addArchRThreads(threads)\n",
    "setwd(archr_proj_path)"
   ]
  },
  {
   "attachments": {},
   "cell_type": "markdown",
   "metadata": {},
   "source": [
    "The precompiled version of the hg38 genome in ArchR uses BSgenome.Hsapiens.UCSC.hg38, TxDb.Hsapiens.UCSC.hg38.knownGene, org.Hs.eg.db, and a blacklist that was merged using ArchR::mergeGR() from the hg38 v2 blacklist regions and from mitochondrial regions that show high mappability to the hg38 nuclear genome from Caleb Lareau and Jason Buenrostro. To set a global genome default to the precompiled hg38 genome:"
   ]
  },
  {
   "cell_type": "code",
   "execution_count": 4,
   "metadata": {
    "vscode": {
     "languageId": "r"
    }
   },
   "outputs": [
    {
     "name": "stderr",
     "output_type": "stream",
     "text": [
      "Setting default genome to Hg38.\n",
      "\n"
     ]
    }
   ],
   "source": [
    "# Add annotation\n",
    "addArchRGenome(\"hg38\")"
   ]
  },
  {
   "attachments": {},
   "cell_type": "markdown",
   "metadata": {},
   "source": [
    "# Load the ArchR project"
   ]
  },
  {
   "cell_type": "code",
   "execution_count": 5,
   "metadata": {
    "vscode": {
     "languageId": "r"
    }
   },
   "outputs": [
    {
     "name": "stderr",
     "output_type": "stream",
     "text": [
      "Successfully loaded ArchRProject!\n",
      "\n",
      "\n",
      "                                                   / |\n",
      "                                                 /    \\\n",
      "            .                                  /      |.\n",
      "            \\\\\\                              /        |.\n",
      "              \\\\\\                          /           `|.\n",
      "                \\\\\\                      /              |.\n",
      "                  \\                    /                |\\\n",
      "                  \\\\#####\\           /                  ||\n",
      "                ==###########>      /                   ||\n",
      "                 \\\\##==......\\    /                     ||\n",
      "            ______ =       =|__ /__                     ||      \\\\\\\n",
      "        ,--' ,----`-,__ ___/'  --,-`-===================##========>\n",
      "       \\               '        ##_______ _____ ,--,__,=##,__   ///\n",
      "        ,    __==    ___,-,__,--'#'  ==='      `-'    | ##,-/\n",
      "        -,____,---'       \\\\####\\\\________________,--\\\\_##,/\n",
      "           ___      .______        ______  __    __  .______      \n",
      "          /   \\     |   _  \\      /      ||  |  |  | |   _  \\     \n",
      "         /  ^  \\    |  |_)  |    |  ,----'|  |__|  | |  |_)  |    \n",
      "        /  /_\\  \\   |      /     |  |     |   __   | |      /     \n",
      "       /  _____  \\  |  |\\  \\\\___ |  `----.|  |  |  | |  |\\  \\\\___.\n",
      "      /__/     \\__\\ | _| `._____| \\______||__|  |__| | _| `._____|\n",
      "    \n",
      "\n",
      "\n",
      "           ___      .______        ______  __    __  .______      \n",
      "          /   \\     |   _  \\      /      ||  |  |  | |   _  \\     \n",
      "         /  ^  \\    |  |_)  |    |  ,----'|  |__|  | |  |_)  |    \n",
      "        /  /_\\  \\   |      /     |  |     |   __   | |      /     \n",
      "       /  _____  \\  |  |\\  \\\\___ |  `----.|  |  |  | |  |\\  \\\\___.\n",
      "      /__/     \\__\\ | _| `._____| \\______||__|  |__| | _| `._____|\n",
      "    \n",
      "\n"
     ]
    },
    {
     "data": {
      "text/plain": [
       "class: ArchRProject \n",
       "outputDirectory: /cellar/users/aklie/data/datasets/igvf_sc-islet_10X-Multiome/annotation/2024_01_20/condition_within_batch/ext4/archr \n",
       "samples(7): dm44a dm34a ... dm14b dm24a\n",
       "sampleColData names(1): ArrowFiles\n",
       "cellColData names(23): Sample TSSEnrichment ... ReadsInPeaks FRIP\n",
       "numberOfCells(1): 25434\n",
       "medianTSS(1): 12.395\n",
       "medianFrags(1): 20673"
      ]
     },
     "metadata": {},
     "output_type": "display_data"
    }
   ],
   "source": [
    "# Load the ArchR project\n",
    "proj = loadArchRProject(path = \"./\")\n",
    "proj"
   ]
  },
  {
   "cell_type": "code",
   "execution_count": 6,
   "metadata": {
    "vscode": {
     "languageId": "r"
    }
   },
   "outputs": [
    {
     "name": "stderr",
     "output_type": "stream",
     "text": [
      "ArchR logging to : ArchRLogs/ArchR-getMarkerFeatures-11cbeb53733337-Date-2024-01-21_Time-13-00-52.1372.log\n",
      "If there is an issue, please report to github with logFile!\n",
      "\n"
     ]
    },
    {
     "name": "stderr",
     "output_type": "stream",
     "text": [
      "MatrixClass = Sparse.Integer.Matrix\n",
      "\n",
      "2024-01-21 13:00:58.499684 : Matching Known Biases, 0.074 mins elapsed.\n",
      "\n",
      "###########\n",
      "2024-01-21 13:03:23.026059 : Completed Pairwise Tests, 2.483 mins elapsed.\n",
      "###########\n",
      "\n",
      "ArchR logging successful to : ArchRLogs/ArchR-getMarkerFeatures-11cbeb53733337-Date-2024-01-21_Time-13-00-52.1372.log\n",
      "\n"
     ]
    }
   ],
   "source": [
    "# Get the actual marker peaks per annotation\n",
    "markersPeaks <- getMarkerFeatures(\n",
    "    ArchRProj = proj, \n",
    "    useMatrix = \"PeakMatrix\", \n",
    "    groupBy = \"rna_annotation\",\n",
    "    bias = c(\"TSSEnrichment\", \"log10(nFrags)\"),\n",
    "    testMethod = \"wilcoxon\"\n",
    ")"
   ]
  },
  {
   "cell_type": "code",
   "execution_count": 7,
   "metadata": {
    "vscode": {
     "languageId": "r"
    }
   },
   "outputs": [],
   "source": [
    "# Example of how to grab some\n",
    "markerList <- getMarkers(markersPeaks, cutOff = \"FDR <= 0.10 & Log2FC >= 0.5\")"
   ]
  },
  {
   "cell_type": "code",
   "execution_count": 8,
   "metadata": {
    "vscode": {
     "languageId": "r"
    }
   },
   "outputs": [
    {
     "name": "stderr",
     "output_type": "stream",
     "text": [
      "Warning message:\n",
      "“'markerHeatmap' is deprecated.\n",
      "Use 'plotMarkerHeatmap' instead.\n",
      "See help(\"Deprecated\")”\n",
      "ArchR logging to : ArchRLogs/ArchR-plotMarkerHeatmap-11cbeb695521eb-Date-2024-01-21_Time-13-03-27.706672.log\n",
      "If there is an issue, please report to github with logFile!\n",
      "\n",
      "Identified 137 markers!\n",
      "\n"
     ]
    },
    {
     "name": "stdout",
     "output_type": "stream",
     "text": [
      " [1] \"chr1:9689260-9689760\"      \"chr1:11454091-11454591\"   \n",
      " [3] \"chr1:16608311-16608811\"    \"chr1:23530668-23531168\"   \n",
      " [5] \"chr1:47881810-47882310\"    \"chr1:64118598-64119098\"   \n",
      " [7] \"chr1:168260396-168260896\"  \"chr1:178726118-178726618\" \n",
      " [9] \"chr1:208349782-208350282\"  \"chr1:232704727-232705227\" \n",
      "[11] \"chr10:17206225-17206725\"   \"chr10:25758029-25758529\"  \n",
      "[13] \"chr10:59283449-59283949\"   \"chr10:71076304-71076804\"  \n",
      "[15] \"chr10:75956563-75957063\"   \"chr16:2979772-2980272\"    \n",
      "[17] \"chr19:4909152-4909652\"     \"chr22:38570134-38570634\"  \n",
      "[19] \"chr6:20212356-20212856\"    \"chr11:119481251-119481751\"\n",
      "[21] \"chr12:109530274-109530774\" \"chr14:73462135-73462635\"  \n",
      "[23] \"chr15:73810072-73810572\"   \"chr19:15418938-15419438\"  \n",
      "[25] \"chr2:30231207-30231707\"    \"chr2:85993863-85994363\"   \n",
      "[27] \"chr2:191434082-191434582\"  \"chr20:45923924-45924424\"  \n",
      "[29] \"chr6:11044106-11044606\"    \"chr7:108358484-108358984\" \n",
      "[31] \"chr8:2997809-2998309\"      \"chr10:97325701-97326201\"  \n",
      "[33] \"chr11:2154853-2155353\"     \"chr11:2158897-2159397\"    \n",
      "[35] \"chr11:2161021-2161521\"     \"chr11:2410019-2410519\"    \n",
      "[37] \"chr11:8258760-8259260\"     \"chr11:33449735-33450235\"  \n",
      "[39] \"chr11:66100652-66101152\"   \"chr10:76282149-76282649\"  \n",
      "[41] \"chr11:18046049-18046549\"   \"chr11:18071078-18071578\"  \n",
      "[43] \"chr11:32511832-32512332\"   \"chr11:117907124-117907624\"\n",
      "[45] \"chr12:26523632-26524132\"   \"chr12:31749124-31749624\"  \n",
      "[47] \"chr13:89807577-89808077\"   \"chr13:97241712-97242212\"  \n",
      "[49] \"chr13:97257754-97258254\"   \"chr14:92927738-92928238\"  \n"
     ]
    },
    {
     "name": "stderr",
     "output_type": "stream",
     "text": [
      "Warning message:\n",
      "“package ‘ComplexHeatmap’ was built under R version 4.3.2”\n",
      "Adding Annotations..\n",
      "\n",
      "Preparing Main Heatmap..\n",
      "\n",
      "'magick' package is suggested to install to give better rasterization.\n",
      "\n",
      "Set `ht_opt$message = FALSE` to turn off this message.\n",
      "\n",
      "ArchR logging successful to : ArchRLogs/ArchR-plotMarkerHeatmap-11cbeb695521eb-Date-2024-01-21_Time-13-03-27.706672.log\n",
      "\n"
     ]
    }
   ],
   "source": [
    "# Heatmap of marker peaks\n",
    "heatmapPeaks <- markerHeatmap(\n",
    "  seMarker = markersPeaks, \n",
    "  cutOff = \"FDR <= 0.10 & Log2FC >= 0.5\", \n",
    "  transpose = TRUE\n",
    ")"
   ]
  },
  {
   "cell_type": "code",
   "execution_count": 9,
   "metadata": {
    "vscode": {
     "languageId": "r"
    }
   },
   "outputs": [
    {
     "name": "stderr",
     "output_type": "stream",
     "text": [
      "Plotting ComplexHeatmap!\n",
      "\n"
     ]
    }
   ],
   "source": [
    "# Make PDF\n",
    "plotPDF(heatmapPeaks, name = \"Peak-Marker-Heatmap\", width = 8, height = 6, ArchRProj = proj, addDOC = FALSE)"
   ]
  },
  {
   "cell_type": "code",
   "execution_count": 10,
   "metadata": {
    "vscode": {
     "languageId": "r"
    }
   },
   "outputs": [
    {
     "name": "stderr",
     "output_type": "stream",
     "text": [
      "ArchR logging to : ArchRLogs/ArchR-addMotifAnnotations-11cbeb62e1ea41-Date-2024-01-21_Time-13-03-37.788342.log\n",
      "If there is an issue, please report to github with logFile!\n",
      "\n",
      "2024-01-21 13:03:49.218195 : Gettting Motif Set, Species : Homo sapiens, 0.032 mins elapsed.\n",
      "\n",
      "Using version 2 motifs!\n",
      "\n",
      "2024-01-21 13:03:57.986789 : Finding Motif Positions with motifmatchr!, 0.178 mins elapsed.\n",
      "\n",
      "2024-01-21 13:09:18.322608 : All Motifs Overlap at least 1 peak!, 5.517 mins elapsed.\n",
      "\n",
      "2024-01-21 13:09:18.329406 : Creating Motif Overlap Matrix, 5.517 mins elapsed.\n",
      "\n",
      "2024-01-21 13:09:21.612376 : Finished Getting Motif Info!, 5.572 mins elapsed.\n",
      "\n",
      "ArchR logging successful to : ArchRLogs/ArchR-addMotifAnnotations-11cbeb62e1ea41-Date-2024-01-21_Time-13-03-37.788342.log\n",
      "\n"
     ]
    }
   ],
   "source": [
    "# Add motif annotations\n",
    "proj <- addMotifAnnotations(ArchRProj = proj, motifSet = \"cisbp\", name = \"Motif\")"
   ]
  },
  {
   "cell_type": "code",
   "execution_count": 13,
   "metadata": {
    "vscode": {
     "languageId": "r"
    }
   },
   "outputs": [
    {
     "data": {
      "text/plain": [
       "condition\n",
       "control    Ex-4 \n",
       "  11395   14039 "
      ]
     },
     "metadata": {},
     "output_type": "display_data"
    }
   ],
   "source": [
    "table(getCellColData(proj, select = c(\"condition\")))"
   ]
  },
  {
   "cell_type": "code",
   "execution_count": 14,
   "metadata": {
    "vscode": {
     "languageId": "r"
    }
   },
   "outputs": [
    {
     "name": "stderr",
     "output_type": "stream",
     "text": [
      "ArchR logging to : ArchRLogs/ArchR-getMarkerFeatures-11cbeb2cae8954-Date-2024-01-21_Time-13-13-09.436042.log\n",
      "If there is an issue, please report to github with logFile!\n",
      "\n"
     ]
    },
    {
     "name": "stderr",
     "output_type": "stream",
     "text": [
      "MatrixClass = Sparse.Integer.Matrix\n",
      "\n",
      "2024-01-21 13:13:11.887894 : Matching Known Biases, 0.007 mins elapsed.\n",
      "\n",
      "2024-01-21 13:13:15.773884 : Computing Pairwise Tests (1 of 1), 0.072 mins elapsed.\n",
      "\n",
      "Pairwise Test Ex-4 : Seqnames chr1\n",
      "\n"
     ]
    },
    {
     "name": "stdout",
     "output_type": "stream",
     "text": [
      "\n",
      "************************************************************\n",
      "2024-01-21 13:13:19.858452 : ERROR Found in .sparseMatWilcoxon for chr1 \n",
      "LogFile = ArchRLogs/ArchR-getMarkerFeatures-11cbeb2cae8954-Date-2024-01-21_Time-13-13-09.436042.log\n",
      "\n",
      "<simpleError in .local(x, na.rm, dims, ...): object 'R_sparse_marginsum' not found>\n",
      "\n",
      "************************************************************\n",
      "\n"
     ]
    }
   ],
   "source": [
    "markerTest <- getMarkerFeatures(\n",
    "  ArchRProj = proj,\n",
    "  useMatrix = \"PeakMatrix\",\n",
    "  groupBy = \"condition\",\n",
    "  testMethod = \"wilcoxon\",\n",
    "  bias = c(\"TSSEnrichment\", \"log10(nFrags)\"),\n",
    "  useGroups = \"Ex-4\",\n",
    "  bgdGroups = \"control\"\n",
    ")"
   ]
  },
  {
   "cell_type": "code",
   "execution_count": 70,
   "metadata": {
    "vscode": {
     "languageId": "r"
    }
   },
   "outputs": [
    {
     "name": "stderr",
     "output_type": "stream",
     "text": [
      "Warning message:\n",
      "“'markerPlot' is deprecated.\n",
      "Use 'plotMarkers' instead.\n",
      "See help(\"Deprecated\")”\n"
     ]
    },
    {
     "ename": "ERROR",
     "evalue": "Error in eval(expr, envir, enclos): object 'markerTest' not found\n",
     "output_type": "error",
     "traceback": [
      "Error in eval(expr, envir, enclos): object 'markerTest' not found\nTraceback:\n",
      "1. markerPlot(seMarker = markerTest, name = \"ext4\", cutOff = \"FDR <= 0.1 & abs(Log2FC) >= 1\", \n .     plotAs = \"MA\")",
      "2. plotMarkers(...)",
      "3. .validInput(input = seMarker, name = \"seMarker\", valid = c(\"SummarizedExperiment\"))",
      "4. is(input, \"SummarizedExperiment\")"
     ]
    }
   ],
   "source": [
    "pma <- markerPlot(seMarker = markerTest, name = \"ext4\", cutOff = \"FDR <= 0.1 & abs(Log2FC) >= 1\", plotAs = \"MA\")\n",
    "pma"
   ]
  },
  {
   "cell_type": "code",
   "execution_count": null,
   "metadata": {
    "vscode": {
     "languageId": "r"
    }
   },
   "outputs": [],
   "source": [
    "pv <- markerPlot(seMarker = markerTest, name = \"ext4\", cutOff = \"FDR <= 0.1 & abs(Log2FC) >= 1\", plotAs = \"Volcano\")\n",
    "pv"
   ]
  },
  {
   "cell_type": "code",
   "execution_count": null,
   "metadata": {
    "vscode": {
     "languageId": "r"
    }
   },
   "outputs": [],
   "source": []
  }
 ],
 "metadata": {
  "kernelspec": {
   "display_name": "R 4.3.3 scverse",
   "language": "R",
   "name": "scverse-r433"
  },
  "language_info": {
   "codemirror_mode": "r",
   "file_extension": ".r",
   "mimetype": "text/x-r-source",
   "name": "R",
   "pygments_lexer": "r",
   "version": "4.3.1"
  },
  "orig_nbformat": 4
 },
 "nbformat": 4,
 "nbformat_minor": 2
}
